{
 "cells": [
  {
   "cell_type": "code",
   "execution_count": 2,
   "metadata": {
    "collapsed": true,
    "focus": false,
    "id": "13018c95-3582-460f-ba8e-4910f7089e11",
    "slideshow": {
     "slide_type": "subslide"
    }
   },
   "outputs": [],
   "source": [
    "% matplotlib inline\n",
    "import matplotlib.pyplot as plt\n",
    "import datetime\n",
    "import numpy as np\n",
    "import pandas as pd\n",
    "from scipy import stats\n",
    "import seaborn as sns\n",
    "from sklearn import datasets\n",
    "from sklearn.model_selection import train_test_split, KFold, cross_val_score\n",
    "from sklearn.linear_model import LinearRegression, Lasso, LassoCV, Ridge, RidgeCV\n",
    "from sklearn.preprocessing import PolynomialFeatures, StandardScaler\n",
    "from sklearn.metrics import mean_squared_error, r2_score\n",
    "from IPython.display import display\n",
    "from sklearn import metrics"
   ]
  },
  {
   "cell_type": "code",
   "execution_count": 3,
   "metadata": {
    "focus": false,
    "id": "80c8956f-2e08-49b5-90c6-f97c6a9676ad",
    "slideshow": {
     "slide_type": "slide"
    }
   },
   "outputs": [
    {
     "name": "stdout",
     "output_type": "stream",
     "text": [
      "Index(['Unnamed: 0', 'operation', 'property_type', 'place_name',\n",
      "       'place_with_parent_names', 'country_name', 'state_name', 'geonames_id',\n",
      "       'lat-lon', 'lat', 'lon', 'price', 'currency',\n",
      "       'price_aprox_local_currency', 'price_aprox_usd', 'surface_total_in_m2',\n",
      "       'surface_covered_in_m2', 'price_usd_per_m2', 'price_per_m2', 'floor',\n",
      "       'rooms', 'expenses', 'properati_url', 'description', 'title',\n",
      "       'image_thumbnail'],\n",
      "      dtype='object')\n"
     ]
    },
    {
     "data": {
      "text/html": [
       "<div>\n",
       "<style>\n",
       "    .dataframe thead tr:only-child th {\n",
       "        text-align: right;\n",
       "    }\n",
       "\n",
       "    .dataframe thead th {\n",
       "        text-align: left;\n",
       "    }\n",
       "\n",
       "    .dataframe tbody tr th {\n",
       "        vertical-align: top;\n",
       "    }\n",
       "</style>\n",
       "<table border=\"1\" class=\"dataframe\">\n",
       "  <thead>\n",
       "    <tr style=\"text-align: right;\">\n",
       "      <th></th>\n",
       "      <th>Unnamed: 0</th>\n",
       "      <th>operation</th>\n",
       "      <th>property_type</th>\n",
       "      <th>place_name</th>\n",
       "      <th>place_with_parent_names</th>\n",
       "      <th>country_name</th>\n",
       "      <th>state_name</th>\n",
       "      <th>geonames_id</th>\n",
       "      <th>lat-lon</th>\n",
       "      <th>lat</th>\n",
       "      <th>...</th>\n",
       "      <th>surface_covered_in_m2</th>\n",
       "      <th>price_usd_per_m2</th>\n",
       "      <th>price_per_m2</th>\n",
       "      <th>floor</th>\n",
       "      <th>rooms</th>\n",
       "      <th>expenses</th>\n",
       "      <th>properati_url</th>\n",
       "      <th>description</th>\n",
       "      <th>title</th>\n",
       "      <th>image_thumbnail</th>\n",
       "    </tr>\n",
       "  </thead>\n",
       "  <tbody>\n",
       "    <tr>\n",
       "      <th>0</th>\n",
       "      <td>0</td>\n",
       "      <td>sell</td>\n",
       "      <td>PH</td>\n",
       "      <td>Mataderos</td>\n",
       "      <td>|Argentina|Capital Federal|Mataderos|</td>\n",
       "      <td>Argentina</td>\n",
       "      <td>Capital Federal</td>\n",
       "      <td>3430787.0</td>\n",
       "      <td>-34.6618237,-58.5088387</td>\n",
       "      <td>-34.661824</td>\n",
       "      <td>...</td>\n",
       "      <td>40.0</td>\n",
       "      <td>1127.272727</td>\n",
       "      <td>1550.000000</td>\n",
       "      <td>NaN</td>\n",
       "      <td>NaN</td>\n",
       "      <td>NaN</td>\n",
       "      <td>http://www.properati.com.ar/15bo8_venta_ph_mat...</td>\n",
       "      <td>2 AMBIENTES TIPO CASA PLANTA BAJA POR PASILLO,...</td>\n",
       "      <td>2 AMB TIPO CASA SIN EXPENSAS EN PB</td>\n",
       "      <td>https://thumbs4.properati.com/8/BluUYiHJLhgIIK...</td>\n",
       "    </tr>\n",
       "    <tr>\n",
       "      <th>1</th>\n",
       "      <td>1</td>\n",
       "      <td>sell</td>\n",
       "      <td>apartment</td>\n",
       "      <td>La Plata</td>\n",
       "      <td>|Argentina|Bs.As. G.B.A. Zona Sur|La Plata|</td>\n",
       "      <td>Argentina</td>\n",
       "      <td>Bs.As. G.B.A. Zona Sur</td>\n",
       "      <td>3432039.0</td>\n",
       "      <td>-34.9038831,-57.9643295</td>\n",
       "      <td>-34.903883</td>\n",
       "      <td>...</td>\n",
       "      <td>NaN</td>\n",
       "      <td>NaN</td>\n",
       "      <td>NaN</td>\n",
       "      <td>NaN</td>\n",
       "      <td>NaN</td>\n",
       "      <td>NaN</td>\n",
       "      <td>http://www.properati.com.ar/15bob_venta_depart...</td>\n",
       "      <td>Venta de departamento en décimo piso al frente...</td>\n",
       "      <td>VENTA Depto 2 dorm. a estrenar 7 e/ 36 y 37   ...</td>\n",
       "      <td>https://thumbs4.properati.com/7/ikpVBu2ztHA7jv...</td>\n",
       "    </tr>\n",
       "    <tr>\n",
       "      <th>2</th>\n",
       "      <td>2</td>\n",
       "      <td>sell</td>\n",
       "      <td>apartment</td>\n",
       "      <td>Mataderos</td>\n",
       "      <td>|Argentina|Capital Federal|Mataderos|</td>\n",
       "      <td>Argentina</td>\n",
       "      <td>Capital Federal</td>\n",
       "      <td>3430787.0</td>\n",
       "      <td>-34.6522615,-58.5229825</td>\n",
       "      <td>-34.652262</td>\n",
       "      <td>...</td>\n",
       "      <td>55.0</td>\n",
       "      <td>1309.090909</td>\n",
       "      <td>1309.090909</td>\n",
       "      <td>NaN</td>\n",
       "      <td>NaN</td>\n",
       "      <td>NaN</td>\n",
       "      <td>http://www.properati.com.ar/15bod_venta_depart...</td>\n",
       "      <td>2 AMBIENTES 3ER PISO LATERAL LIVING COMEDOR AM...</td>\n",
       "      <td>2 AMB 3ER PISO CON ASCENSOR APTO CREDITO</td>\n",
       "      <td>https://thumbs4.properati.com/5/SXKr34F_IwG3W_...</td>\n",
       "    </tr>\n",
       "    <tr>\n",
       "      <th>3</th>\n",
       "      <td>3</td>\n",
       "      <td>sell</td>\n",
       "      <td>PH</td>\n",
       "      <td>Liniers</td>\n",
       "      <td>|Argentina|Capital Federal|Liniers|</td>\n",
       "      <td>Argentina</td>\n",
       "      <td>Capital Federal</td>\n",
       "      <td>3431333.0</td>\n",
       "      <td>-34.6477969,-58.5164244</td>\n",
       "      <td>-34.647797</td>\n",
       "      <td>...</td>\n",
       "      <td>NaN</td>\n",
       "      <td>NaN</td>\n",
       "      <td>NaN</td>\n",
       "      <td>NaN</td>\n",
       "      <td>NaN</td>\n",
       "      <td>NaN</td>\n",
       "      <td>http://www.properati.com.ar/15boh_venta_ph_lin...</td>\n",
       "      <td>PH 3 ambientes con patio. Hay 3 deptos en lote...</td>\n",
       "      <td>PH 3 amb. cfte. reciclado</td>\n",
       "      <td>https://thumbs4.properati.com/3/DgIfX-85Mog5SP...</td>\n",
       "    </tr>\n",
       "    <tr>\n",
       "      <th>4</th>\n",
       "      <td>4</td>\n",
       "      <td>sell</td>\n",
       "      <td>apartment</td>\n",
       "      <td>Centro</td>\n",
       "      <td>|Argentina|Buenos Aires Costa Atlántica|Mar de...</td>\n",
       "      <td>Argentina</td>\n",
       "      <td>Buenos Aires Costa Atlántica</td>\n",
       "      <td>3435548.0</td>\n",
       "      <td>-38.0026256,-57.5494468</td>\n",
       "      <td>-38.002626</td>\n",
       "      <td>...</td>\n",
       "      <td>35.0</td>\n",
       "      <td>1828.571429</td>\n",
       "      <td>1828.571429</td>\n",
       "      <td>NaN</td>\n",
       "      <td>NaN</td>\n",
       "      <td>NaN</td>\n",
       "      <td>http://www.properati.com.ar/15bok_venta_depart...</td>\n",
       "      <td>DEPARTAMENTO CON FANTÁSTICA ILUMINACIÓN NATURA...</td>\n",
       "      <td>DEPTO 2 AMB AL CONTRAFRENTE ZONA CENTRO/PLAZA ...</td>\n",
       "      <td>https://thumbs4.properati.com/5/xrRqlNcSI_vs-f...</td>\n",
       "    </tr>\n",
       "  </tbody>\n",
       "</table>\n",
       "<p>5 rows × 26 columns</p>\n",
       "</div>"
      ],
      "text/plain": [
       "   Unnamed: 0 operation property_type place_name  \\\n",
       "0           0      sell            PH  Mataderos   \n",
       "1           1      sell     apartment   La Plata   \n",
       "2           2      sell     apartment  Mataderos   \n",
       "3           3      sell            PH    Liniers   \n",
       "4           4      sell     apartment     Centro   \n",
       "\n",
       "                             place_with_parent_names country_name  \\\n",
       "0              |Argentina|Capital Federal|Mataderos|    Argentina   \n",
       "1        |Argentina|Bs.As. G.B.A. Zona Sur|La Plata|    Argentina   \n",
       "2              |Argentina|Capital Federal|Mataderos|    Argentina   \n",
       "3                |Argentina|Capital Federal|Liniers|    Argentina   \n",
       "4  |Argentina|Buenos Aires Costa Atlántica|Mar de...    Argentina   \n",
       "\n",
       "                     state_name  geonames_id                  lat-lon  \\\n",
       "0               Capital Federal    3430787.0  -34.6618237,-58.5088387   \n",
       "1        Bs.As. G.B.A. Zona Sur    3432039.0  -34.9038831,-57.9643295   \n",
       "2               Capital Federal    3430787.0  -34.6522615,-58.5229825   \n",
       "3               Capital Federal    3431333.0  -34.6477969,-58.5164244   \n",
       "4  Buenos Aires Costa Atlántica    3435548.0  -38.0026256,-57.5494468   \n",
       "\n",
       "         lat                        ...                          \\\n",
       "0 -34.661824                        ...                           \n",
       "1 -34.903883                        ...                           \n",
       "2 -34.652262                        ...                           \n",
       "3 -34.647797                        ...                           \n",
       "4 -38.002626                        ...                           \n",
       "\n",
       "   surface_covered_in_m2  price_usd_per_m2 price_per_m2  floor  rooms  \\\n",
       "0                   40.0       1127.272727  1550.000000    NaN    NaN   \n",
       "1                    NaN               NaN          NaN    NaN    NaN   \n",
       "2                   55.0       1309.090909  1309.090909    NaN    NaN   \n",
       "3                    NaN               NaN          NaN    NaN    NaN   \n",
       "4                   35.0       1828.571429  1828.571429    NaN    NaN   \n",
       "\n",
       "   expenses                                      properati_url  \\\n",
       "0       NaN  http://www.properati.com.ar/15bo8_venta_ph_mat...   \n",
       "1       NaN  http://www.properati.com.ar/15bob_venta_depart...   \n",
       "2       NaN  http://www.properati.com.ar/15bod_venta_depart...   \n",
       "3       NaN  http://www.properati.com.ar/15boh_venta_ph_lin...   \n",
       "4       NaN  http://www.properati.com.ar/15bok_venta_depart...   \n",
       "\n",
       "                                         description  \\\n",
       "0  2 AMBIENTES TIPO CASA PLANTA BAJA POR PASILLO,...   \n",
       "1  Venta de departamento en décimo piso al frente...   \n",
       "2  2 AMBIENTES 3ER PISO LATERAL LIVING COMEDOR AM...   \n",
       "3  PH 3 ambientes con patio. Hay 3 deptos en lote...   \n",
       "4  DEPARTAMENTO CON FANTÁSTICA ILUMINACIÓN NATURA...   \n",
       "\n",
       "                                               title  \\\n",
       "0                 2 AMB TIPO CASA SIN EXPENSAS EN PB   \n",
       "1  VENTA Depto 2 dorm. a estrenar 7 e/ 36 y 37   ...   \n",
       "2           2 AMB 3ER PISO CON ASCENSOR APTO CREDITO   \n",
       "3                       PH 3 amb. cfte. reciclado      \n",
       "4  DEPTO 2 AMB AL CONTRAFRENTE ZONA CENTRO/PLAZA ...   \n",
       "\n",
       "                                     image_thumbnail  \n",
       "0  https://thumbs4.properati.com/8/BluUYiHJLhgIIK...  \n",
       "1  https://thumbs4.properati.com/7/ikpVBu2ztHA7jv...  \n",
       "2  https://thumbs4.properati.com/5/SXKr34F_IwG3W_...  \n",
       "3  https://thumbs4.properati.com/3/DgIfX-85Mog5SP...  \n",
       "4  https://thumbs4.properati.com/5/xrRqlNcSI_vs-f...  \n",
       "\n",
       "[5 rows x 26 columns]"
      ]
     },
     "execution_count": 3,
     "metadata": {},
     "output_type": "execute_result"
    }
   ],
   "source": [
    "# Cargamos el dataset\n",
    "df = pd.read_csv('properatti.csv')\n",
    "print(df.columns)\n",
    "df.head()"
   ]
  },
  {
   "cell_type": "code",
   "execution_count": 4,
   "metadata": {},
   "outputs": [
    {
     "name": "stdout",
     "output_type": "stream",
     "text": [
      "<class 'pandas.core.frame.DataFrame'>\n",
      "RangeIndex: 121220 entries, 0 to 121219\n",
      "Data columns (total 26 columns):\n",
      "Unnamed: 0                    121220 non-null int64\n",
      "operation                     121220 non-null object\n",
      "property_type                 121220 non-null object\n",
      "place_name                    121197 non-null object\n",
      "place_with_parent_names       121220 non-null object\n",
      "country_name                  121220 non-null object\n",
      "state_name                    121220 non-null object\n",
      "geonames_id                   102503 non-null float64\n",
      "lat-lon                       69670 non-null object\n",
      "lat                           69670 non-null float64\n",
      "lon                           69670 non-null float64\n",
      "price                         100810 non-null float64\n",
      "currency                      100809 non-null object\n",
      "price_aprox_local_currency    100810 non-null float64\n",
      "price_aprox_usd               100810 non-null float64\n",
      "surface_total_in_m2           81892 non-null float64\n",
      "surface_covered_in_m2         101313 non-null float64\n",
      "price_usd_per_m2              68617 non-null float64\n",
      "price_per_m2                  87658 non-null float64\n",
      "floor                         7899 non-null float64\n",
      "rooms                         47390 non-null float64\n",
      "expenses                      14262 non-null float64\n",
      "properati_url                 121220 non-null object\n",
      "description                   121218 non-null object\n",
      "title                         121220 non-null object\n",
      "image_thumbnail               118108 non-null object\n",
      "dtypes: float64(13), int64(1), object(12)\n",
      "memory usage: 24.0+ MB\n"
     ]
    }
   ],
   "source": [
    "df.info()"
   ]
  },
  {
   "cell_type": "code",
   "execution_count": 5,
   "metadata": {
    "collapsed": true
   },
   "outputs": [],
   "source": [
    "#Elegimos algunas columnas\n",
    "df = df[['property_type', 'place_name', 'place_with_parent_names', 'state_name', 'geonames_id', 'lat', 'lon', \n",
    "        'price_aprox_usd', 'surface_total_in_m2', 'surface_covered_in_m2', 'price_usd_per_m2', 'floor', 'rooms',\n",
    "        'expenses', 'description', 'title']]"
   ]
  },
  {
   "cell_type": "code",
   "execution_count": 6,
   "metadata": {},
   "outputs": [
    {
     "name": "stdout",
     "output_type": "stream",
     "text": [
      "<class 'pandas.core.frame.DataFrame'>\n",
      "Int64Index: 23434 entries, 0 to 121219\n",
      "Data columns (total 16 columns):\n",
      "property_type              23434 non-null object\n",
      "place_name                 23434 non-null object\n",
      "place_with_parent_names    23434 non-null object\n",
      "state_name                 23434 non-null object\n",
      "geonames_id                22390 non-null float64\n",
      "lat                        17217 non-null float64\n",
      "lon                        17217 non-null float64\n",
      "price_aprox_usd            23434 non-null float64\n",
      "surface_total_in_m2        23434 non-null float64\n",
      "surface_covered_in_m2      22319 non-null float64\n",
      "price_usd_per_m2           23434 non-null float64\n",
      "floor                      1405 non-null float64\n",
      "rooms                      10554 non-null float64\n",
      "expenses                   5929 non-null float64\n",
      "description                23434 non-null object\n",
      "title                      23434 non-null object\n",
      "dtypes: float64(10), object(6)\n",
      "memory usage: 3.0+ MB\n"
     ]
    }
   ],
   "source": [
    "#Seleccionamos capital federal\n",
    "df_capital_precio = df[pd.notnull((df['price_usd_per_m2'])) & (df['state_name'] == 'Capital Federal')]\n",
    "df_capital_precio.info()"
   ]
  },
  {
   "cell_type": "code",
   "execution_count": 7,
   "metadata": {},
   "outputs": [
    {
     "data": {
      "text/plain": [
       "<matplotlib.axes._subplots.AxesSubplot at 0x7f2ac7319358>"
      ]
     },
     "execution_count": 7,
     "metadata": {},
     "output_type": "execute_result"
    },
    {
     "name": "stderr",
     "output_type": "stream",
     "text": [
      "/home/ubuntu/anaconda3/lib/python3.6/site-packages/matplotlib/font_manager.py:1297: UserWarning: findfont: Font family ['sans-serif'] not found. Falling back to DejaVu Sans\n",
      "  (prop.get_family(), self.defaultFamily[fontext]))\n"
     ]
    },
    {
     "data": {
      "image/png": "[encoded data removed]",
      "text/plain": [
       "<matplotlib.figure.Figure at 0x7f2abd712400>"
      ]
     },
     "metadata": {},
     "output_type": "display_data"
    }
   ],
   "source": [
    "sns.boxplot(y=\"price_usd_per_m2\", data=df_capital_precio)"
   ]
  },
  {
   "cell_type": "code",
   "execution_count": 8,
   "metadata": {},
   "outputs": [
    {
     "data": {
      "text/plain": [
       "array([ True], dtype=bool)"
      ]
     },
     "execution_count": 8,
     "metadata": {},
     "output_type": "execute_result"
    }
   ],
   "source": [
    "#Eliminamos los que tienen valor por m2 mayor a 5100 y los que tienen sup cubierta mayor a sup total\n",
    "df_capital_precio = df[pd.notnull((df['price_usd_per_m2'])) & (df['state_name'] == 'Capital Federal') & \n",
    "                       (df['price_usd_per_m2'] < 5100)].copy()\n",
    "df_capital_precio = df_capital_precio[df_capital_precio['surface_total_in_m2'] >= df_capital_precio['surface_covered_in_m2']]\n",
    "a = df_capital_precio['surface_total_in_m2'] >= df_capital_precio['surface_covered_in_m2']\n",
    "a.unique()"
   ]
  },
  {
   "cell_type": "code",
   "execution_count": 9,
   "metadata": {
    "collapsed": true
   },
   "outputs": [],
   "source": [
    "#Eliminamos los que tienen valor por m2 menor a 400\n",
    "df_capital_precio = df_capital_precio[df_capital_precio['price_usd_per_m2'] > 400]"
   ]
  },
  {
   "cell_type": "code",
   "execution_count": 10,
   "metadata": {},
   "outputs": [
    {
     "data": {
      "text/plain": [
       "<matplotlib.axes._subplots.AxesSubplot at 0x7f2ac73191d0>"
      ]
     },
     "execution_count": 10,
     "metadata": {},
     "output_type": "execute_result"
    },
    {
     "name": "stderr",
     "output_type": "stream",
     "text": [
      "/home/ubuntu/anaconda3/lib/python3.6/site-packages/matplotlib/font_manager.py:1297: UserWarning: findfont: Font family ['sans-serif'] not found. Falling back to DejaVu Sans\n",
      "  (prop.get_family(), self.defaultFamily[fontext]))\n"
     ]
    },
    {
     "data": {
      "image/png": "[encoded data removed]",
      "text/plain": [
       "<matplotlib.figure.Figure at 0x7f2af56d46a0>"
      ]
     },
     "metadata": {},
     "output_type": "display_data"
    }
   ],
   "source": [
    "sns.boxplot(y=\"price_usd_per_m2\", data=df_capital_precio)"
   ]
  },
  {
   "cell_type": "code",
   "execution_count": 11,
   "metadata": {},
   "outputs": [
    {
     "data": {
      "text/plain": [
       "<matplotlib.axes._subplots.AxesSubplot at 0x7f2ac6f8ee80>"
      ]
     },
     "execution_count": 11,
     "metadata": {},
     "output_type": "execute_result"
    },
    {
     "name": "stderr",
     "output_type": "stream",
     "text": [
      "/home/ubuntu/anaconda3/lib/python3.6/site-packages/matplotlib/font_manager.py:1297: UserWarning: findfont: Font family ['sans-serif'] not found. Falling back to DejaVu Sans\n",
      "  (prop.get_family(), self.defaultFamily[fontext]))\n"
     ]
    },
    {
     "data": {
      "image/png": "[encoded data removed]",
      "text/plain": [
       "<matplotlib.figure.Figure at 0x7f2ac6ebc4e0>"
      ]
     },
     "metadata": {},
     "output_type": "display_data"
    }
   ],
   "source": [
    "sns.boxplot(y=\"surface_total_in_m2\", data=df_capital_precio)"
   ]
  },
  {
   "cell_type": "code",
   "execution_count": 12,
   "metadata": {
    "collapsed": true
   },
   "outputs": [],
   "source": [
    "df_capital_precio = df_capital_precio[(df_capital_precio['surface_total_in_m2'] <1000)].copy()\n"
   ]
  },
  {
   "cell_type": "code",
   "execution_count": 13,
   "metadata": {},
   "outputs": [
    {
     "data": {
      "text/plain": [
       "<matplotlib.axes._subplots.AxesSubplot at 0x7f2ac6ee8710>"
      ]
     },
     "execution_count": 13,
     "metadata": {},
     "output_type": "execute_result"
    },
    {
     "name": "stderr",
     "output_type": "stream",
     "text": [
      "/home/ubuntu/anaconda3/lib/python3.6/site-packages/matplotlib/font_manager.py:1297: UserWarning: findfont: Font family ['sans-serif'] not found. Falling back to DejaVu Sans\n",
      "  (prop.get_family(), self.defaultFamily[fontext]))\n"
     ]
    },
    {
     "data": {
      "image/png": "[encoded data removed]",
      "text/plain": [
       "<matplotlib.figure.Figure at 0x7f2ac6e5e160>"
      ]
     },
     "metadata": {},
     "output_type": "display_data"
    }
   ],
   "source": [
    "sns.boxplot(y=\"surface_total_in_m2\",x=\"property_type\", data=df_capital_precio)"
   ]
  },
  {
   "cell_type": "code",
   "execution_count": 14,
   "metadata": {
    "collapsed": true
   },
   "outputs": [],
   "source": [
    "def get_outliers_by_property(property_type):\n",
    "    if property_type == \"PH\":\n",
    "        return 400\n",
    "    elif property_type == \"apartment\":\n",
    "        return 200\n",
    "    elif property_type == \"house\":\n",
    "        return 900\n",
    "    elif property_type == \"store\":\n",
    "        return 600\n",
    "    return 1000\n",
    "\n",
    "def compute_outlier_surface(property_type, surface):\n",
    "    hight_surface = get_outliers_by_property(property_type)\n",
    "    if surface <  hight_surface:\n",
    "        return surface\n",
    "    else:\n",
    "        return hight_surface\n",
    "        "
   ]
  },
  {
   "cell_type": "code",
   "execution_count": 15,
   "metadata": {
    "collapsed": true
   },
   "outputs": [],
   "source": [
    "#Eliminamos outliers de sup m2 segun tipo de propiedad\n",
    "df_capital_precio['surface_total_in_m2'] = df_capital_precio.apply(lambda row: compute_outlier_surface(row['property_type'],row['surface_total_in_m2']),axis=1)"
   ]
  },
  {
   "cell_type": "code",
   "execution_count": 16,
   "metadata": {},
   "outputs": [
    {
     "data": {
      "text/plain": [
       "<matplotlib.axes._subplots.AxesSubplot at 0x7f2ac6d4d198>"
      ]
     },
     "execution_count": 16,
     "metadata": {},
     "output_type": "execute_result"
    },
    {
     "name": "stderr",
     "output_type": "stream",
     "text": [
      "/home/ubuntu/anaconda3/lib/python3.6/site-packages/matplotlib/font_manager.py:1297: UserWarning: findfont: Font family ['sans-serif'] not found. Falling back to DejaVu Sans\n",
      "  (prop.get_family(), self.defaultFamily[fontext]))\n"
     ]
    },
    {
     "data": {
      "image/png": "[encoded data removed]",
      "text/plain": [
       "<matplotlib.figure.Figure at 0x7f2ac6d43d30>"
      ]
     },
     "metadata": {},
     "output_type": "display_data"
    }
   ],
   "source": [
    "sns.boxplot(y=\"surface_total_in_m2\",x=\"property_type\", data=df_capital_precio)"
   ]
  },
  {
   "cell_type": "code",
   "execution_count": 17,
   "metadata": {
    "collapsed": true
   },
   "outputs": [],
   "source": [
    "#Completamos los valores faltantes de lat y lon con la media de cada barrio\n",
    "lat_by_place_name = df_capital_precio.groupby('place_name')['lat'].mean()\n",
    "lon_by_place_name = df_capital_precio.groupby('place_name')['lon'].mean()"
   ]
  },
  {
   "cell_type": "code",
   "execution_count": 18,
   "metadata": {
    "collapsed": true
   },
   "outputs": [],
   "source": [
    "df_capital_precio['lat'] = df_capital_precio.apply(lambda row: lat_by_place_name[row['place_name']], axis=1)\n",
    "df_capital_precio['lon'] = df_capital_precio.apply(lambda row: lon_by_place_name[row['place_name']], axis=1)"
   ]
  },
  {
   "cell_type": "code",
   "execution_count": 19,
   "metadata": {},
   "outputs": [
    {
     "data": {
      "text/html": [
       "<div>\n",
       "<style>\n",
       "    .dataframe thead tr:only-child th {\n",
       "        text-align: right;\n",
       "    }\n",
       "\n",
       "    .dataframe thead th {\n",
       "        text-align: left;\n",
       "    }\n",
       "\n",
       "    .dataframe tbody tr th {\n",
       "        vertical-align: top;\n",
       "    }\n",
       "</style>\n",
       "<table border=\"1\" class=\"dataframe\">\n",
       "  <thead>\n",
       "    <tr style=\"text-align: right;\">\n",
       "      <th></th>\n",
       "      <th>property_type</th>\n",
       "      <th>place_name</th>\n",
       "      <th>place_with_parent_names</th>\n",
       "      <th>state_name</th>\n",
       "      <th>geonames_id</th>\n",
       "      <th>lat</th>\n",
       "      <th>lon</th>\n",
       "      <th>price_aprox_usd</th>\n",
       "      <th>surface_total_in_m2</th>\n",
       "      <th>surface_covered_in_m2</th>\n",
       "      <th>price_usd_per_m2</th>\n",
       "      <th>floor</th>\n",
       "      <th>rooms</th>\n",
       "      <th>expenses</th>\n",
       "      <th>description</th>\n",
       "      <th>title</th>\n",
       "    </tr>\n",
       "  </thead>\n",
       "  <tbody>\n",
       "    <tr>\n",
       "      <th>0</th>\n",
       "      <td>PH</td>\n",
       "      <td>Mataderos</td>\n",
       "      <td>|Argentina|Capital Federal|Mataderos|</td>\n",
       "      <td>Capital Federal</td>\n",
       "      <td>3430787.0</td>\n",
       "      <td>-34.677247</td>\n",
       "      <td>-58.532309</td>\n",
       "      <td>62000.0</td>\n",
       "      <td>55.0</td>\n",
       "      <td>40.0</td>\n",
       "      <td>1127.272727</td>\n",
       "      <td>NaN</td>\n",
       "      <td>NaN</td>\n",
       "      <td>NaN</td>\n",
       "      <td>2 AMBIENTES TIPO CASA PLANTA BAJA POR PASILLO,...</td>\n",
       "      <td>2 AMB TIPO CASA SIN EXPENSAS EN PB</td>\n",
       "    </tr>\n",
       "    <tr>\n",
       "      <th>2</th>\n",
       "      <td>apartment</td>\n",
       "      <td>Mataderos</td>\n",
       "      <td>|Argentina|Capital Federal|Mataderos|</td>\n",
       "      <td>Capital Federal</td>\n",
       "      <td>3430787.0</td>\n",
       "      <td>-34.677247</td>\n",
       "      <td>-58.532309</td>\n",
       "      <td>72000.0</td>\n",
       "      <td>55.0</td>\n",
       "      <td>55.0</td>\n",
       "      <td>1309.090909</td>\n",
       "      <td>NaN</td>\n",
       "      <td>NaN</td>\n",
       "      <td>NaN</td>\n",
       "      <td>2 AMBIENTES 3ER PISO LATERAL LIVING COMEDOR AM...</td>\n",
       "      <td>2 AMB 3ER PISO CON ASCENSOR APTO CREDITO</td>\n",
       "    </tr>\n",
       "    <tr>\n",
       "      <th>7</th>\n",
       "      <td>apartment</td>\n",
       "      <td>Belgrano</td>\n",
       "      <td>|Argentina|Capital Federal|Belgrano|</td>\n",
       "      <td>Capital Federal</td>\n",
       "      <td>3436077.0</td>\n",
       "      <td>-34.564074</td>\n",
       "      <td>-58.453559</td>\n",
       "      <td>138000.0</td>\n",
       "      <td>45.0</td>\n",
       "      <td>40.0</td>\n",
       "      <td>3066.666667</td>\n",
       "      <td>NaN</td>\n",
       "      <td>NaN</td>\n",
       "      <td>NaN</td>\n",
       "      <td>EXCELENTE MONOAMBIENTE A ESTRENAR AMPLIO SUPER...</td>\n",
       "      <td>JOSE HERNANDEZ 1400 MONOAMBIENTE  ESTRENAR CAT...</td>\n",
       "    </tr>\n",
       "    <tr>\n",
       "      <th>8</th>\n",
       "      <td>apartment</td>\n",
       "      <td>Belgrano</td>\n",
       "      <td>|Argentina|Capital Federal|Belgrano|</td>\n",
       "      <td>Capital Federal</td>\n",
       "      <td>3436077.0</td>\n",
       "      <td>-34.564074</td>\n",
       "      <td>-58.453559</td>\n",
       "      <td>195000.0</td>\n",
       "      <td>65.0</td>\n",
       "      <td>60.0</td>\n",
       "      <td>3000.000000</td>\n",
       "      <td>NaN</td>\n",
       "      <td>NaN</td>\n",
       "      <td>NaN</td>\n",
       "      <td>EXCELENTE DOS AMBIENTES  ESTRENAR AMPLIO SUPER...</td>\n",
       "      <td>JOSE HERNANDEZ   1400 DOS AMBIENTES ESTRENAR ,...</td>\n",
       "    </tr>\n",
       "    <tr>\n",
       "      <th>13</th>\n",
       "      <td>apartment</td>\n",
       "      <td>Palermo Soho</td>\n",
       "      <td>|Argentina|Capital Federal|Palermo|Palermo Soho|</td>\n",
       "      <td>Capital Federal</td>\n",
       "      <td>3430234.0</td>\n",
       "      <td>-34.590498</td>\n",
       "      <td>-58.424523</td>\n",
       "      <td>111700.0</td>\n",
       "      <td>50.0</td>\n",
       "      <td>30.0</td>\n",
       "      <td>2234.000000</td>\n",
       "      <td>NaN</td>\n",
       "      <td>1.0</td>\n",
       "      <td>NaN</td>\n",
       "      <td>Torre I Mondrian. 3 ambientes con terraza y d...</td>\n",
       "      <td>Vitraux Palermo</td>\n",
       "    </tr>\n",
       "  </tbody>\n",
       "</table>\n",
       "</div>"
      ],
      "text/plain": [
       "   property_type    place_name  \\\n",
       "0             PH     Mataderos   \n",
       "2      apartment     Mataderos   \n",
       "7      apartment      Belgrano   \n",
       "8      apartment      Belgrano   \n",
       "13     apartment  Palermo Soho   \n",
       "\n",
       "                             place_with_parent_names       state_name  \\\n",
       "0              |Argentina|Capital Federal|Mataderos|  Capital Federal   \n",
       "2              |Argentina|Capital Federal|Mataderos|  Capital Federal   \n",
       "7               |Argentina|Capital Federal|Belgrano|  Capital Federal   \n",
       "8               |Argentina|Capital Federal|Belgrano|  Capital Federal   \n",
       "13  |Argentina|Capital Federal|Palermo|Palermo Soho|  Capital Federal   \n",
       "\n",
       "    geonames_id        lat        lon  price_aprox_usd  surface_total_in_m2  \\\n",
       "0     3430787.0 -34.677247 -58.532309          62000.0                 55.0   \n",
       "2     3430787.0 -34.677247 -58.532309          72000.0                 55.0   \n",
       "7     3436077.0 -34.564074 -58.453559         138000.0                 45.0   \n",
       "8     3436077.0 -34.564074 -58.453559         195000.0                 65.0   \n",
       "13    3430234.0 -34.590498 -58.424523         111700.0                 50.0   \n",
       "\n",
       "    surface_covered_in_m2  price_usd_per_m2  floor  rooms  expenses  \\\n",
       "0                    40.0       1127.272727    NaN    NaN       NaN   \n",
       "2                    55.0       1309.090909    NaN    NaN       NaN   \n",
       "7                    40.0       3066.666667    NaN    NaN       NaN   \n",
       "8                    60.0       3000.000000    NaN    NaN       NaN   \n",
       "13                   30.0       2234.000000    NaN    1.0       NaN   \n",
       "\n",
       "                                          description  \\\n",
       "0   2 AMBIENTES TIPO CASA PLANTA BAJA POR PASILLO,...   \n",
       "2   2 AMBIENTES 3ER PISO LATERAL LIVING COMEDOR AM...   \n",
       "7   EXCELENTE MONOAMBIENTE A ESTRENAR AMPLIO SUPER...   \n",
       "8   EXCELENTE DOS AMBIENTES  ESTRENAR AMPLIO SUPER...   \n",
       "13   Torre I Mondrian. 3 ambientes con terraza y d...   \n",
       "\n",
       "                                                title  \n",
       "0                  2 AMB TIPO CASA SIN EXPENSAS EN PB  \n",
       "2            2 AMB 3ER PISO CON ASCENSOR APTO CREDITO  \n",
       "7   JOSE HERNANDEZ 1400 MONOAMBIENTE  ESTRENAR CAT...  \n",
       "8   JOSE HERNANDEZ   1400 DOS AMBIENTES ESTRENAR ,...  \n",
       "13                                    Vitraux Palermo  "
      ]
     },
     "execution_count": 19,
     "metadata": {},
     "output_type": "execute_result"
    }
   ],
   "source": [
    "df_capital_precio.head()"
   ]
  },
  {
   "cell_type": "code",
   "execution_count": 20,
   "metadata": {
    "collapsed": true
   },
   "outputs": [],
   "source": [
    "def get_expenses(x):\n",
    "    if np.isnan(x['expenses']):\n",
    "        return 'no definido'\n",
    "    x = x['expenses']/x['surface_total_in_m2']\n",
    "    if 0 < x <= 25:\n",
    "        return 'baja'\n",
    "    elif 25 < x <= 45:\n",
    "        return 'media'\n",
    "    elif 45 < x <= 100:\n",
    "        return 'alta'\n",
    "    return 'no definido'"
   ]
  },
  {
   "cell_type": "code",
   "execution_count": 21,
   "metadata": {
    "collapsed": true
   },
   "outputs": [],
   "source": [
    "#Creamos categoricas para las expensas (baja,media,alta, no definido)\n",
    "expenses_for_surface = df_capital_precio[['expenses','surface_total_in_m2']].apply(lambda row: row['expenses']/row['surface_total_in_m2'],axis=1)"
   ]
  },
  {
   "cell_type": "code",
   "execution_count": 22,
   "metadata": {},
   "outputs": [
    {
     "name": "stdout",
     "output_type": "stream",
     "text": [
      "Baja: 25.0\n",
      "Alta: 45.48560606060603\n"
     ]
    }
   ],
   "source": [
    "print(\"Baja: {}\".format(np.percentile(expenses_for_surface.dropna(), 30)))\n",
    "\n",
    "print(\"Alta: {}\".format(np.percentile(expenses_for_surface.dropna(), 70)))"
   ]
  },
  {
   "cell_type": "code",
   "execution_count": 23,
   "metadata": {
    "collapsed": true
   },
   "outputs": [],
   "source": [
    "df_capital_precio['expenses_range'] = df_capital_precio[['expenses','surface_total_in_m2']].apply(get_expenses,axis=1)"
   ]
  },
  {
   "cell_type": "code",
   "execution_count": 24,
   "metadata": {},
   "outputs": [
    {
     "data": {
      "text/plain": [
       "<matplotlib.axes._subplots.AxesSubplot at 0x7f2ac17e1198>"
      ]
     },
     "execution_count": 24,
     "metadata": {},
     "output_type": "execute_result"
    },
    {
     "name": "stderr",
     "output_type": "stream",
     "text": [
      "/home/ubuntu/anaconda3/lib/python3.6/site-packages/matplotlib/font_manager.py:1297: UserWarning: findfont: Font family ['sans-serif'] not found. Falling back to DejaVu Sans\n",
      "  (prop.get_family(), self.defaultFamily[fontext]))\n"
     ]
    },
    {
     "data": {
      "image/png": "[encoded data removed]",
      "text/plain": [
       "<matplotlib.figure.Figure at 0x7f2ac6ccc2e8>"
      ]
     },
     "metadata": {},
     "output_type": "display_data"
    }
   ],
   "source": [
    "sns.boxplot(y=\"price_usd_per_m2\", x=\"expenses_range\", data=df_capital_precio)"
   ]
  },
  {
   "cell_type": "code",
   "execution_count": 25,
   "metadata": {},
   "outputs": [
    {
     "data": {
      "text/plain": [
       "<matplotlib.axes._subplots.AxesSubplot at 0x7f2ac6b8d7b8>"
      ]
     },
     "execution_count": 25,
     "metadata": {},
     "output_type": "execute_result"
    },
    {
     "name": "stderr",
     "output_type": "stream",
     "text": [
      "/home/ubuntu/anaconda3/lib/python3.6/site-packages/matplotlib/font_manager.py:1297: UserWarning: findfont: Font family ['sans-serif'] not found. Falling back to DejaVu Sans\n",
      "  (prop.get_family(), self.defaultFamily[fontext]))\n"
     ]
    },
    {
     "data": {
      "image/png": "[encoded data removed]",
      "text/plain": [
       "<matplotlib.figure.Figure at 0x7f2ac6e52588>"
      ]
     },
     "metadata": {},
     "output_type": "display_data"
    }
   ],
   "source": [
    "sns.regplot(y=\"price_usd_per_m2\", x=\"lat\", data=df_capital_precio)"
   ]
  },
  {
   "cell_type": "code",
   "execution_count": 26,
   "metadata": {},
   "outputs": [
    {
     "data": {
      "text/plain": [
       "<matplotlib.axes._subplots.AxesSubplot at 0x7f2ac6cb2278>"
      ]
     },
     "execution_count": 26,
     "metadata": {},
     "output_type": "execute_result"
    },
    {
     "name": "stderr",
     "output_type": "stream",
     "text": [
      "/home/ubuntu/anaconda3/lib/python3.6/site-packages/matplotlib/font_manager.py:1297: UserWarning: findfont: Font family ['sans-serif'] not found. Falling back to DejaVu Sans\n",
      "  (prop.get_family(), self.defaultFamily[fontext]))\n"
     ]
    },
    {
     "data": {
      "image/png": "[encoded data removed]",
      "text/plain": [
       "<matplotlib.figure.Figure at 0x7f2ac6ad08d0>"
      ]
     },
     "metadata": {},
     "output_type": "display_data"
    }
   ],
   "source": [
    "sns.regplot(y=\"price_usd_per_m2\", x=\"lon\", data=df_capital_precio)"
   ]
  },
  {
   "cell_type": "code",
   "execution_count": 27,
   "metadata": {},
   "outputs": [
    {
     "data": {
      "text/html": [
       "<div>\n",
       "<style>\n",
       "    .dataframe thead tr:only-child th {\n",
       "        text-align: right;\n",
       "    }\n",
       "\n",
       "    .dataframe thead th {\n",
       "        text-align: left;\n",
       "    }\n",
       "\n",
       "    .dataframe tbody tr th {\n",
       "        vertical-align: top;\n",
       "    }\n",
       "</style>\n",
       "<table border=\"1\" class=\"dataframe\">\n",
       "  <thead>\n",
       "    <tr style=\"text-align: right;\">\n",
       "      <th></th>\n",
       "      <th>lat</th>\n",
       "      <th>lon</th>\n",
       "      <th>price_usd_per_m2</th>\n",
       "      <th>expenses</th>\n",
       "    </tr>\n",
       "  </thead>\n",
       "  <tbody>\n",
       "    <tr>\n",
       "      <th>lat</th>\n",
       "      <td>1.000000</td>\n",
       "      <td>-0.112062</td>\n",
       "      <td>0.435087</td>\n",
       "      <td>-0.029403</td>\n",
       "    </tr>\n",
       "    <tr>\n",
       "      <th>lon</th>\n",
       "      <td>-0.112062</td>\n",
       "      <td>1.000000</td>\n",
       "      <td>0.119069</td>\n",
       "      <td>-0.038552</td>\n",
       "    </tr>\n",
       "    <tr>\n",
       "      <th>price_usd_per_m2</th>\n",
       "      <td>0.435087</td>\n",
       "      <td>0.119069</td>\n",
       "      <td>1.000000</td>\n",
       "      <td>0.021093</td>\n",
       "    </tr>\n",
       "    <tr>\n",
       "      <th>expenses</th>\n",
       "      <td>-0.029403</td>\n",
       "      <td>-0.038552</td>\n",
       "      <td>0.021093</td>\n",
       "      <td>1.000000</td>\n",
       "    </tr>\n",
       "  </tbody>\n",
       "</table>\n",
       "</div>"
      ],
      "text/plain": [
       "                       lat       lon  price_usd_per_m2  expenses\n",
       "lat               1.000000 -0.112062          0.435087 -0.029403\n",
       "lon              -0.112062  1.000000          0.119069 -0.038552\n",
       "price_usd_per_m2  0.435087  0.119069          1.000000  0.021093\n",
       "expenses         -0.029403 -0.038552          0.021093  1.000000"
      ]
     },
     "execution_count": 27,
     "metadata": {},
     "output_type": "execute_result"
    }
   ],
   "source": [
    "df_capital_precio[['lat','lon','price_usd_per_m2','expenses']].corr()"
   ]
  },
  {
   "cell_type": "code",
   "execution_count": 28,
   "metadata": {},
   "outputs": [
    {
     "data": {
      "text/plain": [
       "<matplotlib.axes._subplots.AxesSubplot at 0x7f2ac6bb0a20>"
      ]
     },
     "execution_count": 28,
     "metadata": {},
     "output_type": "execute_result"
    },
    {
     "name": "stderr",
     "output_type": "stream",
     "text": [
      "/home/ubuntu/anaconda3/lib/python3.6/site-packages/matplotlib/font_manager.py:1297: UserWarning: findfont: Font family ['sans-serif'] not found. Falling back to DejaVu Sans\n",
      "  (prop.get_family(), self.defaultFamily[fontext]))\n"
     ]
    },
    {
     "data": {
      "image/png": "[encoded data removed]",
      "text/plain": [
       "<matplotlib.figure.Figure at 0x7f2ac5eedf60>"
      ]
     },
     "metadata": {},
     "output_type": "display_data"
    }
   ],
   "source": [
    "sns.boxplot(y=\"price_usd_per_m2\", x=\"property_type\", data=df_capital_precio)"
   ]
  },
  {
   "cell_type": "code",
   "execution_count": 29,
   "metadata": {},
   "outputs": [
    {
     "data": {
      "text/plain": [
       "11181"
      ]
     },
     "execution_count": 29,
     "metadata": {},
     "output_type": "execute_result"
    }
   ],
   "source": [
    "rooms_nulos = df_capital_precio.apply(lambda row: pd.isnull(row['rooms']) , axis = 1)\n",
    "\n",
    "len([t for t in rooms_nulos if t==True])"
   ]
  },
  {
   "cell_type": "code",
   "execution_count": 30,
   "metadata": {
    "collapsed": true
   },
   "outputs": [],
   "source": [
    "import re\n",
    "def get_rooms(row):\n",
    "    if pd.isnull(row['rooms']):\n",
    "        num = re.findall(\"\\d ambiente\", row['description'],re.IGNORECASE)\n",
    "        if len(num) > 0:\n",
    "            return int(num[0].split(\" \")[0])\n",
    "        else:\n",
    "            num = re.findall(\"\\d dormitorio\", row['description'],re.IGNORECASE)\n",
    "            if len(num) > 0:\n",
    "                return int(num[0].split(\" \")[0])+1\n",
    "            else:\n",
    "                num = re.findall(\"\\d habitaci\", row['description'],re.IGNORECASE)\n",
    "                if len(num) > 0:\n",
    "                    return int(num[0].split(\" \")[0])+1\n",
    "    return row['rooms']\n",
    "    "
   ]
  },
  {
   "cell_type": "code",
   "execution_count": 31,
   "metadata": {},
   "outputs": [
    {
     "data": {
      "text/plain": [
       "5074"
      ]
     },
     "execution_count": 31,
     "metadata": {},
     "output_type": "execute_result"
    }
   ],
   "source": [
    "#Conseguimos algunos valores de cantidad de ambientes de la descripcion\n",
    "ambientes = df_capital_precio.apply(get_rooms, axis=1)\n",
    "\n",
    "len([t for t in pd.isnull(ambientes) if t==True])"
   ]
  },
  {
   "cell_type": "code",
   "execution_count": 32,
   "metadata": {
    "collapsed": true
   },
   "outputs": [],
   "source": [
    "df_capital_precio['rooms'] = ambientes"
   ]
  },
  {
   "cell_type": "code",
   "execution_count": 33,
   "metadata": {},
   "outputs": [
    {
     "name": "stdout",
     "output_type": "stream",
     "text": [
      "<class 'pandas.core.frame.DataFrame'>\n",
      "Int64Index: 20410 entries, 0 to 121219\n",
      "Data columns (total 17 columns):\n",
      "property_type              20410 non-null object\n",
      "place_name                 20410 non-null object\n",
      "place_with_parent_names    20410 non-null object\n",
      "state_name                 20410 non-null object\n",
      "geonames_id                19492 non-null float64\n",
      "lat                        20410 non-null float64\n",
      "lon                        20410 non-null float64\n",
      "price_aprox_usd            20410 non-null float64\n",
      "surface_total_in_m2        20410 non-null float64\n",
      "surface_covered_in_m2      20410 non-null float64\n",
      "price_usd_per_m2           20410 non-null float64\n",
      "floor                      1314 non-null float64\n",
      "rooms                      15336 non-null float64\n",
      "expenses                   5386 non-null float64\n",
      "description                20410 non-null object\n",
      "title                      20410 non-null object\n",
      "expenses_range             20410 non-null object\n",
      "dtypes: float64(10), object(7)\n",
      "memory usage: 3.4+ MB\n"
     ]
    }
   ],
   "source": [
    "df_capital_precio.info()"
   ]
  },
  {
   "cell_type": "code",
   "execution_count": 34,
   "metadata": {
    "collapsed": true
   },
   "outputs": [],
   "source": [
    "df_capital_precio['surface_discrete']=df_capital_precio.apply(lambda row: int(row['surface_total_in_m2']/10) ,axis =1)\n"
   ]
  },
  {
   "cell_type": "code",
   "execution_count": 35,
   "metadata": {
    "collapsed": true
   },
   "outputs": [],
   "source": [
    "def get_rooms_by_mean(row):\n",
    "    if pd.isnull(row['rooms']) & (row['property_type'] != \"PH\"):\n",
    "        surface_total = int(row['surface_total_in_m2'])\n",
    "        if surface_total <= 35:\n",
    "            return 1\n",
    "        elif 35 < surface_total <= 55:\n",
    "            return 2\n",
    "        elif 55 < surface_total <= 100:\n",
    "            return 3\n",
    "        else:\n",
    "            return 4\n",
    "    return row['rooms']"
   ]
  },
  {
   "cell_type": "code",
   "execution_count": 36,
   "metadata": {},
   "outputs": [
    {
     "data": {
      "text/html": [
       "<div>\n",
       "<style>\n",
       "    .dataframe thead tr:only-child th {\n",
       "        text-align: right;\n",
       "    }\n",
       "\n",
       "    .dataframe thead th {\n",
       "        text-align: left;\n",
       "    }\n",
       "\n",
       "    .dataframe tbody tr th {\n",
       "        vertical-align: top;\n",
       "    }\n",
       "</style>\n",
       "<table border=\"1\" class=\"dataframe\">\n",
       "  <thead>\n",
       "    <tr style=\"text-align: right;\">\n",
       "      <th></th>\n",
       "      <th>surface_total_in_m2</th>\n",
       "      <th>surface_discrete</th>\n",
       "      <th>rooms</th>\n",
       "    </tr>\n",
       "  </thead>\n",
       "  <tbody>\n",
       "    <tr>\n",
       "      <th>0</th>\n",
       "      <td>55.0</td>\n",
       "      <td>5</td>\n",
       "      <td>2.0</td>\n",
       "    </tr>\n",
       "    <tr>\n",
       "      <th>2</th>\n",
       "      <td>55.0</td>\n",
       "      <td>5</td>\n",
       "      <td>2.0</td>\n",
       "    </tr>\n",
       "    <tr>\n",
       "      <th>7</th>\n",
       "      <td>45.0</td>\n",
       "      <td>4</td>\n",
       "      <td>NaN</td>\n",
       "    </tr>\n",
       "    <tr>\n",
       "      <th>8</th>\n",
       "      <td>65.0</td>\n",
       "      <td>6</td>\n",
       "      <td>NaN</td>\n",
       "    </tr>\n",
       "    <tr>\n",
       "      <th>13</th>\n",
       "      <td>50.0</td>\n",
       "      <td>5</td>\n",
       "      <td>1.0</td>\n",
       "    </tr>\n",
       "  </tbody>\n",
       "</table>\n",
       "</div>"
      ],
      "text/plain": [
       "    surface_total_in_m2  surface_discrete  rooms\n",
       "0                  55.0                 5    2.0\n",
       "2                  55.0                 5    2.0\n",
       "7                  45.0                 4    NaN\n",
       "8                  65.0                 6    NaN\n",
       "13                 50.0                 5    1.0"
      ]
     },
     "execution_count": 36,
     "metadata": {},
     "output_type": "execute_result"
    }
   ],
   "source": [
    "df_capital_precio[['surface_total_in_m2','surface_discrete','rooms']].head()"
   ]
  },
  {
   "cell_type": "code",
   "execution_count": 37,
   "metadata": {},
   "outputs": [
    {
     "data": {
      "text/plain": [
       "179"
      ]
     },
     "execution_count": 37,
     "metadata": {},
     "output_type": "execute_result"
    }
   ],
   "source": [
    "\n",
    "ambientes = df_capital_precio.apply(get_rooms_by_mean ,axis =1)\n",
    "\n",
    "\n",
    "len([t for t in pd.isnull(ambientes) if t==True])"
   ]
  },
  {
   "cell_type": "code",
   "execution_count": 38,
   "metadata": {},
   "outputs": [
    {
     "data": {
      "text/html": [
       "<div>\n",
       "<style>\n",
       "    .dataframe thead tr:only-child th {\n",
       "        text-align: right;\n",
       "    }\n",
       "\n",
       "    .dataframe thead th {\n",
       "        text-align: left;\n",
       "    }\n",
       "\n",
       "    .dataframe tbody tr th {\n",
       "        vertical-align: top;\n",
       "    }\n",
       "</style>\n",
       "<table border=\"1\" class=\"dataframe\">\n",
       "  <thead>\n",
       "    <tr style=\"text-align: right;\">\n",
       "      <th></th>\n",
       "      <th>surface_total_in_m2</th>\n",
       "      <th>surface_discrete</th>\n",
       "      <th>rooms</th>\n",
       "    </tr>\n",
       "  </thead>\n",
       "  <tbody>\n",
       "    <tr>\n",
       "      <th>0</th>\n",
       "      <td>55.0</td>\n",
       "      <td>5</td>\n",
       "      <td>2.0</td>\n",
       "    </tr>\n",
       "    <tr>\n",
       "      <th>2</th>\n",
       "      <td>55.0</td>\n",
       "      <td>5</td>\n",
       "      <td>2.0</td>\n",
       "    </tr>\n",
       "    <tr>\n",
       "      <th>7</th>\n",
       "      <td>45.0</td>\n",
       "      <td>4</td>\n",
       "      <td>2.0</td>\n",
       "    </tr>\n",
       "    <tr>\n",
       "      <th>8</th>\n",
       "      <td>65.0</td>\n",
       "      <td>6</td>\n",
       "      <td>3.0</td>\n",
       "    </tr>\n",
       "    <tr>\n",
       "      <th>13</th>\n",
       "      <td>50.0</td>\n",
       "      <td>5</td>\n",
       "      <td>1.0</td>\n",
       "    </tr>\n",
       "  </tbody>\n",
       "</table>\n",
       "</div>"
      ],
      "text/plain": [
       "    surface_total_in_m2  surface_discrete  rooms\n",
       "0                  55.0                 5    2.0\n",
       "2                  55.0                 5    2.0\n",
       "7                  45.0                 4    2.0\n",
       "8                  65.0                 6    3.0\n",
       "13                 50.0                 5    1.0"
      ]
     },
     "execution_count": 38,
     "metadata": {},
     "output_type": "execute_result"
    }
   ],
   "source": [
    "#Completamos los rooms faltantes segun la cantidad de m2 que tiene la propeidad\n",
    "df_capital_precio['rooms'] = ambientes\n",
    "df_capital_precio[['surface_total_in_m2','surface_discrete','rooms']].head()"
   ]
  },
  {
   "cell_type": "code",
   "execution_count": 39,
   "metadata": {},
   "outputs": [
    {
     "data": {
      "text/plain": [
       "surface_discrete\n",
       "1    1.021739\n",
       "2    1.149351\n",
       "3    1.477116\n",
       "4    1.895172\n",
       "5    2.279667\n",
       "Name: rooms, dtype: float64"
      ]
     },
     "execution_count": 39,
     "metadata": {},
     "output_type": "execute_result"
    }
   ],
   "source": [
    "df_capital_precio.groupby('surface_discrete')['rooms'].mean().head()"
   ]
  },
  {
   "cell_type": "code",
   "execution_count": 40,
   "metadata": {
    "collapsed": true
   },
   "outputs": [],
   "source": [
    "data_set_final = df_capital_precio[pd.notnull(df_capital_precio['rooms'])].copy()"
   ]
  },
  {
   "cell_type": "code",
   "execution_count": 41,
   "metadata": {},
   "outputs": [
    {
     "name": "stdout",
     "output_type": "stream",
     "text": [
      "<class 'pandas.core.frame.DataFrame'>\n",
      "Int64Index: 20231 entries, 0 to 121219\n",
      "Data columns (total 18 columns):\n",
      "property_type              20231 non-null object\n",
      "place_name                 20231 non-null object\n",
      "place_with_parent_names    20231 non-null object\n",
      "state_name                 20231 non-null object\n",
      "geonames_id                19319 non-null float64\n",
      "lat                        20231 non-null float64\n",
      "lon                        20231 non-null float64\n",
      "price_aprox_usd            20231 non-null float64\n",
      "surface_total_in_m2        20231 non-null float64\n",
      "surface_covered_in_m2      20231 non-null float64\n",
      "price_usd_per_m2           20231 non-null float64\n",
      "floor                      1310 non-null float64\n",
      "rooms                      20231 non-null float64\n",
      "expenses                   5348 non-null float64\n",
      "description                20231 non-null object\n",
      "title                      20231 non-null object\n",
      "expenses_range             20231 non-null object\n",
      "surface_discrete           20231 non-null int64\n",
      "dtypes: float64(10), int64(1), object(7)\n",
      "memory usage: 2.9+ MB\n"
     ]
    }
   ],
   "source": [
    "data_set_final.info()"
   ]
  },
  {
   "cell_type": "code",
   "execution_count": 42,
   "metadata": {
    "collapsed": true
   },
   "outputs": [],
   "source": [
    "del data_set_final['geonames_id']\n",
    "del data_set_final['floor']\n",
    "del data_set_final['expenses']"
   ]
  },
  {
   "cell_type": "code",
   "execution_count": 43,
   "metadata": {},
   "outputs": [
    {
     "name": "stdout",
     "output_type": "stream",
     "text": [
      "<class 'pandas.core.frame.DataFrame'>\n",
      "Int64Index: 20231 entries, 0 to 121219\n",
      "Data columns (total 15 columns):\n",
      "property_type              20231 non-null object\n",
      "place_name                 20231 non-null object\n",
      "place_with_parent_names    20231 non-null object\n",
      "state_name                 20231 non-null object\n",
      "lat                        20231 non-null float64\n",
      "lon                        20231 non-null float64\n",
      "price_aprox_usd            20231 non-null float64\n",
      "surface_total_in_m2        20231 non-null float64\n",
      "surface_covered_in_m2      20231 non-null float64\n",
      "price_usd_per_m2           20231 non-null float64\n",
      "rooms                      20231 non-null float64\n",
      "description                20231 non-null object\n",
      "title                      20231 non-null object\n",
      "expenses_range             20231 non-null object\n",
      "surface_discrete           20231 non-null int64\n",
      "dtypes: float64(7), int64(1), object(7)\n",
      "memory usage: 2.5+ MB\n"
     ]
    }
   ],
   "source": [
    "data_set_final.info()"
   ]
  },
  {
   "cell_type": "code",
   "execution_count": 51,
   "metadata": {
    "collapsed": true
   },
   "outputs": [],
   "source": [
    "df_temp = data_set_final[['lat','lon','property_type','place_name','surface_total_in_m2','surface_covered_in_m2'\n",
    "                     ,'rooms','expenses_range','price_usd_per_m2']]"
   ]
  },
  {
   "cell_type": "code",
   "execution_count": 52,
   "metadata": {
    "collapsed": true
   },
   "outputs": [],
   "source": [
    "#Dataset para hacer la regresión\n",
    "df_reg = df_temp[df_temp['surface_covered_in_m2'].notnull()]"
   ]
  },
  {
   "cell_type": "code",
   "execution_count": 85,
   "metadata": {},
   "outputs": [
    {
     "data": {
      "text/html": [
       "<div>\n",
       "<style>\n",
       "    .dataframe thead tr:only-child th {\n",
       "        text-align: right;\n",
       "    }\n",
       "\n",
       "    .dataframe thead th {\n",
       "        text-align: left;\n",
       "    }\n",
       "\n",
       "    .dataframe tbody tr th {\n",
       "        vertical-align: top;\n",
       "    }\n",
       "</style>\n",
       "<table border=\"1\" class=\"dataframe\">\n",
       "  <thead>\n",
       "    <tr style=\"text-align: right;\">\n",
       "      <th></th>\n",
       "      <th>lat</th>\n",
       "      <th>lon</th>\n",
       "      <th>surface_total_in_m2</th>\n",
       "      <th>surface_covered_in_m2</th>\n",
       "      <th>rooms</th>\n",
       "      <th>price_usd_per_m2</th>\n",
       "      <th>property_type_apartment</th>\n",
       "      <th>property_type_house</th>\n",
       "      <th>property_type_store</th>\n",
       "      <th>place_name_Agronomía</th>\n",
       "      <th>...</th>\n",
       "      <th>place_name_Villa Pueyrredón</th>\n",
       "      <th>place_name_Villa Real</th>\n",
       "      <th>place_name_Villa Riachuelo</th>\n",
       "      <th>place_name_Villa Santa Rita</th>\n",
       "      <th>place_name_Villa Soldati</th>\n",
       "      <th>place_name_Villa Urquiza</th>\n",
       "      <th>place_name_Villa del Parque</th>\n",
       "      <th>expenses_range_baja</th>\n",
       "      <th>expenses_range_media</th>\n",
       "      <th>expenses_range_no definido</th>\n",
       "    </tr>\n",
       "  </thead>\n",
       "  <tbody>\n",
       "    <tr>\n",
       "      <th>0</th>\n",
       "      <td>-34.677247</td>\n",
       "      <td>-58.532309</td>\n",
       "      <td>55.0</td>\n",
       "      <td>40.0</td>\n",
       "      <td>2.0</td>\n",
       "      <td>1127.272727</td>\n",
       "      <td>0</td>\n",
       "      <td>0</td>\n",
       "      <td>0</td>\n",
       "      <td>0</td>\n",
       "      <td>...</td>\n",
       "      <td>0</td>\n",
       "      <td>0</td>\n",
       "      <td>0</td>\n",
       "      <td>0</td>\n",
       "      <td>0</td>\n",
       "      <td>0</td>\n",
       "      <td>0</td>\n",
       "      <td>0</td>\n",
       "      <td>0</td>\n",
       "      <td>1</td>\n",
       "    </tr>\n",
       "    <tr>\n",
       "      <th>2</th>\n",
       "      <td>-34.677247</td>\n",
       "      <td>-58.532309</td>\n",
       "      <td>55.0</td>\n",
       "      <td>55.0</td>\n",
       "      <td>2.0</td>\n",
       "      <td>1309.090909</td>\n",
       "      <td>1</td>\n",
       "      <td>0</td>\n",
       "      <td>0</td>\n",
       "      <td>0</td>\n",
       "      <td>...</td>\n",
       "      <td>0</td>\n",
       "      <td>0</td>\n",
       "      <td>0</td>\n",
       "      <td>0</td>\n",
       "      <td>0</td>\n",
       "      <td>0</td>\n",
       "      <td>0</td>\n",
       "      <td>0</td>\n",
       "      <td>0</td>\n",
       "      <td>1</td>\n",
       "    </tr>\n",
       "    <tr>\n",
       "      <th>7</th>\n",
       "      <td>-34.564074</td>\n",
       "      <td>-58.453559</td>\n",
       "      <td>45.0</td>\n",
       "      <td>40.0</td>\n",
       "      <td>2.0</td>\n",
       "      <td>3066.666667</td>\n",
       "      <td>1</td>\n",
       "      <td>0</td>\n",
       "      <td>0</td>\n",
       "      <td>0</td>\n",
       "      <td>...</td>\n",
       "      <td>0</td>\n",
       "      <td>0</td>\n",
       "      <td>0</td>\n",
       "      <td>0</td>\n",
       "      <td>0</td>\n",
       "      <td>0</td>\n",
       "      <td>0</td>\n",
       "      <td>0</td>\n",
       "      <td>0</td>\n",
       "      <td>1</td>\n",
       "    </tr>\n",
       "    <tr>\n",
       "      <th>8</th>\n",
       "      <td>-34.564074</td>\n",
       "      <td>-58.453559</td>\n",
       "      <td>65.0</td>\n",
       "      <td>60.0</td>\n",
       "      <td>3.0</td>\n",
       "      <td>3000.000000</td>\n",
       "      <td>1</td>\n",
       "      <td>0</td>\n",
       "      <td>0</td>\n",
       "      <td>0</td>\n",
       "      <td>...</td>\n",
       "      <td>0</td>\n",
       "      <td>0</td>\n",
       "      <td>0</td>\n",
       "      <td>0</td>\n",
       "      <td>0</td>\n",
       "      <td>0</td>\n",
       "      <td>0</td>\n",
       "      <td>0</td>\n",
       "      <td>0</td>\n",
       "      <td>1</td>\n",
       "    </tr>\n",
       "    <tr>\n",
       "      <th>13</th>\n",
       "      <td>-34.590498</td>\n",
       "      <td>-58.424523</td>\n",
       "      <td>50.0</td>\n",
       "      <td>30.0</td>\n",
       "      <td>1.0</td>\n",
       "      <td>2234.000000</td>\n",
       "      <td>1</td>\n",
       "      <td>0</td>\n",
       "      <td>0</td>\n",
       "      <td>0</td>\n",
       "      <td>...</td>\n",
       "      <td>0</td>\n",
       "      <td>0</td>\n",
       "      <td>0</td>\n",
       "      <td>0</td>\n",
       "      <td>0</td>\n",
       "      <td>0</td>\n",
       "      <td>0</td>\n",
       "      <td>0</td>\n",
       "      <td>0</td>\n",
       "      <td>1</td>\n",
       "    </tr>\n",
       "  </tbody>\n",
       "</table>\n",
       "<p>5 rows × 73 columns</p>\n",
       "</div>"
      ],
      "text/plain": [
       "          lat        lon  surface_total_in_m2  surface_covered_in_m2  rooms  \\\n",
       "0  -34.677247 -58.532309                 55.0                   40.0    2.0   \n",
       "2  -34.677247 -58.532309                 55.0                   55.0    2.0   \n",
       "7  -34.564074 -58.453559                 45.0                   40.0    2.0   \n",
       "8  -34.564074 -58.453559                 65.0                   60.0    3.0   \n",
       "13 -34.590498 -58.424523                 50.0                   30.0    1.0   \n",
       "\n",
       "    price_usd_per_m2  property_type_apartment  property_type_house  \\\n",
       "0        1127.272727                        0                    0   \n",
       "2        1309.090909                        1                    0   \n",
       "7        3066.666667                        1                    0   \n",
       "8        3000.000000                        1                    0   \n",
       "13       2234.000000                        1                    0   \n",
       "\n",
       "    property_type_store  place_name_Agronomía             ...              \\\n",
       "0                     0                     0             ...               \n",
       "2                     0                     0             ...               \n",
       "7                     0                     0             ...               \n",
       "8                     0                     0             ...               \n",
       "13                    0                     0             ...               \n",
       "\n",
       "    place_name_Villa Pueyrredón  place_name_Villa Real  \\\n",
       "0                             0                      0   \n",
       "2                             0                      0   \n",
       "7                             0                      0   \n",
       "8                             0                      0   \n",
       "13                            0                      0   \n",
       "\n",
       "    place_name_Villa Riachuelo  place_name_Villa Santa Rita  \\\n",
       "0                            0                            0   \n",
       "2                            0                            0   \n",
       "7                            0                            0   \n",
       "8                            0                            0   \n",
       "13                           0                            0   \n",
       "\n",
       "    place_name_Villa Soldati  place_name_Villa Urquiza  \\\n",
       "0                          0                         0   \n",
       "2                          0                         0   \n",
       "7                          0                         0   \n",
       "8                          0                         0   \n",
       "13                         0                         0   \n",
       "\n",
       "    place_name_Villa del Parque  expenses_range_baja  expenses_range_media  \\\n",
       "0                             0                    0                     0   \n",
       "2                             0                    0                     0   \n",
       "7                             0                    0                     0   \n",
       "8                             0                    0                     0   \n",
       "13                            0                    0                     0   \n",
       "\n",
       "    expenses_range_no definido  \n",
       "0                            1  \n",
       "2                            1  \n",
       "7                            1  \n",
       "8                            1  \n",
       "13                           1  \n",
       "\n",
       "[5 rows x 73 columns]"
      ]
     },
     "execution_count": 85,
     "metadata": {},
     "output_type": "execute_result"
    }
   ],
   "source": [
    "#Variables dummies de las categoricas y eliminamos la primera para que no haya combinacion lineal\n",
    "df_dummies = pd.get_dummies(df_reg, drop_first= True)\n",
    "df_dummies.head()"
   ]
  },
  {
   "cell_type": "code",
   "execution_count": 107,
   "metadata": {
    "collapsed": true
   },
   "outputs": [],
   "source": [
    "#Separamos las numericas de las categoricas para usar PolynomialFeatures\n",
    "df_dummies_num = df_dummies[['lat','lon','surface_total_in_m2','surface_covered_in_m2','rooms']]\n",
    "df_dummies_categ = df_dummies.drop(['lat','lon','surface_total_in_m2',\n",
    "                                    'surface_covered_in_m2','rooms','price_usd_per_m2'],axis = 1).copy()\n"
   ]
  },
  {
   "cell_type": "code",
   "execution_count": 92,
   "metadata": {
    "collapsed": true
   },
   "outputs": [],
   "source": [
    "#Usamos polynomialfeatures y convertimos todo en arrays\n",
    "matrix_reg_num = PolynomialFeatures(2,include_bias=True,interaction_only=False).fit_transform(df_dummies_num)\n",
    "matrix_reg_categ = df_dummies_categ.values\n",
    "matrix_df = np.concatenate((matrix_reg_num, matrix_reg_categ),axis=1)"
   ]
  },
  {
   "cell_type": "code",
   "execution_count": 93,
   "metadata": {},
   "outputs": [
    {
     "data": {
      "text/plain": [
       "array([[  1.        , -34.67724662, -58.53230853, ...,   0.        ,\n",
       "          0.        ,   1.        ],\n",
       "       [  1.        , -34.67724662, -58.53230853, ...,   0.        ,\n",
       "          0.        ,   1.        ],\n",
       "       [  1.        , -34.56407426, -58.45355874, ...,   0.        ,\n",
       "          0.        ,   1.        ],\n",
       "       ..., \n",
       "       [  1.        , -34.59217544, -58.3951365 , ...,   0.        ,\n",
       "          0.        ,   1.        ],\n",
       "       [  1.        , -34.57255194, -58.48223871, ...,   0.        ,\n",
       "          0.        ,   1.        ],\n",
       "       [  1.        , -34.61405036, -58.43222226, ...,   0.        ,\n",
       "          0.        ,   0.        ]])"
      ]
     },
     "metadata": {},
     "output_type": "display_data"
    },
    {
     "data": {
      "text/plain": [
       "array([[ 1127.27272727],\n",
       "       [ 1309.09090909],\n",
       "       [ 3066.66666667],\n",
       "       ..., \n",
       "       [ 3750.        ],\n",
       "       [ 2858.69565217],\n",
       "       [ 1675.32467532]])"
      ]
     },
     "metadata": {},
     "output_type": "display_data"
    }
   ],
   "source": [
    "y = df_dummies[['price_usd_per_m2']].values\n",
    "X = matrix_df\n",
    "display(X,y)"
   ]
  },
  {
   "cell_type": "code",
   "execution_count": 95,
   "metadata": {},
   "outputs": [
    {
     "name": "stdout",
     "output_type": "stream",
     "text": [
      "Train size:  (15173, 73)\n",
      "Test size:  (5058, 74)\n",
      "X test size:  (5058, 88)\n",
      "Y test size:  (5058, 1)\n",
      "X train size:  (15173, 88)\n",
      "Y train size:  (15173, 1)\n"
     ]
    }
   ],
   "source": [
    "#Modelo regresion lineal\n",
    "\n",
    "Xtrain, Xtest, ytrain, ytest = train_test_split(X, y, random_state = 0)\n",
    "\n",
    "model = LinearRegression()\n",
    "model.fit(Xtrain,ytrain)\n",
    "\n",
    "y_predict = model.predict(Xtest)\n",
    "\n",
    "#Train = Xtrain.join(ytrain)\n",
    "#Test = Xtest.join(ytest)\n",
    "print('Train size: ', Train.shape)\n",
    "print('Test size: ', Test.shape)\n",
    "print('X test size: ', Xtest.shape)\n",
    "print('Y test size: ', ytest.shape)\n",
    "print('X train size: ', Xtrain.shape)\n",
    "print('Y train size: ', ytrain.shape)"
   ]
  },
  {
   "cell_type": "code",
   "execution_count": 96,
   "metadata": {},
   "outputs": [
    {
     "data": {
      "text/plain": [
       "<matplotlib.collections.PathCollection at 0x7f2af5f5c518>"
      ]
     },
     "execution_count": 96,
     "metadata": {},
     "output_type": "execute_result"
    },
    {
     "name": "stderr",
     "output_type": "stream",
     "text": [
      "/home/ubuntu/anaconda3/lib/python3.6/site-packages/matplotlib/font_manager.py:1297: UserWarning: findfont: Font family ['sans-serif'] not found. Falling back to DejaVu Sans\n",
      "  (prop.get_family(), self.defaultFamily[fontext]))\n"
     ]
    },
    {
     "data": {
      "image/png": "[encoded data removed]",
      "text/plain": [
       "<matplotlib.figure.Figure at 0x7f2ac1004978>"
      ]
     },
     "metadata": {},
     "output_type": "display_data"
    }
   ],
   "source": [
    "#scatter de las predicciones vs los valores correctos\n",
    "plt.scatter(y_predict,ytest)"
   ]
  },
  {
   "cell_type": "code",
   "execution_count": 97,
   "metadata": {},
   "outputs": [
    {
     "data": {
      "text/html": [
       "<div>\n",
       "<style>\n",
       "    .dataframe thead tr:only-child th {\n",
       "        text-align: right;\n",
       "    }\n",
       "\n",
       "    .dataframe thead th {\n",
       "        text-align: left;\n",
       "    }\n",
       "\n",
       "    .dataframe tbody tr th {\n",
       "        vertical-align: top;\n",
       "    }\n",
       "</style>\n",
       "<table border=\"1\" class=\"dataframe\">\n",
       "  <thead>\n",
       "    <tr style=\"text-align: right;\">\n",
       "      <th></th>\n",
       "      <th>lat</th>\n",
       "      <th>lon</th>\n",
       "      <th>surface_total_in_m2</th>\n",
       "      <th>surface_covered_in_m2</th>\n",
       "      <th>rooms</th>\n",
       "      <th>property_type_apartment</th>\n",
       "      <th>property_type_house</th>\n",
       "      <th>property_type_store</th>\n",
       "      <th>place_name_Agronomía</th>\n",
       "      <th>place_name_Almagro</th>\n",
       "      <th>...</th>\n",
       "      <th>place_name_Villa Riachuelo</th>\n",
       "      <th>place_name_Villa Santa Rita</th>\n",
       "      <th>place_name_Villa Soldati</th>\n",
       "      <th>place_name_Villa Urquiza</th>\n",
       "      <th>place_name_Villa del Parque</th>\n",
       "      <th>expenses_range_baja</th>\n",
       "      <th>expenses_range_media</th>\n",
       "      <th>expenses_range_no definido</th>\n",
       "      <th>price_usd_per_m2</th>\n",
       "      <th>error</th>\n",
       "    </tr>\n",
       "  </thead>\n",
       "  <tbody>\n",
       "    <tr>\n",
       "      <th>47</th>\n",
       "      <td>-34.613752</td>\n",
       "      <td>-58.363825</td>\n",
       "      <td>80.0</td>\n",
       "      <td>50.0</td>\n",
       "      <td>3.0</td>\n",
       "      <td>0</td>\n",
       "      <td>1</td>\n",
       "      <td>0</td>\n",
       "      <td>0</td>\n",
       "      <td>0</td>\n",
       "      <td>...</td>\n",
       "      <td>0</td>\n",
       "      <td>0</td>\n",
       "      <td>0</td>\n",
       "      <td>0</td>\n",
       "      <td>0</td>\n",
       "      <td>0</td>\n",
       "      <td>0</td>\n",
       "      <td>1</td>\n",
       "      <td>875.000000</td>\n",
       "      <td>3321.114035</td>\n",
       "    </tr>\n",
       "    <tr>\n",
       "      <th>113606</th>\n",
       "      <td>-34.583294</td>\n",
       "      <td>-58.424300</td>\n",
       "      <td>19.0</td>\n",
       "      <td>19.0</td>\n",
       "      <td>1.0</td>\n",
       "      <td>0</td>\n",
       "      <td>0</td>\n",
       "      <td>1</td>\n",
       "      <td>0</td>\n",
       "      <td>0</td>\n",
       "      <td>...</td>\n",
       "      <td>0</td>\n",
       "      <td>0</td>\n",
       "      <td>0</td>\n",
       "      <td>0</td>\n",
       "      <td>0</td>\n",
       "      <td>0</td>\n",
       "      <td>0</td>\n",
       "      <td>1</td>\n",
       "      <td>684.210526</td>\n",
       "      <td>2685.532086</td>\n",
       "    </tr>\n",
       "    <tr>\n",
       "      <th>64645</th>\n",
       "      <td>-34.615667</td>\n",
       "      <td>-58.384063</td>\n",
       "      <td>200.0</td>\n",
       "      <td>639.0</td>\n",
       "      <td>4.0</td>\n",
       "      <td>1</td>\n",
       "      <td>0</td>\n",
       "      <td>0</td>\n",
       "      <td>0</td>\n",
       "      <td>0</td>\n",
       "      <td>...</td>\n",
       "      <td>0</td>\n",
       "      <td>0</td>\n",
       "      <td>0</td>\n",
       "      <td>0</td>\n",
       "      <td>0</td>\n",
       "      <td>0</td>\n",
       "      <td>0</td>\n",
       "      <td>1</td>\n",
       "      <td>624.413146</td>\n",
       "      <td>2332.558385</td>\n",
       "    </tr>\n",
       "    <tr>\n",
       "      <th>64643</th>\n",
       "      <td>-34.615667</td>\n",
       "      <td>-58.384063</td>\n",
       "      <td>200.0</td>\n",
       "      <td>639.0</td>\n",
       "      <td>4.0</td>\n",
       "      <td>1</td>\n",
       "      <td>0</td>\n",
       "      <td>0</td>\n",
       "      <td>0</td>\n",
       "      <td>0</td>\n",
       "      <td>...</td>\n",
       "      <td>0</td>\n",
       "      <td>0</td>\n",
       "      <td>0</td>\n",
       "      <td>0</td>\n",
       "      <td>0</td>\n",
       "      <td>0</td>\n",
       "      <td>0</td>\n",
       "      <td>1</td>\n",
       "      <td>624.413146</td>\n",
       "      <td>2332.558385</td>\n",
       "    </tr>\n",
       "    <tr>\n",
       "      <th>109317</th>\n",
       "      <td>-34.564074</td>\n",
       "      <td>-58.453559</td>\n",
       "      <td>82.0</td>\n",
       "      <td>69.0</td>\n",
       "      <td>3.0</td>\n",
       "      <td>1</td>\n",
       "      <td>0</td>\n",
       "      <td>0</td>\n",
       "      <td>0</td>\n",
       "      <td>0</td>\n",
       "      <td>...</td>\n",
       "      <td>0</td>\n",
       "      <td>0</td>\n",
       "      <td>0</td>\n",
       "      <td>0</td>\n",
       "      <td>0</td>\n",
       "      <td>0</td>\n",
       "      <td>0</td>\n",
       "      <td>1</td>\n",
       "      <td>750.000000</td>\n",
       "      <td>2283.587633</td>\n",
       "    </tr>\n",
       "    <tr>\n",
       "      <th>106874</th>\n",
       "      <td>-34.583294</td>\n",
       "      <td>-58.424300</td>\n",
       "      <td>31.0</td>\n",
       "      <td>24.0</td>\n",
       "      <td>1.0</td>\n",
       "      <td>1</td>\n",
       "      <td>0</td>\n",
       "      <td>0</td>\n",
       "      <td>0</td>\n",
       "      <td>0</td>\n",
       "      <td>...</td>\n",
       "      <td>0</td>\n",
       "      <td>0</td>\n",
       "      <td>0</td>\n",
       "      <td>0</td>\n",
       "      <td>0</td>\n",
       "      <td>0</td>\n",
       "      <td>0</td>\n",
       "      <td>1</td>\n",
       "      <td>1115.873226</td>\n",
       "      <td>2048.988575</td>\n",
       "    </tr>\n",
       "    <tr>\n",
       "      <th>106879</th>\n",
       "      <td>-34.583294</td>\n",
       "      <td>-58.424300</td>\n",
       "      <td>31.0</td>\n",
       "      <td>24.0</td>\n",
       "      <td>1.0</td>\n",
       "      <td>1</td>\n",
       "      <td>0</td>\n",
       "      <td>0</td>\n",
       "      <td>0</td>\n",
       "      <td>0</td>\n",
       "      <td>...</td>\n",
       "      <td>0</td>\n",
       "      <td>0</td>\n",
       "      <td>0</td>\n",
       "      <td>0</td>\n",
       "      <td>0</td>\n",
       "      <td>0</td>\n",
       "      <td>0</td>\n",
       "      <td>1</td>\n",
       "      <td>1158.366452</td>\n",
       "      <td>2006.495350</td>\n",
       "    </tr>\n",
       "    <tr>\n",
       "      <th>106872</th>\n",
       "      <td>-34.583294</td>\n",
       "      <td>-58.424300</td>\n",
       "      <td>34.0</td>\n",
       "      <td>24.0</td>\n",
       "      <td>1.0</td>\n",
       "      <td>1</td>\n",
       "      <td>0</td>\n",
       "      <td>0</td>\n",
       "      <td>0</td>\n",
       "      <td>0</td>\n",
       "      <td>...</td>\n",
       "      <td>0</td>\n",
       "      <td>0</td>\n",
       "      <td>0</td>\n",
       "      <td>0</td>\n",
       "      <td>0</td>\n",
       "      <td>0</td>\n",
       "      <td>0</td>\n",
       "      <td>1</td>\n",
       "      <td>1167.442647</td>\n",
       "      <td>1968.842128</td>\n",
       "    </tr>\n",
       "    <tr>\n",
       "      <th>106881</th>\n",
       "      <td>-34.583294</td>\n",
       "      <td>-58.424300</td>\n",
       "      <td>31.0</td>\n",
       "      <td>25.0</td>\n",
       "      <td>1.0</td>\n",
       "      <td>1</td>\n",
       "      <td>0</td>\n",
       "      <td>0</td>\n",
       "      <td>0</td>\n",
       "      <td>0</td>\n",
       "      <td>...</td>\n",
       "      <td>0</td>\n",
       "      <td>0</td>\n",
       "      <td>0</td>\n",
       "      <td>0</td>\n",
       "      <td>0</td>\n",
       "      <td>0</td>\n",
       "      <td>0</td>\n",
       "      <td>1</td>\n",
       "      <td>1222.457419</td>\n",
       "      <td>1950.465874</td>\n",
       "    </tr>\n",
       "    <tr>\n",
       "      <th>42191</th>\n",
       "      <td>-34.563135</td>\n",
       "      <td>-58.473774</td>\n",
       "      <td>66.0</td>\n",
       "      <td>66.0</td>\n",
       "      <td>2.0</td>\n",
       "      <td>1</td>\n",
       "      <td>0</td>\n",
       "      <td>0</td>\n",
       "      <td>0</td>\n",
       "      <td>0</td>\n",
       "      <td>...</td>\n",
       "      <td>0</td>\n",
       "      <td>0</td>\n",
       "      <td>0</td>\n",
       "      <td>0</td>\n",
       "      <td>0</td>\n",
       "      <td>0</td>\n",
       "      <td>0</td>\n",
       "      <td>1</td>\n",
       "      <td>715.409091</td>\n",
       "      <td>1935.699992</td>\n",
       "    </tr>\n",
       "  </tbody>\n",
       "</table>\n",
       "<p>10 rows × 74 columns</p>\n",
       "</div>"
      ],
      "text/plain": [
       "              lat        lon  surface_total_in_m2  surface_covered_in_m2  \\\n",
       "47     -34.613752 -58.363825                 80.0                   50.0   \n",
       "113606 -34.583294 -58.424300                 19.0                   19.0   \n",
       "64645  -34.615667 -58.384063                200.0                  639.0   \n",
       "64643  -34.615667 -58.384063                200.0                  639.0   \n",
       "109317 -34.564074 -58.453559                 82.0                   69.0   \n",
       "106874 -34.583294 -58.424300                 31.0                   24.0   \n",
       "106879 -34.583294 -58.424300                 31.0                   24.0   \n",
       "106872 -34.583294 -58.424300                 34.0                   24.0   \n",
       "106881 -34.583294 -58.424300                 31.0                   25.0   \n",
       "42191  -34.563135 -58.473774                 66.0                   66.0   \n",
       "\n",
       "        rooms  property_type_apartment  property_type_house  \\\n",
       "47        3.0                        0                    1   \n",
       "113606    1.0                        0                    0   \n",
       "64645     4.0                        1                    0   \n",
       "64643     4.0                        1                    0   \n",
       "109317    3.0                        1                    0   \n",
       "106874    1.0                        1                    0   \n",
       "106879    1.0                        1                    0   \n",
       "106872    1.0                        1                    0   \n",
       "106881    1.0                        1                    0   \n",
       "42191     2.0                        1                    0   \n",
       "\n",
       "        property_type_store  place_name_Agronomía  place_name_Almagro  \\\n",
       "47                        0                     0                   0   \n",
       "113606                    1                     0                   0   \n",
       "64645                     0                     0                   0   \n",
       "64643                     0                     0                   0   \n",
       "109317                    0                     0                   0   \n",
       "106874                    0                     0                   0   \n",
       "106879                    0                     0                   0   \n",
       "106872                    0                     0                   0   \n",
       "106881                    0                     0                   0   \n",
       "42191                     0                     0                   0   \n",
       "\n",
       "           ...       place_name_Villa Riachuelo  place_name_Villa Santa Rita  \\\n",
       "47         ...                                0                            0   \n",
       "113606     ...                                0                            0   \n",
       "64645      ...                                0                            0   \n",
       "64643      ...                                0                            0   \n",
       "109317     ...                                0                            0   \n",
       "106874     ...                                0                            0   \n",
       "106879     ...                                0                            0   \n",
       "106872     ...                                0                            0   \n",
       "106881     ...                                0                            0   \n",
       "42191      ...                                0                            0   \n",
       "\n",
       "        place_name_Villa Soldati  place_name_Villa Urquiza  \\\n",
       "47                             0                         0   \n",
       "113606                         0                         0   \n",
       "64645                          0                         0   \n",
       "64643                          0                         0   \n",
       "109317                         0                         0   \n",
       "106874                         0                         0   \n",
       "106879                         0                         0   \n",
       "106872                         0                         0   \n",
       "106881                         0                         0   \n",
       "42191                          0                         0   \n",
       "\n",
       "        place_name_Villa del Parque  expenses_range_baja  \\\n",
       "47                                0                    0   \n",
       "113606                            0                    0   \n",
       "64645                             0                    0   \n",
       "64643                             0                    0   \n",
       "109317                            0                    0   \n",
       "106874                            0                    0   \n",
       "106879                            0                    0   \n",
       "106872                            0                    0   \n",
       "106881                            0                    0   \n",
       "42191                             0                    0   \n",
       "\n",
       "        expenses_range_media  expenses_range_no definido  price_usd_per_m2  \\\n",
       "47                         0                           1        875.000000   \n",
       "113606                     0                           1        684.210526   \n",
       "64645                      0                           1        624.413146   \n",
       "64643                      0                           1        624.413146   \n",
       "109317                     0                           1        750.000000   \n",
       "106874                     0                           1       1115.873226   \n",
       "106879                     0                           1       1158.366452   \n",
       "106872                     0                           1       1167.442647   \n",
       "106881                     0                           1       1222.457419   \n",
       "42191                      0                           1        715.409091   \n",
       "\n",
       "              error  \n",
       "47      3321.114035  \n",
       "113606  2685.532086  \n",
       "64645   2332.558385  \n",
       "64643   2332.558385  \n",
       "109317  2283.587633  \n",
       "106874  2048.988575  \n",
       "106879  2006.495350  \n",
       "106872  1968.842128  \n",
       "106881  1950.465874  \n",
       "42191   1935.699992  \n",
       "\n",
       "[10 rows x 74 columns]"
      ]
     },
     "execution_count": 97,
     "metadata": {},
     "output_type": "execute_result"
    }
   ],
   "source": [
    "#Vemos las propiedades que peor se estimaron para encontrar errores y poder mejorar el modelo\n",
    "e = y_predict - ytest\n",
    "Test = Test.assign(error = y_predict - ytest)\n",
    "Test.sort_values(by = 'error', ascending=False).head(10)"
   ]
  },
  {
   "cell_type": "code",
   "execution_count": 98,
   "metadata": {},
   "outputs": [
    {
     "name": "stdout",
     "output_type": "stream",
     "text": [
      "MAE: 437.689173819\n",
      "MSE: 346166.317802\n",
      "RMSE: 588.359004182\n",
      "R2: 0.500656323956\n"
     ]
    }
   ],
   "source": [
    "#Scores para la regresion lineal\n",
    "print ('MAE:', metrics.mean_absolute_error(ytest, y_predict))\n",
    "print ('MSE:', metrics.mean_squared_error(ytest, y_predict))\n",
    "print ('RMSE:', np.sqrt(metrics.mean_squared_error(ytest, y_predict)))\n",
    "print ('R2:', metrics.r2_score(ytest, y_predict))"
   ]
  },
  {
   "cell_type": "code",
   "execution_count": 99,
   "metadata": {},
   "outputs": [
    {
     "name": "stdout",
     "output_type": "stream",
     "text": [
      "(14161, 88) (14161, 1)\n",
      "(6070, 88) (6070, 1)\n"
     ]
    }
   ],
   "source": [
    "X_train, X_test, y_train, y_test = train_test_split(X, y, test_size=0.3, random_state=53)\n",
    "print(X_train.shape, y_train.shape)\n",
    "print(X_test.shape, y_test.shape)"
   ]
  },
  {
   "cell_type": "code",
   "execution_count": 100,
   "metadata": {
    "collapsed": true
   },
   "outputs": [],
   "source": [
    "# Regresion lineal, ridge y lasso\n",
    "\n",
    "al_ridge = np.linspace(0.001, 3, 30)\n",
    "al_lasso = np.linspace(0.001, 3, 30)\n",
    "kf = KFold(n_splits=5, shuffle=True, random_state=12)\n",
    "\n",
    "# Instanciamos los modelos\n",
    "\n",
    "lm = LinearRegression()\n",
    "lmRidgeCV = RidgeCV(alphas=al_ridge, cv=kf, normalize=False)\n",
    "lmLassoCV = LassoCV(alphas=al_lasso, cv=kf, normalize=False)"
   ]
  },
  {
   "cell_type": "code",
   "execution_count": 101,
   "metadata": {},
   "outputs": [
    {
     "name": "stderr",
     "output_type": "stream",
     "text": [
      "/home/ubuntu/anaconda3/lib/python3.6/site-packages/sklearn/linear_model/coordinate_descent.py:1082: DataConversionWarning: A column-vector y was passed when a 1d array was expected. Please change the shape of y to (n_samples, ), for example using ravel().\n",
      "  y = column_or_1d(y, warn=True)\n",
      "/home/ubuntu/anaconda3/lib/python3.6/site-packages/sklearn/linear_model/coordinate_descent.py:484: ConvergenceWarning: Objective did not converge. You might want to increase the number of iterations. Fitting data with very small alpha may cause precision problems.\n",
      "  ConvergenceWarning)\n",
      "/home/ubuntu/anaconda3/lib/python3.6/site-packages/sklearn/linear_model/coordinate_descent.py:484: ConvergenceWarning: Objective did not converge. You might want to increase the number of iterations. Fitting data with very small alpha may cause precision problems.\n",
      "  ConvergenceWarning)\n"
     ]
    },
    {
     "data": {
      "text/plain": [
       "LassoCV(alphas=array([  1.00000e-03,   1.04414e-01,   2.07828e-01,   3.11241e-01,\n",
       "         4.14655e-01,   5.18069e-01,   6.21483e-01,   7.24897e-01,\n",
       "         8.28310e-01,   9.31724e-01,   1.03514e+00,   1.13855e+00,\n",
       "         1.24197e+00,   1.34538e+00,   1.44879e+00,   1.55221e+00,\n",
       "         1.65562e+00,   1...     2.48293e+00,   2.58634e+00,   2.68976e+00,   2.79317e+00,\n",
       "         2.89659e+00,   3.00000e+00]),\n",
       "    copy_X=True, cv=KFold(n_splits=5, random_state=12, shuffle=True),\n",
       "    eps=0.001, fit_intercept=True, max_iter=1000, n_alphas=100, n_jobs=1,\n",
       "    normalize=False, positive=False, precompute='auto', random_state=None,\n",
       "    selection='cyclic', tol=0.0001, verbose=False)"
      ]
     },
     "execution_count": 101,
     "metadata": {},
     "output_type": "execute_result"
    }
   ],
   "source": [
    "# Hacemos los fits respectivos\n",
    "\n",
    "lm.fit(X_train, y_train)\n",
    "lmRidgeCV.fit(X_train, y_train)\n",
    "lmLassoCV.fit(X_train, y_train)"
   ]
  },
  {
   "cell_type": "code",
   "execution_count": 102,
   "metadata": {},
   "outputs": [
    {
     "name": "stdout",
     "output_type": "stream",
     "text": [
      "Alpha Ridge: 0.31124137931 \n",
      "Alpha LASSO: 0.001 \n",
      "\n"
     ]
    }
   ],
   "source": [
    "print('Alpha Ridge:',lmRidgeCV.alpha_,'\\n'\n",
    "      'Alpha LASSO:',lmLassoCV.alpha_,'\\n')"
   ]
  },
  {
   "cell_type": "code",
   "execution_count": 103,
   "metadata": {},
   "outputs": [
    {
     "data": {
      "text/plain": [
       "(array([  1.26802115e+11]),\n",
       " array([[  9.16814663e+05,   6.40022364e+09,  -9.26718706e+07,\n",
       "          -5.84563508e+02,   7.04991332e+02,   3.28347665e+02,\n",
       "           4.85133156e+09,  -5.68367954e+09,  -1.00462532e+01,\n",
       "           2.03397246e+01,   3.15941235e+02,   1.69065551e+09,\n",
       "          -3.90020299e+00,  -1.06582463e-01,  -1.82281206e+02,\n",
       "           4.72164154e-03,   1.38378143e-03,   3.92298698e-01,\n",
       "          -4.60672379e-03,  -5.54876804e-01,  -4.66240960e+00,\n",
       "           4.36363718e+02,   1.16019573e+02,   5.81746301e+02,\n",
       "          -1.12273190e+08,   1.25901008e+06,   2.27390510e+07,\n",
       "           1.10182000e+08,  -1.78150187e+07,  -1.63771133e+08,\n",
       "           1.05088186e+08,   5.17443296e+07,   9.68328512e+06,\n",
       "           8.15060555e+06,   2.10023091e+07,   3.23926519e+07,\n",
       "          -8.41349509e+07,  -1.93744980e+08,  -1.13171636e+08,\n",
       "           3.35176791e+07,   7.10802706e+07,   1.68059943e+07,\n",
       "           2.56761768e+06,  -1.19175446e+08,   5.31904601e+06,\n",
       "           8.24210130e+07,   5.31073021e+07,  -5.03888038e+07,\n",
       "          -2.24447664e+08,   1.48719048e+07,  -6.96187395e+07,\n",
       "          -7.08834604e+07,  -8.64702818e+07,  -4.91030058e+07,\n",
       "          -3.58582816e+07,   5.06450101e+07,  -2.01000086e+07,\n",
       "           5.98209605e+07,  -1.25062461e+08,   8.14925932e+07,\n",
       "          -5.71789399e+07,   1.00366954e+08,   6.35188990e+07,\n",
       "          -1.54345918e+07,   7.26458770e+06,  -2.46930168e+08,\n",
       "           5.69282751e+07,   2.90542924e+07,   7.19943355e+07,\n",
       "           1.74832500e+07,  -7.16927476e+06,  -3.90792223e+07,\n",
       "          -4.34794367e+07,  -1.09798441e+08,  -3.83121205e+07,\n",
       "           1.25553348e+08,   6.30802994e+06,  -1.27368955e+08,\n",
       "          -1.65184457e+08,  -7.17986372e+07,   1.69693016e+08,\n",
       "          -3.12117796e+07,   1.18951410e+08,  -1.73456321e+08,\n",
       "          -6.96457337e+07,  -3.16983561e+02,  -2.63440551e+02,\n",
       "          -1.30324079e+02]]))"
      ]
     },
     "execution_count": 103,
     "metadata": {},
     "output_type": "execute_result"
    }
   ],
   "source": [
    "(lm.intercept_,lm.coef_)"
   ]
  },
  {
   "cell_type": "code",
   "execution_count": 104,
   "metadata": {},
   "outputs": [
    {
     "name": "stdout",
     "output_type": "stream",
     "text": [
      "Score Train Lineal: 0.503736489221 \n",
      "Score Train Ridge: 0.503715608767 \n",
      "Score Train Lasso: 0.502139290689\n",
      "Train MSE lineal= 343650.369915 \n",
      "Train MSE Ridge= 343664.829119 \n",
      "Train MSE Lasso= 344756.390918\n"
     ]
    }
   ],
   "source": [
    "# Calculamos el R2\n",
    "\n",
    "print(\"Score Train Lineal:\", lm.score(X_train, y_train),\"\\n\"\n",
    "      \"Score Train Ridge:\",  lmRidgeCV.score(X_train, y_train),\"\\n\"\n",
    "      \"Score Train Lasso:\",  lmLassoCV.score(X_train, y_train))\n",
    "\n",
    "# Calculamos el MSE\n",
    "\n",
    "lmpred_Tr = lm.predict(X_train)\n",
    "lmRidgepred_Tr = lmRidgeCV.predict(X_train)\n",
    "lmLassoepred_Tr = lmLassoCV.predict(X_train)\n",
    "\n",
    "print(\"Train MSE lineal=\", mean_squared_error(y_train,lmpred_Tr), \"\\n\"\n",
    "      \"Train MSE Ridge=\",  mean_squared_error(y_train,lmRidgepred_Tr), \"\\n\"\n",
    "      \"Train MSE Lasso=\",  mean_squared_error(y_train,lmLassoepred_Tr))"
   ]
  },
  {
   "cell_type": "code",
   "execution_count": 105,
   "metadata": {},
   "outputs": [
    {
     "name": "stdout",
     "output_type": "stream",
     "text": [
      "Test Score lineal= 336984.708271 \n",
      "Test Score Ridge= 336994.06701 \n",
      "Test Score Lasso= 337921.432855\n"
     ]
    }
   ],
   "source": [
    "# Hacemos las predicciones sobre la matriz de predictores del Test Set\n",
    "\n",
    "lmpred_Te = lm.predict(X_test)\n",
    "lmRidgepred_Te = lmRidgeCV.predict(X_test)\n",
    "lmLassoepred_Te = lmLassoCV.predict(X_test)\n",
    "\n",
    "# Testeo final del modelo sobre Test Set\n",
    "\n",
    "print(\"Test Score lineal=\", mean_squared_error(y_test,lmpred_Te), \"\\n\"\n",
    "      \"Test Score Ridge=\",  mean_squared_error(y_test,lmRidgepred_Te), \"\\n\"\n",
    "      \"Test Score Lasso=\",  mean_squared_error(y_test,lmLassoepred_Te))"
   ]
  },
  {
   "cell_type": "code",
   "execution_count": null,
   "metadata": {
    "collapsed": true
   },
   "outputs": [],
   "source": []
  }
 ],
 "metadata": {
  "kernelspec": {
   "display_name": "Python 3",
   "language": "python",
   "name": "python3"
  },
  "language_info": {
   "codemirror_mode": {
    "name": "ipython",
    "version": 3
   },
   "file_extension": ".py",
   "mimetype": "text/x-python",
   "name": "python",
   "nbconvert_exporter": "python",
   "pygments_lexer": "ipython3",
   "version": "3.6.1"
  }
 },
 "nbformat": 4,
 "nbformat_minor": 1
}
