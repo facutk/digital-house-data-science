{
 "cells": [
  {
   "cell_type": "code",
   "execution_count": 1,
   "metadata": {
    "collapsed": true,
    "focus": false,
    "id": "13018c95-3582-460f-ba8e-4910f7089e11",
    "slideshow": {
     "slide_type": "subslide"
    }
   },
   "outputs": [],
   "source": [
    "% matplotlib inline\n",
    "import matplotlib.pyplot as plt\n",
    "import datetime\n",
    "import numpy as np\n",
    "import pandas as pd\n",
    "from scipy import stats\n",
    "import seaborn as sns\n",
    "from sklearn import datasets\n",
    "from sklearn.model_selection import train_test_split, KFold, cross_val_score\n",
    "from sklearn.linear_model import LinearRegression, Lasso, LassoCV, Ridge, RidgeCV\n",
    "from sklearn.preprocessing import PolynomialFeatures, StandardScaler\n",
    "from sklearn.metrics import mean_squared_error, r2_score\n",
    "from IPython.display import display\n",
    "from sklearn import metrics"
   ]
  },
  {
   "cell_type": "code",
   "execution_count": 2,
   "metadata": {
    "focus": false,
    "id": "80c8956f-2e08-49b5-90c6-f97c6a9676ad",
    "slideshow": {
     "slide_type": "slide"
    }
   },
   "outputs": [
    {
     "name": "stdout",
     "output_type": "stream",
     "text": [
      "Index(['Unnamed: 0', 'operation', 'property_type', 'place_name',\n",
      "       'place_with_parent_names', 'country_name', 'state_name', 'geonames_id',\n",
      "       'lat-lon', 'lat', 'lon', 'price', 'currency',\n",
      "       'price_aprox_local_currency', 'price_aprox_usd', 'surface_total_in_m2',\n",
      "       'surface_covered_in_m2', 'price_usd_per_m2', 'price_per_m2', 'floor',\n",
      "       'rooms', 'expenses', 'properati_url', 'description', 'title',\n",
      "       'image_thumbnail'],\n",
      "      dtype='object')\n"
     ]
    },
    {
     "data": {
      "text/html": [
       "<div>\n",
       "<style>\n",
       "    .dataframe thead tr:only-child th {\n",
       "        text-align: right;\n",
       "    }\n",
       "\n",
       "    .dataframe thead th {\n",
       "        text-align: left;\n",
       "    }\n",
       "\n",
       "    .dataframe tbody tr th {\n",
       "        vertical-align: top;\n",
       "    }\n",
       "</style>\n",
       "<table border=\"1\" class=\"dataframe\">\n",
       "  <thead>\n",
       "    <tr style=\"text-align: right;\">\n",
       "      <th></th>\n",
       "      <th>Unnamed: 0</th>\n",
       "      <th>operation</th>\n",
       "      <th>property_type</th>\n",
       "      <th>place_name</th>\n",
       "      <th>place_with_parent_names</th>\n",
       "      <th>country_name</th>\n",
       "      <th>state_name</th>\n",
       "      <th>geonames_id</th>\n",
       "      <th>lat-lon</th>\n",
       "      <th>lat</th>\n",
       "      <th>...</th>\n",
       "      <th>surface_covered_in_m2</th>\n",
       "      <th>price_usd_per_m2</th>\n",
       "      <th>price_per_m2</th>\n",
       "      <th>floor</th>\n",
       "      <th>rooms</th>\n",
       "      <th>expenses</th>\n",
       "      <th>properati_url</th>\n",
       "      <th>description</th>\n",
       "      <th>title</th>\n",
       "      <th>image_thumbnail</th>\n",
       "    </tr>\n",
       "  </thead>\n",
       "  <tbody>\n",
       "    <tr>\n",
       "      <th>0</th>\n",
       "      <td>0</td>\n",
       "      <td>sell</td>\n",
       "      <td>PH</td>\n",
       "      <td>Mataderos</td>\n",
       "      <td>|Argentina|Capital Federal|Mataderos|</td>\n",
       "      <td>Argentina</td>\n",
       "      <td>Capital Federal</td>\n",
       "      <td>3430787.0</td>\n",
       "      <td>-34.6618237,-58.5088387</td>\n",
       "      <td>-34.661824</td>\n",
       "      <td>...</td>\n",
       "      <td>40.0</td>\n",
       "      <td>1127.272727</td>\n",
       "      <td>1550.000000</td>\n",
       "      <td>NaN</td>\n",
       "      <td>NaN</td>\n",
       "      <td>NaN</td>\n",
       "      <td>http://www.properati.com.ar/15bo8_venta_ph_mat...</td>\n",
       "      <td>2 AMBIENTES TIPO CASA PLANTA BAJA POR PASILLO,...</td>\n",
       "      <td>2 AMB TIPO CASA SIN EXPENSAS EN PB</td>\n",
       "      <td>https://thumbs4.properati.com/8/BluUYiHJLhgIIK...</td>\n",
       "    </tr>\n",
       "    <tr>\n",
       "      <th>1</th>\n",
       "      <td>1</td>\n",
       "      <td>sell</td>\n",
       "      <td>apartment</td>\n",
       "      <td>La Plata</td>\n",
       "      <td>|Argentina|Bs.As. G.B.A. Zona Sur|La Plata|</td>\n",
       "      <td>Argentina</td>\n",
       "      <td>Bs.As. G.B.A. Zona Sur</td>\n",
       "      <td>3432039.0</td>\n",
       "      <td>-34.9038831,-57.9643295</td>\n",
       "      <td>-34.903883</td>\n",
       "      <td>...</td>\n",
       "      <td>NaN</td>\n",
       "      <td>NaN</td>\n",
       "      <td>NaN</td>\n",
       "      <td>NaN</td>\n",
       "      <td>NaN</td>\n",
       "      <td>NaN</td>\n",
       "      <td>http://www.properati.com.ar/15bob_venta_depart...</td>\n",
       "      <td>Venta de departamento en décimo piso al frente...</td>\n",
       "      <td>VENTA Depto 2 dorm. a estrenar 7 e/ 36 y 37   ...</td>\n",
       "      <td>https://thumbs4.properati.com/7/ikpVBu2ztHA7jv...</td>\n",
       "    </tr>\n",
       "    <tr>\n",
       "      <th>2</th>\n",
       "      <td>2</td>\n",
       "      <td>sell</td>\n",
       "      <td>apartment</td>\n",
       "      <td>Mataderos</td>\n",
       "      <td>|Argentina|Capital Federal|Mataderos|</td>\n",
       "      <td>Argentina</td>\n",
       "      <td>Capital Federal</td>\n",
       "      <td>3430787.0</td>\n",
       "      <td>-34.6522615,-58.5229825</td>\n",
       "      <td>-34.652262</td>\n",
       "      <td>...</td>\n",
       "      <td>55.0</td>\n",
       "      <td>1309.090909</td>\n",
       "      <td>1309.090909</td>\n",
       "      <td>NaN</td>\n",
       "      <td>NaN</td>\n",
       "      <td>NaN</td>\n",
       "      <td>http://www.properati.com.ar/15bod_venta_depart...</td>\n",
       "      <td>2 AMBIENTES 3ER PISO LATERAL LIVING COMEDOR AM...</td>\n",
       "      <td>2 AMB 3ER PISO CON ASCENSOR APTO CREDITO</td>\n",
       "      <td>https://thumbs4.properati.com/5/SXKr34F_IwG3W_...</td>\n",
       "    </tr>\n",
       "    <tr>\n",
       "      <th>3</th>\n",
       "      <td>3</td>\n",
       "      <td>sell</td>\n",
       "      <td>PH</td>\n",
       "      <td>Liniers</td>\n",
       "      <td>|Argentina|Capital Federal|Liniers|</td>\n",
       "      <td>Argentina</td>\n",
       "      <td>Capital Federal</td>\n",
       "      <td>3431333.0</td>\n",
       "      <td>-34.6477969,-58.5164244</td>\n",
       "      <td>-34.647797</td>\n",
       "      <td>...</td>\n",
       "      <td>NaN</td>\n",
       "      <td>NaN</td>\n",
       "      <td>NaN</td>\n",
       "      <td>NaN</td>\n",
       "      <td>NaN</td>\n",
       "      <td>NaN</td>\n",
       "      <td>http://www.properati.com.ar/15boh_venta_ph_lin...</td>\n",
       "      <td>PH 3 ambientes con patio. Hay 3 deptos en lote...</td>\n",
       "      <td>PH 3 amb. cfte. reciclado</td>\n",
       "      <td>https://thumbs4.properati.com/3/DgIfX-85Mog5SP...</td>\n",
       "    </tr>\n",
       "    <tr>\n",
       "      <th>4</th>\n",
       "      <td>4</td>\n",
       "      <td>sell</td>\n",
       "      <td>apartment</td>\n",
       "      <td>Centro</td>\n",
       "      <td>|Argentina|Buenos Aires Costa Atlántica|Mar de...</td>\n",
       "      <td>Argentina</td>\n",
       "      <td>Buenos Aires Costa Atlántica</td>\n",
       "      <td>3435548.0</td>\n",
       "      <td>-38.0026256,-57.5494468</td>\n",
       "      <td>-38.002626</td>\n",
       "      <td>...</td>\n",
       "      <td>35.0</td>\n",
       "      <td>1828.571429</td>\n",
       "      <td>1828.571429</td>\n",
       "      <td>NaN</td>\n",
       "      <td>NaN</td>\n",
       "      <td>NaN</td>\n",
       "      <td>http://www.properati.com.ar/15bok_venta_depart...</td>\n",
       "      <td>DEPARTAMENTO CON FANTÁSTICA ILUMINACIÓN NATURA...</td>\n",
       "      <td>DEPTO 2 AMB AL CONTRAFRENTE ZONA CENTRO/PLAZA ...</td>\n",
       "      <td>https://thumbs4.properati.com/5/xrRqlNcSI_vs-f...</td>\n",
       "    </tr>\n",
       "  </tbody>\n",
       "</table>\n",
       "<p>5 rows × 26 columns</p>\n",
       "</div>"
      ],
      "text/plain": [
       "   Unnamed: 0 operation property_type place_name  \\\n",
       "0           0      sell            PH  Mataderos   \n",
       "1           1      sell     apartment   La Plata   \n",
       "2           2      sell     apartment  Mataderos   \n",
       "3           3      sell            PH    Liniers   \n",
       "4           4      sell     apartment     Centro   \n",
       "\n",
       "                             place_with_parent_names country_name  \\\n",
       "0              |Argentina|Capital Federal|Mataderos|    Argentina   \n",
       "1        |Argentina|Bs.As. G.B.A. Zona Sur|La Plata|    Argentina   \n",
       "2              |Argentina|Capital Federal|Mataderos|    Argentina   \n",
       "3                |Argentina|Capital Federal|Liniers|    Argentina   \n",
       "4  |Argentina|Buenos Aires Costa Atlántica|Mar de...    Argentina   \n",
       "\n",
       "                     state_name  geonames_id                  lat-lon  \\\n",
       "0               Capital Federal    3430787.0  -34.6618237,-58.5088387   \n",
       "1        Bs.As. G.B.A. Zona Sur    3432039.0  -34.9038831,-57.9643295   \n",
       "2               Capital Federal    3430787.0  -34.6522615,-58.5229825   \n",
       "3               Capital Federal    3431333.0  -34.6477969,-58.5164244   \n",
       "4  Buenos Aires Costa Atlántica    3435548.0  -38.0026256,-57.5494468   \n",
       "\n",
       "         lat                        ...                          \\\n",
       "0 -34.661824                        ...                           \n",
       "1 -34.903883                        ...                           \n",
       "2 -34.652262                        ...                           \n",
       "3 -34.647797                        ...                           \n",
       "4 -38.002626                        ...                           \n",
       "\n",
       "   surface_covered_in_m2  price_usd_per_m2 price_per_m2  floor  rooms  \\\n",
       "0                   40.0       1127.272727  1550.000000    NaN    NaN   \n",
       "1                    NaN               NaN          NaN    NaN    NaN   \n",
       "2                   55.0       1309.090909  1309.090909    NaN    NaN   \n",
       "3                    NaN               NaN          NaN    NaN    NaN   \n",
       "4                   35.0       1828.571429  1828.571429    NaN    NaN   \n",
       "\n",
       "   expenses                                      properati_url  \\\n",
       "0       NaN  http://www.properati.com.ar/15bo8_venta_ph_mat...   \n",
       "1       NaN  http://www.properati.com.ar/15bob_venta_depart...   \n",
       "2       NaN  http://www.properati.com.ar/15bod_venta_depart...   \n",
       "3       NaN  http://www.properati.com.ar/15boh_venta_ph_lin...   \n",
       "4       NaN  http://www.properati.com.ar/15bok_venta_depart...   \n",
       "\n",
       "                                         description  \\\n",
       "0  2 AMBIENTES TIPO CASA PLANTA BAJA POR PASILLO,...   \n",
       "1  Venta de departamento en décimo piso al frente...   \n",
       "2  2 AMBIENTES 3ER PISO LATERAL LIVING COMEDOR AM...   \n",
       "3  PH 3 ambientes con patio. Hay 3 deptos en lote...   \n",
       "4  DEPARTAMENTO CON FANTÁSTICA ILUMINACIÓN NATURA...   \n",
       "\n",
       "                                               title  \\\n",
       "0                 2 AMB TIPO CASA SIN EXPENSAS EN PB   \n",
       "1  VENTA Depto 2 dorm. a estrenar 7 e/ 36 y 37   ...   \n",
       "2           2 AMB 3ER PISO CON ASCENSOR APTO CREDITO   \n",
       "3                       PH 3 amb. cfte. reciclado      \n",
       "4  DEPTO 2 AMB AL CONTRAFRENTE ZONA CENTRO/PLAZA ...   \n",
       "\n",
       "                                     image_thumbnail  \n",
       "0  https://thumbs4.properati.com/8/BluUYiHJLhgIIK...  \n",
       "1  https://thumbs4.properati.com/7/ikpVBu2ztHA7jv...  \n",
       "2  https://thumbs4.properati.com/5/SXKr34F_IwG3W_...  \n",
       "3  https://thumbs4.properati.com/3/DgIfX-85Mog5SP...  \n",
       "4  https://thumbs4.properati.com/5/xrRqlNcSI_vs-f...  \n",
       "\n",
       "[5 rows x 26 columns]"
      ]
     },
     "execution_count": 2,
     "metadata": {},
     "output_type": "execute_result"
    }
   ],
   "source": [
    "# Cargamos el dataset\n",
    "df = pd.read_csv('Data/properatti.csv')\n",
    "print(df.columns)\n",
    "df.head()"
   ]
  },
  {
   "cell_type": "code",
   "execution_count": 3,
   "metadata": {},
   "outputs": [
    {
     "name": "stdout",
     "output_type": "stream",
     "text": [
      "<class 'pandas.core.frame.DataFrame'>\n",
      "RangeIndex: 121220 entries, 0 to 121219\n",
      "Data columns (total 26 columns):\n",
      "Unnamed: 0                    121220 non-null int64\n",
      "operation                     121220 non-null object\n",
      "property_type                 121220 non-null object\n",
      "place_name                    121197 non-null object\n",
      "place_with_parent_names       121220 non-null object\n",
      "country_name                  121220 non-null object\n",
      "state_name                    121220 non-null object\n",
      "geonames_id                   102503 non-null float64\n",
      "lat-lon                       69670 non-null object\n",
      "lat                           69670 non-null float64\n",
      "lon                           69670 non-null float64\n",
      "price                         100810 non-null float64\n",
      "currency                      100809 non-null object\n",
      "price_aprox_local_currency    100810 non-null float64\n",
      "price_aprox_usd               100810 non-null float64\n",
      "surface_total_in_m2           81892 non-null float64\n",
      "surface_covered_in_m2         101313 non-null float64\n",
      "price_usd_per_m2              68617 non-null float64\n",
      "price_per_m2                  87658 non-null float64\n",
      "floor                         7899 non-null float64\n",
      "rooms                         47390 non-null float64\n",
      "expenses                      14262 non-null float64\n",
      "properati_url                 121220 non-null object\n",
      "description                   121218 non-null object\n",
      "title                         121220 non-null object\n",
      "image_thumbnail               118108 non-null object\n",
      "dtypes: float64(13), int64(1), object(12)\n",
      "memory usage: 24.0+ MB\n"
     ]
    }
   ],
   "source": [
    "df.info()"
   ]
  },
  {
   "cell_type": "code",
   "execution_count": 4,
   "metadata": {
    "collapsed": true
   },
   "outputs": [],
   "source": [
    "#Elegimos algunas columnas\n",
    "df = df[['property_type', 'place_name', 'place_with_parent_names', 'state_name', 'geonames_id', 'lat', 'lon', \n",
    "        'price_aprox_usd', 'surface_total_in_m2', 'surface_covered_in_m2', 'price_usd_per_m2', 'floor', 'rooms',\n",
    "        'expenses', 'description', 'title']]"
   ]
  },
  {
   "cell_type": "code",
   "execution_count": 5,
   "metadata": {},
   "outputs": [
    {
     "name": "stdout",
     "output_type": "stream",
     "text": [
      "<class 'pandas.core.frame.DataFrame'>\n",
      "Int64Index: 23434 entries, 0 to 121219\n",
      "Data columns (total 16 columns):\n",
      "property_type              23434 non-null object\n",
      "place_name                 23434 non-null object\n",
      "place_with_parent_names    23434 non-null object\n",
      "state_name                 23434 non-null object\n",
      "geonames_id                22390 non-null float64\n",
      "lat                        17217 non-null float64\n",
      "lon                        17217 non-null float64\n",
      "price_aprox_usd            23434 non-null float64\n",
      "surface_total_in_m2        23434 non-null float64\n",
      "surface_covered_in_m2      22319 non-null float64\n",
      "price_usd_per_m2           23434 non-null float64\n",
      "floor                      1405 non-null float64\n",
      "rooms                      10554 non-null float64\n",
      "expenses                   5929 non-null float64\n",
      "description                23434 non-null object\n",
      "title                      23434 non-null object\n",
      "dtypes: float64(10), object(6)\n",
      "memory usage: 3.0+ MB\n"
     ]
    }
   ],
   "source": [
    "#Seleccionamos capital federal y las propiedades con precio\n",
    "df_capital_precio = df[pd.notnull((df['price_usd_per_m2'])) & (df['state_name'] == 'Capital Federal')]\n",
    "df_capital_precio.info()"
   ]
  },
  {
   "cell_type": "code",
   "execution_count": 6,
   "metadata": {},
   "outputs": [
    {
     "data": {
      "text/plain": [
       "<matplotlib.text.Text at 0x7f8c7ed3ab70>"
      ]
     },
     "execution_count": 6,
     "metadata": {},
     "output_type": "execute_result"
    },
    {
     "name": "stderr",
     "output_type": "stream",
     "text": [
      "/home/ubuntu/anaconda3/lib/python3.6/site-packages/matplotlib/font_manager.py:1297: UserWarning: findfont: Font family ['sans-serif'] not found. Falling back to DejaVu Sans\n",
      "  (prop.get_family(), self.defaultFamily[fontext]))\n"
     ]
    },
    {
     "data": {
      "image/png": "[encoded data removed]",
      "text/plain": [
       "<matplotlib.figure.Figure at 0x7f8c7efb3588>"
      ]
     },
     "metadata": {},
     "output_type": "display_data"
    }
   ],
   "source": [
    "plt.title(\"Precio por M2\", fontsize=15)\n",
    "sns.boxplot(y=\"price_usd_per_m2\", data=df_capital_precio)\n",
    "plt.ylabel('Precio USD por M2', fontsize=10)"
   ]
  },
  {
   "cell_type": "code",
   "execution_count": 7,
   "metadata": {
    "collapsed": true
   },
   "outputs": [],
   "source": [
    "#Eliminamos los que tienen valor por m2 mayor a 5000 y los que tienen sup cubierta mayor a sup total\n",
    "df_capital_precio = df[pd.notnull((df['price_usd_per_m2'])) & (df['state_name'] == 'Capital Federal') & \n",
    "                       (df['price_usd_per_m2'] < 5000)].copy()\n",
    "\n",
    "df_capital_precio = df_capital_precio[df_capital_precio['surface_total_in_m2'] >= df_capital_precio['surface_covered_in_m2']]"
   ]
  },
  {
   "cell_type": "code",
   "execution_count": 8,
   "metadata": {},
   "outputs": [
    {
     "data": {
      "text/plain": [
       "<matplotlib.text.Text at 0x7f8c7ec72cf8>"
      ]
     },
     "execution_count": 8,
     "metadata": {},
     "output_type": "execute_result"
    },
    {
     "name": "stderr",
     "output_type": "stream",
     "text": [
      "/home/ubuntu/anaconda3/lib/python3.6/site-packages/matplotlib/font_manager.py:1297: UserWarning: findfont: Font family ['sans-serif'] not found. Falling back to DejaVu Sans\n",
      "  (prop.get_family(), self.defaultFamily[fontext]))\n"
     ]
    },
    {
     "data": {
      "image/png": "[encoded data removed]",
      "text/plain": [
       "<matplotlib.figure.Figure at 0x7f8c7efb3780>"
      ]
     },
     "metadata": {},
     "output_type": "display_data"
    }
   ],
   "source": [
    "plt.title(\"Precio por M2\", fontsize=15)\n",
    "sns.boxplot(y=\"price_usd_per_m2\", data=df_capital_precio)\n",
    "plt.ylabel('Precio USD por M2', fontsize=10)"
   ]
  },
  {
   "cell_type": "code",
   "execution_count": 9,
   "metadata": {
    "collapsed": true
   },
   "outputs": [],
   "source": [
    "#Eliminamos los que tienen valor por m2 menor a 400\n",
    "df_capital_precio = df_capital_precio[df_capital_precio['price_usd_per_m2'] > 400]"
   ]
  },
  {
   "cell_type": "code",
   "execution_count": 10,
   "metadata": {},
   "outputs": [
    {
     "data": {
      "text/plain": [
       "<matplotlib.text.Text at 0x7f8c7eb5ceb8>"
      ]
     },
     "execution_count": 10,
     "metadata": {},
     "output_type": "execute_result"
    },
    {
     "name": "stderr",
     "output_type": "stream",
     "text": [
      "/home/ubuntu/anaconda3/lib/python3.6/site-packages/matplotlib/font_manager.py:1297: UserWarning: findfont: Font family ['sans-serif'] not found. Falling back to DejaVu Sans\n",
      "  (prop.get_family(), self.defaultFamily[fontext]))\n"
     ]
    },
    {
     "data": {
      "image/png": "[encoded data removed]",
      "text/plain": [
       "<matplotlib.figure.Figure at 0x7f8c7ebc6438>"
      ]
     },
     "metadata": {},
     "output_type": "display_data"
    }
   ],
   "source": [
    "plt.title(\"Precio por M2\", fontsize=15)\n",
    "sns.boxplot(y=\"price_usd_per_m2\", data=df_capital_precio)\n",
    "plt.ylabel('Precio USD por M2', fontsize=10)"
   ]
  },
  {
   "cell_type": "code",
   "execution_count": 11,
   "metadata": {},
   "outputs": [
    {
     "data": {
      "text/plain": [
       "<matplotlib.text.Text at 0x7f8c7eac7b38>"
      ]
     },
     "execution_count": 11,
     "metadata": {},
     "output_type": "execute_result"
    },
    {
     "name": "stderr",
     "output_type": "stream",
     "text": [
      "/home/ubuntu/anaconda3/lib/python3.6/site-packages/matplotlib/font_manager.py:1297: UserWarning: findfont: Font family ['sans-serif'] not found. Falling back to DejaVu Sans\n",
      "  (prop.get_family(), self.defaultFamily[fontext]))\n"
     ]
    },
    {
     "data": {
      "image/png": "[encoded data removed]",
      "text/plain": [
       "<matplotlib.figure.Figure at 0x7f8c7ea99438>"
      ]
     },
     "metadata": {},
     "output_type": "display_data"
    }
   ],
   "source": [
    "plt.title(\"Superficie Total en M2\", fontsize=15)\n",
    "sns.boxplot(y=\"surface_total_in_m2\", data=df_capital_precio)\n",
    "plt.ylabel('Superficie Total en M2', fontsize=10)"
   ]
  },
  {
   "cell_type": "code",
   "execution_count": 12,
   "metadata": {
    "collapsed": true
   },
   "outputs": [],
   "source": [
    "#Eliminamos los que tienen superficie mayor a 1000 m2\n",
    "df_capital_precio = df_capital_precio[(df_capital_precio['surface_total_in_m2'] < 1000)].copy()"
   ]
  },
  {
   "cell_type": "code",
   "execution_count": 13,
   "metadata": {},
   "outputs": [
    {
     "data": {
      "text/plain": [
       "<matplotlib.text.Text at 0x7f8c7eac78d0>"
      ]
     },
     "execution_count": 13,
     "metadata": {},
     "output_type": "execute_result"
    },
    {
     "name": "stderr",
     "output_type": "stream",
     "text": [
      "/home/ubuntu/anaconda3/lib/python3.6/site-packages/matplotlib/font_manager.py:1297: UserWarning: findfont: Font family ['sans-serif'] not found. Falling back to DejaVu Sans\n",
      "  (prop.get_family(), self.defaultFamily[fontext]))\n"
     ]
    },
    {
     "data": {
      "image/png": "[encoded data removed]",
      "text/plain": [
       "<matplotlib.figure.Figure at 0x7f8c7e9d1630>"
      ]
     },
     "metadata": {},
     "output_type": "display_data"
    }
   ],
   "source": [
    "plt.title(\"Superficie Total en M2 segun Tipo de Propiedad\", fontsize=15)\n",
    "sns.boxplot(y=\"surface_total_in_m2\",x=\"property_type\", data=df_capital_precio)\n",
    "plt.ylabel('Superficie Total en M2', fontsize=10)\n",
    "plt.xlabel('Tipo de Propiedad', fontsize=10)"
   ]
  },
  {
   "cell_type": "code",
   "execution_count": 14,
   "metadata": {
    "collapsed": true
   },
   "outputs": [],
   "source": [
    "def get_outliers_by_property(property_type):\n",
    "    if property_type == \"PH\":\n",
    "        return 400\n",
    "    elif property_type == \"apartment\":\n",
    "        return 200\n",
    "    elif property_type == \"house\":\n",
    "        return 900\n",
    "    elif property_type == \"store\":\n",
    "        return 600\n",
    "    return 1000\n",
    "\n",
    "def compute_outlier_surface(property_type, surface):\n",
    "    hight_surface = get_outliers_by_property(property_type)\n",
    "    if surface <  hight_surface:\n",
    "        return surface\n",
    "    else:\n",
    "        return hight_surface\n",
    "        "
   ]
  },
  {
   "cell_type": "code",
   "execution_count": 15,
   "metadata": {
    "collapsed": true
   },
   "outputs": [],
   "source": [
    "#Eliminamos outliers de sup en m2 segun el tipo de propiedad\n",
    "df_capital_precio['surface_total_in_m2'] = df_capital_precio.apply(lambda row: compute_outlier_surface(row['property_type'],row['surface_total_in_m2']),axis=1)"
   ]
  },
  {
   "cell_type": "code",
   "execution_count": 16,
   "metadata": {},
   "outputs": [
    {
     "data": {
      "text/plain": [
       "<matplotlib.text.Text at 0x7f8c7eb67b00>"
      ]
     },
     "execution_count": 16,
     "metadata": {},
     "output_type": "execute_result"
    },
    {
     "name": "stderr",
     "output_type": "stream",
     "text": [
      "/home/ubuntu/anaconda3/lib/python3.6/site-packages/matplotlib/font_manager.py:1297: UserWarning: findfont: Font family ['sans-serif'] not found. Falling back to DejaVu Sans\n",
      "  (prop.get_family(), self.defaultFamily[fontext]))\n"
     ]
    },
    {
     "data": {
      "image/png": "[encoded data removed]",
      "text/plain": [
       "<matplotlib.figure.Figure at 0x7f8c7e9d17b8>"
      ]
     },
     "metadata": {},
     "output_type": "display_data"
    }
   ],
   "source": [
    "plt.title(\"Superficie Total en M2 segun Tipo de Propiedad\", fontsize=15)\n",
    "sns.boxplot(y=\"surface_total_in_m2\",x=\"property_type\", data=df_capital_precio)\n",
    "plt.ylabel('Superficie Total en M2', fontsize=10)\n",
    "plt.xlabel('Tipo de Propiedad', fontsize=10)"
   ]
  },
  {
   "cell_type": "code",
   "execution_count": 17,
   "metadata": {},
   "outputs": [
    {
     "data": {
      "text/plain": [
       "<matplotlib.text.Text at 0x7f8c7e8270f0>"
      ]
     },
     "execution_count": 17,
     "metadata": {},
     "output_type": "execute_result"
    },
    {
     "name": "stderr",
     "output_type": "stream",
     "text": [
      "/home/ubuntu/anaconda3/lib/python3.6/site-packages/matplotlib/font_manager.py:1297: UserWarning: findfont: Font family ['sans-serif'] not found. Falling back to DejaVu Sans\n",
      "  (prop.get_family(), self.defaultFamily[fontext]))\n"
     ]
    },
    {
     "data": {
      "image/png": "[encoded data removed]",
      "text/plain": [
       "<matplotlib.figure.Figure at 0x7f8c7e927a20>"
      ]
     },
     "metadata": {},
     "output_type": "display_data"
    }
   ],
   "source": [
    "plt.title(\"Precio por M2 segun tipo de propiedad\", fontsize=15)\n",
    "sns.boxplot(y=\"price_usd_per_m2\", x=\"property_type\", data=df_capital_precio)\n",
    "plt.ylabel('Precio por M2', fontsize=10)\n",
    "plt.xlabel('Tipo de Propiedad', fontsize=10)"
   ]
  },
  {
   "cell_type": "code",
   "execution_count": 18,
   "metadata": {
    "collapsed": true
   },
   "outputs": [],
   "source": [
    "#Completamos los valores faltantes de lat y lon con la media de cada barrio\n",
    "lat_by_place_name = df_capital_precio.groupby('place_name')['lat'].mean()\n",
    "lon_by_place_name = df_capital_precio.groupby('place_name')['lon'].mean()\n",
    "\n",
    "df_capital_precio['lat'] = df_capital_precio.apply(lambda row: lat_by_place_name[row['place_name']], axis=1)\n",
    "df_capital_precio['lon'] = df_capital_precio.apply(lambda row: lon_by_place_name[row['place_name']], axis=1)"
   ]
  },
  {
   "cell_type": "code",
   "execution_count": 19,
   "metadata": {},
   "outputs": [
    {
     "data": {
      "text/plain": [
       "<matplotlib.text.Text at 0x7f8c7e762e48>"
      ]
     },
     "execution_count": 19,
     "metadata": {},
     "output_type": "execute_result"
    },
    {
     "name": "stderr",
     "output_type": "stream",
     "text": [
      "/home/ubuntu/anaconda3/lib/python3.6/site-packages/matplotlib/font_manager.py:1297: UserWarning: findfont: Font family ['sans-serif'] not found. Falling back to DejaVu Sans\n",
      "  (prop.get_family(), self.defaultFamily[fontext]))\n"
     ]
    },
    {
     "data": {
      "image/png": "[encoded data removed]",
      "text/plain": [
       "<matplotlib.figure.Figure at 0x7f8c7e927b38>"
      ]
     },
     "metadata": {},
     "output_type": "display_data"
    }
   ],
   "source": [
    "plt.title(\"Precio por M2 segun latitud\", fontsize=15)\n",
    "sns.regplot(y=\"price_usd_per_m2\", x=\"lat\", data=df_capital_precio)\n",
    "plt.ylabel('Precio por M2', fontsize=10)\n",
    "plt.xlabel('Latitud', fontsize=10)"
   ]
  },
  {
   "cell_type": "code",
   "execution_count": 20,
   "metadata": {},
   "outputs": [
    {
     "data": {
      "text/plain": [
       "<matplotlib.text.Text at 0x7f8c7db755f8>"
      ]
     },
     "execution_count": 20,
     "metadata": {},
     "output_type": "execute_result"
    },
    {
     "name": "stderr",
     "output_type": "stream",
     "text": [
      "/home/ubuntu/anaconda3/lib/python3.6/site-packages/matplotlib/font_manager.py:1297: UserWarning: findfont: Font family ['sans-serif'] not found. Falling back to DejaVu Sans\n",
      "  (prop.get_family(), self.defaultFamily[fontext]))\n"
     ]
    },
    {
     "data": {
      "image/png": "[encoded data removed]",
      "text/plain": [
       "<matplotlib.figure.Figure at 0x7f8c7db7d240>"
      ]
     },
     "metadata": {},
     "output_type": "display_data"
    }
   ],
   "source": [
    "plt.title(\"Precio por M2 segun longitud\", fontsize=15)\n",
    "sns.regplot(y=\"price_usd_per_m2\", x=\"lon\", data=df_capital_precio)\n",
    "plt.ylabel('Precio por M2', fontsize=10)\n",
    "plt.xlabel('Longitud', fontsize=10)"
   ]
  },
  {
   "cell_type": "code",
   "execution_count": 21,
   "metadata": {},
   "outputs": [
    {
     "data": {
      "text/html": [
       "<div>\n",
       "<style>\n",
       "    .dataframe thead tr:only-child th {\n",
       "        text-align: right;\n",
       "    }\n",
       "\n",
       "    .dataframe thead th {\n",
       "        text-align: left;\n",
       "    }\n",
       "\n",
       "    .dataframe tbody tr th {\n",
       "        vertical-align: top;\n",
       "    }\n",
       "</style>\n",
       "<table border=\"1\" class=\"dataframe\">\n",
       "  <thead>\n",
       "    <tr style=\"text-align: right;\">\n",
       "      <th></th>\n",
       "      <th>lat</th>\n",
       "      <th>lon</th>\n",
       "      <th>price_usd_per_m2</th>\n",
       "      <th>expenses</th>\n",
       "    </tr>\n",
       "  </thead>\n",
       "  <tbody>\n",
       "    <tr>\n",
       "      <th>lat</th>\n",
       "      <td>1.000000</td>\n",
       "      <td>-0.111712</td>\n",
       "      <td>0.439645</td>\n",
       "      <td>-0.029419</td>\n",
       "    </tr>\n",
       "    <tr>\n",
       "      <th>lon</th>\n",
       "      <td>-0.111712</td>\n",
       "      <td>1.000000</td>\n",
       "      <td>0.113050</td>\n",
       "      <td>-0.038652</td>\n",
       "    </tr>\n",
       "    <tr>\n",
       "      <th>price_usd_per_m2</th>\n",
       "      <td>0.439645</td>\n",
       "      <td>0.113050</td>\n",
       "      <td>1.000000</td>\n",
       "      <td>0.021872</td>\n",
       "    </tr>\n",
       "    <tr>\n",
       "      <th>expenses</th>\n",
       "      <td>-0.029419</td>\n",
       "      <td>-0.038652</td>\n",
       "      <td>0.021872</td>\n",
       "      <td>1.000000</td>\n",
       "    </tr>\n",
       "  </tbody>\n",
       "</table>\n",
       "</div>"
      ],
      "text/plain": [
       "                       lat       lon  price_usd_per_m2  expenses\n",
       "lat               1.000000 -0.111712          0.439645 -0.029419\n",
       "lon              -0.111712  1.000000          0.113050 -0.038652\n",
       "price_usd_per_m2  0.439645  0.113050          1.000000  0.021872\n",
       "expenses         -0.029419 -0.038652          0.021872  1.000000"
      ]
     },
     "execution_count": 21,
     "metadata": {},
     "output_type": "execute_result"
    }
   ],
   "source": [
    "#Matriz de correlacion entre precio, expensas, latitud y longitud\n",
    "df_capital_precio[['lat','lon','price_usd_per_m2','expenses']].corr()"
   ]
  },
  {
   "cell_type": "code",
   "execution_count": 22,
   "metadata": {},
   "outputs": [
    {
     "data": {
      "text/html": [
       "<div>\n",
       "<style>\n",
       "    .dataframe thead tr:only-child th {\n",
       "        text-align: right;\n",
       "    }\n",
       "\n",
       "    .dataframe thead th {\n",
       "        text-align: left;\n",
       "    }\n",
       "\n",
       "    .dataframe tbody tr th {\n",
       "        vertical-align: top;\n",
       "    }\n",
       "</style>\n",
       "<table border=\"1\" class=\"dataframe\">\n",
       "  <thead>\n",
       "    <tr style=\"text-align: right;\">\n",
       "      <th></th>\n",
       "      <th>property_type</th>\n",
       "      <th>place_name</th>\n",
       "      <th>place_with_parent_names</th>\n",
       "      <th>state_name</th>\n",
       "      <th>geonames_id</th>\n",
       "      <th>lat</th>\n",
       "      <th>lon</th>\n",
       "      <th>price_aprox_usd</th>\n",
       "      <th>surface_total_in_m2</th>\n",
       "      <th>surface_covered_in_m2</th>\n",
       "      <th>price_usd_per_m2</th>\n",
       "      <th>floor</th>\n",
       "      <th>rooms</th>\n",
       "      <th>expenses</th>\n",
       "      <th>description</th>\n",
       "      <th>title</th>\n",
       "    </tr>\n",
       "  </thead>\n",
       "  <tbody>\n",
       "    <tr>\n",
       "      <th>74722</th>\n",
       "      <td>house</td>\n",
       "      <td>Mataderos</td>\n",
       "      <td>|Argentina|Capital Federal|Mataderos|</td>\n",
       "      <td>Capital Federal</td>\n",
       "      <td>3430787.0</td>\n",
       "      <td>-34.677247</td>\n",
       "      <td>-58.532309</td>\n",
       "      <td>415000.0</td>\n",
       "      <td>280.0</td>\n",
       "      <td>270.0</td>\n",
       "      <td>1482.142857</td>\n",
       "      <td>NaN</td>\n",
       "      <td>NaN</td>\n",
       "      <td>NaN</td>\n",
       "      <td>VENTA CASA 5  AMB LOTE PROPIO: BARRIO NAON.P.B...</td>\n",
       "      <td>Casa en Mataderos</td>\n",
       "    </tr>\n",
       "    <tr>\n",
       "      <th>63371</th>\n",
       "      <td>apartment</td>\n",
       "      <td>Caballito</td>\n",
       "      <td>|Argentina|Capital Federal|Caballito|</td>\n",
       "      <td>Capital Federal</td>\n",
       "      <td>3435874.0</td>\n",
       "      <td>-34.618468</td>\n",
       "      <td>-58.443137</td>\n",
       "      <td>175000.0</td>\n",
       "      <td>65.0</td>\n",
       "      <td>60.0</td>\n",
       "      <td>2692.307692</td>\n",
       "      <td>NaN</td>\n",
       "      <td>3.0</td>\n",
       "      <td>2500.0</td>\n",
       "      <td>Departamento 3 ambientes al frente con balcón ...</td>\n",
       "      <td>Departamento venta</td>\n",
       "    </tr>\n",
       "    <tr>\n",
       "      <th>80316</th>\n",
       "      <td>apartment</td>\n",
       "      <td>Villa Urquiza</td>\n",
       "      <td>|Argentina|Capital Federal|Villa Urquiza|</td>\n",
       "      <td>Capital Federal</td>\n",
       "      <td>3433775.0</td>\n",
       "      <td>-34.572552</td>\n",
       "      <td>-58.482239</td>\n",
       "      <td>230000.0</td>\n",
       "      <td>91.0</td>\n",
       "      <td>83.0</td>\n",
       "      <td>2527.472527</td>\n",
       "      <td>NaN</td>\n",
       "      <td>NaN</td>\n",
       "      <td>5100.0</td>\n",
       "      <td>Hermoso semipiso de 91m2 totales (83 cubiertos...</td>\n",
       "      <td>Cómodo semipiso  de tres ambientes de 91m2 con...</td>\n",
       "    </tr>\n",
       "    <tr>\n",
       "      <th>48165</th>\n",
       "      <td>apartment</td>\n",
       "      <td>Colegiales</td>\n",
       "      <td>|Argentina|Capital Federal|Colegiales|</td>\n",
       "      <td>Capital Federal</td>\n",
       "      <td>3435356.0</td>\n",
       "      <td>-34.578652</td>\n",
       "      <td>-58.450240</td>\n",
       "      <td>240000.0</td>\n",
       "      <td>109.0</td>\n",
       "      <td>81.0</td>\n",
       "      <td>2201.834862</td>\n",
       "      <td>NaN</td>\n",
       "      <td>4.0</td>\n",
       "      <td>NaN</td>\n",
       "      <td>Excelente Triplex, en edificio \"Premio Municip...</td>\n",
       "      <td>Increible Triplex C/ Playroom, Terraza y Pilet...</td>\n",
       "    </tr>\n",
       "    <tr>\n",
       "      <th>110429</th>\n",
       "      <td>apartment</td>\n",
       "      <td>Villa General Mitre</td>\n",
       "      <td>|Argentina|Capital Federal|Villa General Mitre|</td>\n",
       "      <td>Capital Federal</td>\n",
       "      <td>3427433.0</td>\n",
       "      <td>-34.609964</td>\n",
       "      <td>-58.467125</td>\n",
       "      <td>54300.0</td>\n",
       "      <td>24.0</td>\n",
       "      <td>24.0</td>\n",
       "      <td>2262.500000</td>\n",
       "      <td>4.0</td>\n",
       "      <td>1.0</td>\n",
       "      <td>NaN</td>\n",
       "      <td>Departamento MONOAMBIENTE, muy luminoso. Livin...</td>\n",
       "      <td>MUY LUMINOSO // TRES ARROYOS 2400</td>\n",
       "    </tr>\n",
       "    <tr>\n",
       "      <th>108140</th>\n",
       "      <td>apartment</td>\n",
       "      <td>Villa Ortuzar</td>\n",
       "      <td>|Argentina|Capital Federal|Villa Ortuzar|</td>\n",
       "      <td>Capital Federal</td>\n",
       "      <td>3427387.0</td>\n",
       "      <td>-34.581232</td>\n",
       "      <td>-58.468521</td>\n",
       "      <td>75000.0</td>\n",
       "      <td>33.0</td>\n",
       "      <td>31.0</td>\n",
       "      <td>2272.727273</td>\n",
       "      <td>NaN</td>\n",
       "      <td>NaN</td>\n",
       "      <td>NaN</td>\n",
       "      <td>CODIGO: 916-69624 ubicado en: ROSETI 1900 -  P...</td>\n",
       "      <td>Departamento en Venta en Villa Ortúzar, Capita...</td>\n",
       "    </tr>\n",
       "    <tr>\n",
       "      <th>48934</th>\n",
       "      <td>apartment</td>\n",
       "      <td>Caballito</td>\n",
       "      <td>|Argentina|Capital Federal|Caballito|</td>\n",
       "      <td>Capital Federal</td>\n",
       "      <td>3435874.0</td>\n",
       "      <td>-34.618468</td>\n",
       "      <td>-58.443137</td>\n",
       "      <td>84000.0</td>\n",
       "      <td>31.0</td>\n",
       "      <td>31.0</td>\n",
       "      <td>2709.677419</td>\n",
       "      <td>NaN</td>\n",
       "      <td>1.0</td>\n",
       "      <td>NaN</td>\n",
       "      <td>Monoambiente al frente con balcón. Luminoso. B...</td>\n",
       "      <td>Monoambiente en venta al frente. Muy Luminoso</td>\n",
       "    </tr>\n",
       "    <tr>\n",
       "      <th>64929</th>\n",
       "      <td>apartment</td>\n",
       "      <td>Villa Crespo</td>\n",
       "      <td>|Argentina|Capital Federal|Villa Crespo|</td>\n",
       "      <td>Capital Federal</td>\n",
       "      <td>3427458.0</td>\n",
       "      <td>-34.597778</td>\n",
       "      <td>-58.438991</td>\n",
       "      <td>153000.0</td>\n",
       "      <td>59.0</td>\n",
       "      <td>50.0</td>\n",
       "      <td>2593.220339</td>\n",
       "      <td>NaN</td>\n",
       "      <td>NaN</td>\n",
       "      <td>2000.0</td>\n",
       "      <td>3 ambientes, contrafrente con vista abierta, m...</td>\n",
       "      <td>3 ambientes en alquiler con cochera</td>\n",
       "    </tr>\n",
       "    <tr>\n",
       "      <th>36412</th>\n",
       "      <td>apartment</td>\n",
       "      <td>Belgrano</td>\n",
       "      <td>|Argentina|Capital Federal|Belgrano|</td>\n",
       "      <td>Capital Federal</td>\n",
       "      <td>3436077.0</td>\n",
       "      <td>-34.564093</td>\n",
       "      <td>-58.453591</td>\n",
       "      <td>119000.0</td>\n",
       "      <td>36.0</td>\n",
       "      <td>35.0</td>\n",
       "      <td>3305.555556</td>\n",
       "      <td>NaN</td>\n",
       "      <td>2.0</td>\n",
       "      <td>NaN</td>\n",
       "      <td>Departamento 2 ambientes piso alto super lumin...</td>\n",
       "      <td>DEPARTAMENTO EN VENTA 2 AMBIENTES EN BELGRANO ...</td>\n",
       "    </tr>\n",
       "    <tr>\n",
       "      <th>23267</th>\n",
       "      <td>apartment</td>\n",
       "      <td>Saavedra</td>\n",
       "      <td>|Argentina|Capital Federal|Saavedra|</td>\n",
       "      <td>Capital Federal</td>\n",
       "      <td>3429422.0</td>\n",
       "      <td>-34.551781</td>\n",
       "      <td>-58.483429</td>\n",
       "      <td>165000.0</td>\n",
       "      <td>79.0</td>\n",
       "      <td>56.0</td>\n",
       "      <td>2088.607595</td>\n",
       "      <td>3.0</td>\n",
       "      <td>NaN</td>\n",
       "      <td>NaN</td>\n",
       "      <td>IMPECABLE DEPARTAMENTO DE 2 AMBIENTES AL FRENT...</td>\n",
       "      <td>Departamento 79m² con Plantas en Besares 3700,...</td>\n",
       "    </tr>\n",
       "  </tbody>\n",
       "</table>\n",
       "</div>"
      ],
      "text/plain": [
       "       property_type           place_name  \\\n",
       "74722          house            Mataderos   \n",
       "63371      apartment            Caballito   \n",
       "80316      apartment        Villa Urquiza   \n",
       "48165      apartment           Colegiales   \n",
       "110429     apartment  Villa General Mitre   \n",
       "108140     apartment        Villa Ortuzar   \n",
       "48934      apartment            Caballito   \n",
       "64929      apartment         Villa Crespo   \n",
       "36412      apartment             Belgrano   \n",
       "23267      apartment             Saavedra   \n",
       "\n",
       "                                place_with_parent_names       state_name  \\\n",
       "74722             |Argentina|Capital Federal|Mataderos|  Capital Federal   \n",
       "63371             |Argentina|Capital Federal|Caballito|  Capital Federal   \n",
       "80316         |Argentina|Capital Federal|Villa Urquiza|  Capital Federal   \n",
       "48165            |Argentina|Capital Federal|Colegiales|  Capital Federal   \n",
       "110429  |Argentina|Capital Federal|Villa General Mitre|  Capital Federal   \n",
       "108140        |Argentina|Capital Federal|Villa Ortuzar|  Capital Federal   \n",
       "48934             |Argentina|Capital Federal|Caballito|  Capital Federal   \n",
       "64929          |Argentina|Capital Federal|Villa Crespo|  Capital Federal   \n",
       "36412              |Argentina|Capital Federal|Belgrano|  Capital Federal   \n",
       "23267              |Argentina|Capital Federal|Saavedra|  Capital Federal   \n",
       "\n",
       "        geonames_id        lat        lon  price_aprox_usd  \\\n",
       "74722     3430787.0 -34.677247 -58.532309         415000.0   \n",
       "63371     3435874.0 -34.618468 -58.443137         175000.0   \n",
       "80316     3433775.0 -34.572552 -58.482239         230000.0   \n",
       "48165     3435356.0 -34.578652 -58.450240         240000.0   \n",
       "110429    3427433.0 -34.609964 -58.467125          54300.0   \n",
       "108140    3427387.0 -34.581232 -58.468521          75000.0   \n",
       "48934     3435874.0 -34.618468 -58.443137          84000.0   \n",
       "64929     3427458.0 -34.597778 -58.438991         153000.0   \n",
       "36412     3436077.0 -34.564093 -58.453591         119000.0   \n",
       "23267     3429422.0 -34.551781 -58.483429         165000.0   \n",
       "\n",
       "        surface_total_in_m2  surface_covered_in_m2  price_usd_per_m2  floor  \\\n",
       "74722                 280.0                  270.0       1482.142857    NaN   \n",
       "63371                  65.0                   60.0       2692.307692    NaN   \n",
       "80316                  91.0                   83.0       2527.472527    NaN   \n",
       "48165                 109.0                   81.0       2201.834862    NaN   \n",
       "110429                 24.0                   24.0       2262.500000    4.0   \n",
       "108140                 33.0                   31.0       2272.727273    NaN   \n",
       "48934                  31.0                   31.0       2709.677419    NaN   \n",
       "64929                  59.0                   50.0       2593.220339    NaN   \n",
       "36412                  36.0                   35.0       3305.555556    NaN   \n",
       "23267                  79.0                   56.0       2088.607595    3.0   \n",
       "\n",
       "        rooms  expenses                                        description  \\\n",
       "74722     NaN       NaN  VENTA CASA 5  AMB LOTE PROPIO: BARRIO NAON.P.B...   \n",
       "63371     3.0    2500.0  Departamento 3 ambientes al frente con balcón ...   \n",
       "80316     NaN    5100.0  Hermoso semipiso de 91m2 totales (83 cubiertos...   \n",
       "48165     4.0       NaN  Excelente Triplex, en edificio \"Premio Municip...   \n",
       "110429    1.0       NaN  Departamento MONOAMBIENTE, muy luminoso. Livin...   \n",
       "108140    NaN       NaN  CODIGO: 916-69624 ubicado en: ROSETI 1900 -  P...   \n",
       "48934     1.0       NaN  Monoambiente al frente con balcón. Luminoso. B...   \n",
       "64929     NaN    2000.0  3 ambientes, contrafrente con vista abierta, m...   \n",
       "36412     2.0       NaN  Departamento 2 ambientes piso alto super lumin...   \n",
       "23267     NaN       NaN  IMPECABLE DEPARTAMENTO DE 2 AMBIENTES AL FRENT...   \n",
       "\n",
       "                                                    title  \n",
       "74722                                   Casa en Mataderos  \n",
       "63371                                  Departamento venta  \n",
       "80316   Cómodo semipiso  de tres ambientes de 91m2 con...  \n",
       "48165   Increible Triplex C/ Playroom, Terraza y Pilet...  \n",
       "110429                  MUY LUMINOSO // TRES ARROYOS 2400  \n",
       "108140  Departamento en Venta en Villa Ortúzar, Capita...  \n",
       "48934       Monoambiente en venta al frente. Muy Luminoso  \n",
       "64929                 3 ambientes en alquiler con cochera  \n",
       "36412   DEPARTAMENTO EN VENTA 2 AMBIENTES EN BELGRANO ...  \n",
       "23267   Departamento 79m² con Plantas en Besares 3700,...  "
      ]
     },
     "execution_count": 22,
     "metadata": {},
     "output_type": "execute_result"
    }
   ],
   "source": [
    "df_capital_precio.sample(10)"
   ]
  },
  {
   "cell_type": "code",
   "execution_count": 23,
   "metadata": {
    "collapsed": true
   },
   "outputs": [],
   "source": [
    "#Creamos variables categoricas para las expensas por m2 (baja, media, alta y no definido)\n",
    "expenses_for_surface = df_capital_precio[['expenses','surface_total_in_m2']].apply(lambda row: row['expenses']/row['surface_total_in_m2'],axis=1)"
   ]
  },
  {
   "cell_type": "code",
   "execution_count": 24,
   "metadata": {},
   "outputs": [
    {
     "name": "stdout",
     "output_type": "stream",
     "text": [
      "Baja: 25.0\n",
      "Alta: 45.45454545454545\n"
     ]
    }
   ],
   "source": [
    "print(\"Baja: {}\".format(np.percentile(expenses_for_surface.dropna(), 30)))\n",
    "\n",
    "print(\"Alta: {}\".format(np.percentile(expenses_for_surface.dropna(), 70)))"
   ]
  },
  {
   "cell_type": "code",
   "execution_count": 25,
   "metadata": {
    "collapsed": true
   },
   "outputs": [],
   "source": [
    "def get_expenses(x):\n",
    "    if np.isnan(x['expenses']):\n",
    "        return 'no definido'\n",
    "    x = x['expenses']/x['surface_total_in_m2']\n",
    "    if 0 < x <= 25:\n",
    "        return 'baja'\n",
    "    elif 25 < x <= 45:\n",
    "        return 'media'\n",
    "    elif 45 < x <= 100:\n",
    "        return 'alta'\n",
    "    return 'no definido'"
   ]
  },
  {
   "cell_type": "code",
   "execution_count": 26,
   "metadata": {
    "collapsed": true
   },
   "outputs": [],
   "source": [
    "#Agregamos la columna del tipo de expensas al dataset\n",
    "df_capital_precio['expenses_range'] = df_capital_precio[['expenses','surface_total_in_m2']].apply(get_expenses,axis=1)"
   ]
  },
  {
   "cell_type": "code",
   "execution_count": 27,
   "metadata": {},
   "outputs": [
    {
     "data": {
      "text/html": [
       "<div>\n",
       "<style>\n",
       "    .dataframe thead tr:only-child th {\n",
       "        text-align: right;\n",
       "    }\n",
       "\n",
       "    .dataframe thead th {\n",
       "        text-align: left;\n",
       "    }\n",
       "\n",
       "    .dataframe tbody tr th {\n",
       "        vertical-align: top;\n",
       "    }\n",
       "</style>\n",
       "<table border=\"1\" class=\"dataframe\">\n",
       "  <thead>\n",
       "    <tr style=\"text-align: right;\">\n",
       "      <th></th>\n",
       "      <th>property_type</th>\n",
       "      <th>place_name</th>\n",
       "      <th>place_with_parent_names</th>\n",
       "      <th>state_name</th>\n",
       "      <th>geonames_id</th>\n",
       "      <th>lat</th>\n",
       "      <th>lon</th>\n",
       "      <th>price_aprox_usd</th>\n",
       "      <th>surface_total_in_m2</th>\n",
       "      <th>surface_covered_in_m2</th>\n",
       "      <th>price_usd_per_m2</th>\n",
       "      <th>floor</th>\n",
       "      <th>rooms</th>\n",
       "      <th>expenses</th>\n",
       "      <th>description</th>\n",
       "      <th>title</th>\n",
       "      <th>expenses_range</th>\n",
       "    </tr>\n",
       "  </thead>\n",
       "  <tbody>\n",
       "    <tr>\n",
       "      <th>0</th>\n",
       "      <td>PH</td>\n",
       "      <td>Mataderos</td>\n",
       "      <td>|Argentina|Capital Federal|Mataderos|</td>\n",
       "      <td>Capital Federal</td>\n",
       "      <td>3430787.0</td>\n",
       "      <td>-34.677247</td>\n",
       "      <td>-58.532309</td>\n",
       "      <td>62000.0</td>\n",
       "      <td>55.0</td>\n",
       "      <td>40.0</td>\n",
       "      <td>1127.272727</td>\n",
       "      <td>NaN</td>\n",
       "      <td>NaN</td>\n",
       "      <td>NaN</td>\n",
       "      <td>2 AMBIENTES TIPO CASA PLANTA BAJA POR PASILLO,...</td>\n",
       "      <td>2 AMB TIPO CASA SIN EXPENSAS EN PB</td>\n",
       "      <td>no definido</td>\n",
       "    </tr>\n",
       "    <tr>\n",
       "      <th>2</th>\n",
       "      <td>apartment</td>\n",
       "      <td>Mataderos</td>\n",
       "      <td>|Argentina|Capital Federal|Mataderos|</td>\n",
       "      <td>Capital Federal</td>\n",
       "      <td>3430787.0</td>\n",
       "      <td>-34.677247</td>\n",
       "      <td>-58.532309</td>\n",
       "      <td>72000.0</td>\n",
       "      <td>55.0</td>\n",
       "      <td>55.0</td>\n",
       "      <td>1309.090909</td>\n",
       "      <td>NaN</td>\n",
       "      <td>NaN</td>\n",
       "      <td>NaN</td>\n",
       "      <td>2 AMBIENTES 3ER PISO LATERAL LIVING COMEDOR AM...</td>\n",
       "      <td>2 AMB 3ER PISO CON ASCENSOR APTO CREDITO</td>\n",
       "      <td>no definido</td>\n",
       "    </tr>\n",
       "    <tr>\n",
       "      <th>7</th>\n",
       "      <td>apartment</td>\n",
       "      <td>Belgrano</td>\n",
       "      <td>|Argentina|Capital Federal|Belgrano|</td>\n",
       "      <td>Capital Federal</td>\n",
       "      <td>3436077.0</td>\n",
       "      <td>-34.564093</td>\n",
       "      <td>-58.453591</td>\n",
       "      <td>138000.0</td>\n",
       "      <td>45.0</td>\n",
       "      <td>40.0</td>\n",
       "      <td>3066.666667</td>\n",
       "      <td>NaN</td>\n",
       "      <td>NaN</td>\n",
       "      <td>NaN</td>\n",
       "      <td>EXCELENTE MONOAMBIENTE A ESTRENAR AMPLIO SUPER...</td>\n",
       "      <td>JOSE HERNANDEZ 1400 MONOAMBIENTE  ESTRENAR CAT...</td>\n",
       "      <td>no definido</td>\n",
       "    </tr>\n",
       "    <tr>\n",
       "      <th>8</th>\n",
       "      <td>apartment</td>\n",
       "      <td>Belgrano</td>\n",
       "      <td>|Argentina|Capital Federal|Belgrano|</td>\n",
       "      <td>Capital Federal</td>\n",
       "      <td>3436077.0</td>\n",
       "      <td>-34.564093</td>\n",
       "      <td>-58.453591</td>\n",
       "      <td>195000.0</td>\n",
       "      <td>65.0</td>\n",
       "      <td>60.0</td>\n",
       "      <td>3000.000000</td>\n",
       "      <td>NaN</td>\n",
       "      <td>NaN</td>\n",
       "      <td>NaN</td>\n",
       "      <td>EXCELENTE DOS AMBIENTES  ESTRENAR AMPLIO SUPER...</td>\n",
       "      <td>JOSE HERNANDEZ   1400 DOS AMBIENTES ESTRENAR ,...</td>\n",
       "      <td>no definido</td>\n",
       "    </tr>\n",
       "    <tr>\n",
       "      <th>13</th>\n",
       "      <td>apartment</td>\n",
       "      <td>Palermo Soho</td>\n",
       "      <td>|Argentina|Capital Federal|Palermo|Palermo Soho|</td>\n",
       "      <td>Capital Federal</td>\n",
       "      <td>3430234.0</td>\n",
       "      <td>-34.590498</td>\n",
       "      <td>-58.424523</td>\n",
       "      <td>111700.0</td>\n",
       "      <td>50.0</td>\n",
       "      <td>30.0</td>\n",
       "      <td>2234.000000</td>\n",
       "      <td>NaN</td>\n",
       "      <td>1.0</td>\n",
       "      <td>NaN</td>\n",
       "      <td>Torre I Mondrian. 3 ambientes con terraza y d...</td>\n",
       "      <td>Vitraux Palermo</td>\n",
       "      <td>no definido</td>\n",
       "    </tr>\n",
       "  </tbody>\n",
       "</table>\n",
       "</div>"
      ],
      "text/plain": [
       "   property_type    place_name  \\\n",
       "0             PH     Mataderos   \n",
       "2      apartment     Mataderos   \n",
       "7      apartment      Belgrano   \n",
       "8      apartment      Belgrano   \n",
       "13     apartment  Palermo Soho   \n",
       "\n",
       "                             place_with_parent_names       state_name  \\\n",
       "0              |Argentina|Capital Federal|Mataderos|  Capital Federal   \n",
       "2              |Argentina|Capital Federal|Mataderos|  Capital Federal   \n",
       "7               |Argentina|Capital Federal|Belgrano|  Capital Federal   \n",
       "8               |Argentina|Capital Federal|Belgrano|  Capital Federal   \n",
       "13  |Argentina|Capital Federal|Palermo|Palermo Soho|  Capital Federal   \n",
       "\n",
       "    geonames_id        lat        lon  price_aprox_usd  surface_total_in_m2  \\\n",
       "0     3430787.0 -34.677247 -58.532309          62000.0                 55.0   \n",
       "2     3430787.0 -34.677247 -58.532309          72000.0                 55.0   \n",
       "7     3436077.0 -34.564093 -58.453591         138000.0                 45.0   \n",
       "8     3436077.0 -34.564093 -58.453591         195000.0                 65.0   \n",
       "13    3430234.0 -34.590498 -58.424523         111700.0                 50.0   \n",
       "\n",
       "    surface_covered_in_m2  price_usd_per_m2  floor  rooms  expenses  \\\n",
       "0                    40.0       1127.272727    NaN    NaN       NaN   \n",
       "2                    55.0       1309.090909    NaN    NaN       NaN   \n",
       "7                    40.0       3066.666667    NaN    NaN       NaN   \n",
       "8                    60.0       3000.000000    NaN    NaN       NaN   \n",
       "13                   30.0       2234.000000    NaN    1.0       NaN   \n",
       "\n",
       "                                          description  \\\n",
       "0   2 AMBIENTES TIPO CASA PLANTA BAJA POR PASILLO,...   \n",
       "2   2 AMBIENTES 3ER PISO LATERAL LIVING COMEDOR AM...   \n",
       "7   EXCELENTE MONOAMBIENTE A ESTRENAR AMPLIO SUPER...   \n",
       "8   EXCELENTE DOS AMBIENTES  ESTRENAR AMPLIO SUPER...   \n",
       "13   Torre I Mondrian. 3 ambientes con terraza y d...   \n",
       "\n",
       "                                                title expenses_range  \n",
       "0                  2 AMB TIPO CASA SIN EXPENSAS EN PB    no definido  \n",
       "2            2 AMB 3ER PISO CON ASCENSOR APTO CREDITO    no definido  \n",
       "7   JOSE HERNANDEZ 1400 MONOAMBIENTE  ESTRENAR CAT...    no definido  \n",
       "8   JOSE HERNANDEZ   1400 DOS AMBIENTES ESTRENAR ,...    no definido  \n",
       "13                                    Vitraux Palermo    no definido  "
      ]
     },
     "execution_count": 27,
     "metadata": {},
     "output_type": "execute_result"
    }
   ],
   "source": [
    "df_capital_precio.head()"
   ]
  },
  {
   "cell_type": "code",
   "execution_count": 28,
   "metadata": {},
   "outputs": [
    {
     "data": {
      "text/plain": [
       "<matplotlib.text.Text at 0x7f8c790529e8>"
      ]
     },
     "execution_count": 28,
     "metadata": {},
     "output_type": "execute_result"
    },
    {
     "name": "stderr",
     "output_type": "stream",
     "text": [
      "/home/ubuntu/anaconda3/lib/python3.6/site-packages/matplotlib/font_manager.py:1297: UserWarning: findfont: Font family ['sans-serif'] not found. Falling back to DejaVu Sans\n",
      "  (prop.get_family(), self.defaultFamily[fontext]))\n"
     ]
    },
    {
     "data": {
      "image/png": "[encoded data removed]",
      "text/plain": [
       "<matplotlib.figure.Figure at 0x7f8c7db50ef0>"
      ]
     },
     "metadata": {},
     "output_type": "display_data"
    }
   ],
   "source": [
    "plt.title(\"Boxplot de Precio por M2 por Rango de Expensas\", fontsize=15)\n",
    "sns.boxplot(y=\"price_usd_per_m2\", x=\"expenses_range\", data=df_capital_precio)\n",
    "plt.ylabel('Precio por M2', fontsize=10)\n",
    "plt.xlabel('Rango de Expensas', fontsize=10)"
   ]
  },
  {
   "cell_type": "code",
   "execution_count": 29,
   "metadata": {},
   "outputs": [
    {
     "data": {
      "text/plain": [
       "11133"
      ]
     },
     "execution_count": 29,
     "metadata": {},
     "output_type": "execute_result"
    }
   ],
   "source": [
    "#Cantidad de ambientes no declarados en la columna rooms\n",
    "rooms_nulos = df_capital_precio.apply(lambda row: pd.isnull(row['rooms']) , axis = 1)\n",
    "\n",
    "len([t for t in rooms_nulos if t==True])"
   ]
  },
  {
   "cell_type": "code",
   "execution_count": 30,
   "metadata": {
    "collapsed": true
   },
   "outputs": [],
   "source": [
    "import re\n",
    "def get_rooms(row):\n",
    "    if pd.isnull(row['rooms']):\n",
    "        num = re.findall(\"\\d ambiente\", row['description'],re.IGNORECASE)\n",
    "        if len(num) > 0:\n",
    "            return int(num[0].split(\" \")[0])\n",
    "        else:\n",
    "            num = re.findall(\"\\d dormitorio\", row['description'],re.IGNORECASE)\n",
    "            if len(num) > 0:\n",
    "                return int(num[0].split(\" \")[0])+1\n",
    "            else:\n",
    "                num = re.findall(\"\\d habitaci\", row['description'],re.IGNORECASE)\n",
    "                if len(num) > 0:\n",
    "                    return int(num[0].split(\" \")[0])+1\n",
    "    return row['rooms']\n",
    "    "
   ]
  },
  {
   "cell_type": "code",
   "execution_count": 31,
   "metadata": {},
   "outputs": [
    {
     "data": {
      "text/plain": [
       "5055"
      ]
     },
     "execution_count": 31,
     "metadata": {},
     "output_type": "execute_result"
    }
   ],
   "source": [
    "#Conseguimos algunos valores de cantidad de ambientes de la descripcion\n",
    "ambientes = df_capital_precio.apply(get_rooms, axis=1)\n",
    "\n",
    "len([t for t in pd.isnull(ambientes) if t==True])"
   ]
  },
  {
   "cell_type": "code",
   "execution_count": 32,
   "metadata": {
    "collapsed": true
   },
   "outputs": [],
   "source": [
    "#Imputamos algunos datos faltantes de la columna rooms segun la informacion de la descripcion\n",
    "df_capital_precio['rooms'] = ambientes"
   ]
  },
  {
   "cell_type": "code",
   "execution_count": 33,
   "metadata": {
    "collapsed": true
   },
   "outputs": [],
   "source": [
    "#Buscaremos completar los rooms faltantes a partir de los m2\n",
    "df_capital_precio['surface_discrete']=df_capital_precio.apply(lambda row: int(row['surface_total_in_m2']/10) ,axis =1)"
   ]
  },
  {
   "cell_type": "code",
   "execution_count": 34,
   "metadata": {
    "collapsed": true
   },
   "outputs": [],
   "source": [
    "def get_rooms_by_mean(row):\n",
    "    if pd.isnull(row['rooms']) & (row['property_type'] != \"PH\"):\n",
    "        surface_total = int(row['surface_total_in_m2'])\n",
    "        if surface_total <= 35:\n",
    "            return 1\n",
    "        elif 35 < surface_total <= 55:\n",
    "            return 2\n",
    "        elif 55 < surface_total <= 100:\n",
    "            return 3\n",
    "        else:\n",
    "            return 4\n",
    "    return row['rooms']"
   ]
  },
  {
   "cell_type": "code",
   "execution_count": 35,
   "metadata": {},
   "outputs": [
    {
     "data": {
      "text/html": [
       "<div>\n",
       "<style>\n",
       "    .dataframe thead tr:only-child th {\n",
       "        text-align: right;\n",
       "    }\n",
       "\n",
       "    .dataframe thead th {\n",
       "        text-align: left;\n",
       "    }\n",
       "\n",
       "    .dataframe tbody tr th {\n",
       "        vertical-align: top;\n",
       "    }\n",
       "</style>\n",
       "<table border=\"1\" class=\"dataframe\">\n",
       "  <thead>\n",
       "    <tr style=\"text-align: right;\">\n",
       "      <th></th>\n",
       "      <th>surface_total_in_m2</th>\n",
       "      <th>surface_discrete</th>\n",
       "      <th>rooms</th>\n",
       "    </tr>\n",
       "  </thead>\n",
       "  <tbody>\n",
       "    <tr>\n",
       "      <th>0</th>\n",
       "      <td>55.0</td>\n",
       "      <td>5</td>\n",
       "      <td>2.0</td>\n",
       "    </tr>\n",
       "    <tr>\n",
       "      <th>2</th>\n",
       "      <td>55.0</td>\n",
       "      <td>5</td>\n",
       "      <td>2.0</td>\n",
       "    </tr>\n",
       "    <tr>\n",
       "      <th>7</th>\n",
       "      <td>45.0</td>\n",
       "      <td>4</td>\n",
       "      <td>NaN</td>\n",
       "    </tr>\n",
       "    <tr>\n",
       "      <th>8</th>\n",
       "      <td>65.0</td>\n",
       "      <td>6</td>\n",
       "      <td>NaN</td>\n",
       "    </tr>\n",
       "    <tr>\n",
       "      <th>13</th>\n",
       "      <td>50.0</td>\n",
       "      <td>5</td>\n",
       "      <td>1.0</td>\n",
       "    </tr>\n",
       "  </tbody>\n",
       "</table>\n",
       "</div>"
      ],
      "text/plain": [
       "    surface_total_in_m2  surface_discrete  rooms\n",
       "0                  55.0                 5    2.0\n",
       "2                  55.0                 5    2.0\n",
       "7                  45.0                 4    NaN\n",
       "8                  65.0                 6    NaN\n",
       "13                 50.0                 5    1.0"
      ]
     },
     "execution_count": 35,
     "metadata": {},
     "output_type": "execute_result"
    }
   ],
   "source": [
    "df_capital_precio[['surface_total_in_m2','surface_discrete','rooms']].head()"
   ]
  },
  {
   "cell_type": "code",
   "execution_count": 36,
   "metadata": {},
   "outputs": [
    {
     "data": {
      "text/plain": [
       "179"
      ]
     },
     "execution_count": 36,
     "metadata": {},
     "output_type": "execute_result"
    }
   ],
   "source": [
    "ambientes = df_capital_precio.apply(get_rooms_by_mean ,axis =1)\n",
    "\n",
    "len([t for t in pd.isnull(ambientes) if t==True])"
   ]
  },
  {
   "cell_type": "code",
   "execution_count": 37,
   "metadata": {},
   "outputs": [
    {
     "data": {
      "text/html": [
       "<div>\n",
       "<style>\n",
       "    .dataframe thead tr:only-child th {\n",
       "        text-align: right;\n",
       "    }\n",
       "\n",
       "    .dataframe thead th {\n",
       "        text-align: left;\n",
       "    }\n",
       "\n",
       "    .dataframe tbody tr th {\n",
       "        vertical-align: top;\n",
       "    }\n",
       "</style>\n",
       "<table border=\"1\" class=\"dataframe\">\n",
       "  <thead>\n",
       "    <tr style=\"text-align: right;\">\n",
       "      <th></th>\n",
       "      <th>surface_total_in_m2</th>\n",
       "      <th>surface_discrete</th>\n",
       "      <th>rooms</th>\n",
       "    </tr>\n",
       "  </thead>\n",
       "  <tbody>\n",
       "    <tr>\n",
       "      <th>0</th>\n",
       "      <td>55.0</td>\n",
       "      <td>5</td>\n",
       "      <td>2.0</td>\n",
       "    </tr>\n",
       "    <tr>\n",
       "      <th>2</th>\n",
       "      <td>55.0</td>\n",
       "      <td>5</td>\n",
       "      <td>2.0</td>\n",
       "    </tr>\n",
       "    <tr>\n",
       "      <th>7</th>\n",
       "      <td>45.0</td>\n",
       "      <td>4</td>\n",
       "      <td>2.0</td>\n",
       "    </tr>\n",
       "    <tr>\n",
       "      <th>8</th>\n",
       "      <td>65.0</td>\n",
       "      <td>6</td>\n",
       "      <td>3.0</td>\n",
       "    </tr>\n",
       "    <tr>\n",
       "      <th>13</th>\n",
       "      <td>50.0</td>\n",
       "      <td>5</td>\n",
       "      <td>1.0</td>\n",
       "    </tr>\n",
       "  </tbody>\n",
       "</table>\n",
       "</div>"
      ],
      "text/plain": [
       "    surface_total_in_m2  surface_discrete  rooms\n",
       "0                  55.0                 5    2.0\n",
       "2                  55.0                 5    2.0\n",
       "7                  45.0                 4    2.0\n",
       "8                  65.0                 6    3.0\n",
       "13                 50.0                 5    1.0"
      ]
     },
     "execution_count": 37,
     "metadata": {},
     "output_type": "execute_result"
    }
   ],
   "source": [
    "#Completamos los rooms faltantes a partir de la cantidad de m2 que tiene la propiedad\n",
    "df_capital_precio['rooms'] = ambientes\n",
    "\n",
    "df_capital_precio[['surface_total_in_m2','surface_discrete','rooms']].head()"
   ]
  },
  {
   "cell_type": "code",
   "execution_count": 38,
   "metadata": {},
   "outputs": [
    {
     "data": {
      "text/plain": [
       "surface_discrete\n",
       "1    1.021739\n",
       "2    1.150082\n",
       "3    1.476946\n",
       "4    1.894301\n",
       "5    2.279529\n",
       "Name: rooms, dtype: float64"
      ]
     },
     "execution_count": 38,
     "metadata": {},
     "output_type": "execute_result"
    }
   ],
   "source": [
    "df_capital_precio.groupby('surface_discrete')['rooms'].mean().head()"
   ]
  },
  {
   "cell_type": "code",
   "execution_count": 39,
   "metadata": {
    "collapsed": true
   },
   "outputs": [],
   "source": [
    "#Nos quedamos con el data set que tiene datos en la columna rooms\n",
    "data_set_final = df_capital_precio[pd.notnull(df_capital_precio['rooms'])].copy()"
   ]
  },
  {
   "cell_type": "code",
   "execution_count": 40,
   "metadata": {},
   "outputs": [
    {
     "name": "stdout",
     "output_type": "stream",
     "text": [
      "<class 'pandas.core.frame.DataFrame'>\n",
      "Int64Index: 20143 entries, 0 to 121219\n",
      "Data columns (total 18 columns):\n",
      "property_type              20143 non-null object\n",
      "place_name                 20143 non-null object\n",
      "place_with_parent_names    20143 non-null object\n",
      "state_name                 20143 non-null object\n",
      "geonames_id                19242 non-null float64\n",
      "lat                        20143 non-null float64\n",
      "lon                        20143 non-null float64\n",
      "price_aprox_usd            20143 non-null float64\n",
      "surface_total_in_m2        20143 non-null float64\n",
      "surface_covered_in_m2      20143 non-null float64\n",
      "price_usd_per_m2           20143 non-null float64\n",
      "floor                      1310 non-null float64\n",
      "rooms                      20143 non-null float64\n",
      "expenses                   5320 non-null float64\n",
      "description                20143 non-null object\n",
      "title                      20143 non-null object\n",
      "expenses_range             20143 non-null object\n",
      "surface_discrete           20143 non-null int64\n",
      "dtypes: float64(10), int64(1), object(7)\n",
      "memory usage: 2.9+ MB\n"
     ]
    }
   ],
   "source": [
    "data_set_final.info()"
   ]
  },
  {
   "cell_type": "code",
   "execution_count": 41,
   "metadata": {
    "collapsed": true
   },
   "outputs": [],
   "source": [
    "#Eliminamos las columnas que no vamos a utilizar\n",
    "\n",
    "del data_set_final['geonames_id']\n",
    "del data_set_final['floor']\n",
    "del data_set_final['expenses']"
   ]
  },
  {
   "cell_type": "code",
   "execution_count": 42,
   "metadata": {},
   "outputs": [
    {
     "name": "stdout",
     "output_type": "stream",
     "text": [
      "<class 'pandas.core.frame.DataFrame'>\n",
      "Int64Index: 20143 entries, 0 to 121219\n",
      "Data columns (total 15 columns):\n",
      "property_type              20143 non-null object\n",
      "place_name                 20143 non-null object\n",
      "place_with_parent_names    20143 non-null object\n",
      "state_name                 20143 non-null object\n",
      "lat                        20143 non-null float64\n",
      "lon                        20143 non-null float64\n",
      "price_aprox_usd            20143 non-null float64\n",
      "surface_total_in_m2        20143 non-null float64\n",
      "surface_covered_in_m2      20143 non-null float64\n",
      "price_usd_per_m2           20143 non-null float64\n",
      "rooms                      20143 non-null float64\n",
      "description                20143 non-null object\n",
      "title                      20143 non-null object\n",
      "expenses_range             20143 non-null object\n",
      "surface_discrete           20143 non-null int64\n",
      "dtypes: float64(7), int64(1), object(7)\n",
      "memory usage: 2.5+ MB\n"
     ]
    }
   ],
   "source": [
    "data_set_final.info()"
   ]
  },
  {
   "cell_type": "code",
   "execution_count": 43,
   "metadata": {},
   "outputs": [
    {
     "data": {
      "text/html": [
       "<div>\n",
       "<style>\n",
       "    .dataframe thead tr:only-child th {\n",
       "        text-align: right;\n",
       "    }\n",
       "\n",
       "    .dataframe thead th {\n",
       "        text-align: left;\n",
       "    }\n",
       "\n",
       "    .dataframe tbody tr th {\n",
       "        vertical-align: top;\n",
       "    }\n",
       "</style>\n",
       "<table border=\"1\" class=\"dataframe\">\n",
       "  <thead>\n",
       "    <tr style=\"text-align: right;\">\n",
       "      <th></th>\n",
       "      <th>property_type</th>\n",
       "      <th>place_name</th>\n",
       "      <th>place_with_parent_names</th>\n",
       "      <th>state_name</th>\n",
       "      <th>lat</th>\n",
       "      <th>lon</th>\n",
       "      <th>price_aprox_usd</th>\n",
       "      <th>surface_total_in_m2</th>\n",
       "      <th>surface_covered_in_m2</th>\n",
       "      <th>price_usd_per_m2</th>\n",
       "      <th>rooms</th>\n",
       "      <th>description</th>\n",
       "      <th>title</th>\n",
       "      <th>expenses_range</th>\n",
       "      <th>surface_discrete</th>\n",
       "    </tr>\n",
       "  </thead>\n",
       "  <tbody>\n",
       "    <tr>\n",
       "      <th>48576</th>\n",
       "      <td>apartment</td>\n",
       "      <td>Palermo</td>\n",
       "      <td>|Argentina|Capital Federal|Palermo|</td>\n",
       "      <td>Capital Federal</td>\n",
       "      <td>-34.583379</td>\n",
       "      <td>-58.424336</td>\n",
       "      <td>535000.00</td>\n",
       "      <td>176.0</td>\n",
       "      <td>165.0</td>\n",
       "      <td>3039.772727</td>\n",
       "      <td>5.0</td>\n",
       "      <td>Duplex sobre Bustamante esquina Peña. Edificio...</td>\n",
       "      <td>Duplex en Palermo sobre la calle Bustamante es...</td>\n",
       "      <td>no definido</td>\n",
       "      <td>17</td>\n",
       "    </tr>\n",
       "    <tr>\n",
       "      <th>51630</th>\n",
       "      <td>store</td>\n",
       "      <td>Monserrat</td>\n",
       "      <td>|Argentina|Capital Federal|Monserrat|</td>\n",
       "      <td>Capital Federal</td>\n",
       "      <td>-34.615677</td>\n",
       "      <td>-58.384074</td>\n",
       "      <td>190000.00</td>\n",
       "      <td>237.0</td>\n",
       "      <td>237.0</td>\n",
       "      <td>801.687764</td>\n",
       "      <td>4.0</td>\n",
       "      <td>Local a reciclar,  ideal empresa de servicios,...</td>\n",
       "      <td>LOCAL A RECICLAR  INMEJORABLE RELACIÓN U$/M2  ...</td>\n",
       "      <td>no definido</td>\n",
       "      <td>23</td>\n",
       "    </tr>\n",
       "    <tr>\n",
       "      <th>7987</th>\n",
       "      <td>apartment</td>\n",
       "      <td>Caballito</td>\n",
       "      <td>|Argentina|Capital Federal|Caballito|</td>\n",
       "      <td>Capital Federal</td>\n",
       "      <td>-34.618468</td>\n",
       "      <td>-58.443137</td>\n",
       "      <td>88900.00</td>\n",
       "      <td>36.0</td>\n",
       "      <td>36.0</td>\n",
       "      <td>2469.444444</td>\n",
       "      <td>1.0</td>\n",
       "      <td>Emprendimiento ícono en la zona, Caballito Nor...</td>\n",
       "      <td>Departamento - Caballito Norte</td>\n",
       "      <td>no definido</td>\n",
       "      <td>3</td>\n",
       "    </tr>\n",
       "    <tr>\n",
       "      <th>116831</th>\n",
       "      <td>apartment</td>\n",
       "      <td>Villa Urquiza</td>\n",
       "      <td>|Argentina|Capital Federal|Villa Urquiza|</td>\n",
       "      <td>Capital Federal</td>\n",
       "      <td>-34.572552</td>\n",
       "      <td>-58.482239</td>\n",
       "      <td>319812.00</td>\n",
       "      <td>123.0</td>\n",
       "      <td>92.0</td>\n",
       "      <td>2600.097561</td>\n",
       "      <td>4.0</td>\n",
       "      <td>Detalles de diseño en una torre de triple fren...</td>\n",
       "      <td>Departamento - Urquiza R</td>\n",
       "      <td>no definido</td>\n",
       "      <td>12</td>\n",
       "    </tr>\n",
       "    <tr>\n",
       "      <th>44524</th>\n",
       "      <td>apartment</td>\n",
       "      <td>Villa Urquiza</td>\n",
       "      <td>|Argentina|Capital Federal|Villa Urquiza|</td>\n",
       "      <td>Capital Federal</td>\n",
       "      <td>-34.572552</td>\n",
       "      <td>-58.482239</td>\n",
       "      <td>226414.85</td>\n",
       "      <td>81.0</td>\n",
       "      <td>68.0</td>\n",
       "      <td>2795.245062</td>\n",
       "      <td>3.0</td>\n",
       "      <td>EL EDIFICIO -SUM-SOLARIUM-PISCINA-COCHERAS OPC...</td>\n",
       "      <td>NUEVO EMPRENDIMIENTO EN EL BARRIO DE VILLA URQ...</td>\n",
       "      <td>no definido</td>\n",
       "      <td>8</td>\n",
       "    </tr>\n",
       "  </tbody>\n",
       "</table>\n",
       "</div>"
      ],
      "text/plain": [
       "       property_type     place_name  \\\n",
       "48576      apartment        Palermo   \n",
       "51630          store      Monserrat   \n",
       "7987       apartment      Caballito   \n",
       "116831     apartment  Villa Urquiza   \n",
       "44524      apartment  Villa Urquiza   \n",
       "\n",
       "                          place_with_parent_names       state_name        lat  \\\n",
       "48576         |Argentina|Capital Federal|Palermo|  Capital Federal -34.583379   \n",
       "51630       |Argentina|Capital Federal|Monserrat|  Capital Federal -34.615677   \n",
       "7987        |Argentina|Capital Federal|Caballito|  Capital Federal -34.618468   \n",
       "116831  |Argentina|Capital Federal|Villa Urquiza|  Capital Federal -34.572552   \n",
       "44524   |Argentina|Capital Federal|Villa Urquiza|  Capital Federal -34.572552   \n",
       "\n",
       "              lon  price_aprox_usd  surface_total_in_m2  \\\n",
       "48576  -58.424336        535000.00                176.0   \n",
       "51630  -58.384074        190000.00                237.0   \n",
       "7987   -58.443137         88900.00                 36.0   \n",
       "116831 -58.482239        319812.00                123.0   \n",
       "44524  -58.482239        226414.85                 81.0   \n",
       "\n",
       "        surface_covered_in_m2  price_usd_per_m2  rooms  \\\n",
       "48576                   165.0       3039.772727    5.0   \n",
       "51630                   237.0        801.687764    4.0   \n",
       "7987                     36.0       2469.444444    1.0   \n",
       "116831                   92.0       2600.097561    4.0   \n",
       "44524                    68.0       2795.245062    3.0   \n",
       "\n",
       "                                              description  \\\n",
       "48576   Duplex sobre Bustamante esquina Peña. Edificio...   \n",
       "51630   Local a reciclar,  ideal empresa de servicios,...   \n",
       "7987    Emprendimiento ícono en la zona, Caballito Nor...   \n",
       "116831  Detalles de diseño en una torre de triple fren...   \n",
       "44524   EL EDIFICIO -SUM-SOLARIUM-PISCINA-COCHERAS OPC...   \n",
       "\n",
       "                                                    title expenses_range  \\\n",
       "48576   Duplex en Palermo sobre la calle Bustamante es...    no definido   \n",
       "51630   LOCAL A RECICLAR  INMEJORABLE RELACIÓN U$/M2  ...    no definido   \n",
       "7987                       Departamento - Caballito Norte    no definido   \n",
       "116831                           Departamento - Urquiza R    no definido   \n",
       "44524   NUEVO EMPRENDIMIENTO EN EL BARRIO DE VILLA URQ...    no definido   \n",
       "\n",
       "        surface_discrete  \n",
       "48576                 17  \n",
       "51630                 23  \n",
       "7987                   3  \n",
       "116831                12  \n",
       "44524                  8  "
      ]
     },
     "execution_count": 43,
     "metadata": {},
     "output_type": "execute_result"
    }
   ],
   "source": [
    "data_set_final.sample(5)"
   ]
  },
  {
   "cell_type": "code",
   "execution_count": 44,
   "metadata": {},
   "outputs": [
    {
     "data": {
      "text/plain": [
       "<matplotlib.text.Text at 0x7f8c78ed77f0>"
      ]
     },
     "execution_count": 44,
     "metadata": {},
     "output_type": "execute_result"
    },
    {
     "name": "stderr",
     "output_type": "stream",
     "text": [
      "/home/ubuntu/anaconda3/lib/python3.6/site-packages/matplotlib/font_manager.py:1297: UserWarning: findfont: Font family ['sans-serif'] not found. Falling back to DejaVu Sans\n",
      "  (prop.get_family(), self.defaultFamily[fontext]))\n"
     ]
    },
    {
     "data": {
      "image/png": "[encoded data removed]",
      "text/plain": [
       "<matplotlib.figure.Figure at 0x7f8c78f86630>"
      ]
     },
     "metadata": {},
     "output_type": "display_data"
    }
   ],
   "source": [
    "plt.figure(figsize = (15, 7))\n",
    "plt.title(\"Precio por M2 segun el barrio\", fontsize=15)\n",
    "plt.xticks(rotation = 90)\n",
    "sns.barplot(y=\"price_usd_per_m2\", x=\"place_name\", data=df_capital_precio)\n",
    "plt.ylabel('Precio por M2', fontsize=12)\n",
    "plt.xlabel('Barrio', fontsize=12)"
   ]
  },
  {
   "cell_type": "code",
   "execution_count": 45,
   "metadata": {
    "collapsed": true
   },
   "outputs": [],
   "source": [
    "df_temp = data_set_final[['lat','lon','property_type','place_name','surface_total_in_m2','surface_covered_in_m2'\n",
    "                     ,'rooms','expenses_range','price_usd_per_m2']]"
   ]
  },
  {
   "cell_type": "code",
   "execution_count": 46,
   "metadata": {
    "collapsed": true
   },
   "outputs": [],
   "source": [
    "#Dataset para hacer la regresión\n",
    "df_reg = df_temp[df_temp['surface_covered_in_m2'].notnull()]"
   ]
  },
  {
   "cell_type": "code",
   "execution_count": 47,
   "metadata": {},
   "outputs": [
    {
     "data": {
      "text/html": [
       "<div>\n",
       "<style>\n",
       "    .dataframe thead tr:only-child th {\n",
       "        text-align: right;\n",
       "    }\n",
       "\n",
       "    .dataframe thead th {\n",
       "        text-align: left;\n",
       "    }\n",
       "\n",
       "    .dataframe tbody tr th {\n",
       "        vertical-align: top;\n",
       "    }\n",
       "</style>\n",
       "<table border=\"1\" class=\"dataframe\">\n",
       "  <thead>\n",
       "    <tr style=\"text-align: right;\">\n",
       "      <th></th>\n",
       "      <th>lat</th>\n",
       "      <th>lon</th>\n",
       "      <th>surface_total_in_m2</th>\n",
       "      <th>surface_covered_in_m2</th>\n",
       "      <th>rooms</th>\n",
       "      <th>price_usd_per_m2</th>\n",
       "      <th>property_type_apartment</th>\n",
       "      <th>property_type_house</th>\n",
       "      <th>property_type_store</th>\n",
       "      <th>place_name_Agronomía</th>\n",
       "      <th>...</th>\n",
       "      <th>place_name_Villa Pueyrredón</th>\n",
       "      <th>place_name_Villa Real</th>\n",
       "      <th>place_name_Villa Riachuelo</th>\n",
       "      <th>place_name_Villa Santa Rita</th>\n",
       "      <th>place_name_Villa Soldati</th>\n",
       "      <th>place_name_Villa Urquiza</th>\n",
       "      <th>place_name_Villa del Parque</th>\n",
       "      <th>expenses_range_baja</th>\n",
       "      <th>expenses_range_media</th>\n",
       "      <th>expenses_range_no definido</th>\n",
       "    </tr>\n",
       "  </thead>\n",
       "  <tbody>\n",
       "    <tr>\n",
       "      <th>0</th>\n",
       "      <td>-34.677247</td>\n",
       "      <td>-58.532309</td>\n",
       "      <td>55.0</td>\n",
       "      <td>40.0</td>\n",
       "      <td>2.0</td>\n",
       "      <td>1127.272727</td>\n",
       "      <td>0</td>\n",
       "      <td>0</td>\n",
       "      <td>0</td>\n",
       "      <td>0</td>\n",
       "      <td>...</td>\n",
       "      <td>0</td>\n",
       "      <td>0</td>\n",
       "      <td>0</td>\n",
       "      <td>0</td>\n",
       "      <td>0</td>\n",
       "      <td>0</td>\n",
       "      <td>0</td>\n",
       "      <td>0</td>\n",
       "      <td>0</td>\n",
       "      <td>1</td>\n",
       "    </tr>\n",
       "    <tr>\n",
       "      <th>2</th>\n",
       "      <td>-34.677247</td>\n",
       "      <td>-58.532309</td>\n",
       "      <td>55.0</td>\n",
       "      <td>55.0</td>\n",
       "      <td>2.0</td>\n",
       "      <td>1309.090909</td>\n",
       "      <td>1</td>\n",
       "      <td>0</td>\n",
       "      <td>0</td>\n",
       "      <td>0</td>\n",
       "      <td>...</td>\n",
       "      <td>0</td>\n",
       "      <td>0</td>\n",
       "      <td>0</td>\n",
       "      <td>0</td>\n",
       "      <td>0</td>\n",
       "      <td>0</td>\n",
       "      <td>0</td>\n",
       "      <td>0</td>\n",
       "      <td>0</td>\n",
       "      <td>1</td>\n",
       "    </tr>\n",
       "    <tr>\n",
       "      <th>7</th>\n",
       "      <td>-34.564093</td>\n",
       "      <td>-58.453591</td>\n",
       "      <td>45.0</td>\n",
       "      <td>40.0</td>\n",
       "      <td>2.0</td>\n",
       "      <td>3066.666667</td>\n",
       "      <td>1</td>\n",
       "      <td>0</td>\n",
       "      <td>0</td>\n",
       "      <td>0</td>\n",
       "      <td>...</td>\n",
       "      <td>0</td>\n",
       "      <td>0</td>\n",
       "      <td>0</td>\n",
       "      <td>0</td>\n",
       "      <td>0</td>\n",
       "      <td>0</td>\n",
       "      <td>0</td>\n",
       "      <td>0</td>\n",
       "      <td>0</td>\n",
       "      <td>1</td>\n",
       "    </tr>\n",
       "    <tr>\n",
       "      <th>8</th>\n",
       "      <td>-34.564093</td>\n",
       "      <td>-58.453591</td>\n",
       "      <td>65.0</td>\n",
       "      <td>60.0</td>\n",
       "      <td>3.0</td>\n",
       "      <td>3000.000000</td>\n",
       "      <td>1</td>\n",
       "      <td>0</td>\n",
       "      <td>0</td>\n",
       "      <td>0</td>\n",
       "      <td>...</td>\n",
       "      <td>0</td>\n",
       "      <td>0</td>\n",
       "      <td>0</td>\n",
       "      <td>0</td>\n",
       "      <td>0</td>\n",
       "      <td>0</td>\n",
       "      <td>0</td>\n",
       "      <td>0</td>\n",
       "      <td>0</td>\n",
       "      <td>1</td>\n",
       "    </tr>\n",
       "    <tr>\n",
       "      <th>13</th>\n",
       "      <td>-34.590498</td>\n",
       "      <td>-58.424523</td>\n",
       "      <td>50.0</td>\n",
       "      <td>30.0</td>\n",
       "      <td>1.0</td>\n",
       "      <td>2234.000000</td>\n",
       "      <td>1</td>\n",
       "      <td>0</td>\n",
       "      <td>0</td>\n",
       "      <td>0</td>\n",
       "      <td>...</td>\n",
       "      <td>0</td>\n",
       "      <td>0</td>\n",
       "      <td>0</td>\n",
       "      <td>0</td>\n",
       "      <td>0</td>\n",
       "      <td>0</td>\n",
       "      <td>0</td>\n",
       "      <td>0</td>\n",
       "      <td>0</td>\n",
       "      <td>1</td>\n",
       "    </tr>\n",
       "  </tbody>\n",
       "</table>\n",
       "<p>5 rows × 73 columns</p>\n",
       "</div>"
      ],
      "text/plain": [
       "          lat        lon  surface_total_in_m2  surface_covered_in_m2  rooms  \\\n",
       "0  -34.677247 -58.532309                 55.0                   40.0    2.0   \n",
       "2  -34.677247 -58.532309                 55.0                   55.0    2.0   \n",
       "7  -34.564093 -58.453591                 45.0                   40.0    2.0   \n",
       "8  -34.564093 -58.453591                 65.0                   60.0    3.0   \n",
       "13 -34.590498 -58.424523                 50.0                   30.0    1.0   \n",
       "\n",
       "    price_usd_per_m2  property_type_apartment  property_type_house  \\\n",
       "0        1127.272727                        0                    0   \n",
       "2        1309.090909                        1                    0   \n",
       "7        3066.666667                        1                    0   \n",
       "8        3000.000000                        1                    0   \n",
       "13       2234.000000                        1                    0   \n",
       "\n",
       "    property_type_store  place_name_Agronomía             ...              \\\n",
       "0                     0                     0             ...               \n",
       "2                     0                     0             ...               \n",
       "7                     0                     0             ...               \n",
       "8                     0                     0             ...               \n",
       "13                    0                     0             ...               \n",
       "\n",
       "    place_name_Villa Pueyrredón  place_name_Villa Real  \\\n",
       "0                             0                      0   \n",
       "2                             0                      0   \n",
       "7                             0                      0   \n",
       "8                             0                      0   \n",
       "13                            0                      0   \n",
       "\n",
       "    place_name_Villa Riachuelo  place_name_Villa Santa Rita  \\\n",
       "0                            0                            0   \n",
       "2                            0                            0   \n",
       "7                            0                            0   \n",
       "8                            0                            0   \n",
       "13                           0                            0   \n",
       "\n",
       "    place_name_Villa Soldati  place_name_Villa Urquiza  \\\n",
       "0                          0                         0   \n",
       "2                          0                         0   \n",
       "7                          0                         0   \n",
       "8                          0                         0   \n",
       "13                         0                         0   \n",
       "\n",
       "    place_name_Villa del Parque  expenses_range_baja  expenses_range_media  \\\n",
       "0                             0                    0                     0   \n",
       "2                             0                    0                     0   \n",
       "7                             0                    0                     0   \n",
       "8                             0                    0                     0   \n",
       "13                            0                    0                     0   \n",
       "\n",
       "    expenses_range_no definido  \n",
       "0                            1  \n",
       "2                            1  \n",
       "7                            1  \n",
       "8                            1  \n",
       "13                           1  \n",
       "\n",
       "[5 rows x 73 columns]"
      ]
     },
     "execution_count": 47,
     "metadata": {},
     "output_type": "execute_result"
    }
   ],
   "source": [
    "#Armamos variables dummies de las categoricas y eliminamos la primera para que no haya combinacion lineal con las demas\n",
    "df_dummies = pd.get_dummies(df_reg, drop_first= True)\n",
    "df_dummies.head()"
   ]
  },
  {
   "cell_type": "code",
   "execution_count": 48,
   "metadata": {
    "collapsed": true
   },
   "outputs": [],
   "source": [
    "df_dummies.to_csv('limpio')"
   ]
  },
  {
   "cell_type": "code",
   "execution_count": 49,
   "metadata": {
    "collapsed": true
   },
   "outputs": [],
   "source": [
    "#Separamos las variables numericas de las categoricas para usar PolynomialFeatures\n",
    "df_dummies_num = df_dummies[['lat','lon','surface_total_in_m2','surface_covered_in_m2','rooms']]\n",
    "\n",
    "df_dummies_categ = df_dummies.drop(['lat','lon','surface_total_in_m2',\n",
    "                                    'surface_covered_in_m2','rooms','price_usd_per_m2'],axis = 1).copy()"
   ]
  },
  {
   "cell_type": "code",
   "execution_count": 50,
   "metadata": {
    "collapsed": true
   },
   "outputs": [],
   "source": [
    "#Usamos polynomialfeatures y convertimos todo en arrays\n",
    "matrix_reg_num = PolynomialFeatures(2,include_bias=True,interaction_only=False).fit_transform(df_dummies_num)\n",
    "matrix_reg_categ = df_dummies_categ.values\n",
    "matrix_df = np.concatenate((matrix_reg_num, matrix_reg_categ),axis=1)"
   ]
  },
  {
   "cell_type": "code",
   "execution_count": 51,
   "metadata": {},
   "outputs": [
    {
     "data": {
      "text/plain": [
       "array([[  1.        , -34.67724662, -58.53230853, ...,   0.        ,\n",
       "          0.        ,   1.        ],\n",
       "       [  1.        , -34.67724662, -58.53230853, ...,   0.        ,\n",
       "          0.        ,   1.        ],\n",
       "       [  1.        , -34.56409322, -58.4535906 , ...,   0.        ,\n",
       "          0.        ,   1.        ],\n",
       "       ..., \n",
       "       [  1.        , -34.59216808, -58.39516883, ...,   0.        ,\n",
       "          0.        ,   1.        ],\n",
       "       [  1.        , -34.57255194, -58.48223871, ...,   0.        ,\n",
       "          0.        ,   1.        ],\n",
       "       [  1.        , -34.61422456, -58.43271629, ...,   0.        ,\n",
       "          0.        ,   0.        ]])"
      ]
     },
     "metadata": {},
     "output_type": "display_data"
    },
    {
     "data": {
      "text/plain": [
       "array([[ 1127.27272727],\n",
       "       [ 1309.09090909],\n",
       "       [ 3066.66666667],\n",
       "       ..., \n",
       "       [ 3750.        ],\n",
       "       [ 2858.69565217],\n",
       "       [ 1675.32467532]])"
      ]
     },
     "metadata": {},
     "output_type": "display_data"
    }
   ],
   "source": [
    "y = df_dummies[['price_usd_per_m2']].values\n",
    "X = matrix_df\n",
    "display(X,y)"
   ]
  },
  {
   "cell_type": "code",
   "execution_count": 52,
   "metadata": {},
   "outputs": [
    {
     "name": "stdout",
     "output_type": "stream",
     "text": [
      "X test size:  (5036, 88)\n",
      "Y test size:  (5036, 1)\n",
      "X train size:  (15107, 88)\n",
      "Y train size:  (15107, 1)\n"
     ]
    }
   ],
   "source": [
    "#Modelo regresion lineal\n",
    "\n",
    "Xtrain, Xtest, ytrain, ytest = train_test_split(X, y, random_state = 0)\n",
    "\n",
    "model = LinearRegression()\n",
    "model.fit(Xtrain,ytrain)\n",
    "\n",
    "y_predict = model.predict(Xtest)\n",
    "\n",
    "print('X test size: ', Xtest.shape)\n",
    "print('Y test size: ', ytest.shape)\n",
    "print('X train size: ', Xtrain.shape)\n",
    "print('Y train size: ', ytrain.shape)"
   ]
  },
  {
   "cell_type": "code",
   "execution_count": 53,
   "metadata": {},
   "outputs": [
    {
     "data": {
      "text/plain": [
       "<matplotlib.text.Text at 0x7f8c78c3a160>"
      ]
     },
     "execution_count": 53,
     "metadata": {},
     "output_type": "execute_result"
    },
    {
     "name": "stderr",
     "output_type": "stream",
     "text": [
      "/home/ubuntu/anaconda3/lib/python3.6/site-packages/matplotlib/font_manager.py:1297: UserWarning: findfont: Font family ['sans-serif'] not found. Falling back to DejaVu Sans\n",
      "  (prop.get_family(), self.defaultFamily[fontext]))\n"
     ]
    },
    {
     "data": {
      "image/png": "[encoded data removed]",
      "text/plain": [
       "<matplotlib.figure.Figure at 0x7f8c78ecd518>"
      ]
     },
     "metadata": {},
     "output_type": "display_data"
    }
   ],
   "source": [
    "#scatter de las predicciones vs los valores correctos\n",
    "plt.title(\"Predicciones vs Test\", fontsize=15)\n",
    "plt.scatter(y_predict,ytest)\n",
    "plt.ylabel('Test', fontsize=12)\n",
    "plt.xlabel('Predicciones', fontsize=12)"
   ]
  },
  {
   "cell_type": "code",
   "execution_count": 54,
   "metadata": {},
   "outputs": [
    {
     "name": "stdout",
     "output_type": "stream",
     "text": [
      "MAE: 428.172570588\n",
      "MSE: 335370.833323\n",
      "RMSE: 579.112107733\n",
      "R2: 0.500663016466\n"
     ]
    }
   ],
   "source": [
    "#Scores de la regresion lineal\n",
    "print ('MAE:', metrics.mean_absolute_error(ytest, y_predict))\n",
    "print ('MSE:', metrics.mean_squared_error(ytest, y_predict))\n",
    "print ('RMSE:', np.sqrt(metrics.mean_squared_error(ytest, y_predict)))\n",
    "print ('R2:', metrics.r2_score(ytest, y_predict))"
   ]
  },
  {
   "cell_type": "code",
   "execution_count": 55,
   "metadata": {},
   "outputs": [
    {
     "name": "stdout",
     "output_type": "stream",
     "text": [
      "(14100, 88) (14100, 1)\n",
      "(6043, 88) (6043, 1)\n"
     ]
    }
   ],
   "source": [
    "X_train, X_test, y_train, y_test = train_test_split(X, y, test_size=0.3, random_state=53)\n",
    "print(X_train.shape, y_train.shape)\n",
    "print(X_test.shape, y_test.shape)"
   ]
  },
  {
   "cell_type": "code",
   "execution_count": 56,
   "metadata": {
    "collapsed": true
   },
   "outputs": [],
   "source": [
    "# Regresion lineal, ridge y lasso\n",
    "\n",
    "al_ridge = np.linspace(0.001, 0.5, 300)\n",
    "al_lasso = np.linspace(0.0001, 0.3, 300)\n",
    "kf = KFold(n_splits=5, shuffle=True, random_state=12)\n",
    "\n",
    "# Instanciamos los modelos\n",
    "\n",
    "lm = LinearRegression()\n",
    "lmRidgeCV = RidgeCV(alphas=al_ridge, cv=kf, normalize=True)\n",
    "lmLassoCV = LassoCV(alphas=al_lasso, cv=kf, normalize=True)"
   ]
  },
  {
   "cell_type": "code",
   "execution_count": 57,
   "metadata": {},
   "outputs": [
    {
     "name": "stdout",
     "output_type": "stream",
     "text": [
      "LinearRegression(copy_X=True, fit_intercept=True, n_jobs=1, normalize=False)\n",
      "RidgeCV(alphas=array([ 0.001  ,  0.00267, ...,  0.49833,  0.5    ]),\n",
      "    cv=KFold(n_splits=5, random_state=12, shuffle=True),\n",
      "    fit_intercept=True, gcv_mode=None, normalize=True, scoring=None,\n",
      "    store_cv_values=False)\n"
     ]
    },
    {
     "name": "stderr",
     "output_type": "stream",
     "text": [
      "/home/ubuntu/anaconda3/lib/python3.6/site-packages/sklearn/linear_model/coordinate_descent.py:1082: DataConversionWarning: A column-vector y was passed when a 1d array was expected. Please change the shape of y to (n_samples, ), for example using ravel().\n",
      "  y = column_or_1d(y, warn=True)\n",
      "/home/ubuntu/anaconda3/lib/python3.6/site-packages/sklearn/linear_model/coordinate_descent.py:484: ConvergenceWarning: Objective did not converge. You might want to increase the number of iterations. Fitting data with very small alpha may cause precision problems.\n",
      "  ConvergenceWarning)\n"
     ]
    },
    {
     "name": "stdout",
     "output_type": "stream",
     "text": [
      "LassoCV(alphas=array([  1.00000e-04,   1.10301e-03, ...,   2.98997e-01,   3.00000e-01]),\n",
      "    copy_X=True, cv=KFold(n_splits=5, random_state=12, shuffle=True),\n",
      "    eps=0.001, fit_intercept=True, max_iter=1000, n_alphas=100, n_jobs=1,\n",
      "    normalize=True, positive=False, precompute='auto', random_state=None,\n",
      "    selection='cyclic', tol=0.0001, verbose=False)\n"
     ]
    },
    {
     "name": "stderr",
     "output_type": "stream",
     "text": [
      "/home/ubuntu/anaconda3/lib/python3.6/site-packages/sklearn/linear_model/coordinate_descent.py:484: ConvergenceWarning: Objective did not converge. You might want to increase the number of iterations. Fitting data with very small alpha may cause precision problems.\n",
      "  ConvergenceWarning)\n"
     ]
    }
   ],
   "source": [
    "# Hacemos los fits respectivos\n",
    "\n",
    "print(lm.fit(X_train, y_train))\n",
    "print(lmRidgeCV.fit(X_train, y_train))\n",
    "print(lmLassoCV.fit(X_train, y_train))"
   ]
  },
  {
   "cell_type": "code",
   "execution_count": 61,
   "metadata": {},
   "outputs": [
    {
     "name": "stdout",
     "output_type": "stream",
     "text": [
      "Alpha Ridge: 0.184578595318 \n",
      "Alpha LASSO: 0.00110301003344 \n",
      "\n"
     ]
    }
   ],
   "source": [
    "print('Alpha Ridge:',lmRidgeCV.alpha_,'\\n'\n",
    "      'Alpha LASSO:',lmLassoCV.alpha_,'\\n')"
   ]
  },
  {
   "cell_type": "code",
   "execution_count": 62,
   "metadata": {},
   "outputs": [
    {
     "data": {
      "text/plain": [
       "(array([ -1.02451196e+08]),\n",
       " array([[  9.94835504e+02,   1.45649621e+06,  -2.20690404e+06,\n",
       "          -8.20217507e+02,   1.01478597e+03,  -1.65915571e+03,\n",
       "          -1.66098650e+07,   1.97742771e+07,  -1.94717993e+01,\n",
       "           3.03710345e+01,   3.31030576e+02,  -5.87823650e+06,\n",
       "          -2.33553579e+00,  -7.63821024e-01,  -2.25228279e+02,\n",
       "           5.69089679e-03,  -1.75764551e-04,   4.64785848e-01,\n",
       "          -4.65629715e-03,  -6.25558313e-01,  -4.31938640e+00,\n",
       "           4.23655016e+02,   1.37719719e+02,   5.14384050e+02,\n",
       "           1.15289457e+05,  -1.35373674e+04,  -2.36152410e+04,\n",
       "          -9.59654602e+04,   4.15541134e+04,   2.41717855e+05,\n",
       "          -7.41448467e+04,  -8.29314127e+04,  -5.13888250e+04,\n",
       "          -3.70994397e+04,  -2.45441740e-01,  -7.83458596e+03,\n",
       "           9.46504172e+04,   2.80750673e+05,   1.50380151e+05,\n",
       "          -2.54003091e+04,  -6.57383885e+04,  -8.72169160e+04,\n",
       "          -8.80337055e+04,   1.79977691e+05,  -1.29185240e+05,\n",
       "          -2.69479413e+05,  -4.16918039e+04,  -1.96943853e+04,\n",
       "           3.50308888e+05,  -1.57589020e+04,   9.98993390e+04,\n",
       "           1.15126926e+05,   1.18596143e+05,   6.54020343e+04,\n",
       "           5.22844472e+04,  -1.57481518e+05,   5.04093732e+03,\n",
       "          -1.18018380e+05,   1.43999986e+05,  -1.04964156e+05,\n",
       "           3.35055829e+04,  -1.53319062e+05,  -2.51194342e+04,\n",
       "           4.42935822e+04,   2.92114993e+04,   3.77928411e+05,\n",
       "          -6.86743749e+04,  -8.28291270e+03,  -5.41598809e+04,\n",
       "           1.60716458e+03,  -8.23423194e+04,  -5.25336572e+04,\n",
       "           3.96708519e+04,   8.52308358e+04,   2.28112721e+02,\n",
       "          -2.54942040e+05,  -1.14209911e+05,   1.58490322e+05,\n",
       "           1.96810973e+05,   9.14235263e+02,  -3.00459100e+05,\n",
       "          -2.34293570e+04,  -2.12783998e+05,   2.33437247e+05,\n",
       "           3.35874663e+04,  -3.04746846e+02,  -2.57570702e+02,\n",
       "          -1.37065045e+02]]))"
      ]
     },
     "execution_count": 62,
     "metadata": {},
     "output_type": "execute_result"
    }
   ],
   "source": [
    "# Coeficientes de Reg Lineal\n",
    "\n",
    "(lm.intercept_,lm.coef_)"
   ]
  },
  {
   "cell_type": "code",
   "execution_count": 63,
   "metadata": {},
   "outputs": [
    {
     "name": "stdout",
     "output_type": "stream",
     "text": [
      "Score Train Lineal: 0.511976635148 \n",
      "Score Train Ridge: 0.511965392786 \n",
      "Score Train Lasso: 0.509950841896\n",
      "Train MSE lineal: 328097.366645 \n",
      "Train MSE Ridge: 328104.924868 \n",
      "Train MSE Lasso: 329459.30437\n"
     ]
    }
   ],
   "source": [
    "# Calculamos el R2\n",
    "\n",
    "print(\"Score Train Lineal:\", lm.score(X_train, y_train),\"\\n\"\n",
    "      \"Score Train Ridge:\",  lmRidgeCV.score(X_train, y_train),\"\\n\"\n",
    "      \"Score Train Lasso:\",  lmLassoCV.score(X_train, y_train))\n",
    "\n",
    "# Calculamos el MSE\n",
    "\n",
    "lmpred_Tr = lm.predict(X_train)\n",
    "lmRidgepred_Tr = lmRidgeCV.predict(X_train)\n",
    "lmLassoepred_Tr = lmLassoCV.predict(X_train)\n",
    "\n",
    "print(\"Train MSE lineal:\", mean_squared_error(y_train,lmpred_Tr), \"\\n\"\n",
    "      \"Train MSE Ridge:\",  mean_squared_error(y_train,lmRidgepred_Tr), \"\\n\"\n",
    "      \"Train MSE Lasso:\",  mean_squared_error(y_train,lmLassoepred_Tr))"
   ]
  },
  {
   "cell_type": "code",
   "execution_count": 64,
   "metadata": {},
   "outputs": [
    {
     "name": "stdout",
     "output_type": "stream",
     "text": [
      "RMSE lineal= 572.797840992 \n",
      "RMSE Ridge= 572.80443859 \n",
      "RMSE Lasso= 573.985456584\n"
     ]
    }
   ],
   "source": [
    "print(\"RMSE lineal=\",  np.sqrt(mean_squared_error(y_train,lmpred_Tr)), \"\\n\"\n",
    "      \"RMSE Ridge=\",   np.sqrt(mean_squared_error(y_train,lmRidgepred_Tr)), \"\\n\"\n",
    "      \"RMSE Lasso=\",   np.sqrt(mean_squared_error(y_train,lmLassoepred_Tr)))"
   ]
  },
  {
   "cell_type": "code",
   "execution_count": 65,
   "metadata": {},
   "outputs": [
    {
     "name": "stdout",
     "output_type": "stream",
     "text": [
      "Test Score lineal= 353363.331444 \n",
      "Test Score Ridge= 331972.516268 \n",
      "Test Score Lasso= 332376.768706\n"
     ]
    }
   ],
   "source": [
    "# Hacemos las predicciones sobre la matriz de predictores del Test Set\n",
    "\n",
    "lmpred_Te = lm.predict(X_test)\n",
    "lmRidgepred_Te = lmRidgeCV.predict(X_test)\n",
    "lmLassoepred_Te = lmLassoCV.predict(X_test)\n",
    "\n",
    "# Testeo final del modelo sobre Test Set\n",
    "\n",
    "print(\"Test Score lineal=\", mean_squared_error(y_test,lmpred_Te), \"\\n\"\n",
    "      \"Test Score Ridge=\",  mean_squared_error(y_test,lmRidgepred_Te), \"\\n\"\n",
    "      \"Test Score Lasso=\",  mean_squared_error(y_test,lmLassoepred_Te))"
   ]
  },
  {
   "cell_type": "code",
   "execution_count": 67,
   "metadata": {},
   "outputs": [
    {
     "name": "stdout",
     "output_type": "stream",
     "text": [
      "Score Train Lineal: 0.43481848654 \n",
      "Score Train Ridge: 0.469031694928 \n",
      "Score Train Lasso: 0.468385119619\n"
     ]
    }
   ],
   "source": [
    "# Calculamos el R2 Test\n",
    "\n",
    "print(\"Score Train Lineal:\", lm.score(X_test, y_test),\"\\n\"\n",
    "      \"Score Train Ridge:\",  lmRidgeCV.score(X_test, y_test),\"\\n\"\n",
    "      \"Score Train Lasso:\",  lmLassoCV.score(X_test, y_test))"
   ]
  },
  {
   "cell_type": "code",
   "execution_count": 82,
   "metadata": {},
   "outputs": [
    {
     "name": "stdout",
     "output_type": "stream",
     "text": [
      "RMSE lineal= 594.443715959 \n",
      "RMSE Ridge= 576.170561785 \n",
      "RMSE Lasso= 576.521264748\n"
     ]
    }
   ],
   "source": [
    "#RMSE en Test\n",
    "\n",
    "print(\"RMSE lineal=\",  np.sqrt(mean_squared_error(y_test,lmpred_Te)), \"\\n\"\n",
    "      \"RMSE Ridge=\",   np.sqrt(mean_squared_error(y_test,lmRidgepred_Te)), \"\\n\"\n",
    "      \"RMSE Lasso=\",   np.sqrt(mean_squared_error(y_test,lmLassoepred_Te)))"
   ]
  },
  {
   "cell_type": "code",
   "execution_count": null,
   "metadata": {
    "collapsed": true
   },
   "outputs": [],
   "source": []
  }
 ],
 "metadata": {
  "kernelspec": {
   "display_name": "Python 3",
   "language": "python",
   "name": "python3"
  },
  "language_info": {
   "codemirror_mode": {
    "name": "ipython",
    "version": 3
   },
   "file_extension": ".py",
   "mimetype": "text/x-python",
   "name": "python",
   "nbconvert_exporter": "python",
   "pygments_lexer": "ipython3",
   "version": "3.6.1"
  }
 },
 "nbformat": 4,
 "nbformat_minor": 1
}
