{
 "cells": [
  {
   "cell_type": "markdown",
   "metadata": {},
   "source": [
    "# Práctica Guiada: Datasets de tablas múltiples- Archivo ENRON"
   ]
  },
  {
   "cell_type": "markdown",
   "metadata": {},
   "source": [
    "* En esta actividad se explorará un subconjunto de datos de la Base de Datos de E-mails de Enron.\n",
    "\n",
    "* Este dataset fue preparado y recopilado por el Proyecto CALO (A Cognitive Assistant that Learns and Organizes).\n",
    "\n",
    "* El dataset original contiene datos de unos 150 usuarios, la mayoría gerentes de Enron y aproximadamente 0,5 millones de mensajes.\n",
    "\n",
    "* Estos datos fueron publicados en la web por la Comisión Regulatoria de Energía Federal (EEUU) durante su investigación."
   ]
  },
  {
   "cell_type": "markdown",
   "metadata": {},
   "source": [
    "## 1. Importar datos\n",
    "\n",
    "Conectarse al archivo 'enron.db' utilizando alguno de los siguientes métidos:\n",
    "\n",
    "- Paquete sqlite3 de Python\n",
    "- pandas.read_sql\n",
    "- SQLite Manager Firefox extension, DB Browser for SQLite, etc.\n",
    "\n",
    "Observar la base de datos y consultar la tabla maestra. ¿Cuántas tablas hay en la Base de Datos?\n",
    "\n",
    "> Respuesta:\n",
    "Hay 3 tablas:\n",
    "- MessageBase\n",
    "- RecipientBase\n",
    "- EmployeeBase"
   ]
  },
  {
   "cell_type": "code",
   "execution_count": null,
   "metadata": {},
   "outputs": [],
   "source": [
    "import sqlite3\n",
    "import pandas as pd\n",
    "\n",
    "con = sqlite3.connect('enron.db')\n",
    "\n",
    "data = pd.read_sql_query(\"SELECT * FROM sqlite_master WHERE type='table'\", con)\n",
    "data"
   ]
  },
  {
   "cell_type": "markdown",
   "metadata": {},
   "source": [
    "Consultar la tabla `sqlite_master` para obtener el schema de la tabla `EmployeeBase`.\n",
    "\n",
    "1. ¿Cuántos campos tiene?\n",
    "2. ¿Qué tipo de datos tiene cada uno?"
   ]
  },
  {
   "cell_type": "code",
   "execution_count": null,
   "metadata": {},
   "outputs": [],
   "source": [
    "import sqlite3\n",
    "import pandas as pd\n",
    "\n",
    "con = sqlite3.connect('enron.db')\n",
    "for row in con.execute(\"pragma table_info('EmployeeBase')\").fetchall():\n",
    "    print(row)"
   ]
  },
  {
   "cell_type": "markdown",
   "metadata": {},
   "source": [
    "1. Imprimir las primeras 5 filas de la tabla EmployeeBase\n",
    "2. Imprimir las primeras 5 filas de la tabla MessageBase\n",
    "3. Imprimir las primeras 5 filas de la tabla RecipientBase\n",
    "\n",
    "**Ayuda**  combinar `SELECT` con `LIMIT`.\n",
    "\n"
   ]
  },
  {
   "cell_type": "markdown",
   "metadata": {},
   "source": [
    "Importar cada una de las 3 tablas a una estructura Pandas Dataframes"
   ]
  },
  {
   "cell_type": "code",
   "execution_count": null,
   "metadata": {
    "collapsed": true
   },
   "outputs": [],
   "source": [
    "import sqlite3\n",
    "import pandas as pd\n",
    "\n",
    "con = sqlite3.connect('enron.db')"
   ]
  },
  {
   "cell_type": "code",
   "execution_count": null,
   "metadata": {},
   "outputs": [],
   "source": [
    "data1 = pd.read_sql_query(\"SELECT * FROM EmployeeBase LIMIT 5\", con)\n",
    "data1"
   ]
  },
  {
   "cell_type": "code",
   "execution_count": null,
   "metadata": {},
   "outputs": [],
   "source": [
    "data2 = pd.read_sql_query(\"SELECT * FROM MessageBase LIMIT 5\", con)\n",
    "data2"
   ]
  },
  {
   "cell_type": "code",
   "execution_count": null,
   "metadata": {},
   "outputs": [],
   "source": [
    "data3 = pd.read_sql_query(\"SELECT * FROM RecipientBase LIMIT 5\", con)\n",
    "data3"
   ]
  },
  {
   "cell_type": "markdown",
   "metadata": {},
   "source": [
    "## 2. Exploración de Datos\n",
    "\n",
    "Utilizar los 3 dataframes para responder las siguientes preguntas:\n",
    "\n",
    "1. ¿Cuántos empleados hay en la compañía?\n",
    "2. ¿Cuántos mensajes hay en la Base de Datos?\n",
    "3. Algunos mensajes se enviaron a más de un destinatario. Agrupar los mensajes por message_id y contar la cantidad de destinatarios. Luego, observar la distribución de la cantidad de destinatarios.\n",
    "    - ¿Cuántos mensajes tienen sólo 1 destinatario?\n",
    "    - ¿Cuántos mensajes tienen al menos 5 destinatarios?\n",
    "    - ¿Cuál es la máxima cantidad de destinatarios de un mensaje?\n",
    "    - ¿Quién envió el mensaje con la máxima cantidad de destinatarios?"
   ]
  },
  {
   "cell_type": "code",
   "execution_count": null,
   "metadata": {
    "collapsed": true
   },
   "outputs": [],
   "source": [
    "import sqlite3\n",
    "import pandas as pd\n",
    "import datetime\n",
    "import numpy as np\n",
    "\n",
    "con = sqlite3.connect('enron.db')\n",
    "\n",
    "data1 = pd.read_sql_query(\"SELECT * FROM EmployeeBase\", con)\n",
    "data2 = pd.read_sql_query(\"SELECT * FROM MessageBase\", con)\n",
    "data3 = pd.read_sql_query(\"SELECT * FROM RecipientBase\", con)"
   ]
  },
  {
   "cell_type": "code",
   "execution_count": null,
   "metadata": {},
   "outputs": [],
   "source": [
    "# 1. Versión SQL\n",
    "pd.read_sql_query(\"SELECT count(1) FROM EmployeeBase\", con)"
   ]
  },
  {
   "cell_type": "code",
   "execution_count": null,
   "metadata": {
    "collapsed": true
   },
   "outputs": [],
   "source": [
    "# 1. Versión Pandas\n",
    "data1['eid'].count()"
   ]
  },
  {
   "cell_type": "code",
   "execution_count": null,
   "metadata": {
    "collapsed": true
   },
   "outputs": [],
   "source": [
    "# 2. Versión Pandas\n",
    "data2['mid'].count()"
   ]
  },
  {
   "cell_type": "code",
   "execution_count": null,
   "metadata": {},
   "outputs": [],
   "source": [
    "# 3. Cantidad de destinatarios por mensaje. Versión SQL\n",
    "\n",
    "pd.read_sql_query(\"SELECT cantidad, count(1) as ocurrencias FROM \\\n",
    "                  (SELECT mid, count(1) as cantidad FROM RecipientBase GROUP BY mid) as mess_cant \\\n",
    "                  GROUP BY cantidad\", con)"
   ]
  },
  {
   "cell_type": "code",
   "execution_count": null,
   "metadata": {},
   "outputs": [],
   "source": [
    "# 3 Versión Pandas\n",
    "cantidades = data3.groupby('mid').size()\n",
    "cantidades.value_counts()\n",
    "# Alternativa usando count() y especificando la columna a contar:\n",
    "# data3.groupby('mid')['rno'].count()"
   ]
  },
  {
   "cell_type": "code",
   "execution_count": null,
   "metadata": {},
   "outputs": [],
   "source": [
    "# 3.a Mensajes con un sólo destinatario SQL\n",
    "\n",
    "pd.read_sql_query(\"SELECT cantidad, count(1) as ocurrencias FROM \\\n",
    "                  (SELECT mid, count(1) as cantidad FROM RecipientBase GROUP BY mid) as mess_cant \\\n",
    "                  WHERE cantidad = 1 \\\n",
    "                  GROUP BY cantidad\", con)"
   ]
  },
  {
   "cell_type": "code",
   "execution_count": null,
   "metadata": {},
   "outputs": [],
   "source": [
    "# 3.a Versión Pandas\n",
    "destinatarios = data3.groupby('mid').size()\n",
    "destinatarios[destinatarios == 1].count()"
   ]
  },
  {
   "cell_type": "code",
   "execution_count": null,
   "metadata": {},
   "outputs": [],
   "source": [
    "# 3.b Mensajes con más de 5 destinatario SQL\n",
    "\n",
    "pd.read_sql_query(\"SELECT count(1) as mensajes FROM \\\n",
    "                  (SELECT mid, count(1) as cantidad FROM RecipientBase GROUP BY mid) as mess_cant \\\n",
    "                  WHERE cantidad >= 5 \\\n",
    "                  \", con)"
   ]
  },
  {
   "cell_type": "code",
   "execution_count": null,
   "metadata": {},
   "outputs": [],
   "source": [
    "# 3.b Versión Pandas\n",
    "destinatarios[destinatarios >= 5].count()"
   ]
  },
  {
   "cell_type": "code",
   "execution_count": null,
   "metadata": {},
   "outputs": [],
   "source": [
    "# 3.c Máxima cantidad de destinatarios SQL\n",
    "\n",
    "pd.read_sql_query(\"SELECT MAX(cantidad) FROM \\\n",
    "                  (SELECT mid, count(1) as cantidad FROM RecipientBase GROUP BY mid) as mess_cant \\\n",
    "                  \", con)"
   ]
  },
  {
   "cell_type": "code",
   "execution_count": null,
   "metadata": {},
   "outputs": [],
   "source": [
    "# 3.c\n",
    "destinatarios[destinatarios == destinatarios.max()]"
   ]
  },
  {
   "cell_type": "code",
   "execution_count": null,
   "metadata": {},
   "outputs": [],
   "source": [
    "# 3.d ¿Quién envió el mensaje más frecuente? (SQL)\n",
    "pd.read_sql_query(\"SELECT m.mid, e.name FROM \\\n",
    "                  (SELECT c.mid, count(1) as cantidad FROM RecipientBase  c GROUP BY c.mid) as mess_cant \\\n",
    "                  INNER JOIN MessageBase as m on mess_cant.mid = m.mid \\\n",
    "                  INNER JOIN EmployeeBase as e on e.eid = m.from_eid \\\n",
    "                  WHERE cantidad = 57 \\\n",
    "                  \", con)"
   ]
  },
  {
   "cell_type": "code",
   "execution_count": null,
   "metadata": {},
   "outputs": [],
   "source": [
    "# 3.d Pandas\n",
    "data2[(data2['mid'] == 12116) | (data2['mid'] == 12151)]\n",
    "\n",
    "# o bien:\n",
    "data2[(data2['mid'] == 12116) | (data2['mid'] == 12151)]['from_eid']\n",
    "\n",
    "# luego buscar el Employee = 67\n",
    "data1[data1['eid'] == 67] \n",
    "\n",
    "# Alternativa con MERGE (simil Join) y mostrando los campos mid y name\n",
    "pd.merge(data1, data2[(data2['mid'] == 12116) | (data2['mid'] == 12151)], left_on='eid', right_on='from_eid')[['mid','name']]\n"
   ]
  },
  {
   "cell_type": "markdown",
   "metadata": {},
   "source": [
    "## 3. Combinación de datos\n",
    "\n",
    "Utilizar la función `merge` de Pandas para combinar la información de los 3 dataframes y responder a las siguientes preguntas:\n",
    "\n",
    "1. ¿Hay más empleados Hombres o Mujeres?\n",
    "2. ¿Cómo se distribuye el género a través de los departamentos?\n",
    "3. ¿Quiénes envían más e-mails, los hombres o las mujeres?\n",
    "4. ¿Cuál es el promedio de e-mails enviados por cada género?\n",
    "5. ¿Hay más Juniors o Seniors?\n",
    "6. ¿Quiénes envían más e-mails, los Juniors o los Seniors?\n",
    "7. ¿Qué departamento envía más e-mails? ¿Cómo se relaciona con la cantidad de empleados del departamento?\n",
    "8. ¿Cuál es el Top 3 de enviadores de e-mails? (los 3 empleados que más e-mails envían)"
   ]
  },
  {
   "cell_type": "code",
   "execution_count": null,
   "metadata": {
    "collapsed": true
   },
   "outputs": [],
   "source": [
    "import sqlite3\n",
    "import pandas as pd\n",
    "import datetime\n",
    "import numpy as np\n",
    "\n",
    "con = sqlite3.connect('enron.db')\n",
    "\n",
    "data1 = pd.read_sql_query(\"SELECT * FROM EmployeeBase\", con)\n",
    "data2 = pd.read_sql_query(\"SELECT * FROM MessageBase\", con)\n",
    "data3 = pd.read_sql_query(\"SELECT * FROM RecipientBase\", con)"
   ]
  },
  {
   "cell_type": "code",
   "execution_count": null,
   "metadata": {},
   "outputs": [],
   "source": [
    "print(\"1.\")\n",
    "if data1.groupby('gender').size()['Male']>data1.groupby('gender').size()['Female']:\n",
    "    print(\"Hay más empleados Hombres:\", data1.groupby('gender').size()['Male'])\n",
    "else:\n",
    "    print(\"Hay más empleados Mujeres (o igual que Hombres):\", data1.groupby('gender').size()['Female'])"
   ]
  },
  {
   "cell_type": "code",
   "execution_count": null,
   "metadata": {},
   "outputs": [],
   "source": [
    "print(\"2.\")\n",
    "print(data1.groupby(['gender','department']).size())\n"
   ]
  },
  {
   "cell_type": "code",
   "execution_count": null,
   "metadata": {},
   "outputs": [],
   "source": [
    "print(\"3.\")\n",
    "if pd.merge(data1, data2, left_on='eid', right_on='from_eid').groupby('gender').size()['Male']>pd.merge(data1, data2, left_on='eid', right_on='from_eid').groupby('gender').size()['Female']:\n",
    "    print(\"Los Hombres envían más e-mails:\",pd.merge(data1, data2, left_on='eid', right_on='from_eid').groupby('gender').size()['Male'])\n",
    "else:\n",
    "    print(\"Las Mujeres envían más e-mails:\",pd.merge(data1, data2, left_on='eid', right_on='from_eid').groupby('gender').size()['Female'])\n"
   ]
  },
  {
   "cell_type": "code",
   "execution_count": null,
   "metadata": {},
   "outputs": [],
   "source": [
    "print(\"4.\")\n",
    "print(\"En promedio las Mujeres envían\",(pd.merge(data1, data2, left_on='eid', right_on='from_eid').groupby('gender').size()['Female'] / data1.groupby('gender').size()['Female']),\"e-mails\")\n",
    "print(\"En promedio los Hombres envían\",(pd.merge(data1, data2, left_on='eid', right_on='from_eid').groupby('gender').size()['Male'] / data1.groupby('gender').size()['Male']),\"e-mails\")\n"
   ]
  },
  {
   "cell_type": "code",
   "execution_count": null,
   "metadata": {},
   "outputs": [],
   "source": [
    "print(\"5.\")\n",
    "if data1.groupby('seniority').size()['Senior']>data1.groupby('seniority').size()['Junior']:\n",
    "    print(\"Hay más empleados Senior:\", data1.groupby('seniority').size()['Senior'])\n",
    "else:\n",
    "    print(\"Hay más empleados Junior :\", data1.groupby('seniority').size()['Junior'])\n"
   ]
  },
  {
   "cell_type": "code",
   "execution_count": null,
   "metadata": {},
   "outputs": [],
   "source": [
    "print(\"6.\")\n",
    "if pd.merge(data1, data2, left_on='eid', right_on='from_eid').groupby('seniority').size()['Senior']>pd.merge(data1, data2, left_on='eid', right_on='from_eid').groupby('seniority').size()['Junior']:\n",
    "    print(\"Los Senior envían más e-mails:\",pd.merge(data1, data2, left_on='eid', right_on='from_eid').groupby('seniority').size()['Senior'])\n",
    "else:\n",
    "    print(\"Los Junior envían más e-mails:\",pd.merge(data1, data2, left_on='eid', right_on='from_eid').groupby('seniority').size()['Junior'])\n"
   ]
  },
  {
   "cell_type": "code",
   "execution_count": null,
   "metadata": {},
   "outputs": [],
   "source": [
    "print(\"7.\")\n",
    "print(pd.merge(data1, data2, left_on='eid', right_on='from_eid').groupby('department').size())\n",
    "print(data1.groupby('department').size())\n"
   ]
  },
  {
   "cell_type": "code",
   "execution_count": null,
   "metadata": {},
   "outputs": [],
   "source": [
    "print(\"8.\")\n",
    "print(data2.groupby('from_eid').size().nlargest(3, \"first\"))"
   ]
  },
  {
   "cell_type": "markdown",
   "metadata": {},
   "source": [
    "Responder a las siguientes preguntas de aceurdo a los mensajes recibidos:\n",
    "\n",
    "1. ¿Quiénes reciben más e-mails, los Hombres o las Mujeres?\n",
    "2. ¿Quiénes reciben más e-mails, los Juniors o los Seniors?\n",
    "3. ¿Qué departamento recibe más e-mails? ¿Cómo se relaciona con la cantidad de empleados del departamento?\n",
    "4. ¿Cuál es el Top 5 de receptores de e-mails? (los 5 empleados que más e-mails recibieron)"
   ]
  },
  {
   "cell_type": "code",
   "execution_count": null,
   "metadata": {
    "collapsed": true
   },
   "outputs": [],
   "source": [
    "import sqlite3\n",
    "import pandas as pd\n",
    "import datetime\n",
    "import numpy as np\n",
    "\n",
    "con = sqlite3.connect('enron.db')\n",
    "\n",
    "data1 = pd.read_sql_query(\"SELECT * FROM EmployeeBase\", con)\n",
    "data2 = pd.read_sql_query(\"SELECT * FROM MessageBase\", con)\n",
    "data3 = pd.read_sql_query(\"SELECT * FROM RecipientBase\", con)\n",
    "\n",
    "Hombres_reciben = pd.merge(data1, data3, left_on='eid', right_on='to_eid').groupby('gender').size()['Male']\n",
    "Mujeres_reciben = pd.merge(data1, data3, left_on='eid', right_on='to_eid').groupby('gender').size()['Female']\n",
    "\n",
    "Junior_reciben = pd.merge(data1, data3, left_on='eid', right_on='to_eid').groupby('seniority').size()['Junior']\n",
    "Senior_reciben = pd.merge(data1, data3, left_on='eid', right_on='to_eid').groupby('seniority').size()['Senior']"
   ]
  },
  {
   "cell_type": "code",
   "execution_count": null,
   "metadata": {
    "collapsed": true
   },
   "outputs": [],
   "source": [
    "print(\"1.\")\n",
    "if Hombres_reciben>Mujeres_reciben:\n",
    "    print(\"Los Hombres reciben más e-mails\")\n",
    "else:\n",
    "    print(\"Las Mujeres reciben más e-mails (o igual)\")"
   ]
  },
  {
   "cell_type": "code",
   "execution_count": null,
   "metadata": {
    "collapsed": true
   },
   "outputs": [],
   "source": [
    "print (\"2.\")\n",
    "if Junior_reciben>Senior_reciben:\n",
    "    print(\"Los Junior reciben más e-mails\")\n",
    "else:\n",
    "    print(\"Las Senior reciben más e-mails (o igual)\")\n"
   ]
  },
  {
   "cell_type": "code",
   "execution_count": null,
   "metadata": {
    "collapsed": true
   },
   "outputs": [],
   "source": [
    "print(\"3.\")\n",
    "print(pd.merge(data1, data3, left_on='eid', right_on='to_eid').groupby('department').size())\n",
    "print(data1.groupby('department').size())\n"
   ]
  },
  {
   "cell_type": "code",
   "execution_count": null,
   "metadata": {
    "collapsed": true
   },
   "outputs": [],
   "source": [
    "print(\"4.\")\n",
    "print(data3.groupby('to_eid').size().nlargest(5, \"first\"))\n"
   ]
  },
  {
   "cell_type": "markdown",
   "metadata": {},
   "source": [
    "¿Cuáles empleados enviaron más e-mails de forma \"masiva\"?"
   ]
  },
  {
   "cell_type": "code",
   "execution_count": null,
   "metadata": {
    "collapsed": true
   },
   "outputs": [],
   "source": [
    "import sqlite3\n",
    "import pandas as pd\n",
    "import datetime\n",
    "import numpy as np\n",
    "\n",
    "con = sqlite3.connect('enron.db')\n",
    "\n",
    "data1 = pd.read_sql_query(\"SELECT * FROM EmployeeBase\", con)\n",
    "data2 = pd.read_sql_query(\"SELECT * FROM MessageBase\", con)\n",
    "data3 = pd.read_sql_query(\"SELECT * FROM RecipientBase\", con)\n",
    "\n",
    "enviadores = pd.merge(data2, data3, on='mid').groupby(['from_eid','mid']).size()\n",
    "print(enviadores[enviadores > 50]) ## Los eid 67 y 68 son los que más \"spam\" hicieron\n",
    "\n",
    "\n"
   ]
  },
  {
   "cell_type": "markdown",
   "metadata": {},
   "source": [
    "Continuar explorando el dataset. ¿Qué otras preguntas se podrían hacer?\n",
    "\n",
    "Trabajar en grupos de a 2. Intercambiando preguntas desafiantes para que el otro las responda."
   ]
  }
 ],
 "metadata": {
  "kernelspec": {
   "display_name": "Python 3",
   "language": "python",
   "name": "python3"
  },
  "language_info": {
   "codemirror_mode": {
    "name": "ipython",
    "version": 3
   },
   "file_extension": ".py",
   "mimetype": "text/x-python",
   "name": "python",
   "nbconvert_exporter": "python",
   "pygments_lexer": "ipython3",
   "version": "3.6.1"
  }
 },
 "nbformat": 4,
 "nbformat_minor": 1
}
