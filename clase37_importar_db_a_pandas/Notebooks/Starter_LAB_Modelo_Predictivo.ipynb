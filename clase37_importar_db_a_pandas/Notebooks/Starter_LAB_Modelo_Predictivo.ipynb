{
 "cells": [
  {
   "cell_type": "markdown",
   "metadata": {},
   "source": [
    "# LAB: Identificando a los ingresos del cuartil superior\n",
    "\n",
    "El objetivo de esta actividad es crear un modelo para predecir los casos en que el salario es mayor o menor a 50K.\n",
    "El dataset está construido sobre la base de datos del Censo del año 1994 de los Estados Unidos.\n",
    "\n",
    "**Nota:** más información en [Adult UCI Dataset](http://archive.ics.uci.edu/ml/datasets/Adult)"
   ]
  },
  {
   "cell_type": "markdown",
   "metadata": {},
   "source": [
    "## 1. Exploración de los datos\n",
    "\n",
    "Los datos están contenidos en el archivo de la Base de Datos: `adult.sqlite`\n",
    "\n",
    "**Comenzar cargando los datos en Pandas DataFrames.**"
   ]
  },
  {
   "cell_type": "code",
   "execution_count": 1,
   "metadata": {
    "collapsed": false
   },
   "outputs": [],
   "source": [
    "import sqlite3\n",
    "\n",
    "sqlite_db = 'adult.sqlite'\n",
    "conn = sqlite3.connect(sqlite_db)\n",
    "c = conn.cursor()"
   ]
  },
  {
   "cell_type": "markdown",
   "metadata": {},
   "source": [
    "**Leer la estructura de la tabla Adult y obtener los nombres de los campos**"
   ]
  },
  {
   "cell_type": "code",
   "execution_count": 2,
   "metadata": {
    "collapsed": false
   },
   "outputs": [],
   "source": [
    "cols = c.execute(\"PRAGMA table_info('adult')\").fetchall()\n",
    "adult_cols = [x[1] for x in cols]"
   ]
  },
  {
   "cell_type": "markdown",
   "metadata": {},
   "source": [
    "** Transformar los datos en un dataframe de pandas**"
   ]
  },
  {
   "cell_type": "code",
   "execution_count": 3,
   "metadata": {
    "collapsed": false
   },
   "outputs": [],
   "source": [
    "import pandas as pd\n",
    "df = pd.DataFrame(c.execute(\"SELECT * from adult\").fetchall(), columns = adult_cols)"
   ]
  },
  {
   "cell_type": "code",
   "execution_count": 4,
   "metadata": {
    "collapsed": false
   },
   "outputs": [
    {
     "data": {
      "text/html": [
       "<div>\n",
       "<style>\n",
       "    .dataframe thead tr:only-child th {\n",
       "        text-align: right;\n",
       "    }\n",
       "\n",
       "    .dataframe thead th {\n",
       "        text-align: left;\n",
       "    }\n",
       "\n",
       "    .dataframe tbody tr th {\n",
       "        vertical-align: top;\n",
       "    }\n",
       "</style>\n",
       "<table border=\"1\" class=\"dataframe\">\n",
       "  <thead>\n",
       "    <tr style=\"text-align: right;\">\n",
       "      <th></th>\n",
       "      <th>age</th>\n",
       "      <th>workclass</th>\n",
       "      <th>fnlwgt</th>\n",
       "      <th>education</th>\n",
       "      <th>education-num</th>\n",
       "      <th>marital-status</th>\n",
       "      <th>occupation</th>\n",
       "      <th>relationship</th>\n",
       "      <th>race</th>\n",
       "      <th>sex</th>\n",
       "      <th>capital-gain</th>\n",
       "      <th>capital-loss</th>\n",
       "      <th>hours-per-week</th>\n",
       "      <th>native-country</th>\n",
       "      <th>salary</th>\n",
       "    </tr>\n",
       "  </thead>\n",
       "  <tbody>\n",
       "    <tr>\n",
       "      <th>0</th>\n",
       "      <td>39</td>\n",
       "      <td>State-gov</td>\n",
       "      <td>77516</td>\n",
       "      <td>Bachelors</td>\n",
       "      <td>13</td>\n",
       "      <td>Never-married</td>\n",
       "      <td>Adm-clerical</td>\n",
       "      <td>Not-in-family</td>\n",
       "      <td>White</td>\n",
       "      <td>Male</td>\n",
       "      <td>2174</td>\n",
       "      <td>0</td>\n",
       "      <td>40</td>\n",
       "      <td>United-States</td>\n",
       "      <td>&lt;=50K</td>\n",
       "    </tr>\n",
       "    <tr>\n",
       "      <th>1</th>\n",
       "      <td>50</td>\n",
       "      <td>Self-emp-not-inc</td>\n",
       "      <td>83311</td>\n",
       "      <td>Bachelors</td>\n",
       "      <td>13</td>\n",
       "      <td>Married-civ-spouse</td>\n",
       "      <td>Exec-managerial</td>\n",
       "      <td>Husband</td>\n",
       "      <td>White</td>\n",
       "      <td>Male</td>\n",
       "      <td>0</td>\n",
       "      <td>0</td>\n",
       "      <td>13</td>\n",
       "      <td>United-States</td>\n",
       "      <td>&lt;=50K</td>\n",
       "    </tr>\n",
       "    <tr>\n",
       "      <th>2</th>\n",
       "      <td>38</td>\n",
       "      <td>Private</td>\n",
       "      <td>215646</td>\n",
       "      <td>HS-grad</td>\n",
       "      <td>9</td>\n",
       "      <td>Divorced</td>\n",
       "      <td>Handlers-cleaners</td>\n",
       "      <td>Not-in-family</td>\n",
       "      <td>White</td>\n",
       "      <td>Male</td>\n",
       "      <td>0</td>\n",
       "      <td>0</td>\n",
       "      <td>40</td>\n",
       "      <td>United-States</td>\n",
       "      <td>&lt;=50K</td>\n",
       "    </tr>\n",
       "    <tr>\n",
       "      <th>3</th>\n",
       "      <td>53</td>\n",
       "      <td>Private</td>\n",
       "      <td>234721</td>\n",
       "      <td>11th</td>\n",
       "      <td>7</td>\n",
       "      <td>Married-civ-spouse</td>\n",
       "      <td>Handlers-cleaners</td>\n",
       "      <td>Husband</td>\n",
       "      <td>Black</td>\n",
       "      <td>Male</td>\n",
       "      <td>0</td>\n",
       "      <td>0</td>\n",
       "      <td>40</td>\n",
       "      <td>United-States</td>\n",
       "      <td>&lt;=50K</td>\n",
       "    </tr>\n",
       "    <tr>\n",
       "      <th>4</th>\n",
       "      <td>28</td>\n",
       "      <td>Private</td>\n",
       "      <td>338409</td>\n",
       "      <td>Bachelors</td>\n",
       "      <td>13</td>\n",
       "      <td>Married-civ-spouse</td>\n",
       "      <td>Prof-specialty</td>\n",
       "      <td>Wife</td>\n",
       "      <td>Black</td>\n",
       "      <td>Female</td>\n",
       "      <td>0</td>\n",
       "      <td>0</td>\n",
       "      <td>40</td>\n",
       "      <td>Cuba</td>\n",
       "      <td>&lt;=50K</td>\n",
       "    </tr>\n",
       "  </tbody>\n",
       "</table>\n",
       "</div>"
      ],
      "text/plain": [
       "   age         workclass  fnlwgt  education  education-num  \\\n",
       "0   39         State-gov   77516  Bachelors             13   \n",
       "1   50  Self-emp-not-inc   83311  Bachelors             13   \n",
       "2   38           Private  215646    HS-grad              9   \n",
       "3   53           Private  234721       11th              7   \n",
       "4   28           Private  338409  Bachelors             13   \n",
       "\n",
       "       marital-status         occupation   relationship   race     sex  \\\n",
       "0       Never-married       Adm-clerical  Not-in-family  White    Male   \n",
       "1  Married-civ-spouse    Exec-managerial        Husband  White    Male   \n",
       "2            Divorced  Handlers-cleaners  Not-in-family  White    Male   \n",
       "3  Married-civ-spouse  Handlers-cleaners        Husband  Black    Male   \n",
       "4  Married-civ-spouse     Prof-specialty           Wife  Black  Female   \n",
       "\n",
       "   capital-gain  capital-loss  hours-per-week native-country salary  \n",
       "0          2174             0              40  United-States  <=50K  \n",
       "1             0             0              13  United-States  <=50K  \n",
       "2             0             0              40  United-States  <=50K  \n",
       "3             0             0              40  United-States  <=50K  \n",
       "4             0             0              40           Cuba  <=50K  "
      ]
     },
     "execution_count": 4,
     "metadata": {},
     "output_type": "execute_result"
    }
   ],
   "source": [
    "df.head()"
   ]
  },
  {
   "cell_type": "markdown",
   "metadata": {},
   "source": [
    "### 1.1 Identificación de Valores faltantes\n",
    "\n",
    "¿Faltan algunos valores?\n",
    "¿Qué se puede hacer para solucionarlo?\n",
    "\n",
    "Discutir diferentes estrategias con un compañero y decidir cuál se va a utilizar (por ejemplo, completarlos con determinado valor, eliminarlos, etc.)"
   ]
  },
  {
   "cell_type": "code",
   "execution_count": null,
   "metadata": {
    "collapsed": true
   },
   "outputs": [],
   "source": []
  },
  {
   "cell_type": "markdown",
   "metadata": {},
   "source": [
    "## 2. Análisis de la variable objetivo (`salary`)\n",
    "\n",
    "El salario está separado en 2 clases: '<=50K' y '>50K'.\n",
    "\n",
    "Crear una variable 'target', de tipo boolean, que valga True cuando el salario sea >50K y False en caso contrario."
   ]
  },
  {
   "cell_type": "code",
   "execution_count": null,
   "metadata": {
    "collapsed": true
   },
   "outputs": [],
   "source": []
  },
  {
   "cell_type": "markdown",
   "metadata": {},
   "source": [
    "## 3. Características\n",
    "\n",
    "El dataset contiene varias características o variables.\n",
    "\n",
    "- ¿Contiene características numéricas?\n",
    "- ¿Contiene características categóricas?"
   ]
  },
  {
   "cell_type": "code",
   "execution_count": null,
   "metadata": {
    "collapsed": true
   },
   "outputs": [],
   "source": []
  },
  {
   "cell_type": "markdown",
   "metadata": {},
   "source": [
    "### 3.a Distribución de la edad\n",
    "\n",
    "¿Cuál es la distribución de la edad? ¿Cómo se relacionan la edad con la nueva variable 'target'?\n",
    "\n",
    "- Graficar un histograma de la columna 'age'.\n",
    "- Separar por 'target' y graficar la distribución de la edad para las 2 clases."
   ]
  },
  {
   "cell_type": "code",
   "execution_count": null,
   "metadata": {
    "collapsed": true
   },
   "outputs": [],
   "source": []
  },
  {
   "cell_type": "markdown",
   "metadata": {},
   "source": [
    "### 3.b Distribución de características categóricas\n",
    "\n",
    "Investigar la relación de cada característica categórica con la clase de salario:\n",
    "\n",
    "- workclass\n",
    "- education\n",
    "- marital-status\n",
    "- occupation\n",
    "- relationship\n",
    "- race\n",
    "- sex\n",
    "\n",
    "Utilizar un gráfico de barras para mostrar la frecuencia relativa de cada uno de los elementos en el grupo.\n",
    "Distinguir mediante dos colores las clases de salario bajo y alto.\n",
    "\n",
    "¿Qué características presentan una diferencia significativa en los ratios?"
   ]
  },
  {
   "cell_type": "code",
   "execution_count": null,
   "metadata": {
    "collapsed": true
   },
   "outputs": [],
   "source": []
  },
  {
   "cell_type": "markdown",
   "metadata": {},
   "source": [
    "### 3.c Distribución de otras características numéricas\n",
    "\n",
    "Al igual que se hizo con la edad, investingar la distribución de otras características numéricas para las 2 clases."
   ]
  },
  {
   "cell_type": "code",
   "execution_count": null,
   "metadata": {
    "collapsed": true
   },
   "outputs": [],
   "source": []
  },
  {
   "cell_type": "markdown",
   "metadata": {},
   "source": [
    "## 4. Columnas 'Dummy'\n",
    "\n",
    "Los modelos Scikit-Learn requiere características con valores numéricos. Para poder utilizar todas las características categóricas del modelo de datos es necesario codificarlas como números. La manera de hacerlo se llama 'One-Hot Encoding' o Creación de Columnas 'Dummy'.\n",
    "Tanto Pandas como Scikit Learn ofrecen una interfaz para realizar esto. Elegir la de mayor preferencia.\n",
    "\n",
    "Ejemplo:\n",
    "\n",
    "|Característica categórica|Dummy_A|Dummy_B|Dummy_C|\n",
    "|---|---|---|---|\n",
    "|A|1|0|0|\n",
    "|B|0|1|0|\n",
    "|B|0|1|0|\n",
    "|C|0|0|1|\n",
    "|A|1|0|0|\n",
    "|C|0|0|1|\n",
    "|B|0|1|0|\n",
    "\n",
    "- [One Hot Encoder](http://scikit-learn.org/stable/modules/generated/sklearn.preprocessing.OneHotEncoder.html)\n",
    "- [Get Dummies](http://pandas.pydata.org/pandas-docs/stable/generated/pandas.get_dummies.html)\n"
   ]
  },
  {
   "cell_type": "code",
   "execution_count": null,
   "metadata": {
    "collapsed": true
   },
   "outputs": [],
   "source": []
  },
  {
   "cell_type": "markdown",
   "metadata": {},
   "source": [
    "## 5. Normalización de variables numéricas\n",
    "\n",
    "Las variables o features numéricas pueden tener diferentes escalas lo cual, en algunos casos, puede ocasionar problemas. Por lo tanto se recomienda intentar normalizarlas utilizando funciones para ajustar las escalas.\n",
    "\n",
    "Utilizar las funciones provistas Scikit-learn Preprocessing para cambiar la escala de las características numéricas.\n",
    "\n",
    "[Scikit-Learn Preprocessing](http://scikit-learn.org/stable/modules/preprocessing.html)\n",
    "\n",
    "Discutir con un compañero acerca de las ventajas y desventajas de cada una de las funciones."
   ]
  },
  {
   "cell_type": "code",
   "execution_count": null,
   "metadata": {
    "collapsed": true
   },
   "outputs": [],
   "source": []
  },
  {
   "cell_type": "markdown",
   "metadata": {},
   "source": [
    "## 6. Combinar features\n",
    "\n",
    "Combinar las features codificadas con columnas 'dummy' con aquellas a las que se le ajustaron la escala en un mismo dataset llamado `X`.\n",
    "\n",
    "Renombrar la variable 'target' como `y`.\n",
    "\n",
    "¿Cuál es el puntaje de precisión de un modelo de benchmark? ¿Cuál es el modelo más simple que se puede construir?"
   ]
  },
  {
   "cell_type": "code",
   "execution_count": null,
   "metadata": {
    "collapsed": true
   },
   "outputs": [],
   "source": []
  },
  {
   "cell_type": "markdown",
   "metadata": {
    "collapsed": false
   },
   "source": [
    "## 7. Construir y evaluar un modelo\n",
    "\n",
    "Construir tres clasificadores: \n",
    "\n",
    "1. Logistic Regression (sin regularización)\n",
    "2. Logistic Regression (con regularización y tunning de hiperaparámetros)\n",
    "3. KNN, SVC o Naïve Bayes (según lo \"sorteado\") \n",
    "\n",
    "Previamente, dividir los datos en subconjuntos de entrenamiento y prueba utilizando la siguiente linea:\n",
    "\n",
    "    from sklearn.cross_validation import train_test_split\n",
    "    X_train, X_test, y_train, y_test = train_test_split(X, y, test_size=0.33, random_state=42)\n",
    "    \n",
    "1. Evaluar el `accuracy_score` del modelo construido.\n",
    "2. Mostrar la matriz de confusión y el reporte de clasificación.\n",
    "3. Intentar mejorar el modelo ajustando los parámetros. Por ejemplo:\n",
    "    - LogisticRegression: cambiar la fuerza de la regularización\n",
    "    - KNN: modificar el númnero de `neighbors`\n",
    "    - SVC: modificar los parámetros `gamma` o `C` \n",
    "    - Naïve Bayes: cambiar los priors del modelo\n",
    "4. Discutir y comparar con un compañero el mejor modelo obtenido por cada uno.\n",
    "5. Discutir las interpretaciones posibles de cada uno de los modelos\n",
    "\n"
   ]
  },
  {
   "cell_type": "markdown",
   "metadata": {},
   "source": [
    "### 7.1 Regresión Logística (base - sin regularización)"
   ]
  },
  {
   "cell_type": "markdown",
   "metadata": {},
   "source": [
    "Estime un clasificador basado en un modelo de regresión logística para la variable `target`. Testee diferentes valores de C -equivalente a alpha en regresión lineal- para las dos penalidades posibles de una regresión logística. \n",
    "\n",
    "1. ¿Qué tipo de regularización funciona mejor?\n",
    "2. ¿Cuáles son los parámetros óptimos?\n",
    "3. ¿Qué puede decir con respecto a la matriz de confusión del clasificador estimado?\n",
    "4. ¿Cuáles son las variables más relevantes?\n",
    "5. ¿Cómo interpretaría los coeficientes obtenidos?"
   ]
  },
  {
   "cell_type": "code",
   "execution_count": null,
   "metadata": {
    "collapsed": true
   },
   "outputs": [],
   "source": []
  },
  {
   "cell_type": "markdown",
   "metadata": {},
   "source": [
    "### 7.3 Regresión Logística (con regularización)"
   ]
  },
  {
   "cell_type": "code",
   "execution_count": null,
   "metadata": {
    "collapsed": true
   },
   "outputs": [],
   "source": []
  },
  {
   "cell_type": "markdown",
   "metadata": {},
   "source": [
    "### 7.4 Modelos KNN con diferente k"
   ]
  },
  {
   "cell_type": "code",
   "execution_count": null,
   "metadata": {
    "collapsed": true
   },
   "outputs": [],
   "source": []
  },
  {
   "cell_type": "markdown",
   "metadata": {},
   "source": [
    "### 7.5 Naïve Bayes"
   ]
  },
  {
   "cell_type": "code",
   "execution_count": null,
   "metadata": {
    "collapsed": true
   },
   "outputs": [],
   "source": []
  },
  {
   "cell_type": "markdown",
   "metadata": {},
   "source": [
    "### 7.6 Support Vector Machines"
   ]
  },
  {
   "cell_type": "code",
   "execution_count": null,
   "metadata": {
    "collapsed": true
   },
   "outputs": [],
   "source": []
  }
 ],
 "metadata": {
  "anaconda-cloud": {},
  "kernelspec": {
   "display_name": "Python 2",
   "language": "python",
   "name": "python2"
  },
  "language_info": {
   "codemirror_mode": {
    "name": "ipython",
    "version": 2
   },
   "file_extension": ".py",
   "mimetype": "text/x-python",
   "name": "python",
   "nbconvert_exporter": "python",
   "pygments_lexer": "ipython2",
   "version": "2.7.13"
  }
 },
 "nbformat": 4,
 "nbformat_minor": 0
}
