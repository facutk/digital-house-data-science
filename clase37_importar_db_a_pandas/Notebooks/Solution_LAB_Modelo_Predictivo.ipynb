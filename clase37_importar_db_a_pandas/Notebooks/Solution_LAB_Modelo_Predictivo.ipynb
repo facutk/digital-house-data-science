{
 "cells": [
  {
   "cell_type": "markdown",
   "metadata": {},
   "source": [
    "# LAB: Identificando a los ingresos del cuartil superior\n",
    "\n",
    "El objetivo de esta actividad es crear un modelo para predecir los casos en que el salario es mayor o menor a 50K.\n",
    "El dataset está construido sobre la base de datos del Censo del año 1994 de los Estados Unidos.\n",
    "\n",
    "**Nota:** más información en [Adult UCI Dataset](http://archive.ics.uci.edu/ml/datasets/Adult)"
   ]
  },
  {
   "cell_type": "markdown",
   "metadata": {},
   "source": [
    "## 1. Exploración de los datos\n",
    "\n",
    "Los datos están contenidos en el archivo de la Base de Datos: `adult.sqlite`\n",
    "\n",
    "**Comenzar cargando los datos en Pandas DataFrames.**"
   ]
  },
  {
   "cell_type": "code",
   "execution_count": 1,
   "metadata": {},
   "outputs": [],
   "source": [
    "import sqlite3\n",
    "\n",
    "sqlite_db = 'adult.sqlite'\n",
    "conn = sqlite3.connect(sqlite_db)\n",
    "c = conn.cursor()"
   ]
  },
  {
   "cell_type": "markdown",
   "metadata": {},
   "source": [
    "**Leer la estructura de la tabla Adult y obtener los nombres de los campos**"
   ]
  },
  {
   "cell_type": "code",
   "execution_count": 2,
   "metadata": {},
   "outputs": [],
   "source": [
    "cols = c.execute(\"PRAGMA table_info('adult')\").fetchall()\n",
    "adult_cols = [x[1] for x in cols]"
   ]
  },
  {
   "cell_type": "markdown",
   "metadata": {},
   "source": [
    "** Transformar los datos en un dataframe de pandas**"
   ]
  },
  {
   "cell_type": "code",
   "execution_count": 3,
   "metadata": {},
   "outputs": [],
   "source": [
    "import pandas as pd\n",
    "df = pd.DataFrame(c.execute(\"SELECT * from adult\").fetchall(), columns = adult_cols)"
   ]
  },
  {
   "cell_type": "code",
   "execution_count": 4,
   "metadata": {},
   "outputs": [
    {
     "data": {
      "text/html": [
       "<div>\n",
       "<style>\n",
       "    .dataframe thead tr:only-child th {\n",
       "        text-align: right;\n",
       "    }\n",
       "\n",
       "    .dataframe thead th {\n",
       "        text-align: left;\n",
       "    }\n",
       "\n",
       "    .dataframe tbody tr th {\n",
       "        vertical-align: top;\n",
       "    }\n",
       "</style>\n",
       "<table border=\"1\" class=\"dataframe\">\n",
       "  <thead>\n",
       "    <tr style=\"text-align: right;\">\n",
       "      <th></th>\n",
       "      <th>age</th>\n",
       "      <th>workclass</th>\n",
       "      <th>fnlwgt</th>\n",
       "      <th>education</th>\n",
       "      <th>education-num</th>\n",
       "      <th>marital-status</th>\n",
       "      <th>occupation</th>\n",
       "      <th>relationship</th>\n",
       "      <th>race</th>\n",
       "      <th>sex</th>\n",
       "      <th>capital-gain</th>\n",
       "      <th>capital-loss</th>\n",
       "      <th>hours-per-week</th>\n",
       "      <th>native-country</th>\n",
       "      <th>salary</th>\n",
       "    </tr>\n",
       "  </thead>\n",
       "  <tbody>\n",
       "    <tr>\n",
       "      <th>0</th>\n",
       "      <td>39</td>\n",
       "      <td>State-gov</td>\n",
       "      <td>77516</td>\n",
       "      <td>Bachelors</td>\n",
       "      <td>13</td>\n",
       "      <td>Never-married</td>\n",
       "      <td>Adm-clerical</td>\n",
       "      <td>Not-in-family</td>\n",
       "      <td>White</td>\n",
       "      <td>Male</td>\n",
       "      <td>2174</td>\n",
       "      <td>0</td>\n",
       "      <td>40</td>\n",
       "      <td>United-States</td>\n",
       "      <td>&lt;=50K</td>\n",
       "    </tr>\n",
       "    <tr>\n",
       "      <th>1</th>\n",
       "      <td>50</td>\n",
       "      <td>Self-emp-not-inc</td>\n",
       "      <td>83311</td>\n",
       "      <td>Bachelors</td>\n",
       "      <td>13</td>\n",
       "      <td>Married-civ-spouse</td>\n",
       "      <td>Exec-managerial</td>\n",
       "      <td>Husband</td>\n",
       "      <td>White</td>\n",
       "      <td>Male</td>\n",
       "      <td>0</td>\n",
       "      <td>0</td>\n",
       "      <td>13</td>\n",
       "      <td>United-States</td>\n",
       "      <td>&lt;=50K</td>\n",
       "    </tr>\n",
       "    <tr>\n",
       "      <th>2</th>\n",
       "      <td>38</td>\n",
       "      <td>Private</td>\n",
       "      <td>215646</td>\n",
       "      <td>HS-grad</td>\n",
       "      <td>9</td>\n",
       "      <td>Divorced</td>\n",
       "      <td>Handlers-cleaners</td>\n",
       "      <td>Not-in-family</td>\n",
       "      <td>White</td>\n",
       "      <td>Male</td>\n",
       "      <td>0</td>\n",
       "      <td>0</td>\n",
       "      <td>40</td>\n",
       "      <td>United-States</td>\n",
       "      <td>&lt;=50K</td>\n",
       "    </tr>\n",
       "    <tr>\n",
       "      <th>3</th>\n",
       "      <td>53</td>\n",
       "      <td>Private</td>\n",
       "      <td>234721</td>\n",
       "      <td>11th</td>\n",
       "      <td>7</td>\n",
       "      <td>Married-civ-spouse</td>\n",
       "      <td>Handlers-cleaners</td>\n",
       "      <td>Husband</td>\n",
       "      <td>Black</td>\n",
       "      <td>Male</td>\n",
       "      <td>0</td>\n",
       "      <td>0</td>\n",
       "      <td>40</td>\n",
       "      <td>United-States</td>\n",
       "      <td>&lt;=50K</td>\n",
       "    </tr>\n",
       "    <tr>\n",
       "      <th>4</th>\n",
       "      <td>28</td>\n",
       "      <td>Private</td>\n",
       "      <td>338409</td>\n",
       "      <td>Bachelors</td>\n",
       "      <td>13</td>\n",
       "      <td>Married-civ-spouse</td>\n",
       "      <td>Prof-specialty</td>\n",
       "      <td>Wife</td>\n",
       "      <td>Black</td>\n",
       "      <td>Female</td>\n",
       "      <td>0</td>\n",
       "      <td>0</td>\n",
       "      <td>40</td>\n",
       "      <td>Cuba</td>\n",
       "      <td>&lt;=50K</td>\n",
       "    </tr>\n",
       "  </tbody>\n",
       "</table>\n",
       "</div>"
      ],
      "text/plain": [
       "   age         workclass  fnlwgt  education  education-num  \\\n",
       "0   39         State-gov   77516  Bachelors             13   \n",
       "1   50  Self-emp-not-inc   83311  Bachelors             13   \n",
       "2   38           Private  215646    HS-grad              9   \n",
       "3   53           Private  234721       11th              7   \n",
       "4   28           Private  338409  Bachelors             13   \n",
       "\n",
       "       marital-status         occupation   relationship   race     sex  \\\n",
       "0       Never-married       Adm-clerical  Not-in-family  White    Male   \n",
       "1  Married-civ-spouse    Exec-managerial        Husband  White    Male   \n",
       "2            Divorced  Handlers-cleaners  Not-in-family  White    Male   \n",
       "3  Married-civ-spouse  Handlers-cleaners        Husband  Black    Male   \n",
       "4  Married-civ-spouse     Prof-specialty           Wife  Black  Female   \n",
       "\n",
       "   capital-gain  capital-loss  hours-per-week native-country salary  \n",
       "0          2174             0              40  United-States  <=50K  \n",
       "1             0             0              13  United-States  <=50K  \n",
       "2             0             0              40  United-States  <=50K  \n",
       "3             0             0              40  United-States  <=50K  \n",
       "4             0             0              40           Cuba  <=50K  "
      ]
     },
     "execution_count": 4,
     "metadata": {},
     "output_type": "execute_result"
    }
   ],
   "source": [
    "df.head()"
   ]
  },
  {
   "cell_type": "markdown",
   "metadata": {},
   "source": [
    "### 1.1 Identificación de Valores faltantes\n",
    "\n",
    "¿Faltan algunos valores?\n",
    "¿Qué se puede hacer para solucionarlo?\n",
    "\n",
    "Discutir diferentes estrategias con un compañero y decidir cuál se va a utilizar (por ejemplo, completarlos con determinado valor, eliminarlos, etc.)"
   ]
  },
  {
   "cell_type": "code",
   "execution_count": 5,
   "metadata": {},
   "outputs": [],
   "source": [
    "## Ver información de la tabla, acerca de cuántos valores tiene cada columna (y por lo tanto cuántos faltan o son nulos)\n",
    "# df.info()\n",
    "## Se eliminan las filas que contengan algún atributo nulo, en caso de optar por esta estrategia.\n",
    "# df = df.dropna()\n",
    "## Luego volver a ver la Info para verificar la cantidad de registros resultantes."
   ]
  },
  {
   "cell_type": "code",
   "execution_count": 6,
   "metadata": {},
   "outputs": [
    {
     "name": "stdout",
     "output_type": "stream",
     "text": [
      "<class 'pandas.core.frame.DataFrame'>\n",
      "RangeIndex: 48842 entries, 0 to 48841\n",
      "Data columns (total 15 columns):\n",
      "age               48842 non-null int64\n",
      "workclass         46043 non-null object\n",
      "fnlwgt            48842 non-null int64\n",
      "education         48842 non-null object\n",
      "education-num     48842 non-null int64\n",
      "marital-status    48842 non-null object\n",
      "occupation        46033 non-null object\n",
      "relationship      48842 non-null object\n",
      "race              48842 non-null object\n",
      "sex               48842 non-null object\n",
      "capital-gain      48842 non-null int64\n",
      "capital-loss      48842 non-null int64\n",
      "hours-per-week    48842 non-null int64\n",
      "native-country    47985 non-null object\n",
      "salary            48842 non-null object\n",
      "dtypes: int64(6), object(9)\n",
      "memory usage: 5.6+ MB\n"
     ]
    }
   ],
   "source": [
    "df.info()"
   ]
  },
  {
   "cell_type": "markdown",
   "metadata": {},
   "source": [
    "## 2. Análisis de la variable objetivo (`salary`)\n",
    "\n",
    "El salario está separado en 2 clases: '<=50K' y '>50K'.\n",
    "\n",
    "Crear una variable 'target', de tipo boolean, que valga True cuando el salario sea >50K y False en caso contrario."
   ]
  },
  {
   "cell_type": "code",
   "execution_count": 7,
   "metadata": {},
   "outputs": [],
   "source": [
    "df['target'] = pd.get_dummies(df['salary'],drop_first=True)\n",
    "\n",
    "#Otra forma de hacerlo con la función map\n",
    "#df['target'] = df['salary'].map(lambda x: 1 if x == \">50K\" else 0)"
   ]
  },
  {
   "cell_type": "code",
   "execution_count": 8,
   "metadata": {},
   "outputs": [],
   "source": [
    "df[['target']] = df[['target']].astype(int)"
   ]
  },
  {
   "cell_type": "code",
   "execution_count": 9,
   "metadata": {},
   "outputs": [
    {
     "data": {
      "text/plain": [
       "0    37155\n",
       "1    11687\n",
       "Name: target, dtype: int64"
      ]
     },
     "execution_count": 9,
     "metadata": {},
     "output_type": "execute_result"
    }
   ],
   "source": [
    "df.target.value_counts()"
   ]
  },
  {
   "cell_type": "markdown",
   "metadata": {},
   "source": [
    "## 3. Características\n",
    "\n",
    "El dataset contiene varias características o variables.\n",
    "\n",
    "- ¿Contiene características numéricas?\n",
    "- ¿Contiene características categóricas?"
   ]
  },
  {
   "cell_type": "markdown",
   "metadata": {},
   "source": [
    "> Hay de ambas características o variables"
   ]
  },
  {
   "cell_type": "markdown",
   "metadata": {},
   "source": [
    "### 3.a Distribución de la edad\n",
    "\n",
    "¿Cuál es la distribución de la edad? ¿Cómo se relacionan la edad con la nueva variable 'target'?\n",
    "\n",
    "- Graficar un histograma de la columna 'age'.\n",
    "- Separar por 'target' y graficar la distribución de la edad para las 2 clases."
   ]
  },
  {
   "cell_type": "code",
   "execution_count": 10,
   "metadata": {},
   "outputs": [
    {
     "data": {
      "text/html": [
       "<div>\n",
       "<style>\n",
       "    .dataframe thead tr:only-child th {\n",
       "        text-align: right;\n",
       "    }\n",
       "\n",
       "    .dataframe thead th {\n",
       "        text-align: left;\n",
       "    }\n",
       "\n",
       "    .dataframe tbody tr th {\n",
       "        vertical-align: top;\n",
       "    }\n",
       "</style>\n",
       "<table border=\"1\" class=\"dataframe\">\n",
       "  <thead>\n",
       "    <tr style=\"text-align: right;\">\n",
       "      <th></th>\n",
       "      <th>age</th>\n",
       "      <th>target</th>\n",
       "    </tr>\n",
       "  </thead>\n",
       "  <tbody>\n",
       "    <tr>\n",
       "      <th>age</th>\n",
       "      <td>1.000000</td>\n",
       "      <td>0.230369</td>\n",
       "    </tr>\n",
       "    <tr>\n",
       "      <th>target</th>\n",
       "      <td>0.230369</td>\n",
       "      <td>1.000000</td>\n",
       "    </tr>\n",
       "  </tbody>\n",
       "</table>\n",
       "</div>"
      ],
      "text/plain": [
       "             age    target\n",
       "age     1.000000  0.230369\n",
       "target  0.230369  1.000000"
      ]
     },
     "execution_count": 10,
     "metadata": {},
     "output_type": "execute_result"
    }
   ],
   "source": [
    "df[['age','target']].corr()"
   ]
  },
  {
   "cell_type": "code",
   "execution_count": 11,
   "metadata": {},
   "outputs": [
    {
     "data": {
      "image/png": "[encoded data removed]",
      "text/plain": [
       "<matplotlib.figure.Figure at 0x7fca3c5b7ef0>"
      ]
     },
     "metadata": {},
     "output_type": "display_data"
    },
    {
     "data": {
      "image/png": "[encoded data removed]",
      "text/plain": [
       "<matplotlib.figure.Figure at 0x7fca3d418a58>"
      ]
     },
     "metadata": {},
     "output_type": "display_data"
    }
   ],
   "source": [
    "import matplotlib.pyplot as plt\n",
    "%matplotlib inline\n",
    "\n",
    "df.age.hist()\n",
    "plt.show()\n",
    "df.age.hist(by=df.target)\n",
    "plt.show()"
   ]
  },
  {
   "cell_type": "markdown",
   "metadata": {},
   "source": [
    "La única conclusión que se puede obtener a simple vista es que hay mucha más gente joven en la clase de ingresos más bajos (clase 0)."
   ]
  },
  {
   "cell_type": "markdown",
   "metadata": {},
   "source": [
    "### 3.b Distribución de características categóricas\n",
    "\n",
    "Investigar la relación de cada característica categórica con la clase de salario:\n",
    "\n",
    "- workclass\n",
    "- education\n",
    "- marital-status\n",
    "- occupation\n",
    "- relationship\n",
    "- race\n",
    "- sex\n",
    "\n",
    "Utilizar un gráfico de barras para mostrar la frecuencia relativa de cada uno de los elementos en el grupo.\n",
    "Distinguir mediante dos colores las clases de salario bajo y alto.\n",
    "\n",
    "¿Qué características presentan una diferencia significativa en los ratios?"
   ]
  },
  {
   "cell_type": "code",
   "execution_count": 12,
   "metadata": {},
   "outputs": [
    {
     "name": "stdout",
     "output_type": "stream",
     "text": [
      "36    1348\n",
      "35    1337\n",
      "33    1335\n",
      "23    1329\n",
      "31    1325\n",
      "34    1303\n",
      "37    1280\n",
      "28    1280\n",
      "30    1278\n",
      "38    1264\n",
      "32    1253\n",
      "41    1235\n",
      "27    1232\n",
      "29    1223\n",
      "39    1206\n",
      "24    1206\n",
      "25    1195\n",
      "40    1187\n",
      "22    1178\n",
      "42    1165\n",
      "26    1153\n",
      "20    1113\n",
      "43    1104\n",
      "46    1097\n",
      "21    1096\n",
      "45    1096\n",
      "47    1081\n",
      "44    1067\n",
      "19    1053\n",
      "51     877\n",
      "      ... \n",
      "60     449\n",
      "62     394\n",
      "64     340\n",
      "63     335\n",
      "65     284\n",
      "67     238\n",
      "66     237\n",
      "68     178\n",
      "69     149\n",
      "70     133\n",
      "72     120\n",
      "71     118\n",
      "73     108\n",
      "74      77\n",
      "75      72\n",
      "76      69\n",
      "90      55\n",
      "77      54\n",
      "80      38\n",
      "81      37\n",
      "78      34\n",
      "79      30\n",
      "82      15\n",
      "84      13\n",
      "83      11\n",
      "88       6\n",
      "85       5\n",
      "87       3\n",
      "89       2\n",
      "86       1\n",
      "Name: age, Length: 74, dtype: int64\n",
      "Private             33906\n",
      "Self-emp-not-inc     3862\n",
      "Local-gov            3136\n",
      "State-gov            1981\n",
      "Self-emp-inc         1695\n",
      "Federal-gov          1432\n",
      "Without-pay            21\n",
      "Never-worked           10\n",
      "Name: workclass, dtype: int64\n",
      "203488    21\n",
      "120277    19\n",
      "190290    19\n",
      "125892    18\n",
      "126569    18\n",
      "99185     17\n",
      "113364    17\n",
      "126675    17\n",
      "186934    16\n",
      "111567    16\n",
      "120131    15\n",
      "117963    15\n",
      "127651    15\n",
      "123011    15\n",
      "121124    14\n",
      "108140    14\n",
      "193882    14\n",
      "148995    14\n",
      "188246    14\n",
      "111483    14\n",
      "164190    14\n",
      "123983    14\n",
      "194630    14\n",
      "132879    14\n",
      "136986    14\n",
      "174789    13\n",
      "214542    13\n",
      "117789    13\n",
      "144778    13\n",
      "156464    13\n",
      "          ..\n",
      "196947     1\n",
      "145748     1\n",
      "336215     1\n",
      "259131     1\n",
      "213339     1\n",
      "158046     1\n",
      "170336     1\n",
      "233825     1\n",
      "198863     1\n",
      "172037     1\n",
      "127277     1\n",
      "391468     1\n",
      "233729     1\n",
      "112900     1\n",
      "45317      1\n",
      "41223      1\n",
      "250121     1\n",
      "114955     1\n",
      "194828     1\n",
      "123151     1\n",
      "334096     1\n",
      "69905      1\n",
      "209173     1\n",
      "141590     1\n",
      "284952     1\n",
      "170272     1\n",
      "137444     1\n",
      "172327     1\n",
      "111368     1\n",
      "208174     1\n",
      "Name: fnlwgt, Length: 28523, dtype: int64\n",
      "HS-grad         15784\n",
      "Some-college    10878\n",
      "Bachelors        8025\n",
      "Masters          2657\n",
      "Assoc-voc        2061\n",
      "11th             1812\n",
      "Assoc-acdm       1601\n",
      "10th             1389\n",
      "7th-8th           955\n",
      "Prof-school       834\n",
      "9th               756\n",
      "12th              657\n",
      "Doctorate         594\n",
      "5th-6th           509\n",
      "1st-4th           247\n",
      "Preschool          83\n",
      "Name: education, dtype: int64\n",
      "9     15784\n",
      "10    10878\n",
      "13     8025\n",
      "14     2657\n",
      "11     2061\n",
      "7      1812\n",
      "12     1601\n",
      "6      1389\n",
      "4       955\n",
      "15      834\n",
      "5       756\n",
      "8       657\n",
      "16      594\n",
      "3       509\n",
      "2       247\n",
      "1        83\n",
      "Name: education-num, dtype: int64\n",
      "Married-civ-spouse       22379\n",
      "Never-married            16117\n",
      "Divorced                  6633\n",
      "Separated                 1530\n",
      "Widowed                   1518\n",
      "Married-spouse-absent      628\n",
      "Married-AF-spouse           37\n",
      "Name: marital-status, dtype: int64\n",
      "Prof-specialty       6172\n",
      "Craft-repair         6112\n",
      "Exec-managerial      6086\n",
      "Adm-clerical         5611\n",
      "Sales                5504\n",
      "Other-service        4923\n",
      "Machine-op-inspct    3022\n",
      "Transport-moving     2355\n",
      "Handlers-cleaners    2072\n",
      "Farming-fishing      1490\n",
      "Tech-support         1446\n",
      "Protective-serv       983\n",
      "Priv-house-serv       242\n",
      "Armed-Forces           15\n",
      "Name: occupation, dtype: int64\n",
      "Husband           19716\n",
      "Not-in-family     12583\n",
      "Own-child          7581\n",
      "Unmarried          5125\n",
      "Wife               2331\n",
      "Other-relative     1506\n",
      "Name: relationship, dtype: int64\n",
      "White                 41762\n",
      "Black                  4685\n",
      "Asian-Pac-Islander     1519\n",
      "Amer-Indian-Eskimo      470\n",
      "Other                   406\n",
      "Name: race, dtype: int64\n",
      "Male      32650\n",
      "Female    16192\n",
      "Name: sex, dtype: int64\n",
      "0        44807\n",
      "15024      513\n",
      "7688       410\n",
      "7298       364\n",
      "99999      244\n",
      "3103       152\n",
      "5178       146\n",
      "5013       117\n",
      "4386       108\n",
      "8614        82\n",
      "3325        81\n",
      "2174        74\n",
      "10520       64\n",
      "4650        63\n",
      "27828       58\n",
      "4064        54\n",
      "594         52\n",
      "3137        51\n",
      "20051       49\n",
      "14084       49\n",
      "3908        42\n",
      "6849        42\n",
      "13550       42\n",
      "2829        42\n",
      "1055        37\n",
      "4787        35\n",
      "3411        34\n",
      "14344       34\n",
      "3464        33\n",
      "2597        31\n",
      "         ...  \n",
      "9562         5\n",
      "2538         5\n",
      "6723         5\n",
      "2050         5\n",
      "11678        4\n",
      "2936         4\n",
      "7896         4\n",
      "4931         4\n",
      "4687         4\n",
      "2961         4\n",
      "1455         4\n",
      "1424         4\n",
      "3432         4\n",
      "2062         3\n",
      "2993         3\n",
      "2009         3\n",
      "6360         3\n",
      "41310        3\n",
      "6097         2\n",
      "5060         2\n",
      "18481        2\n",
      "1264         2\n",
      "7978         2\n",
      "7262         1\n",
      "1731         1\n",
      "2387         1\n",
      "22040        1\n",
      "6612         1\n",
      "1111         1\n",
      "1639         1\n",
      "Name: capital-gain, Length: 123, dtype: int64\n",
      "0       46560\n",
      "1902      304\n",
      "1977      253\n",
      "1887      233\n",
      "2415       72\n",
      "1485       71\n",
      "1848       67\n",
      "1590       62\n",
      "1602       62\n",
      "1876       59\n",
      "1740       58\n",
      "1672       50\n",
      "1741       44\n",
      "1564       43\n",
      "2258       39\n",
      "1719       38\n",
      "1980       36\n",
      "2001       35\n",
      "1408       35\n",
      "1669       35\n",
      "2002       33\n",
      "1579       30\n",
      "2051       29\n",
      "1974       28\n",
      "1721       28\n",
      "2339       27\n",
      "1504       26\n",
      "2377       25\n",
      "1628       24\n",
      "1762       20\n",
      "        ...  \n",
      "1411        4\n",
      "4356        3\n",
      "419         3\n",
      "1944        3\n",
      "2267        3\n",
      "1510        3\n",
      "1735        3\n",
      "1429        3\n",
      "1844        3\n",
      "1648        3\n",
      "3175        2\n",
      "2163        2\n",
      "2467        2\n",
      "3683        2\n",
      "2352        2\n",
      "2754        2\n",
      "2282        2\n",
      "3900        2\n",
      "810         2\n",
      "1755        2\n",
      "974         2\n",
      "2080        1\n",
      "2465        1\n",
      "1911        1\n",
      "155         1\n",
      "1539        1\n",
      "2489        1\n",
      "2201        1\n",
      "1421        1\n",
      "1870        1\n",
      "Name: capital-loss, Length: 99, dtype: int64\n",
      "40    22803\n",
      "50     4246\n",
      "45     2717\n",
      "60     2177\n",
      "35     1937\n",
      "20     1862\n",
      "30     1700\n",
      "55     1051\n",
      "25      958\n",
      "48      770\n",
      "38      714\n",
      "15      623\n",
      "70      437\n",
      "10      425\n",
      "32      423\n",
      "65      355\n",
      "24      354\n",
      "42      338\n",
      "36      336\n",
      "44      310\n",
      "16      303\n",
      "12      247\n",
      "37      242\n",
      "43      227\n",
      "8       218\n",
      "80      210\n",
      "52      205\n",
      "56      141\n",
      "28      140\n",
      "99      137\n",
      "      ...  \n",
      "19       19\n",
      "57       19\n",
      "85       17\n",
      "68       16\n",
      "63       15\n",
      "29       15\n",
      "98       14\n",
      "78       13\n",
      "31       12\n",
      "96        9\n",
      "77        9\n",
      "59        7\n",
      "67        6\n",
      "76        4\n",
      "61        4\n",
      "73        4\n",
      "86        4\n",
      "88        4\n",
      "74        3\n",
      "92        3\n",
      "81        3\n",
      "91        3\n",
      "89        3\n",
      "97        2\n",
      "95        2\n",
      "69        1\n",
      "94        1\n",
      "79        1\n",
      "82        1\n",
      "87        1\n",
      "Name: hours-per-week, Length: 96, dtype: int64\n",
      "United-States                 43832\n",
      "Mexico                          951\n",
      "Philippines                     295\n",
      "Germany                         206\n",
      "Puerto-Rico                     184\n",
      "Canada                          182\n",
      "El-Salvador                     155\n",
      "India                           151\n",
      "Cuba                            138\n",
      "England                         127\n",
      "China                           122\n",
      "South                           115\n",
      "Jamaica                         106\n",
      "Italy                           105\n",
      "Dominican-Republic              103\n",
      "Japan                            92\n",
      "Guatemala                        88\n",
      "Poland                           87\n",
      "Vietnam                          86\n",
      "Columbia                         85\n",
      "Haiti                            75\n",
      "Portugal                         67\n",
      "Taiwan                           65\n",
      "Iran                             59\n",
      "Greece                           49\n",
      "Nicaragua                        49\n",
      "Peru                             46\n",
      "Ecuador                          45\n",
      "France                           38\n",
      "Ireland                          37\n",
      "Hong                             30\n",
      "Thailand                         30\n",
      "Cambodia                         28\n",
      "Trinadad&Tobago                  27\n",
      "Outlying-US(Guam-USVI-etc)       23\n",
      "Yugoslavia                       23\n",
      "Laos                             23\n",
      "Scotland                         21\n",
      "Honduras                         20\n",
      "Hungary                          19\n",
      "Holand-Netherlands                1\n",
      "Name: native-country, dtype: int64\n",
      "<=50K    37155\n",
      ">50K     11687\n",
      "Name: salary, dtype: int64\n",
      "0    37155\n",
      "1    11687\n",
      "Name: target, dtype: int64\n"
     ]
    }
   ],
   "source": [
    "for i in df.columns:\n",
    "    print(df[i].value_counts())"
   ]
  },
  {
   "cell_type": "code",
   "execution_count": 13,
   "metadata": {},
   "outputs": [
    {
     "data": {
      "text/plain": [
       "<seaborn.axisgrid.FacetGrid at 0x7fca3c5b7e48>"
      ]
     },
     "execution_count": 13,
     "metadata": {},
     "output_type": "execute_result"
    },
    {
     "data": {
      "image/png": "[encoded data removed]",
      "text/plain": [
       "<matplotlib.figure.Figure at 0x7fca2ea5d9e8>"
      ]
     },
     "metadata": {},
     "output_type": "display_data"
    }
   ],
   "source": [
    "import seaborn as sns\n",
    "sns.factorplot(x=\"workclass\", y = 'target', data=df, kind=\"bar\", size=8)"
   ]
  },
  {
   "cell_type": "code",
   "execution_count": 14,
   "metadata": {},
   "outputs": [
    {
     "data": {
      "text/plain": [
       "<seaborn.axisgrid.FacetGrid at 0x7fca3cb56d30>"
      ]
     },
     "execution_count": 14,
     "metadata": {},
     "output_type": "execute_result"
    },
    {
     "data": {
      "image/png": "[encoded data removed]",
      "text/plain": [
       "<matplotlib.figure.Figure at 0x7fca3d248e10>"
      ]
     },
     "metadata": {},
     "output_type": "display_data"
    }
   ],
   "source": [
    "sns.factorplot(x=\"education\", y = 'target', data=df, kind=\"bar\", size=10)"
   ]
  },
  {
   "cell_type": "code",
   "execution_count": 15,
   "metadata": {},
   "outputs": [
    {
     "data": {
      "text/plain": [
       "<seaborn.axisgrid.FacetGrid at 0x7fca3ccfc048>"
      ]
     },
     "execution_count": 15,
     "metadata": {},
     "output_type": "execute_result"
    },
    {
     "data": {
      "image/png": "[encoded data removed]",
      "text/plain": [
       "<matplotlib.figure.Figure at 0x7fca2e382e80>"
      ]
     },
     "metadata": {},
     "output_type": "display_data"
    }
   ],
   "source": [
    "sns.factorplot(x=\"marital-status\", y = 'target', data=df, kind=\"bar\", size=10)"
   ]
  },
  {
   "cell_type": "code",
   "execution_count": 16,
   "metadata": {},
   "outputs": [
    {
     "data": {
      "text/plain": [
       "<seaborn.axisgrid.FacetGrid at 0x7fca2e3aa7f0>"
      ]
     },
     "execution_count": 16,
     "metadata": {},
     "output_type": "execute_result"
    },
    {
     "data": {
      "image/png": "[encoded data removed]",
      "text/plain": [
       "<matplotlib.figure.Figure at 0x7fca3ceadb00>"
      ]
     },
     "metadata": {},
     "output_type": "display_data"
    }
   ],
   "source": [
    "sns.factorplot(x=\"occupation\", y = 'target', data=df, kind=\"bar\", size=10)"
   ]
  },
  {
   "cell_type": "code",
   "execution_count": 17,
   "metadata": {},
   "outputs": [
    {
     "data": {
      "text/plain": [
       "<seaborn.axisgrid.FacetGrid at 0x7fca3ccfc7f0>"
      ]
     },
     "execution_count": 17,
     "metadata": {},
     "output_type": "execute_result"
    },
    {
     "data": {
      "image/png": "[encoded data removed]",
      "text/plain": [
       "<matplotlib.figure.Figure at 0x7fca2e39a550>"
      ]
     },
     "metadata": {},
     "output_type": "display_data"
    }
   ],
   "source": [
    "sns.factorplot(x=\"relationship\", y = 'target', data=df, kind=\"bar\", size=10)"
   ]
  },
  {
   "cell_type": "code",
   "execution_count": 18,
   "metadata": {},
   "outputs": [
    {
     "data": {
      "text/plain": [
       "<seaborn.axisgrid.FacetGrid at 0x7fca2e305f98>"
      ]
     },
     "execution_count": 18,
     "metadata": {},
     "output_type": "execute_result"
    },
    {
     "data": {
      "image/png": "[encoded data removed]",
      "text/plain": [
       "<matplotlib.figure.Figure at 0x7fca3d6e22e8>"
      ]
     },
     "metadata": {},
     "output_type": "display_data"
    }
   ],
   "source": [
    "sns.factorplot(x=\"race\", y = 'target', data=df, kind=\"bar\", size=8)"
   ]
  },
  {
   "cell_type": "code",
   "execution_count": 19,
   "metadata": {},
   "outputs": [
    {
     "data": {
      "text/plain": [
       "<seaborn.axisgrid.FacetGrid at 0x7fca3d59e4e0>"
      ]
     },
     "execution_count": 19,
     "metadata": {},
     "output_type": "execute_result"
    },
    {
     "data": {
      "image/png": "[encoded data removed]",
      "text/plain": [
       "<matplotlib.figure.Figure at 0x7fca2e124358>"
      ]
     },
     "metadata": {},
     "output_type": "display_data"
    }
   ],
   "source": [
    "sns.factorplot(x=\"sex\", y = 'target', data=df, kind=\"bar\", size=5)"
   ]
  },
  {
   "cell_type": "markdown",
   "metadata": {},
   "source": [
    "### 3.c Distribución de otras características numéricas\n",
    "\n",
    "Al igual que se hizo con la edad, investingar la distribución de otras características numéricas para las 2 clases."
   ]
  },
  {
   "cell_type": "code",
   "execution_count": 20,
   "metadata": {},
   "outputs": [
    {
     "data": {
      "image/png": "[encoded data removed]",
      "text/plain": [
       "<matplotlib.figure.Figure at 0x7fca2dffbb38>"
      ]
     },
     "metadata": {},
     "output_type": "display_data"
    },
    {
     "data": {
      "image/png": "[encoded data removed]",
      "text/plain": [
       "<matplotlib.figure.Figure at 0x7fca2defa470>"
      ]
     },
     "metadata": {},
     "output_type": "display_data"
    },
    {
     "data": {
      "image/png": "[encoded data removed]",
      "text/plain": [
       "<matplotlib.figure.Figure at 0x7fca2de25400>"
      ]
     },
     "metadata": {},
     "output_type": "display_data"
    },
    {
     "data": {
      "image/png": "[encoded data removed]",
      "text/plain": [
       "<matplotlib.figure.Figure at 0x7fca2dbeacc0>"
      ]
     },
     "metadata": {},
     "output_type": "display_data"
    },
    {
     "data": {
      "image/png": "[encoded data removed]",
      "text/plain": [
       "<matplotlib.figure.Figure at 0x7fca2dc528d0>"
      ]
     },
     "metadata": {},
     "output_type": "display_data"
    }
   ],
   "source": [
    "df[\"education-num\"].hist(by=df.target)\n",
    "plt.show()\n",
    "df[\"capital-gain\"].hist(by=df.target)\n",
    "plt.show()\n",
    "df[\"capital-loss\"].hist(by=df.target)\n",
    "plt.show()\n",
    "df[\"hours-per-week\"].hist(by=df.target)\n",
    "plt.show()\n",
    "df[\"fnlwgt\"].hist(by=df.target)\n",
    "plt.show()"
   ]
  },
  {
   "cell_type": "markdown",
   "metadata": {},
   "source": [
    "## 4. Columnas 'Dummy'\n",
    "\n",
    "Los modelos Scikit-Learn requiere características con valores numéricos. Para poder utilizar todas las características categóricas del modelo de datos es necesario codificarlas como números. La manera de hacerlo se llama 'One-Hot Encoding' o Creación de Columnas 'Dummy'.\n",
    "Tanto Pandas como Scikit Learn ofrecen una interfaz para realizar esto. Elegir la de mayor preferencia.\n",
    "\n",
    "Ejemplo:\n",
    "\n",
    "|Característica categórica|Dummy_A|Dummy_B|Dummy_C|\n",
    "|---|---|---|---|\n",
    "|A|1|0|0|\n",
    "|B|0|1|0|\n",
    "|B|0|1|0|\n",
    "|C|0|0|1|\n",
    "|A|1|0|0|\n",
    "|C|0|0|1|\n",
    "|B|0|1|0|\n",
    "\n",
    "- [One Hot Encoder](http://scikit-learn.org/stable/modules/generated/sklearn.preprocessing.OneHotEncoder.html)\n",
    "- [Get Dummies](http://pandas.pydata.org/pandas-docs/stable/generated/pandas.get_dummies.html)\n"
   ]
  },
  {
   "cell_type": "code",
   "execution_count": 21,
   "metadata": {},
   "outputs": [],
   "source": [
    "dummies = pd.get_dummies(df[['workclass','education','marital-status','occupation','relationship','race','sex']])\n",
    "\n",
    "# data = pd.concat([data, area_dummies], axis=1)\n",
    "# data.head()"
   ]
  },
  {
   "cell_type": "code",
   "execution_count": 22,
   "metadata": {},
   "outputs": [
    {
     "data": {
      "text/html": [
       "<div>\n",
       "<style>\n",
       "    .dataframe thead tr:only-child th {\n",
       "        text-align: right;\n",
       "    }\n",
       "\n",
       "    .dataframe thead th {\n",
       "        text-align: left;\n",
       "    }\n",
       "\n",
       "    .dataframe tbody tr th {\n",
       "        vertical-align: top;\n",
       "    }\n",
       "</style>\n",
       "<table border=\"1\" class=\"dataframe\">\n",
       "  <thead>\n",
       "    <tr style=\"text-align: right;\">\n",
       "      <th></th>\n",
       "      <th>workclass_Federal-gov</th>\n",
       "      <th>workclass_Local-gov</th>\n",
       "      <th>workclass_Never-worked</th>\n",
       "      <th>workclass_Private</th>\n",
       "      <th>workclass_Self-emp-inc</th>\n",
       "      <th>workclass_Self-emp-not-inc</th>\n",
       "      <th>workclass_State-gov</th>\n",
       "      <th>workclass_Without-pay</th>\n",
       "      <th>education_10th</th>\n",
       "      <th>education_11th</th>\n",
       "      <th>...</th>\n",
       "      <th>relationship_Own-child</th>\n",
       "      <th>relationship_Unmarried</th>\n",
       "      <th>relationship_Wife</th>\n",
       "      <th>race_Amer-Indian-Eskimo</th>\n",
       "      <th>race_Asian-Pac-Islander</th>\n",
       "      <th>race_Black</th>\n",
       "      <th>race_Other</th>\n",
       "      <th>race_White</th>\n",
       "      <th>sex_Female</th>\n",
       "      <th>sex_Male</th>\n",
       "    </tr>\n",
       "  </thead>\n",
       "  <tbody>\n",
       "    <tr>\n",
       "      <th>0</th>\n",
       "      <td>0</td>\n",
       "      <td>0</td>\n",
       "      <td>0</td>\n",
       "      <td>0</td>\n",
       "      <td>0</td>\n",
       "      <td>0</td>\n",
       "      <td>1</td>\n",
       "      <td>0</td>\n",
       "      <td>0</td>\n",
       "      <td>0</td>\n",
       "      <td>...</td>\n",
       "      <td>0</td>\n",
       "      <td>0</td>\n",
       "      <td>0</td>\n",
       "      <td>0</td>\n",
       "      <td>0</td>\n",
       "      <td>0</td>\n",
       "      <td>0</td>\n",
       "      <td>1</td>\n",
       "      <td>0</td>\n",
       "      <td>1</td>\n",
       "    </tr>\n",
       "    <tr>\n",
       "      <th>1</th>\n",
       "      <td>0</td>\n",
       "      <td>0</td>\n",
       "      <td>0</td>\n",
       "      <td>0</td>\n",
       "      <td>0</td>\n",
       "      <td>1</td>\n",
       "      <td>0</td>\n",
       "      <td>0</td>\n",
       "      <td>0</td>\n",
       "      <td>0</td>\n",
       "      <td>...</td>\n",
       "      <td>0</td>\n",
       "      <td>0</td>\n",
       "      <td>0</td>\n",
       "      <td>0</td>\n",
       "      <td>0</td>\n",
       "      <td>0</td>\n",
       "      <td>0</td>\n",
       "      <td>1</td>\n",
       "      <td>0</td>\n",
       "      <td>1</td>\n",
       "    </tr>\n",
       "    <tr>\n",
       "      <th>2</th>\n",
       "      <td>0</td>\n",
       "      <td>0</td>\n",
       "      <td>0</td>\n",
       "      <td>1</td>\n",
       "      <td>0</td>\n",
       "      <td>0</td>\n",
       "      <td>0</td>\n",
       "      <td>0</td>\n",
       "      <td>0</td>\n",
       "      <td>0</td>\n",
       "      <td>...</td>\n",
       "      <td>0</td>\n",
       "      <td>0</td>\n",
       "      <td>0</td>\n",
       "      <td>0</td>\n",
       "      <td>0</td>\n",
       "      <td>0</td>\n",
       "      <td>0</td>\n",
       "      <td>1</td>\n",
       "      <td>0</td>\n",
       "      <td>1</td>\n",
       "    </tr>\n",
       "    <tr>\n",
       "      <th>3</th>\n",
       "      <td>0</td>\n",
       "      <td>0</td>\n",
       "      <td>0</td>\n",
       "      <td>1</td>\n",
       "      <td>0</td>\n",
       "      <td>0</td>\n",
       "      <td>0</td>\n",
       "      <td>0</td>\n",
       "      <td>0</td>\n",
       "      <td>1</td>\n",
       "      <td>...</td>\n",
       "      <td>0</td>\n",
       "      <td>0</td>\n",
       "      <td>0</td>\n",
       "      <td>0</td>\n",
       "      <td>0</td>\n",
       "      <td>1</td>\n",
       "      <td>0</td>\n",
       "      <td>0</td>\n",
       "      <td>0</td>\n",
       "      <td>1</td>\n",
       "    </tr>\n",
       "    <tr>\n",
       "      <th>4</th>\n",
       "      <td>0</td>\n",
       "      <td>0</td>\n",
       "      <td>0</td>\n",
       "      <td>1</td>\n",
       "      <td>0</td>\n",
       "      <td>0</td>\n",
       "      <td>0</td>\n",
       "      <td>0</td>\n",
       "      <td>0</td>\n",
       "      <td>0</td>\n",
       "      <td>...</td>\n",
       "      <td>0</td>\n",
       "      <td>0</td>\n",
       "      <td>1</td>\n",
       "      <td>0</td>\n",
       "      <td>0</td>\n",
       "      <td>1</td>\n",
       "      <td>0</td>\n",
       "      <td>0</td>\n",
       "      <td>1</td>\n",
       "      <td>0</td>\n",
       "    </tr>\n",
       "  </tbody>\n",
       "</table>\n",
       "<p>5 rows × 58 columns</p>\n",
       "</div>"
      ],
      "text/plain": [
       "   workclass_Federal-gov  workclass_Local-gov  workclass_Never-worked  \\\n",
       "0                      0                    0                       0   \n",
       "1                      0                    0                       0   \n",
       "2                      0                    0                       0   \n",
       "3                      0                    0                       0   \n",
       "4                      0                    0                       0   \n",
       "\n",
       "   workclass_Private  workclass_Self-emp-inc  workclass_Self-emp-not-inc  \\\n",
       "0                  0                       0                           0   \n",
       "1                  0                       0                           1   \n",
       "2                  1                       0                           0   \n",
       "3                  1                       0                           0   \n",
       "4                  1                       0                           0   \n",
       "\n",
       "   workclass_State-gov  workclass_Without-pay  education_10th  education_11th  \\\n",
       "0                    1                      0               0               0   \n",
       "1                    0                      0               0               0   \n",
       "2                    0                      0               0               0   \n",
       "3                    0                      0               0               1   \n",
       "4                    0                      0               0               0   \n",
       "\n",
       "     ...     relationship_Own-child  relationship_Unmarried  \\\n",
       "0    ...                          0                       0   \n",
       "1    ...                          0                       0   \n",
       "2    ...                          0                       0   \n",
       "3    ...                          0                       0   \n",
       "4    ...                          0                       0   \n",
       "\n",
       "   relationship_Wife  race_Amer-Indian-Eskimo  race_Asian-Pac-Islander  \\\n",
       "0                  0                        0                        0   \n",
       "1                  0                        0                        0   \n",
       "2                  0                        0                        0   \n",
       "3                  0                        0                        0   \n",
       "4                  1                        0                        0   \n",
       "\n",
       "   race_Black  race_Other  race_White  sex_Female  sex_Male  \n",
       "0           0           0           1           0         1  \n",
       "1           0           0           1           0         1  \n",
       "2           0           0           1           0         1  \n",
       "3           1           0           0           0         1  \n",
       "4           1           0           0           1         0  \n",
       "\n",
       "[5 rows x 58 columns]"
      ]
     },
     "execution_count": 22,
     "metadata": {},
     "output_type": "execute_result"
    }
   ],
   "source": [
    "dummies.head()"
   ]
  },
  {
   "cell_type": "markdown",
   "metadata": {},
   "source": [
    "## 5. Normalización de variables numéricas\n",
    "\n",
    "Las variables o features numéricas pueden tener diferentes escalas lo cual, en algunos casos, puede ocasionar problemas. Por lo tanto se recomienda intentar normalizarlas utilizando funciones para ajustar las escalas.\n",
    "\n",
    "Utilizar las funciones provistas Scikit-learn Preprocessing para cambiar la escala de las características numéricas.\n",
    "\n",
    "[Scikit-Learn Preprocessing](http://scikit-learn.org/stable/modules/preprocessing.html)\n",
    "\n",
    "Discutir con un compañero acerca de las ventajas y desventajas de cada una de las funciones."
   ]
  },
  {
   "cell_type": "code",
   "execution_count": 23,
   "metadata": {},
   "outputs": [],
   "source": [
    "ndf = df[['age','education-num','capital-gain','capital-loss','hours-per-week','target']]"
   ]
  },
  {
   "cell_type": "code",
   "execution_count": 24,
   "metadata": {},
   "outputs": [],
   "source": [
    "from sklearn import preprocessing\n",
    "scaler = preprocessing.MinMaxScaler()\n",
    "ndf_minmax = scaler.fit_transform(ndf)"
   ]
  },
  {
   "cell_type": "code",
   "execution_count": 25,
   "metadata": {},
   "outputs": [
    {
     "data": {
      "text/plain": [
       "array([[ 0.30136986,  0.8       ,  0.02174022,  0.        ,  0.39795918,\n",
       "         0.        ],\n",
       "       [ 0.45205479,  0.8       ,  0.        ,  0.        ,  0.12244898,\n",
       "         0.        ],\n",
       "       [ 0.28767123,  0.53333333,  0.        ,  0.        ,  0.39795918,\n",
       "         0.        ],\n",
       "       ..., \n",
       "       [ 0.28767123,  0.8       ,  0.        ,  0.        ,  0.5       ,\n",
       "         0.        ],\n",
       "       [ 0.36986301,  0.8       ,  0.05455055,  0.        ,  0.39795918,\n",
       "         0.        ],\n",
       "       [ 0.24657534,  0.8       ,  0.        ,  0.        ,  0.60204082,\n",
       "         1.        ]])"
      ]
     },
     "execution_count": 25,
     "metadata": {},
     "output_type": "execute_result"
    }
   ],
   "source": [
    "ndf_minmax"
   ]
  },
  {
   "cell_type": "markdown",
   "metadata": {},
   "source": [
    "## 6. Combinar features\n",
    "\n",
    "Combinar las features codificadas con columnas 'dummy' con aquellas a las que se le ajustaron la escala en un mismo dataset llamado `X`.\n",
    "\n",
    "Renombrar la variable 'target' como `y`.\n",
    "\n",
    "¿Cuál es el puntaje de precisión de un modelo de benchmark? ¿Cuál es el modelo más simple que se puede construir?"
   ]
  },
  {
   "cell_type": "code",
   "execution_count": 26,
   "metadata": {},
   "outputs": [],
   "source": [
    "ndf_minmax_df = pd.DataFrame(ndf_minmax, columns = ['age','education-num','capital-gain','capital-loss','hours-per-week','target'])\n",
    "\n",
    "data = pd.concat([ndf_minmax_df, dummies], axis=1)"
   ]
  },
  {
   "cell_type": "code",
   "execution_count": 27,
   "metadata": {},
   "outputs": [
    {
     "data": {
      "text/html": [
       "<div>\n",
       "<style>\n",
       "    .dataframe thead tr:only-child th {\n",
       "        text-align: right;\n",
       "    }\n",
       "\n",
       "    .dataframe thead th {\n",
       "        text-align: left;\n",
       "    }\n",
       "\n",
       "    .dataframe tbody tr th {\n",
       "        vertical-align: top;\n",
       "    }\n",
       "</style>\n",
       "<table border=\"1\" class=\"dataframe\">\n",
       "  <thead>\n",
       "    <tr style=\"text-align: right;\">\n",
       "      <th></th>\n",
       "      <th>age</th>\n",
       "      <th>education-num</th>\n",
       "      <th>capital-gain</th>\n",
       "      <th>capital-loss</th>\n",
       "      <th>hours-per-week</th>\n",
       "      <th>target</th>\n",
       "      <th>workclass_Federal-gov</th>\n",
       "      <th>workclass_Local-gov</th>\n",
       "      <th>workclass_Never-worked</th>\n",
       "      <th>workclass_Private</th>\n",
       "      <th>...</th>\n",
       "      <th>relationship_Own-child</th>\n",
       "      <th>relationship_Unmarried</th>\n",
       "      <th>relationship_Wife</th>\n",
       "      <th>race_Amer-Indian-Eskimo</th>\n",
       "      <th>race_Asian-Pac-Islander</th>\n",
       "      <th>race_Black</th>\n",
       "      <th>race_Other</th>\n",
       "      <th>race_White</th>\n",
       "      <th>sex_Female</th>\n",
       "      <th>sex_Male</th>\n",
       "    </tr>\n",
       "  </thead>\n",
       "  <tbody>\n",
       "    <tr>\n",
       "      <th>0</th>\n",
       "      <td>0.301370</td>\n",
       "      <td>0.800000</td>\n",
       "      <td>0.02174</td>\n",
       "      <td>0.0</td>\n",
       "      <td>0.397959</td>\n",
       "      <td>0.0</td>\n",
       "      <td>0</td>\n",
       "      <td>0</td>\n",
       "      <td>0</td>\n",
       "      <td>0</td>\n",
       "      <td>...</td>\n",
       "      <td>0</td>\n",
       "      <td>0</td>\n",
       "      <td>0</td>\n",
       "      <td>0</td>\n",
       "      <td>0</td>\n",
       "      <td>0</td>\n",
       "      <td>0</td>\n",
       "      <td>1</td>\n",
       "      <td>0</td>\n",
       "      <td>1</td>\n",
       "    </tr>\n",
       "    <tr>\n",
       "      <th>1</th>\n",
       "      <td>0.452055</td>\n",
       "      <td>0.800000</td>\n",
       "      <td>0.00000</td>\n",
       "      <td>0.0</td>\n",
       "      <td>0.122449</td>\n",
       "      <td>0.0</td>\n",
       "      <td>0</td>\n",
       "      <td>0</td>\n",
       "      <td>0</td>\n",
       "      <td>0</td>\n",
       "      <td>...</td>\n",
       "      <td>0</td>\n",
       "      <td>0</td>\n",
       "      <td>0</td>\n",
       "      <td>0</td>\n",
       "      <td>0</td>\n",
       "      <td>0</td>\n",
       "      <td>0</td>\n",
       "      <td>1</td>\n",
       "      <td>0</td>\n",
       "      <td>1</td>\n",
       "    </tr>\n",
       "    <tr>\n",
       "      <th>2</th>\n",
       "      <td>0.287671</td>\n",
       "      <td>0.533333</td>\n",
       "      <td>0.00000</td>\n",
       "      <td>0.0</td>\n",
       "      <td>0.397959</td>\n",
       "      <td>0.0</td>\n",
       "      <td>0</td>\n",
       "      <td>0</td>\n",
       "      <td>0</td>\n",
       "      <td>1</td>\n",
       "      <td>...</td>\n",
       "      <td>0</td>\n",
       "      <td>0</td>\n",
       "      <td>0</td>\n",
       "      <td>0</td>\n",
       "      <td>0</td>\n",
       "      <td>0</td>\n",
       "      <td>0</td>\n",
       "      <td>1</td>\n",
       "      <td>0</td>\n",
       "      <td>1</td>\n",
       "    </tr>\n",
       "    <tr>\n",
       "      <th>3</th>\n",
       "      <td>0.493151</td>\n",
       "      <td>0.400000</td>\n",
       "      <td>0.00000</td>\n",
       "      <td>0.0</td>\n",
       "      <td>0.397959</td>\n",
       "      <td>0.0</td>\n",
       "      <td>0</td>\n",
       "      <td>0</td>\n",
       "      <td>0</td>\n",
       "      <td>1</td>\n",
       "      <td>...</td>\n",
       "      <td>0</td>\n",
       "      <td>0</td>\n",
       "      <td>0</td>\n",
       "      <td>0</td>\n",
       "      <td>0</td>\n",
       "      <td>1</td>\n",
       "      <td>0</td>\n",
       "      <td>0</td>\n",
       "      <td>0</td>\n",
       "      <td>1</td>\n",
       "    </tr>\n",
       "    <tr>\n",
       "      <th>4</th>\n",
       "      <td>0.150685</td>\n",
       "      <td>0.800000</td>\n",
       "      <td>0.00000</td>\n",
       "      <td>0.0</td>\n",
       "      <td>0.397959</td>\n",
       "      <td>0.0</td>\n",
       "      <td>0</td>\n",
       "      <td>0</td>\n",
       "      <td>0</td>\n",
       "      <td>1</td>\n",
       "      <td>...</td>\n",
       "      <td>0</td>\n",
       "      <td>0</td>\n",
       "      <td>1</td>\n",
       "      <td>0</td>\n",
       "      <td>0</td>\n",
       "      <td>1</td>\n",
       "      <td>0</td>\n",
       "      <td>0</td>\n",
       "      <td>1</td>\n",
       "      <td>0</td>\n",
       "    </tr>\n",
       "  </tbody>\n",
       "</table>\n",
       "<p>5 rows × 64 columns</p>\n",
       "</div>"
      ],
      "text/plain": [
       "        age  education-num  capital-gain  capital-loss  hours-per-week  \\\n",
       "0  0.301370       0.800000       0.02174           0.0        0.397959   \n",
       "1  0.452055       0.800000       0.00000           0.0        0.122449   \n",
       "2  0.287671       0.533333       0.00000           0.0        0.397959   \n",
       "3  0.493151       0.400000       0.00000           0.0        0.397959   \n",
       "4  0.150685       0.800000       0.00000           0.0        0.397959   \n",
       "\n",
       "   target  workclass_Federal-gov  workclass_Local-gov  workclass_Never-worked  \\\n",
       "0     0.0                      0                    0                       0   \n",
       "1     0.0                      0                    0                       0   \n",
       "2     0.0                      0                    0                       0   \n",
       "3     0.0                      0                    0                       0   \n",
       "4     0.0                      0                    0                       0   \n",
       "\n",
       "   workclass_Private    ...     relationship_Own-child  \\\n",
       "0                  0    ...                          0   \n",
       "1                  0    ...                          0   \n",
       "2                  1    ...                          0   \n",
       "3                  1    ...                          0   \n",
       "4                  1    ...                          0   \n",
       "\n",
       "   relationship_Unmarried  relationship_Wife  race_Amer-Indian-Eskimo  \\\n",
       "0                       0                  0                        0   \n",
       "1                       0                  0                        0   \n",
       "2                       0                  0                        0   \n",
       "3                       0                  0                        0   \n",
       "4                       0                  1                        0   \n",
       "\n",
       "   race_Asian-Pac-Islander  race_Black  race_Other  race_White  sex_Female  \\\n",
       "0                        0           0           0           1           0   \n",
       "1                        0           0           0           1           0   \n",
       "2                        0           0           0           1           0   \n",
       "3                        0           1           0           0           0   \n",
       "4                        0           1           0           0           1   \n",
       "\n",
       "   sex_Male  \n",
       "0         1  \n",
       "1         1  \n",
       "2         1  \n",
       "3         1  \n",
       "4         0  \n",
       "\n",
       "[5 rows x 64 columns]"
      ]
     },
     "execution_count": 27,
     "metadata": {},
     "output_type": "execute_result"
    }
   ],
   "source": [
    "data.head()"
   ]
  },
  {
   "cell_type": "markdown",
   "metadata": {},
   "source": [
    "## 7. Construir y evaluar un modelo\n",
    "\n",
    "Construir tres clasificadores: \n",
    "\n",
    "1. Logistic Regression (sin regularización)\n",
    "2. Logistic Regression (con regularización y tunning de hiperaparámetros)\n",
    "3. KNN, SVC o Naïve Bayes (según lo \"sorteado\") \n",
    "\n",
    "Previamente, dividir los datos en subconjuntos de entrenamiento y prueba utilizando la siguiente linea:\n",
    "\n",
    "    from sklearn.cross_validation import train_test_split\n",
    "    X_train, X_test, y_train, y_test = train_test_split(X, y, test_size=0.33, random_state=42)\n",
    "    \n",
    "1. Evaluar el `accuracy_score` del modelo construido.\n",
    "2. Mostrar la matriz de confusión y el reporte de clasificación.\n",
    "3. Intentar mejorar el modelo ajustando los parámetros. Por ejemplo:\n",
    "    - LogisticRegression: cambiar la fuerza de la regularización\n",
    "    - KNN: modificar el númnero de `neighbors`\n",
    "    - SVC: modificar los parámetros `gamma` o `C` \n",
    "    - Naïve Bayes: cambiar los priors del modelo\n",
    "4. Discutir y comparar con un compañero el mejor modelo obtenido por cada uno.\n",
    "5. Discutir las interpretaciones posibles de cada uno de los modelos\n",
    "\n"
   ]
  },
  {
   "cell_type": "markdown",
   "metadata": {},
   "source": [
    "### 7.1 Regresión Logística (base - sin regularización)"
   ]
  },
  {
   "cell_type": "markdown",
   "metadata": {},
   "source": [
    "Estime un clasificador basado en un modelo de regresión logística para la variable `target`. Testee diferentes valores de C -equivalente a alpha en regresión lineal- para las dos penalidades posibles de una regresión logística. \n",
    "\n",
    "1. ¿Qué tipo de regularización funciona mejor?\n",
    "2. ¿Cuáles son los parámetros óptimos?\n",
    "3. ¿Qué puede decir con respecto a la matriz de confusión del clasificador estimado?\n",
    "4. ¿Cuáles son las variables más relevantes?\n",
    "5. ¿Cómo interpretaría los coeficientes obtenidos?"
   ]
  },
  {
   "cell_type": "code",
   "execution_count": 28,
   "metadata": {},
   "outputs": [],
   "source": [
    "import statsmodels.formula.api as sm\n",
    "from sklearn.linear_model import LogisticRegression, LogisticRegressionCV\n",
    "from sklearn.metrics import roc_curve, auc, classification_report, confusion_matrix\n",
    "from sklearn.model_selection import cross_val_score, train_test_split"
   ]
  },
  {
   "cell_type": "code",
   "execution_count": 29,
   "metadata": {},
   "outputs": [],
   "source": [
    "data = data.dropna()\n",
    "X = data.drop(\"target\",axis=1)\n",
    "y = data.target\n",
    "\n",
    "from sklearn.model_selection import train_test_split\n",
    "X_train, X_test, y_train, y_test = train_test_split(X, y, test_size=0.33, random_state=42)"
   ]
  },
  {
   "cell_type": "code",
   "execution_count": 30,
   "metadata": {},
   "outputs": [],
   "source": [
    "logreg_cv = LogisticRegressionCV()\n",
    "logreg_cv.fit(X_train, y_train)\n",
    "logreg_cv.score(X_test,y_test)\n",
    "y_pred = logreg_cv.predict(X_test)"
   ]
  },
  {
   "cell_type": "code",
   "execution_count": 32,
   "metadata": {},
   "outputs": [
    {
     "name": "stdout",
     "output_type": "stream",
     "text": [
      "0.849236878025\n",
      "mean accuracy: 0.8492366689906886, all: [ 0.84794342  0.85389913  0.84586746]\n",
      "mean precision: 0.7310046526852306, all: [ 0.73018868  0.74163569  0.72118959]\n",
      "mean recall: 0.5998965752297676, all: [ 0.59310345  0.61149425  0.59509202]\n",
      "mean roc_auc: 0.9024091782457316, all: [ 0.90044879  0.90594228  0.90083647]\n"
     ]
    }
   ],
   "source": [
    "print(logreg_cv.score(X_test,y_test))\n",
    "for metric in ['accuracy', 'precision', 'recall', 'roc_auc']:\n",
    "    scores = cross_val_score(logreg_cv, X_test, y_test, scoring=metric)\n",
    "    print(\"mean {}: {}, all: {}\".format(metric, scores.mean(), scores))"
   ]
  },
  {
   "cell_type": "code",
   "execution_count": 33,
   "metadata": {},
   "outputs": [
    {
     "name": "stdout",
     "output_type": "stream",
     "text": [
      "[[11403   801]\n",
      " [ 1629  2285]]\n"
     ]
    }
   ],
   "source": [
    "print(confusion_matrix(y_test, y_pred))"
   ]
  },
  {
   "cell_type": "markdown",
   "metadata": {},
   "source": [
    "### 7.3 Regresión Logística (con regularización)"
   ]
  },
  {
   "cell_type": "code",
   "execution_count": 34,
   "metadata": {
    "collapsed": true
   },
   "outputs": [],
   "source": [
    "from sklearn.model_selection import GridSearchCV\n",
    "logreg = LogisticRegression()"
   ]
  },
  {
   "cell_type": "code",
   "execution_count": 35,
   "metadata": {},
   "outputs": [
    {
     "name": "stdout",
     "output_type": "stream",
     "text": [
      "Fitting 5 folds for each of 34 candidates, totalling 170 fits\n"
     ]
    },
    {
     "name": "stderr",
     "output_type": "stream",
     "text": [
      "[Parallel(n_jobs=3)]: Done  63 tasks      | elapsed:  2.0min\n",
      "[Parallel(n_jobs=3)]: Done 170 out of 170 | elapsed:  4.6min finished\n"
     ]
    },
    {
     "data": {
      "text/plain": [
       "GridSearchCV(cv=5, error_score='raise',\n",
       "       estimator=LogisticRegression(C=1.0, class_weight=None, dual=False, fit_intercept=True,\n",
       "          intercept_scaling=1, max_iter=100, multi_class='ovr', n_jobs=1,\n",
       "          penalty='l2', random_state=None, solver='liblinear', tol=0.0001,\n",
       "          verbose=0, warm_start=False),\n",
       "       fit_params={}, iid=True, n_jobs=3,\n",
       "       param_grid={'penalty': ['l1', 'l2'], 'C': [0.0001, 0.001, 0.01, 0.1, 0.5, 0.75, 1.0, 2.5, 5.0, 10.0, 11, 12, 13, 14, 15, 100.0, 1000.0]},\n",
       "       pre_dispatch='2*n_jobs', refit=True, return_train_score=True,\n",
       "       scoring='accuracy', verbose=True)"
      ]
     },
     "execution_count": 35,
     "metadata": {},
     "output_type": "execute_result"
    }
   ],
   "source": [
    "C_vals = [0.0001, 0.001, 0.01, 0.1, 0.5, 0.75, 1.0, 2.5, 5.0, 10.0, 11, 12, 13, 14, 15, 100.0, 1000.0]\n",
    "penalties = ['l1','l2']\n",
    "gs = GridSearchCV(logreg, {'penalty':penalties, 'C':C_vals}, verbose=True, cv=5, scoring='accuracy', n_jobs = 3)\n",
    "gs.fit(X_train, y_train)"
   ]
  },
  {
   "cell_type": "code",
   "execution_count": 36,
   "metadata": {},
   "outputs": [
    {
     "data": {
      "text/plain": [
       "{'C': 12, 'penalty': 'l2'}"
      ]
     },
     "execution_count": 36,
     "metadata": {},
     "output_type": "execute_result"
    }
   ],
   "source": [
    "gs.best_params_"
   ]
  },
  {
   "cell_type": "code",
   "execution_count": 37,
   "metadata": {},
   "outputs": [
    {
     "data": {
      "text/plain": [
       "LogisticRegression(C=0.5, class_weight=None, dual=False, fit_intercept=True,\n",
       "          intercept_scaling=1, max_iter=100, multi_class='ovr', n_jobs=1,\n",
       "          penalty='l1', random_state=None, solver='liblinear', tol=0.0001,\n",
       "          verbose=0, warm_start=False)"
      ]
     },
     "execution_count": 37,
     "metadata": {},
     "output_type": "execute_result"
    }
   ],
   "source": [
    "logreg = LogisticRegression(C=0.5, penalty='l1')\n",
    "logreg.fit(X_train, y_train)"
   ]
  },
  {
   "cell_type": "code",
   "execution_count": 38,
   "metadata": {},
   "outputs": [
    {
     "name": "stdout",
     "output_type": "stream",
     "text": [
      "mean accuracy: 0.8491746073056697, all: [ 0.84850177  0.85352689  0.84549516]\n",
      "mean precision: 0.7345764605059172, all: [ 0.73403241  0.74526515  0.72443182]\n",
      "mean recall: 0.5932532966645511, all: [ 0.59003831  0.60306513  0.58665644]\n",
      "mean roc_auc: 0.9030045631410942, all: [ 0.90138027  0.90600274  0.90163068]\n"
     ]
    }
   ],
   "source": [
    "for metric in ['accuracy', 'precision', 'recall', 'roc_auc']:\n",
    "    scores = cross_val_score(logreg, X_test, y_test, scoring=metric)\n",
    "    print(\"mean {}: {}, all: {}\".format(metric, scores.mean(), scores))"
   ]
  },
  {
   "cell_type": "code",
   "execution_count": 39,
   "metadata": {},
   "outputs": [
    {
     "name": "stdout",
     "output_type": "stream",
     "text": [
      "[[11407   797]\n",
      " [ 1628  2286]]\n"
     ]
    }
   ],
   "source": [
    "y_pred = logreg.predict(X_test)\n",
    "print(confusion_matrix(y_test, y_pred))"
   ]
  },
  {
   "cell_type": "code",
   "execution_count": 40,
   "metadata": {},
   "outputs": [
    {
     "name": "stdout",
     "output_type": "stream",
     "text": [
      "             precision    recall  f1-score   support\n",
      "\n",
      "        0.0       0.88      0.93      0.90     12204\n",
      "        1.0       0.74      0.58      0.65      3914\n",
      "\n",
      "avg / total       0.84      0.85      0.84     16118\n",
      "\n"
     ]
    },
    {
     "data": {
      "text/plain": [
       "(None, '\\n')"
      ]
     },
     "execution_count": 40,
     "metadata": {},
     "output_type": "execute_result"
    }
   ],
   "source": [
    "print(classification_report(y_test, y_pred)), \"\\n\""
   ]
  },
  {
   "cell_type": "markdown",
   "metadata": {},
   "source": [
    "### 7.4 Modelos KNN con diferente k"
   ]
  },
  {
   "cell_type": "code",
   "execution_count": 41,
   "metadata": {
    "collapsed": true
   },
   "outputs": [],
   "source": [
    "from sklearn.neighbors import KNeighborsClassifier\n",
    "from sklearn.metrics import confusion_matrix"
   ]
  },
  {
   "cell_type": "code",
   "execution_count": 42,
   "metadata": {},
   "outputs": [],
   "source": [
    "knnei_scores = {}\n",
    "knnei_scores.fromkeys([3, 5, 8])\n",
    "for k in [3, 5, 8]:\n",
    "    knn = KNeighborsClassifier(n_neighbors=k,\n",
    "                           weights='uniform',\n",
    "                           p=2,\n",
    "                           metric='minkowski')\n",
    "    knn.fit(X_train, y_train)\n",
    "    score = knn.score(X_test,y_test)\n",
    "    knnei_scores[k] = score"
   ]
  },
  {
   "cell_type": "code",
   "execution_count": 43,
   "metadata": {},
   "outputs": [
    {
     "data": {
      "text/plain": [
       "{3: 0.81238367043057447, 5: 0.820387144807048, 8: 0.8274599826281176}"
      ]
     },
     "execution_count": 43,
     "metadata": {},
     "output_type": "execute_result"
    }
   ],
   "source": [
    "knnei_scores"
   ]
  },
  {
   "cell_type": "markdown",
   "metadata": {},
   "source": [
    "### 7.5 Naïve Bayes"
   ]
  },
  {
   "cell_type": "code",
   "execution_count": null,
   "metadata": {
    "collapsed": true
   },
   "outputs": [],
   "source": []
  },
  {
   "cell_type": "markdown",
   "metadata": {},
   "source": [
    "### 7.6 Support Vector Machines"
   ]
  },
  {
   "cell_type": "code",
   "execution_count": null,
   "metadata": {
    "collapsed": true
   },
   "outputs": [],
   "source": []
  }
 ],
 "metadata": {
  "anaconda-cloud": {},
  "kernelspec": {
   "display_name": "Python 3",
   "language": "python",
   "name": "python3"
  },
  "language_info": {
   "codemirror_mode": {
    "name": "ipython",
    "version": 3
   },
   "file_extension": ".py",
   "mimetype": "text/x-python",
   "name": "python",
   "nbconvert_exporter": "python",
   "pygments_lexer": "ipython3",
   "version": "3.6.1"
  }
 },
 "nbformat": 4,
 "nbformat_minor": 1
}
