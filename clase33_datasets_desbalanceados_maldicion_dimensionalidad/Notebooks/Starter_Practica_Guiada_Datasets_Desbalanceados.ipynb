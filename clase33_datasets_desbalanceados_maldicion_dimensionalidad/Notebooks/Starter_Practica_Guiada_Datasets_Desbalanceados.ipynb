{
 "cells": [
  {
   "cell_type": "markdown",
   "metadata": {},
   "source": [
    "# Práctica Guiada - Técnicas para datasets desbalanceados"
   ]
  },
  {
   "cell_type": "markdown",
   "metadata": {},
   "source": [
    "El problema de los datasets desbalanceados se encuentra en una amplia variedad de problemas de Machine Learning como la detección de comentarios hechos a través de bots, el diagnóstico de enfermedades o la búsqueda de transacciones fraudulentas en un sistema.\n",
    "\n",
    "Existen dos grandes enfoques para abordar datasets que se encuentran desbalanceados:\n",
    "\n",
    "1.  Hacer un resampling de la muestra, para entrenar al algoritmo con proporciones similares\n",
    "2.  Incorporar el desbalance a la función de costos del algoritmo para que tenga incentivos a elegir los parámetros que mejor discriminan la clase minoritaria."
   ]
  },
  {
   "cell_type": "markdown",
   "metadata": {},
   "source": [
    "## Clasificación sobre datos desbalanceados\n",
    "\n",
    "A continuación presentamos un dataset de la empresa americana Lending Club, que se dedica a proveer servicios financieros para distintos segmentos. \n",
    "\n",
    "A continuación vamos a utilizar información abierta del portal de la empresa para intentar predecir cuáles de los créditos terminan en default. Para más información sobre el datset pueden ingresar <a href='https://www.lendingclub.com/info/download-data.action'> aquí </a>"
   ]
  },
  {
   "cell_type": "code",
   "execution_count": 4,
   "metadata": {},
   "outputs": [],
   "source": [
    "import numpy as np\n",
    "import pandas as pd\n",
    "from sklearn.model_selection import train_test_split\n",
    "from imblearn.over_sampling import SMOTE"
   ]
  },
  {
   "cell_type": "code",
   "execution_count": 6,
   "metadata": {},
   "outputs": [],
   "source": [
    "loans = pd.read_csv('../Data/loans.csv',low_memory=False)"
   ]
  },
  {
   "cell_type": "markdown",
   "metadata": {},
   "source": [
    "## Análisis exploratorio\n",
    "\n",
    "#### Balanceo de la clase\n",
    "\n",
    "La clase que vamos a intentar predecir es \"bad loans\" que indica si el préstamo fue pagado a tiempo o no. Observamos que la clase está desbalanceada, la mayoría de los préstamos se pagan a tiempo."
   ]
  },
  {
   "cell_type": "code",
   "execution_count": 7,
   "metadata": {},
   "outputs": [
    {
     "data": {
      "text/plain": [
       "0    0.811185\n",
       "1    0.188815\n",
       "Name: bad_loans, dtype: float64"
      ]
     },
     "execution_count": 7,
     "metadata": {},
     "output_type": "execute_result"
    }
   ],
   "source": [
    "loans['bad_loans'].value_counts(normalize=True)"
   ]
  },
  {
   "cell_type": "markdown",
   "metadata": {},
   "source": [
    "#### Variables numéricas\n",
    "Podemos buscar las variables numéricas relevantes observando cuáles son las que tienen mayor correlación con la clase, bad_loans."
   ]
  },
  {
   "cell_type": "code",
   "execution_count": 8,
   "metadata": {},
   "outputs": [
    {
     "data": {
      "text/plain": [
       "bad_loans                1.000000\n",
       "int_rate                 0.227545\n",
       "revol_util               0.112548\n",
       "dti                      0.107652\n",
       "total_rec_late_fee       0.032719\n",
       "payment_inc_ratio        0.025879\n",
       "short_emp                0.019498\n",
       "emp_length_num           0.008342\n",
       "last_delinq_none         0.003466\n",
       "last_major_derog_none    0.002390\n",
       "Name: bad_loans, dtype: float64"
      ]
     },
     "execution_count": 8,
     "metadata": {},
     "output_type": "execute_result"
    }
   ],
   "source": [
    "loans.corr()['bad_loans'].apply(abs).sort_values(ascending=False)"
   ]
  },
  {
   "cell_type": "markdown",
   "metadata": {},
   "source": [
    "#### Variables categóricas\n",
    "\n",
    "Para hacer el mismo análisis sobre variables categóricas, hacemos un group by por categoría para ver diferencias relevantes en la cantidad de créditos con default."
   ]
  },
  {
   "cell_type": "code",
   "execution_count": 9,
   "metadata": {},
   "outputs": [
    {
     "data": {
      "text/plain": [
       "home_ownership\n",
       "MORTGAGE    0.169142\n",
       "OWN         0.194609\n",
       "RENT        0.209484\n",
       "OTHER       0.229050\n",
       "Name: bad_loans, dtype: float64"
      ]
     },
     "execution_count": 9,
     "metadata": {},
     "output_type": "execute_result"
    }
   ],
   "source": [
    "loans.groupby('home_ownership')['bad_loans'].mean().sort_values()"
   ]
  },
  {
   "cell_type": "code",
   "execution_count": 10,
   "metadata": {},
   "outputs": [
    {
     "data": {
      "text/plain": [
       "term\n",
       " 36 months    0.159661\n",
       " 60 months    0.303757\n",
       "Name: bad_loans, dtype: float64"
      ]
     },
     "execution_count": 10,
     "metadata": {},
     "output_type": "execute_result"
    }
   ],
   "source": [
    "loans.groupby('term')['bad_loans'].mean().sort_values()"
   ]
  },
  {
   "cell_type": "code",
   "execution_count": 11,
   "metadata": {},
   "outputs": [
    {
     "data": {
      "text/plain": [
       "purpose\n",
       "car                   0.130526\n",
       "major_purchase        0.141346\n",
       "wedding               0.152031\n",
       "home_improvement      0.159088\n",
       "credit_card           0.159365\n",
       "house                 0.180100\n",
       "vacation              0.187209\n",
       "debt_consolidation    0.195932\n",
       "medical               0.206596\n",
       "moving                0.210169\n",
       "other                 0.220425\n",
       "small_business        0.322304\n",
       "Name: bad_loans, dtype: float64"
      ]
     },
     "execution_count": 11,
     "metadata": {},
     "output_type": "execute_result"
    }
   ],
   "source": [
    "loans.groupby('purpose')['bad_loans'].mean().sort_values()"
   ]
  },
  {
   "cell_type": "markdown",
   "metadata": {},
   "source": [
    "#### Valores faltantes\n",
    "\n",
    "Inspeccionamos los valores faltantes"
   ]
  },
  {
   "cell_type": "code",
   "execution_count": 12,
   "metadata": {},
   "outputs": [
    {
     "data": {
      "text/plain": [
       "grade                    0\n",
       "home_ownership           0\n",
       "emp_length_num           0\n",
       "sub_grade                0\n",
       "short_emp                0\n",
       "dti                      0\n",
       "term                     0\n",
       "purpose                  0\n",
       "int_rate                 0\n",
       "last_delinq_none         0\n",
       "last_major_derog_none    0\n",
       "revol_util               0\n",
       "total_rec_late_fee       0\n",
       "payment_inc_ratio        4\n",
       "bad_loans                0\n",
       "dtype: int64"
      ]
     },
     "execution_count": 12,
     "metadata": {},
     "output_type": "execute_result"
    }
   ],
   "source": [
    "loans.isnull().sum()"
   ]
  },
  {
   "cell_type": "code",
   "execution_count": 13,
   "metadata": {
    "collapsed": true
   },
   "outputs": [],
   "source": [
    "# Notamos que la variable payment_inc_ratio tiene sólo 4 valores nulos y mustra una correlación importante con la clase.\n",
    "# Además sabemos que la relación cuota/ingreso es importante a al hora de evaluar la capacidad de repago. \n",
    "# Eliminamos, entonces, los valores con payment_inc_ratio desconocido.\n",
    "loans = loans[loans.payment_inc_ratio.notnull()].copy()"
   ]
  },
  {
   "cell_type": "code",
   "execution_count": 14,
   "metadata": {},
   "outputs": [
    {
     "data": {
      "text/html": [
       "<div>\n",
       "<style>\n",
       "    .dataframe thead tr:only-child th {\n",
       "        text-align: right;\n",
       "    }\n",
       "\n",
       "    .dataframe thead th {\n",
       "        text-align: left;\n",
       "    }\n",
       "\n",
       "    .dataframe tbody tr th {\n",
       "        vertical-align: top;\n",
       "    }\n",
       "</style>\n",
       "<table border=\"1\" class=\"dataframe\">\n",
       "  <thead>\n",
       "    <tr style=\"text-align: right;\">\n",
       "      <th></th>\n",
       "      <th>grade</th>\n",
       "      <th>home_ownership</th>\n",
       "      <th>emp_length_num</th>\n",
       "      <th>sub_grade</th>\n",
       "      <th>short_emp</th>\n",
       "      <th>dti</th>\n",
       "      <th>term</th>\n",
       "      <th>purpose</th>\n",
       "      <th>int_rate</th>\n",
       "      <th>last_delinq_none</th>\n",
       "      <th>last_major_derog_none</th>\n",
       "      <th>revol_util</th>\n",
       "      <th>total_rec_late_fee</th>\n",
       "      <th>payment_inc_ratio</th>\n",
       "      <th>bad_loans</th>\n",
       "    </tr>\n",
       "  </thead>\n",
       "  <tbody>\n",
       "    <tr>\n",
       "      <th>86128</th>\n",
       "      <td>A</td>\n",
       "      <td>MORTGAGE</td>\n",
       "      <td>11</td>\n",
       "      <td>A1</td>\n",
       "      <td>0</td>\n",
       "      <td>11.27</td>\n",
       "      <td>36 months</td>\n",
       "      <td>major_purchase</td>\n",
       "      <td>6.03</td>\n",
       "      <td>1</td>\n",
       "      <td>1</td>\n",
       "      <td>20.8</td>\n",
       "      <td>0.0</td>\n",
       "      <td>1.31224</td>\n",
       "      <td>0</td>\n",
       "    </tr>\n",
       "    <tr>\n",
       "      <th>11731</th>\n",
       "      <td>E</td>\n",
       "      <td>MORTGAGE</td>\n",
       "      <td>3</td>\n",
       "      <td>E2</td>\n",
       "      <td>0</td>\n",
       "      <td>21.91</td>\n",
       "      <td>60 months</td>\n",
       "      <td>debt_consolidation</td>\n",
       "      <td>18.39</td>\n",
       "      <td>1</td>\n",
       "      <td>1</td>\n",
       "      <td>66.3</td>\n",
       "      <td>0.0</td>\n",
       "      <td>9.89327</td>\n",
       "      <td>0</td>\n",
       "    </tr>\n",
       "    <tr>\n",
       "      <th>23924</th>\n",
       "      <td>A</td>\n",
       "      <td>MORTGAGE</td>\n",
       "      <td>11</td>\n",
       "      <td>A5</td>\n",
       "      <td>0</td>\n",
       "      <td>5.63</td>\n",
       "      <td>36 months</td>\n",
       "      <td>house</td>\n",
       "      <td>7.88</td>\n",
       "      <td>1</td>\n",
       "      <td>1</td>\n",
       "      <td>30.5</td>\n",
       "      <td>0.0</td>\n",
       "      <td>2.50252</td>\n",
       "      <td>0</td>\n",
       "    </tr>\n",
       "    <tr>\n",
       "      <th>34536</th>\n",
       "      <td>A</td>\n",
       "      <td>MORTGAGE</td>\n",
       "      <td>1</td>\n",
       "      <td>A4</td>\n",
       "      <td>1</td>\n",
       "      <td>5.49</td>\n",
       "      <td>36 months</td>\n",
       "      <td>home_improvement</td>\n",
       "      <td>8.32</td>\n",
       "      <td>0</td>\n",
       "      <td>1</td>\n",
       "      <td>1.2</td>\n",
       "      <td>14997.0</td>\n",
       "      <td>4.27286</td>\n",
       "      <td>1</td>\n",
       "    </tr>\n",
       "    <tr>\n",
       "      <th>56227</th>\n",
       "      <td>D</td>\n",
       "      <td>RENT</td>\n",
       "      <td>2</td>\n",
       "      <td>D1</td>\n",
       "      <td>0</td>\n",
       "      <td>3.89</td>\n",
       "      <td>36 months</td>\n",
       "      <td>debt_consolidation</td>\n",
       "      <td>17.56</td>\n",
       "      <td>1</td>\n",
       "      <td>1</td>\n",
       "      <td>83.5</td>\n",
       "      <td>0.0</td>\n",
       "      <td>4.45573</td>\n",
       "      <td>0</td>\n",
       "    </tr>\n",
       "    <tr>\n",
       "      <th>104261</th>\n",
       "      <td>A</td>\n",
       "      <td>RENT</td>\n",
       "      <td>2</td>\n",
       "      <td>A5</td>\n",
       "      <td>0</td>\n",
       "      <td>4.50</td>\n",
       "      <td>36 months</td>\n",
       "      <td>credit_card</td>\n",
       "      <td>8.90</td>\n",
       "      <td>0</td>\n",
       "      <td>1</td>\n",
       "      <td>25.1</td>\n",
       "      <td>0.0</td>\n",
       "      <td>7.93850</td>\n",
       "      <td>0</td>\n",
       "    </tr>\n",
       "    <tr>\n",
       "      <th>52761</th>\n",
       "      <td>E</td>\n",
       "      <td>MORTGAGE</td>\n",
       "      <td>8</td>\n",
       "      <td>E5</td>\n",
       "      <td>0</td>\n",
       "      <td>27.75</td>\n",
       "      <td>60 months</td>\n",
       "      <td>debt_consolidation</td>\n",
       "      <td>22.70</td>\n",
       "      <td>1</td>\n",
       "      <td>1</td>\n",
       "      <td>88.0</td>\n",
       "      <td>0.0</td>\n",
       "      <td>2.50667</td>\n",
       "      <td>1</td>\n",
       "    </tr>\n",
       "    <tr>\n",
       "      <th>38067</th>\n",
       "      <td>B</td>\n",
       "      <td>RENT</td>\n",
       "      <td>4</td>\n",
       "      <td>B3</td>\n",
       "      <td>0</td>\n",
       "      <td>0.82</td>\n",
       "      <td>36 months</td>\n",
       "      <td>credit_card</td>\n",
       "      <td>9.33</td>\n",
       "      <td>0</td>\n",
       "      <td>1</td>\n",
       "      <td>0.0</td>\n",
       "      <td>0.0</td>\n",
       "      <td>6.08648</td>\n",
       "      <td>0</td>\n",
       "    </tr>\n",
       "    <tr>\n",
       "      <th>22885</th>\n",
       "      <td>D</td>\n",
       "      <td>MORTGAGE</td>\n",
       "      <td>6</td>\n",
       "      <td>D2</td>\n",
       "      <td>0</td>\n",
       "      <td>17.04</td>\n",
       "      <td>36 months</td>\n",
       "      <td>debt_consolidation</td>\n",
       "      <td>15.21</td>\n",
       "      <td>0</td>\n",
       "      <td>1</td>\n",
       "      <td>27.1</td>\n",
       "      <td>0.0</td>\n",
       "      <td>10.43060</td>\n",
       "      <td>0</td>\n",
       "    </tr>\n",
       "    <tr>\n",
       "      <th>29757</th>\n",
       "      <td>A</td>\n",
       "      <td>RENT</td>\n",
       "      <td>8</td>\n",
       "      <td>A5</td>\n",
       "      <td>0</td>\n",
       "      <td>20.24</td>\n",
       "      <td>36 months</td>\n",
       "      <td>credit_card</td>\n",
       "      <td>8.94</td>\n",
       "      <td>1</td>\n",
       "      <td>1</td>\n",
       "      <td>17.3</td>\n",
       "      <td>0.0</td>\n",
       "      <td>4.56401</td>\n",
       "      <td>0</td>\n",
       "    </tr>\n",
       "  </tbody>\n",
       "</table>\n",
       "</div>"
      ],
      "text/plain": [
       "       grade home_ownership  emp_length_num sub_grade  short_emp    dti  \\\n",
       "86128      A       MORTGAGE              11        A1          0  11.27   \n",
       "11731      E       MORTGAGE               3        E2          0  21.91   \n",
       "23924      A       MORTGAGE              11        A5          0   5.63   \n",
       "34536      A       MORTGAGE               1        A4          1   5.49   \n",
       "56227      D           RENT               2        D1          0   3.89   \n",
       "104261     A           RENT               2        A5          0   4.50   \n",
       "52761      E       MORTGAGE               8        E5          0  27.75   \n",
       "38067      B           RENT               4        B3          0   0.82   \n",
       "22885      D       MORTGAGE               6        D2          0  17.04   \n",
       "29757      A           RENT               8        A5          0  20.24   \n",
       "\n",
       "              term             purpose  int_rate  last_delinq_none  \\\n",
       "86128    36 months      major_purchase      6.03                 1   \n",
       "11731    60 months  debt_consolidation     18.39                 1   \n",
       "23924    36 months               house      7.88                 1   \n",
       "34536    36 months    home_improvement      8.32                 0   \n",
       "56227    36 months  debt_consolidation     17.56                 1   \n",
       "104261   36 months         credit_card      8.90                 0   \n",
       "52761    60 months  debt_consolidation     22.70                 1   \n",
       "38067    36 months         credit_card      9.33                 0   \n",
       "22885    36 months  debt_consolidation     15.21                 0   \n",
       "29757    36 months         credit_card      8.94                 1   \n",
       "\n",
       "        last_major_derog_none  revol_util  total_rec_late_fee  \\\n",
       "86128                       1        20.8                 0.0   \n",
       "11731                       1        66.3                 0.0   \n",
       "23924                       1        30.5                 0.0   \n",
       "34536                       1         1.2             14997.0   \n",
       "56227                       1        83.5                 0.0   \n",
       "104261                      1        25.1                 0.0   \n",
       "52761                       1        88.0                 0.0   \n",
       "38067                       1         0.0                 0.0   \n",
       "22885                       1        27.1                 0.0   \n",
       "29757                       1        17.3                 0.0   \n",
       "\n",
       "        payment_inc_ratio  bad_loans  \n",
       "86128             1.31224          0  \n",
       "11731             9.89327          0  \n",
       "23924             2.50252          0  \n",
       "34536             4.27286          1  \n",
       "56227             4.45573          0  \n",
       "104261            7.93850          0  \n",
       "52761             2.50667          1  \n",
       "38067             6.08648          0  \n",
       "22885            10.43060          0  \n",
       "29757             4.56401          0  "
      ]
     },
     "execution_count": 14,
     "metadata": {},
     "output_type": "execute_result"
    }
   ],
   "source": [
    "loans.sample(10)"
   ]
  },
  {
   "cell_type": "markdown",
   "metadata": {},
   "source": [
    "## Modelo Predictivo: regresión logística\n",
    "\n",
    "Vamos a utilizar Regresión Logística para predecir la clase bad_loans. "
   ]
  },
  {
   "cell_type": "code",
   "execution_count": 15,
   "metadata": {
    "collapsed": true
   },
   "outputs": [],
   "source": [
    "# Generamos las variables dummies para los datos categóricos.\n",
    "loans_enconded = pd.get_dummies(loans)"
   ]
  },
  {
   "cell_type": "code",
   "execution_count": 16,
   "metadata": {
    "collapsed": true
   },
   "outputs": [],
   "source": [
    "training_features, test_features, \\\n",
    "training_target, test_target, = train_test_split(loans_enconded.drop(['bad_loans'], axis=1),\n",
    "                                               loans_enconded['bad_loans'],\n",
    "                                               test_size = .1,\n",
    "                                               random_state=12)"
   ]
  },
  {
   "cell_type": "code",
   "execution_count": 17,
   "metadata": {
    "collapsed": true
   },
   "outputs": [],
   "source": [
    "from sklearn.linear_model import LogisticRegression\n",
    "from sklearn.metrics import roc_auc_score, classification_report\n"
   ]
  },
  {
   "cell_type": "code",
   "execution_count": 18,
   "metadata": {},
   "outputs": [
    {
     "data": {
      "text/plain": [
       "LogisticRegression(C=10000000000.0, class_weight=None, dual=False,\n",
       "          fit_intercept=True, intercept_scaling=1, max_iter=100,\n",
       "          multi_class='ovr', n_jobs=1, penalty='l2', random_state=None,\n",
       "          solver='liblinear', tol=0.0001, verbose=0, warm_start=False)"
      ]
     },
     "execution_count": 18,
     "metadata": {},
     "output_type": "execute_result"
    }
   ],
   "source": [
    "model = LogisticRegression(C=1e10)\n",
    "model.fit(training_features,training_target)"
   ]
  },
  {
   "cell_type": "code",
   "execution_count": 19,
   "metadata": {
    "collapsed": true
   },
   "outputs": [],
   "source": [
    "y_pred = model.predict(test_features)"
   ]
  },
  {
   "cell_type": "code",
   "execution_count": 20,
   "metadata": {},
   "outputs": [
    {
     "data": {
      "text/plain": [
       "0.51097885675688404"
      ]
     },
     "execution_count": 20,
     "metadata": {},
     "output_type": "execute_result"
    }
   ],
   "source": [
    "roc_auc_score(test_target,y_pred)"
   ]
  },
  {
   "cell_type": "code",
   "execution_count": 21,
   "metadata": {},
   "outputs": [
    {
     "name": "stdout",
     "output_type": "stream",
     "text": [
      "             precision    recall  f1-score   support\n",
      "\n",
      "          0       0.82      0.99      0.90      9960\n",
      "          1       0.54      0.03      0.05      2301\n",
      "\n",
      "avg / total       0.76      0.81      0.74     12261\n",
      "\n"
     ]
    }
   ],
   "source": [
    "print(classification_report(test_target,y_pred))"
   ]
  },
  {
   "cell_type": "markdown",
   "metadata": {},
   "source": [
    "Cuando evaluamos el modelo sobre datos no observados, el área debajo de la curva es muy cercana a 0.5. Especificamente, el recall a la hora de encontrar los \"malos créditos\" es  muy malo. Uno de los problemas que tenemos para hacer un buen modelo es el desbalanceo de los datos. \n",
    "\n",
    "Vamos a intentar dos posibles soluciones."
   ]
  },
  {
   "cell_type": "markdown",
   "metadata": {},
   "source": [
    "## Oversampling"
   ]
  },
  {
   "cell_type": "markdown",
   "metadata": {},
   "source": [
    "Para aumentar la representación de la clase minoritaria vamos a hacer un oversampling utilizando el algoritmo SMOTE (Synthetic Minority Oversample) del paquete imblearn.\n",
    "\n",
    "Este algoritmo genera nuevos datos utilizando la técnica de los K vecinos más cercanos.\n",
    "Para generar un nuevo punto:\n",
    "\n",
    "1. Se elige un punto al azar de la clase minoritaria y sus K vecinos más cercanos.\n",
    "2. Se elige al azar uno de esos vecinos.\n",
    "3. Se calcula el vector entre el punto seleccionado y el vecino seleccionado al azar y se lo multiplica por un número aleatorio entre 0 y 1.\n",
    "4. El punto aleatorio dentro del vector es el nuevo dato para el oversampling.\n"
   ]
  },
  {
   "cell_type": "code",
   "execution_count": 29,
   "metadata": {},
   "outputs": [
    {
     "data": {
      "text/plain": [
       "(110342, 110342)"
      ]
     },
     "execution_count": 29,
     "metadata": {},
     "output_type": "execute_result"
    }
   ],
   "source": [
    "len(training_features), len(training_target)"
   ]
  },
  {
   "cell_type": "code",
   "execution_count": 22,
   "metadata": {
    "collapsed": true
   },
   "outputs": [],
   "source": [
    "sm = SMOTE(random_state=12)\n",
    "x_train_res, y_train_res = sm.fit_sample(training_features, training_target)"
   ]
  },
  {
   "cell_type": "code",
   "execution_count": 31,
   "metadata": {},
   "outputs": [
    {
     "data": {
      "text/plain": [
       "(178986, 178986)"
      ]
     },
     "execution_count": 31,
     "metadata": {},
     "output_type": "execute_result"
    }
   ],
   "source": [
    "len(x_train_res), len(y_train_res)"
   ]
  },
  {
   "cell_type": "code",
   "execution_count": 23,
   "metadata": {},
   "outputs": [
    {
     "data": {
      "text/plain": [
       "LogisticRegression(C=10000000000.0, class_weight=None, dual=False,\n",
       "          fit_intercept=True, intercept_scaling=1, max_iter=100,\n",
       "          multi_class='ovr', n_jobs=1, penalty='l2', random_state=None,\n",
       "          solver='liblinear', tol=0.0001, verbose=0, warm_start=False)"
      ]
     },
     "execution_count": 23,
     "metadata": {},
     "output_type": "execute_result"
    }
   ],
   "source": [
    "model.fit(x_train_res,y_train_res)"
   ]
  },
  {
   "cell_type": "code",
   "execution_count": 24,
   "metadata": {
    "collapsed": true
   },
   "outputs": [],
   "source": [
    "y_pred = model.predict(test_features)"
   ]
  },
  {
   "cell_type": "code",
   "execution_count": 25,
   "metadata": {},
   "outputs": [
    {
     "data": {
      "text/plain": [
       "0.6335922569024468"
      ]
     },
     "execution_count": 25,
     "metadata": {},
     "output_type": "execute_result"
    }
   ],
   "source": [
    "roc_auc_score(test_target,y_pred)"
   ]
  },
  {
   "cell_type": "code",
   "execution_count": 26,
   "metadata": {},
   "outputs": [
    {
     "name": "stdout",
     "output_type": "stream",
     "text": [
      "             precision    recall  f1-score   support\n",
      "\n",
      "          0       0.88      0.61      0.73      9960\n",
      "          1       0.28      0.65      0.39      2301\n",
      "\n",
      "avg / total       0.77      0.62      0.66     12261\n",
      "\n"
     ]
    }
   ],
   "source": [
    "print(classification_report(test_target,y_pred))"
   ]
  },
  {
   "cell_type": "markdown",
   "metadata": {},
   "source": [
    "# Class Weights\n",
    "\n",
    "La otra técnica que podemos utilizar para corregir el desbalance de los datos es incorporar en la función de costos del algoritmo un mayor peso para los errores de entrenamiento cometidos sobre los puntos de la clase minoritaria.\n",
    "\n",
    "<strong> Ejercicio: Implementar la Regresión Logística con un parámetro que cambie la ponderación de las clases. <br />\n",
    "¿Cómo es la performance del nuevo modelo con respecto a la regresión logística original? <br />\n",
    "¿Tiene sentido aplicar esta corrección junto con el algoritmo SMOTE?\n",
    "<strong />"
   ]
  },
  {
   "cell_type": "code",
   "execution_count": 35,
   "metadata": {},
   "outputs": [
    {
     "name": "stdout",
     "output_type": "stream",
     "text": [
      "0.633227957462\n",
      "             precision    recall  f1-score   support\n",
      "\n",
      "          0       0.88      0.62      0.73      9960\n",
      "          1       0.28      0.65      0.39      2301\n",
      "\n",
      "avg / total       0.77      0.63      0.67     12261\n",
      "\n"
     ]
    }
   ],
   "source": [
    "model_balanced = LogisticRegression(C=1e10, class_weight='balanced')\n",
    "model_balanced.fit(training_features, training_target)\n",
    "y_balanced_prediction = model_balanced.predict(test_features)\n",
    "print(roc_auc_score(test_target, y_balanced_prediction))\n",
    "print(classification_report(test_target, y_balanced_prediction))"
   ]
  },
  {
   "cell_type": "code",
   "execution_count": null,
   "metadata": {
    "collapsed": true
   },
   "outputs": [],
   "source": []
  }
 ],
 "metadata": {
  "kernelspec": {
   "display_name": "Python 3",
   "language": "python",
   "name": "python3"
  },
  "language_info": {
   "codemirror_mode": {
    "name": "ipython",
    "version": 3
   },
   "file_extension": ".py",
   "mimetype": "text/x-python",
   "name": "python",
   "nbconvert_exporter": "python",
   "pygments_lexer": "ipython3",
   "version": "3.6.1"
  }
 },
 "nbformat": 4,
 "nbformat_minor": 2
}
