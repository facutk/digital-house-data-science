{
 "cells": [
  {
   "cell_type": "markdown",
   "metadata": {},
   "source": [
    "## LAB: La maldición de la dimensionalidad\n",
    "\n",
    "Para entender el efecto de la cantidad de dimensiones en la capacidad predictiva del modelo vamos a trabajar en un clasificador de noticias de dos diarios argentinos para intentar distinguir entre uno y otro a partir del vocabulario que utilizan. <br />\n",
    "\n",
    "Para esto vamos a implementar un modelo de tipo Naïve Bayes con vectorización de tipo TF-IDF."
   ]
  },
  {
   "cell_type": "code",
   "execution_count": 1,
   "metadata": {},
   "outputs": [],
   "source": [
    "import pandas as pd\n",
    "df_clarin = pd.read_csv('../Data/clarin.csv')\n",
    "df_clarin['class'] = 0"
   ]
  },
  {
   "cell_type": "code",
   "execution_count": 2,
   "metadata": {
    "collapsed": true
   },
   "outputs": [],
   "source": [
    "df_p12 = pd.read_csv('../Data/pagina12.csv')\n",
    "df_p12['class'] = 1"
   ]
  },
  {
   "cell_type": "code",
   "execution_count": 3,
   "metadata": {
    "collapsed": true
   },
   "outputs": [],
   "source": [
    "df = pd.concat([df_clarin,df_p12])"
   ]
  },
  {
   "cell_type": "code",
   "execution_count": 4,
   "metadata": {},
   "outputs": [
    {
     "data": {
      "text/html": [
       "<div>\n",
       "<style>\n",
       "    .dataframe thead tr:only-child th {\n",
       "        text-align: right;\n",
       "    }\n",
       "\n",
       "    .dataframe thead th {\n",
       "        text-align: left;\n",
       "    }\n",
       "\n",
       "    .dataframe tbody tr th {\n",
       "        vertical-align: top;\n",
       "    }\n",
       "</style>\n",
       "<table border=\"1\" class=\"dataframe\">\n",
       "  <thead>\n",
       "    <tr style=\"text-align: right;\">\n",
       "      <th></th>\n",
       "      <th>Unnamed: 0</th>\n",
       "      <th>cuerpo</th>\n",
       "      <th>fecha_hora</th>\n",
       "      <th>imagen</th>\n",
       "      <th>resumen</th>\n",
       "      <th>suplemento</th>\n",
       "      <th>titulo</th>\n",
       "      <th>url</th>\n",
       "      <th>class</th>\n",
       "    </tr>\n",
       "  </thead>\n",
       "  <tbody>\n",
       "    <tr>\n",
       "      <th>267</th>\n",
       "      <td>267</td>\n",
       "      <td>El diagnóstico es crítico. El presente de Se...</td>\n",
       "      <td>10/10/2017</td>\n",
       "      <td>//images.clarin.com/2017/10/10/SJof9t53W_930x5...</td>\n",
       "      <td>El piloto de Ferrari ya sabe lo que es reverti...</td>\n",
       "      <td>/deportes/</td>\n",
       "      <td>Fórmula 1: Sebastian Vettel buscará una nueva ...</td>\n",
       "      <td>http://www.clarin.com/deportes/automovilismo/f...</td>\n",
       "      <td>0</td>\n",
       "    </tr>\n",
       "    <tr>\n",
       "      <th>216</th>\n",
       "      <td>216</td>\n",
       "      <td>Lewis Hamilton, líder del campeonato de Fórm...</td>\n",
       "      <td>07/10/2017</td>\n",
       "      <td>//images.clarin.com/2017/10/07/Byqm2E8hW_930x5...</td>\n",
       "      <td>El británico largará primero en la carrera del...</td>\n",
       "      <td>/deportes/automovilismo/</td>\n",
       "      <td>Fórmula 1: Hamilton logró su primera pole en J...</td>\n",
       "      <td>http://www.clarin.com/deportes/automovilismo/f...</td>\n",
       "      <td>0</td>\n",
       "    </tr>\n",
       "    <tr>\n",
       "      <th>244</th>\n",
       "      <td>244</td>\n",
       "      <td>Hijo de un padre maltratador, ladrón de auto...</td>\n",
       "      <td>21/09/2017</td>\n",
       "      <td>//images.clarin.com/2017/09/20/ryvDgGgi-_930x5...</td>\n",
       "      <td>Murió uno de los más polémicos y fascinantes d...</td>\n",
       "      <td>/deportes/boxeo/</td>\n",
       "      <td>LaMotta y una vida de película que mutó del bo...</td>\n",
       "      <td>http://www.clarin.com/deportes/boxeo/lamotta-v...</td>\n",
       "      <td>0</td>\n",
       "    </tr>\n",
       "    <tr>\n",
       "      <th>221</th>\n",
       "      <td>221</td>\n",
       "      <td>San Lorenzo (5-0) fue muy sólido y demolió a...</td>\n",
       "      <td>08/10/2017</td>\n",
       "      <td>//images.clarin.com/2017/10/08/HkUd-8O2Z_930x5...</td>\n",
       "      <td>El conjunto de Gonzalo García ganó como visita...</td>\n",
       "      <td>/deportes/basquet/</td>\n",
       "      <td>Súper 20: San Lorenzo aplastó a Ferro y sigue ...</td>\n",
       "      <td>http://www.clarin.com/deportes/basquet/liga-na...</td>\n",
       "      <td>0</td>\n",
       "    </tr>\n",
       "    <tr>\n",
       "      <th>27</th>\n",
       "      <td>27</td>\n",
       "      <td>Del 12 al 16 de octubre se realizará en Taipei...</td>\n",
       "      <td>09 de octubre de 2017</td>\n",
       "      <td>https://images.pagina12.com.ar/styles/width960...</td>\n",
       "      <td>NaN</td>\n",
       "      <td>NaN</td>\n",
       "      <td>Mundial de Kung Fu</td>\n",
       "      <td>https://www.pagina12.com.ar/67927-mundial-de-k...</td>\n",
       "      <td>1</td>\n",
       "    </tr>\n",
       "    <tr>\n",
       "      <th>194</th>\n",
       "      <td>194</td>\n",
       "      <td>Un importante número de personas, aún sin dete...</td>\n",
       "      <td>10 de octubre de 2017</td>\n",
       "      <td>https://images.pagina12.com.ar/styles/focal_16...</td>\n",
       "      <td>NaN</td>\n",
       "      <td>El mundo</td>\n",
       "      <td>Los ultras de Valencia</td>\n",
       "      <td>https://www.pagina12.com.ar/68143-los-ultras-d...</td>\n",
       "      <td>1</td>\n",
       "    </tr>\n",
       "    <tr>\n",
       "      <th>314</th>\n",
       "      <td>314</td>\n",
       "      <td>El martes comenzará 3 8 S M, una coproducció...</td>\n",
       "      <td>06/10/2017</td>\n",
       "      <td>//images.clarin.com/2017/10/05/B1fkpQVnb_930x5...</td>\n",
       "      <td>El director francés Laurent Berger dirige 23 8...</td>\n",
       "      <td>/espectaculos/teatro/</td>\n",
       "      <td>Una maratón sobre el más grande</td>\n",
       "      <td>http://www.clarin.com/espectaculos/teatro/mara...</td>\n",
       "      <td>0</td>\n",
       "    </tr>\n",
       "    <tr>\n",
       "      <th>113</th>\n",
       "      <td>113</td>\n",
       "      <td>Ante una nueva “versión periodística” lanzada ...</td>\n",
       "      <td>09 de octubre de 2017</td>\n",
       "      <td>https://images.pagina12.com.ar/styles/focal_16...</td>\n",
       "      <td>A través de un comunicado, los familiares de S...</td>\n",
       "      <td>El país</td>\n",
       "      <td>Otra operación, otra desmentida</td>\n",
       "      <td>https://www.pagina12.com.ar/68072-otra-operaci...</td>\n",
       "      <td>1</td>\n",
       "    </tr>\n",
       "    <tr>\n",
       "      <th>107</th>\n",
       "      <td>107</td>\n",
       "      <td>Se acerca diciembre y en la Legislatura de la ...</td>\n",
       "      <td>09 de octubre de 2017</td>\n",
       "      <td>https://images.pagina12.com.ar/styles/focal_16...</td>\n",
       "      <td>Temen que el Gobierno de la Ciudad consiga est...</td>\n",
       "      <td>Sociedad</td>\n",
       "      <td>Movilizados contra la construcción de un shopping</td>\n",
       "      <td>https://www.pagina12.com.ar/68050-movilizados-...</td>\n",
       "      <td>1</td>\n",
       "    </tr>\n",
       "    <tr>\n",
       "      <th>43</th>\n",
       "      <td>43</td>\n",
       "      <td>Para cerrar la II Feria del Libro Deportivo qu...</td>\n",
       "      <td>09 de octubre de 2017</td>\n",
       "      <td>https://images.pagina12.com.ar/styles/focal_16...</td>\n",
       "      <td>NaN</td>\n",
       "      <td>NaN</td>\n",
       "      <td>Deporte y derechos humanos</td>\n",
       "      <td>https://www.pagina12.com.ar/67911-deporte-y-de...</td>\n",
       "      <td>1</td>\n",
       "    </tr>\n",
       "  </tbody>\n",
       "</table>\n",
       "</div>"
      ],
      "text/plain": [
       "     Unnamed: 0                                             cuerpo  \\\n",
       "267         267    El diagnóstico es crítico. El presente de Se...   \n",
       "216         216    Lewis Hamilton, líder del campeonato de Fórm...   \n",
       "244         244    Hijo de un padre maltratador, ladrón de auto...   \n",
       "221         221    San Lorenzo (5-0) fue muy sólido y demolió a...   \n",
       "27           27  Del 12 al 16 de octubre se realizará en Taipei...   \n",
       "194         194  Un importante número de personas, aún sin dete...   \n",
       "314         314    El martes comenzará 3 8 S M, una coproducció...   \n",
       "113         113  Ante una nueva “versión periodística” lanzada ...   \n",
       "107         107  Se acerca diciembre y en la Legislatura de la ...   \n",
       "43           43  Para cerrar la II Feria del Libro Deportivo qu...   \n",
       "\n",
       "                fecha_hora                                             imagen  \\\n",
       "267            10/10/2017   //images.clarin.com/2017/10/10/SJof9t53W_930x5...   \n",
       "216            07/10/2017   //images.clarin.com/2017/10/07/Byqm2E8hW_930x5...   \n",
       "244            21/09/2017   //images.clarin.com/2017/09/20/ryvDgGgi-_930x5...   \n",
       "221            08/10/2017   //images.clarin.com/2017/10/08/HkUd-8O2Z_930x5...   \n",
       "27   09 de octubre de 2017  https://images.pagina12.com.ar/styles/width960...   \n",
       "194  10 de octubre de 2017  https://images.pagina12.com.ar/styles/focal_16...   \n",
       "314            06/10/2017   //images.clarin.com/2017/10/05/B1fkpQVnb_930x5...   \n",
       "113  09 de octubre de 2017  https://images.pagina12.com.ar/styles/focal_16...   \n",
       "107  09 de octubre de 2017  https://images.pagina12.com.ar/styles/focal_16...   \n",
       "43   09 de octubre de 2017  https://images.pagina12.com.ar/styles/focal_16...   \n",
       "\n",
       "                                               resumen  \\\n",
       "267  El piloto de Ferrari ya sabe lo que es reverti...   \n",
       "216  El británico largará primero en la carrera del...   \n",
       "244  Murió uno de los más polémicos y fascinantes d...   \n",
       "221  El conjunto de Gonzalo García ganó como visita...   \n",
       "27                                                 NaN   \n",
       "194                                                NaN   \n",
       "314  El director francés Laurent Berger dirige 23 8...   \n",
       "113  A través de un comunicado, los familiares de S...   \n",
       "107  Temen que el Gobierno de la Ciudad consiga est...   \n",
       "43                                                 NaN   \n",
       "\n",
       "                   suplemento  \\\n",
       "267                /deportes/   \n",
       "216  /deportes/automovilismo/   \n",
       "244          /deportes/boxeo/   \n",
       "221        /deportes/basquet/   \n",
       "27                        NaN   \n",
       "194                  El mundo   \n",
       "314     /espectaculos/teatro/   \n",
       "113                   El país   \n",
       "107                  Sociedad   \n",
       "43                        NaN   \n",
       "\n",
       "                                                titulo  \\\n",
       "267  Fórmula 1: Sebastian Vettel buscará una nueva ...   \n",
       "216  Fórmula 1: Hamilton logró su primera pole en J...   \n",
       "244  LaMotta y una vida de película que mutó del bo...   \n",
       "221  Súper 20: San Lorenzo aplastó a Ferro y sigue ...   \n",
       "27                                  Mundial de Kung Fu   \n",
       "194                             Los ultras de Valencia   \n",
       "314                    Una maratón sobre el más grande   \n",
       "113                    Otra operación, otra desmentida   \n",
       "107  Movilizados contra la construcción de un shopping   \n",
       "43                          Deporte y derechos humanos   \n",
       "\n",
       "                                                   url  class  \n",
       "267  http://www.clarin.com/deportes/automovilismo/f...      0  \n",
       "216  http://www.clarin.com/deportes/automovilismo/f...      0  \n",
       "244  http://www.clarin.com/deportes/boxeo/lamotta-v...      0  \n",
       "221  http://www.clarin.com/deportes/basquet/liga-na...      0  \n",
       "27   https://www.pagina12.com.ar/67927-mundial-de-k...      1  \n",
       "194  https://www.pagina12.com.ar/68143-los-ultras-d...      1  \n",
       "314  http://www.clarin.com/espectaculos/teatro/mara...      0  \n",
       "113  https://www.pagina12.com.ar/68072-otra-operaci...      1  \n",
       "107  https://www.pagina12.com.ar/68050-movilizados-...      1  \n",
       "43   https://www.pagina12.com.ar/67911-deporte-y-de...      1  "
      ]
     },
     "execution_count": 4,
     "metadata": {},
     "output_type": "execute_result"
    }
   ],
   "source": [
    "df.sample(10)"
   ]
  },
  {
   "cell_type": "markdown",
   "metadata": {},
   "source": [
    "### 1. Limpieza\n",
    "\n",
    "#### 1.1 Faltantes\n",
    "\n",
    "A partir del dataset observamos que los campos que probablemente contengan el vocabulario relevante son \"cuerpo\", \"título\" y \"resumen\".\n",
    "Sacar del análisis los registros que no tienen cuerpo o título disponible y completar los resúmenes faltantes con un campo en blanco\n"
   ]
  },
  {
   "cell_type": "code",
   "execution_count": 5,
   "metadata": {},
   "outputs": [],
   "source": [
    "df['resumen'].fillna('', inplace=True)"
   ]
  },
  {
   "cell_type": "code",
   "execution_count": 6,
   "metadata": {
    "collapsed": true
   },
   "outputs": [],
   "source": [
    "df.dropna(inplace=True)"
   ]
  },
  {
   "cell_type": "code",
   "execution_count": null,
   "metadata": {
    "collapsed": true
   },
   "outputs": [],
   "source": []
  },
  {
   "cell_type": "markdown",
   "metadata": {},
   "source": [
    "#### 1.2 Suplementos relevantes\n",
    "\n",
    "Para mejorar la clasificación es conveniente retirar las secciones donde los dos diarios utilizan un vocabulario similar y muy específico del dominio como, por ejemplo, las relacionadas a deportes."
   ]
  },
  {
   "cell_type": "code",
   "execution_count": 7,
   "metadata": {},
   "outputs": [],
   "source": [
    "import numpy as np\n",
    "np.unique(df['suplemento'].values)\n",
    "wanted_sections = ['/cartas_al_pais/', '/economia/', '/lo-ultimo/', '/mundo/', '/opinion/',\n",
    "       '/policiales/', '/politica/', '/sociedad/', 'Contratapa',\n",
    "       'Economía', 'El mundo', 'El país', 'Sociedad']"
   ]
  },
  {
   "cell_type": "code",
   "execution_count": 8,
   "metadata": {},
   "outputs": [],
   "source": [
    "df = df[df.suplemento.isin(wanted_sections)]"
   ]
  },
  {
   "cell_type": "code",
   "execution_count": 9,
   "metadata": {},
   "outputs": [],
   "source": [
    "df = df.drop(['Unnamed: 0', 'imagen', 'fecha_hora', 'url', 'suplemento'], axis=1)"
   ]
  },
  {
   "cell_type": "code",
   "execution_count": 10,
   "metadata": {},
   "outputs": [
    {
     "data": {
      "text/html": [
       "<div>\n",
       "<style>\n",
       "    .dataframe thead tr:only-child th {\n",
       "        text-align: right;\n",
       "    }\n",
       "\n",
       "    .dataframe thead th {\n",
       "        text-align: left;\n",
       "    }\n",
       "\n",
       "    .dataframe tbody tr th {\n",
       "        vertical-align: top;\n",
       "    }\n",
       "</style>\n",
       "<table border=\"1\" class=\"dataframe\">\n",
       "  <thead>\n",
       "    <tr style=\"text-align: right;\">\n",
       "      <th></th>\n",
       "      <th>cuerpo</th>\n",
       "      <th>resumen</th>\n",
       "      <th>titulo</th>\n",
       "      <th>class</th>\n",
       "    </tr>\n",
       "  </thead>\n",
       "  <tbody>\n",
       "    <tr>\n",
       "      <th>80</th>\n",
       "      <td>Una de las filminas más impactantes que presen...</td>\n",
       "      <td></td>\n",
       "      <td>Deuda: nos están avisando</td>\n",
       "      <td>1</td>\n",
       "    </tr>\n",
       "    <tr>\n",
       "      <th>21</th>\n",
       "      <td>El FMI prevé que América Latina y el Caribe ...</td>\n",
       "      <td>Pronosticó una caída de 10% para la economía v...</td>\n",
       "      <td>Salvo en Venezuela, mejora la perspectiva del ...</td>\n",
       "      <td>0</td>\n",
       "    </tr>\n",
       "  </tbody>\n",
       "</table>\n",
       "</div>"
      ],
      "text/plain": [
       "                                               cuerpo  \\\n",
       "80  Una de las filminas más impactantes que presen...   \n",
       "21    El FMI prevé que América Latina y el Caribe ...   \n",
       "\n",
       "                                              resumen  \\\n",
       "80                                                      \n",
       "21  Pronosticó una caída de 10% para la economía v...   \n",
       "\n",
       "                                               titulo  class  \n",
       "80                          Deuda: nos están avisando      1  \n",
       "21  Salvo en Venezuela, mejora la perspectiva del ...      0  "
      ]
     },
     "execution_count": 10,
     "metadata": {},
     "output_type": "execute_result"
    }
   ],
   "source": [
    "df.sample(2)"
   ]
  },
  {
   "cell_type": "markdown",
   "metadata": {},
   "source": [
    "#### 1.3 Corpus\n",
    "\n",
    "Construir la columna sobre la cual vamos a predecir concatenando el título, resumen y cuerpo de las distintas noticias."
   ]
  },
  {
   "cell_type": "code",
   "execution_count": 11,
   "metadata": {},
   "outputs": [],
   "source": [
    "def build_corpus(s):\n",
    "    s['corpus'] = s['cuerpo'] + s['resumen'] + s['titulo']\n",
    "    return s\n",
    "\n",
    "df = df.apply(build_corpus, axis=1)"
   ]
  },
  {
   "cell_type": "code",
   "execution_count": 12,
   "metadata": {},
   "outputs": [],
   "source": [
    "df = df.drop(['cuerpo', 'resumen', 'titulo'], axis=1)"
   ]
  },
  {
   "cell_type": "code",
   "execution_count": 13,
   "metadata": {},
   "outputs": [
    {
     "data": {
      "text/html": [
       "<div>\n",
       "<style>\n",
       "    .dataframe thead tr:only-child th {\n",
       "        text-align: right;\n",
       "    }\n",
       "\n",
       "    .dataframe thead th {\n",
       "        text-align: left;\n",
       "    }\n",
       "\n",
       "    .dataframe tbody tr th {\n",
       "        vertical-align: top;\n",
       "    }\n",
       "</style>\n",
       "<table border=\"1\" class=\"dataframe\">\n",
       "  <thead>\n",
       "    <tr style=\"text-align: right;\">\n",
       "      <th></th>\n",
       "      <th>class</th>\n",
       "      <th>corpus</th>\n",
       "    </tr>\n",
       "  </thead>\n",
       "  <tbody>\n",
       "    <tr>\n",
       "      <th>86</th>\n",
       "      <td>1</td>\n",
       "      <td>La Asociación de Abogados Laboralistas realizó...</td>\n",
       "    </tr>\n",
       "    <tr>\n",
       "      <th>159</th>\n",
       "      <td>1</td>\n",
       "      <td>Muy activo en las visitas de campaña que viene...</td>\n",
       "    </tr>\n",
       "    <tr>\n",
       "      <th>21</th>\n",
       "      <td>0</td>\n",
       "      <td>El FMI prevé que América Latina y el Caribe ...</td>\n",
       "    </tr>\n",
       "    <tr>\n",
       "      <th>191</th>\n",
       "      <td>1</td>\n",
       "      <td>“¿Cuántos organismos de derechos humanos les m...</td>\n",
       "    </tr>\n",
       "    <tr>\n",
       "      <th>172</th>\n",
       "      <td>1</td>\n",
       "      <td>Desde Corrientes\\nEl oficialismo correntino pa...</td>\n",
       "    </tr>\n",
       "  </tbody>\n",
       "</table>\n",
       "</div>"
      ],
      "text/plain": [
       "     class                                             corpus\n",
       "86       1  La Asociación de Abogados Laboralistas realizó...\n",
       "159      1  Muy activo en las visitas de campaña que viene...\n",
       "21       0    El FMI prevé que América Latina y el Caribe ...\n",
       "191      1  “¿Cuántos organismos de derechos humanos les m...\n",
       "172      1  Desde Corrientes\\nEl oficialismo correntino pa..."
      ]
     },
     "execution_count": 13,
     "metadata": {},
     "output_type": "execute_result"
    }
   ],
   "source": [
    "df.sample(5)"
   ]
  },
  {
   "cell_type": "markdown",
   "metadata": {},
   "source": [
    "#### 1.4 Normalización del texto\n",
    "\n",
    "Primero es conveniente pasar todo el corpus a letras minúsculas.\n",
    "\n",
    "Para mejorar el clasificador es importante sacar todos los acentos que pueden generar diferencias artificiales entre palabras según estén o no puestos. Hint: Utilizar el módulo unidecode\n",
    "\n",
    "Una vez retirados los acentos, quitar todos los signos de puntuación para dejar únicamente palabras. Hint: utilizar una expresión regular, por ejemplo, r'([^\\s\\w]|_)+' para reemplazar todo lo que no sean palabras."
   ]
  },
  {
   "cell_type": "code",
   "execution_count": 14,
   "metadata": {},
   "outputs": [],
   "source": [
    "from unidecode import unidecode\n",
    "PERMITTED_CHARS = \"abcdefghijklmnopqrstuvwxyz \" \n",
    "\n",
    "def clean_string(s):\n",
    "    s = s.lower()\n",
    "    s = unidecode(s)\n",
    "    s = \"\".join(c for c in s if c in PERMITTED_CHARS)\n",
    "    s = \" \".join(w[:4] for w in s.split(' '))\n",
    "    return s"
   ]
  },
  {
   "cell_type": "code",
   "execution_count": 15,
   "metadata": {},
   "outputs": [
    {
     "data": {
      "text/plain": [
       "'siga busc fue la cini resp de'"
      ]
     },
     "execution_count": 15,
     "metadata": {},
     "output_type": "execute_result"
    }
   ],
   "source": [
    "clean_string('“Síganlo buscando”, fue la cínica respuesta de')"
   ]
  },
  {
   "cell_type": "code",
   "execution_count": 16,
   "metadata": {},
   "outputs": [],
   "source": [
    "def stem_text(s):\n",
    "    s['corpus'] = clean_string(s['corpus'])\n",
    "    return s\n",
    "    \n",
    "df = df.apply(stem_text, axis=1)"
   ]
  },
  {
   "cell_type": "code",
   "execution_count": 17,
   "metadata": {},
   "outputs": [
    {
     "data": {
      "text/html": [
       "<div>\n",
       "<style>\n",
       "    .dataframe thead tr:only-child th {\n",
       "        text-align: right;\n",
       "    }\n",
       "\n",
       "    .dataframe thead th {\n",
       "        text-align: left;\n",
       "    }\n",
       "\n",
       "    .dataframe tbody tr th {\n",
       "        vertical-align: top;\n",
       "    }\n",
       "</style>\n",
       "<table border=\"1\" class=\"dataframe\">\n",
       "  <thead>\n",
       "    <tr style=\"text-align: right;\">\n",
       "      <th></th>\n",
       "      <th>class</th>\n",
       "      <th>corpus</th>\n",
       "    </tr>\n",
       "  </thead>\n",
       "  <tbody>\n",
       "    <tr>\n",
       "      <th>41</th>\n",
       "      <td>0</td>\n",
       "      <td>carl carr mari de mari mart garc bels aseg q...</td>\n",
       "    </tr>\n",
       "    <tr>\n",
       "      <th>200</th>\n",
       "      <td>1</td>\n",
       "      <td>desd coch conm de los  anos de la ejec de erne...</td>\n",
       "    </tr>\n",
       "    <tr>\n",
       "      <th>168</th>\n",
       "      <td>1</td>\n",
       "      <td>el trib de impu de neuq decl la nuli de un all...</td>\n",
       "    </tr>\n",
       "    <tr>\n",
       "      <th>37</th>\n",
       "      <td>0</td>\n",
       "      <td>la cama de sena deba en comi esta sema vari ...</td>\n",
       "    </tr>\n",
       "    <tr>\n",
       "      <th>32</th>\n",
       "      <td>0</td>\n",
       "      <td>desp de aume las sanc puni cont los resp de ...</td>\n",
       "    </tr>\n",
       "  </tbody>\n",
       "</table>\n",
       "</div>"
      ],
      "text/plain": [
       "     class                                             corpus\n",
       "41       0    carl carr mari de mari mart garc bels aseg q...\n",
       "200      1  desd coch conm de los  anos de la ejec de erne...\n",
       "168      1  el trib de impu de neuq decl la nuli de un all...\n",
       "37       0    la cama de sena deba en comi esta sema vari ...\n",
       "32       0    desp de aume las sanc puni cont los resp de ..."
      ]
     },
     "execution_count": 17,
     "metadata": {},
     "output_type": "execute_result"
    }
   ],
   "source": [
    "df.sample(5)"
   ]
  },
  {
   "cell_type": "markdown",
   "metadata": {},
   "source": [
    "## 2. Modelo\n",
    "\n",
    "Vectorizar el corpus resultante con TF-IDF y aplicar un modelo Naive Bayes con un split simple entre train y test. \n",
    "<br />\n",
    "¿Cuál es la dimensión de la matriz de features? ¿Cuál es el accuracy obtenido? <br />\n",
    "Dibujar la matriz de confusión."
   ]
  },
  {
   "cell_type": "code",
   "execution_count": 18,
   "metadata": {
    "collapsed": true
   },
   "outputs": [],
   "source": [
    "X = df['corpus']\n",
    "y = df['class']"
   ]
  },
  {
   "cell_type": "code",
   "execution_count": 19,
   "metadata": {},
   "outputs": [],
   "source": [
    "from sklearn.model_selection import train_test_split\n",
    "X_train, X_test, y_train, y_test = train_test_split(X, y, test_size=0.25, random_state=2)"
   ]
  },
  {
   "cell_type": "code",
   "execution_count": 20,
   "metadata": {},
   "outputs": [],
   "source": [
    "from sklearn.feature_extraction.text import CountVectorizer\n",
    "from sklearn.feature_extraction.text import TfidfTransformer\n",
    "vectorizer = CountVectorizer(min_df=10)\n",
    "transformer = TfidfTransformer()\n",
    "vectorizer.fit(X_train)\n",
    "X_train_vector = vectorizer.transform(X_train)\n",
    "transformer.fit(X_train_vector)\n",
    "X_train_tfidf = transformer.transform(X_train_vector)"
   ]
  },
  {
   "cell_type": "code",
   "execution_count": 21,
   "metadata": {},
   "outputs": [
    {
     "data": {
      "text/plain": [
       "GaussianNB(priors=None)"
      ]
     },
     "execution_count": 21,
     "metadata": {},
     "output_type": "execute_result"
    }
   ],
   "source": [
    "from sklearn.naive_bayes import GaussianNB\n",
    "nb = GaussianNB()\n",
    "nb.fit(X_train_tfidf.toarray(), y_train)"
   ]
  },
  {
   "cell_type": "code",
   "execution_count": 22,
   "metadata": {
    "collapsed": true
   },
   "outputs": [],
   "source": [
    "X_test_vector = vectorizer.transform(X_test)\n",
    "X_test_tfidf = transformer.transform(X_test_vector)"
   ]
  },
  {
   "cell_type": "code",
   "execution_count": 23,
   "metadata": {
    "collapsed": true
   },
   "outputs": [],
   "source": [
    "y_predict = nb.predict(X_test_tfidf.toarray())"
   ]
  },
  {
   "cell_type": "code",
   "execution_count": 24,
   "metadata": {},
   "outputs": [
    {
     "name": "stdout",
     "output_type": "stream",
     "text": [
      "Accuracy:  0.775510204082\n"
     ]
    }
   ],
   "source": [
    "from sklearn.metrics import accuracy_score\n",
    "print('Accuracy: ',accuracy_score(y_predict, y_test))"
   ]
  },
  {
   "cell_type": "code",
   "execution_count": 25,
   "metadata": {},
   "outputs": [
    {
     "data": {
      "text/plain": [
       "array([[12,  9],\n",
       "       [ 2, 26]])"
      ]
     },
     "execution_count": 25,
     "metadata": {},
     "output_type": "execute_result"
    }
   ],
   "source": [
    "from sklearn.metrics import confusion_matrix\n",
    "confusion_matrix(y_test, y_predict)"
   ]
  },
  {
   "cell_type": "markdown",
   "metadata": {},
   "source": [
    "## 3. Reducción de la dimensionalidad\n",
    "\n",
    "¿Cuál es la relación entre la cantidad de features y la cantidad de casos de entrenamiento? De acuerdo a la maldición de la dimensionalidad esta relación es un problema.<br/>\n",
    "Una de las técnicas más comunes para reducir dimensiones es utilizar \"stopwords\", una lista con las palabras de cada idioma que no tienen un peso semántico importante. <br />\n",
    "Entrenen nuevamente el modelo quitando las stopwords del español que se encuentran en el archivo \"stopwords.csv\". <br />\n",
    "¿Qué pasa con la cantidad de dimensiones de la matriz de features? ¿Y con el accuracy?"
   ]
  },
  {
   "cell_type": "code",
   "execution_count": null,
   "metadata": {
    "collapsed": true
   },
   "outputs": [],
   "source": []
  },
  {
   "cell_type": "code",
   "execution_count": null,
   "metadata": {
    "collapsed": true
   },
   "outputs": [],
   "source": []
  },
  {
   "cell_type": "markdown",
   "metadata": {},
   "source": [
    "## 4. Avanzando en la reducción de dimensiones\n",
    "\n",
    "El modelo mejora cuando quitamos las stopwords pero todavía tenemos una cantidad de dimensiones demasiado alta para \n",
    "la cantidad de datos que tenemos.\n",
    "\n",
    "Pensemos lo siguiente ¿Qué valor tienen las palabras que aparecen una o dos veces en todo el corpus a la hora de discriminar? Para remover del análisis las palabras que ocurren menos de determinada cantidad de veces, la clase TfidfVectorizer tiene un parámetro min_df. \n",
    "\n",
    "Prueben setear el parámetro min_df en 6 y volver a correr el modelo.\n",
    "<br />\n",
    "<strong>\n",
    "¿A cuánto se reduce la dimensión de la matriz de features?\n",
    "<br />\n",
    "¿Cuánto mejora la performance del algoritmo?\n",
    "<strong />"
   ]
  },
  {
   "cell_type": "code",
   "execution_count": null,
   "metadata": {
    "collapsed": true
   },
   "outputs": [],
   "source": []
  }
 ],
 "metadata": {
  "kernelspec": {
   "display_name": "Python 3",
   "language": "python",
   "name": "python3"
  },
  "language_info": {
   "codemirror_mode": {
    "name": "ipython",
    "version": 3
   },
   "file_extension": ".py",
   "mimetype": "text/x-python",
   "name": "python",
   "nbconvert_exporter": "python",
   "pygments_lexer": "ipython3",
   "version": "3.6.1"
  }
 },
 "nbformat": 4,
 "nbformat_minor": 2
}
