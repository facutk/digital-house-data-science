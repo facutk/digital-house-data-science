{
 "cells": [
  {
   "cell_type": "markdown",
   "metadata": {},
   "source": [
    "## LAB: La maldición de la dimensionalidad\n",
    "\n",
    "Para entender el efecto de la cantidad de dimensiones en la capacidad predictiva del modelo vamos a trabajar en un clasificador de noticias de dos diarios argentinos para intentar distinguir entre uno y otro a partir del vocabulario que utilizan. <br />\n",
    "\n",
    "Para esto vamos a implementar un modelo de tipo Naïve Bayes con vectorización de tipo TF-IDF."
   ]
  },
  {
   "cell_type": "code",
   "execution_count": 1,
   "metadata": {
    "collapsed": true
   },
   "outputs": [],
   "source": [
    "import pandas as pd\n",
    "df_clarin = pd.read_csv('clarin.csv')\n",
    "df_clarin['class'] = 0"
   ]
  },
  {
   "cell_type": "code",
   "execution_count": 2,
   "metadata": {
    "collapsed": true
   },
   "outputs": [],
   "source": [
    "df_p12 = pd.read_csv('pagina12.csv')\n",
    "df_p12['class'] = 1"
   ]
  },
  {
   "cell_type": "code",
   "execution_count": 3,
   "metadata": {
    "collapsed": true
   },
   "outputs": [],
   "source": [
    "df = pd.concat([df_clarin,df_p12])"
   ]
  },
  {
   "cell_type": "code",
   "execution_count": 4,
   "metadata": {},
   "outputs": [
    {
     "data": {
      "text/html": [
       "<div>\n",
       "<style>\n",
       "    .dataframe thead tr:only-child th {\n",
       "        text-align: right;\n",
       "    }\n",
       "\n",
       "    .dataframe thead th {\n",
       "        text-align: left;\n",
       "    }\n",
       "\n",
       "    .dataframe tbody tr th {\n",
       "        vertical-align: top;\n",
       "    }\n",
       "</style>\n",
       "<table border=\"1\" class=\"dataframe\">\n",
       "  <thead>\n",
       "    <tr style=\"text-align: right;\">\n",
       "      <th></th>\n",
       "      <th>Unnamed: 0</th>\n",
       "      <th>cuerpo</th>\n",
       "      <th>fecha_hora</th>\n",
       "      <th>imagen</th>\n",
       "      <th>resumen</th>\n",
       "      <th>suplemento</th>\n",
       "      <th>titulo</th>\n",
       "      <th>url</th>\n",
       "      <th>class</th>\n",
       "    </tr>\n",
       "  </thead>\n",
       "  <tbody>\n",
       "    <tr>\n",
       "      <th>72</th>\n",
       "      <td>72</td>\n",
       "      <td>“No puede ser que la lógica sea que cada gobie...</td>\n",
       "      <td>09 de octubre de 2017</td>\n",
       "      <td>https://images.pagina12.com.ar/styles/focal_16...</td>\n",
       "      <td>NaN</td>\n",
       "      <td>El país</td>\n",
       "      <td>El ajuste en la salud</td>\n",
       "      <td>https://www.pagina12.com.ar/67982-el-ajuste-en...</td>\n",
       "      <td>1</td>\n",
       "    </tr>\n",
       "    <tr>\n",
       "      <th>189</th>\n",
       "      <td>189</td>\n",
       "      <td>No hay que ser Julio Verne para imaginar qué v...</td>\n",
       "      <td>10 de octubre de 2017</td>\n",
       "      <td>https://images.pagina12.com.ar/styles/focal_16...</td>\n",
       "      <td>NaN</td>\n",
       "      <td>Deportes</td>\n",
       "      <td>La gran noche de la Patria Grande</td>\n",
       "      <td>https://www.pagina12.com.ar/68120-la-gran-noch...</td>\n",
       "      <td>1</td>\n",
       "    </tr>\n",
       "    <tr>\n",
       "      <th>185</th>\n",
       "      <td>185</td>\n",
       "      <td>Con goles de Fabricio Pedrozo y Adrián Martíne...</td>\n",
       "      <td>10 de octubre de 2017</td>\n",
       "      <td>https://images.pagina12.com.ar/styles/width960...</td>\n",
       "      <td>NaN</td>\n",
       "      <td>Deportes</td>\n",
       "      <td>River ya tiene rival</td>\n",
       "      <td>https://www.pagina12.com.ar/68168-river-ya-tie...</td>\n",
       "      <td>1</td>\n",
       "    </tr>\n",
       "    <tr>\n",
       "      <th>31</th>\n",
       "      <td>31</td>\n",
       "      <td>Lucía Montenegro tiene 12 años y todos los d...</td>\n",
       "      <td>10/10/2017</td>\n",
       "      <td>//images.clarin.com/2017/10/10/HJO6CU5hb_930x5...</td>\n",
       "      <td>Lucía Montenegro vive en un aislado paraje de ...</td>\n",
       "      <td>/sociedad/</td>\n",
       "      <td>El esfuerzo de Lucía: tiene 12 años, es ciega ...</td>\n",
       "      <td>http://www.clarin.com/sociedad/esfuerzo-lucia-...</td>\n",
       "      <td>0</td>\n",
       "    </tr>\n",
       "    <tr>\n",
       "      <th>264</th>\n",
       "      <td>264</td>\n",
       "      <td>Mide un metro sesenta, usa un anillo de oro,...</td>\n",
       "      <td>10/10/2017</td>\n",
       "      <td>//images.clarin.com/2017/10/10/r1wnrc92W_930x5...</td>\n",
       "      <td>Aunque los jugadores no lo saben, Manuel, uno ...</td>\n",
       "      <td>/deportes/</td>\n",
       "      <td>Ecuador-Argentina: la Selección va a contar co...</td>\n",
       "      <td>http://www.clarin.com/deportes/futbol/ecuador-...</td>\n",
       "      <td>0</td>\n",
       "    </tr>\n",
       "  </tbody>\n",
       "</table>\n",
       "</div>"
      ],
      "text/plain": [
       "     Unnamed: 0                                             cuerpo  \\\n",
       "72           72  “No puede ser que la lógica sea que cada gobie...   \n",
       "189         189  No hay que ser Julio Verne para imaginar qué v...   \n",
       "185         185  Con goles de Fabricio Pedrozo y Adrián Martíne...   \n",
       "31           31    Lucía Montenegro tiene 12 años y todos los d...   \n",
       "264         264    Mide un metro sesenta, usa un anillo de oro,...   \n",
       "\n",
       "                fecha_hora                                             imagen  \\\n",
       "72   09 de octubre de 2017  https://images.pagina12.com.ar/styles/focal_16...   \n",
       "189  10 de octubre de 2017  https://images.pagina12.com.ar/styles/focal_16...   \n",
       "185  10 de octubre de 2017  https://images.pagina12.com.ar/styles/width960...   \n",
       "31             10/10/2017   //images.clarin.com/2017/10/10/HJO6CU5hb_930x5...   \n",
       "264            10/10/2017   //images.clarin.com/2017/10/10/r1wnrc92W_930x5...   \n",
       "\n",
       "                                               resumen  suplemento  \\\n",
       "72                                                 NaN     El país   \n",
       "189                                                NaN    Deportes   \n",
       "185                                                NaN    Deportes   \n",
       "31   Lucía Montenegro vive en un aislado paraje de ...  /sociedad/   \n",
       "264  Aunque los jugadores no lo saben, Manuel, uno ...  /deportes/   \n",
       "\n",
       "                                                titulo  \\\n",
       "72                               El ajuste en la salud   \n",
       "189                  La gran noche de la Patria Grande   \n",
       "185                               River ya tiene rival   \n",
       "31   El esfuerzo de Lucía: tiene 12 años, es ciega ...   \n",
       "264  Ecuador-Argentina: la Selección va a contar co...   \n",
       "\n",
       "                                                   url  class  \n",
       "72   https://www.pagina12.com.ar/67982-el-ajuste-en...      1  \n",
       "189  https://www.pagina12.com.ar/68120-la-gran-noch...      1  \n",
       "185  https://www.pagina12.com.ar/68168-river-ya-tie...      1  \n",
       "31   http://www.clarin.com/sociedad/esfuerzo-lucia-...      0  \n",
       "264  http://www.clarin.com/deportes/futbol/ecuador-...      0  "
      ]
     },
     "execution_count": 4,
     "metadata": {},
     "output_type": "execute_result"
    }
   ],
   "source": [
    "df.sample(5)"
   ]
  },
  {
   "cell_type": "markdown",
   "metadata": {},
   "source": [
    "### 1. Limpieza\n",
    "\n",
    "#### 1.1 Faltantes\n",
    "\n",
    "A partir del dataset observamos que los campos que probablemente contengan el vocabulario relevante son \"cuerpo\", \"título\" y \"resumen\".\n",
    "Sacar del análisis los registros que no tienen cuerpo o título disponible y completar los resúmenes faltantes con una campo en blanco\n"
   ]
  },
  {
   "cell_type": "code",
   "execution_count": 5,
   "metadata": {
    "collapsed": true
   },
   "outputs": [],
   "source": [
    "df = df[df['cuerpo'].notnull()].copy()"
   ]
  },
  {
   "cell_type": "code",
   "execution_count": 6,
   "metadata": {
    "collapsed": true
   },
   "outputs": [],
   "source": [
    "df = df[df['titulo'].notnull()].copy()"
   ]
  },
  {
   "cell_type": "code",
   "execution_count": 7,
   "metadata": {
    "collapsed": true
   },
   "outputs": [],
   "source": [
    "df['resumen'].fillna('',inplace=True)"
   ]
  },
  {
   "cell_type": "markdown",
   "metadata": {},
   "source": [
    "#### 1.2 Suplementos relevantes\n",
    "\n",
    "Para mejorar la clasificación es conveniente retirar las secciones donde los dos diarios utilizan un vocabulario similar y muy específico del dominio como, por ejemplo, las relacionadas a deportes."
   ]
  },
  {
   "cell_type": "code",
   "execution_count": 8,
   "metadata": {
    "collapsed": true
   },
   "outputs": [],
   "source": [
    "# Filtramos las noticias relacionadas a deportes\n",
    "df = df[df['suplemento'].str.lower().str.contains('deportes')==False].copy()"
   ]
  },
  {
   "cell_type": "code",
   "execution_count": 9,
   "metadata": {},
   "outputs": [
    {
     "data": {
      "text/plain": [
       "El país                  65\n",
       "Sociedad                 24\n",
       "Economía                 17\n",
       "El mundo                 17\n",
       "/revista-enie/           10\n",
       "/viva/                   10\n",
       "/economia/               10\n",
       "/viajes/                 10\n",
       "/sociedad/               10\n",
       "/lo-ultimo/              10\n",
       "/cultura/                10\n",
       "/buena-vida/             10\n",
       "/espectaculos/musica/    10\n",
       "/autos/                  10\n",
       "/espectaculos/cine/      10\n",
       "/rural/                  10\n",
       "/politica/               10\n",
       "/espectaculos/teatro/    10\n",
       "/espectaculos/fama/      10\n",
       "/cartas_al_pais/         10\n",
       "/ciudades/               10\n",
       "/entremujeres/           10\n",
       "/espectaculos/tv/        10\n",
       "/espectaculos/           10\n",
       "/policiales/             10\n",
       "/opinion/                10\n",
       "/arq/                    10\n",
       "/br/                     10\n",
       "/tecnologia/              9\n",
       "/mundo/                   8\n",
       "Universidad               5\n",
       "Plástica                  4\n",
       "Contratapa                2\n",
       "/si/                      1\n",
       "Name: suplemento, dtype: int64"
      ]
     },
     "execution_count": 9,
     "metadata": {},
     "output_type": "execute_result"
    }
   ],
   "source": [
    "df['suplemento'].value_counts()"
   ]
  },
  {
   "cell_type": "markdown",
   "metadata": {},
   "source": [
    "#### 1.3 Corpus\n",
    "\n",
    "Construir la columna sobre la cual vamos a predecir concatenando el título, resumen y cuerpo de las distintas noticias."
   ]
  },
  {
   "cell_type": "code",
   "execution_count": 10,
   "metadata": {
    "collapsed": true
   },
   "outputs": [],
   "source": [
    "df['full'] = df['cuerpo'].astype('str') + df['titulo'] + df['resumen']"
   ]
  },
  {
   "cell_type": "markdown",
   "metadata": {},
   "source": [
    "#### 1.4 Normalización del texto\n",
    "\n",
    "Primero es conveniente pasar todo el corpus a letras minúsculas.\n",
    "\n",
    "Para mejorar el clasificador es importante sacar todos los acentos que pueden generar diferencias artificiales entre palabras según estén o no puestos. Hint: Utilizar el módulo unidecode\n",
    "\n",
    "Una vez retirados los acentos, quitar todos los signos de puntuación para dejar únicamente palabras. Hint: utilizar una expresión regular, por ejemplo, r'([^\\s\\w]|_)+' para reemplazar todo lo que no sean palabras."
   ]
  },
  {
   "cell_type": "code",
   "execution_count": 11,
   "metadata": {
    "collapsed": true
   },
   "outputs": [],
   "source": [
    "df['full'] = df['full'].str.lower()"
   ]
  },
  {
   "cell_type": "code",
   "execution_count": 12,
   "metadata": {
    "collapsed": true
   },
   "outputs": [],
   "source": [
    "from unidecode import unidecode\n",
    "df['full'] = df['full'].apply(unidecode)"
   ]
  },
  {
   "cell_type": "code",
   "execution_count": 13,
   "metadata": {},
   "outputs": [
    {
     "data": {
      "text/plain": [
       "16       de traje, sentado atras de amado boudou y si...\n",
       "163    cristina kirchner no hizo referencia ayer a la...\n",
       "88       el reconocimiento publico del hungaro robert...\n",
       "Name: full, dtype: object"
      ]
     },
     "execution_count": 13,
     "metadata": {},
     "output_type": "execute_result"
    }
   ],
   "source": [
    "df['full'].sample(3)"
   ]
  },
  {
   "cell_type": "code",
   "execution_count": 14,
   "metadata": {
    "collapsed": true
   },
   "outputs": [],
   "source": [
    "import re\n",
    "df['full'] = df['full'].apply(lambda x: re.sub(r'([^\\s\\w]|_)+', '', x))"
   ]
  },
  {
   "cell_type": "code",
   "execution_count": 15,
   "metadata": {},
   "outputs": [
    {
     "data": {
      "text/plain": [
       "156    el juez federal claudio bonadio ordeno ayer qu...\n",
       "212    los separatistas se preparan para una jornada ...\n",
       "0        el ministerio de agroindustria de la nacion ...\n",
       "Name: full, dtype: object"
      ]
     },
     "execution_count": 15,
     "metadata": {},
     "output_type": "execute_result"
    }
   ],
   "source": [
    "df['full'].sample(3)"
   ]
  },
  {
   "cell_type": "markdown",
   "metadata": {},
   "source": [
    "## 2. Modelo\n",
    "\n",
    "Vectorizar el corpus resultante con TF-IDF y aplicar un modelo Naive Bayes con un split simple entre train y test. \n",
    "<br />\n",
    "¿Cuál es la dimensión de la matriz de features? ¿Cuál es el accuracy obtenido? <br />\n",
    "Dibujar la matriz de confusión."
   ]
  },
  {
   "cell_type": "code",
   "execution_count": 16,
   "metadata": {
    "collapsed": true
   },
   "outputs": [],
   "source": [
    "from sklearn.model_selection import train_test_split\n",
    "\n",
    "X_train, X_test, y_train, y_test = train_test_split(\n",
    "    df['full'], df['class'], test_size=0.33, random_state=42) "
   ]
  },
  {
   "cell_type": "code",
   "execution_count": 19,
   "metadata": {},
   "outputs": [
    {
     "data": {
      "text/plain": [
       "(262, 22587)"
      ]
     },
     "execution_count": 19,
     "metadata": {},
     "output_type": "execute_result"
    }
   ],
   "source": [
    "# Sólo para chequear el tamaño de la matriz de features\n",
    "from sklearn.feature_extraction.text import TfidfVectorizer\n",
    "m1 = TfidfVectorizer()\n",
    "X_train_vec = m1.fit_transform(X_train)\n",
    "X_train_vec.shape"
   ]
  },
  {
   "cell_type": "code",
   "execution_count": 20,
   "metadata": {
    "collapsed": true
   },
   "outputs": [],
   "source": [
    "from sklearn.feature_extraction.text import TfidfVectorizer\n",
    "from sklearn.naive_bayes import MultinomialNB\n",
    "from sklearn.pipeline import make_pipeline\n",
    "\n",
    "model = make_pipeline(TfidfVectorizer(), MultinomialNB())"
   ]
  },
  {
   "cell_type": "code",
   "execution_count": 21,
   "metadata": {
    "collapsed": true
   },
   "outputs": [],
   "source": [
    "model.fit(X_train, y_train)\n",
    "labels = model.predict(X_test)"
   ]
  },
  {
   "cell_type": "code",
   "execution_count": 22,
   "metadata": {},
   "outputs": [
    {
     "data": {
      "text/plain": [
       "array([0, 0, 0, 0, 0, 0, 0, 0, 0, 0, 0, 0, 0, 0, 0, 0, 0, 0, 0, 0, 0, 0, 0,\n",
       "       0, 0, 0, 0, 0, 0, 0, 0, 0, 0, 0, 0, 0, 0, 0, 0, 0, 0, 0, 0, 0, 0, 0,\n",
       "       0, 0, 0, 0, 0, 0, 0, 0, 0, 0, 0, 0, 0, 0, 0, 0, 0, 0, 0, 0, 0, 0, 0,\n",
       "       0, 0, 0, 0, 0, 0, 0, 0, 0, 0, 0, 0, 0, 0, 0, 0, 0, 0, 0, 0, 0, 0, 0,\n",
       "       0, 0, 0, 0, 0, 0, 0, 0, 0, 0, 0, 0, 0, 0, 0, 0, 0, 0, 0, 0, 0, 0, 0,\n",
       "       0, 0, 0, 0, 0, 0, 0, 0, 0, 0, 0, 0, 0, 0, 0])"
      ]
     },
     "execution_count": 22,
     "metadata": {},
     "output_type": "execute_result"
    }
   ],
   "source": [
    "labels"
   ]
  },
  {
   "cell_type": "code",
   "execution_count": 23,
   "metadata": {},
   "outputs": [
    {
     "data": {
      "text/plain": [
       "0.69230769230769229"
      ]
     },
     "execution_count": 23,
     "metadata": {},
     "output_type": "execute_result"
    }
   ],
   "source": [
    "from sklearn.metrics import accuracy_score\n",
    "accuracy_score(y_test, labels)"
   ]
  },
  {
   "cell_type": "code",
   "execution_count": 24,
   "metadata": {},
   "outputs": [
    {
     "data": {
      "image/png": "[encoded data removed]",
      "text/plain": [
       "<matplotlib.figure.Figure at 0x7f43e67bb320>"
      ]
     },
     "metadata": {},
     "output_type": "display_data"
    }
   ],
   "source": [
    "from sklearn.metrics import confusion_matrix\n",
    "import seaborn as sns;\n",
    "import matplotlib.pyplot as plt\n",
    "%matplotlib inline\n",
    "mat = confusion_matrix(y_test, labels)\n",
    "sns.heatmap(mat.T, square=True, annot=True, fmt='d', cbar=False,\n",
    "            xticklabels=['Clarin','Pagina'], yticklabels=['Clarin','Pagina'])\n",
    "plt.xlabel('true label')\n",
    "plt.ylabel('predicted label');"
   ]
  },
  {
   "cell_type": "markdown",
   "metadata": {},
   "source": [
    "## 3. Reducción de la dimensionalidad\n",
    "\n",
    "¿Cuál es la relación entre la cantidad de features y la cantidad de casos de entrenamiento? De acuerdo a la maldición de la dimensionalidad esta relación es un problema.<br/>\n",
    "Una de las técnicas más comunes para reducir dimensiones es utilizar \"stopwords\", una lista con las palabras de cada idioma que no tienen un peso semántico importante. <br />\n",
    "Entrenen nuevamente el modelo quitando las stopwords del español que se encuentran en el archivo \"stopwords.csv\". <br />\n",
    "¿Qué pasa con la cantidad de dimensiones de la matriz de features? ¿Y con el accuracy?"
   ]
  },
  {
   "cell_type": "code",
   "execution_count": 28,
   "metadata": {
    "collapsed": true
   },
   "outputs": [],
   "source": [
    "stopwords = pd.read_csv('stopwords.csv',header=None)[0]"
   ]
  },
  {
   "cell_type": "code",
   "execution_count": 29,
   "metadata": {
    "collapsed": true
   },
   "outputs": [],
   "source": [
    "from unidecode import unidecode\n",
    "stopwords = stopwords.apply(unidecode) "
   ]
  },
  {
   "cell_type": "code",
   "execution_count": 30,
   "metadata": {
    "collapsed": true
   },
   "outputs": [],
   "source": [
    "# Es importante que las stopwords se encuentren en una lista\n",
    "stopwords = list(stopwords)"
   ]
  },
  {
   "cell_type": "code",
   "execution_count": 31,
   "metadata": {},
   "outputs": [
    {
     "data": {
      "text/plain": [
       "(262, 22385)"
      ]
     },
     "execution_count": 31,
     "metadata": {},
     "output_type": "execute_result"
    }
   ],
   "source": [
    "# Sólo para chequear el tamaño de la matriz de features\n",
    "m1 = TfidfVectorizer(stop_words = list(stopwords))\n",
    "X_train_vec = m1.fit_transform(X_train)\n",
    "X_train_vec.shape"
   ]
  },
  {
   "cell_type": "code",
   "execution_count": 32,
   "metadata": {
    "collapsed": true
   },
   "outputs": [],
   "source": [
    "model = make_pipeline(TfidfVectorizer(stop_words = list(stopwords)), MultinomialNB())"
   ]
  },
  {
   "cell_type": "code",
   "execution_count": 33,
   "metadata": {
    "collapsed": true
   },
   "outputs": [],
   "source": [
    "model.fit(X_train, y_train)\n",
    "labels = model.predict(X_test)"
   ]
  },
  {
   "cell_type": "code",
   "execution_count": 34,
   "metadata": {},
   "outputs": [
    {
     "data": {
      "text/plain": [
       "0.7615384615384615"
      ]
     },
     "execution_count": 34,
     "metadata": {},
     "output_type": "execute_result"
    }
   ],
   "source": [
    "accuracy_score(y_test, labels)"
   ]
  },
  {
   "cell_type": "code",
   "execution_count": 35,
   "metadata": {},
   "outputs": [
    {
     "data": {
      "image/png": "[encoded data removed]",
      "text/plain": [
       "<matplotlib.figure.Figure at 0x7f43e88a4e48>"
      ]
     },
     "metadata": {},
     "output_type": "display_data"
    }
   ],
   "source": [
    "from sklearn.metrics import confusion_matrix\n",
    "import seaborn as sns;\n",
    "import matplotlib.pyplot as plt\n",
    "%matplotlib inline\n",
    "mat = confusion_matrix(y_test, labels)\n",
    "sns.heatmap(mat.T, square=True, annot=True, fmt='d', cbar=False,\n",
    "            xticklabels=['Clarin','Pagina'], yticklabels=['Clarin','Pagina'])\n",
    "plt.xlabel('true label')\n",
    "plt.ylabel('predicted label');"
   ]
  },
  {
   "cell_type": "markdown",
   "metadata": {},
   "source": [
    "## 4. Avanzando en la reducción de dimensiones\n",
    "\n",
    "El modelo mejora cuando quitamos las stopwords pero todavía tenemos una cantidad de dimensiones demasiado alta para \n",
    "la cantidad de datos que tenemos.\n",
    "\n",
    "Pensemos lo siguiente ¿Qué valor tienen las palabras que aparecen una o dos veces en todo el corpus a la hora de discriminar? Para remover del análisis las palabras que ocurren menos de determinada cantidad de veces, la clase TfidfVectorizer tiene un parámetro min_df. \n",
    "\n",
    "Prueben setear el parámetro min_df en 6 y volver a correr el modelo.\n",
    "<br />\n",
    "<strong>\n",
    "¿A cuánto se reduce la dimensión de la matriz de features?\n",
    "<br />\n",
    "¿Cuánto mejora la performance del algoritmo?\n",
    "<strong />"
   ]
  },
  {
   "cell_type": "code",
   "execution_count": 83,
   "metadata": {
    "collapsed": true
   },
   "outputs": [],
   "source": [
    "model = make_pipeline(TfidfVectorizer(stop_words = list(stopwords), min_df=6), MultinomialNB())"
   ]
  },
  {
   "cell_type": "code",
   "execution_count": 84,
   "metadata": {
    "collapsed": true
   },
   "outputs": [],
   "source": [
    "model.fit(X_train, y_train)\n",
    "labels = model.predict(X_test)"
   ]
  },
  {
   "cell_type": "code",
   "execution_count": 85,
   "metadata": {
    "collapsed": true
   },
   "outputs": [],
   "source": [
    "model_vec2 = TfidfVectorizer(stop_words = list(stopwords), min_df=10)"
   ]
  },
  {
   "cell_type": "code",
   "execution_count": 86,
   "metadata": {
    "collapsed": true
   },
   "outputs": [],
   "source": [
    "X_train_vec = model_vec2.fit_transform(X_train)"
   ]
  },
  {
   "cell_type": "code",
   "execution_count": 87,
   "metadata": {},
   "outputs": [
    {
     "data": {
      "text/plain": [
       "(262, 1206)"
      ]
     },
     "execution_count": 87,
     "metadata": {},
     "output_type": "execute_result"
    }
   ],
   "source": [
    "X_train_vec.shape"
   ]
  },
  {
   "cell_type": "code",
   "execution_count": 88,
   "metadata": {},
   "outputs": [
    {
     "data": {
      "text/plain": [
       "0.84615384615384615"
      ]
     },
     "execution_count": 88,
     "metadata": {},
     "output_type": "execute_result"
    }
   ],
   "source": [
    "accuracy_score(y_test, labels)"
   ]
  },
  {
   "cell_type": "code",
   "execution_count": 89,
   "metadata": {},
   "outputs": [
    {
     "data": {
      "image/png": "[encoded data removed]",
      "text/plain": [
       "<matplotlib.figure.Figure at 0x7f43e2db0d68>"
      ]
     },
     "metadata": {},
     "output_type": "display_data"
    }
   ],
   "source": [
    "from sklearn.metrics import confusion_matrix\n",
    "import seaborn as sns;\n",
    "import matplotlib.pyplot as plt\n",
    "%matplotlib inline\n",
    "mat = confusion_matrix(y_test, labels)\n",
    "sns.heatmap(mat.T, square=True, annot=True, fmt='d', cbar=False,\n",
    "            xticklabels=['Clarin','Pagina'], yticklabels=['Clarin','Pagina'])\n",
    "plt.xlabel('true label')\n",
    "plt.ylabel('predicted label');"
   ]
  },
  {
   "cell_type": "code",
   "execution_count": 96,
   "metadata": {},
   "outputs": [
    {
     "name": "stdout",
     "output_type": "stream",
     "text": [
      "Página 12\n"
     ]
    }
   ],
   "source": [
    "pred = model.predict(['La candidata a senadora de Unidad Ciudadana dijo que la decisión de la Sala II de la Cámara Federal porteña ordenar la detención de Julio De Vido es parte de la campaña impulsada por el macrismo. En una entrevista con Telefe cuestionó también al Gobierno por la defensa de la Gendarmería frente a la desaparición de Santiago Maldonado.'])\n",
    "print('Clarin' if pred[0] == 0 else 'Página 12')"
   ]
  },
  {
   "cell_type": "code",
   "execution_count": 99,
   "metadata": {},
   "outputs": [
    {
     "name": "stdout",
     "output_type": "stream",
     "text": [
      "Clarin\n"
     ]
    }
   ],
   "source": [
    "pred = model.predict(['La Cámara exigió la detención de De Vido por su influencia para destruir pruebas '])\n",
    "print('Clarin' if pred[0] == 0 else 'Página 12')"
   ]
  },
  {
   "cell_type": "code",
   "execution_count": null,
   "metadata": {
    "collapsed": true
   },
   "outputs": [],
   "source": []
  }
 ],
 "metadata": {
  "kernelspec": {
   "display_name": "Python 3",
   "language": "python",
   "name": "python3"
  },
  "language_info": {
   "codemirror_mode": {
    "name": "ipython",
    "version": 3
   },
   "file_extension": ".py",
   "mimetype": "text/x-python",
   "name": "python",
   "nbconvert_exporter": "python",
   "pygments_lexer": "ipython3",
   "version": "3.6.1"
  }
 },
 "nbformat": 4,
 "nbformat_minor": 2
}
