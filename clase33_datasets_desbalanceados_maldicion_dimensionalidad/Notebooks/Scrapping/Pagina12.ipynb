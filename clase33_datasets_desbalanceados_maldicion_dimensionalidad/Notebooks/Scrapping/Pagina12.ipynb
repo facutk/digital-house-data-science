{
 "cells": [
  {
   "cell_type": "code",
   "execution_count": 1,
   "metadata": {
    "collapsed": true
   },
   "outputs": [],
   "source": [
    "#Importamos las librerias necesarias\n",
    "import requests\n",
    "import re"
   ]
  },
  {
   "cell_type": "code",
   "execution_count": 2,
   "metadata": {
    "collapsed": true
   },
   "outputs": [],
   "source": [
    "# Setear el header\n",
    "head = {'user-agent': 'Mozilla/5.0 (Windows NT 6.3; Win64; x64) AppleWebKit/537.36 (KHTML, like Gecko)'\n",
    "            ' Chrome/61.0.3163.100 Safari/537.36'}"
   ]
  },
  {
   "cell_type": "code",
   "execution_count": 3,
   "metadata": {
    "collapsed": true
   },
   "outputs": [],
   "source": [
    "url = 'https://www.pagina12.com.ar/breakingnews.xml'\n",
    "resp = requests.get(url, headers = head)"
   ]
  },
  {
   "cell_type": "code",
   "execution_count": 4,
   "metadata": {
    "collapsed": false
   },
   "outputs": [],
   "source": [
    "from bs4 import BeautifulSoup"
   ]
  },
  {
   "cell_type": "code",
   "execution_count": 5,
   "metadata": {
    "collapsed": false
   },
   "outputs": [],
   "source": [
    "soup = BeautifulSoup(resp.text, 'xml')"
   ]
  },
  {
   "cell_type": "code",
   "execution_count": 6,
   "metadata": {
    "collapsed": false
   },
   "outputs": [],
   "source": [
    "url_nots = soup.findAll('loc')"
   ]
  },
  {
   "cell_type": "code",
   "execution_count": 7,
   "metadata": {
    "collapsed": true
   },
   "outputs": [],
   "source": [
    "def parsear_noticia(url):\n",
    "    try:\n",
    "        noticia = {}\n",
    "        resp = requests.get(url, headers = head)\n",
    "        soup_noticia = BeautifulSoup(resp.text, 'html.parser')\n",
    "        # obtener la fecha\n",
    "        noticia['url'] = url\n",
    "        # obtener el cuerpo\n",
    "        try:\n",
    "            noticia['cuerpo'] = soup_noticia.findAll('div',{'class':'article-text'})[0].get_text()\n",
    "        except:\n",
    "            noticia['cuerpo'] = ''\n",
    "        try:\n",
    "            noticia['fecha_hora'] = soup_noticia.findAll('span',{'pubdate':'pubdate'})[0].get_text()\n",
    "        except:\n",
    "            noticia['fecha_hora'] = ''\n",
    "        # título\n",
    "        try:\n",
    "            noticia['titulo'] = soup_noticia.findAll('div',{'class':'article-title'})[0].get_text()\n",
    "        except:\n",
    "            noticia['titulo'] = ''\n",
    "        # resumen\n",
    "        try:\n",
    "            noticia['resumen'] = soup_noticia.findAll('div',{'class':'article-summary'})[0].get_text()\n",
    "        except:\n",
    "            noticia['resumen'] = ''\n",
    "        # imagen\n",
    "        try:\n",
    "            noticia['imagen'] = soup_noticia.findAll('img',{'class':'show-for-large-only'})[0].get('data-src')\n",
    "        except:\n",
    "            noticia['imagen'] = ''\n",
    "        # imagen\n",
    "        try:\n",
    "            noticia['suplemento'] = soup_noticia.findAll('div',{'class':'suplement'})[0].get_text()\n",
    "        except:\n",
    "            noticia['suplemento'] = ''    \n",
    "        return noticia\n",
    "    except:\n",
    "        return {'url':url,'cuerpo':'','fecha_hora':'','titulo':'','resumen':'','imagen':'', 'suplemento':''}\n",
    "    "
   ]
  },
  {
   "cell_type": "code",
   "execution_count": 8,
   "metadata": {
    "collapsed": true
   },
   "outputs": [],
   "source": [
    "noticias_pag_12 = []\n",
    "for url_not in url_nots:\n",
    "    noticias_pag_12.append(parsear_noticia(url_not.text))"
   ]
  },
  {
   "cell_type": "code",
   "execution_count": 9,
   "metadata": {
    "collapsed": false
   },
   "outputs": [
    {
     "data": {
      "text/plain": [
       "251"
      ]
     },
     "execution_count": 9,
     "metadata": {},
     "output_type": "execute_result"
    }
   ],
   "source": [
    "len(noticias_pag_12)"
   ]
  },
  {
   "cell_type": "code",
   "execution_count": 10,
   "metadata": {
    "collapsed": false
   },
   "outputs": [],
   "source": [
    "import pandas as pd\n",
    "df = pd.DataFrame(noticias_pag_12)"
   ]
  },
  {
   "cell_type": "code",
   "execution_count": 11,
   "metadata": {
    "collapsed": false
   },
   "outputs": [
    {
     "data": {
      "text/html": [
       "<div>\n",
       "<table border=\"1\" class=\"dataframe\">\n",
       "  <thead>\n",
       "    <tr style=\"text-align: right;\">\n",
       "      <th></th>\n",
       "      <th>cuerpo</th>\n",
       "      <th>fecha_hora</th>\n",
       "      <th>imagen</th>\n",
       "      <th>resumen</th>\n",
       "      <th>suplemento</th>\n",
       "      <th>titulo</th>\n",
       "      <th>url</th>\n",
       "    </tr>\n",
       "  </thead>\n",
       "  <tbody>\n",
       "    <tr>\n",
       "      <th>0</th>\n",
       "      <td>Los Pumas cerraron esta noche su participación...</td>\n",
       "      <td>07 de octubre de 2017</td>\n",
       "      <td>https://images.pagina12.com.ar/styles/focal_16...</td>\n",
       "      <td></td>\n",
       "      <td>El país</td>\n",
       "      <td>Y fueron seis derrotas al hilo</td>\n",
       "      <td>https://www.pagina12.com.ar/67743-y-fueron-sei...</td>\n",
       "    </tr>\n",
       "    <tr>\n",
       "      <th>1</th>\n",
       "      <td>En un texto breve de 1784, Immanuel Kant reali...</td>\n",
       "      <td>08 de octubre de 2017</td>\n",
       "      <td>https://images.pagina12.com.ar/styles/focal_16...</td>\n",
       "      <td>Fue el filósofo de la Razón y también el que p...</td>\n",
       "      <td></td>\n",
       "      <td>Yes, we Kant</td>\n",
       "      <td>https://www.pagina12.com.ar/67649-yes-we-kant</td>\n",
       "    </tr>\n",
       "    <tr>\n",
       "      <th>2</th>\n",
       "      <td>Duda que la paz esté realmente enraizada en la...</td>\n",
       "      <td>08 de octubre de 2017</td>\n",
       "      <td>https://images.pagina12.com.ar/styles/focal_16...</td>\n",
       "      <td>Antes de entregar el manuscrito de Patria a la...</td>\n",
       "      <td></td>\n",
       "      <td>El conflicto armado</td>\n",
       "      <td>https://www.pagina12.com.ar/67650-el-conflicto...</td>\n",
       "    </tr>\n",
       "    <tr>\n",
       "      <th>3</th>\n",
       "      <td>Quizás con un perfil bastante bajo y nada estr...</td>\n",
       "      <td>08 de octubre de 2017</td>\n",
       "      <td>https://images.pagina12.com.ar/styles/focal_16...</td>\n",
       "      <td>Con bajo perfil y una capacidad de producir te...</td>\n",
       "      <td></td>\n",
       "      <td>Los fugitivos</td>\n",
       "      <td>https://www.pagina12.com.ar/67651-los-fugitivos</td>\n",
       "    </tr>\n",
       "    <tr>\n",
       "      <th>4</th>\n",
       "      <td>Desde Una idea genial, su primera novela, Inés...</td>\n",
       "      <td>08 de octubre de 2017</td>\n",
       "      <td>https://images.pagina12.com.ar/styles/focal_16...</td>\n",
       "      <td>Escribe cuentos desde 1998 y después de public...</td>\n",
       "      <td></td>\n",
       "      <td>Así nos reímos todos</td>\n",
       "      <td>https://www.pagina12.com.ar/67652-asi-nos-reim...</td>\n",
       "    </tr>\n",
       "  </tbody>\n",
       "</table>\n",
       "</div>"
      ],
      "text/plain": [
       "                                              cuerpo             fecha_hora  \\\n",
       "0  Los Pumas cerraron esta noche su participación...  07 de octubre de 2017   \n",
       "1  En un texto breve de 1784, Immanuel Kant reali...  08 de octubre de 2017   \n",
       "2  Duda que la paz esté realmente enraizada en la...  08 de octubre de 2017   \n",
       "3  Quizás con un perfil bastante bajo y nada estr...  08 de octubre de 2017   \n",
       "4  Desde Una idea genial, su primera novela, Inés...  08 de octubre de 2017   \n",
       "\n",
       "                                              imagen  \\\n",
       "0  https://images.pagina12.com.ar/styles/focal_16...   \n",
       "1  https://images.pagina12.com.ar/styles/focal_16...   \n",
       "2  https://images.pagina12.com.ar/styles/focal_16...   \n",
       "3  https://images.pagina12.com.ar/styles/focal_16...   \n",
       "4  https://images.pagina12.com.ar/styles/focal_16...   \n",
       "\n",
       "                                             resumen suplemento  \\\n",
       "0                                                       El país   \n",
       "1  Fue el filósofo de la Razón y también el que p...              \n",
       "2  Antes de entregar el manuscrito de Patria a la...              \n",
       "3  Con bajo perfil y una capacidad de producir te...              \n",
       "4  Escribe cuentos desde 1998 y después de public...              \n",
       "\n",
       "                           titulo  \\\n",
       "0  Y fueron seis derrotas al hilo   \n",
       "1                    Yes, we Kant   \n",
       "2             El conflicto armado   \n",
       "3                   Los fugitivos   \n",
       "4            Así nos reímos todos   \n",
       "\n",
       "                                                 url  \n",
       "0  https://www.pagina12.com.ar/67743-y-fueron-sei...  \n",
       "1      https://www.pagina12.com.ar/67649-yes-we-kant  \n",
       "2  https://www.pagina12.com.ar/67650-el-conflicto...  \n",
       "3    https://www.pagina12.com.ar/67651-los-fugitivos  \n",
       "4  https://www.pagina12.com.ar/67652-asi-nos-reim...  "
      ]
     },
     "execution_count": 11,
     "metadata": {},
     "output_type": "execute_result"
    }
   ],
   "source": [
    "df.head()"
   ]
  },
  {
   "cell_type": "code",
   "execution_count": 14,
   "metadata": {
    "collapsed": false
   },
   "outputs": [],
   "source": [
    "import time\n",
    "df.to_csv('pagina12' + time.strftime(\"%d-%m-%Y\") + '.csv',encoding = 'utf-8')"
   ]
  },
  {
   "cell_type": "code",
   "execution_count": 15,
   "metadata": {
    "collapsed": false
   },
   "outputs": [
    {
     "data": {
      "text/plain": [
       "(251, 7)"
      ]
     },
     "execution_count": 15,
     "metadata": {},
     "output_type": "execute_result"
    }
   ],
   "source": [
    "df.shape"
   ]
  },
  {
   "cell_type": "code",
   "execution_count": null,
   "metadata": {
    "collapsed": true
   },
   "outputs": [],
   "source": []
  }
 ],
 "metadata": {
  "kernelspec": {
   "display_name": "Python 2",
   "language": "python",
   "name": "python2"
  },
  "language_info": {
   "codemirror_mode": {
    "name": "ipython",
    "version": 2
   },
   "file_extension": ".py",
   "mimetype": "text/x-python",
   "name": "python",
   "nbconvert_exporter": "python",
   "pygments_lexer": "ipython2",
   "version": "2.7.13"
  }
 },
 "nbformat": 4,
 "nbformat_minor": 0
}
