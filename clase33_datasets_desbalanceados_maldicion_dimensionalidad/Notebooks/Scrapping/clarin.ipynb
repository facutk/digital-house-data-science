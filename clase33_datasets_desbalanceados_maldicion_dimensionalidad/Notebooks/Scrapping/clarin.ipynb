{
 "cells": [
  {
   "cell_type": "code",
   "execution_count": 1,
   "metadata": {
    "collapsed": true
   },
   "outputs": [],
   "source": [
    "#Importamos las librerias necesarias\n",
    "import requests\n",
    "import re\n",
    "from bs4 import BeautifulSoup"
   ]
  },
  {
   "cell_type": "code",
   "execution_count": 2,
   "metadata": {
    "collapsed": true
   },
   "outputs": [],
   "source": [
    "# Setear el header\n",
    "head = {'user-agent': 'Mozilla/5.0 (Windows NT 6.3; Win64; x64) AppleWebKit/537.36 (KHTML, like Gecko)'\n",
    "            ' Chrome/61.0.3163.100 Safari/537.36'}"
   ]
  },
  {
   "cell_type": "code",
   "execution_count": 3,
   "metadata": {
    "collapsed": false
   },
   "outputs": [],
   "source": [
    "canales = [\n",
    "\"/lo-ultimo/\",\n",
    "\"/politica/\",\n",
    "\"/mundo/\",\n",
    "\"/sociedad/\",\n",
    "\"/policiales/\",\n",
    "\"/ciudades/\",\n",
    "\"/opinion/\",\n",
    "\"/cartas_al_pais/\",\n",
    "\"/cultura/\",\n",
    "\"/rural/\",\n",
    "\"economia/\",\n",
    "\"/tecnologia/\",\n",
    "\"/revista-enie/\",\n",
    "\"/viva/\",\n",
    "\"/br/\",\n",
    "\"/deportes/futbol/\",\n",
    "\"/deportes/ascenso/\",\n",
    "\"/deportes/futbol-internacional/\",\n",
    "\"/deportes/messi/\",\n",
    "\"/deportes/rugby/\",\n",
    "\"/deportes/tenis/\",\n",
    "\"/deportes/automovilismo/\",\n",
    "\"/deportes/basquet/\",\n",
    "\"/deportes/polideportivo/\",\n",
    "\"/deportes/turf/\",\n",
    "\"/deportes/boxeo/\",\n",
    "\"/deportes/hockey/\",\n",
    "\"/deportes/\",\n",
    "\"/espectaculos/fama/\",\n",
    "\"/espectaculos/tv/\",\n",
    "\"/espectaculos/cine/\",\n",
    "\"/espectaculos/musica/\",\n",
    "\"/espectaculos/teatro/\",\n",
    "\"/si/\",\n",
    "\"/espectaculos/\",\n",
    "\"/entremujeres/\",\n",
    "\"/autos/\",\n",
    "\"/buena-vida/\",\n",
    "\"/viajes/\",\n",
    "\"/arq/\"\n",
    "]"
   ]
  },
  {
   "cell_type": "code",
   "execution_count": 4,
   "metadata": {
    "collapsed": true
   },
   "outputs": [],
   "source": [
    "def scrapearCanal(canal):\n",
    "    url = 'https://www.clarin.com/rss' + canal\n",
    "    resp = requests.get(url, headers = head)\n",
    "    soup = BeautifulSoup(resp.text, 'xml')\n",
    "    noticias = scrapearSoup(soup, canal)\n",
    "    return noticias\n",
    "    "
   ]
  },
  {
   "cell_type": "code",
   "execution_count": 5,
   "metadata": {
    "collapsed": false
   },
   "outputs": [],
   "source": [
    "def scrapearSoup(soup, canal):\n",
    "    items = soup.findAll('item')\n",
    "    url_nots = []\n",
    "    for item in items:\n",
    "         url_nots += item.findAll('link')    \n",
    "    noticias = []\n",
    "    for url_not in url_nots:\n",
    "        noticias.append(parsearNoticia(url_not.text, canal))\n",
    "    return(noticias)"
   ]
  },
  {
   "cell_type": "code",
   "execution_count": 6,
   "metadata": {
    "collapsed": false
   },
   "outputs": [],
   "source": [
    "def parsearNoticia(url, canal):\n",
    "    try:\n",
    "        noticia = {}\n",
    "        resp = requests.get(url, headers = head)\n",
    "        soup_noticia = BeautifulSoup(resp.text, 'html.parser')\n",
    "        # obtener la fecha\n",
    "        noticia['url'] = url\n",
    "        # obtener el cuerpo\n",
    "        try:\n",
    "            noticia['cuerpo'] = soup_noticia.findAll('div',{'class':'body-nota'})[0].get_text()\n",
    "        except:\n",
    "            noticia['cuerpo'] = ''\n",
    "        try:\n",
    "            noticia['fecha_hora'] = soup_noticia.findAll('span',{'data-momento-format':'fecha_hora'})[0].get_text()\n",
    "        except:\n",
    "            noticia['fecha_hora'] = ''\n",
    "        # título\n",
    "        try:\n",
    "            noticia['titulo'] = soup_noticia.findAll('h1',{'id':'title'})[0].get_text()\n",
    "        except:\n",
    "            noticia['titulo'] = ''\n",
    "        # resumen\n",
    "        try:\n",
    "            noticia['resumen'] = soup_noticia.findAll('div',{'itemprop':'description'})[0].get_text()\n",
    "        except:\n",
    "            noticia['resumen'] = ''\n",
    "        # imagen\n",
    "        try:\n",
    "            noticia['imagen'] = soup_noticia.findAll('img',{'class':'img-responsive intelResolution'})[0].get('data-big')\n",
    "        except:\n",
    "            noticia['imagen'] = ''\n",
    "        return noticia\n",
    "        noticia['suplemento'] = canal\n",
    "    except:\n",
    "        return {'url':url,'cuerpo':'','fecha_hora':'','titulo':'','resumen':'','imagen':'', 'suplemento':canal}\n",
    "    "
   ]
  },
  {
   "cell_type": "code",
   "execution_count": 7,
   "metadata": {
    "collapsed": false
   },
   "outputs": [],
   "source": [
    "noticias = []\n",
    "for i in canales:\n",
    "    noticias += scrapearCanal(i)"
   ]
  },
  {
   "cell_type": "code",
   "execution_count": 8,
   "metadata": {
    "collapsed": false
   },
   "outputs": [
    {
     "data": {
      "text/plain": [
       "372"
      ]
     },
     "execution_count": 8,
     "metadata": {},
     "output_type": "execute_result"
    }
   ],
   "source": [
    "len(noticias)"
   ]
  },
  {
   "cell_type": "code",
   "execution_count": 9,
   "metadata": {
    "collapsed": false
   },
   "outputs": [
    {
     "data": {
      "text/plain": [
       "dict"
      ]
     },
     "execution_count": 9,
     "metadata": {},
     "output_type": "execute_result"
    }
   ],
   "source": [
    "type(noticias[0])"
   ]
  },
  {
   "cell_type": "code",
   "execution_count": 10,
   "metadata": {
    "collapsed": false
   },
   "outputs": [],
   "source": [
    "import pandas as pd\n",
    "df = pd.DataFrame(noticias)"
   ]
  },
  {
   "cell_type": "code",
   "execution_count": 12,
   "metadata": {
    "collapsed": false
   },
   "outputs": [
    {
     "data": {
      "text/plain": [
       "(372, 6)"
      ]
     },
     "execution_count": 12,
     "metadata": {},
     "output_type": "execute_result"
    }
   ],
   "source": [
    "df.shape"
   ]
  },
  {
   "cell_type": "code",
   "execution_count": 15,
   "metadata": {
    "collapsed": false
   },
   "outputs": [],
   "source": [
    "import time\n",
    "df.to_csv('clarin' + time.strftime(\"%d-%m-%Y\") + '.csv',encoding='utf-8')"
   ]
  },
  {
   "cell_type": "code",
   "execution_count": 16,
   "metadata": {
    "collapsed": false
   },
   "outputs": [
    {
     "data": {
      "text/plain": [
       "(372, 6)"
      ]
     },
     "execution_count": 16,
     "metadata": {},
     "output_type": "execute_result"
    }
   ],
   "source": [
    "df.shape"
   ]
  },
  {
   "cell_type": "code",
   "execution_count": null,
   "metadata": {
    "collapsed": true
   },
   "outputs": [],
   "source": []
  },
  {
   "cell_type": "code",
   "execution_count": null,
   "metadata": {
    "collapsed": true
   },
   "outputs": [],
   "source": []
  }
 ],
 "metadata": {
  "kernelspec": {
   "display_name": "Python 2",
   "language": "python",
   "name": "python2"
  },
  "language_info": {
   "codemirror_mode": {
    "name": "ipython",
    "version": 2
   },
   "file_extension": ".py",
   "mimetype": "text/x-python",
   "name": "python",
   "nbconvert_exporter": "python",
   "pygments_lexer": "ipython2",
   "version": "2.7.13"
  }
 },
 "nbformat": 4,
 "nbformat_minor": 0
}
