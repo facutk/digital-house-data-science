{
 "cells": [
  {
   "cell_type": "markdown",
   "metadata": {},
   "source": [
    "# PRACTICA GUIADA: Normalización de datos con Python"
   ]
  },
  {
   "cell_type": "code",
   "execution_count": null,
   "metadata": {
    "collapsed": true
   },
   "outputs": [],
   "source": [
    "%matplotlib inline\n",
    "import matplotlib.pyplot as plt\n",
    "import numpy as np\n",
    "import pandas as pd\n",
    "from sklearn import datasets, linear_model, preprocessing"
   ]
  },
  {
   "cell_type": "code",
   "execution_count": null,
   "metadata": {},
   "outputs": [],
   "source": [
    "# Cargamos el dataset de Boston\n",
    "boston = datasets.load_boston()\n",
    "df = pd.DataFrame(boston.data, columns=boston.feature_names)\n",
    "df.head()"
   ]
  },
  {
   "cell_type": "markdown",
   "metadata": {},
   "source": [
    "## Normalizamos los datos\n",
    "\n",
    "Veamos el efecto de escalar los datos eligiendo un par de variables que tienen una gran diferencia en escala."
   ]
  },
  {
   "cell_type": "code",
   "execution_count": null,
   "metadata": {},
   "outputs": [],
   "source": [
    "xs = df[\"NOX\"]\n",
    "ys = df[\"TAX\"]\n",
    "\n",
    "plt.scatter(xs, ys)\n",
    "plt.xlabel(\"NOX\")\n",
    "plt.ylabel(\"TAX\")\n",
    "plt.show()"
   ]
  },
  {
   "cell_type": "markdown",
   "metadata": {},
   "source": [
    "### Estandarización\n",
    "\n",
    "Apliquemos estandarización, transformando las variables para que tengan media 0 $(\\mu = 0)$ y desvío estándar 1 $(\\sigma = 1)$, aplicando la fórmula:\n",
    "\n",
    "$$ x' = \\frac{x - \\mu}{\\sigma}$$"
   ]
  },
  {
   "cell_type": "code",
   "execution_count": null,
   "metadata": {},
   "outputs": [],
   "source": [
    "xs = df[\"NOX\"]\n",
    "ys = df[\"TAX\"]\n",
    "plt.scatter(xs, ys, color='b')\n",
    "plt.xlabel(\"NOX\")\n",
    "plt.ylabel(\"TAX\")\n",
    "plt.show()\n",
    "\n",
    "xs = df[\"NOX\"]\n",
    "mean = np.mean(xs)\n",
    "std = np.std(xs)\n",
    "xs = [(x - mean) / std for x in xs]\n",
    "\n",
    "ys = df[\"TAX\"]\n",
    "mean = np.mean(ys)\n",
    "std = np.std(ys)\n",
    "ys = [(y - mean) / std for y in ys]\n",
    "\n",
    "plt.scatter(xs, ys, color='r')\n",
    "plt.xlabel(\"NOX standardized\")\n",
    "plt.ylabel(\"TAX standardized\")\n",
    "plt.show()"
   ]
  },
  {
   "cell_type": "markdown",
   "metadata": {},
   "source": [
    "Si observamos la forma del histograma de una variable individual, vemos que tampoco varía, únicamente cambia la escala en la que la variable está expresada."
   ]
  },
  {
   "cell_type": "code",
   "execution_count": null,
   "metadata": {},
   "outputs": [],
   "source": [
    "plt.figure(figsize=(12,4))\n",
    "ax1 = plt.subplot(121)\n",
    "ax1.set_title(\"Variable estandarizada\")\n",
    "ax1.hist(xs,bins=30);\n",
    "\n",
    "ax2 = plt.subplot(122)\n",
    "ax2.set_title(\"Variable sin estandarizar\")\n",
    "ax2.hist(df[\"NOX\"],bins=30);"
   ]
  },
  {
   "cell_type": "markdown",
   "metadata": {},
   "source": [
    "Cómo pueden ver, no cambiamos la forma de los datos, sino simplemente su escala. \n",
    "\n",
    "También podemos usar scikit-learn para estandarizar variables."
   ]
  },
  {
   "cell_type": "code",
   "execution_count": null,
   "metadata": {},
   "outputs": [],
   "source": [
    "from sklearn import preprocessing\n",
    "\n",
    "xs = preprocessing.scale(df[\"NOX\"])\n",
    "ys = preprocessing.scale(df[\"TAX\"])\n",
    "\n",
    "plt.scatter(xs, ys, color='r')\n",
    "plt.xlabel(\"NOX standardized\")\n",
    "plt.ylabel(\"TAX standardized\")\n",
    "plt.show()\n"
   ]
  },
  {
   "cell_type": "markdown",
   "metadata": {},
   "source": [
    "### Normalización Min-Max\n",
    "\n",
    "Probemos ahora esta otra forma de normalización, aplicando la siguiente fórmula:\n",
    "\n",
    "$$x' = \\frac{x - x_{min}}{x_{max} - x_{min}}$$"
   ]
  },
  {
   "cell_type": "code",
   "execution_count": null,
   "metadata": {},
   "outputs": [],
   "source": [
    "xs = df[\"NOX\"]\n",
    "ys = df[\"TAX\"]\n",
    "plt.scatter(xs, ys, color='b')\n",
    "plt.xlabel(\"NOX\")\n",
    "plt.ylabel(\"TAX\")\n",
    "plt.show()\n",
    "\n",
    "xs = df[\"NOX\"]\n",
    "xmin = np.min(xs)\n",
    "xmax = np.max(xs)\n",
    "xs = [(x - xmin) / (xmax - xmin) for x in xs]\n",
    "\n",
    "ys = df[\"TAX\"]\n",
    "ymin = np.min(ys)\n",
    "ymax = np.max(ys)\n",
    "ys = [(y - ymin) / (ymax - ymin) for y in ys]\n",
    "\n",
    "plt.scatter(xs, ys, color='r')\n",
    "plt.xlabel(\"NOX Min-Max Scaled\")\n",
    "plt.ylabel(\"TAX Min-Max Scaled\")\n",
    "plt.show()"
   ]
  },
  {
   "cell_type": "code",
   "execution_count": null,
   "metadata": {},
   "outputs": [],
   "source": [
    "#Verificamos el histógrama de una de las variables reescaladas.\n",
    "plt.figure(figsize=(12,4))\n",
    "ax1 = plt.subplot(121)\n",
    "ax1.set_title(\"Variable escalada Min-Max\")\n",
    "ax1.hist(ys,bins=30);\n",
    "\n",
    "ax2 = plt.subplot(122)\n",
    "ax2.set_title(\"Variable sin reescalar\")\n",
    "ax2.hist(df[\"TAX\"],bins=30);"
   ]
  },
  {
   "cell_type": "markdown",
   "metadata": {
    "collapsed": true
   },
   "source": [
    "Esta tipo de normalización también se puede lograr usando scikit-learn"
   ]
  },
  {
   "cell_type": "code",
   "execution_count": null,
   "metadata": {},
   "outputs": [],
   "source": [
    "from sklearn import preprocessing\n",
    "\n",
    "scaler = preprocessing.MinMaxScaler()\n",
    "\n",
    "xs = scaler.fit_transform(df[[\"NOX\"]])\n",
    "ys = scaler.fit_transform(df[[\"TAX\"]])\n",
    "\n",
    "plt.scatter(xs, ys, color='r')\n",
    "plt.xlabel(\"NOX Min-Max Scaled\")\n",
    "plt.ylabel(\"TAX Min-Max Scaled\")\n",
    "plt.show()"
   ]
  },
  {
   "cell_type": "code",
   "execution_count": null,
   "metadata": {},
   "outputs": [],
   "source": [
    "x = [10, 13, 17, 20]\n",
    "preprocessing.scale(x)"
   ]
  },
  {
   "cell_type": "markdown",
   "metadata": {},
   "source": [
    "### Otras formas de normalizar\n",
    "\n",
    "En algunos casos, normalizamos los datos dividiendo por algún tipo de sumatoria. Por ejemplo, es habitual normalizar diviendo por la suma de x (norma L1):\n",
    "\n",
    "$|X| = \\sum_{}{|x|}$\n",
    "\n",
    "o por la raíz de la suma de los cuadrados de x (norma L2)\n",
    "\n",
    "$||X|| = \\sqrt{\\sum_{}{x^2}}$. "
   ]
  },
  {
   "cell_type": "markdown",
   "metadata": {},
   "source": [
    "## Práctica guiada\n",
    "\n",
    "Aplicaremos una normalización usando la norma L1 y L2 y grafiquen como lo hicimos con los otros métodos de normalización.\n",
    "\n",
    "Luego, repetiremos el ejercicio, esta vez usando la librería de [scikit-learn](http://scikit-learn.org/stable/modules/preprocessing.html#preprocessing-normalization)."
   ]
  },
  {
   "cell_type": "code",
   "execution_count": null,
   "metadata": {},
   "outputs": [],
   "source": [
    "xs = df[\"NOX\"]\n",
    "ys = df[\"TAX\"]\n",
    "plt.scatter(xs, ys, color='b')\n",
    "plt.xlabel(\"NOX\")\n",
    "plt.ylabel(\"TAX\")\n",
    "plt.show()\n",
    "\n",
    "xs = df[\"NOX\"]\n",
    "ys = df[\"TAX\"]\n",
    "\n",
    "# Normalizar xs and ys con norma L1\n",
    "# ....\n",
    "df[\"xs_l1\"] = df[\"NOX\"]/np.sum(np.abs(df[\"NOX\"]))\n",
    "df[\"ys_l1\"] = df[\"TAX\"]/np.sum(np.abs(df[\"TAX\"]))\n",
    "\n",
    "# La escala del scatterplot se ve demasiado pequeña con l1 y es imposible de visualizar.\n",
    "# Se puede probar multiplicar cada vector por 100 para verificar que la forma de los datos permanece inalterada.\n",
    "\n",
    "plt.scatter(df[\"xs_l1\"]*100, df[\"ys_l1\"]*100, color='r')\n",
    "\n",
    "plt.xlabel(\"NOX Norma L1\")\n",
    "plt.ylabel(\"TAX Norma L1\")\n",
    "plt.show()\n"
   ]
  },
  {
   "cell_type": "code",
   "execution_count": null,
   "metadata": {},
   "outputs": [],
   "source": [
    "#Verificamos el histógrama de una de las variables reescaladas.\n",
    "\n",
    "plt.figure(figsize=(12,4))\n",
    "ax1 = plt.subplot(121)\n",
    "ax1.set_title(\"Variable escalada con norma L1\")\n",
    "ax1.hist(df[\"xs_l1\"],bins=30);\n",
    "\n",
    "ax2 = plt.subplot(122)\n",
    "ax2.set_title(\"Variable sin reescalar\")\n",
    "ax2.hist(df[\"NOX\"],bins=30);"
   ]
  },
  {
   "cell_type": "code",
   "execution_count": null,
   "metadata": {},
   "outputs": [],
   "source": [
    "\n",
    "xs = df[\"NOX\"]\n",
    "ys = df[\"TAX\"]\n",
    "\n",
    "# Normalizar xs and ys con norma L2\n",
    "# ....\n",
    "\n",
    "xs_l2 = df[\"NOX\"]/np.sqrt(np.sum(df[\"NOX\"]**2))\n",
    "ys_l2 = df[\"TAX\"]/np.sqrt(np.sum(df[\"TAX\"]**2))\n",
    "\n",
    "\n",
    "plt.scatter(xs_l2, ys_l2, color='g')\n",
    "plt.xlabel(\"NOX Norma L2\")\n",
    "plt.ylabel(\"TAX Norma L2\")\n",
    "plt.show()"
   ]
  },
  {
   "cell_type": "code",
   "execution_count": null,
   "metadata": {},
   "outputs": [],
   "source": [
    "#Verificamos el histógrama de una de las variables reescaladas.\n",
    "\n",
    "plt.figure(figsize=(12,4))\n",
    "ax1 = plt.subplot(121)\n",
    "ax1.set_title(\"Variable escalada con norma L2\")\n",
    "ax1.hist(ys_l2,bins=30);\n",
    "\n",
    "ax2 = plt.subplot(122)\n",
    "ax2.set_title(\"Variable sin reescalar\")\n",
    "ax2.hist(df[\"TAX\"],bins=30);"
   ]
  },
  {
   "cell_type": "code",
   "execution_count": null,
   "metadata": {},
   "outputs": [],
   "source": [
    "# Ahora usando Sklearn\n",
    "# Usando preprocessing.normalize sobre xs y ys\n",
    "xs = df[\"NOX\"]\n",
    "ys = df[\"TAX\"]\n",
    "X = df[[\"TAX\",\"NOX\"]]\n",
    "#....\n",
    "\n",
    "X = preprocessing.normalize(X, norm='l1', axis=0)\n",
    "plt.scatter(X[:,1]*100, X[:,0]*100, color='r')\n",
    "plt.xlabel(\"NOX Norma L1\")\n",
    "plt.ylabel(\"TAX Norma L1\")\n",
    "plt.show()"
   ]
  },
  {
   "cell_type": "code",
   "execution_count": null,
   "metadata": {
    "collapsed": true
   },
   "outputs": [],
   "source": []
  }
 ],
 "metadata": {
  "kernelspec": {
   "display_name": "Python 3",
   "language": "python",
   "name": "python3"
  },
  "language_info": {
   "codemirror_mode": {
    "name": "ipython",
    "version": 3
   },
   "file_extension": ".py",
   "mimetype": "text/x-python",
   "name": "python",
   "nbconvert_exporter": "python",
   "pygments_lexer": "ipython3",
   "version": "3.6.2"
  }
 },
 "nbformat": 4,
 "nbformat_minor": 1
}
