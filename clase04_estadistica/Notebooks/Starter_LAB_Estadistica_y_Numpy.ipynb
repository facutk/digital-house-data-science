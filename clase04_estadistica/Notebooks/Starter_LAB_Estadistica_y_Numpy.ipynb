{
 "cells": [
  {
   "cell_type": "markdown",
   "metadata": {},
   "source": [
    "## Laboratorio Arreglos y Matrices\n",
    "\n",
    "\n",
    "Ejecuta la celda de abajo para cargar los paquetes requeridos"
   ]
  },
  {
   "cell_type": "code",
   "execution_count": 1,
   "metadata": {
    "collapsed": true
   },
   "outputs": [],
   "source": [
    "import numpy as np\n",
    "import pandas as pd"
   ]
  },
  {
   "cell_type": "markdown",
   "metadata": {},
   "source": [
    "### Datos de ventas\n",
    "\n",
    "Para este lab vamos a estar usando una versión de datos de ventas de vinos en diferentes sucursales (archivo ```volumen_ventas_producto_sucursal.csv```) y el precio de cada vino (```precio_producto.csv```)"
   ]
  },
  {
   "cell_type": "markdown",
   "metadata": {},
   "source": [
    "#### Importar Ventas"
   ]
  },
  {
   "cell_type": "code",
   "execution_count": 6,
   "metadata": {},
   "outputs": [
    {
     "data": {
      "text/html": [
       "<div>\n",
       "<style>\n",
       "    .dataframe thead tr:only-child th {\n",
       "        text-align: right;\n",
       "    }\n",
       "\n",
       "    .dataframe thead th {\n",
       "        text-align: left;\n",
       "    }\n",
       "\n",
       "    .dataframe tbody tr th {\n",
       "        vertical-align: top;\n",
       "    }\n",
       "</style>\n",
       "<table border=\"1\" class=\"dataframe\">\n",
       "  <thead>\n",
       "    <tr style=\"text-align: right;\">\n",
       "      <th></th>\n",
       "      <th>producto</th>\n",
       "      <th>Sucursal 1</th>\n",
       "      <th>Sucursal 2</th>\n",
       "      <th>Sucursal 3</th>\n",
       "      <th>Sucursal 4</th>\n",
       "      <th>Sucursal 5</th>\n",
       "      <th>Sucursal 6</th>\n",
       "      <th>Sucursal 7</th>\n",
       "    </tr>\n",
       "  </thead>\n",
       "  <tbody>\n",
       "    <tr>\n",
       "      <th>0</th>\n",
       "      <td>Malbec</td>\n",
       "      <td>429</td>\n",
       "      <td>106</td>\n",
       "      <td>437</td>\n",
       "      <td>177</td>\n",
       "      <td>200</td>\n",
       "      <td>412</td>\n",
       "      <td>309</td>\n",
       "    </tr>\n",
       "    <tr>\n",
       "      <th>1</th>\n",
       "      <td>Cabernet</td>\n",
       "      <td>244</td>\n",
       "      <td>111</td>\n",
       "      <td>282</td>\n",
       "      <td>238</td>\n",
       "      <td>144</td>\n",
       "      <td>198</td>\n",
       "      <td>331</td>\n",
       "    </tr>\n",
       "    <tr>\n",
       "      <th>2</th>\n",
       "      <td>Syrah</td>\n",
       "      <td>374</td>\n",
       "      <td>278</td>\n",
       "      <td>241</td>\n",
       "      <td>408</td>\n",
       "      <td>177</td>\n",
       "      <td>381</td>\n",
       "      <td>237</td>\n",
       "    </tr>\n",
       "    <tr>\n",
       "      <th>3</th>\n",
       "      <td>Caberne Franc</td>\n",
       "      <td>449</td>\n",
       "      <td>291</td>\n",
       "      <td>461</td>\n",
       "      <td>484</td>\n",
       "      <td>452</td>\n",
       "      <td>388</td>\n",
       "      <td>466</td>\n",
       "    </tr>\n",
       "    <tr>\n",
       "      <th>4</th>\n",
       "      <td>Merlot</td>\n",
       "      <td>222</td>\n",
       "      <td>494</td>\n",
       "      <td>436</td>\n",
       "      <td>252</td>\n",
       "      <td>161</td>\n",
       "      <td>187</td>\n",
       "      <td>337</td>\n",
       "    </tr>\n",
       "    <tr>\n",
       "      <th>5</th>\n",
       "      <td>Pinot noir</td>\n",
       "      <td>335</td>\n",
       "      <td>137</td>\n",
       "      <td>233</td>\n",
       "      <td>487</td>\n",
       "      <td>394</td>\n",
       "      <td>488</td>\n",
       "      <td>331</td>\n",
       "    </tr>\n",
       "  </tbody>\n",
       "</table>\n",
       "</div>"
      ],
      "text/plain": [
       "        producto  Sucursal 1  Sucursal 2  Sucursal 3  Sucursal 4  Sucursal 5  \\\n",
       "0         Malbec         429         106         437         177         200   \n",
       "1       Cabernet         244         111         282         238         144   \n",
       "2          Syrah         374         278         241         408         177   \n",
       "3  Caberne Franc         449         291         461         484         452   \n",
       "4         Merlot         222         494         436         252         161   \n",
       "5     Pinot noir         335         137         233         487         394   \n",
       "\n",
       "   Sucursal 6  Sucursal 7  \n",
       "0         412         309  \n",
       "1         198         331  \n",
       "2         381         237  \n",
       "3         388         466  \n",
       "4         187         337  \n",
       "5         488         331  "
      ]
     },
     "execution_count": 6,
     "metadata": {},
     "output_type": "execute_result"
    }
   ],
   "source": [
    "volumen_ventas_producto_sucursal = pd.read_csv('../Data/volumen_ventas_producto_sucursal.csv')\n",
    "volumen_ventas_producto_sucursal"
   ]
  },
  {
   "cell_type": "markdown",
   "metadata": {},
   "source": [
    "#### Importar precios"
   ]
  },
  {
   "cell_type": "code",
   "execution_count": 7,
   "metadata": {},
   "outputs": [
    {
     "data": {
      "text/html": [
       "<div>\n",
       "<style>\n",
       "    .dataframe thead tr:only-child th {\n",
       "        text-align: right;\n",
       "    }\n",
       "\n",
       "    .dataframe thead th {\n",
       "        text-align: left;\n",
       "    }\n",
       "\n",
       "    .dataframe tbody tr th {\n",
       "        vertical-align: top;\n",
       "    }\n",
       "</style>\n",
       "<table border=\"1\" class=\"dataframe\">\n",
       "  <thead>\n",
       "    <tr style=\"text-align: right;\">\n",
       "      <th></th>\n",
       "      <th>producto</th>\n",
       "      <th>Precio</th>\n",
       "    </tr>\n",
       "  </thead>\n",
       "  <tbody>\n",
       "    <tr>\n",
       "      <th>0</th>\n",
       "      <td>Malbec</td>\n",
       "      <td>208</td>\n",
       "    </tr>\n",
       "    <tr>\n",
       "      <th>1</th>\n",
       "      <td>Cabernet</td>\n",
       "      <td>216</td>\n",
       "    </tr>\n",
       "    <tr>\n",
       "      <th>2</th>\n",
       "      <td>Syrah</td>\n",
       "      <td>247</td>\n",
       "    </tr>\n",
       "    <tr>\n",
       "      <th>3</th>\n",
       "      <td>Caberne Franc</td>\n",
       "      <td>180</td>\n",
       "    </tr>\n",
       "    <tr>\n",
       "      <th>4</th>\n",
       "      <td>Merlot</td>\n",
       "      <td>180</td>\n",
       "    </tr>\n",
       "    <tr>\n",
       "      <th>5</th>\n",
       "      <td>Pinot noir</td>\n",
       "      <td>243</td>\n",
       "    </tr>\n",
       "  </tbody>\n",
       "</table>\n",
       "</div>"
      ],
      "text/plain": [
       "        producto  Precio\n",
       "0         Malbec     208\n",
       "1       Cabernet     216\n",
       "2          Syrah     247\n",
       "3  Caberne Franc     180\n",
       "4         Merlot     180\n",
       "5     Pinot noir     243"
      ]
     },
     "execution_count": 7,
     "metadata": {},
     "output_type": "execute_result"
    }
   ],
   "source": [
    "precio_producto = pd.read_csv('../Data/precio_producto.csv')\n",
    "precio_producto"
   ]
  },
  {
   "cell_type": "markdown",
   "metadata": {
    "collapsed": true
   },
   "source": [
    "#### 1. Calcular la cantidad de unidades vendidas para cada sucursal\n",
    "\n",
    "Utilizar la matriz_ventas y funciones de numpy.\n",
    "\n",
    "Primero transformar el dataframe de pandas en un array con las funciones iloc y values"
   ]
  },
  {
   "cell_type": "code",
   "execution_count": 21,
   "metadata": {},
   "outputs": [
    {
     "data": {
      "text/html": [
       "<div>\n",
       "<style>\n",
       "    .dataframe thead tr:only-child th {\n",
       "        text-align: right;\n",
       "    }\n",
       "\n",
       "    .dataframe thead th {\n",
       "        text-align: left;\n",
       "    }\n",
       "\n",
       "    .dataframe tbody tr th {\n",
       "        vertical-align: top;\n",
       "    }\n",
       "</style>\n",
       "<table border=\"1\" class=\"dataframe\">\n",
       "  <thead>\n",
       "    <tr style=\"text-align: right;\">\n",
       "      <th></th>\n",
       "      <th>Sucursal 1</th>\n",
       "      <th>Sucursal 2</th>\n",
       "      <th>Sucursal 3</th>\n",
       "      <th>Sucursal 4</th>\n",
       "      <th>Sucursal 5</th>\n",
       "      <th>Sucursal 6</th>\n",
       "      <th>Sucursal 7</th>\n",
       "    </tr>\n",
       "  </thead>\n",
       "  <tbody>\n",
       "    <tr>\n",
       "      <th>0</th>\n",
       "      <td>429</td>\n",
       "      <td>106</td>\n",
       "      <td>437</td>\n",
       "      <td>177</td>\n",
       "      <td>200</td>\n",
       "      <td>412</td>\n",
       "      <td>309</td>\n",
       "    </tr>\n",
       "    <tr>\n",
       "      <th>1</th>\n",
       "      <td>244</td>\n",
       "      <td>111</td>\n",
       "      <td>282</td>\n",
       "      <td>238</td>\n",
       "      <td>144</td>\n",
       "      <td>198</td>\n",
       "      <td>331</td>\n",
       "    </tr>\n",
       "    <tr>\n",
       "      <th>2</th>\n",
       "      <td>374</td>\n",
       "      <td>278</td>\n",
       "      <td>241</td>\n",
       "      <td>408</td>\n",
       "      <td>177</td>\n",
       "      <td>381</td>\n",
       "      <td>237</td>\n",
       "    </tr>\n",
       "    <tr>\n",
       "      <th>3</th>\n",
       "      <td>449</td>\n",
       "      <td>291</td>\n",
       "      <td>461</td>\n",
       "      <td>484</td>\n",
       "      <td>452</td>\n",
       "      <td>388</td>\n",
       "      <td>466</td>\n",
       "    </tr>\n",
       "    <tr>\n",
       "      <th>4</th>\n",
       "      <td>222</td>\n",
       "      <td>494</td>\n",
       "      <td>436</td>\n",
       "      <td>252</td>\n",
       "      <td>161</td>\n",
       "      <td>187</td>\n",
       "      <td>337</td>\n",
       "    </tr>\n",
       "    <tr>\n",
       "      <th>5</th>\n",
       "      <td>335</td>\n",
       "      <td>137</td>\n",
       "      <td>233</td>\n",
       "      <td>487</td>\n",
       "      <td>394</td>\n",
       "      <td>488</td>\n",
       "      <td>331</td>\n",
       "    </tr>\n",
       "  </tbody>\n",
       "</table>\n",
       "</div>"
      ],
      "text/plain": [
       "   Sucursal 1  Sucursal 2  Sucursal 3  Sucursal 4  Sucursal 5  Sucursal 6  \\\n",
       "0         429         106         437         177         200         412   \n",
       "1         244         111         282         238         144         198   \n",
       "2         374         278         241         408         177         381   \n",
       "3         449         291         461         484         452         388   \n",
       "4         222         494         436         252         161         187   \n",
       "5         335         137         233         487         394         488   \n",
       "\n",
       "   Sucursal 7  \n",
       "0         309  \n",
       "1         331  \n",
       "2         237  \n",
       "3         466  \n",
       "4         337  \n",
       "5         331  "
      ]
     },
     "execution_count": 21,
     "metadata": {},
     "output_type": "execute_result"
    }
   ],
   "source": [
    "ventas = volumen_ventas_producto_sucursal.iloc[:,1:]\n",
    "ventas"
   ]
  },
  {
   "cell_type": "markdown",
   "metadata": {},
   "source": [
    "#### 2. Calcular la cantidad de unidades vendidas para cada producto\n",
    "\n",
    "Utilizar la matriz_ventas y funciones de numpy"
   ]
  },
  {
   "cell_type": "code",
   "execution_count": 22,
   "metadata": {},
   "outputs": [
    {
     "data": {
      "text/plain": [
       "Sucursal 1    2053\n",
       "Sucursal 2    1417\n",
       "Sucursal 3    2090\n",
       "Sucursal 4    2046\n",
       "Sucursal 5    1528\n",
       "Sucursal 6    2054\n",
       "Sucursal 7    2011\n",
       "dtype: int64"
      ]
     },
     "execution_count": 22,
     "metadata": {},
     "output_type": "execute_result"
    }
   ],
   "source": [
    "ventas.sum(axis=0)"
   ]
  },
  {
   "cell_type": "markdown",
   "metadata": {},
   "source": [
    "#### 3. Calcular cuál es el producto que más vendió cada sucursal\n",
    "Tip: usar np.argmax\n"
   ]
  },
  {
   "cell_type": "code",
   "execution_count": 78,
   "metadata": {},
   "outputs": [
    {
     "data": {
      "text/plain": [
       "[('Sucursal 1', 'Caberne Franc'),\n",
       " ('Sucursal 2', 'Merlot'),\n",
       " ('Sucursal 3', 'Caberne Franc'),\n",
       " ('Sucursal 4', 'Pinot noir'),\n",
       " ('Sucursal 5', 'Caberne Franc'),\n",
       " ('Sucursal 6', 'Pinot noir'),\n",
       " ('Sucursal 7', 'Caberne Franc')]"
      ]
     },
     "execution_count": 78,
     "metadata": {},
     "output_type": "execute_result"
    }
   ],
   "source": [
    "matriz_ventas = ventas.values\n",
    "max_ventas_por_sucursal = np.argmax(matriz_ventas, axis=0)\n",
    "max_ventas_por_sucursal\n",
    "sucursales = np.array(list(ventas))\n",
    "\n",
    "productos = volumen_ventas_producto_sucursal[\"producto\"].values\n",
    "list(zip(sucursales, productos[max_ventas_por_sucursal] ))"
   ]
  },
  {
   "cell_type": "markdown",
   "metadata": {},
   "source": [
    "#### 4. Calcular cuál es la sucursal que más vendió cada producto\n",
    "Tip: usar np.argmax\n"
   ]
  },
  {
   "cell_type": "code",
   "execution_count": 79,
   "metadata": {},
   "outputs": [
    {
     "data": {
      "text/plain": [
       "[('Malbec', 'Sucursal 3'),\n",
       " ('Cabernet', 'Sucursal 7'),\n",
       " ('Syrah', 'Sucursal 4'),\n",
       " ('Caberne Franc', 'Sucursal 4'),\n",
       " ('Merlot', 'Sucursal 2'),\n",
       " ('Pinot noir', 'Sucursal 6')]"
      ]
     },
     "execution_count": 79,
     "metadata": {},
     "output_type": "execute_result"
    }
   ],
   "source": [
    "max_producto_by_sucursal = np.argmax(matriz_ventas, axis=1)\n",
    "sucursales = np.array(list(ventas))\n",
    "list(zip(productos, sucursales[max_producto_by_sucursal]))"
   ]
  },
  {
   "cell_type": "markdown",
   "metadata": {},
   "source": [
    "#### 5. Calcular la facturación para cada sucursal\n",
    "\n",
    "Utilizando multiplicación matricial (matriz_ventas, matriz_precios) obtener la facturación para cada sucursal (es decir la sumatoria de cantidad vendidada * precio para cada producto).\n",
    "\n",
    "Nota: Se deberá utilizar la función matriz.transpose() para poder realizar la multiplicación matricial, dado que dos matrices A de forma (p,q) y B de forma (r,s) solo se puede multplicar si q=r\n"
   ]
  },
  {
   "cell_type": "code",
   "execution_count": 98,
   "metadata": {},
   "outputs": [
    {
     "data": {
      "text/plain": [
       "array([[ 89232,  52704,  92378,  80820,  39960,  81405],\n",
       "       [ 22048,  23976,  68666,  52380,  88920,  33291],\n",
       "       [ 90896,  60912,  59527,  82980,  78480,  56619],\n",
       "       [ 36816,  51408, 100776,  87120,  45360, 118341],\n",
       "       [ 41600,  31104,  43719,  81360,  28980,  95742],\n",
       "       [ 85696,  42768,  94107,  69840,  33660, 118584],\n",
       "       [ 64272,  71496,  58539,  83880,  60660,  80433]])"
      ]
     },
     "execution_count": 98,
     "metadata": {},
     "output_type": "execute_result"
    }
   ],
   "source": [
    "matriz_ventas\n",
    "precios = precio_producto.iloc[:,1].values\n",
    "facturacion = matriz_ventas.transpose()*precios\n",
    "facturacion"
   ]
  },
  {
   "cell_type": "code",
   "execution_count": 104,
   "metadata": {},
   "outputs": [
    {
     "data": {
      "text/plain": [
       "[('Sucursal 1', 436499),\n",
       " ('Sucursal 2', 289281),\n",
       " ('Sucursal 3', 429414),\n",
       " ('Sucursal 4', 439821),\n",
       " ('Sucursal 5', 322505),\n",
       " ('Sucursal 6', 444655),\n",
       " ('Sucursal 7', 419280)]"
      ]
     },
     "execution_count": 104,
     "metadata": {},
     "output_type": "execute_result"
    }
   ],
   "source": [
    "facturacion_por_sucursal = facturacion.sum(axis=1)\n",
    "list(zip(sucursales, facturacion_por_sucursal))"
   ]
  },
  {
   "cell_type": "code",
   "execution_count": null,
   "metadata": {
    "collapsed": true
   },
   "outputs": [],
   "source": []
  }
 ],
 "metadata": {
  "kernelspec": {
   "display_name": "Python 3",
   "language": "python",
   "name": "python3"
  },
  "language_info": {
   "codemirror_mode": {
    "name": "ipython",
    "version": 3
   },
   "file_extension": ".py",
   "mimetype": "text/x-python",
   "name": "python",
   "nbconvert_exporter": "python",
   "pygments_lexer": "ipython3",
   "version": "3.6.1"
  }
 },
 "nbformat": 4,
 "nbformat_minor": 1
}
