{
 "cells": [
  {
   "cell_type": "markdown",
   "metadata": {},
   "source": [
    "### Práctica independiente\n",
    "\n",
    "Responder las preguntas utilizando la distribución definida en la variable **dist** en la próxima celda."
   ]
  },
  {
   "cell_type": "code",
   "execution_count": 1,
   "metadata": {
    "collapsed": true
   },
   "outputs": [],
   "source": [
    "import numpy as np\n",
    "from scipy.stats import mode\n",
    "\n",
    "dist = [33.3, 8.0, 2.7, 7.0, 11.3, 10.2, 38.4, 14.7, 46.9, 6.6, 38.6, 41.1, 20.4, 19.5,\n",
    "        102.6, 111.5, 21.8, 27.0, 30.3, 9.3, 19.6, 31.1, 48.8, 8.9, 11.4, 0.6, 23.5,\n",
    "        8.0, 27.5, 69.7, 11.5, 15.5, 1.4, 7.0, 4.6, 6.0, 16.0, 17.2, 6.3, 26.2, 23.9,\n",
    "        45.9, 55.4, 100.8, 22.9, 75.5, 115.5, 58.9, 10.5, 92.6, 12.4, 102.7, 10.2, 167.6,\n",
    "        143.6, 132.3, 134.2, 39.4, 49.7, 12.0, 27.0, 1.3, 4.7, 5.0, 24.1, 21.5, 33.1,\n",
    "        45.6, 46.3, 15.8, 30.7, 15.7, 6.8, 64.6, 39.1, 2.9, 8.0, 5.4, 33.4, 40.0, 22.7,\n",
    "        24.2, 25.7, 85.0, 26.2, 3.3, 20.7, 117.4, 66.8, 44.3, 37.9, 71.8, 161.4, 45.9,\n",
    "        4.6, 6.6, 12.6, 24.4, 21.4, 33.6, 33.7, 18.8, 7.6, 36.3, 1.8, 83.2, 75.1, 71.3,\n",
    "        32.9, 30.6, 16.0, 6.9, 11.0, 9.4, 11.7, 13.8, 39.4, 4.3, 38.1, 60.1, 78.2, 49.6,\n",
    "        14.3, 8.0, 19.3, 30.8, 32.5, 29.6, 28.3, 32.4, 35.7, 36.7, 10.0, 8.5, 12.2, 22.6,\n",
    "        32.1, 25.7, 14.1, 20.9, 23.8, 29.5, 2.9, 42.3, 19.9, 47.5, 15.9, 6.0, 19.3, 38.2,\n",
    "        23.5, 2.7, 27.0, 49.9, 43.5, 31.7, 39.1, 15.1, 18.0, 33.8, 32.1, 50.7, 28.8, 11.6,\n",
    "        74.8, 16.2, 8.3, 36.3, 44.0, 15.6, 48.9, 7.3, 8.2, 29.8, 38.7, 3.9, 7.2, 5.1, 23.7,\n",
    "        48.4, 92.0, 64.3, 97.4, 99.1, 18.0, 7.1, 14.7, 47.1, 41.3, 44.2, 6.5, 44.4, 9.7,\n",
    "        15.5, 23.7, 34.5, 19.9, 58.6, 35.0, 66.1, 74.5, 45.2]"
   ]
  },
  {
   "cell_type": "markdown",
   "metadata": {},
   "source": [
    "##### P1: Calcular la media de *dist*"
   ]
  },
  {
   "cell_type": "code",
   "execution_count": 9,
   "metadata": {},
   "outputs": [
    {
     "data": {
      "text/plain": [
       "33.995049504950494"
      ]
     },
     "execution_count": 9,
     "metadata": {},
     "output_type": "execute_result"
    }
   ],
   "source": [
    "dist_mean = np.mean(dist)\n",
    "dist_mean"
   ]
  },
  {
   "cell_type": "markdown",
   "metadata": {},
   "source": [
    "##### P2: Calcular la mediana de dist"
   ]
  },
  {
   "cell_type": "code",
   "execution_count": 11,
   "metadata": {},
   "outputs": [
    {
     "data": {
      "text/plain": [
       "25.949999999999999"
      ]
     },
     "execution_count": 11,
     "metadata": {},
     "output_type": "execute_result"
    }
   ],
   "source": [
    "dist_median = np.median(dist)\n",
    "dist_median"
   ]
  },
  {
   "cell_type": "markdown",
   "metadata": {},
   "source": [
    "##### P3: Redondear los números de dist y luego calcular la moda"
   ]
  },
  {
   "cell_type": "code",
   "execution_count": 15,
   "metadata": {},
   "outputs": [
    {
     "data": {
      "text/plain": [
       "7.0"
      ]
     },
     "execution_count": 15,
     "metadata": {},
     "output_type": "execute_result"
    }
   ],
   "source": [
    "dist_mode, count = mode(np.round(dist))\n",
    "dist_mode = dist_mode[0]\n",
    "dist_mode"
   ]
  },
  {
   "cell_type": "markdown",
   "metadata": {},
   "source": [
    "##### P4: Determinar si dist es asimétrica. En caso que lo sea, ¿en qué sentido lo es? ¿Por qué?"
   ]
  },
  {
   "cell_type": "code",
   "execution_count": 25,
   "metadata": {},
   "outputs": [
    {
     "name": "stdout",
     "output_type": "stream",
     "text": [
      "33.995049505 25.95 7.0\n"
     ]
    },
    {
     "data": {
      "text/plain": [
       "'asymmetric right'"
      ]
     },
     "execution_count": 25,
     "metadata": {},
     "output_type": "execute_result"
    }
   ],
   "source": [
    "# Asimetría a izquierda\n",
    "# Media < Mediana < Moda\n",
    "# Simetría\n",
    "# Media = Mediana = Moda\n",
    "# Asimetría a derecha\n",
    "# Moda > Mediana > Media\n",
    "def check_symmetry(mean, median, mode):\n",
    "    print(mean, median, mode)\n",
    "    if mean < median:\n",
    "        return \"asymmetric left\"\n",
    "    else:\n",
    "        return \"asymmetric right\"\n",
    "\n",
    "check_symmetry(dist_mean, dist_median, dist_mode)"
   ]
  },
  {
   "cell_type": "code",
   "execution_count": 84,
   "metadata": {},
   "outputs": [
    {
     "data": {
      "image/png": "[encoded data removed]",
      "text/plain": [
       "<matplotlib.figure.Figure at 0x7f0ce185b438>"
      ]
     },
     "metadata": {},
     "output_type": "display_data"
    }
   ],
   "source": [
    "%matplotlib inline\n",
    "import matplotlib.pyplot as plt\n",
    "plt.hist(dist, bins=20)\n",
    "plt.show()"
   ]
  },
  {
   "cell_type": "markdown",
   "metadata": {},
   "source": [
    "##### P5: Calcular el rango de dist"
   ]
  },
  {
   "cell_type": "code",
   "execution_count": 22,
   "metadata": {},
   "outputs": [
    {
     "data": {
      "text/plain": [
       "167.0"
      ]
     },
     "execution_count": 22,
     "metadata": {},
     "output_type": "execute_result"
    }
   ],
   "source": [
    "np.max(dist) - np.min(dist)"
   ]
  },
  {
   "cell_type": "markdown",
   "metadata": {},
   "source": [
    "##### P6: Calcular la varianza de dist"
   ]
  },
  {
   "cell_type": "code",
   "execution_count": 26,
   "metadata": {},
   "outputs": [
    {
     "data": {
      "text/plain": [
       "957.82769826487618"
      ]
     },
     "execution_count": 26,
     "metadata": {},
     "output_type": "execute_result"
    }
   ],
   "source": [
    "np.var(dist)"
   ]
  },
  {
   "cell_type": "markdown",
   "metadata": {},
   "source": [
    "##### P7: Calcular el desvío estándar de dist. "
   ]
  },
  {
   "cell_type": "code",
   "execution_count": 27,
   "metadata": {},
   "outputs": [
    {
     "data": {
      "text/plain": [
       "30.948791547730522"
      ]
     },
     "execution_count": 27,
     "metadata": {},
     "output_type": "execute_result"
    }
   ],
   "source": [
    "np.std(dist)"
   ]
  },
  {
   "cell_type": "markdown",
   "metadata": {},
   "source": [
    "##### Desafío:  Redondear la distribución y luego calcular la moda de dist -sin utilizar scipy-"
   ]
  },
  {
   "cell_type": "code",
   "execution_count": 69,
   "metadata": {},
   "outputs": [
    {
     "name": "stdout",
     "output_type": "stream",
     "text": [
      "(7.0, 9)\n",
      "(24.0, 9)\n",
      "(16.0, 9)\n",
      "(8.0, 8)\n",
      "(39.0, 6)\n",
      "(12.0, 6)\n",
      "(5.0, 6)\n",
      "(3.0, 5)\n",
      "(10.0, 5)\n",
      "(20.0, 5)\n",
      "(44.0, 5)\n",
      "(32.0, 5)\n",
      "(33.0, 4)\n",
      "(38.0, 4)\n",
      "(30.0, 4)\n",
      "(31.0, 4)\n",
      "(6.0, 4)\n",
      "(26.0, 4)\n",
      "(46.0, 4)\n",
      "(34.0, 4)\n",
      "(11.0, 3)\n",
      "(15.0, 3)\n",
      "(27.0, 3)\n",
      "(9.0, 3)\n",
      "(1.0, 3)\n",
      "(23.0, 3)\n",
      "(50.0, 3)\n",
      "(21.0, 3)\n",
      "(19.0, 3)\n",
      "(36.0, 3)\n",
      "(14.0, 3)\n",
      "(47.0, 2)\n",
      "(41.0, 2)\n",
      "(103.0, 2)\n",
      "(22.0, 2)\n",
      "(49.0, 2)\n",
      "(28.0, 2)\n",
      "(59.0, 2)\n",
      "(75.0, 2)\n",
      "(4.0, 2)\n",
      "(48.0, 2)\n",
      "(18.0, 2)\n",
      "(112.0, 1)\n",
      "(70.0, 1)\n",
      "(17.0, 1)\n",
      "(55.0, 1)\n",
      "(101.0, 1)\n",
      "(76.0, 1)\n",
      "(116.0, 1)\n",
      "(93.0, 1)\n",
      "(168.0, 1)\n",
      "(144.0, 1)\n",
      "(132.0, 1)\n",
      "(134.0, 1)\n",
      "(65.0, 1)\n",
      "(40.0, 1)\n",
      "(85.0, 1)\n",
      "(117.0, 1)\n",
      "(67.0, 1)\n",
      "(72.0, 1)\n",
      "(161.0, 1)\n",
      "(13.0, 1)\n",
      "(2.0, 1)\n",
      "(83.0, 1)\n",
      "(71.0, 1)\n",
      "(60.0, 1)\n",
      "(78.0, 1)\n",
      "(37.0, 1)\n",
      "(42.0, 1)\n",
      "(51.0, 1)\n",
      "(29.0, 1)\n",
      "(92.0, 1)\n",
      "(64.0, 1)\n",
      "(97.0, 1)\n",
      "(99.0, 1)\n",
      "(35.0, 1)\n",
      "(66.0, 1)\n",
      "(74.0, 1)\n",
      "(45.0, 1)\n"
     ]
    },
    {
     "data": {
      "text/plain": [
       "[(7.0, 9), (24.0, 9), (16.0, 9)]"
      ]
     },
     "execution_count": 69,
     "metadata": {},
     "output_type": "execute_result"
    }
   ],
   "source": [
    "rounded_dist = np.round(dist)\n",
    "object_dict = {x: 0 for x in rounded_dist}\n",
    "for item in rounded_dist:\n",
    "    object_dict[item] = object_dict[item] + 1\n",
    "    \n",
    "array_sum = [item for item in object_dict.items()]\n",
    "sorted_array_sum = sorted(array_sum, key=lambda item: item[1], reverse=True)\n",
    "for item in sorted_array_sum:\n",
    "    print(item)\n",
    "\n",
    "first_item = sorted_array_sum[0]\n",
    "modes = filter(lambda item: item[1] == first_item[1], sorted_array_sum)\n",
    "list(modes)"
   ]
  },
  {
   "cell_type": "code",
   "execution_count": 89,
   "metadata": {},
   "outputs": [
    {
     "name": "stdout",
     "output_type": "stream",
     "text": [
      "7 2\n"
     ]
    }
   ],
   "source": [
    "counts = np.bincount(np.round(dist).astype(np.int64))\n",
    "valor = np.argmax(counts)\n",
    "ocurr = np.count_nonzero(dist == valor)\n",
    "print(valor, ocurr)"
   ]
  },
  {
   "cell_type": "code",
   "execution_count": null,
   "metadata": {
    "collapsed": true
   },
   "outputs": [],
   "source": []
  }
 ],
 "metadata": {
  "kernelspec": {
   "display_name": "Python 3",
   "language": "python",
   "name": "python3"
  },
  "language_info": {
   "codemirror_mode": {
    "name": "ipython",
    "version": 3
   },
   "file_extension": ".py",
   "mimetype": "text/x-python",
   "name": "python",
   "nbconvert_exporter": "python",
   "pygments_lexer": "ipython3",
   "version": "3.6.1"
  }
 },
 "nbformat": 4,
 "nbformat_minor": 1
}
