{
 "cells": [
  {
   "cell_type": "markdown",
   "metadata": {},
   "source": [
    "# LAB: Feature Selection\n",
    "\n",
    "En este lab vamos a explorar selección de características. Seguiremos trabajando sobre el dataset de Titanic.\n",
    "\n",
    "Ante que nada, carguemos algunas cosas:\n",
    "\n",
    "- Paquetes estándar\n",
    "- El dataset"
   ]
  },
  {
   "cell_type": "code",
   "execution_count": null,
   "metadata": {
    "collapsed": true
   },
   "outputs": [],
   "source": [
    "import pandas as pd\n",
    "import numpy as np\n",
    "%matplotlib inline\n",
    "import matplotlib.pyplot as plt\n",
    "\n",
    "df = pd.read_csv('train.csv')"
   ]
  },
  {
   "cell_type": "code",
   "execution_count": null,
   "metadata": {},
   "outputs": [],
   "source": [
    "X = df[[u'Pclass', u'Sex', u'Age', u'SibSp', u'Parch', u'Fare', u'Embarked']]\n",
    "y = df[u'Survived']"
   ]
  },
  {
   "cell_type": "markdown",
   "metadata": {
    "collapsed": true
   },
   "source": [
    "## 1. Preprocesamiento\n",
    "\n",
    "Va a ser necesario realizar algunas tareas de preprocesamiento para este dataset:\n",
    "\n",
    "1. Estandarizar la edad (`age`) y la tarifa (`fare`)\n",
    "2. Construir algunas variables dummies para algunas variables relevantes (tales como `P_class`, `Embarked`, `Male`)"
   ]
  },
  {
   "cell_type": "code",
   "execution_count": null,
   "metadata": {},
   "outputs": [],
   "source": [
    "df.head()"
   ]
  },
  {
   "cell_type": "code",
   "execution_count": null,
   "metadata": {},
   "outputs": [],
   "source": [
    "cols = df[['Pclass','Sex', 'Embarked']]\n",
    "dummies = pd.get_dummies(cols, drop_first=True)\n",
    "dummies.head()"
   ]
  },
  {
   "cell_type": "code",
   "execution_count": null,
   "metadata": {},
   "outputs": [],
   "source": [
    "cols2 = df[['Age','Fare']].fillna(df[['Age','Fare']].mean())"
   ]
  },
  {
   "cell_type": "code",
   "execution_count": null,
   "metadata": {},
   "outputs": [],
   "source": [
    "from sklearn.preprocessing import StandardScaler\n",
    "scaler = StandardScaler()\n",
    "std = scaler.fit_transform(cols2)\n",
    "std = pd.DataFrame(std, columns=['std_Age','std_Fare'])"
   ]
  },
  {
   "cell_type": "code",
   "execution_count": null,
   "metadata": {},
   "outputs": [],
   "source": [
    "#dummies.reset_index(drop=False)\n",
    "#std.reset_index(drop=False)"
   ]
  },
  {
   "cell_type": "code",
   "execution_count": null,
   "metadata": {},
   "outputs": [],
   "source": [
    "X = pd.concat([dummies, std, df[['SibSp','Parch']]],axis=1)"
   ]
  },
  {
   "cell_type": "markdown",
   "metadata": {},
   "source": [
    "## 2. Feature selection\n",
    "\n",
    "Utilicemos el método \"SelectKBest\" de scikit learn a ver cuáles son las top 5 características.\n",
    "\n",
    "Cuáles son?\n",
    "\n",
    "\n",
    "Guardémoslas en una variable llamada \"kbest_columns\""
   ]
  },
  {
   "cell_type": "code",
   "execution_count": null,
   "metadata": {
    "collapsed": true
   },
   "outputs": [],
   "source": [
    "from sklearn.feature_selection import SelectKBest, f_classif"
   ]
  },
  {
   "cell_type": "code",
   "execution_count": null,
   "metadata": {},
   "outputs": [],
   "source": [
    "selector = SelectKBest(f_classif, k=5)\n",
    "selected_data = selector.fit_transform(X, y)\n",
    "kbest_columns = X.columns[selector.get_support()]\n",
    "Xbest = pd.DataFrame(selected_data, columns=kbest_columns)\n",
    "Xbest.head()"
   ]
  },
  {
   "cell_type": "markdown",
   "metadata": {},
   "source": [
    "## 3. Eliminación recursiva de características\n",
    "\n",
    "En Scikit Learn también vamos a encontrar una clase para realizar una eliminación recursiva de características. La misma se llama \"RFECV\". Usémosla en combinación de un modelo de regresión logística para ver qué características serán conservadas con este método.\n",
    "\n",
    "Guardémoslas en una variable llamada \"rfecv_columns\""
   ]
  },
  {
   "cell_type": "code",
   "execution_count": null,
   "metadata": {
    "collapsed": true
   },
   "outputs": [],
   "source": [
    "from sklearn.feature_selection import RFECV\n",
    "from sklearn.linear_model import LogisticRegression"
   ]
  },
  {
   "cell_type": "code",
   "execution_count": null,
   "metadata": {},
   "outputs": [],
   "source": [
    "estimator = LogisticRegression()\n",
    "selector = RFECV(estimator, step=1, cv=5)\n",
    "selector = selector.fit(X, y)\n",
    "rfecv_columns = X.columns[selector.support_]\n",
    "rfecv_columns"
   ]
  },
  {
   "cell_type": "markdown",
   "metadata": {},
   "source": [
    "## 4. Coeficientes de Regresión Logística\n",
    "\n",
    "Veamos si los coeficientes de una RL se condicen.\n",
    "\n",
    "- Creá un modelo de regresión logística\n",
    "- Ejecutá un grid search sobre los parámetros \"penalty type\" y \"C strength\" para encontrar la mejor combinación\n",
    "- Ordená los coeficientes obtenidos por valor absoluto (módulo). El top 5 coincide con los de arriba? Por qué/Por qué no? (Pista: Están todos los valores en la misma escala?)\n",
    "\n",
    "Guardemos las que querramos mantener en una variable llamada \"lr_columns\""
   ]
  },
  {
   "cell_type": "code",
   "execution_count": null,
   "metadata": {
    "collapsed": true
   },
   "outputs": [],
   "source": [
    "from sklearn.model_selection import GridSearchCV"
   ]
  },
  {
   "cell_type": "code",
   "execution_count": null,
   "metadata": {},
   "outputs": [],
   "source": [
    "model = GridSearchCV(LogisticRegression(), {'C': [0.001, 0.01, 0.1, 1.0, 10.0, 100.0],\n",
    "                                            'penalty': ['l1', 'l2']})\n",
    "model.fit(X, y)"
   ]
  },
  {
   "cell_type": "code",
   "execution_count": null,
   "metadata": {},
   "outputs": [],
   "source": [
    "model.best_estimator_"
   ]
  },
  {
   "cell_type": "code",
   "execution_count": null,
   "metadata": {},
   "outputs": [],
   "source": [
    "model.best_score_"
   ]
  },
  {
   "cell_type": "code",
   "execution_count": null,
   "metadata": {},
   "outputs": [],
   "source": [
    "coeffs = pd.DataFrame(model.best_estimator_.coef_, columns = X.columns)\n",
    "coeffs_t = coeffs.transpose()\n",
    "coeffs_t.columns = ['Surv coeff']\n",
    "coeffs_t.abs().sort_values('Surv coeff', ascending=False)"
   ]
  },
  {
   "cell_type": "code",
   "execution_count": null,
   "metadata": {},
   "outputs": [],
   "source": [
    "lr_columns = coeffs.columns[(coeffs.abs() > 0.3).values[0]]\n",
    "lr_columns"
   ]
  },
  {
   "cell_type": "markdown",
   "metadata": {},
   "source": [
    "## 5. Comparar sets de características\n",
    "\n",
    "Usá el \"best estimator\" del punto anterior sobre los sets de características obtenidos:\n",
    "\n",
    "- \"kbest_columns\"\n",
    "- \"rfecv_columns\"\n",
    "- \"lr_columns\"\n",
    "- \"all_columns\"\n",
    "\n",
    "Usá validación cruzada (cross_val_score) para evaluar los modelos \n",
    "Preguntas:\n",
    "\n",
    "- Cuál obtuvo mejores resultados?\n",
    "- Hay diferencias signigicativas?\n",
    "- Cuál es la mejor opción? Por qué?"
   ]
  },
  {
   "cell_type": "code",
   "execution_count": null,
   "metadata": {},
   "outputs": [],
   "source": [
    "from sklearn.cross_validation import cross_val_score\n",
    "\n",
    "def score(X):\n",
    "    scores = cross_val_score(model.best_estimator_, X, y)\n",
    "    return scores.mean(), scores.std()\n",
    "\n",
    "all_scores = [\n",
    "    score(X[kbest_columns]),\n",
    "    score(X[rfecv_columns]),\n",
    "    score(X[lr_columns]),\n",
    "    score(X)]\n",
    "\n",
    "pd.DataFrame(all_scores, columns=['mean score', 'std score'], index = ['kbest', 'rfecv', 'lr', 'all'])\n"
   ]
  },
  {
   "cell_type": "markdown",
   "metadata": {},
   "source": [
    "## Bonus\n",
    "\n",
    "Creá un grágico de barras para mostrar los coeficientes de la regresión logística."
   ]
  },
  {
   "cell_type": "code",
   "execution_count": null,
   "metadata": {},
   "outputs": [],
   "source": [
    "coeffs_t.sort_values('Surv coeff').plot(kind='bar')"
   ]
  },
  {
   "cell_type": "code",
   "execution_count": null,
   "metadata": {
    "collapsed": true
   },
   "outputs": [],
   "source": []
  }
 ],
 "metadata": {
  "kernelspec": {
   "display_name": "Python 3",
   "language": "python",
   "name": "python3"
  },
  "language_info": {
   "codemirror_mode": {
    "name": "ipython",
    "version": 3
   },
   "file_extension": ".py",
   "mimetype": "text/x-python",
   "name": "python",
   "nbconvert_exporter": "python",
   "pygments_lexer": "ipython3",
   "version": "3.6.3"
  }
 },
 "nbformat": 4,
 "nbformat_minor": 1
}
