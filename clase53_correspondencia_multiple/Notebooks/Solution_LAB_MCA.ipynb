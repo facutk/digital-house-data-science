{
 "cells": [
  {
   "cell_type": "markdown",
   "metadata": {},
   "source": [
    "# LAB: Multiple Correspondence Analysis sobre datos de opinión pública"
   ]
  },
  {
   "cell_type": "markdown",
   "metadata": {},
   "source": [
    "## Introducción"
   ]
  },
  {
   "cell_type": "markdown",
   "metadata": {},
   "source": [
    "En este caso, trabajaremos con datos de una encuesta de opinión pública realizada en la CABA en el año 2007. Uno de los objetivos de la encuesta era encontrar predictores sobre el autoposicionamiento ideológico de la población. Para ello se realizaron una serie de afirmaciones (vinculadas al rol del estado, a ciertos derechos y al tipo de políticas necesarias para combatir la inseguridad) y se solicitó a los entrevistados que respondieran su nivel de acuerdo con dichas afirmaciones.\n",
    "\n",
    "A los efectos de este LAB hemos recodificado las respuestas en tres grupos: \n",
    "    \n",
    "   - Acuerdo (Muy o bastante de acuerdo)\n",
    "   - Desacuerdo (muy o bastante en desacuerdo)\n",
    "   - No sabe\n",
    "   \n",
    "**Objetivo:** Tenemos dos objetivos:\n",
    "\n",
    "1. representar el dataset en un espacio bidimensional formado por las X afirmaciones relevadas\n",
    "2. encontrar patrones en las respuestas de los encuestados\n"
   ]
  },
  {
   "cell_type": "code",
   "execution_count": null,
   "metadata": {
    "collapsed": true
   },
   "outputs": [],
   "source": [
    "import mca\n",
    "import pandas as pd\n",
    "import numpy as np\n",
    "import matplotlib.pyplot as plt\n",
    "%matplotlib inline"
   ]
  },
  {
   "cell_type": "code",
   "execution_count": null,
   "metadata": {
    "collapsed": false,
    "scrolled": true
   },
   "outputs": [],
   "source": [
    "df = pd.read_csv(\"./Data/eti285.csv\")\n",
    "df2 = pd.get_dummies(df.iloc[:,range(33,df.shape[1])])"
   ]
  },
  {
   "cell_type": "code",
   "execution_count": null,
   "metadata": {
    "collapsed": false
   },
   "outputs": [],
   "source": [
    "ncols = 10\n",
    "mca_ben = mca.MCA(df2, ncols=ncols)"
   ]
  },
  {
   "cell_type": "markdown",
   "metadata": {},
   "source": [
    "Observermos la inercia y la proporción de la varianza explicada."
   ]
  },
  {
   "cell_type": "code",
   "execution_count": null,
   "metadata": {
    "collapsed": false,
    "scrolled": true
   },
   "outputs": [],
   "source": [
    "mca_ben.L"
   ]
  },
  {
   "cell_type": "markdown",
   "metadata": {},
   "source": [
    "Podemos ver que con dos factores logramos explicar alrededor del 78% de la varianza."
   ]
  },
  {
   "cell_type": "code",
   "execution_count": null,
   "metadata": {
    "collapsed": false
   },
   "outputs": [],
   "source": [
    "mca_ben.expl_var(greenacre=False, N=2), mca_ben.expl_var(greenacre=False, N=2).sum()"
   ]
  },
  {
   "cell_type": "markdown",
   "metadata": {},
   "source": [
    "### Análisis gráfico"
   ]
  },
  {
   "cell_type": "markdown",
   "metadata": {},
   "source": [
    "Recuperamos las funciones para plotear las filas y columnas en el espacio bidimensional."
   ]
  },
  {
   "cell_type": "code",
   "execution_count": null,
   "metadata": {
    "collapsed": false
   },
   "outputs": [],
   "source": [
    "def plot_factors_ind_mca(mca_object, X, annotate = True):\n",
    "    \n",
    "    ''' Plot individuals in two first factors of MCA Analysis Arguments:\n",
    "        #################################################\n",
    "        \n",
    "        mca_objet: object with MCA model\n",
    "        X: DataFrame with data\n",
    "    '''\n",
    "    points = mca_object.fs_r(N=2).T\n",
    "    labels = list(X.index)\n",
    "    \n",
    "    fig, ax = plt.subplots()\n",
    "    plt.axhline(0, color='gray')\n",
    "    plt.axvline(0, color='gray')\n",
    "    ax.scatter(points[0], points[1])\n",
    "   \n",
    "    if annotate == True:\n",
    "        for label, x, y in zip(labels, *points):\n",
    "            plt.annotate(label, xy=(x, y))\n",
    "        plt.xlabel('Factor 1')\n",
    "        plt.ylabel('Factor 2')\n",
    "    \n",
    "    else:\n",
    "        plt.xlabel('Factor 1')\n",
    "        plt.ylabel('Factor 2')\n",
    "\n",
    "\n",
    "def plot_factors_vars_mca(mca_object, X):\n",
    "    \n",
    "    ''' Plot individuals in two first factors of MCA Analysis Arguments:\n",
    "        #################################################\n",
    "        \n",
    "        mca_objet: object with MCA model\n",
    "        X: DataFrame with data\n",
    "    '''\n",
    "    points = mca_object.fs_c(N=2).T\n",
    "    \n",
    "    noise = 0.09 * (np.random.rand(*points.shape) - 0.6)\n",
    "    points = noise + points\n",
    "    labels = list(X.columns)\n",
    "    \n",
    "    fig, ax = plt.subplots()\n",
    "    plt.axhline(0, color='gray')\n",
    "    plt.axvline(0, color='gray')\n",
    "    ax.scatter(points[0], points[1])\n",
    "   \n",
    "    for label, x, y in zip(labels, *points):\n",
    "        plt.annotate(label, xy=(x, y))\n",
    "    \n",
    "    plt.xlabel('Factor 1')\n",
    "    plt.ylabel('Factor 2')"
   ]
  },
  {
   "cell_type": "markdown",
   "metadata": {},
   "source": [
    "Observemos ahora como se agrupan los casos en el espacio bidimensional"
   ]
  },
  {
   "cell_type": "code",
   "execution_count": null,
   "metadata": {
    "collapsed": false
   },
   "outputs": [],
   "source": [
    "plot_factors_ind_mca(mca_ben,df2,False)"
   ]
  },
  {
   "cell_type": "markdown",
   "metadata": {},
   "source": [
    "¿Qué representa el espacio bidimensional? Para avanzar en la interpretación, podemos plotear las variables dummy generadas."
   ]
  },
  {
   "cell_type": "code",
   "execution_count": null,
   "metadata": {
    "collapsed": false
   },
   "outputs": [],
   "source": [
    "plot_factors_vars_mca(mca_ben, df2)"
   ]
  },
  {
   "cell_type": "markdown",
   "metadata": {},
   "source": [
    "El cuadrante 2 pareciera agrupar las respuestas más vinculadas a posiciones progresistas:\n",
    "    \n",
    "   - Acuerdo con intervención estatal\n",
    "   - Desacuerdo con incremento de penas\n",
    "   - Desacuerdo con arancelamiento de universidades\n",
    "\n",
    "El tercer cuadrante pareciera agrupar a los más indecisos.\n",
    "\n",
    "El cuadrante cuatro, las posiciones más conservadoras:\n",
    "    \n",
    "   - Acuerdo con incremento de penas\n",
    "   - Desacuerdo con propiedad estatal del empresas de servicios\n",
    "   - Acuerdo con arancelamiento de universidades, etc."
   ]
  },
  {
   "cell_type": "markdown",
   "metadata": {},
   "source": [
    "### Capacidad de clasificación de los componentes utilizados"
   ]
  },
  {
   "cell_type": "markdown",
   "metadata": {},
   "source": [
    "Veamos ahora en qué medida la reducción de la dimensionalidad efectuada permite realizar una clasificación adecuada del autoposicionamiento ideológico de los entrevistados."
   ]
  },
  {
   "cell_type": "code",
   "execution_count": null,
   "metadata": {
    "collapsed": false
   },
   "outputs": [],
   "source": [
    "fs_c_sup = mca_ben.fs_c_sup(pd.get_dummies(df['R_autoposicionamiento_ideologico']), N=2)\n",
    "points = np.vstack((mca_ben.fs_c(N=2),fs_c_sup)).T\n",
    "\n",
    "noise = 0.09 * (np.random.rand(*points.shape) - 0.6)\n",
    "points = noise + points\n",
    "labels = list(df2.columns.append(pd.get_dummies(df['R_autoposicionamiento_ideologico']).columns))\n",
    "\n",
    "fig, ax = plt.subplots()\n",
    "plt.axhline(0, color='gray')\n",
    "plt.axvline(0, color='gray')\n",
    "ax.scatter(points[0], points[1])\n",
    "    \n",
    "for label, x in zip(labels, points.T):\n",
    "    plt.annotate(label, (x[0], x[1]))\n",
    "\n",
    "plt.xlabel('Factor 1')\n",
    "plt.ylabel('Factor 2')"
   ]
  },
  {
   "cell_type": "code",
   "execution_count": null,
   "metadata": {
    "collapsed": true
   },
   "outputs": [],
   "source": []
  }
 ],
 "metadata": {
  "kernelspec": {
   "display_name": "Python 2",
   "language": "python",
   "name": "python2"
  },
  "language_info": {
   "codemirror_mode": {
    "name": "ipython",
    "version": 2
   },
   "file_extension": ".py",
   "mimetype": "text/x-python",
   "name": "python",
   "nbconvert_exporter": "python",
   "pygments_lexer": "ipython2",
   "version": "2.7.13"
  }
 },
 "nbformat": 4,
 "nbformat_minor": 2
}
