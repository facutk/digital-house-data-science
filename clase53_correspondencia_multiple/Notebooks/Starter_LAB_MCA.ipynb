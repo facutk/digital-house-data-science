{
 "cells": [
  {
   "cell_type": "markdown",
   "metadata": {},
   "source": [
    "# LAB: Multiple Correspondence Analysis sobre datos de opinión pública"
   ]
  },
  {
   "cell_type": "markdown",
   "metadata": {},
   "source": [
    "## Introducción"
   ]
  },
  {
   "cell_type": "markdown",
   "metadata": {},
   "source": [
    "En este caso, trabajaremos con datos de una encuesta de opinión pública realizada en la CABA en el año 2007. Uno de los objetivos de la encuesta era encontrar predictores sobre el autoposicionamiento ideológico de la población. Para ello se realizaron una serie de afirmaciones (vinculadas al rol del estado, a ciertos derechos y al tipo de políticas necesarias para combatir la inseguridad) y se solicitó a los entrevistados que respondieran su nivel de acuerdo con dichas afirmaciones.\n",
    "\n",
    "A los efectos de este LAB hemos recodificado las respuestas en tres grupos: \n",
    "    \n",
    "   - Acuerdo (Muy o bastante de acuerdo)\n",
    "   - Desacuerdo (muy o bastante en desacuerdo)\n",
    "   - No sabe\n",
    "   \n",
    "**Objetivo:** Tenemos dos objetivos:\n",
    "\n",
    "1. representar el dataset en un espacio bidimensional formado por las X afirmaciones relevadas\n",
    "2. encontrar patrones en las respuestas de los encuestados\n"
   ]
  },
  {
   "cell_type": "code",
   "execution_count": 65,
   "metadata": {
    "collapsed": true
   },
   "outputs": [],
   "source": [
    "import mca\n",
    "import pandas as pd\n",
    "import numpy as np\n",
    "import matplotlib.pyplot as plt\n",
    "%matplotlib inline"
   ]
  },
  {
   "cell_type": "code",
   "execution_count": 66,
   "metadata": {
    "collapsed": true,
    "scrolled": true
   },
   "outputs": [],
   "source": [
    "df = pd.read_csv(\"../Data/eti285.csv\")\n",
    "\n",
    "# Podemos generar las variables dummies nosotros\n",
    "df2 = pd.get_dummies(df.iloc[:,range(33,df.shape[1])])"
   ]
  },
  {
   "cell_type": "code",
   "execution_count": 67,
   "metadata": {},
   "outputs": [],
   "source": [
    "# MCA tiene un método para generar las dummies de forma directa\n",
    "# Dropeamos las columnas que no vamos a usar\n",
    "\n",
    "df3 = df.drop(['Unnamed: 0', 'id', 'interes_politica', 'diario_mas_lee',\n",
    "       'grupos_influencia_su_opinion', 'autoposicionamiento_ideologico',\n",
    "       'autoposicionamiento_partidario', 'eval_gestion_NK',\n",
    "       'eval_futura_situacion_pais', 'progresismo_conservadurismo',\n",
    "       'nivel_nacionalismo', 'voto_comparado',\n",
    "       'voto_anterior_presidencial_2007', 'voto_anterior_caba_2006',\n",
    "       'pogr_estado_propietario_empresas', 'pogr_estado_interventor',\n",
    "       'cons_universidades_estatales_aranceladas',\n",
    "       'progr_adopcion_parejas_gay', 'cons_aumentar_penas',\n",
    "       'cons_bajar_edad_imputabilidad', 'pogr_control_precios_estado', 'sexo',\n",
    "       'edad', 'estud', 'trabajo', 'distrito', 'salud', 'pon','R_interes_politica', \n",
    "        'R_autoposicionamiento_ideologico', 'R_eval_gestion_NK', \n",
    "        'R_progresismo_conservadurismo', 'R_nacionalismo'],axis=1)\n",
    "\n",
    "\n",
    "# Llamamos al método mca.dummy\n",
    "\n",
    "df3 = mca.dummy(df3)"
   ]
  },
  {
   "cell_type": "markdown",
   "metadata": {},
   "source": [
    "Observermos la inercia y la proporción de la varianza explicada."
   ]
  },
  {
   "cell_type": "code",
   "execution_count": 68,
   "metadata": {},
   "outputs": [],
   "source": [
    "mca_ind = mca.MCA(df2, ncols=10)"
   ]
  },
  {
   "cell_type": "code",
   "execution_count": 69,
   "metadata": {},
   "outputs": [
    {
     "data": {
      "text/plain": [
       "0.1853034942097215"
      ]
     },
     "execution_count": 69,
     "metadata": {},
     "output_type": "execute_result"
    }
   ],
   "source": [
    "mca_ind.inertia"
   ]
  },
  {
   "cell_type": "markdown",
   "metadata": {},
   "source": [
    "Podemos ver que con dos factores logramos explicar alrededor del 78% de la varianza."
   ]
  },
  {
   "cell_type": "code",
   "execution_count": 70,
   "metadata": {},
   "outputs": [
    {
     "data": {
      "text/html": [
       "<div>\n",
       "<style>\n",
       "    .dataframe thead tr:only-child th {\n",
       "        text-align: right;\n",
       "    }\n",
       "\n",
       "    .dataframe thead th {\n",
       "        text-align: left;\n",
       "    }\n",
       "\n",
       "    .dataframe tbody tr th {\n",
       "        vertical-align: top;\n",
       "    }\n",
       "</style>\n",
       "<table border=\"1\" class=\"dataframe\">\n",
       "  <thead>\n",
       "    <tr style=\"text-align: right;\">\n",
       "      <th></th>\n",
       "      <th>cλ</th>\n",
       "      <th>%c</th>\n",
       "    </tr>\n",
       "  </thead>\n",
       "  <tbody>\n",
       "    <tr>\n",
       "      <th>1</th>\n",
       "      <td>0.088187</td>\n",
       "      <td>47.590751</td>\n",
       "    </tr>\n",
       "    <tr>\n",
       "      <th>2</th>\n",
       "      <td>0.080694</td>\n",
       "      <td>43.546670</td>\n",
       "    </tr>\n",
       "    <tr>\n",
       "      <th>3</th>\n",
       "      <td>0.011368</td>\n",
       "      <td>6.134751</td>\n",
       "    </tr>\n",
       "    <tr>\n",
       "      <th>4</th>\n",
       "      <td>0.003049</td>\n",
       "      <td>1.645650</td>\n",
       "    </tr>\n",
       "  </tbody>\n",
       "</table>\n",
       "</div>"
      ],
      "text/plain": [
       "         cλ         %c\n",
       "1  0.088187  47.590751\n",
       "2  0.080694  43.546670\n",
       "3  0.011368   6.134751\n",
       "4  0.003049   1.645650"
      ]
     },
     "execution_count": 70,
     "metadata": {},
     "output_type": "execute_result"
    }
   ],
   "source": [
    "data = np.array([mca_ind.L[:4], \n",
    "                 mca_ind.expl_var(greenacre=False, N=4) * 100]).T\n",
    "df = pd.DataFrame(data=data, columns=['cλ','%c'], index=range(1,5))\n",
    "df"
   ]
  },
  {
   "cell_type": "code",
   "execution_count": 71,
   "metadata": {},
   "outputs": [
    {
     "data": {
      "text/plain": [
       "array([ 0.47590751,  0.4354667 ])"
      ]
     },
     "execution_count": 71,
     "metadata": {},
     "output_type": "execute_result"
    }
   ],
   "source": [
    "mca_ind.expl_var(greenacre=False, N=2)"
   ]
  },
  {
   "cell_type": "markdown",
   "metadata": {},
   "source": [
    "### Análisis gráfico"
   ]
  },
  {
   "cell_type": "markdown",
   "metadata": {},
   "source": [
    "Recuperamos las funciones para plotear las filas y columnas en el espacio bidimensional."
   ]
  },
  {
   "cell_type": "code",
   "execution_count": 72,
   "metadata": {
    "collapsed": true
   },
   "outputs": [],
   "source": [
    "def plot_factors_ind_mca(mca_object, X):\n",
    "    \n",
    "    ''' Plot individuals in two first factors of MCA Analysis Arguments:\n",
    "        #################################################\n",
    "        \n",
    "        mca_objet: object with MCA model\n",
    "        X: DataFrame with data\n",
    "    '''\n",
    "    \n",
    "    %matplotlib inline\n",
    "    import matplotlib.pyplot as plt\n",
    "    \n",
    "    \n",
    "    points = mca_object.fs_r(N=2).T\n",
    "    labels = list(X.index)\n",
    "    \n",
    "    fig, ax = plt.subplots()\n",
    "    plt.axhline(0, color='gray')\n",
    "    plt.axvline(0, color='gray')\n",
    "    ax.scatter(points[0], points[1])\n",
    "   \n",
    "    for label, x, y in zip(labels, *points):\n",
    "        plt.annotate(label, xy=(x, y))\n",
    "    \n",
    "    plt.xlabel('Factor 1')\n",
    "    plt.ylabel('Factor 2')"
   ]
  },
  {
   "cell_type": "markdown",
   "metadata": {},
   "source": [
    "Observemos ahora como se agrupan los casos en el espacio bidimensional"
   ]
  },
  {
   "cell_type": "code",
   "execution_count": 77,
   "metadata": {},
   "outputs": [
    {
     "data": {
      "image/png": "[encoded data removed]",
      "text/plain": [
       "<matplotlib.figure.Figure at 0x7ff810a04630>"
      ]
     },
     "metadata": {},
     "output_type": "display_data"
    }
   ],
   "source": [
    "plot_factors_ind_mca(mca_ind, df2)"
   ]
  },
  {
   "cell_type": "markdown",
   "metadata": {},
   "source": [
    "¿Qué representa el espacio bidimensional? Para avanzar en la interpretación, podemos plotear las variables dummy generadas."
   ]
  },
  {
   "cell_type": "code",
   "execution_count": null,
   "metadata": {
    "collapsed": true
   },
   "outputs": [],
   "source": []
  },
  {
   "cell_type": "markdown",
   "metadata": {},
   "source": [
    "El cuadrante 2 pareciera agrupar las respuestas más vinculadas a posiciones progresistas:\n",
    "    \n",
    "   - Acuerdo con intervención estatal\n",
    "   - Desacuerdo con incremento de penas\n",
    "   - Desacuerdo con arancelamiento de universidades\n",
    "\n",
    "El tercer cuadrante pareciera agrupar a los más indecisos.\n",
    "\n",
    "El cuadrante cuatro, las posiciones más conservadoras:\n",
    "    \n",
    "   - Acuerdo con incremento de penas\n",
    "   - Desacuerdo con propiedad estatal del empresas de servicios\n",
    "   - Acuerdo con arancelamiento de universidades, etc."
   ]
  },
  {
   "cell_type": "markdown",
   "metadata": {},
   "source": [
    "### Capacidad de clasificación de los componentes utilizados"
   ]
  },
  {
   "cell_type": "markdown",
   "metadata": {},
   "source": [
    "Veamos ahora en qué medida la reducción de la dimensionalidad efectuada permite realizar una clasificación adecuada del autoposicionamiento ideológico de los entrevistados."
   ]
  },
  {
   "cell_type": "code",
   "execution_count": null,
   "metadata": {
    "collapsed": true
   },
   "outputs": [],
   "source": []
  },
  {
   "cell_type": "code",
   "execution_count": null,
   "metadata": {
    "collapsed": true
   },
   "outputs": [],
   "source": []
  }
 ],
 "metadata": {
  "kernelspec": {
   "display_name": "Python 3",
   "language": "python",
   "name": "python3"
  },
  "language_info": {
   "codemirror_mode": {
    "name": "ipython",
    "version": 3
   },
   "file_extension": ".py",
   "mimetype": "text/x-python",
   "name": "python",
   "nbconvert_exporter": "python",
   "pygments_lexer": "ipython3",
   "version": "3.6.1"
  }
 },
 "nbformat": 4,
 "nbformat_minor": 2
}
