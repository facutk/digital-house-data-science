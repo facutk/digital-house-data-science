{
 "cells": [
  {
   "cell_type": "markdown",
   "metadata": {},
   "source": [
    "# LAB: Árboles de clasificación para la predicción de enfermedades de corazón\n",
    "\n",
    "## 1. Introducción\n",
    "\n",
    "En esta LAB vamos a tratar de construir un modelo para predecir la presencia de un ataque cardíaco. Para ello usaremos el dataset `Heart.csv`. Estos datos contienen un resultado binario HD para 303 pacientes que se presentaron con dolor en el pecho. \n",
    "\n",
    "Un valor de resultado de Sí indica la presencia de una enfermedad cardíaca basada en una prueba angiográfica, mientras que No significa ninguna enfermedad cardíaca. Hay 13 predictores incluida la edad, el sexo, el colesterol (una medida del colesterol) y otros tipos de corazón y mediciones de la función pulmonar. "
   ]
  },
  {
   "cell_type": "markdown",
   "metadata": {},
   "source": [
    "## 2. Ejercicio\n",
    "\n",
    "### Requisitos\n",
    "\n",
    "1. Construir un árbol de clasificaciṕon\n",
    "- Construir un árbol de clasificación con scikit-learn\n",
    "    - Parámetros globales\n",
    "    - Importancia de los atributos\n",
    "    - Visualización de árboles\n",
    "    - Usar GridSearchCV para encontrar el mejor árbol\n",
    "\n",
    "**Extra:**\n",
    "\n",
    "- Visualizar un árbol más complejo e interpretarlo"
   ]
  },
  {
   "cell_type": "code",
   "execution_count": 1,
   "metadata": {
    "collapsed": true
   },
   "outputs": [],
   "source": [
    "# Leer los datos con Pandas.\n",
    "import numpy as np\n",
    "import pandas as pd\n",
    "import matplotlib.pyplot as plt\n",
    "%matplotlib inline"
   ]
  },
  {
   "cell_type": "markdown",
   "metadata": {},
   "source": [
    "* Recuerden que deberán lidiar con los $NA's$ y con los atributos categoŕicos. Pueden transformarlos en dummies para pasarlos como predictores en el árbol."
   ]
  },
  {
   "cell_type": "code",
   "execution_count": null,
   "metadata": {
    "collapsed": true
   },
   "outputs": [],
   "source": []
  },
  {
   "cell_type": "markdown",
   "metadata": {},
   "source": [
    "* Seguramente deben estar viendo que el árbol tiene una performance... moderarada. Tratar de tunear los hiperparámetros con GridSearch para mejorar su performance."
   ]
  },
  {
   "cell_type": "code",
   "execution_count": null,
   "metadata": {
    "collapsed": true
   },
   "outputs": [],
   "source": []
  }
 ],
 "metadata": {
  "kernelspec": {
   "display_name": "Python 3",
   "language": "python",
   "name": "python3"
  },
  "language_info": {
   "codemirror_mode": {
    "name": "ipython",
    "version": 3
   },
   "file_extension": ".py",
   "mimetype": "text/x-python",
   "name": "python",
   "nbconvert_exporter": "python",
   "pygments_lexer": "ipython3",
   "version": "3.6.1"
  }
 },
 "nbformat": 4,
 "nbformat_minor": 2
}
