{
 "cells": [
  {
   "cell_type": "code",
   "execution_count": 5,
   "metadata": {
    "collapsed": true
   },
   "outputs": [],
   "source": [
    "from sklearn import preprocessing\n",
    "from sklearn.model_selection import train_test_split\n",
    "from sklearn.datasets import make_classification\n",
    "from sklearn.naive_bayes import MultinomialNB\n",
    "from sklearn.linear_model import LogisticRegression\n",
    "from sklearn.neighbors import KNeighborsClassifier\n",
    "from sklearn.naive_bayes import GaussianNB\n",
    "from sklearn.svm import SVC\n",
    "from sklearn.decomposition import PCA\n",
    "from sklearn.metrics import confusion_matrix\n",
    "from sklearn.model_selection import cross_val_score\n",
    "from sklearn.metrics import accuracy_score\n",
    "from sklearn.metrics import f1_score\n",
    "import matplotlib.pyplot as plt\n",
    "import pandas as pd\n",
    "import numpy as np\n",
    "import re\n",
    "import unidecode"
   ]
  },
  {
   "cell_type": "code",
   "execution_count": 10,
   "metadata": {},
   "outputs": [],
   "source": [
    "df_clarin = pd.read_csv('tools/big_clarin.csv')\n",
    "df_destape = pd.read_csv('tools/eldestapeweb.csv')\n",
    "stopwords = pd.read_csv('tools/stopwords.csv', header= None)\n"
   ]
  },
  {
   "cell_type": "code",
   "execution_count": 11,
   "metadata": {
    "collapsed": true
   },
   "outputs": [],
   "source": [
    "df_clarin = df_clarin[pd.notnull(df_clarin['articleBody'])]\n",
    "df_destape = df_destape[pd.notnull(df_destape['articleBody'])]"
   ]
  },
  {
   "cell_type": "code",
   "execution_count": 12,
   "metadata": {},
   "outputs": [
    {
     "data": {
      "text/html": [
       "<div>\n",
       "<style>\n",
       "    .dataframe thead tr:only-child th {\n",
       "        text-align: right;\n",
       "    }\n",
       "\n",
       "    .dataframe thead th {\n",
       "        text-align: left;\n",
       "    }\n",
       "\n",
       "    .dataframe tbody tr th {\n",
       "        vertical-align: top;\n",
       "    }\n",
       "</style>\n",
       "<table border=\"1\" class=\"dataframe\">\n",
       "  <thead>\n",
       "    <tr style=\"text-align: right;\">\n",
       "      <th></th>\n",
       "      <th>articleBody</th>\n",
       "      <th>bajada</th>\n",
       "      <th>headline</th>\n",
       "      <th>link</th>\n",
       "      <th>section</th>\n",
       "      <th>source</th>\n",
       "      <th>volanta</th>\n",
       "    </tr>\n",
       "  </thead>\n",
       "  <tbody>\n",
       "    <tr>\n",
       "      <th>0</th>\n",
       "      <td>La ex presidenta y candidata a senadora de Uni...</td>\n",
       "      <td>La ex presidenta y candidata a senadora de Uni...</td>\n",
       "      <td>El cantito contra Clarín en medio del discurso...</td>\n",
       "      <td>http://www.eldestapeweb.com//el-fuerte-pedido-...</td>\n",
       "      <td>Política</td>\n",
       "      <td>eldestapeweb</td>\n",
       "      <td>Elecciones 2017</td>\n",
       "    </tr>\n",
       "    <tr>\n",
       "      <th>1</th>\n",
       "      <td>Durante el discurso de la candidata a senadora...</td>\n",
       "      <td>Un fuerte repudio contra el grupo de medios má...</td>\n",
       "      <td>El fuerte pedido de Cristina por Maldonado: \"T...</td>\n",
       "      <td>http://www.eldestapeweb.com//el-cantito-contra...</td>\n",
       "      <td>Política</td>\n",
       "      <td>eldestapeweb</td>\n",
       "      <td>Elecciones 2017</td>\n",
       "    </tr>\n",
       "    <tr>\n",
       "      <th>2</th>\n",
       "      <td>Tras las elecciones legislativas de la semana ...</td>\n",
       "      <td>Crecen los rumores en torno a la posible desvi...</td>\n",
       "      <td>ESCÁNDALO | Empresario clave reveló el porcent...</td>\n",
       "      <td>http://www.eldestapeweb.com//macri-ya-tendria-...</td>\n",
       "      <td>Política</td>\n",
       "      <td>eldestapeweb</td>\n",
       "      <td>Macri Presidente</td>\n",
       "    </tr>\n",
       "    <tr>\n",
       "      <th>3</th>\n",
       "      <td>Con un encendido discurso que apuntó a interpe...</td>\n",
       "      <td>La candidata a senadora cerró su campaña de ca...</td>\n",
       "      <td>El fuerte pedido de Cristina por Maldonado: \"T...</td>\n",
       "      <td>http://www.eldestapeweb.com//las-10-frases-mas...</td>\n",
       "      <td>Política</td>\n",
       "      <td>eldestapeweb</td>\n",
       "      <td>Elecciones 2017</td>\n",
       "    </tr>\n",
       "    <tr>\n",
       "      <th>4</th>\n",
       "      <td>Con un encendido discurso que apuntó a interpe...</td>\n",
       "      <td>En medio de su discurso, la candidata a senado...</td>\n",
       "      <td>El fuerte pedido de Cristina por Maldonado: \"T...</td>\n",
       "      <td>http://www.eldestapeweb.com//el-calculo-matema...</td>\n",
       "      <td>Política</td>\n",
       "      <td>eldestapeweb</td>\n",
       "      <td>Elecciones 2017</td>\n",
       "    </tr>\n",
       "  </tbody>\n",
       "</table>\n",
       "</div>"
      ],
      "text/plain": [
       "                                         articleBody  \\\n",
       "0  La ex presidenta y candidata a senadora de Uni...   \n",
       "1  Durante el discurso de la candidata a senadora...   \n",
       "2  Tras las elecciones legislativas de la semana ...   \n",
       "3  Con un encendido discurso que apuntó a interpe...   \n",
       "4  Con un encendido discurso que apuntó a interpe...   \n",
       "\n",
       "                                              bajada  \\\n",
       "0  La ex presidenta y candidata a senadora de Uni...   \n",
       "1  Un fuerte repudio contra el grupo de medios má...   \n",
       "2  Crecen los rumores en torno a la posible desvi...   \n",
       "3  La candidata a senadora cerró su campaña de ca...   \n",
       "4  En medio de su discurso, la candidata a senado...   \n",
       "\n",
       "                                            headline  \\\n",
       "0  El cantito contra Clarín en medio del discurso...   \n",
       "1  El fuerte pedido de Cristina por Maldonado: \"T...   \n",
       "2  ESCÁNDALO | Empresario clave reveló el porcent...   \n",
       "3  El fuerte pedido de Cristina por Maldonado: \"T...   \n",
       "4  El fuerte pedido de Cristina por Maldonado: \"T...   \n",
       "\n",
       "                                                link   section        source  \\\n",
       "0  http://www.eldestapeweb.com//el-fuerte-pedido-...  Política  eldestapeweb   \n",
       "1  http://www.eldestapeweb.com//el-cantito-contra...  Política  eldestapeweb   \n",
       "2  http://www.eldestapeweb.com//macri-ya-tendria-...  Política  eldestapeweb   \n",
       "3  http://www.eldestapeweb.com//las-10-frases-mas...  Política  eldestapeweb   \n",
       "4  http://www.eldestapeweb.com//el-calculo-matema...  Política  eldestapeweb   \n",
       "\n",
       "            volanta  \n",
       "0   Elecciones 2017  \n",
       "1   Elecciones 2017  \n",
       "2  Macri Presidente  \n",
       "3   Elecciones 2017  \n",
       "4   Elecciones 2017  "
      ]
     },
     "execution_count": 12,
     "metadata": {},
     "output_type": "execute_result"
    }
   ],
   "source": [
    "df_destape.head()"
   ]
  },
  {
   "cell_type": "code",
   "execution_count": 13,
   "metadata": {
    "collapsed": true
   },
   "outputs": [],
   "source": [
    "stopwords_list = stopwords[0].values\n",
    "stopwords_list = list(stopwords_list)"
   ]
  },
  {
   "cell_type": "code",
   "execution_count": 14,
   "metadata": {
    "collapsed": true
   },
   "outputs": [],
   "source": [
    "from nltk import word_tokenize\n",
    "from nltk.stem import SnowballStemmer\n",
    "stemmer = SnowballStemmer('spanish')"
   ]
  },
  {
   "cell_type": "code",
   "execution_count": 15,
   "metadata": {
    "collapsed": true
   },
   "outputs": [],
   "source": [
    "def text_stemmer(text):\n",
    "    texto = text.lower()\n",
    "    unaccented_string = unidecode.unidecode(texto)\n",
    "    stripped = re.sub('[^a-z0-9]+', ' ', unaccented_string).lstrip()\n",
    "    stemmed = \" \".join([stemmer.stem(x) for x in stripped.split(' ')])\n",
    "    return stemmed"
   ]
  },
  {
   "cell_type": "code",
   "execution_count": 16,
   "metadata": {
    "collapsed": true
   },
   "outputs": [],
   "source": [
    "#Esto tarda bastante\n",
    "df_clarin['articleBody2'] = df_clarin[\"articleBody\"].apply(text_stemmer)\n",
    "df_destape['articleBody2'] = df_destape[\"articleBody\"].apply(text_stemmer)"
   ]
  },
  {
   "cell_type": "code",
   "execution_count": 17,
   "metadata": {},
   "outputs": [
    {
     "data": {
      "text/html": [
       "<div>\n",
       "<style>\n",
       "    .dataframe thead tr:only-child th {\n",
       "        text-align: right;\n",
       "    }\n",
       "\n",
       "    .dataframe thead th {\n",
       "        text-align: left;\n",
       "    }\n",
       "\n",
       "    .dataframe tbody tr th {\n",
       "        vertical-align: top;\n",
       "    }\n",
       "</style>\n",
       "<table border=\"1\" class=\"dataframe\">\n",
       "  <thead>\n",
       "    <tr style=\"text-align: right;\">\n",
       "      <th></th>\n",
       "      <th>Unnamed: 0</th>\n",
       "      <th>articleBody</th>\n",
       "      <th>bajada</th>\n",
       "      <th>date</th>\n",
       "      <th>headline</th>\n",
       "      <th>section</th>\n",
       "      <th>volanta</th>\n",
       "      <th>articleBody2</th>\n",
       "    </tr>\n",
       "  </thead>\n",
       "  <tbody>\n",
       "    <tr>\n",
       "      <th>0</th>\n",
       "      <td>0</td>\n",
       "      <td>Argentina XV ratificó la supremacía que ejerce...</td>\n",
       "      <td>Cerró la temporada con una goleada, 82-7 a Uru...</td>\n",
       "      <td>2017-10-15 18:32:35.075360</td>\n",
       "      <td>Argentina XV se consagró bicampeón</td>\n",
       "      <td>Deportes</td>\n",
       "      <td>Rugby</td>\n",
       "      <td>argentin xv ratif la supremaci que ejerc en el...</td>\n",
       "    </tr>\n",
       "    <tr>\n",
       "      <th>1</th>\n",
       "      <td>1</td>\n",
       "      <td>En un informe de Transparencia Internacional -...</td>\n",
       "      <td>Un buen gobierno necesita participación activa...</td>\n",
       "      <td>2017-10-15 18:32:35.075360</td>\n",
       "      <td>De súbditos a ciudadanos</td>\n",
       "      <td>Opinión</td>\n",
       "      <td>Del editor al lector</td>\n",
       "      <td>en un inform de transparent internacional cuy ...</td>\n",
       "    </tr>\n",
       "    <tr>\n",
       "      <th>2</th>\n",
       "      <td>2</td>\n",
       "      <td>Instituto ratificó su liderazgo en el Grupo B ...</td>\n",
       "      <td>Superaron a Quimsa y a Olímpico respectivamente.</td>\n",
       "      <td>2017-10-15 18:32:35.075360</td>\n",
       "      <td>Súper 20: ganaron Instituto y Atenas</td>\n",
       "      <td>Deportes</td>\n",
       "      <td>Básquet</td>\n",
       "      <td>institut ratif su liderazg en el grup b del su...</td>\n",
       "    </tr>\n",
       "    <tr>\n",
       "      <th>3</th>\n",
       "      <td>3</td>\n",
       "      <td>En un raid por dos programas de TV, el último ...</td>\n",
       "      <td>Estuvo en los programas de Jorge Lanata y Luis...</td>\n",
       "      <td>2017-10-15 18:32:35.075360</td>\n",
       "      <td>El raid televisivo de Elisa Carrió en el últim...</td>\n",
       "      <td>Política</td>\n",
       "      <td>Elecciones 2017</td>\n",
       "      <td>en un raid por dos program de tv el ultim domi...</td>\n",
       "    </tr>\n",
       "    <tr>\n",
       "      <th>4</th>\n",
       "      <td>4</td>\n",
       "      <td>A una semana exacta de las elecciones, la gobe...</td>\n",
       "      <td>La gobernadora criticó al kirchnerismo: \"Duran...</td>\n",
       "      <td>2017-10-15 18:32:35.075360</td>\n",
       "      <td>María Eugenia Vidal: \"No se puede joder con lo...</td>\n",
       "      <td>Política</td>\n",
       "      <td>A una semana de las elecciones</td>\n",
       "      <td>a una seman exact de las eleccion la gobern bo...</td>\n",
       "    </tr>\n",
       "  </tbody>\n",
       "</table>\n",
       "</div>"
      ],
      "text/plain": [
       "   Unnamed: 0                                        articleBody  \\\n",
       "0           0  Argentina XV ratificó la supremacía que ejerce...   \n",
       "1           1  En un informe de Transparencia Internacional -...   \n",
       "2           2  Instituto ratificó su liderazgo en el Grupo B ...   \n",
       "3           3  En un raid por dos programas de TV, el último ...   \n",
       "4           4  A una semana exacta de las elecciones, la gobe...   \n",
       "\n",
       "                                              bajada  \\\n",
       "0  Cerró la temporada con una goleada, 82-7 a Uru...   \n",
       "1  Un buen gobierno necesita participación activa...   \n",
       "2   Superaron a Quimsa y a Olímpico respectivamente.   \n",
       "3  Estuvo en los programas de Jorge Lanata y Luis...   \n",
       "4  La gobernadora criticó al kirchnerismo: \"Duran...   \n",
       "\n",
       "                         date  \\\n",
       "0  2017-10-15 18:32:35.075360   \n",
       "1  2017-10-15 18:32:35.075360   \n",
       "2  2017-10-15 18:32:35.075360   \n",
       "3  2017-10-15 18:32:35.075360   \n",
       "4  2017-10-15 18:32:35.075360   \n",
       "\n",
       "                                            headline   section  \\\n",
       "0                 Argentina XV se consagró bicampeón  Deportes   \n",
       "1                           De súbditos a ciudadanos   Opinión   \n",
       "2               Súper 20: ganaron Instituto y Atenas  Deportes   \n",
       "3  El raid televisivo de Elisa Carrió en el últim...  Política   \n",
       "4  María Eugenia Vidal: \"No se puede joder con lo...  Política   \n",
       "\n",
       "                          volanta  \\\n",
       "0                           Rugby   \n",
       "1            Del editor al lector   \n",
       "2                         Básquet   \n",
       "3                 Elecciones 2017   \n",
       "4  A una semana de las elecciones   \n",
       "\n",
       "                                        articleBody2  \n",
       "0  argentin xv ratif la supremaci que ejerc en el...  \n",
       "1  en un inform de transparent internacional cuy ...  \n",
       "2  institut ratif su liderazg en el grup b del su...  \n",
       "3  en un raid por dos program de tv el ultim domi...  \n",
       "4  a una seman exact de las eleccion la gobern bo...  "
      ]
     },
     "execution_count": 17,
     "metadata": {},
     "output_type": "execute_result"
    }
   ],
   "source": [
    "df_clarin.head(5)"
   ]
  },
  {
   "cell_type": "code",
   "execution_count": 23,
   "metadata": {
    "collapsed": true
   },
   "outputs": [],
   "source": [
    "df = pd.concat([df_clarin,df_destape])\n",
    "#df_clarin.info(), df_destape.info(), df.info()"
   ]
  },
  {
   "cell_type": "code",
   "execution_count": 27,
   "metadata": {
    "collapsed": true
   },
   "outputs": [],
   "source": [
    "#df_section = df[(df.section == 'Política') | (df.section == 'Economía')]\n",
    "X = df['articleBody2']\n",
    "y = df['diario']"
   ]
  },
  {
   "cell_type": "code",
   "execution_count": 28,
   "metadata": {
    "collapsed": true
   },
   "outputs": [],
   "source": [
    "X_train, X_test, y_train, y_test = train_test_split(X, y, test_size=0.33, random_state=2)"
   ]
  },
  {
   "cell_type": "code",
   "execution_count": 7,
   "metadata": {},
   "outputs": [
    {
     "ename": "NameError",
     "evalue": "name 'stopwords_list' is not defined",
     "output_type": "error",
     "traceback": [
      "\u001b[0;31m---------------------------------------------------------------------------\u001b[0m",
      "\u001b[0;31mNameError\u001b[0m                                 Traceback (most recent call last)",
      "\u001b[0;32m<ipython-input-7-b01af4deb704>\u001b[0m in \u001b[0;36m<module>\u001b[0;34m()\u001b[0m\n\u001b[1;32m      1\u001b[0m \u001b[0;31m#Vectorizar\u001b[0m\u001b[0;34m\u001b[0m\u001b[0;34m\u001b[0m\u001b[0m\n\u001b[1;32m      2\u001b[0m \u001b[0;32mfrom\u001b[0m \u001b[0msklearn\u001b[0m\u001b[0;34m.\u001b[0m\u001b[0mfeature_extraction\u001b[0m\u001b[0;34m.\u001b[0m\u001b[0mtext\u001b[0m \u001b[0;32mimport\u001b[0m \u001b[0mCountVectorizer\u001b[0m\u001b[0;34m\u001b[0m\u001b[0m\n\u001b[0;32m----> 3\u001b[0;31m \u001b[0mcount_vect\u001b[0m \u001b[0;34m=\u001b[0m \u001b[0mCountVectorizer\u001b[0m\u001b[0;34m(\u001b[0m\u001b[0mstrip_accents\u001b[0m\u001b[0;34m=\u001b[0m \u001b[0;34m'ascii'\u001b[0m\u001b[0;34m,\u001b[0m \u001b[0mstop_words\u001b[0m\u001b[0;34m=\u001b[0m \u001b[0mstopwords_list\u001b[0m\u001b[0;34m)\u001b[0m\u001b[0;34m\u001b[0m\u001b[0m\n\u001b[0m\u001b[1;32m      4\u001b[0m \u001b[0mcount_vect\u001b[0m\u001b[0;34m.\u001b[0m\u001b[0mfit\u001b[0m\u001b[0;34m(\u001b[0m\u001b[0mX_train\u001b[0m\u001b[0;34m)\u001b[0m\u001b[0;34m\u001b[0m\u001b[0m\n\u001b[1;32m      5\u001b[0m \u001b[0mX_train_counts\u001b[0m \u001b[0;34m=\u001b[0m \u001b[0mcount_vect\u001b[0m\u001b[0;34m.\u001b[0m\u001b[0mtransform\u001b[0m\u001b[0;34m(\u001b[0m\u001b[0mX_train\u001b[0m\u001b[0;34m)\u001b[0m\u001b[0;34m\u001b[0m\u001b[0m\n",
      "\u001b[0;31mNameError\u001b[0m: name 'stopwords_list' is not defined"
     ]
    }
   ],
   "source": [
    "#Vectorizar \n",
    "from sklearn.feature_extraction.text import CountVectorizer\n",
    "count_vect = CountVectorizer(strip_accents= 'ascii', stop_words= stopwords_list)\n",
    "count_vect.fit(X_train)\n",
    "X_train_counts = count_vect.transform(X_train)\n",
    "\n",
    "X_train_counts.shape"
   ]
  },
  {
   "cell_type": "code",
   "execution_count": 8,
   "metadata": {
    "collapsed": true
   },
   "outputs": [],
   "source": [
    "#frecuencia por palabra\n",
    "#from sklearn.feature_extraction.text import TfidfTransformer\n",
    "#tfidf_transformer = TfidfTransformer()\n",
    "#tfidf_transformer.fit(X_train_counts)\n",
    "#X_train_tfidf = tfidf_transformer.transform(X_train_counts)\n",
    "\n",
    "#X_train_tfidf.shape"
   ]
  },
  {
   "cell_type": "code",
   "execution_count": 9,
   "metadata": {},
   "outputs": [
    {
     "ename": "NameError",
     "evalue": "name 'count_vect' is not defined",
     "output_type": "error",
     "traceback": [
      "\u001b[0;31m---------------------------------------------------------------------------\u001b[0m",
      "\u001b[0;31mNameError\u001b[0m                                 Traceback (most recent call last)",
      "\u001b[0;32m<ipython-input-9-c168131bb698>\u001b[0m in \u001b[0;36m<module>\u001b[0;34m()\u001b[0m\n\u001b[0;32m----> 1\u001b[0;31m \u001b[0mX_test_counts\u001b[0m \u001b[0;34m=\u001b[0m \u001b[0mcount_vect\u001b[0m\u001b[0;34m.\u001b[0m\u001b[0mtransform\u001b[0m\u001b[0;34m(\u001b[0m\u001b[0mX_test\u001b[0m\u001b[0;34m)\u001b[0m\u001b[0;34m\u001b[0m\u001b[0m\n\u001b[0m\u001b[1;32m      2\u001b[0m \u001b[0;31m#X_test_tfidf = tfidf_transformer.transform(X_test_counts)\u001b[0m\u001b[0;34m\u001b[0m\u001b[0;34m\u001b[0m\u001b[0m\n\u001b[1;32m      3\u001b[0m \u001b[0mX_train\u001b[0m\u001b[0;34m\u001b[0m\u001b[0m\n",
      "\u001b[0;31mNameError\u001b[0m: name 'count_vect' is not defined"
     ]
    }
   ],
   "source": [
    "X_test_counts = count_vect.transform(X_test)\n",
    "#X_test_tfidf = tfidf_transformer.transform(X_test_counts)\n",
    "X_train"
   ]
  },
  {
   "cell_type": "markdown",
   "metadata": {},
   "source": [
    "### Multinomial Naive Bayes"
   ]
  },
  {
   "cell_type": "code",
   "execution_count": 32,
   "metadata": {},
   "outputs": [
    {
     "name": "stdout",
     "output_type": "stream",
     "text": [
      "Accuracy Multi NB:  0.91095890411\n"
     ]
    }
   ],
   "source": [
    "model_multinb = MultinomialNB().fit(X_train_counts, y_train)\n",
    "y_pred_multinb = model_multinb.predict(X_test_counts)\n",
    "\n",
    "print('Accuracy Multi NB: ',accuracy_score(y_pred_multinb, y_test))"
   ]
  },
  {
   "cell_type": "code",
   "execution_count": 34,
   "metadata": {},
   "outputs": [
    {
     "data": {
      "text/html": [
       "<div>\n",
       "<style>\n",
       "    .dataframe thead tr:only-child th {\n",
       "        text-align: right;\n",
       "    }\n",
       "\n",
       "    .dataframe thead th {\n",
       "        text-align: left;\n",
       "    }\n",
       "\n",
       "    .dataframe tbody tr th {\n",
       "        vertical-align: top;\n",
       "    }\n",
       "</style>\n",
       "<table border=\"1\" class=\"dataframe\">\n",
       "  <thead>\n",
       "    <tr style=\"text-align: right;\">\n",
       "      <th></th>\n",
       "      <th>articleBody2</th>\n",
       "      <th>Prediction</th>\n",
       "    </tr>\n",
       "  </thead>\n",
       "  <tbody>\n",
       "    <tr>\n",
       "      <th>306</th>\n",
       "      <td>el ex ministr de educacion esteb bullrich come...</td>\n",
       "      <td>destape</td>\n",
       "    </tr>\n",
       "    <tr>\n",
       "      <th>929</th>\n",
       "      <td>el conductor joaquin poll alvarez hiz una fuer...</td>\n",
       "      <td>clarin</td>\n",
       "    </tr>\n",
       "    <tr>\n",
       "      <th>899</th>\n",
       "      <td>el luchador de ufc jeremy stephens se aguant c...</td>\n",
       "      <td>destape</td>\n",
       "    </tr>\n",
       "    <tr>\n",
       "      <th>1830</th>\n",
       "      <td>com una imag pued dispar recuerd olor sensacio...</td>\n",
       "      <td>clarin</td>\n",
       "    </tr>\n",
       "    <tr>\n",
       "      <th>1413</th>\n",
       "      <td>carac abril de 2017 el vagon de subt tan abarr...</td>\n",
       "      <td>clarin</td>\n",
       "    </tr>\n",
       "    <tr>\n",
       "      <th>928</th>\n",
       "      <td>esta tard marcel tinayr debut com conductor de...</td>\n",
       "      <td>destape</td>\n",
       "    </tr>\n",
       "    <tr>\n",
       "      <th>280</th>\n",
       "      <td>el period fern niembr fue candidat a diput por...</td>\n",
       "      <td>clarin</td>\n",
       "    </tr>\n",
       "    <tr>\n",
       "      <th>2019</th>\n",
       "      <td>la posibil de ten un metrobus que llev previsi...</td>\n",
       "      <td>clarin</td>\n",
       "    </tr>\n",
       "    <tr>\n",
       "      <th>1106</th>\n",
       "      <td>te respond lo que quier si me habl asi tan bon...</td>\n",
       "      <td>clarin</td>\n",
       "    </tr>\n",
       "    <tr>\n",
       "      <th>269</th>\n",
       "      <td>la famili de santiag maldon tuv que sal a desa...</td>\n",
       "      <td>destape</td>\n",
       "    </tr>\n",
       "  </tbody>\n",
       "</table>\n",
       "</div>"
      ],
      "text/plain": [
       "                                           articleBody2 Prediction\n",
       "306   el ex ministr de educacion esteb bullrich come...    destape\n",
       "929   el conductor joaquin poll alvarez hiz una fuer...     clarin\n",
       "899   el luchador de ufc jeremy stephens se aguant c...    destape\n",
       "1830  com una imag pued dispar recuerd olor sensacio...     clarin\n",
       "1413  carac abril de 2017 el vagon de subt tan abarr...     clarin\n",
       "928   esta tard marcel tinayr debut com conductor de...    destape\n",
       "280   el period fern niembr fue candidat a diput por...     clarin\n",
       "2019  la posibil de ten un metrobus que llev previsi...     clarin\n",
       "1106  te respond lo que quier si me habl asi tan bon...     clarin\n",
       "269   la famili de santiag maldon tuv que sal a desa...    destape"
      ]
     },
     "execution_count": 34,
     "metadata": {},
     "output_type": "execute_result"
    }
   ],
   "source": [
    "df_results = pd.DataFrame(X_test)\n",
    "df_results['Prediction'] = y_pred_multinb\n",
    "df_results.head(10)"
   ]
  },
  {
   "cell_type": "markdown",
   "metadata": {},
   "source": [
    "### KNN"
   ]
  },
  {
   "cell_type": "code",
   "execution_count": 36,
   "metadata": {},
   "outputs": [
    {
     "name": "stdout",
     "output_type": "stream",
     "text": [
      "Accuracy KNN:  0.756360078278\n"
     ]
    }
   ],
   "source": [
    "model_knn = KNeighborsClassifier(n_neighbors=5)\n",
    "model_knn.fit(X_train_counts,y_train)\n",
    "y_pred_knn = model_knn.predict(X_test_counts)\n",
    "print('Accuracy KNN: ',accuracy_score(y_pred_knn, y_test))"
   ]
  },
  {
   "cell_type": "code",
   "execution_count": 37,
   "metadata": {
    "collapsed": true
   },
   "outputs": [],
   "source": [
    "# Calculamos nuevamente los scores de cross validation, pero esta vez sobre los features estandarizados\n",
    "X_counts = count_vect.transform(X)\n",
    "from sklearn.model_selection import cross_val_score\n",
    "scores_para_df_standar = []\n",
    "for i in range(1,100,5):\n",
    "    model_knn = KNeighborsClassifier(n_neighbors=i)\n",
    "    cv_scores = cross_val_score(model_knn, X_counts, y, cv=5)\n",
    "    dict_row_score = {'score_medio':np.mean(cv_scores),'score_std':np.std(cv_scores),'n_neighbours':i}\n",
    "    scores_para_df_standar.append(dict_row_score)"
   ]
  },
  {
   "cell_type": "code",
   "execution_count": 38,
   "metadata": {},
   "outputs": [
    {
     "data": {
      "text/html": [
       "<div>\n",
       "<style>\n",
       "    .dataframe thead tr:only-child th {\n",
       "        text-align: right;\n",
       "    }\n",
       "\n",
       "    .dataframe thead th {\n",
       "        text-align: left;\n",
       "    }\n",
       "\n",
       "    .dataframe tbody tr th {\n",
       "        vertical-align: top;\n",
       "    }\n",
       "</style>\n",
       "<table border=\"1\" class=\"dataframe\">\n",
       "  <thead>\n",
       "    <tr style=\"text-align: right;\">\n",
       "      <th></th>\n",
       "      <th>n_neighbours</th>\n",
       "      <th>score_medio</th>\n",
       "      <th>score_std</th>\n",
       "    </tr>\n",
       "  </thead>\n",
       "  <tbody>\n",
       "    <tr>\n",
       "      <th>0</th>\n",
       "      <td>1</td>\n",
       "      <td>0.747091</td>\n",
       "      <td>0.024090</td>\n",
       "    </tr>\n",
       "    <tr>\n",
       "      <th>1</th>\n",
       "      <td>6</td>\n",
       "      <td>0.784551</td>\n",
       "      <td>0.020796</td>\n",
       "    </tr>\n",
       "    <tr>\n",
       "      <th>2</th>\n",
       "      <td>11</td>\n",
       "      <td>0.751610</td>\n",
       "      <td>0.027327</td>\n",
       "    </tr>\n",
       "    <tr>\n",
       "      <th>3</th>\n",
       "      <td>16</td>\n",
       "      <td>0.760975</td>\n",
       "      <td>0.026930</td>\n",
       "    </tr>\n",
       "    <tr>\n",
       "      <th>4</th>\n",
       "      <td>21</td>\n",
       "      <td>0.747730</td>\n",
       "      <td>0.027024</td>\n",
       "    </tr>\n",
       "  </tbody>\n",
       "</table>\n",
       "</div>"
      ],
      "text/plain": [
       "   n_neighbours  score_medio  score_std\n",
       "0             1     0.747091   0.024090\n",
       "1             6     0.784551   0.020796\n",
       "2            11     0.751610   0.027327\n",
       "3            16     0.760975   0.026930\n",
       "4            21     0.747730   0.027024"
      ]
     },
     "execution_count": 38,
     "metadata": {},
     "output_type": "execute_result"
    }
   ],
   "source": [
    "df_scores_standar = pd.DataFrame(scores_para_df_standar)\n",
    "df_scores_standar.head()"
   ]
  },
  {
   "cell_type": "code",
   "execution_count": 39,
   "metadata": {
    "collapsed": true
   },
   "outputs": [],
   "source": [
    "# Armamos nuevamente los límites para graficar\n",
    "df_scores_standar['limite_superior'] = df_scores_standar['score_medio'] + df_scores_standar['score_std']\n",
    "df_scores_standar['limite_inferior'] = df_scores_standar['score_medio'] - df_scores_standar['score_std']"
   ]
  },
  {
   "cell_type": "code",
   "execution_count": 40,
   "metadata": {},
   "outputs": [
    {
     "data": {
      "image/png": "[encoded data removed]",
      "text/plain": [
       "<matplotlib.figure.Figure at 0x4952be0>"
      ]
     },
     "metadata": {},
     "output_type": "display_data"
    }
   ],
   "source": [
    "# Buscamos gráficamente el valor ópitmo para n_neighbors\n",
    "import matplotlib.pyplot as plt\n",
    "%matplotlib inline\n",
    "\n",
    "plt.plot(df_scores_standar['n_neighbours'],df_scores_standar['limite_inferior'],color='r')\n",
    "plt.plot(df_scores_standar['n_neighbours'],df_scores_standar['score_medio'],color='b')\n",
    "plt.plot(df_scores_standar['n_neighbours'],df_scores_standar['limite_superior'],color='r');"
   ]
  },
  {
   "cell_type": "markdown",
   "metadata": {},
   "source": [
    "### SVM"
   ]
  },
  {
   "cell_type": "code",
   "execution_count": null,
   "metadata": {
    "collapsed": true
   },
   "outputs": [],
   "source": [
    "svc_C = [1, 5, 10, 50]\n",
    "svc_gamma = [0.0001, 0.0005, 0.001, 0.005]\n",
    "for c in svc_C:\n",
    "    for g in svc_gamma:\n",
    "        model_svm = SVC(kernel='rbf', class_weight='balanced', C=c, gamma = g)\n",
    "        print (np.mean(cross_val_score(model_svm,X_train_counts,y_train,cv=5)),' gamma:',g,' C:',c)"
   ]
  },
  {
   "cell_type": "code",
   "execution_count": 42,
   "metadata": {},
   "outputs": [
    {
     "name": "stdout",
     "output_type": "stream",
     "text": [
      "Accuracy SVM:  0.954990215264\n"
     ]
    }
   ],
   "source": [
    "model_svm = SVC(kernel='rbf', class_weight='balanced', C=50, gamma = 0.0001)\n",
    "model_svm.fit(X_train_counts,y_train)\n",
    "y_pred_svm = model_svm.predict(X_test_counts)\n",
    "print('Accuracy SVM: ',accuracy_score(y_pred_svm, y_test))"
   ]
  },
  {
   "cell_type": "markdown",
   "metadata": {},
   "source": [
    "### Regresión Logística"
   ]
  },
  {
   "cell_type": "code",
   "execution_count": 43,
   "metadata": {},
   "outputs": [
    {
     "name": "stdout",
     "output_type": "stream",
     "text": [
      "Accuracy Logistic Regression:  0.955968688845\n"
     ]
    }
   ],
   "source": [
    "model_log = LogisticRegression(C=0.1)\n",
    "model_log.fit(X_train_counts, y_train)\n",
    "y_pred_log = model_log.predict(X_test_counts)\n",
    "print('Accuracy Logistic Regression: ',accuracy_score(y_pred_log, y_test))"
   ]
  },
  {
   "cell_type": "code",
   "execution_count": 44,
   "metadata": {},
   "outputs": [
    {
     "data": {
      "text/html": [
       "<div>\n",
       "<style>\n",
       "    .dataframe thead tr:only-child th {\n",
       "        text-align: right;\n",
       "    }\n",
       "\n",
       "    .dataframe thead th {\n",
       "        text-align: left;\n",
       "    }\n",
       "\n",
       "    .dataframe tbody tr th {\n",
       "        vertical-align: top;\n",
       "    }\n",
       "</style>\n",
       "<table border=\"1\" class=\"dataframe\">\n",
       "  <thead>\n",
       "    <tr style=\"text-align: right;\">\n",
       "      <th></th>\n",
       "      <th>articleBody2</th>\n",
       "      <th>Prediction</th>\n",
       "    </tr>\n",
       "  </thead>\n",
       "  <tbody>\n",
       "    <tr>\n",
       "      <th>306</th>\n",
       "      <td>el ex ministr de educacion esteb bullrich come...</td>\n",
       "      <td>destape</td>\n",
       "    </tr>\n",
       "    <tr>\n",
       "      <th>929</th>\n",
       "      <td>el conductor joaquin poll alvarez hiz una fuer...</td>\n",
       "      <td>destape</td>\n",
       "    </tr>\n",
       "    <tr>\n",
       "      <th>899</th>\n",
       "      <td>el luchador de ufc jeremy stephens se aguant c...</td>\n",
       "      <td>destape</td>\n",
       "    </tr>\n",
       "    <tr>\n",
       "      <th>1830</th>\n",
       "      <td>com una imag pued dispar recuerd olor sensacio...</td>\n",
       "      <td>clarin</td>\n",
       "    </tr>\n",
       "    <tr>\n",
       "      <th>1413</th>\n",
       "      <td>carac abril de 2017 el vagon de subt tan abarr...</td>\n",
       "      <td>clarin</td>\n",
       "    </tr>\n",
       "    <tr>\n",
       "      <th>928</th>\n",
       "      <td>esta tard marcel tinayr debut com conductor de...</td>\n",
       "      <td>clarin</td>\n",
       "    </tr>\n",
       "    <tr>\n",
       "      <th>280</th>\n",
       "      <td>el period fern niembr fue candidat a diput por...</td>\n",
       "      <td>destape</td>\n",
       "    </tr>\n",
       "    <tr>\n",
       "      <th>2019</th>\n",
       "      <td>la posibil de ten un metrobus que llev previsi...</td>\n",
       "      <td>clarin</td>\n",
       "    </tr>\n",
       "    <tr>\n",
       "      <th>1106</th>\n",
       "      <td>te respond lo que quier si me habl asi tan bon...</td>\n",
       "      <td>clarin</td>\n",
       "    </tr>\n",
       "    <tr>\n",
       "      <th>269</th>\n",
       "      <td>la famili de santiag maldon tuv que sal a desa...</td>\n",
       "      <td>destape</td>\n",
       "    </tr>\n",
       "  </tbody>\n",
       "</table>\n",
       "</div>"
      ],
      "text/plain": [
       "                                           articleBody2 Prediction\n",
       "306   el ex ministr de educacion esteb bullrich come...    destape\n",
       "929   el conductor joaquin poll alvarez hiz una fuer...    destape\n",
       "899   el luchador de ufc jeremy stephens se aguant c...    destape\n",
       "1830  com una imag pued dispar recuerd olor sensacio...     clarin\n",
       "1413  carac abril de 2017 el vagon de subt tan abarr...     clarin\n",
       "928   esta tard marcel tinayr debut com conductor de...     clarin\n",
       "280   el period fern niembr fue candidat a diput por...    destape\n",
       "2019  la posibil de ten un metrobus que llev previsi...     clarin\n",
       "1106  te respond lo que quier si me habl asi tan bon...     clarin\n",
       "269   la famili de santiag maldon tuv que sal a desa...    destape"
      ]
     },
     "execution_count": 44,
     "metadata": {},
     "output_type": "execute_result"
    }
   ],
   "source": [
    "df_results = pd.DataFrame(X_test)\n",
    "df_results['Prediction'] = y_pred_log\n",
    "df_results.head(10)"
   ]
  },
  {
   "cell_type": "code",
   "execution_count": null,
   "metadata": {
    "collapsed": true
   },
   "outputs": [],
   "source": []
  }
 ],
 "metadata": {
  "kernelspec": {
   "display_name": "Python 3",
   "language": "python",
   "name": "python3"
  },
  "language_info": {
   "codemirror_mode": {
    "name": "ipython",
    "version": 3
   },
   "file_extension": ".py",
   "mimetype": "text/x-python",
   "name": "python",
   "nbconvert_exporter": "python",
   "pygments_lexer": "ipython3",
   "version": "3.6.1"
  }
 },
 "nbformat": 4,
 "nbformat_minor": 2
}
