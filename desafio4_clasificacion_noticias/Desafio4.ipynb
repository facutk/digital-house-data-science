{
 "cells": [
  {
   "cell_type": "markdown",
   "metadata": {},
   "source": [
    "# Desafío 4"
   ]
  },
  {
   "cell_type": "markdown",
   "metadata": {},
   "source": [
    "En este desafío se practicarán dos habilidades importantes: la recolección de datos a través de scrapping de sitios web y la estimación de un clasficiador binario a partir de un modelo de regresión logística. "
   ]
  },
  {
   "cell_type": "markdown",
   "metadata": {},
   "source": [
    "## Paso 1. Scrapeando el sitio"
   ]
  },
  {
   "cell_type": "markdown",
   "metadata": {},
   "source": [
    "Vamos a hacer un scrap usando BeautifulSoup. Escribí el código que usaste a continuación"
   ]
  },
  {
   "cell_type": "code",
   "execution_count": 1,
   "metadata": {
    "collapsed": true
   },
   "outputs": [],
   "source": [
    "import requests\n",
    "import bs4\n",
    "from bs4 import BeautifulSoup"
   ]
  },
  {
   "cell_type": "code",
   "execution_count": null,
   "metadata": {
    "collapsed": true
   },
   "outputs": [],
   "source": [
    "### TU CODIGO ACA"
   ]
  },
  {
   "cell_type": "markdown",
   "metadata": {},
   "source": [
    "### Escribí funciones que te permitan extraer las variables que vos pensás que correlacionan bien con tu dataset. DEBES generar y extraer al menos 4 variables.!"
   ]
  },
  {
   "cell_type": "markdown",
   "metadata": {},
   "source": [
    "**Asegurate de que estas funciones sean robustas y puedan majerar casos donde los campos puedan no estar disponibles.**\n",
    "- Recordá chequear si un campo está vació o _None_ al momento de aplicar métodos sobre el mimsmo\n",
    "- Recordá usar try/except si prevées que puede haber errores\n",
    "- Testeá las funciones en los resultados de arriba y en ejemplos simples"
   ]
  },
  {
   "cell_type": "code",
   "execution_count": null,
   "metadata": {
    "collapsed": true
   },
   "outputs": [],
   "source": [
    "### TU CODIGO ACA"
   ]
  },
  {
   "cell_type": "markdown",
   "metadata": {},
   "source": [
    "### Asegurate de tener al menos 1000 filas antes de continuar."
   ]
  },
  {
   "cell_type": "markdown",
   "metadata": {},
   "source": [
    "** Liimpiá, normalizá/ estandarizá tus datos acá**\n",
    "- Fechas formateadas correctamente\n",
    "- Eliminá signos de dólar o $, espacios, puntos, caracteres extraños, etc. etc."
   ]
  },
  {
   "cell_type": "code",
   "execution_count": null,
   "metadata": {
    "collapsed": true
   },
   "outputs": [],
   "source": [
    "### TU CODIGO ACA"
   ]
  },
  {
   "cell_type": "markdown",
   "metadata": {},
   "source": [
    "### Creá un DataFrame que compile todos los resultados de la limpieza de datos."
   ]
  },
  {
   "cell_type": "code",
   "execution_count": null,
   "metadata": {
    "collapsed": true
   },
   "outputs": [],
   "source": [
    "### TU CODIGO ACA"
   ]
  },
  {
   "cell_type": "markdown",
   "metadata": {},
   "source": [
    "### Llená los valores vacíos con la media de la columna y/o eliminá las columnas de la tabla, dependiendo de las circunstancias."
   ]
  },
  {
   "cell_type": "code",
   "execution_count": null,
   "metadata": {
    "collapsed": true
   },
   "outputs": [],
   "source": [
    "### TU CODIGO ACA"
   ]
  },
  {
   "cell_type": "markdown",
   "metadata": {},
   "source": [
    "### Guardá tus resultados como CSV"
   ]
  },
  {
   "cell_type": "code",
   "execution_count": null,
   "metadata": {
    "collapsed": true
   },
   "outputs": [],
   "source": [
    "### TU CODIGO ACA"
   ]
  },
  {
   "cell_type": "markdown",
   "metadata": {
    "collapsed": true
   },
   "source": [
    "## Paso 2. Prediciendo varia usando Regresión Logística"
   ]
  },
  {
   "cell_type": "markdown",
   "metadata": {},
   "source": [
    "**Cargá los datos scrapeados**"
   ]
  },
  {
   "cell_type": "code",
   "execution_count": null,
   "metadata": {
    "collapsed": true
   },
   "outputs": [],
   "source": [
    "### TU CODIGO ACA"
   ]
  },
  {
   "cell_type": "markdown",
   "metadata": {},
   "source": [
    "### Queremos predicir si la variable dependiente está o no en el rango con una variable binaria. Dicotomizá algunos de tus predictores para buscar correlaciones. Si tenés algún problema, buscá el Lab de Regresión."
   ]
  },
  {
   "cell_type": "code",
   "execution_count": null,
   "metadata": {
    "collapsed": true
   },
   "outputs": [],
   "source": [
    "### TU CODIGO ACA"
   ]
  },
  {
   "cell_type": "markdown",
   "metadata": {},
   "source": [
    "### Thought experiment: cuál es la línea de base para la precisión de este modelo?"
   ]
  },
  {
   "cell_type": "code",
   "execution_count": null,
   "metadata": {
    "collapsed": true
   },
   "outputs": [],
   "source": [
    "### TU CODIGO ACA"
   ]
  },
  {
   "cell_type": "markdown",
   "metadata": {},
   "source": [
    "### Creá un modelo de regresión logística para predicir tu variable dependiente usando _statsmodel_. Comenzá usando UN SOLO predictor. Desplegá el coeficiente y hacé un resumen de lo que cada predictor significa."
   ]
  },
  {
   "cell_type": "code",
   "execution_count": null,
   "metadata": {
    "collapsed": true
   },
   "outputs": [],
   "source": [
    "### TU CODIGO ACA"
   ]
  },
  {
   "cell_type": "markdown",
   "metadata": {},
   "source": [
    "**Creá algunas variables nuevas en tu dataframe para represetar aspectos relevantes de tus predictores**\n",
    "- Por ejemplo, si estuvieras trabajando con estadísticas de demanda del puesto de trabajo, creá una variable que represente si el término \"Senior\" está en la descripción del puesto de trabajo\n",
    "- Luego, construí un nuevo modelo logístico incorporando esas nuevas variables. ¿Agregan capacidad predictiva al modelo?"
   ]
  },
  {
   "cell_type": "code",
   "execution_count": 1,
   "metadata": {
    "collapsed": true
   },
   "outputs": [],
   "source": [
    "### TU CODIGO ACA"
   ]
  },
  {
   "cell_type": "markdown",
   "metadata": {},
   "source": [
    "**Volvé a construir el modelo usando scikit-learn.**\n",
    "- Podés crear las variables dummy manualmente o usar la función _dmatrix_ de _patsy_\n",
    "- Recordá reescalar las variables también"
   ]
  },
  {
   "cell_type": "code",
   "execution_count": null,
   "metadata": {
    "collapsed": true
   },
   "outputs": [],
   "source": [
    "### TU CODIGO ACA"
   ]
  },
  {
   "cell_type": "markdown",
   "metadata": {},
   "source": [
    "**Usá cross-validation en scikit-learn para evaluar el modelo anterior.**\n",
    "- Evaluá la performance, AUC, precisión y recall del modelo.\n",
    "- Exponé las diferencias y explicá por qué querés un modelo con alto recall o uno con alta precisión en este escenario."
   ]
  },
  {
   "cell_type": "code",
   "execution_count": null,
   "metadata": {
    "collapsed": true
   },
   "outputs": [],
   "source": [
    "### TU CODIGO ACA"
   ]
  },
  {
   "cell_type": "markdown",
   "metadata": {},
   "source": [
    "**Compará las regularizaciones L1 and L2 para este modelo de regresión. ¿Qué efecto tienen en los coeficientes apredidos?**"
   ]
  },
  {
   "cell_type": "code",
   "execution_count": null,
   "metadata": {
    "collapsed": true
   },
   "outputs": [],
   "source": [
    "### TU CODIGO ACA"
   ]
  },
  {
   "cell_type": "code",
   "execution_count": null,
   "metadata": {
    "collapsed": true
   },
   "outputs": [],
   "source": [
    "### TU CODIGO ACA"
   ]
  },
  {
   "cell_type": "markdown",
   "metadata": {},
   "source": [
    "**Continuá incorporando otras variables basadas en el texto que pensás que van a contribuir a predecir tu variable dependiente y examiná sus respectivos coeficietes. Screpeá más entradas relacionadas con tus datos. Formatealas correctamente y usalas como test-set para tu modelo.**"
   ]
  },
  {
   "cell_type": "markdown",
   "metadata": {},
   "source": [
    "### BONUS\n",
    "**Bonus: Usá Count Vectorizer from scikit-learn para crear predictores usando resúmenes de texto, si existen.**\n",
    "- Examiná si usar conteos o variables binarias en el modelo\n",
    "- Re-evaluá el modelo logístico usando dichas variables. Mejoran la performance del modelo?\n",
    "- Cuáles variables basadas en texto son las más valiosas?"
   ]
  },
  {
   "cell_type": "code",
   "execution_count": null,
   "metadata": {
    "collapsed": true
   },
   "outputs": [],
   "source": [
    "### TU CODIGO ACA"
   ]
  },
  {
   "cell_type": "code",
   "execution_count": null,
   "metadata": {
    "collapsed": true
   },
   "outputs": [],
   "source": [
    "### TU CODIGO ACA"
   ]
  },
  {
   "cell_type": "markdown",
   "metadata": {},
   "source": [
    "**Testeá nuevamente las regularizaciones L1 y L2. Podés usar _LogisticRegressionCV_ para encontrar los parámetros de regularización óptimos.**\n",
    "- Volvé a testear cuáles son las variables en base  al texto más valiosas.\n",
    "- ¿En qué forma L1 y L2 afectan a los coeficientes?"
   ]
  },
  {
   "cell_type": "code",
   "execution_count": null,
   "metadata": {
    "collapsed": true
   },
   "outputs": [],
   "source": [
    "### TU CODIGO ACA"
   ]
  },
  {
   "cell_type": "code",
   "execution_count": null,
   "metadata": {
    "collapsed": true
   },
   "outputs": [],
   "source": []
  }
 ],
 "metadata": {
  "kernelspec": {
   "display_name": "Python 3",
   "language": "python",
   "name": "python3"
  },
  "language_info": {
   "codemirror_mode": {
    "name": "ipython",
    "version": 3
   },
   "file_extension": ".py",
   "mimetype": "text/x-python",
   "name": "python",
   "nbconvert_exporter": "python",
   "pygments_lexer": "ipython3",
   "version": "3.6.1"
  }
 },
 "nbformat": 4,
 "nbformat_minor": 2
}
