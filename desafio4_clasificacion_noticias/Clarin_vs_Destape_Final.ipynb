{
 "cells": [
  {
   "cell_type": "code",
   "execution_count": 1,
   "metadata": {
    "collapsed": true
   },
   "outputs": [],
   "source": [
    "from sklearn import preprocessing\n",
    "from sklearn.model_selection import train_test_split\n",
    "from sklearn.datasets import make_classification\n",
    "from sklearn.naive_bayes import MultinomialNB\n",
    "from sklearn.linear_model import LogisticRegression\n",
    "from sklearn.neighbors import KNeighborsClassifier\n",
    "from sklearn.naive_bayes import GaussianNB\n",
    "from sklearn.svm import SVC\n",
    "from sklearn.decomposition import PCA\n",
    "from sklearn.metrics import confusion_matrix\n",
    "from sklearn.model_selection import cross_val_score\n",
    "from sklearn.metrics import accuracy_score\n",
    "from sklearn.metrics import f1_score\n",
    "import matplotlib.pyplot as plt\n",
    "import pandas as pd\n",
    "import numpy as np\n",
    "import re\n",
    "import unidecode"
   ]
  },
  {
   "cell_type": "code",
   "execution_count": 2,
   "metadata": {
    "collapsed": true
   },
   "outputs": [],
   "source": [
    "df_clarin = pd.read_csv('tools/big_clarin.csv')\n",
    "df_destape = pd.read_csv('tools/eldestapeweb.csv')\n",
    "stopwords = pd.read_csv('tools/stopwords.csv', header= None)\n"
   ]
  },
  {
   "cell_type": "code",
   "execution_count": 3,
   "metadata": {
    "collapsed": true
   },
   "outputs": [],
   "source": [
    "df_clarin = df_clarin[pd.notnull(df_clarin['articleBody'])]\n",
    "df_destape = df_destape[pd.notnull(df_destape['articleBody'])]"
   ]
  },
  {
   "cell_type": "code",
   "execution_count": 4,
   "metadata": {
    "collapsed": true
   },
   "outputs": [],
   "source": [
    "df_clarin['diario'] = 'clarin'\n",
    "df_destape['diario'] = 'destape'"
   ]
  },
  {
   "cell_type": "code",
   "execution_count": 5,
   "metadata": {},
   "outputs": [
    {
     "data": {
      "text/html": [
       "<div>\n",
       "<style>\n",
       "    .dataframe thead tr:only-child th {\n",
       "        text-align: right;\n",
       "    }\n",
       "\n",
       "    .dataframe thead th {\n",
       "        text-align: left;\n",
       "    }\n",
       "\n",
       "    .dataframe tbody tr th {\n",
       "        vertical-align: top;\n",
       "    }\n",
       "</style>\n",
       "<table border=\"1\" class=\"dataframe\">\n",
       "  <thead>\n",
       "    <tr style=\"text-align: right;\">\n",
       "      <th></th>\n",
       "      <th>articleBody</th>\n",
       "      <th>bajada</th>\n",
       "      <th>headline</th>\n",
       "      <th>link</th>\n",
       "      <th>section</th>\n",
       "      <th>source</th>\n",
       "      <th>volanta</th>\n",
       "      <th>diario</th>\n",
       "    </tr>\n",
       "  </thead>\n",
       "  <tbody>\n",
       "    <tr>\n",
       "      <th>0</th>\n",
       "      <td>La ex presidenta y candidata a senadora de Uni...</td>\n",
       "      <td>La ex presidenta y candidata a senadora de Uni...</td>\n",
       "      <td>El cantito contra Clarín en medio del discurso...</td>\n",
       "      <td>http://www.eldestapeweb.com//el-fuerte-pedido-...</td>\n",
       "      <td>Política</td>\n",
       "      <td>eldestapeweb</td>\n",
       "      <td>Elecciones 2017</td>\n",
       "      <td>destape</td>\n",
       "    </tr>\n",
       "    <tr>\n",
       "      <th>1</th>\n",
       "      <td>Durante el discurso de la candidata a senadora...</td>\n",
       "      <td>Un fuerte repudio contra el grupo de medios má...</td>\n",
       "      <td>El fuerte pedido de Cristina por Maldonado: \"T...</td>\n",
       "      <td>http://www.eldestapeweb.com//el-cantito-contra...</td>\n",
       "      <td>Política</td>\n",
       "      <td>eldestapeweb</td>\n",
       "      <td>Elecciones 2017</td>\n",
       "      <td>destape</td>\n",
       "    </tr>\n",
       "    <tr>\n",
       "      <th>2</th>\n",
       "      <td>Tras las elecciones legislativas de la semana ...</td>\n",
       "      <td>Crecen los rumores en torno a la posible desvi...</td>\n",
       "      <td>ESCÁNDALO | Empresario clave reveló el porcent...</td>\n",
       "      <td>http://www.eldestapeweb.com//macri-ya-tendria-...</td>\n",
       "      <td>Política</td>\n",
       "      <td>eldestapeweb</td>\n",
       "      <td>Macri Presidente</td>\n",
       "      <td>destape</td>\n",
       "    </tr>\n",
       "    <tr>\n",
       "      <th>3</th>\n",
       "      <td>Con un encendido discurso que apuntó a interpe...</td>\n",
       "      <td>La candidata a senadora cerró su campaña de ca...</td>\n",
       "      <td>El fuerte pedido de Cristina por Maldonado: \"T...</td>\n",
       "      <td>http://www.eldestapeweb.com//las-10-frases-mas...</td>\n",
       "      <td>Política</td>\n",
       "      <td>eldestapeweb</td>\n",
       "      <td>Elecciones 2017</td>\n",
       "      <td>destape</td>\n",
       "    </tr>\n",
       "    <tr>\n",
       "      <th>4</th>\n",
       "      <td>Con un encendido discurso que apuntó a interpe...</td>\n",
       "      <td>En medio de su discurso, la candidata a senado...</td>\n",
       "      <td>El fuerte pedido de Cristina por Maldonado: \"T...</td>\n",
       "      <td>http://www.eldestapeweb.com//el-calculo-matema...</td>\n",
       "      <td>Política</td>\n",
       "      <td>eldestapeweb</td>\n",
       "      <td>Elecciones 2017</td>\n",
       "      <td>destape</td>\n",
       "    </tr>\n",
       "  </tbody>\n",
       "</table>\n",
       "</div>"
      ],
      "text/plain": [
       "                                         articleBody  \\\n",
       "0  La ex presidenta y candidata a senadora de Uni...   \n",
       "1  Durante el discurso de la candidata a senadora...   \n",
       "2  Tras las elecciones legislativas de la semana ...   \n",
       "3  Con un encendido discurso que apuntó a interpe...   \n",
       "4  Con un encendido discurso que apuntó a interpe...   \n",
       "\n",
       "                                              bajada  \\\n",
       "0  La ex presidenta y candidata a senadora de Uni...   \n",
       "1  Un fuerte repudio contra el grupo de medios má...   \n",
       "2  Crecen los rumores en torno a la posible desvi...   \n",
       "3  La candidata a senadora cerró su campaña de ca...   \n",
       "4  En medio de su discurso, la candidata a senado...   \n",
       "\n",
       "                                            headline  \\\n",
       "0  El cantito contra Clarín en medio del discurso...   \n",
       "1  El fuerte pedido de Cristina por Maldonado: \"T...   \n",
       "2  ESCÁNDALO | Empresario clave reveló el porcent...   \n",
       "3  El fuerte pedido de Cristina por Maldonado: \"T...   \n",
       "4  El fuerte pedido de Cristina por Maldonado: \"T...   \n",
       "\n",
       "                                                link   section        source  \\\n",
       "0  http://www.eldestapeweb.com//el-fuerte-pedido-...  Política  eldestapeweb   \n",
       "1  http://www.eldestapeweb.com//el-cantito-contra...  Política  eldestapeweb   \n",
       "2  http://www.eldestapeweb.com//macri-ya-tendria-...  Política  eldestapeweb   \n",
       "3  http://www.eldestapeweb.com//las-10-frases-mas...  Política  eldestapeweb   \n",
       "4  http://www.eldestapeweb.com//el-calculo-matema...  Política  eldestapeweb   \n",
       "\n",
       "            volanta   diario  \n",
       "0   Elecciones 2017  destape  \n",
       "1   Elecciones 2017  destape  \n",
       "2  Macri Presidente  destape  \n",
       "3   Elecciones 2017  destape  \n",
       "4   Elecciones 2017  destape  "
      ]
     },
     "execution_count": 5,
     "metadata": {},
     "output_type": "execute_result"
    }
   ],
   "source": [
    "df_destape.head()"
   ]
  },
  {
   "cell_type": "code",
   "execution_count": 6,
   "metadata": {
    "collapsed": true
   },
   "outputs": [],
   "source": [
    "stopwords_list = stopwords[0].values\n",
    "stopwords_list = list(stopwords_list)"
   ]
  },
  {
   "cell_type": "code",
   "execution_count": 7,
   "metadata": {
    "collapsed": true
   },
   "outputs": [],
   "source": [
    "from nltk import word_tokenize\n",
    "from nltk.stem import SnowballStemmer\n",
    "stemmer = SnowballStemmer('spanish')"
   ]
  },
  {
   "cell_type": "code",
   "execution_count": 8,
   "metadata": {
    "collapsed": true
   },
   "outputs": [],
   "source": [
    "def text_stemmer(text):\n",
    "    texto = text.lower()\n",
    "    unaccented_string = unidecode.unidecode(texto)\n",
    "    stripped = re.sub('[^a-z0-9]+', ' ', unaccented_string).lstrip()\n",
    "    stemmed = \" \".join([stemmer.stem(x) for x in stripped.split(' ')])\n",
    "    return stemmed"
   ]
  },
  {
   "cell_type": "code",
   "execution_count": 9,
   "metadata": {
    "collapsed": true
   },
   "outputs": [],
   "source": [
    "#Esto tarda bastante\n",
    "df_clarin['articleBody2'] = df_clarin[\"articleBody\"].apply(text_stemmer)\n",
    "df_destape['articleBody2'] = df_destape[\"articleBody\"].apply(text_stemmer)"
   ]
  },
  {
   "cell_type": "code",
   "execution_count": 10,
   "metadata": {},
   "outputs": [
    {
     "data": {
      "text/html": [
       "<div>\n",
       "<style>\n",
       "    .dataframe thead tr:only-child th {\n",
       "        text-align: right;\n",
       "    }\n",
       "\n",
       "    .dataframe thead th {\n",
       "        text-align: left;\n",
       "    }\n",
       "\n",
       "    .dataframe tbody tr th {\n",
       "        vertical-align: top;\n",
       "    }\n",
       "</style>\n",
       "<table border=\"1\" class=\"dataframe\">\n",
       "  <thead>\n",
       "    <tr style=\"text-align: right;\">\n",
       "      <th></th>\n",
       "      <th>Unnamed: 0</th>\n",
       "      <th>articleBody</th>\n",
       "      <th>bajada</th>\n",
       "      <th>date</th>\n",
       "      <th>headline</th>\n",
       "      <th>section</th>\n",
       "      <th>volanta</th>\n",
       "      <th>diario</th>\n",
       "      <th>articleBody2</th>\n",
       "    </tr>\n",
       "  </thead>\n",
       "  <tbody>\n",
       "    <tr>\n",
       "      <th>0</th>\n",
       "      <td>0</td>\n",
       "      <td>Argentina XV ratificó la supremacía que ejerce...</td>\n",
       "      <td>Cerró la temporada con una goleada, 82-7 a Uru...</td>\n",
       "      <td>2017-10-15 18:32:35.075360</td>\n",
       "      <td>Argentina XV se consagró bicampeón</td>\n",
       "      <td>Deportes</td>\n",
       "      <td>Rugby</td>\n",
       "      <td>clarin</td>\n",
       "      <td>argentin xv ratif la supremaci que ejerc en el...</td>\n",
       "    </tr>\n",
       "    <tr>\n",
       "      <th>1</th>\n",
       "      <td>1</td>\n",
       "      <td>En un informe de Transparencia Internacional -...</td>\n",
       "      <td>Un buen gobierno necesita participación activa...</td>\n",
       "      <td>2017-10-15 18:32:35.075360</td>\n",
       "      <td>De súbditos a ciudadanos</td>\n",
       "      <td>Opinión</td>\n",
       "      <td>Del editor al lector</td>\n",
       "      <td>clarin</td>\n",
       "      <td>en un inform de transparent internacional cuy ...</td>\n",
       "    </tr>\n",
       "    <tr>\n",
       "      <th>2</th>\n",
       "      <td>2</td>\n",
       "      <td>Instituto ratificó su liderazgo en el Grupo B ...</td>\n",
       "      <td>Superaron a Quimsa y a Olímpico respectivamente.</td>\n",
       "      <td>2017-10-15 18:32:35.075360</td>\n",
       "      <td>Súper 20: ganaron Instituto y Atenas</td>\n",
       "      <td>Deportes</td>\n",
       "      <td>Básquet</td>\n",
       "      <td>clarin</td>\n",
       "      <td>institut ratif su liderazg en el grup b del su...</td>\n",
       "    </tr>\n",
       "    <tr>\n",
       "      <th>3</th>\n",
       "      <td>3</td>\n",
       "      <td>En un raid por dos programas de TV, el último ...</td>\n",
       "      <td>Estuvo en los programas de Jorge Lanata y Luis...</td>\n",
       "      <td>2017-10-15 18:32:35.075360</td>\n",
       "      <td>El raid televisivo de Elisa Carrió en el últim...</td>\n",
       "      <td>Política</td>\n",
       "      <td>Elecciones 2017</td>\n",
       "      <td>clarin</td>\n",
       "      <td>en un raid por dos program de tv el ultim domi...</td>\n",
       "    </tr>\n",
       "    <tr>\n",
       "      <th>4</th>\n",
       "      <td>4</td>\n",
       "      <td>A una semana exacta de las elecciones, la gobe...</td>\n",
       "      <td>La gobernadora criticó al kirchnerismo: \"Duran...</td>\n",
       "      <td>2017-10-15 18:32:35.075360</td>\n",
       "      <td>María Eugenia Vidal: \"No se puede joder con lo...</td>\n",
       "      <td>Política</td>\n",
       "      <td>A una semana de las elecciones</td>\n",
       "      <td>clarin</td>\n",
       "      <td>a una seman exact de las eleccion la gobern bo...</td>\n",
       "    </tr>\n",
       "  </tbody>\n",
       "</table>\n",
       "</div>"
      ],
      "text/plain": [
       "   Unnamed: 0                                        articleBody  \\\n",
       "0           0  Argentina XV ratificó la supremacía que ejerce...   \n",
       "1           1  En un informe de Transparencia Internacional -...   \n",
       "2           2  Instituto ratificó su liderazgo en el Grupo B ...   \n",
       "3           3  En un raid por dos programas de TV, el último ...   \n",
       "4           4  A una semana exacta de las elecciones, la gobe...   \n",
       "\n",
       "                                              bajada  \\\n",
       "0  Cerró la temporada con una goleada, 82-7 a Uru...   \n",
       "1  Un buen gobierno necesita participación activa...   \n",
       "2   Superaron a Quimsa y a Olímpico respectivamente.   \n",
       "3  Estuvo en los programas de Jorge Lanata y Luis...   \n",
       "4  La gobernadora criticó al kirchnerismo: \"Duran...   \n",
       "\n",
       "                         date  \\\n",
       "0  2017-10-15 18:32:35.075360   \n",
       "1  2017-10-15 18:32:35.075360   \n",
       "2  2017-10-15 18:32:35.075360   \n",
       "3  2017-10-15 18:32:35.075360   \n",
       "4  2017-10-15 18:32:35.075360   \n",
       "\n",
       "                                            headline   section  \\\n",
       "0                 Argentina XV se consagró bicampeón  Deportes   \n",
       "1                           De súbditos a ciudadanos   Opinión   \n",
       "2               Súper 20: ganaron Instituto y Atenas  Deportes   \n",
       "3  El raid televisivo de Elisa Carrió en el últim...  Política   \n",
       "4  María Eugenia Vidal: \"No se puede joder con lo...  Política   \n",
       "\n",
       "                          volanta  diario  \\\n",
       "0                           Rugby  clarin   \n",
       "1            Del editor al lector  clarin   \n",
       "2                         Básquet  clarin   \n",
       "3                 Elecciones 2017  clarin   \n",
       "4  A una semana de las elecciones  clarin   \n",
       "\n",
       "                                        articleBody2  \n",
       "0  argentin xv ratif la supremaci que ejerc en el...  \n",
       "1  en un inform de transparent internacional cuy ...  \n",
       "2  institut ratif su liderazg en el grup b del su...  \n",
       "3  en un raid por dos program de tv el ultim domi...  \n",
       "4  a una seman exact de las eleccion la gobern bo...  "
      ]
     },
     "execution_count": 10,
     "metadata": {},
     "output_type": "execute_result"
    }
   ],
   "source": [
    "df_clarin.head(5)"
   ]
  },
  {
   "cell_type": "code",
   "execution_count": 11,
   "metadata": {
    "collapsed": true
   },
   "outputs": [],
   "source": [
    "#Para comparar todas las secciones comentar esto\n",
    "df_politica_destape = df_destape[(df_destape.section == 'Política') | (df_destape.section == 'PolÃ\\xadtica')]\n",
    "df_politica_clarin = df_clarin[(df_clarin.section == 'Política')]\n",
    "df = pd.concat([df_politica_clarin,df_politica_destape])"
   ]
  },
  {
   "cell_type": "code",
   "execution_count": 12,
   "metadata": {
    "collapsed": true
   },
   "outputs": [],
   "source": [
    "X = df['articleBody2']\n",
    "y = df['diario']"
   ]
  },
  {
   "cell_type": "code",
   "execution_count": 13,
   "metadata": {
    "collapsed": true
   },
   "outputs": [],
   "source": [
    "X_train, X_test, y_train, y_test = train_test_split(X, y, test_size=0.33, random_state=2)"
   ]
  },
  {
   "cell_type": "code",
   "execution_count": 14,
   "metadata": {},
   "outputs": [
    {
     "data": {
      "text/plain": [
       "(792, 12536)"
      ]
     },
     "execution_count": 14,
     "metadata": {},
     "output_type": "execute_result"
    }
   ],
   "source": [
    "#Vectorizar \n",
    "from sklearn.feature_extraction.text import CountVectorizer\n",
    "count_vect = CountVectorizer(strip_accents= 'ascii', stop_words= stopwords_list)\n",
    "count_vect.fit(X_train)\n",
    "X_train_counts = count_vect.transform(X_train)\n",
    "\n",
    "X_train_counts.shape"
   ]
  },
  {
   "cell_type": "code",
   "execution_count": 15,
   "metadata": {},
   "outputs": [],
   "source": [
    "#frecuencia por palabra (por alguna razon funciona peor el TDiDF)\n",
    "#from sklearn.feature_extraction.text import TfidfVectorizer\n",
    "#tfidf = TfidfVectorizer(strip_accents= 'ascii', stop_words= stopwords_list)\n",
    "#tfidf.fit(X_train)\n",
    "#X_train_tfidf = tfidf.transform(X_train)\n",
    "\n",
    "#X_train_tfidf.shape"
   ]
  },
  {
   "cell_type": "code",
   "execution_count": 16,
   "metadata": {
    "collapsed": true
   },
   "outputs": [],
   "source": [
    "X_test_counts = count_vect.transform(X_test)\n",
    "#X_test_tfidf = tfidf.transform(X_test)\n"
   ]
  },
  {
   "cell_type": "markdown",
   "metadata": {},
   "source": [
    "### Multinomial Naive Bayes"
   ]
  },
  {
   "cell_type": "code",
   "execution_count": 17,
   "metadata": {},
   "outputs": [
    {
     "name": "stdout",
     "output_type": "stream",
     "text": [
      "Accuracy Multi NB:  0.887468030691\n"
     ]
    }
   ],
   "source": [
    "model_multinb = MultinomialNB().fit(X_train_counts, y_train)\n",
    "y_pred_multinb = model_multinb.predict(X_test_counts)\n",
    "\n",
    "print('Accuracy Multi NB: ',accuracy_score(y_pred_multinb, y_test))"
   ]
  },
  {
   "cell_type": "code",
   "execution_count": 18,
   "metadata": {
    "collapsed": true
   },
   "outputs": [],
   "source": [
    "df_results = pd.DataFrame(X_test)\n",
    "df_results['Prediction'] = y_pred_multinb\n"
   ]
  },
  {
   "cell_type": "markdown",
   "metadata": {},
   "source": [
    "### KNN"
   ]
  },
  {
   "cell_type": "code",
   "execution_count": 19,
   "metadata": {},
   "outputs": [
    {
     "name": "stdout",
     "output_type": "stream",
     "text": [
      "Accuracy KNN:  0.841432225064\n"
     ]
    }
   ],
   "source": [
    "model_knn = KNeighborsClassifier(n_neighbors=5)\n",
    "model_knn.fit(X_train_counts,y_train)\n",
    "y_pred_knn = model_knn.predict(X_test_counts)\n",
    "print('Accuracy KNN: ',accuracy_score(y_pred_knn, y_test))"
   ]
  },
  {
   "cell_type": "code",
   "execution_count": 20,
   "metadata": {
    "collapsed": true
   },
   "outputs": [],
   "source": [
    "# Calculamos nuevamente los scores de cross validation, pero esta vez sobre los features estandarizados\n",
    "X_counts = count_vect.transform(X)\n",
    "from sklearn.model_selection import cross_val_score\n",
    "scores_para_df_standar = []\n",
    "for i in range(1,100,5):\n",
    "    model_knn = KNeighborsClassifier(n_neighbors=i)\n",
    "    cv_scores = cross_val_score(model_knn, X_counts, y, cv=5)\n",
    "    dict_row_score = {'score_medio':np.mean(cv_scores),'score_std':np.std(cv_scores),'n_neighbours':i}\n",
    "    scores_para_df_standar.append(dict_row_score)"
   ]
  },
  {
   "cell_type": "code",
   "execution_count": 21,
   "metadata": {},
   "outputs": [
    {
     "data": {
      "text/html": [
       "<div>\n",
       "<style>\n",
       "    .dataframe thead tr:only-child th {\n",
       "        text-align: right;\n",
       "    }\n",
       "\n",
       "    .dataframe thead th {\n",
       "        text-align: left;\n",
       "    }\n",
       "\n",
       "    .dataframe tbody tr th {\n",
       "        vertical-align: top;\n",
       "    }\n",
       "</style>\n",
       "<table border=\"1\" class=\"dataframe\">\n",
       "  <thead>\n",
       "    <tr style=\"text-align: right;\">\n",
       "      <th></th>\n",
       "      <th>n_neighbours</th>\n",
       "      <th>score_medio</th>\n",
       "      <th>score_std</th>\n",
       "    </tr>\n",
       "  </thead>\n",
       "  <tbody>\n",
       "    <tr>\n",
       "      <th>0</th>\n",
       "      <td>1</td>\n",
       "      <td>0.838490</td>\n",
       "      <td>0.027405</td>\n",
       "    </tr>\n",
       "    <tr>\n",
       "      <th>1</th>\n",
       "      <td>6</td>\n",
       "      <td>0.850333</td>\n",
       "      <td>0.027627</td>\n",
       "    </tr>\n",
       "    <tr>\n",
       "      <th>2</th>\n",
       "      <td>11</td>\n",
       "      <td>0.841018</td>\n",
       "      <td>0.036413</td>\n",
       "    </tr>\n",
       "    <tr>\n",
       "      <th>3</th>\n",
       "      <td>16</td>\n",
       "      <td>0.844400</td>\n",
       "      <td>0.035083</td>\n",
       "    </tr>\n",
       "    <tr>\n",
       "      <th>4</th>\n",
       "      <td>21</td>\n",
       "      <td>0.839319</td>\n",
       "      <td>0.040662</td>\n",
       "    </tr>\n",
       "  </tbody>\n",
       "</table>\n",
       "</div>"
      ],
      "text/plain": [
       "   n_neighbours  score_medio  score_std\n",
       "0             1     0.838490   0.027405\n",
       "1             6     0.850333   0.027627\n",
       "2            11     0.841018   0.036413\n",
       "3            16     0.844400   0.035083\n",
       "4            21     0.839319   0.040662"
      ]
     },
     "execution_count": 21,
     "metadata": {},
     "output_type": "execute_result"
    }
   ],
   "source": [
    "df_scores_standar = pd.DataFrame(scores_para_df_standar)\n",
    "df_scores_standar.head()"
   ]
  },
  {
   "cell_type": "code",
   "execution_count": 22,
   "metadata": {
    "collapsed": true
   },
   "outputs": [],
   "source": [
    "# Armamos nuevamente los límites para graficar\n",
    "df_scores_standar['limite_superior'] = df_scores_standar['score_medio'] + df_scores_standar['score_std']\n",
    "df_scores_standar['limite_inferior'] = df_scores_standar['score_medio'] - df_scores_standar['score_std']"
   ]
  },
  {
   "cell_type": "code",
   "execution_count": 23,
   "metadata": {},
   "outputs": [
    {
     "data": {
      "image/png": "[encoded data removed]",
      "text/plain": [
       "<matplotlib.figure.Figure at 0x7fd1dd1fc898>"
      ]
     },
     "metadata": {},
     "output_type": "display_data"
    }
   ],
   "source": [
    "# Buscamos gráficamente el valor ópitmo para n_neighbors\n",
    "import matplotlib.pyplot as plt\n",
    "%matplotlib inline\n",
    "\n",
    "plt.plot(df_scores_standar['n_neighbours'],df_scores_standar['limite_inferior'],color='r')\n",
    "plt.plot(df_scores_standar['n_neighbours'],df_scores_standar['score_medio'],color='b')\n",
    "plt.plot(df_scores_standar['n_neighbours'],df_scores_standar['limite_superior'],color='r');"
   ]
  },
  {
   "cell_type": "markdown",
   "metadata": {},
   "source": [
    "### SVM"
   ]
  },
  {
   "cell_type": "code",
   "execution_count": 24,
   "metadata": {},
   "outputs": [
    {
     "name": "stdout",
     "output_type": "stream",
     "text": [
      "0.883854788631  gamma: 0.0001  C: 1\n",
      "0.910397261365  gamma: 0.0005  C: 1\n",
      "0.90913143858  gamma: 0.001  C: 1\n",
      "0.852328636255  gamma: 0.005  C: 1\n",
      "0.915436669055  gamma: 0.0001  C: 5\n",
      "0.933118382294  gamma: 0.0005  C: 5\n",
      "0.92678926837  gamma: 0.001  C: 5\n",
      "0.861149590001  gamma: 0.005  C: 5\n",
      "0.931860520659  gamma: 0.0001  C: 10\n",
      "0.938149828835  gamma: 0.0005  C: 10\n",
      "0.926781307221  gamma: 0.001  C: 10\n",
      "0.861149590001  gamma: 0.005  C: 10\n",
      "0.93688400605  gamma: 0.0001  C: 50\n",
      "0.938157789985  gamma: 0.0005  C: 50\n",
      "0.926781307221  gamma: 0.001  C: 50\n",
      "0.861149590001  gamma: 0.005  C: 50\n"
     ]
    }
   ],
   "source": [
    "svc_C = [1, 5, 10, 50]\n",
    "svc_gamma = [0.0001, 0.0005, 0.001, 0.005]\n",
    "for c in svc_C:\n",
    "    for g in svc_gamma:\n",
    "        model_svm = SVC(kernel='rbf', class_weight='balanced', C=c, gamma = g)\n",
    "        print (np.mean(cross_val_score(model_svm,X_train_counts,y_train,cv=5)),' gamma:',g,' C:',c)"
   ]
  },
  {
   "cell_type": "code",
   "execution_count": 25,
   "metadata": {},
   "outputs": [
    {
     "name": "stdout",
     "output_type": "stream",
     "text": [
      "Accuracy SVM:  0.961636828645\n"
     ]
    }
   ],
   "source": [
    "model_svm = SVC(kernel='rbf', class_weight='balanced', C=50, gamma = 0.0001)\n",
    "model_svm.fit(X_train_counts,y_train)\n",
    "y_pred_svm = model_svm.predict(X_test_counts)\n",
    "print('Accuracy SVM: ',accuracy_score(y_pred_svm, y_test))"
   ]
  },
  {
   "cell_type": "markdown",
   "metadata": {},
   "source": [
    "### Regresión Logística"
   ]
  },
  {
   "cell_type": "code",
   "execution_count": 26,
   "metadata": {},
   "outputs": [
    {
     "name": "stdout",
     "output_type": "stream",
     "text": [
      "Accuracy Logistic Regression:  0.95652173913\n"
     ]
    }
   ],
   "source": [
    "model_log = LogisticRegression(C=0.1)\n",
    "model_log.fit(X_train_counts, y_train)\n",
    "y_pred_log = model_log.predict(X_test_counts)\n",
    "print('Accuracy Logistic Regression: ',accuracy_score(y_pred_log, y_test))"
   ]
  },
  {
   "cell_type": "code",
   "execution_count": 27,
   "metadata": {},
   "outputs": [
    {
     "data": {
      "text/html": [
       "<div>\n",
       "<style>\n",
       "    .dataframe thead tr:only-child th {\n",
       "        text-align: right;\n",
       "    }\n",
       "\n",
       "    .dataframe thead th {\n",
       "        text-align: left;\n",
       "    }\n",
       "\n",
       "    .dataframe tbody tr th {\n",
       "        vertical-align: top;\n",
       "    }\n",
       "</style>\n",
       "<table border=\"1\" class=\"dataframe\">\n",
       "  <thead>\n",
       "    <tr style=\"text-align: right;\">\n",
       "      <th></th>\n",
       "      <th>articleBody2</th>\n",
       "      <th>Prediction</th>\n",
       "    </tr>\n",
       "  </thead>\n",
       "  <tbody>\n",
       "    <tr>\n",
       "      <th>406</th>\n",
       "      <td>la ministr de segur patrici bullrich asegur qu...</td>\n",
       "      <td>destape</td>\n",
       "    </tr>\n",
       "    <tr>\n",
       "      <th>290</th>\n",
       "      <td>sergi maldon afirm este lun que tien esper de ...</td>\n",
       "      <td>destape</td>\n",
       "    </tr>\n",
       "    <tr>\n",
       "      <th>189</th>\n",
       "      <td>la ex president cristin kirchn fue categor al ...</td>\n",
       "      <td>destape</td>\n",
       "    </tr>\n",
       "    <tr>\n",
       "      <th>559</th>\n",
       "      <td>las escuch ilegal entre cristin kirchn y oscar...</td>\n",
       "      <td>destape</td>\n",
       "    </tr>\n",
       "    <tr>\n",
       "      <th>736</th>\n",
       "      <td>com gerent del banc de sant cruz lazar baez in...</td>\n",
       "      <td>clarin</td>\n",
       "    </tr>\n",
       "    <tr>\n",
       "      <th>1349</th>\n",
       "      <td>el gobiern de la provinci de buen air notif ay...</td>\n",
       "      <td>clarin</td>\n",
       "    </tr>\n",
       "    <tr>\n",
       "      <th>337</th>\n",
       "      <td>la secretari general de la asociacion del magi...</td>\n",
       "      <td>clarin</td>\n",
       "    </tr>\n",
       "    <tr>\n",
       "      <th>682</th>\n",
       "      <td>a los poc dias de desaparec a santiag maldon l...</td>\n",
       "      <td>destape</td>\n",
       "    </tr>\n",
       "    <tr>\n",
       "      <th>859</th>\n",
       "      <td>apes de la sangri que sufri desd que cristin k...</td>\n",
       "      <td>clarin</td>\n",
       "    </tr>\n",
       "    <tr>\n",
       "      <th>449</th>\n",
       "      <td>milagr sal esta cad vez mas cerc de abandon el...</td>\n",
       "      <td>clarin</td>\n",
       "    </tr>\n",
       "  </tbody>\n",
       "</table>\n",
       "</div>"
      ],
      "text/plain": [
       "                                           articleBody2 Prediction\n",
       "406   la ministr de segur patrici bullrich asegur qu...    destape\n",
       "290   sergi maldon afirm este lun que tien esper de ...    destape\n",
       "189   la ex president cristin kirchn fue categor al ...    destape\n",
       "559   las escuch ilegal entre cristin kirchn y oscar...    destape\n",
       "736   com gerent del banc de sant cruz lazar baez in...     clarin\n",
       "1349  el gobiern de la provinci de buen air notif ay...     clarin\n",
       "337   la secretari general de la asociacion del magi...     clarin\n",
       "682   a los poc dias de desaparec a santiag maldon l...    destape\n",
       "859   apes de la sangri que sufri desd que cristin k...     clarin\n",
       "449   milagr sal esta cad vez mas cerc de abandon el...     clarin"
      ]
     },
     "execution_count": 27,
     "metadata": {},
     "output_type": "execute_result"
    }
   ],
   "source": [
    "df_results = pd.DataFrame(X_test)\n",
    "df_results['Prediction'] = y_pred_log\n",
    "df_results.head(10)"
   ]
  },
  {
   "cell_type": "code",
   "execution_count": 32,
   "metadata": {},
   "outputs": [],
   "source": [
    "df_results.to_csv('output/predictions.csv')"
   ]
  },
  {
   "cell_type": "markdown",
   "metadata": {},
   "source": [
    "### Esto es extra. Intentando clasificar el sesgo politico entre clarin y destape y luego clasificar en p12"
   ]
  },
  {
   "cell_type": "code",
   "execution_count": 33,
   "metadata": {},
   "outputs": [],
   "source": [
    "#df_clarin_prueba = pd.read_csv('tools/clarin.csv')\n",
    "df_p12 = pd.read_csv('tools/pagina12.csv')"
   ]
  },
  {
   "cell_type": "code",
   "execution_count": 34,
   "metadata": {},
   "outputs": [
    {
     "data": {
      "text/plain": [
       "array([nan, 'El país', 'El mundo', 'Sociedad', 'Deportes', 'Contratapa',\n",
       "       'Economía', 'Universidad', 'Plástica'], dtype=object)"
      ]
     },
     "execution_count": 34,
     "metadata": {},
     "output_type": "execute_result"
    }
   ],
   "source": [
    "df_p12 = df_p12[df_p12['cuerpo'].notnull()].copy()\n",
    "df_p12.suplemento.unique()"
   ]
  },
  {
   "cell_type": "code",
   "execution_count": 35,
   "metadata": {
    "collapsed": true
   },
   "outputs": [],
   "source": [
    "df_p12_section = df_p12[df_p12.suplemento == 'El país']"
   ]
  },
  {
   "cell_type": "code",
   "execution_count": 36,
   "metadata": {},
   "outputs": [
    {
     "name": "stdout",
     "output_type": "stream",
     "text": [
      "<class 'pandas.core.frame.DataFrame'>\n",
      "Int64Index: 65 entries, 1 to 220\n",
      "Data columns (total 9 columns):\n",
      "Unnamed: 0    65 non-null int64\n",
      "cuerpo        65 non-null object\n",
      "fecha_hora    65 non-null object\n",
      "imagen        65 non-null object\n",
      "resumen       37 non-null object\n",
      "suplemento    65 non-null object\n",
      "titulo        65 non-null object\n",
      "url           65 non-null object\n",
      "cuerpo2       65 non-null object\n",
      "dtypes: int64(1), object(8)\n",
      "memory usage: 5.1+ KB\n"
     ]
    },
    {
     "name": "stderr",
     "output_type": "stream",
     "text": [
      "/home/ubuntu/anaconda3/lib/python3.6/site-packages/ipykernel_launcher.py:1: SettingWithCopyWarning: \n",
      "A value is trying to be set on a copy of a slice from a DataFrame.\n",
      "Try using .loc[row_indexer,col_indexer] = value instead\n",
      "\n",
      "See the caveats in the documentation: http://pandas.pydata.org/pandas-docs/stable/indexing.html#indexing-view-versus-copy\n",
      "  \"\"\"Entry point for launching an IPython kernel.\n"
     ]
    }
   ],
   "source": [
    "df_p12_section['cuerpo2'] = df_p12_section[\"cuerpo\"].apply(text_stemmer)\n",
    "X_p12 = df_p12_section['cuerpo2'].copy()\n",
    "df_p12_section.info()"
   ]
  },
  {
   "cell_type": "code",
   "execution_count": 37,
   "metadata": {},
   "outputs": [
    {
     "data": {
      "text/plain": [
       "array(['destape', 'destape', 'clarin', 'destape', 'destape', 'destape',\n",
       "       'clarin', 'clarin', 'clarin', 'clarin', 'destape', 'destape',\n",
       "       'destape', 'destape', 'clarin', 'clarin', 'destape', 'clarin',\n",
       "       'clarin', 'clarin', 'destape', 'clarin', 'clarin', 'clarin',\n",
       "       'destape', 'clarin', 'clarin', 'clarin', 'clarin', 'destape',\n",
       "       'clarin', 'destape', 'clarin', 'destape', 'clarin', 'destape',\n",
       "       'clarin', 'destape', 'destape', 'clarin', 'clarin', 'clarin',\n",
       "       'destape', 'destape', 'destape', 'destape', 'clarin', 'destape',\n",
       "       'clarin', 'destape', 'clarin', 'clarin', 'destape', 'destape',\n",
       "       'destape', 'clarin', 'destape', 'clarin', 'clarin', 'clarin',\n",
       "       'destape', 'destape', 'destape', 'destape', 'destape'], dtype=object)"
      ]
     },
     "execution_count": 37,
     "metadata": {},
     "output_type": "execute_result"
    }
   ],
   "source": [
    "X_test_counts = count_vect.transform(X_p12)\n",
    "y_pred_svm = model_svm.predict(X_test_counts)\n",
    "y_pred_svm"
   ]
  },
  {
   "cell_type": "code",
   "execution_count": 38,
   "metadata": {},
   "outputs": [
    {
     "name": "stdout",
     "output_type": "stream",
     "text": [
      "Accuracy SVM:  0.507692307692\n"
     ]
    }
   ],
   "source": [
    "y_test_destape = ['destape']*65\n",
    "print('Accuracy SVM: ',accuracy_score(y_pred_svm, y_test_destape))"
   ]
  },
  {
   "cell_type": "code",
   "execution_count": 39,
   "metadata": {},
   "outputs": [
    {
     "data": {
      "text/html": [
       "<div>\n",
       "<style>\n",
       "    .dataframe thead tr:only-child th {\n",
       "        text-align: right;\n",
       "    }\n",
       "\n",
       "    .dataframe thead th {\n",
       "        text-align: left;\n",
       "    }\n",
       "\n",
       "    .dataframe tbody tr th {\n",
       "        vertical-align: top;\n",
       "    }\n",
       "</style>\n",
       "<table border=\"1\" class=\"dataframe\">\n",
       "  <thead>\n",
       "    <tr style=\"text-align: right;\">\n",
       "      <th></th>\n",
       "      <th>cuerpo2</th>\n",
       "      <th>Prediction</th>\n",
       "    </tr>\n",
       "  </thead>\n",
       "  <tbody>\n",
       "    <tr>\n",
       "      <th>1</th>\n",
       "      <td>los comici par eleg gobern en corrient cerr pa...</td>\n",
       "      <td>destape</td>\n",
       "    </tr>\n",
       "    <tr>\n",
       "      <th>5</th>\n",
       "      <td>en un nuev acto de campan esta vez en malvin a...</td>\n",
       "      <td>destape</td>\n",
       "    </tr>\n",
       "    <tr>\n",
       "      <th>6</th>\n",
       "      <td>siganl busc fue la cinic respuest de dos agent...</td>\n",
       "      <td>clarin</td>\n",
       "    </tr>\n",
       "    <tr>\n",
       "      <th>7</th>\n",
       "      <td>esta manan el gobern correntin ricard colombi ...</td>\n",
       "      <td>destape</td>\n",
       "    </tr>\n",
       "    <tr>\n",
       "      <th>9</th>\n",
       "      <td>el viern por la noch milagr sal fue notific de...</td>\n",
       "      <td>destape</td>\n",
       "    </tr>\n",
       "    <tr>\n",
       "      <th>70</th>\n",
       "      <td>en su inform la fundacion soberani sanitari se...</td>\n",
       "      <td>destape</td>\n",
       "    </tr>\n",
       "    <tr>\n",
       "      <th>71</th>\n",
       "      <td>mientr crec la emergent en los hospital public...</td>\n",
       "      <td>clarin</td>\n",
       "    </tr>\n",
       "    <tr>\n",
       "      <th>72</th>\n",
       "      <td>no pued ser que la logic sea que cad gobiern t...</td>\n",
       "      <td>clarin</td>\n",
       "    </tr>\n",
       "    <tr>\n",
       "      <th>73</th>\n",
       "      <td>necesit gan a cristin fernandez de kirchn ese ...</td>\n",
       "      <td>clarin</td>\n",
       "    </tr>\n",
       "    <tr>\n",
       "      <th>74</th>\n",
       "      <td>desd corrient al cierr de esta edicion la alia...</td>\n",
       "      <td>clarin</td>\n",
       "    </tr>\n",
       "  </tbody>\n",
       "</table>\n",
       "</div>"
      ],
      "text/plain": [
       "                                              cuerpo2 Prediction\n",
       "1   los comici par eleg gobern en corrient cerr pa...    destape\n",
       "5   en un nuev acto de campan esta vez en malvin a...    destape\n",
       "6   siganl busc fue la cinic respuest de dos agent...     clarin\n",
       "7   esta manan el gobern correntin ricard colombi ...    destape\n",
       "9   el viern por la noch milagr sal fue notific de...    destape\n",
       "70  en su inform la fundacion soberani sanitari se...    destape\n",
       "71  mientr crec la emergent en los hospital public...     clarin\n",
       "72  no pued ser que la logic sea que cad gobiern t...     clarin\n",
       "73  necesit gan a cristin fernandez de kirchn ese ...     clarin\n",
       "74  desd corrient al cierr de esta edicion la alia...     clarin"
      ]
     },
     "execution_count": 39,
     "metadata": {},
     "output_type": "execute_result"
    }
   ],
   "source": [
    "df_results = pd.DataFrame(X_p12)\n",
    "df_results['Prediction'] = y_pred_svm\n",
    "df_results.head(10)"
   ]
  },
  {
   "cell_type": "code",
   "execution_count": 41,
   "metadata": {
    "collapsed": true
   },
   "outputs": [],
   "source": [
    "df_results.to_csv('output/predictions_p12.csv')"
   ]
  },
  {
   "cell_type": "code",
   "execution_count": null,
   "metadata": {
    "collapsed": true
   },
   "outputs": [],
   "source": []
  }
 ],
 "metadata": {
  "kernelspec": {
   "display_name": "Python 3",
   "language": "python",
   "name": "python3"
  },
  "language_info": {
   "codemirror_mode": {
    "name": "ipython",
    "version": 3
   },
   "file_extension": ".py",
   "mimetype": "text/x-python",
   "name": "python",
   "nbconvert_exporter": "python",
   "pygments_lexer": "ipython3",
   "version": "3.6.1"
  }
 },
 "nbformat": 4,
 "nbformat_minor": 2
}
