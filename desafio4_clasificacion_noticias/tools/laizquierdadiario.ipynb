{
 "cells": [
  {
   "cell_type": "code",
   "execution_count": 11,
   "metadata": {},
   "outputs": [
    {
     "name": "stdout",
     "output_type": "stream",
     "text": [
      "grabbing La Izquierda Diario links\n",
      "0 obtained\n"
     ]
    }
   ],
   "source": [
    "# http://www.laizquierdadiario.com/spip.php?page=backend_portada\n",
    "import requests\n",
    "from bs4 import BeautifulSoup\n",
    "import pandas as pd\n",
    "\n",
    "def parse_laizquierdadiario_article(html):\n",
    "    article = {\n",
    "        'section': '',\n",
    "        'volanta': '',\n",
    "        'headline': '',\n",
    "        'bajada': '',\n",
    "        'articleBody': ''\n",
    "    }\n",
    "    \n",
    "    soup = BeautifulSoup(html, 'html.parser')\n",
    "        \n",
    "    header = soup.find('div', {'class': 'category-wrapper'})\n",
    "    if header:\n",
    "        # section\n",
    "        section = header.find('a', {'class': 'category'})\n",
    "        if section:          \n",
    "            article['section'] = section.text.strip()\n",
    "            \n",
    "        # volanta\n",
    "        volanta = header.find('a', {'class': 'category grouper'})\n",
    "        if volanta:          \n",
    "            article['volanta'] = volanta.text.strip()\n",
    "\n",
    "    # headline\n",
    "    headline = soup.find('h1', {'class': 'title'})\n",
    "    if headline:\n",
    "        article['headline'] = headline.text.strip()\n",
    "        \n",
    "    # bajada\n",
    "    bajada = soup.find('p', {'class': 'preview'})\n",
    "    if bajada:\n",
    "        article['bajada'] = bajada.text.strip()\n",
    "    \n",
    "    # articleBody\n",
    "    articleBody = soup.find('section', {'class': 'note-body'})\n",
    "    if articleBody:\n",
    "        article['articleBody'] = articleBody.text.strip()\n",
    "    \n",
    "    return article\n",
    "\n",
    "\n",
    "\n",
    "headers = {'User-Agent': 'Mozilla/5.0 (Windows NT 6.1) AppleWebKit/537.36 (KHTML, like Gecko) Chrome/41.0.2228.0 Safari/537.36'}\n",
    "\n",
    "links = []\n",
    "\n",
    "xml_request = requests.get('http://www.laizquierdadiario.com/spip.php?page=backend_portadal', headers)\n",
    "\n",
    "print('grabbing La Izquierda Diario links')\n",
    "print(xml_request.status_code)\n",
    "if xml_request.status_code == 200:\n",
    "    soup = BeautifulSoup(xml_request.content, 'html.parser')\n",
    "    items = soup.find_all('item')\n",
    "    print(items)\n",
    "    for item in items:\n",
    "        link = item.find('link')\n",
    "        links.append(link.text)\n",
    "\n",
    "print(len(links), 'obtained')"
   ]
  },
  {
   "cell_type": "code",
   "execution_count": 9,
   "metadata": {},
   "outputs": [
    {
     "data": {
      "text/plain": [
       "['http://www.laizquierdadiario.com/CULTURA-9883',\n",
       " 'http://www.laizquierdadiario.com/05-10-2017',\n",
       " 'http://www.laizquierdadiario.com/CULTURA-9976',\n",
       " 'http://www.laizquierdadiario.com/07-10-2017',\n",
       " 'http://www.laizquierdadiario.com/CULTURA-9996',\n",
       " 'http://www.laizquierdadiario.com/ECONOMIA-10029',\n",
       " 'http://www.laizquierdadiario.com/11-10-2014',\n",
       " 'http://www.laizquierdadiario.com/2014-3308',\n",
       " 'http://www.laizquierdadiario.com/rubrique3311',\n",
       " 'http://www.laizquierdadiario.com/Cultura-470',\n",
       " 'http://www.laizquierdadiario.com/11-10-2017',\n",
       " 'http://www.laizquierdadiario.com/POLITICA-10013',\n",
       " 'http://www.laizquierdadiario.com/SOCIEDAD-10017',\n",
       " 'http://www.laizquierdadiario.com/Aca-nos-podes-encontrar',\n",
       " 'http://www.laizquierdadiario.com/Cordoba',\n",
       " 'http://www.laizquierdadiario.com/Economia',\n",
       " 'http://www.laizquierdadiario.com/CULTURA-10016',\n",
       " 'http://www.laizquierdadiario.com/10-10-2017',\n",
       " 'http://www.laizquierdadiario.com/GENEROS-Y-SEXUALIDADES-10007',\n",
       " 'http://www.laizquierdadiario.com/DEPORTES-10022',\n",
       " 'http://www.laizquierdadiario.com/ECONOMIA-10014',\n",
       " 'http://www.laizquierdadiario.com/GENEROS-Y-SEXUALIDADES-10020',\n",
       " 'http://www.laizquierdadiario.com/INTERNACIONAL-10018',\n",
       " 'http://www.laizquierdadiario.com/MUNDO-OBRERO-10005',\n",
       " 'http://www.laizquierdadiario.com/CULTURA-10009',\n",
       " 'http://www.laizquierdadiario.com/JUVENTUD-10008',\n",
       " 'http://www.laizquierdadiario.com/INTERNACIONAL-10003',\n",
       " 'http://www.laizquierdadiario.com/DEPORTES-10011',\n",
       " 'http://www.laizquierdadiario.com/ECONOMIA-10004',\n",
       " 'http://www.laizquierdadiario.com/POLITICA-10002',\n",
       " 'http://www.laizquierdadiario.com/JUVENTUD-9999',\n",
       " 'http://www.laizquierdadiario.com/SOCIEDAD-9995',\n",
       " 'http://www.laizquierdadiario.com/INTERNACIONAL-9994',\n",
       " 'http://www.laizquierdadiario.com/-2016-',\n",
       " 'http://www.laizquierdadiario.com/rubrique6963',\n",
       " 'http://www.laizquierdadiario.com/01-10-2016',\n",
       " 'http://www.laizquierdadiario.com/CULTURA-6972',\n",
       " 'http://www.laizquierdadiario.com/29-11-2016',\n",
       " 'http://www.laizquierdadiario.com/rubrique7222',\n",
       " 'http://www.laizquierdadiario.com/POLITICA-7470',\n",
       " 'http://www.laizquierdadiario.com/chile-m',\n",
       " 'http://www.laizquierdadiario.com/Jujuy',\n",
       " 'http://www.laizquierdadiario.com/13-01-2015',\n",
       " 'http://www.laizquierdadiario.com/SOCIEDAD-1244',\n",
       " 'http://www.laizquierdadiario.com/2015-3314',\n",
       " 'http://www.laizquierdadiario.com/rubrique3315',\n",
       " 'http://www.laizquierdadiario.com/POLITICA-9969',\n",
       " 'http://www.laizquierdadiario.com/MEDIOS-9997',\n",
       " 'http://www.laizquierdadiario.com/POLITICA-9991',\n",
       " 'http://www.laizquierdadiario.com/GENEROS-Y-SEXUALIDADES-9998']"
      ]
     },
     "execution_count": 9,
     "metadata": {},
     "output_type": "execute_result"
    }
   ],
   "source": [
    "links[50:100]"
   ]
  },
  {
   "cell_type": "code",
   "execution_count": null,
   "metadata": {
    "collapsed": true
   },
   "outputs": [],
   "source": [
    "\n",
    "\n",
    "articles = []\n",
    "\n",
    "for link in links:\n",
    "    print('scrapping:', link)\n",
    "    article_request = requests.get(link, headers)\n",
    "    \n",
    "    if article_request.status_code == 200:  \n",
    "        article = parse_laizquierdadiario_article(article_request.content)\n",
    "        article['link'] = link\n",
    "        article['source'] = 'laizquierdadiario'\n",
    "        articles.append(article)\n",
    "        df = pd.DataFrame(articles)\n",
    "        df.to_csv('laizquierdadiario.csv', index=False)"
   ]
  }
 ],
 "metadata": {
  "kernelspec": {
   "display_name": "Python 3",
   "language": "python",
   "name": "python3"
  },
  "language_info": {
   "codemirror_mode": {
    "name": "ipython",
    "version": 3
   },
   "file_extension": ".py",
   "mimetype": "text/x-python",
   "name": "python",
   "nbconvert_exporter": "python",
   "pygments_lexer": "ipython3",
   "version": "3.6.1"
  }
 },
 "nbformat": 4,
 "nbformat_minor": 2
}
