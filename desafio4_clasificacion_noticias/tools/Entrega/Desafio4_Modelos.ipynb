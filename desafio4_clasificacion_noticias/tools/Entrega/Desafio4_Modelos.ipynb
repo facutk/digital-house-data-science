{
 "cells": [
  {
   "cell_type": "code",
   "execution_count": 1,
   "metadata": {
    "collapsed": true
   },
   "outputs": [],
   "source": [
    "from sklearn import preprocessing\n",
    "from sklearn.model_selection import train_test_split\n",
    "from sklearn.datasets import make_classification\n",
    "from sklearn.naive_bayes import MultinomialNB\n",
    "from sklearn.linear_model import LogisticRegression\n",
    "from sklearn.neighbors import KNeighborsClassifier\n",
    "from sklearn.naive_bayes import GaussianNB\n",
    "from sklearn.svm import SVC\n",
    "from sklearn.decomposition import PCA\n",
    "from sklearn.metrics import confusion_matrix\n",
    "from sklearn.model_selection import cross_val_score\n",
    "from sklearn.metrics import accuracy_score\n",
    "from sklearn.metrics import f1_score\n",
    "from sklearn.metrics import roc_auc_score, classification_report\n",
    "from sklearn.metrics import  precision_score, recall_score, roc_curve, auc\n",
    "import matplotlib.pyplot as plt\n",
    "import pandas as pd\n",
    "import numpy as np\n",
    "import re\n",
    "import unidecode"
   ]
  },
  {
   "cell_type": "code",
   "execution_count": 4,
   "metadata": {
    "collapsed": true
   },
   "outputs": [],
   "source": [
    "df = pd.read_csv('../big_clarin.csv')\n",
    "stopwords = pd.read_csv('../stopwords.csv', header= None)\n"
   ]
  },
  {
   "cell_type": "code",
   "execution_count": 5,
   "metadata": {},
   "outputs": [
    {
     "data": {
      "text/html": [
       "<div>\n",
       "<style>\n",
       "    .dataframe thead tr:only-child th {\n",
       "        text-align: right;\n",
       "    }\n",
       "\n",
       "    .dataframe thead th {\n",
       "        text-align: left;\n",
       "    }\n",
       "\n",
       "    .dataframe tbody tr th {\n",
       "        vertical-align: top;\n",
       "    }\n",
       "</style>\n",
       "<table border=\"1\" class=\"dataframe\">\n",
       "  <thead>\n",
       "    <tr style=\"text-align: right;\">\n",
       "      <th></th>\n",
       "      <th>Unnamed: 0</th>\n",
       "      <th>articleBody</th>\n",
       "      <th>bajada</th>\n",
       "      <th>date</th>\n",
       "      <th>headline</th>\n",
       "      <th>section</th>\n",
       "      <th>volanta</th>\n",
       "    </tr>\n",
       "  </thead>\n",
       "  <tbody>\n",
       "    <tr>\n",
       "      <th>0</th>\n",
       "      <td>0</td>\n",
       "      <td>Argentina XV ratificó la supremacía que ejerce...</td>\n",
       "      <td>Cerró la temporada con una goleada, 82-7 a Uru...</td>\n",
       "      <td>2017-10-15 18:32:35.075360</td>\n",
       "      <td>Argentina XV se consagró bicampeón</td>\n",
       "      <td>Deportes</td>\n",
       "      <td>Rugby</td>\n",
       "    </tr>\n",
       "    <tr>\n",
       "      <th>1</th>\n",
       "      <td>1</td>\n",
       "      <td>En un informe de Transparencia Internacional -...</td>\n",
       "      <td>Un buen gobierno necesita participación activa...</td>\n",
       "      <td>2017-10-15 18:32:35.075360</td>\n",
       "      <td>De súbditos a ciudadanos</td>\n",
       "      <td>Opinión</td>\n",
       "      <td>Del editor al lector</td>\n",
       "    </tr>\n",
       "    <tr>\n",
       "      <th>2</th>\n",
       "      <td>2</td>\n",
       "      <td>Instituto ratificó su liderazgo en el Grupo B ...</td>\n",
       "      <td>Superaron a Quimsa y a Olímpico respectivamente.</td>\n",
       "      <td>2017-10-15 18:32:35.075360</td>\n",
       "      <td>Súper 20: ganaron Instituto y Atenas</td>\n",
       "      <td>Deportes</td>\n",
       "      <td>Básquet</td>\n",
       "    </tr>\n",
       "    <tr>\n",
       "      <th>3</th>\n",
       "      <td>3</td>\n",
       "      <td>En un raid por dos programas de TV, el último ...</td>\n",
       "      <td>Estuvo en los programas de Jorge Lanata y Luis...</td>\n",
       "      <td>2017-10-15 18:32:35.075360</td>\n",
       "      <td>El raid televisivo de Elisa Carrió en el últim...</td>\n",
       "      <td>Política</td>\n",
       "      <td>Elecciones 2017</td>\n",
       "    </tr>\n",
       "    <tr>\n",
       "      <th>4</th>\n",
       "      <td>4</td>\n",
       "      <td>A una semana exacta de las elecciones, la gobe...</td>\n",
       "      <td>La gobernadora criticó al kirchnerismo: \"Duran...</td>\n",
       "      <td>2017-10-15 18:32:35.075360</td>\n",
       "      <td>María Eugenia Vidal: \"No se puede joder con lo...</td>\n",
       "      <td>Política</td>\n",
       "      <td>A una semana de las elecciones</td>\n",
       "    </tr>\n",
       "  </tbody>\n",
       "</table>\n",
       "</div>"
      ],
      "text/plain": [
       "   Unnamed: 0                                        articleBody  \\\n",
       "0           0  Argentina XV ratificó la supremacía que ejerce...   \n",
       "1           1  En un informe de Transparencia Internacional -...   \n",
       "2           2  Instituto ratificó su liderazgo en el Grupo B ...   \n",
       "3           3  En un raid por dos programas de TV, el último ...   \n",
       "4           4  A una semana exacta de las elecciones, la gobe...   \n",
       "\n",
       "                                              bajada  \\\n",
       "0  Cerró la temporada con una goleada, 82-7 a Uru...   \n",
       "1  Un buen gobierno necesita participación activa...   \n",
       "2   Superaron a Quimsa y a Olímpico respectivamente.   \n",
       "3  Estuvo en los programas de Jorge Lanata y Luis...   \n",
       "4  La gobernadora criticó al kirchnerismo: \"Duran...   \n",
       "\n",
       "                         date  \\\n",
       "0  2017-10-15 18:32:35.075360   \n",
       "1  2017-10-15 18:32:35.075360   \n",
       "2  2017-10-15 18:32:35.075360   \n",
       "3  2017-10-15 18:32:35.075360   \n",
       "4  2017-10-15 18:32:35.075360   \n",
       "\n",
       "                                            headline   section  \\\n",
       "0                 Argentina XV se consagró bicampeón  Deportes   \n",
       "1                           De súbditos a ciudadanos   Opinión   \n",
       "2               Súper 20: ganaron Instituto y Atenas  Deportes   \n",
       "3  El raid televisivo de Elisa Carrió en el últim...  Política   \n",
       "4  María Eugenia Vidal: \"No se puede joder con lo...  Política   \n",
       "\n",
       "                          volanta  \n",
       "0                           Rugby  \n",
       "1            Del editor al lector  \n",
       "2                         Básquet  \n",
       "3                 Elecciones 2017  \n",
       "4  A una semana de las elecciones  "
      ]
     },
     "execution_count": 5,
     "metadata": {},
     "output_type": "execute_result"
    }
   ],
   "source": [
    "df.head()"
   ]
  },
  {
   "cell_type": "code",
   "execution_count": 6,
   "metadata": {
    "collapsed": true
   },
   "outputs": [],
   "source": [
    "stopwords_list = stopwords[0].values\n",
    "stopwords_list = list(stopwords_list)"
   ]
  },
  {
   "cell_type": "code",
   "execution_count": 7,
   "metadata": {
    "collapsed": true
   },
   "outputs": [],
   "source": [
    "from nltk import word_tokenize\n",
    "from nltk.stem import SnowballStemmer\n",
    "stemmer = SnowballStemmer('spanish')"
   ]
  },
  {
   "cell_type": "code",
   "execution_count": 8,
   "metadata": {
    "collapsed": true
   },
   "outputs": [],
   "source": [
    "def text_stemmer(text):\n",
    "    texto = text.lower()\n",
    "    unaccented_string = unidecode.unidecode(texto)\n",
    "    stripped = re.sub('[^a-z0-9]+', ' ', unaccented_string).lstrip()\n",
    "    stemmed = \" \".join([stemmer.stem(x) for x in stripped.split(' ')])\n",
    "    return stemmed"
   ]
  },
  {
   "cell_type": "code",
   "execution_count": 9,
   "metadata": {
    "collapsed": true
   },
   "outputs": [],
   "source": [
    "#Esto tarda bastante\n",
    "df['articleBody2'] = df[\"articleBody\"].apply(text_stemmer)"
   ]
  },
  {
   "cell_type": "code",
   "execution_count": 10,
   "metadata": {},
   "outputs": [
    {
     "data": {
      "text/html": [
       "<div>\n",
       "<style>\n",
       "    .dataframe thead tr:only-child th {\n",
       "        text-align: right;\n",
       "    }\n",
       "\n",
       "    .dataframe thead th {\n",
       "        text-align: left;\n",
       "    }\n",
       "\n",
       "    .dataframe tbody tr th {\n",
       "        vertical-align: top;\n",
       "    }\n",
       "</style>\n",
       "<table border=\"1\" class=\"dataframe\">\n",
       "  <thead>\n",
       "    <tr style=\"text-align: right;\">\n",
       "      <th></th>\n",
       "      <th>Unnamed: 0</th>\n",
       "      <th>articleBody</th>\n",
       "      <th>bajada</th>\n",
       "      <th>date</th>\n",
       "      <th>headline</th>\n",
       "      <th>section</th>\n",
       "      <th>volanta</th>\n",
       "      <th>articleBody2</th>\n",
       "    </tr>\n",
       "  </thead>\n",
       "  <tbody>\n",
       "    <tr>\n",
       "      <th>0</th>\n",
       "      <td>0</td>\n",
       "      <td>Argentina XV ratificó la supremacía que ejerce...</td>\n",
       "      <td>Cerró la temporada con una goleada, 82-7 a Uru...</td>\n",
       "      <td>2017-10-15 18:32:35.075360</td>\n",
       "      <td>Argentina XV se consagró bicampeón</td>\n",
       "      <td>Deportes</td>\n",
       "      <td>Rugby</td>\n",
       "      <td>argentin xv ratif la supremaci que ejerc en el...</td>\n",
       "    </tr>\n",
       "    <tr>\n",
       "      <th>1</th>\n",
       "      <td>1</td>\n",
       "      <td>En un informe de Transparencia Internacional -...</td>\n",
       "      <td>Un buen gobierno necesita participación activa...</td>\n",
       "      <td>2017-10-15 18:32:35.075360</td>\n",
       "      <td>De súbditos a ciudadanos</td>\n",
       "      <td>Opinión</td>\n",
       "      <td>Del editor al lector</td>\n",
       "      <td>en un inform de transparent internacional cuy ...</td>\n",
       "    </tr>\n",
       "    <tr>\n",
       "      <th>2</th>\n",
       "      <td>2</td>\n",
       "      <td>Instituto ratificó su liderazgo en el Grupo B ...</td>\n",
       "      <td>Superaron a Quimsa y a Olímpico respectivamente.</td>\n",
       "      <td>2017-10-15 18:32:35.075360</td>\n",
       "      <td>Súper 20: ganaron Instituto y Atenas</td>\n",
       "      <td>Deportes</td>\n",
       "      <td>Básquet</td>\n",
       "      <td>institut ratif su liderazg en el grup b del su...</td>\n",
       "    </tr>\n",
       "    <tr>\n",
       "      <th>3</th>\n",
       "      <td>3</td>\n",
       "      <td>En un raid por dos programas de TV, el último ...</td>\n",
       "      <td>Estuvo en los programas de Jorge Lanata y Luis...</td>\n",
       "      <td>2017-10-15 18:32:35.075360</td>\n",
       "      <td>El raid televisivo de Elisa Carrió en el últim...</td>\n",
       "      <td>Política</td>\n",
       "      <td>Elecciones 2017</td>\n",
       "      <td>en un raid por dos program de tv el ultim domi...</td>\n",
       "    </tr>\n",
       "    <tr>\n",
       "      <th>4</th>\n",
       "      <td>4</td>\n",
       "      <td>A una semana exacta de las elecciones, la gobe...</td>\n",
       "      <td>La gobernadora criticó al kirchnerismo: \"Duran...</td>\n",
       "      <td>2017-10-15 18:32:35.075360</td>\n",
       "      <td>María Eugenia Vidal: \"No se puede joder con lo...</td>\n",
       "      <td>Política</td>\n",
       "      <td>A una semana de las elecciones</td>\n",
       "      <td>a una seman exact de las eleccion la gobern bo...</td>\n",
       "    </tr>\n",
       "  </tbody>\n",
       "</table>\n",
       "</div>"
      ],
      "text/plain": [
       "   Unnamed: 0                                        articleBody  \\\n",
       "0           0  Argentina XV ratificó la supremacía que ejerce...   \n",
       "1           1  En un informe de Transparencia Internacional -...   \n",
       "2           2  Instituto ratificó su liderazgo en el Grupo B ...   \n",
       "3           3  En un raid por dos programas de TV, el último ...   \n",
       "4           4  A una semana exacta de las elecciones, la gobe...   \n",
       "\n",
       "                                              bajada  \\\n",
       "0  Cerró la temporada con una goleada, 82-7 a Uru...   \n",
       "1  Un buen gobierno necesita participación activa...   \n",
       "2   Superaron a Quimsa y a Olímpico respectivamente.   \n",
       "3  Estuvo en los programas de Jorge Lanata y Luis...   \n",
       "4  La gobernadora criticó al kirchnerismo: \"Duran...   \n",
       "\n",
       "                         date  \\\n",
       "0  2017-10-15 18:32:35.075360   \n",
       "1  2017-10-15 18:32:35.075360   \n",
       "2  2017-10-15 18:32:35.075360   \n",
       "3  2017-10-15 18:32:35.075360   \n",
       "4  2017-10-15 18:32:35.075360   \n",
       "\n",
       "                                            headline   section  \\\n",
       "0                 Argentina XV se consagró bicampeón  Deportes   \n",
       "1                           De súbditos a ciudadanos   Opinión   \n",
       "2               Súper 20: ganaron Instituto y Atenas  Deportes   \n",
       "3  El raid televisivo de Elisa Carrió en el últim...  Política   \n",
       "4  María Eugenia Vidal: \"No se puede joder con lo...  Política   \n",
       "\n",
       "                          volanta  \\\n",
       "0                           Rugby   \n",
       "1            Del editor al lector   \n",
       "2                         Básquet   \n",
       "3                 Elecciones 2017   \n",
       "4  A una semana de las elecciones   \n",
       "\n",
       "                                        articleBody2  \n",
       "0  argentin xv ratif la supremaci que ejerc en el...  \n",
       "1  en un inform de transparent internacional cuy ...  \n",
       "2  institut ratif su liderazg en el grup b del su...  \n",
       "3  en un raid por dos program de tv el ultim domi...  \n",
       "4  a una seman exact de las eleccion la gobern bo...  "
      ]
     },
     "execution_count": 10,
     "metadata": {},
     "output_type": "execute_result"
    }
   ],
   "source": [
    "df.head(5)"
   ]
  },
  {
   "cell_type": "code",
   "execution_count": 11,
   "metadata": {
    "collapsed": true
   },
   "outputs": [],
   "source": [
    "df_sections = df[(df.section == 'Política') | (df.section == 'Economía')]\n",
    "X = df_sections['articleBody2']\n",
    "y = df_sections['section']"
   ]
  },
  {
   "cell_type": "code",
   "execution_count": 12,
   "metadata": {
    "collapsed": true
   },
   "outputs": [],
   "source": [
    "X_train, X_test, y_train, y_test = train_test_split(X, y, test_size=0.33, random_state=2)"
   ]
  },
  {
   "cell_type": "code",
   "execution_count": 13,
   "metadata": {},
   "outputs": [
    {
     "data": {
      "text/plain": [
       "(438, 11411)"
      ]
     },
     "execution_count": 13,
     "metadata": {},
     "output_type": "execute_result"
    }
   ],
   "source": [
    "#Vectorizar \n",
    "from sklearn.feature_extraction.text import CountVectorizer\n",
    "count_vect = CountVectorizer(strip_accents= 'ascii', stop_words= stopwords_list)\n",
    "count_vect.fit(X_train)\n",
    "X_train_counts = count_vect.transform(X_train)\n",
    "\n",
    "X_train_counts.shape"
   ]
  },
  {
   "cell_type": "code",
   "execution_count": 12,
   "metadata": {
    "collapsed": true
   },
   "outputs": [],
   "source": [
    "#frecuencia por palabra\n",
    "#from sklearn.feature_extraction.text import TfidfTransformer\n",
    "#tfidf_transformer = TfidfTransformer()\n",
    "#tfidf_transformer.fit(X_train_counts)\n",
    "#X_train_tfidf = tfidf_transformer.transform(X_train_counts)\n",
    "\n",
    "#X_train_tfidf.shape"
   ]
  },
  {
   "cell_type": "code",
   "execution_count": 14,
   "metadata": {
    "collapsed": true
   },
   "outputs": [],
   "source": [
    "X_test_counts = count_vect.transform(X_test)\n",
    "#X_test_tfidf = tfidf_transformer.transform(X_test_counts)\n"
   ]
  },
  {
   "cell_type": "code",
   "execution_count": 15,
   "metadata": {},
   "outputs": [
    {
     "data": {
      "text/plain": [
       "[1, 0, 1, 1]"
      ]
     },
     "execution_count": 15,
     "metadata": {},
     "output_type": "execute_result"
    }
   ],
   "source": [
    "list(map(lambda x : 1 if(x == \"A\") else 0,[\"A\",\"B\",\"A\",\"A\"]))"
   ]
  },
  {
   "cell_type": "code",
   "execution_count": 16,
   "metadata": {
    "collapsed": true
   },
   "outputs": [],
   "source": [
    "def get_report(test_features,test_target,model, model_name):\n",
    "    y_pred = model.predict_proba(test_features)\n",
    "    y_pred_abs = model.predict(test_features)\n",
    "    Ytest = list(map(lambda x : 1 if(x == \"Política\") else 0,test_target))\n",
    "    fpr_log,tpr_log,thr_log = roc_curve(Ytest, y_pred[:,1])\n",
    "    df_aux = pd.DataFrame(dict(fpr=fpr_log, tpr=tpr_log, thr = thr_log))\n",
    "    plt.axis([0, 1.01, 0, 1.01])\n",
    "    plt.xlabel('1 - Specificty')\n",
    "    plt.ylabel('TPR / Sensitivity')\n",
    "    plt.title('ROC Curve')\n",
    "    plt.plot(df_aux['fpr'],df_aux['tpr'])\n",
    "    plt.plot(np.arange(0,1, step =0.01), np.arange(0,1, step =0.01))\n",
    "    plt.show() \n",
    "    print(\"--------------REPORT MODEL {}--------------\\n\".format(model_name))\n",
    "    print(\"Roc Auc: {}\".format(roc_auc_score(Ytest,y_pred[:,1])))\n",
    "    print(\"\\n Classification Report: \\n\")\n",
    "    print(classification_report(test_target,y_pred_abs))\n",
    "    print(\"\\n Classification Report: \\n\")\n",
    "    print(confusion_matrix(test_target, y_pred_abs))\n",
    "    print(\"-------------------------------------------\\n\")"
   ]
  },
  {
   "cell_type": "markdown",
   "metadata": {},
   "source": [
    "### Multinomial Naive Bayes"
   ]
  },
  {
   "cell_type": "code",
   "execution_count": 17,
   "metadata": {},
   "outputs": [
    {
     "name": "stdout",
     "output_type": "stream",
     "text": [
      "Accuracy Multi NB:  0.953917050691\n"
     ]
    }
   ],
   "source": [
    "model_multinb = MultinomialNB().fit(X_train_counts, y_train)\n",
    "y_pred_multinb = model_multinb.predict(X_test_counts)\n",
    "\n",
    "print('Accuracy Multi NB: ',accuracy_score(y_pred_multinb, y_test))"
   ]
  },
  {
   "cell_type": "code",
   "execution_count": 99,
   "metadata": {},
   "outputs": [
    {
     "data": {
      "image/png": "[encoded data removed]",
      "text/plain": [
       "<matplotlib.figure.Figure at 0x118292940>"
      ]
     },
     "metadata": {},
     "output_type": "display_data"
    },
    {
     "name": "stdout",
     "output_type": "stream",
     "text": [
      "--------------REPORT MODEL Multinomial Naive Bayes--------------\n",
      "\n",
      "Roc Auc: 0.9663483663138519\n",
      "\n",
      " Classification Report: \n",
      "\n",
      "             precision    recall  f1-score   support\n",
      "\n",
      "   Economía       0.98      0.83      0.90        53\n",
      "   Política       0.95      0.99      0.97       164\n",
      "\n",
      "avg / total       0.96      0.95      0.95       217\n",
      "\n",
      "\n",
      " Classification Report: \n",
      "\n",
      "[[ 44   9]\n",
      " [  1 163]]\n",
      "-------------------------------------------\n",
      "\n"
     ]
    }
   ],
   "source": [
    "get_report(X_test_counts,y_test,model_multinb,\"Multinomial Naive Bayes\")"
   ]
  },
  {
   "cell_type": "code",
   "execution_count": 100,
   "metadata": {},
   "outputs": [
    {
     "data": {
      "text/html": [
       "<div>\n",
       "<style>\n",
       "    .dataframe thead tr:only-child th {\n",
       "        text-align: right;\n",
       "    }\n",
       "\n",
       "    .dataframe thead th {\n",
       "        text-align: left;\n",
       "    }\n",
       "\n",
       "    .dataframe tbody tr th {\n",
       "        vertical-align: top;\n",
       "    }\n",
       "</style>\n",
       "<table border=\"1\" class=\"dataframe\">\n",
       "  <thead>\n",
       "    <tr style=\"text-align: right;\">\n",
       "      <th></th>\n",
       "      <th>articleBody2</th>\n",
       "      <th>Prediction</th>\n",
       "    </tr>\n",
       "  </thead>\n",
       "  <tbody>\n",
       "    <tr>\n",
       "      <th>128</th>\n",
       "      <td>la person que realiz la amenaz de bomb que gen...</td>\n",
       "      <td>Política</td>\n",
       "    </tr>\n",
       "    <tr>\n",
       "      <th>1384</th>\n",
       "      <td>la cam de represent diput estadounidens aprob ...</td>\n",
       "      <td>Política</td>\n",
       "    </tr>\n",
       "    <tr>\n",
       "      <th>1958</th>\n",
       "      <td>el gobiern convirti las fronter nacional en un...</td>\n",
       "      <td>Política</td>\n",
       "    </tr>\n",
       "    <tr>\n",
       "      <th>1346</th>\n",
       "      <td>buen ahor vam a pas tod al salon de al lad a a...</td>\n",
       "      <td>Política</td>\n",
       "    </tr>\n",
       "    <tr>\n",
       "      <th>1990</th>\n",
       "      <td>la ultim cena31 de diciembr 13 30 hor la gent ...</td>\n",
       "      <td>Política</td>\n",
       "    </tr>\n",
       "  </tbody>\n",
       "</table>\n",
       "</div>"
      ],
      "text/plain": [
       "                                           articleBody2 Prediction\n",
       "128   la person que realiz la amenaz de bomb que gen...   Política\n",
       "1384  la cam de represent diput estadounidens aprob ...   Política\n",
       "1958  el gobiern convirti las fronter nacional en un...   Política\n",
       "1346  buen ahor vam a pas tod al salon de al lad a a...   Política\n",
       "1990  la ultim cena31 de diciembr 13 30 hor la gent ...   Política"
      ]
     },
     "execution_count": 100,
     "metadata": {},
     "output_type": "execute_result"
    }
   ],
   "source": [
    "df_results = pd.DataFrame(X_test)\n",
    "df_results['Prediction'] = y_pred_multinb\n",
    "df_results.head(5)"
   ]
  },
  {
   "cell_type": "markdown",
   "metadata": {},
   "source": [
    "### KNN"
   ]
  },
  {
   "cell_type": "code",
   "execution_count": 101,
   "metadata": {},
   "outputs": [
    {
     "name": "stdout",
     "output_type": "stream",
     "text": [
      "Accuracy KNN:  0.820276497696\n"
     ]
    }
   ],
   "source": [
    "model_knn = KNeighborsClassifier(n_neighbors=10)\n",
    "model_knn.fit(X_train_counts,y_train)\n",
    "y_pred_knn = model_knn.predict(X_test_counts)\n",
    "print('Accuracy KNN: ',accuracy_score(y_pred_knn, y_test))"
   ]
  },
  {
   "cell_type": "code",
   "execution_count": 102,
   "metadata": {
    "collapsed": true
   },
   "outputs": [],
   "source": [
    "#CV\n",
    "X_counts = count_vect.transform(X)\n",
    "from sklearn.model_selection import cross_val_score\n",
    "scores_para_df_standar = []\n",
    "for i in range(1,100,5):\n",
    "    model_knn = KNeighborsClassifier(n_neighbors=i)\n",
    "    cv_scores = cross_val_score(model_knn, X_counts, y, cv=5)\n",
    "    dict_row_score = {'score_medio':np.mean(cv_scores),'score_std':np.std(cv_scores),'n_neighbours':i}\n",
    "    scores_para_df_standar.append(dict_row_score)"
   ]
  },
  {
   "cell_type": "code",
   "execution_count": 103,
   "metadata": {},
   "outputs": [
    {
     "data": {
      "text/html": [
       "<div>\n",
       "<style>\n",
       "    .dataframe thead tr:only-child th {\n",
       "        text-align: right;\n",
       "    }\n",
       "\n",
       "    .dataframe thead th {\n",
       "        text-align: left;\n",
       "    }\n",
       "\n",
       "    .dataframe tbody tr th {\n",
       "        vertical-align: top;\n",
       "    }\n",
       "</style>\n",
       "<table border=\"1\" class=\"dataframe\">\n",
       "  <thead>\n",
       "    <tr style=\"text-align: right;\">\n",
       "      <th></th>\n",
       "      <th>n_neighbours</th>\n",
       "      <th>score_medio</th>\n",
       "      <th>score_std</th>\n",
       "    </tr>\n",
       "  </thead>\n",
       "  <tbody>\n",
       "    <tr>\n",
       "      <th>3</th>\n",
       "      <td>16</td>\n",
       "      <td>0.838242</td>\n",
       "      <td>0.034554</td>\n",
       "    </tr>\n",
       "    <tr>\n",
       "      <th>2</th>\n",
       "      <td>11</td>\n",
       "      <td>0.829047</td>\n",
       "      <td>0.022562</td>\n",
       "    </tr>\n",
       "    <tr>\n",
       "      <th>4</th>\n",
       "      <td>21</td>\n",
       "      <td>0.826016</td>\n",
       "      <td>0.024679</td>\n",
       "    </tr>\n",
       "    <tr>\n",
       "      <th>5</th>\n",
       "      <td>26</td>\n",
       "      <td>0.819885</td>\n",
       "      <td>0.027143</td>\n",
       "    </tr>\n",
       "    <tr>\n",
       "      <th>1</th>\n",
       "      <td>6</td>\n",
       "      <td>0.803138</td>\n",
       "      <td>0.027305</td>\n",
       "    </tr>\n",
       "  </tbody>\n",
       "</table>\n",
       "</div>"
      ],
      "text/plain": [
       "   n_neighbours  score_medio  score_std\n",
       "3            16     0.838242   0.034554\n",
       "2            11     0.829047   0.022562\n",
       "4            21     0.826016   0.024679\n",
       "5            26     0.819885   0.027143\n",
       "1             6     0.803138   0.027305"
      ]
     },
     "execution_count": 103,
     "metadata": {},
     "output_type": "execute_result"
    }
   ],
   "source": [
    "df_scores_standar = pd.DataFrame(scores_para_df_standar)\n",
    "#df_scores_standar\n",
    "df_scores_standar.sort_values(by=\"score_medio\",ascending=False).head(5)"
   ]
  },
  {
   "cell_type": "code",
   "execution_count": 104,
   "metadata": {},
   "outputs": [
    {
     "name": "stdout",
     "output_type": "stream",
     "text": [
      "Accuracy KNN:  0.852534562212\n"
     ]
    }
   ],
   "source": [
    "model_knn = KNeighborsClassifier(n_neighbors=16)\n",
    "model_knn.fit(X_train_counts,y_train)\n",
    "y_pred_knn = model_knn.predict(X_test_counts)\n",
    "print('Accuracy KNN: ',accuracy_score(y_pred_knn, y_test))"
   ]
  },
  {
   "cell_type": "code",
   "execution_count": 105,
   "metadata": {
    "collapsed": true
   },
   "outputs": [],
   "source": [
    "df_scores_standar['limite_superior'] = df_scores_standar['score_medio'] + df_scores_standar['score_std']\n",
    "df_scores_standar['limite_inferior'] = df_scores_standar['score_medio'] - df_scores_standar['score_std']"
   ]
  },
  {
   "cell_type": "code",
   "execution_count": 106,
   "metadata": {},
   "outputs": [
    {
     "data": {
      "image/png": "[encoded data removed]",
      "text/plain": [
       "<matplotlib.figure.Figure at 0x1189f9cc0>"
      ]
     },
     "metadata": {},
     "output_type": "display_data"
    }
   ],
   "source": [
    "import matplotlib.pyplot as plt\n",
    "%matplotlib inline\n",
    "\n",
    "plt.plot(df_scores_standar['n_neighbours'],df_scores_standar['limite_inferior'],color='r')\n",
    "plt.plot(df_scores_standar['n_neighbours'],df_scores_standar['score_medio'],color='b')\n",
    "plt.plot(df_scores_standar['n_neighbours'],df_scores_standar['limite_superior'],color='r');"
   ]
  },
  {
   "cell_type": "code",
   "execution_count": 107,
   "metadata": {},
   "outputs": [
    {
     "data": {
      "image/png": "[encoded data removed]",
      "text/plain": [
       "<matplotlib.figure.Figure at 0x11828e438>"
      ]
     },
     "metadata": {},
     "output_type": "display_data"
    },
    {
     "name": "stdout",
     "output_type": "stream",
     "text": [
      "--------------REPORT MODEL KNN (n=16)--------------\n",
      "\n",
      "Roc Auc: 0.8711458812701335\n",
      "\n",
      " Classification Report: \n",
      "\n",
      "             precision    recall  f1-score   support\n",
      "\n",
      "   Economía       0.86      0.47      0.61        53\n",
      "   Política       0.85      0.98      0.91       164\n",
      "\n",
      "avg / total       0.85      0.85      0.84       217\n",
      "\n",
      "\n",
      " Classification Report: \n",
      "\n",
      "[[ 25  28]\n",
      " [  4 160]]\n",
      "-------------------------------------------\n",
      "\n"
     ]
    }
   ],
   "source": [
    "get_report(X_test_counts,y_test,model_knn,\"KNN (n=16)\")"
   ]
  },
  {
   "cell_type": "markdown",
   "metadata": {},
   "source": [
    "### SVM"
   ]
  },
  {
   "cell_type": "code",
   "execution_count": 108,
   "metadata": {},
   "outputs": [
    {
     "name": "stdout",
     "output_type": "stream",
     "text": [
      "0.872040169133  gamma: 0.0001  C: 1\n",
      "0.913319238901  gamma: 0.0005  C: 1\n",
      "0.894926004228  gamma: 0.001  C: 1\n",
      "0.762579281184  gamma: 0.005  C: 1\n",
      "0.917917547569  gamma: 0.0001  C: 5\n",
      "0.924577167019  gamma: 0.0005  C: 5\n",
      "0.904069767442  gamma: 0.001  C: 5\n",
      "0.762579281184  gamma: 0.005  C: 5\n",
      "0.92700845666  gamma: 0.0001  C: 10\n",
      "0.924524312896  gamma: 0.0005  C: 10\n",
      "0.904069767442  gamma: 0.001  C: 10\n",
      "0.762579281184  gamma: 0.005  C: 10\n",
      "0.931501057082  gamma: 0.0001  C: 50\n",
      "0.924524312896  gamma: 0.0005  C: 50\n",
      "0.904069767442  gamma: 0.001  C: 50\n",
      "0.762579281184  gamma: 0.005  C: 50\n"
     ]
    }
   ],
   "source": [
    "svc_C = [1, 5, 10, 50]\n",
    "svc_gamma = [0.0001, 0.0005, 0.001, 0.005]\n",
    "for c in svc_C:\n",
    "    for g in svc_gamma:\n",
    "        model_svm = SVC(kernel='rbf', class_weight='balanced', C=c, gamma = g)\n",
    "        print (np.mean(cross_val_score(model_svm,X_train_counts,y_train,cv=5)),' gamma:',g,' C:',c)"
   ]
  },
  {
   "cell_type": "code",
   "execution_count": 109,
   "metadata": {},
   "outputs": [
    {
     "name": "stdout",
     "output_type": "stream",
     "text": [
      "Accuracy SVM:  0.921658986175\n"
     ]
    }
   ],
   "source": [
    "model_svm = SVC(kernel='rbf', class_weight='balanced', C=50, gamma = 0.0001)\n",
    "model_svm.fit(X_train_counts,y_train)\n",
    "y_pred_svm = model_svm.predict(X_test_counts)\n",
    "print('Accuracy SVM: ',accuracy_score(y_pred_svm, y_test))"
   ]
  },
  {
   "cell_type": "code",
   "execution_count": null,
   "metadata": {
    "collapsed": true
   },
   "outputs": [],
   "source": [
    "confusion = confusion_matrix(y_test, y_pred_svm)\n",
    "print(confusion)"
   ]
  },
  {
   "cell_type": "markdown",
   "metadata": {},
   "source": [
    "### Regresión Logística"
   ]
  },
  {
   "cell_type": "code",
   "execution_count": 110,
   "metadata": {},
   "outputs": [
    {
     "name": "stdout",
     "output_type": "stream",
     "text": [
      "Accuracy Logistic Regression:  0.917050691244\n"
     ]
    }
   ],
   "source": [
    "model_log = LogisticRegression(C=0.1)\n",
    "model_log.fit(X_train_counts, y_train)\n",
    "y_pred_log = model_log.predict(X_test_counts)\n",
    "print('Accuracy Logistic Regression: ',accuracy_score(y_pred_log, y_test))"
   ]
  },
  {
   "cell_type": "code",
   "execution_count": 111,
   "metadata": {},
   "outputs": [
    {
     "data": {
      "text/html": [
       "<div>\n",
       "<style>\n",
       "    .dataframe thead tr:only-child th {\n",
       "        text-align: right;\n",
       "    }\n",
       "\n",
       "    .dataframe thead th {\n",
       "        text-align: left;\n",
       "    }\n",
       "\n",
       "    .dataframe tbody tr th {\n",
       "        vertical-align: top;\n",
       "    }\n",
       "</style>\n",
       "<table border=\"1\" class=\"dataframe\">\n",
       "  <thead>\n",
       "    <tr style=\"text-align: right;\">\n",
       "      <th></th>\n",
       "      <th>articleBody2</th>\n",
       "      <th>Prediction</th>\n",
       "    </tr>\n",
       "  </thead>\n",
       "  <tbody>\n",
       "    <tr>\n",
       "      <th>128</th>\n",
       "      <td>la person que realiz la amenaz de bomb que gen...</td>\n",
       "      <td>Política</td>\n",
       "    </tr>\n",
       "    <tr>\n",
       "      <th>1384</th>\n",
       "      <td>la cam de represent diput estadounidens aprob ...</td>\n",
       "      <td>Política</td>\n",
       "    </tr>\n",
       "    <tr>\n",
       "      <th>1958</th>\n",
       "      <td>el gobiern convirti las fronter nacional en un...</td>\n",
       "      <td>Política</td>\n",
       "    </tr>\n",
       "    <tr>\n",
       "      <th>1346</th>\n",
       "      <td>buen ahor vam a pas tod al salon de al lad a a...</td>\n",
       "      <td>Política</td>\n",
       "    </tr>\n",
       "    <tr>\n",
       "      <th>1990</th>\n",
       "      <td>la ultim cena31 de diciembr 13 30 hor la gent ...</td>\n",
       "      <td>Política</td>\n",
       "    </tr>\n",
       "    <tr>\n",
       "      <th>942</th>\n",
       "      <td>ernest savagli el public que cubri de color y ...</td>\n",
       "      <td>Política</td>\n",
       "    </tr>\n",
       "    <tr>\n",
       "      <th>1430</th>\n",
       "      <td>la ucr hac equilibri en sant fe par evit quieb...</td>\n",
       "      <td>Política</td>\n",
       "    </tr>\n",
       "    <tr>\n",
       "      <th>1776</th>\n",
       "      <td>maurici macri celebr hoy su cumplean numer 58 ...</td>\n",
       "      <td>Política</td>\n",
       "    </tr>\n",
       "    <tr>\n",
       "      <th>633</th>\n",
       "      <td>la candidat a senador por el massism margarit ...</td>\n",
       "      <td>Política</td>\n",
       "    </tr>\n",
       "    <tr>\n",
       "      <th>336</th>\n",
       "      <td>la griet que se habi gener dentr de la cgt ent...</td>\n",
       "      <td>Política</td>\n",
       "    </tr>\n",
       "  </tbody>\n",
       "</table>\n",
       "</div>"
      ],
      "text/plain": [
       "                                           articleBody2 Prediction\n",
       "128   la person que realiz la amenaz de bomb que gen...   Política\n",
       "1384  la cam de represent diput estadounidens aprob ...   Política\n",
       "1958  el gobiern convirti las fronter nacional en un...   Política\n",
       "1346  buen ahor vam a pas tod al salon de al lad a a...   Política\n",
       "1990  la ultim cena31 de diciembr 13 30 hor la gent ...   Política\n",
       "942   ernest savagli el public que cubri de color y ...   Política\n",
       "1430  la ucr hac equilibri en sant fe par evit quieb...   Política\n",
       "1776  maurici macri celebr hoy su cumplean numer 58 ...   Política\n",
       "633   la candidat a senador por el massism margarit ...   Política\n",
       "336   la griet que se habi gener dentr de la cgt ent...   Política"
      ]
     },
     "execution_count": 111,
     "metadata": {},
     "output_type": "execute_result"
    }
   ],
   "source": [
    "df_results = pd.DataFrame(X_test)\n",
    "df_results['Prediction'] = y_pred_log\n",
    "df_results.head(10)"
   ]
  },
  {
   "cell_type": "code",
   "execution_count": 112,
   "metadata": {},
   "outputs": [
    {
     "data": {
      "image/png": "[encoded data removed]",
      "text/plain": [
       "<matplotlib.figure.Figure at 0x116b61358>"
      ]
     },
     "metadata": {},
     "output_type": "display_data"
    },
    {
     "name": "stdout",
     "output_type": "stream",
     "text": [
      "--------------REPORT MODEL Regresión Logística (c=0.1)--------------\n",
      "\n",
      "Roc Auc: 0.9746893695352048\n",
      "\n",
      " Classification Report: \n",
      "\n",
      "             precision    recall  f1-score   support\n",
      "\n",
      "   Economía       0.93      0.72      0.81        53\n",
      "   Política       0.91      0.98      0.95       164\n",
      "\n",
      "avg / total       0.92      0.92      0.91       217\n",
      "\n",
      "\n",
      " Classification Report: \n",
      "\n",
      "[[ 38  15]\n",
      " [  3 161]]\n",
      "-------------------------------------------\n",
      "\n"
     ]
    }
   ],
   "source": [
    "get_report(X_test_counts,y_test,model_log,\"Regresión Logística (c=0.1)\")"
   ]
  },
  {
   "cell_type": "code",
   "execution_count": null,
   "metadata": {
    "collapsed": true
   },
   "outputs": [],
   "source": []
  }
 ],
 "metadata": {
  "kernelspec": {
   "display_name": "Python 3",
   "language": "python",
   "name": "python3"
  },
  "language_info": {
   "codemirror_mode": {
    "name": "ipython",
    "version": 3
   },
   "file_extension": ".py",
   "mimetype": "text/x-python",
   "name": "python",
   "nbconvert_exporter": "python",
   "pygments_lexer": "ipython3",
   "version": "3.6.1"
  }
 },
 "nbformat": 4,
 "nbformat_minor": 2
}
