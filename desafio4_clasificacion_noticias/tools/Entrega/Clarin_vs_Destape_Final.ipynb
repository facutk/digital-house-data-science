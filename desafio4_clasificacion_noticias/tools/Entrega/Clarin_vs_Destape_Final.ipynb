{
 "cells": [
  {
   "cell_type": "code",
   "execution_count": 2,
   "metadata": {
    "collapsed": true
   },
   "outputs": [],
   "source": [
    "from sklearn import preprocessing\n",
    "from sklearn.model_selection import train_test_split\n",
    "from sklearn.datasets import make_classification\n",
    "from sklearn.naive_bayes import MultinomialNB\n",
    "from sklearn.linear_model import LogisticRegression\n",
    "from sklearn.neighbors import KNeighborsClassifier\n",
    "from sklearn.naive_bayes import GaussianNB\n",
    "from sklearn.svm import SVC\n",
    "from sklearn.decomposition import PCA\n",
    "from sklearn.metrics import confusion_matrix\n",
    "from sklearn.model_selection import cross_val_score\n",
    "from sklearn.metrics import accuracy_score\n",
    "from sklearn.metrics import f1_score\n",
    "from sklearn.metrics import roc_auc_score, classification_report\n",
    "from sklearn.metrics import  precision_score, recall_score, roc_curve, auc\n",
    "import matplotlib.pyplot as plt\n",
    "import pandas as pd\n",
    "import numpy as np\n",
    "import re\n",
    "import unidecode"
   ]
  },
  {
   "cell_type": "code",
   "execution_count": 5,
   "metadata": {},
   "outputs": [],
   "source": [
    "df_clarin = pd.read_csv('tools/big_clarin.csv')\n",
    "df_destape = pd.read_csv('tools/eldestapeweb.csv')\n",
    "stopwords = pd.read_csv('tools/stopwords.csv', header= None)\n"
   ]
  },
  {
   "cell_type": "code",
   "execution_count": 6,
   "metadata": {},
   "outputs": [],
   "source": [
    "df_clarin = df_clarin[pd.notnull(df_clarin['articleBody'])]\n",
    "df_destape = df_destape[pd.notnull(df_destape['articleBody'])]"
   ]
  },
  {
   "cell_type": "code",
   "execution_count": 7,
   "metadata": {
    "collapsed": true
   },
   "outputs": [],
   "source": [
    "df_clarin['diario'] = 'clarin'\n",
    "df_destape['diario'] = 'destape'"
   ]
  },
  {
   "cell_type": "code",
   "execution_count": 8,
   "metadata": {},
   "outputs": [
    {
     "data": {
      "text/html": [
       "<div>\n",
       "<style>\n",
       "    .dataframe thead tr:only-child th {\n",
       "        text-align: right;\n",
       "    }\n",
       "\n",
       "    .dataframe thead th {\n",
       "        text-align: left;\n",
       "    }\n",
       "\n",
       "    .dataframe tbody tr th {\n",
       "        vertical-align: top;\n",
       "    }\n",
       "</style>\n",
       "<table border=\"1\" class=\"dataframe\">\n",
       "  <thead>\n",
       "    <tr style=\"text-align: right;\">\n",
       "      <th></th>\n",
       "      <th>articleBody</th>\n",
       "      <th>bajada</th>\n",
       "      <th>headline</th>\n",
       "      <th>link</th>\n",
       "      <th>section</th>\n",
       "      <th>source</th>\n",
       "      <th>volanta</th>\n",
       "      <th>diario</th>\n",
       "    </tr>\n",
       "  </thead>\n",
       "  <tbody>\n",
       "    <tr>\n",
       "      <th>0</th>\n",
       "      <td>La ex presidenta y candidata a senadora de Uni...</td>\n",
       "      <td>La ex presidenta y candidata a senadora de Uni...</td>\n",
       "      <td>El cantito contra Clarín en medio del discurso...</td>\n",
       "      <td>http://www.eldestapeweb.com//el-fuerte-pedido-...</td>\n",
       "      <td>Política</td>\n",
       "      <td>eldestapeweb</td>\n",
       "      <td>Elecciones 2017</td>\n",
       "      <td>destape</td>\n",
       "    </tr>\n",
       "    <tr>\n",
       "      <th>1</th>\n",
       "      <td>Durante el discurso de la candidata a senadora...</td>\n",
       "      <td>Un fuerte repudio contra el grupo de medios má...</td>\n",
       "      <td>El fuerte pedido de Cristina por Maldonado: \"T...</td>\n",
       "      <td>http://www.eldestapeweb.com//el-cantito-contra...</td>\n",
       "      <td>Política</td>\n",
       "      <td>eldestapeweb</td>\n",
       "      <td>Elecciones 2017</td>\n",
       "      <td>destape</td>\n",
       "    </tr>\n",
       "    <tr>\n",
       "      <th>2</th>\n",
       "      <td>Tras las elecciones legislativas de la semana ...</td>\n",
       "      <td>Crecen los rumores en torno a la posible desvi...</td>\n",
       "      <td>ESCÁNDALO | Empresario clave reveló el porcent...</td>\n",
       "      <td>http://www.eldestapeweb.com//macri-ya-tendria-...</td>\n",
       "      <td>Política</td>\n",
       "      <td>eldestapeweb</td>\n",
       "      <td>Macri Presidente</td>\n",
       "      <td>destape</td>\n",
       "    </tr>\n",
       "    <tr>\n",
       "      <th>3</th>\n",
       "      <td>Con un encendido discurso que apuntó a interpe...</td>\n",
       "      <td>La candidata a senadora cerró su campaña de ca...</td>\n",
       "      <td>El fuerte pedido de Cristina por Maldonado: \"T...</td>\n",
       "      <td>http://www.eldestapeweb.com//las-10-frases-mas...</td>\n",
       "      <td>Política</td>\n",
       "      <td>eldestapeweb</td>\n",
       "      <td>Elecciones 2017</td>\n",
       "      <td>destape</td>\n",
       "    </tr>\n",
       "    <tr>\n",
       "      <th>4</th>\n",
       "      <td>Con un encendido discurso que apuntó a interpe...</td>\n",
       "      <td>En medio de su discurso, la candidata a senado...</td>\n",
       "      <td>El fuerte pedido de Cristina por Maldonado: \"T...</td>\n",
       "      <td>http://www.eldestapeweb.com//el-calculo-matema...</td>\n",
       "      <td>Política</td>\n",
       "      <td>eldestapeweb</td>\n",
       "      <td>Elecciones 2017</td>\n",
       "      <td>destape</td>\n",
       "    </tr>\n",
       "  </tbody>\n",
       "</table>\n",
       "</div>"
      ],
      "text/plain": [
       "                                         articleBody  \\\n",
       "0  La ex presidenta y candidata a senadora de Uni...   \n",
       "1  Durante el discurso de la candidata a senadora...   \n",
       "2  Tras las elecciones legislativas de la semana ...   \n",
       "3  Con un encendido discurso que apuntó a interpe...   \n",
       "4  Con un encendido discurso que apuntó a interpe...   \n",
       "\n",
       "                                              bajada  \\\n",
       "0  La ex presidenta y candidata a senadora de Uni...   \n",
       "1  Un fuerte repudio contra el grupo de medios má...   \n",
       "2  Crecen los rumores en torno a la posible desvi...   \n",
       "3  La candidata a senadora cerró su campaña de ca...   \n",
       "4  En medio de su discurso, la candidata a senado...   \n",
       "\n",
       "                                            headline  \\\n",
       "0  El cantito contra Clarín en medio del discurso...   \n",
       "1  El fuerte pedido de Cristina por Maldonado: \"T...   \n",
       "2  ESCÁNDALO | Empresario clave reveló el porcent...   \n",
       "3  El fuerte pedido de Cristina por Maldonado: \"T...   \n",
       "4  El fuerte pedido de Cristina por Maldonado: \"T...   \n",
       "\n",
       "                                                link   section        source  \\\n",
       "0  http://www.eldestapeweb.com//el-fuerte-pedido-...  Política  eldestapeweb   \n",
       "1  http://www.eldestapeweb.com//el-cantito-contra...  Política  eldestapeweb   \n",
       "2  http://www.eldestapeweb.com//macri-ya-tendria-...  Política  eldestapeweb   \n",
       "3  http://www.eldestapeweb.com//las-10-frases-mas...  Política  eldestapeweb   \n",
       "4  http://www.eldestapeweb.com//el-calculo-matema...  Política  eldestapeweb   \n",
       "\n",
       "            volanta   diario  \n",
       "0   Elecciones 2017  destape  \n",
       "1   Elecciones 2017  destape  \n",
       "2  Macri Presidente  destape  \n",
       "3   Elecciones 2017  destape  \n",
       "4   Elecciones 2017  destape  "
      ]
     },
     "execution_count": 8,
     "metadata": {},
     "output_type": "execute_result"
    }
   ],
   "source": [
    "df_destape.head()"
   ]
  },
  {
   "cell_type": "code",
   "execution_count": 9,
   "metadata": {
    "collapsed": true
   },
   "outputs": [],
   "source": [
    "stopwords_list = stopwords[0].values\n",
    "stopwords_list = list(stopwords_list)"
   ]
  },
  {
   "cell_type": "code",
   "execution_count": 10,
   "metadata": {
    "collapsed": true
   },
   "outputs": [],
   "source": [
    "from nltk import word_tokenize\n",
    "from nltk.stem import SnowballStemmer\n",
    "stemmer = SnowballStemmer('spanish')"
   ]
  },
  {
   "cell_type": "code",
   "execution_count": 11,
   "metadata": {
    "collapsed": true
   },
   "outputs": [],
   "source": [
    "def text_stemmer(text):\n",
    "    texto = text.lower()\n",
    "    unaccented_string = unidecode.unidecode(texto)\n",
    "    stripped = re.sub('[^a-z0-9]+', ' ', unaccented_string).lstrip()\n",
    "    stemmed = \" \".join([stemmer.stem(x) for x in stripped.split(' ')])\n",
    "    return stemmed"
   ]
  },
  {
   "cell_type": "code",
   "execution_count": 12,
   "metadata": {
    "collapsed": true
   },
   "outputs": [],
   "source": [
    "#Esto tarda bastante\n",
    "df_clarin['articleBody2'] = df_clarin[\"articleBody\"].apply(text_stemmer)\n",
    "df_destape['articleBody2'] = df_destape[\"articleBody\"].apply(text_stemmer)"
   ]
  },
  {
   "cell_type": "code",
   "execution_count": 57,
   "metadata": {},
   "outputs": [
    {
     "data": {
      "text/plain": [
       "section\n",
       "ARQ                      4\n",
       "Autos                    1\n",
       "Buena Vida               1\n",
       "Cartas al pais          21\n",
       "Ciudades               116\n",
       "Clarín em Portugues      2\n",
       "Cultura                 68\n",
       "Deportes               270\n",
       "Economía               157\n",
       "Entremujeres             4\n",
       "Entremujeres México      4\n",
       "Espacio Clarín          14\n",
       "Espectáculos           292\n",
       "Mundo                  175\n",
       "Noticias                 6\n",
       "Opinión                 48\n",
       "Policiales             114\n",
       "Política               498\n",
       "Revista Ñ               19\n",
       "Rural                    7\n",
       "Sociedad               262\n",
       "Tecnología               7\n",
       "Viajes                   3\n",
       "Viva                     4\n",
       "WebTV                    1\n",
       "Name: articleBody, dtype: int64"
      ]
     },
     "execution_count": 57,
     "metadata": {},
     "output_type": "execute_result"
    }
   ],
   "source": [
    "df_clarin.groupby('section')['articleBody'].count()"
   ]
  },
  {
   "cell_type": "code",
   "execution_count": 58,
   "metadata": {},
   "outputs": [
    {
     "data": {
      "text/plain": [
       "section\n",
       "AFA                                1\n",
       "Aborto                             1\n",
       "Alejandro Fantino                  4\n",
       "Aumentos                           1\n",
       "Automovilismo                      1\n",
       "Beisbol                            1\n",
       "Boca Juniors                       1\n",
       "Campo                              1\n",
       "Cecilia Pando                      1\n",
       "Chubut                             1\n",
       "Ciclismo                           1\n",
       "Cine                               1\n",
       "Ciudad                             1\n",
       "Colegio Nacional Buenos Aires      1\n",
       "Consumo                            1\n",
       "Corte Suprema de Justicia          1\n",
       "Cristina Kirchner                  4\n",
       "Cultura                            5\n",
       "Despidieron a Navarro              3\n",
       "Diego Latorre                      1\n",
       "Diego Maradona                     2\n",
       "Economia                          87\n",
       "Editorial                          1\n",
       "Educación                          1\n",
       "Elecciones 2017                    1\n",
       "Elisa Carrió                       1\n",
       "Energía                            7\n",
       "España                             2\n",
       "FUTBOL                            11\n",
       "Facundo Moyano                     1\n",
       "                                ... \n",
       "MUNDIAL RUSIA 2018                12\n",
       "Marcelo Bielsa                     1\n",
       "Marcelo Tinelli                    2\n",
       "Mendoza                            1\n",
       "Mirtha Legrand                     3\n",
       "Moria Casán                        2\n",
       "Ni una menos                       4\n",
       "Nik                                1\n",
       "Opinión                            4\n",
       "PAMI                               1\n",
       "Papa Francisco                     1\n",
       "Policía de la Ciudad               1\n",
       "PolÃ­tica                          1\n",
       "Política                         684\n",
       "Redes sociales                    10\n",
       "River                              1\n",
       "Roberto Navarro                    1\n",
       "Rugby                              1\n",
       "San Juan                           1\n",
       "Seguridad                          1\n",
       "Seleccion Argentina               19\n",
       "Superliga                          1\n",
       "Susana Giménez                     5\n",
       "Tarifazo                           1\n",
       "Trenes                             2\n",
       "Tucumán                            1\n",
       "Twitter                            1\n",
       "UFC                                2\n",
       "Wanda Nara                         1\n",
       "medios                            29\n",
       "Name: articleBody, Length: 75, dtype: int64"
      ]
     },
     "execution_count": 58,
     "metadata": {},
     "output_type": "execute_result"
    }
   ],
   "source": [
    "df_destape.groupby('section')['articleBody'].count()"
   ]
  },
  {
   "cell_type": "code",
   "execution_count": 56,
   "metadata": {},
   "outputs": [
    {
     "data": {
      "text/html": [
       "<div>\n",
       "<style>\n",
       "    .dataframe thead tr:only-child th {\n",
       "        text-align: right;\n",
       "    }\n",
       "\n",
       "    .dataframe thead th {\n",
       "        text-align: left;\n",
       "    }\n",
       "\n",
       "    .dataframe tbody tr th {\n",
       "        vertical-align: top;\n",
       "    }\n",
       "</style>\n",
       "<table border=\"1\" class=\"dataframe\">\n",
       "  <thead>\n",
       "    <tr style=\"text-align: right;\">\n",
       "      <th></th>\n",
       "      <th>Unnamed: 0</th>\n",
       "      <th>articleBody</th>\n",
       "      <th>bajada</th>\n",
       "      <th>date</th>\n",
       "      <th>headline</th>\n",
       "      <th>section</th>\n",
       "      <th>volanta</th>\n",
       "      <th>diario</th>\n",
       "      <th>articleBody2</th>\n",
       "    </tr>\n",
       "  </thead>\n",
       "  <tbody>\n",
       "    <tr>\n",
       "      <th>485</th>\n",
       "      <td>485</td>\n",
       "      <td>El cuñado prófugo del ex ministro de Planifica...</td>\n",
       "      <td>Fue en Chapadmalal y no ofreció resistencia. E...</td>\n",
       "      <td>2017-08-06 19:03:28.340420</td>\n",
       "      <td>Detuvieron a Claudio \"Mono\" Minnicelli, el cuñ...</td>\n",
       "      <td>Política</td>\n",
       "      <td>La mafia de los contenedores</td>\n",
       "      <td>clarin</td>\n",
       "      <td>el cun profug del ex ministr de planificacion ...</td>\n",
       "    </tr>\n",
       "    <tr>\n",
       "      <th>590</th>\n",
       "      <td>590</td>\n",
       "      <td>Si bien la mujer aún está lejos del nivel de c...</td>\n",
       "      <td>Es porque en general están a cargo de sus hijo...</td>\n",
       "      <td>2017-07-22 19:10:37.419110</td>\n",
       "      <td>Mujeres adictas: muy pocas piden ayuda y dejan...</td>\n",
       "      <td>Sociedad</td>\n",
       "      <td>Desigualdad de género</td>\n",
       "      <td>clarin</td>\n",
       "      <td>si bien la muj aun esta lej del nivel de consu...</td>\n",
       "    </tr>\n",
       "    <tr>\n",
       "      <th>859</th>\n",
       "      <td>859</td>\n",
       "      <td>Apesar de la sangría que sufrió desde que Cris...</td>\n",
       "      <td>El kirchnerismo espera retener la mayor parte ...</td>\n",
       "      <td>2017-06-17 19:27:09.367677</td>\n",
       "      <td>Cristina Kirchner arma internas en las provinc...</td>\n",
       "      <td>Política</td>\n",
       "      <td>Elecciones 2017</td>\n",
       "      <td>clarin</td>\n",
       "      <td>apes de la sangri que sufri desd que cristin k...</td>\n",
       "    </tr>\n",
       "    <tr>\n",
       "      <th>888</th>\n",
       "      <td>888</td>\n",
       "      <td>El desborde del arroyo Aguapey provocó el domi...</td>\n",
       "      <td>Son diferentes tramos que dejan localidades in...</td>\n",
       "      <td>2017-06-12 19:29:30.227135</td>\n",
       "      <td>Por las inundaciones todavía hay cinco rutas n...</td>\n",
       "      <td>Sociedad</td>\n",
       "      <td>Un problema crónico que desnuda la falta de ob...</td>\n",
       "      <td>clarin</td>\n",
       "      <td>el desbord del arroy aguapey provoc el doming ...</td>\n",
       "    </tr>\n",
       "    <tr>\n",
       "      <th>1055</th>\n",
       "      <td>1055</td>\n",
       "      <td>En la segunda jornada del juicio oral contra e...</td>\n",
       "      <td>Lo contó una de las mujeres que era explotada ...</td>\n",
       "      <td>2017-05-23 19:39:03.898504</td>\n",
       "      <td>El relato de una de las víctimas de trata: \"No...</td>\n",
       "      <td>Sociedad</td>\n",
       "      <td>Juicio contra un intendente de La Pampa</td>\n",
       "      <td>clarin</td>\n",
       "      <td>en la segund jorn del juici oral contr el inte...</td>\n",
       "    </tr>\n",
       "  </tbody>\n",
       "</table>\n",
       "</div>"
      ],
      "text/plain": [
       "      Unnamed: 0                                        articleBody  \\\n",
       "485          485  El cuñado prófugo del ex ministro de Planifica...   \n",
       "590          590  Si bien la mujer aún está lejos del nivel de c...   \n",
       "859          859  Apesar de la sangría que sufrió desde que Cris...   \n",
       "888          888  El desborde del arroyo Aguapey provocó el domi...   \n",
       "1055        1055  En la segunda jornada del juicio oral contra e...   \n",
       "\n",
       "                                                 bajada  \\\n",
       "485   Fue en Chapadmalal y no ofreció resistencia. E...   \n",
       "590   Es porque en general están a cargo de sus hijo...   \n",
       "859   El kirchnerismo espera retener la mayor parte ...   \n",
       "888   Son diferentes tramos que dejan localidades in...   \n",
       "1055  Lo contó una de las mujeres que era explotada ...   \n",
       "\n",
       "                            date  \\\n",
       "485   2017-08-06 19:03:28.340420   \n",
       "590   2017-07-22 19:10:37.419110   \n",
       "859   2017-06-17 19:27:09.367677   \n",
       "888   2017-06-12 19:29:30.227135   \n",
       "1055  2017-05-23 19:39:03.898504   \n",
       "\n",
       "                                               headline   section  \\\n",
       "485   Detuvieron a Claudio \"Mono\" Minnicelli, el cuñ...  Política   \n",
       "590   Mujeres adictas: muy pocas piden ayuda y dejan...  Sociedad   \n",
       "859   Cristina Kirchner arma internas en las provinc...  Política   \n",
       "888   Por las inundaciones todavía hay cinco rutas n...  Sociedad   \n",
       "1055  El relato de una de las víctimas de trata: \"No...  Sociedad   \n",
       "\n",
       "                                                volanta  diario  \\\n",
       "485                        La mafia de los contenedores  clarin   \n",
       "590                               Desigualdad de género  clarin   \n",
       "859                                     Elecciones 2017  clarin   \n",
       "888   Un problema crónico que desnuda la falta de ob...  clarin   \n",
       "1055            Juicio contra un intendente de La Pampa  clarin   \n",
       "\n",
       "                                           articleBody2  \n",
       "485   el cun profug del ex ministr de planificacion ...  \n",
       "590   si bien la muj aun esta lej del nivel de consu...  \n",
       "859   apes de la sangri que sufri desd que cristin k...  \n",
       "888   el desbord del arroy aguapey provoc el doming ...  \n",
       "1055  en la segund jorn del juici oral contr el inte...  "
      ]
     },
     "execution_count": 56,
     "metadata": {},
     "output_type": "execute_result"
    }
   ],
   "source": [
    "df_clarin.sample(5)"
   ]
  },
  {
   "cell_type": "code",
   "execution_count": 14,
   "metadata": {
    "collapsed": true
   },
   "outputs": [],
   "source": [
    "#Para comparar todas las secciones comentar esto\n",
    "df_politica_destape = df_destape[(df_destape.section == 'Política') | (df_destape.section == 'PolÃ\\xadtica')]\n",
    "df_politica_clarin = df_clarin[(df_clarin.section == 'Política')]\n",
    "df = pd.concat([df_politica_clarin,df_politica_destape])"
   ]
  },
  {
   "cell_type": "code",
   "execution_count": 15,
   "metadata": {
    "collapsed": true
   },
   "outputs": [],
   "source": [
    "X = df['articleBody2']\n",
    "y = df['diario']"
   ]
  },
  {
   "cell_type": "code",
   "execution_count": 61,
   "metadata": {},
   "outputs": [
    {
     "name": "stdout",
     "output_type": "stream",
     "text": [
      "12587\n",
      "2047.83770076\n",
      "281\n"
     ]
    }
   ],
   "source": [
    "print(np.max(list(map(lambda x: len(x), X))))\n",
    "print(np.mean(list(map(lambda x: len(x), X))))\n",
    "print(np.min(list(map(lambda x: len(x), X))))"
   ]
  },
  {
   "cell_type": "code",
   "execution_count": 16,
   "metadata": {
    "collapsed": true
   },
   "outputs": [],
   "source": [
    "X_train, X_test, y_train, y_test = train_test_split(X, y, test_size=0.33, random_state=2)"
   ]
  },
  {
   "cell_type": "code",
   "execution_count": 17,
   "metadata": {},
   "outputs": [
    {
     "data": {
      "text/plain": [
       "(792, 12538)"
      ]
     },
     "execution_count": 17,
     "metadata": {},
     "output_type": "execute_result"
    }
   ],
   "source": [
    "#Vectorizar \n",
    "from sklearn.feature_extraction.text import CountVectorizer\n",
    "count_vect = CountVectorizer(strip_accents= 'ascii', stop_words= stopwords_list)\n",
    "count_vect.fit(X_train)\n",
    "X_train_counts = count_vect.transform(X_train)\n",
    "\n",
    "X_train_counts.shape"
   ]
  },
  {
   "cell_type": "code",
   "execution_count": 18,
   "metadata": {
    "collapsed": true
   },
   "outputs": [],
   "source": [
    "#frecuencia por palabra (por alguna razon funciona peor el TDiDF)\n",
    "#from sklearn.feature_extraction.text import TfidfVectorizer\n",
    "#tfidf = TfidfVectorizer(strip_accents= 'ascii', stop_words= stopwords_list)\n",
    "#tfidf.fit(X_train)\n",
    "#X_train_tfidf = tfidf.transform(X_train)\n",
    "\n",
    "#X_train_tfidf.shape"
   ]
  },
  {
   "cell_type": "code",
   "execution_count": 19,
   "metadata": {
    "collapsed": true
   },
   "outputs": [],
   "source": [
    "X_test_counts = count_vect.transform(X_test)\n",
    "#X_test_tfidf = tfidf.transform(X_test)\n"
   ]
  },
  {
   "cell_type": "code",
   "execution_count": 26,
   "metadata": {
    "collapsed": true
   },
   "outputs": [],
   "source": [
    "def get_report(test_features,test_target,model, model_name):\n",
    "    y_pred = model.predict_proba(test_features)\n",
    "    y_pred_abs = model.predict(test_features)\n",
    "    Ytest = list(map(lambda x : 1 if(x == \"destape\") else 0,test_target))\n",
    "    fpr_log,tpr_log,thr_log = roc_curve(Ytest, y_pred[:,1])\n",
    "    df_aux = pd.DataFrame(dict(fpr=fpr_log, tpr=tpr_log, thr = thr_log))\n",
    "    print(\"--------------REPORT MODEL {}--------------\\n\".format(model_name))\n",
    "    plt.axis([0, 1.01, 0, 1.01])\n",
    "    plt.xlabel('1 - Specificty')\n",
    "    plt.ylabel('TPR / Sensitivity')\n",
    "    plt.title('ROC Curve')\n",
    "    plt.plot(df_aux['fpr'],df_aux['tpr'])\n",
    "    plt.plot(np.arange(0,1, step =0.01), np.arange(0,1, step =0.01))\n",
    "    plt.show() \n",
    "    print(\"Roc Auc: {}\".format(roc_auc_score(Ytest,y_pred[:,1])))\n",
    "    print(\"\\n Classification Report: \\n\")\n",
    "    print(classification_report(test_target,y_pred_abs))\n",
    "    print(\"\\n Classification Report: \\n\")\n",
    "    print(confusion_matrix(test_target, y_pred_abs))\n",
    "    print(\"-------------------------------------------\\n\")"
   ]
  },
  {
   "cell_type": "markdown",
   "metadata": {},
   "source": [
    "### Multinomial Naive Bayes"
   ]
  },
  {
   "cell_type": "code",
   "execution_count": 21,
   "metadata": {},
   "outputs": [
    {
     "name": "stdout",
     "output_type": "stream",
     "text": [
      "Accuracy Multi NB:  0.892583120205\n"
     ]
    }
   ],
   "source": [
    "model_multinb = MultinomialNB().fit(X_train_counts, y_train)\n",
    "y_pred_multinb = model_multinb.predict(X_test_counts)\n",
    "\n",
    "print('Accuracy Multi NB: ',accuracy_score(y_pred_multinb, y_test))"
   ]
  },
  {
   "cell_type": "code",
   "execution_count": 22,
   "metadata": {
    "collapsed": true
   },
   "outputs": [],
   "source": [
    "df_results = pd.DataFrame(X_test)\n",
    "df_results['Prediction'] = y_pred_multinb\n"
   ]
  },
  {
   "cell_type": "code",
   "execution_count": 27,
   "metadata": {},
   "outputs": [
    {
     "name": "stdout",
     "output_type": "stream",
     "text": [
      "--------------REPORT MODEL Multinomial Naive Bayes--------------\n",
      "\n"
     ]
    },
    {
     "data": {
      "image/png": "[encoded data removed]",
      "text/plain": [
       "<matplotlib.figure.Figure at 0x11964e860>"
      ]
     },
     "metadata": {},
     "output_type": "display_data"
    },
    {
     "name": "stdout",
     "output_type": "stream",
     "text": [
      "Roc Auc: 0.9831994645247657\n",
      "\n",
      " Classification Report: \n",
      "\n",
      "             precision    recall  f1-score   support\n",
      "\n",
      "     clarin       0.82      0.96      0.88       166\n",
      "    destape       0.96      0.84      0.90       225\n",
      "\n",
      "avg / total       0.90      0.89      0.89       391\n",
      "\n",
      "\n",
      " Classification Report: \n",
      "\n",
      "[[159   7]\n",
      " [ 35 190]]\n",
      "-------------------------------------------\n",
      "\n"
     ]
    }
   ],
   "source": [
    "get_report(X_test_counts,y_test,model_multinb, \"Multinomial Naive Bayes\")"
   ]
  },
  {
   "cell_type": "markdown",
   "metadata": {},
   "source": [
    "### KNN"
   ]
  },
  {
   "cell_type": "code",
   "execution_count": 29,
   "metadata": {},
   "outputs": [
    {
     "name": "stdout",
     "output_type": "stream",
     "text": [
      "Accuracy KNN:  0.843989769821\n"
     ]
    }
   ],
   "source": [
    "model_knn = KNeighborsClassifier(n_neighbors=5)\n",
    "model_knn.fit(X_train_counts,y_train)\n",
    "y_pred_knn = model_knn.predict(X_test_counts)\n",
    "print('Accuracy KNN: ',accuracy_score(y_pred_knn, y_test))"
   ]
  },
  {
   "cell_type": "code",
   "execution_count": 30,
   "metadata": {
    "collapsed": true
   },
   "outputs": [],
   "source": [
    "# Calculamos nuevamente los scores de cross validation, pero esta vez sobre los features estandarizados\n",
    "X_counts = count_vect.transform(X)\n",
    "from sklearn.model_selection import cross_val_score\n",
    "scores_para_df_standar = []\n",
    "for i in range(1,100,5):\n",
    "    model_knn = KNeighborsClassifier(n_neighbors=i)\n",
    "    cv_scores = cross_val_score(model_knn, X_counts, y, cv=5)\n",
    "    dict_row_score = {'score_medio':np.mean(cv_scores),'score_std':np.std(cv_scores),'n_neighbours':i}\n",
    "    scores_para_df_standar.append(dict_row_score)"
   ]
  },
  {
   "cell_type": "code",
   "execution_count": 31,
   "metadata": {},
   "outputs": [
    {
     "data": {
      "text/html": [
       "<div>\n",
       "<style>\n",
       "    .dataframe thead tr:only-child th {\n",
       "        text-align: right;\n",
       "    }\n",
       "\n",
       "    .dataframe thead th {\n",
       "        text-align: left;\n",
       "    }\n",
       "\n",
       "    .dataframe tbody tr th {\n",
       "        vertical-align: top;\n",
       "    }\n",
       "</style>\n",
       "<table border=\"1\" class=\"dataframe\">\n",
       "  <thead>\n",
       "    <tr style=\"text-align: right;\">\n",
       "      <th></th>\n",
       "      <th>n_neighbours</th>\n",
       "      <th>score_medio</th>\n",
       "      <th>score_std</th>\n",
       "    </tr>\n",
       "  </thead>\n",
       "  <tbody>\n",
       "    <tr>\n",
       "      <th>1</th>\n",
       "      <td>6</td>\n",
       "      <td>0.850336</td>\n",
       "      <td>0.025864</td>\n",
       "    </tr>\n",
       "    <tr>\n",
       "      <th>3</th>\n",
       "      <td>16</td>\n",
       "      <td>0.846092</td>\n",
       "      <td>0.034168</td>\n",
       "    </tr>\n",
       "    <tr>\n",
       "      <th>2</th>\n",
       "      <td>11</td>\n",
       "      <td>0.842705</td>\n",
       "      <td>0.038035</td>\n",
       "    </tr>\n",
       "    <tr>\n",
       "      <th>4</th>\n",
       "      <td>21</td>\n",
       "      <td>0.839319</td>\n",
       "      <td>0.039597</td>\n",
       "    </tr>\n",
       "    <tr>\n",
       "      <th>5</th>\n",
       "      <td>26</td>\n",
       "      <td>0.837639</td>\n",
       "      <td>0.032364</td>\n",
       "    </tr>\n",
       "  </tbody>\n",
       "</table>\n",
       "</div>"
      ],
      "text/plain": [
       "   n_neighbours  score_medio  score_std\n",
       "1             6     0.850336   0.025864\n",
       "3            16     0.846092   0.034168\n",
       "2            11     0.842705   0.038035\n",
       "4            21     0.839319   0.039597\n",
       "5            26     0.837639   0.032364"
      ]
     },
     "execution_count": 31,
     "metadata": {},
     "output_type": "execute_result"
    }
   ],
   "source": [
    "df_scores_standar = pd.DataFrame(scores_para_df_standar)\n",
    "df_scores_standar.sort_values(by=\"score_medio\",ascending=False).head(5)"
   ]
  },
  {
   "cell_type": "code",
   "execution_count": 32,
   "metadata": {
    "collapsed": true
   },
   "outputs": [],
   "source": [
    "# Armamos nuevamente los límites para graficar\n",
    "df_scores_standar['limite_superior'] = df_scores_standar['score_medio'] + df_scores_standar['score_std']\n",
    "df_scores_standar['limite_inferior'] = df_scores_standar['score_medio'] - df_scores_standar['score_std']"
   ]
  },
  {
   "cell_type": "code",
   "execution_count": 33,
   "metadata": {},
   "outputs": [
    {
     "data": {
      "image/png": "[encoded data removed]",
      "text/plain": [
       "<matplotlib.figure.Figure at 0x118a00898>"
      ]
     },
     "metadata": {},
     "output_type": "display_data"
    }
   ],
   "source": [
    "# Buscamos gráficamente el valor ópitmo para n_neighbors\n",
    "import matplotlib.pyplot as plt\n",
    "%matplotlib inline\n",
    "\n",
    "plt.plot(df_scores_standar['n_neighbours'],df_scores_standar['limite_inferior'],color='r')\n",
    "plt.plot(df_scores_standar['n_neighbours'],df_scores_standar['score_medio'],color='b')\n",
    "plt.plot(df_scores_standar['n_neighbours'],df_scores_standar['limite_superior'],color='r');"
   ]
  },
  {
   "cell_type": "code",
   "execution_count": 34,
   "metadata": {},
   "outputs": [
    {
     "name": "stdout",
     "output_type": "stream",
     "text": [
      "Accuracy KNN:  0.854219948849\n"
     ]
    }
   ],
   "source": [
    "model_knn = KNeighborsClassifier(n_neighbors=6)\n",
    "model_knn.fit(X_train_counts,y_train)\n",
    "y_pred_knn = model_knn.predict(X_test_counts)\n",
    "print('Accuracy KNN: ',accuracy_score(y_pred_knn, y_test))"
   ]
  },
  {
   "cell_type": "code",
   "execution_count": 35,
   "metadata": {},
   "outputs": [
    {
     "name": "stdout",
     "output_type": "stream",
     "text": [
      "--------------REPORT MODEL KNN (n = 6)--------------\n",
      "\n"
     ]
    },
    {
     "data": {
      "image/png": "[encoded data removed]",
      "text/plain": [
       "<matplotlib.figure.Figure at 0x10cfc9588>"
      ]
     },
     "metadata": {},
     "output_type": "display_data"
    },
    {
     "name": "stdout",
     "output_type": "stream",
     "text": [
      "Roc Auc: 0.9257965194109772\n",
      "\n",
      " Classification Report: \n",
      "\n",
      "             precision    recall  f1-score   support\n",
      "\n",
      "     clarin       0.95      0.69      0.80       166\n",
      "    destape       0.81      0.97      0.88       225\n",
      "\n",
      "avg / total       0.87      0.85      0.85       391\n",
      "\n",
      "\n",
      " Classification Report: \n",
      "\n",
      "[[115  51]\n",
      " [  6 219]]\n",
      "-------------------------------------------\n",
      "\n"
     ]
    }
   ],
   "source": [
    "get_report(X_test_counts,y_test,model_knn, \"KNN (n = 6)\")"
   ]
  },
  {
   "cell_type": "markdown",
   "metadata": {},
   "source": [
    "### SVM"
   ]
  },
  {
   "cell_type": "code",
   "execution_count": 36,
   "metadata": {},
   "outputs": [
    {
     "name": "stdout",
     "output_type": "stream",
     "text": [
      "0.883854788631  gamma: 0.0001  C: 1\n",
      "0.910397261365  gamma: 0.0005  C: 1\n",
      "0.90913143858  gamma: 0.001  C: 1\n",
      "0.854844359526  gamma: 0.005  C: 1\n",
      "0.917968314625  gamma: 0.0001  C: 5\n",
      "0.933110421145  gamma: 0.0005  C: 5\n",
      "0.928039168856  gamma: 0.001  C: 5\n",
      "0.862407451636  gamma: 0.005  C: 5\n",
      "0.935642066714  gamma: 0.0001  C: 10\n",
      "0.938157789985  gamma: 0.0005  C: 10\n",
      "0.930570814426  gamma: 0.001  C: 10\n",
      "0.862407451636  gamma: 0.005  C: 10\n",
      "0.938149828835  gamma: 0.0001  C: 50\n",
      "0.93942361277  gamma: 0.0005  C: 50\n",
      "0.930570814426  gamma: 0.001  C: 50\n",
      "0.862407451636  gamma: 0.005  C: 50\n"
     ]
    }
   ],
   "source": [
    "svc_C = [1, 5, 10, 50]\n",
    "svc_gamma = [0.0001, 0.0005, 0.001, 0.005]\n",
    "for c in svc_C:\n",
    "    for g in svc_gamma:\n",
    "        model_svm = SVC(kernel='rbf', class_weight='balanced', C=c, gamma = g)\n",
    "        print (np.mean(cross_val_score(model_svm,X_train_counts,y_train,cv=5)),' gamma:',g,' C:',c)"
   ]
  },
  {
   "cell_type": "code",
   "execution_count": 37,
   "metadata": {},
   "outputs": [
    {
     "name": "stdout",
     "output_type": "stream",
     "text": [
      "Accuracy SVM:  0.964194373402\n"
     ]
    }
   ],
   "source": [
    "model_svm = SVC(kernel='rbf', class_weight='balanced', C=50, gamma = 0.0001)\n",
    "model_svm.fit(X_train_counts,y_train)\n",
    "y_pred_svm = model_svm.predict(X_test_counts)\n",
    "print('Accuracy SVM: ',accuracy_score(y_pred_svm, y_test))"
   ]
  },
  {
   "cell_type": "markdown",
   "metadata": {},
   "source": [
    "### Regresión Logística"
   ]
  },
  {
   "cell_type": "code",
   "execution_count": 38,
   "metadata": {},
   "outputs": [
    {
     "name": "stdout",
     "output_type": "stream",
     "text": [
      "Accuracy Logistic Regression:  0.961636828645\n"
     ]
    }
   ],
   "source": [
    "model_log = LogisticRegression(C=0.1)\n",
    "model_log.fit(X_train_counts, y_train)\n",
    "y_pred_log = model_log.predict(X_test_counts)\n",
    "print('Accuracy Logistic Regression: ',accuracy_score(y_pred_log, y_test))"
   ]
  },
  {
   "cell_type": "code",
   "execution_count": 39,
   "metadata": {},
   "outputs": [
    {
     "data": {
      "text/html": [
       "<div>\n",
       "<style>\n",
       "    .dataframe thead tr:only-child th {\n",
       "        text-align: right;\n",
       "    }\n",
       "\n",
       "    .dataframe thead th {\n",
       "        text-align: left;\n",
       "    }\n",
       "\n",
       "    .dataframe tbody tr th {\n",
       "        vertical-align: top;\n",
       "    }\n",
       "</style>\n",
       "<table border=\"1\" class=\"dataframe\">\n",
       "  <thead>\n",
       "    <tr style=\"text-align: right;\">\n",
       "      <th></th>\n",
       "      <th>articleBody2</th>\n",
       "      <th>Prediction</th>\n",
       "    </tr>\n",
       "  </thead>\n",
       "  <tbody>\n",
       "    <tr>\n",
       "      <th>406</th>\n",
       "      <td>la ministr de segur patrici bullrich asegur qu...</td>\n",
       "      <td>destape</td>\n",
       "    </tr>\n",
       "    <tr>\n",
       "      <th>290</th>\n",
       "      <td>sergi maldon afirm este lun que tien esper de ...</td>\n",
       "      <td>destape</td>\n",
       "    </tr>\n",
       "    <tr>\n",
       "      <th>189</th>\n",
       "      <td>la ex president cristin kirchn fue categor al ...</td>\n",
       "      <td>destape</td>\n",
       "    </tr>\n",
       "    <tr>\n",
       "      <th>559</th>\n",
       "      <td>las escuch ilegal entre cristin kirchn y oscar...</td>\n",
       "      <td>destape</td>\n",
       "    </tr>\n",
       "    <tr>\n",
       "      <th>736</th>\n",
       "      <td>com gerent del banc de sant cruz lazar baez in...</td>\n",
       "      <td>clarin</td>\n",
       "    </tr>\n",
       "    <tr>\n",
       "      <th>1349</th>\n",
       "      <td>el gobiern de la provinci de buen air notif ay...</td>\n",
       "      <td>clarin</td>\n",
       "    </tr>\n",
       "    <tr>\n",
       "      <th>337</th>\n",
       "      <td>la secretari general de la asociacion del magi...</td>\n",
       "      <td>clarin</td>\n",
       "    </tr>\n",
       "    <tr>\n",
       "      <th>682</th>\n",
       "      <td>a los poc dias de desaparec a santiag maldon l...</td>\n",
       "      <td>destape</td>\n",
       "    </tr>\n",
       "    <tr>\n",
       "      <th>859</th>\n",
       "      <td>apes de la sangri que sufri desd que cristin k...</td>\n",
       "      <td>clarin</td>\n",
       "    </tr>\n",
       "    <tr>\n",
       "      <th>449</th>\n",
       "      <td>milagr sal esta cad vez mas cerc de abandon el...</td>\n",
       "      <td>clarin</td>\n",
       "    </tr>\n",
       "  </tbody>\n",
       "</table>\n",
       "</div>"
      ],
      "text/plain": [
       "                                           articleBody2 Prediction\n",
       "406   la ministr de segur patrici bullrich asegur qu...    destape\n",
       "290   sergi maldon afirm este lun que tien esper de ...    destape\n",
       "189   la ex president cristin kirchn fue categor al ...    destape\n",
       "559   las escuch ilegal entre cristin kirchn y oscar...    destape\n",
       "736   com gerent del banc de sant cruz lazar baez in...     clarin\n",
       "1349  el gobiern de la provinci de buen air notif ay...     clarin\n",
       "337   la secretari general de la asociacion del magi...     clarin\n",
       "682   a los poc dias de desaparec a santiag maldon l...    destape\n",
       "859   apes de la sangri que sufri desd que cristin k...     clarin\n",
       "449   milagr sal esta cad vez mas cerc de abandon el...     clarin"
      ]
     },
     "execution_count": 39,
     "metadata": {},
     "output_type": "execute_result"
    }
   ],
   "source": [
    "df_results = pd.DataFrame(X_test)\n",
    "df_results['Prediction'] = y_pred_log\n",
    "df_results.head(10)"
   ]
  },
  {
   "cell_type": "code",
   "execution_count": 41,
   "metadata": {},
   "outputs": [],
   "source": [
    "df_results.to_csv('output/predictions.csv')"
   ]
  },
  {
   "cell_type": "code",
   "execution_count": 42,
   "metadata": {},
   "outputs": [
    {
     "name": "stdout",
     "output_type": "stream",
     "text": [
      "--------------REPORT MODEL Regresión Logística (C = 0.1)--------------\n",
      "\n"
     ]
    },
    {
     "data": {
      "image/png": "[encoded data removed]",
      "text/plain": [
       "<matplotlib.figure.Figure at 0x119755b70>"
      ]
     },
     "metadata": {},
     "output_type": "display_data"
    },
    {
     "name": "stdout",
     "output_type": "stream",
     "text": [
      "Roc Auc: 0.9926639892904953\n",
      "\n",
      " Classification Report: \n",
      "\n",
      "             precision    recall  f1-score   support\n",
      "\n",
      "     clarin       0.97      0.94      0.95       166\n",
      "    destape       0.96      0.98      0.97       225\n",
      "\n",
      "avg / total       0.96      0.96      0.96       391\n",
      "\n",
      "\n",
      " Classification Report: \n",
      "\n",
      "[[156  10]\n",
      " [  5 220]]\n",
      "-------------------------------------------\n",
      "\n"
     ]
    }
   ],
   "source": [
    "get_report(X_test_counts,y_test,model_log, \"Regresión Logística (C = 0.1)\")"
   ]
  },
  {
   "cell_type": "markdown",
   "metadata": {},
   "source": [
    "### Esto es extra. Intentando clasificar el sesgo politico entre clarin y destape y luego clasificar en p12"
   ]
  },
  {
   "cell_type": "code",
   "execution_count": 43,
   "metadata": {
    "collapsed": true
   },
   "outputs": [],
   "source": [
    "#df_clarin_prueba = pd.read_csv('tools/clarin.csv')\n",
    "df_p12 = pd.read_csv('tools/pagina12.csv')"
   ]
  },
  {
   "cell_type": "code",
   "execution_count": 44,
   "metadata": {},
   "outputs": [
    {
     "data": {
      "text/plain": [
       "array([nan, 'El país', 'El mundo', 'Sociedad', 'Deportes', 'Contratapa',\n",
       "       'Economía', 'Universidad', 'Plástica'], dtype=object)"
      ]
     },
     "execution_count": 44,
     "metadata": {},
     "output_type": "execute_result"
    }
   ],
   "source": [
    "df_p12 = df_p12[df_p12['cuerpo'].notnull()].copy()\n",
    "df_p12.suplemento.unique()"
   ]
  },
  {
   "cell_type": "code",
   "execution_count": 52,
   "metadata": {
    "collapsed": true
   },
   "outputs": [],
   "source": [
    "df_p12_section = df_p12[df_p12.suplemento == 'Economía']"
   ]
  },
  {
   "cell_type": "code",
   "execution_count": 53,
   "metadata": {},
   "outputs": [
    {
     "name": "stdout",
     "output_type": "stream",
     "text": [
      "<class 'pandas.core.frame.DataFrame'>\n",
      "Int64Index: 17 entries, 67 to 138\n",
      "Data columns (total 9 columns):\n",
      "Unnamed: 0    17 non-null int64\n",
      "cuerpo        17 non-null object\n",
      "fecha_hora    17 non-null object\n",
      "imagen        17 non-null object\n",
      "resumen       10 non-null object\n",
      "suplemento    17 non-null object\n",
      "titulo        17 non-null object\n",
      "url           17 non-null object\n",
      "cuerpo2       17 non-null object\n",
      "dtypes: int64(1), object(8)\n",
      "memory usage: 1.3+ KB\n"
     ]
    },
    {
     "name": "stderr",
     "output_type": "stream",
     "text": [
      "/Users/lionelchamorro/anaconda3/lib/python3.6/site-packages/ipykernel/__main__.py:1: SettingWithCopyWarning: \n",
      "A value is trying to be set on a copy of a slice from a DataFrame.\n",
      "Try using .loc[row_indexer,col_indexer] = value instead\n",
      "\n",
      "See the caveats in the documentation: http://pandas.pydata.org/pandas-docs/stable/indexing.html#indexing-view-versus-copy\n",
      "  if __name__ == '__main__':\n"
     ]
    }
   ],
   "source": [
    "df_p12_section['cuerpo2'] = df_p12_section[\"cuerpo\"].apply(text_stemmer)\n",
    "X_p12 = df_p12_section['cuerpo2'].copy()\n",
    "df_p12_section.info()"
   ]
  },
  {
   "cell_type": "code",
   "execution_count": 54,
   "metadata": {},
   "outputs": [
    {
     "data": {
      "text/plain": [
       "array(['clarin', 'destape', 'clarin', 'destape', 'destape', 'clarin',\n",
       "       'clarin', 'destape', 'destape', 'clarin', 'clarin', 'destape',\n",
       "       'destape', 'destape', 'destape', 'clarin', 'destape'], dtype=object)"
      ]
     },
     "execution_count": 54,
     "metadata": {},
     "output_type": "execute_result"
    }
   ],
   "source": [
    "X_test_counts = count_vect.transform(X_p12)\n",
    "y_pred_svm = model_log.predict(X_test_counts)\n",
    "y_pred_svm"
   ]
  },
  {
   "cell_type": "code",
   "execution_count": 55,
   "metadata": {},
   "outputs": [
    {
     "name": "stdout",
     "output_type": "stream",
     "text": [
      "Accuracy model_log:  0.588235294118\n"
     ]
    }
   ],
   "source": [
    "y_test_destape = ['destape']*len(y_pred_svm)\n",
    "print('Accuracy model_log: ',accuracy_score(y_pred_svm, y_test_destape))"
   ]
  },
  {
   "cell_type": "code",
   "execution_count": 49,
   "metadata": {},
   "outputs": [
    {
     "data": {
      "text/html": [
       "<div>\n",
       "<style>\n",
       "    .dataframe thead tr:only-child th {\n",
       "        text-align: right;\n",
       "    }\n",
       "\n",
       "    .dataframe thead th {\n",
       "        text-align: left;\n",
       "    }\n",
       "\n",
       "    .dataframe tbody tr th {\n",
       "        vertical-align: top;\n",
       "    }\n",
       "</style>\n",
       "<table border=\"1\" class=\"dataframe\">\n",
       "  <thead>\n",
       "    <tr style=\"text-align: right;\">\n",
       "      <th></th>\n",
       "      <th>cuerpo2</th>\n",
       "      <th>Prediction</th>\n",
       "    </tr>\n",
       "  </thead>\n",
       "  <tbody>\n",
       "    <tr>\n",
       "      <th>1</th>\n",
       "      <td>los comici par eleg gobern en corrient cerr pa...</td>\n",
       "      <td>destape</td>\n",
       "    </tr>\n",
       "    <tr>\n",
       "      <th>5</th>\n",
       "      <td>en un nuev acto de campan esta vez en malvin a...</td>\n",
       "      <td>destape</td>\n",
       "    </tr>\n",
       "    <tr>\n",
       "      <th>6</th>\n",
       "      <td>siganl busc fue la cinic respuest de dos agent...</td>\n",
       "      <td>clarin</td>\n",
       "    </tr>\n",
       "    <tr>\n",
       "      <th>7</th>\n",
       "      <td>esta manan el gobern correntin ricard colombi ...</td>\n",
       "      <td>destape</td>\n",
       "    </tr>\n",
       "    <tr>\n",
       "      <th>9</th>\n",
       "      <td>el viern por la noch milagr sal fue notific de...</td>\n",
       "      <td>destape</td>\n",
       "    </tr>\n",
       "    <tr>\n",
       "      <th>70</th>\n",
       "      <td>en su inform la fundacion soberani sanitari se...</td>\n",
       "      <td>destape</td>\n",
       "    </tr>\n",
       "    <tr>\n",
       "      <th>71</th>\n",
       "      <td>mientr crec la emergent en los hospital public...</td>\n",
       "      <td>clarin</td>\n",
       "    </tr>\n",
       "    <tr>\n",
       "      <th>72</th>\n",
       "      <td>no pued ser que la logic sea que cad gobiern t...</td>\n",
       "      <td>clarin</td>\n",
       "    </tr>\n",
       "    <tr>\n",
       "      <th>73</th>\n",
       "      <td>necesit gan a cristin fernandez de kirchn ese ...</td>\n",
       "      <td>clarin</td>\n",
       "    </tr>\n",
       "    <tr>\n",
       "      <th>74</th>\n",
       "      <td>desd corrient al cierr de esta edicion la alia...</td>\n",
       "      <td>clarin</td>\n",
       "    </tr>\n",
       "  </tbody>\n",
       "</table>\n",
       "</div>"
      ],
      "text/plain": [
       "                                              cuerpo2 Prediction\n",
       "1   los comici par eleg gobern en corrient cerr pa...    destape\n",
       "5   en un nuev acto de campan esta vez en malvin a...    destape\n",
       "6   siganl busc fue la cinic respuest de dos agent...     clarin\n",
       "7   esta manan el gobern correntin ricard colombi ...    destape\n",
       "9   el viern por la noch milagr sal fue notific de...    destape\n",
       "70  en su inform la fundacion soberani sanitari se...    destape\n",
       "71  mientr crec la emergent en los hospital public...     clarin\n",
       "72  no pued ser que la logic sea que cad gobiern t...     clarin\n",
       "73  necesit gan a cristin fernandez de kirchn ese ...     clarin\n",
       "74  desd corrient al cierr de esta edicion la alia...     clarin"
      ]
     },
     "execution_count": 49,
     "metadata": {},
     "output_type": "execute_result"
    }
   ],
   "source": [
    "df_results = pd.DataFrame(X_p12)\n",
    "df_results['Prediction'] = y_pred_svm\n",
    "df_results.head(10)"
   ]
  },
  {
   "cell_type": "code",
   "execution_count": 41,
   "metadata": {
    "collapsed": true
   },
   "outputs": [],
   "source": [
    "df_results.to_csv('output/predictions_p12.csv')"
   ]
  },
  {
   "cell_type": "code",
   "execution_count": 71,
   "metadata": {},
   "outputs": [
    {
     "name": "stdout",
     "output_type": "stream",
     "text": [
      "['clarin' 'clarin' 'clarin' 'destape' 'destape' 'destape' 'destape'\n",
      " 'destape' 'destape' 'destape' 'destape' 'destape' 'destape' 'destape'\n",
      " 'destape' 'destape' 'clarin']\n",
      "Accuracy model_log:  0.764705882353\n"
     ]
    }
   ],
   "source": [
    "model_knn = KNeighborsClassifier(n_neighbors=1)\n",
    "model_knn.fit(X_train_counts,y_train)\n",
    "y_pred_knn = model_knn.predict(X_test_counts)\n",
    "print(y_pred_knn)\n",
    "X_test_counts = count_vect.transform(X_p12)\n",
    "y_test_destape = ['destape']*len(y_pred_knn)\n",
    "print('Accuracy model_log: ',accuracy_score(y_pred_knn, y_test_destape))"
   ]
  },
  {
   "cell_type": "code",
   "execution_count": null,
   "metadata": {
    "collapsed": true
   },
   "outputs": [],
   "source": []
  }
 ],
 "metadata": {
  "kernelspec": {
   "display_name": "Python 3",
   "language": "python",
   "name": "python3"
  },
  "language_info": {
   "codemirror_mode": {
    "name": "ipython",
    "version": 3
   },
   "file_extension": ".py",
   "mimetype": "text/x-python",
   "name": "python",
   "nbconvert_exporter": "python",
   "pygments_lexer": "ipython3",
   "version": "3.6.1"
  }
 },
 "nbformat": 4,
 "nbformat_minor": 2
}
