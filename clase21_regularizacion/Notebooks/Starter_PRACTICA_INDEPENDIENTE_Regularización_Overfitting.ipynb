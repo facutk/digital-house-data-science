{
 "cells": [
  {
   "cell_type": "markdown",
   "metadata": {},
   "source": [
    "# Práctica Independiente\n",
    "## _Cross validation_\n",
    "\n",
    "Analicemos nuevamente el dataset inmobiliario de Boston y apliquemos cross-validation. Hay un excelente [ejemplo](http://scikit-learn.org/stable/auto_examples/plot_cv_predict.html) en la página de scikit-learn. Usemos ese código y modifiquémoslo para comparar el ajuste con _cross-validation_ contra el caso sin _cross-validation_. Vas a necesitar [esta función](http://scikit-learn.org/stable/modules/generated/sklearn.model_selection.cross_val_score.html) para ver las métricas del modelo con _cross-validation_ ."
   ]
  },
  {
   "cell_type": "markdown",
   "metadata": {},
   "source": [
    "Trabajar sobre el [ejemplo](http://scikit-learn.org/stable/auto_examples/plot_cv_predict.html) de cross-validation, agregando calculos de $r^2$. ¿Se generan mejores ajustes usando _cross validation_?"
   ]
  },
  {
   "cell_type": "code",
   "execution_count": null,
   "metadata": {
    "collapsed": true
   },
   "outputs": [],
   "source": []
  },
  {
   "cell_type": "markdown",
   "metadata": {},
   "source": [
    "Una vez que el modelo esté comprendido el funcionamiento de la técnica de validación cruzada, realiza las modificaciones necesarias para usar las variables RM and LSTAT y intenta nuevamente."
   ]
  },
  {
   "cell_type": "code",
   "execution_count": null,
   "metadata": {
    "collapsed": true
   },
   "outputs": [],
   "source": []
  },
  {
   "cell_type": "markdown",
   "metadata": {},
   "source": [
    "## Regularización: Lasso\n",
    "\n",
    "Lasso (en ingles: _least absolute shrinkage and selection operator_) es otra forma de regularization. A esta altura, deberías poder modificar los ejemplos del notebook aplicando el modelo [Lasso](http://scikit-learn.org/stable/modules/linear_model.html#lasso) de scikit-learn y su versión con _cross-validation_ `LassoCV`. \n",
    "\n",
    "La principal diferencia entre Lasso y Ridge es cómo se penaliza. Analizando la documentacion, busca las diferencias conceptuales y practicas entre ambos."
   ]
  },
  {
   "cell_type": "code",
   "execution_count": null,
   "metadata": {
    "collapsed": true
   },
   "outputs": [],
   "source": []
  }
 ],
 "metadata": {
  "kernelspec": {
   "display_name": "Python 3",
   "language": "python",
   "name": "python3"
  },
  "language_info": {
   "codemirror_mode": {
    "name": "ipython",
    "version": 3
   },
   "file_extension": ".py",
   "mimetype": "text/x-python",
   "name": "python",
   "nbconvert_exporter": "python",
   "pygments_lexer": "ipython3",
   "version": "3.6.1"
  }
 },
 "nbformat": 4,
 "nbformat_minor": 2
}
