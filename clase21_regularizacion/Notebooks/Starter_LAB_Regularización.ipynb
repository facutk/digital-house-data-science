{
 "cells": [
  {
   "cell_type": "markdown",
   "metadata": {},
   "source": [
    "# Regularización (LAB)\n",
    "\n",
    "En este lab vamos a practicar modelar con regularización. El [dataset](http://data.princeton.edu/wws509/datasets/#salary) consiste en datos de salarios de 52 profesores en una pequeña universidad, categorizados por género, ranking, título más alto, y años de servicio. (Si no está en el link o el link está caído, podés encontrar el dataset en la carpeta Data del Campus Virtual).\n",
    "\n",
    "### Objetivos de aprendizaje\n",
    "\n",
    "- Practicar el trabajo con variables categóricas y la generación de variables dummy.\n",
    "- Buscar predecir algunas variables usando las otras.\n",
    "- Utilizar regularización para generar modelos con mayor poder de generalización\n",
    "\n",
    "### Requerimientos\n",
    "\n",
    "El dataset contiene tres variables categóricas, cada una con dos o tres valores: \"sx\", \"dg\", \"rk\". Tu misión es la siguiente:.\n",
    "* Crear variables dummy para cada una de las variables categóricas.\n",
    "* Usando pandas `value_counts()` mirar la distribución de estas variables\n",
    "* Usando seaborn, hacer [violin plots](https://stanford.edu/~mwaskom/software/seaborn/generated/seaborn.violinplot.html) de los salarios usando estas variables.\n",
    "\n",
    "Para cada variable categórica:\n",
    "* Ajustar un modelo al dataset completo pero sin usar las variables dummy de esta variable categórica (incluyendo a los otros 2 sets de variables dummy).\n",
    "* Usando pandas, seleccionar una muestra de datos (set de entrenamiento) y ajustar un modelo lineal a esa muestra.\n",
    "* Aplicar este modelo ajustado al resto de los datos (set de testeo) y comparar los ajustes.\n",
    "* Ahora usar regularizaciónn (ej. RidgeRegression o Lasso), ajustando el modelo sobre el mismo set de entrenamiento y midiendo la bondad de ajuste sobre el mismo set de testeo. Cómo se comparan los ajustes sobre el set de testo con y sin regularización?\n",
    "\n",
    "Ejercicio bonus:\n",
    "* Predecir años de servicio \"yr\" o años desde obtención del título \"yd\" a partir del salario y usando otras variables si lo desea. Ayuda regularizar?\n",
    "\n",
    "### Material auxiliar\n",
    "- [Modelos lineales de scikit-learn](http://scikit-learn.org/stable/modules/linear_model.html), incluyendo regularizacion\n",
    "- [Crear variables dummy con pandas](http://pandas.pydata.org/pandas-docs/stable/generated/pandas.get_dummies.html)\n"
   ]
  },
  {
   "cell_type": "code",
   "execution_count": 1,
   "metadata": {
    "collapsed": true
   },
   "outputs": [],
   "source": [
    "% matplotlib inline\n",
    "\n",
    "from matplotlib import pyplot as plt\n",
    "import numpy as np\n",
    "import pandas as pd\n",
    "import seaborn as sns\n",
    "from sklearn import linear_model\n",
    "from sklearn.metrics import r2_score\n",
    "import random"
   ]
  },
  {
   "cell_type": "code",
   "execution_count": 2,
   "metadata": {},
   "outputs": [
    {
     "data": {
      "text/html": [
       "<div>\n",
       "<style>\n",
       "    .dataframe thead tr:only-child th {\n",
       "        text-align: right;\n",
       "    }\n",
       "\n",
       "    .dataframe thead th {\n",
       "        text-align: left;\n",
       "    }\n",
       "\n",
       "    .dataframe tbody tr th {\n",
       "        vertical-align: top;\n",
       "    }\n",
       "</style>\n",
       "<table border=\"1\" class=\"dataframe\">\n",
       "  <thead>\n",
       "    <tr style=\"text-align: right;\">\n",
       "      <th></th>\n",
       "      <th>sx</th>\n",
       "      <th>rk</th>\n",
       "      <th>yr</th>\n",
       "      <th>dg</th>\n",
       "      <th>yd</th>\n",
       "      <th>sl</th>\n",
       "    </tr>\n",
       "  </thead>\n",
       "  <tbody>\n",
       "    <tr>\n",
       "      <th>0</th>\n",
       "      <td>male</td>\n",
       "      <td>full</td>\n",
       "      <td>25</td>\n",
       "      <td>doctorate</td>\n",
       "      <td>35</td>\n",
       "      <td>36350</td>\n",
       "    </tr>\n",
       "    <tr>\n",
       "      <th>1</th>\n",
       "      <td>male</td>\n",
       "      <td>full</td>\n",
       "      <td>13</td>\n",
       "      <td>doctorate</td>\n",
       "      <td>22</td>\n",
       "      <td>35350</td>\n",
       "    </tr>\n",
       "    <tr>\n",
       "      <th>2</th>\n",
       "      <td>male</td>\n",
       "      <td>full</td>\n",
       "      <td>10</td>\n",
       "      <td>doctorate</td>\n",
       "      <td>23</td>\n",
       "      <td>28200</td>\n",
       "    </tr>\n",
       "    <tr>\n",
       "      <th>3</th>\n",
       "      <td>female</td>\n",
       "      <td>full</td>\n",
       "      <td>7</td>\n",
       "      <td>doctorate</td>\n",
       "      <td>27</td>\n",
       "      <td>26775</td>\n",
       "    </tr>\n",
       "    <tr>\n",
       "      <th>4</th>\n",
       "      <td>male</td>\n",
       "      <td>full</td>\n",
       "      <td>19</td>\n",
       "      <td>masters</td>\n",
       "      <td>30</td>\n",
       "      <td>33696</td>\n",
       "    </tr>\n",
       "  </tbody>\n",
       "</table>\n",
       "</div>"
      ],
      "text/plain": [
       "       sx    rk  yr         dg  yd     sl\n",
       "0    male  full  25  doctorate  35  36350\n",
       "1    male  full  13  doctorate  22  35350\n",
       "2    male  full  10  doctorate  23  28200\n",
       "3  female  full   7  doctorate  27  26775\n",
       "4    male  full  19    masters  30  33696"
      ]
     },
     "execution_count": 2,
     "metadata": {},
     "output_type": "execute_result"
    }
   ],
   "source": [
    "# Cargar la data\n",
    "url = 'https://gist.githubusercontent.com/nicoTrombon/1817ef30d4c3173aa3d0f3e42b7642d4/raw/2d668a221a60f4847b4487102990d50859848476/salary.dat'\n",
    "df = pd.read_csv(url, delim_whitespace=True)\n",
    "\n",
    "# Inspeccionar\n",
    "df.head()"
   ]
  },
  {
   "cell_type": "code",
   "execution_count": 6,
   "metadata": {},
   "outputs": [
    {
     "data": {
      "text/plain": [
       "male      38\n",
       "female    14\n",
       "Name: sx, dtype: int64"
      ]
     },
     "metadata": {},
     "output_type": "display_data"
    },
    {
     "data": {
      "text/plain": [
       "doctorate    34\n",
       "masters      18\n",
       "Name: dg, dtype: int64"
      ]
     },
     "metadata": {},
     "output_type": "display_data"
    },
    {
     "data": {
      "text/plain": [
       "full         20\n",
       "assistant    18\n",
       "associate    14\n",
       "Name: rk, dtype: int64"
      ]
     },
     "metadata": {},
     "output_type": "display_data"
    }
   ],
   "source": [
    "from IPython.display import display\n",
    "# Aplicar value_counts() a las series \"sx\", \"dg\", and \"rk\"\n",
    "display(df[\"sx\"].value_counts())\n",
    "# ....\n",
    "display(df[\"dg\"].value_counts())\n",
    "display(df[\"rk\"].value_counts())"
   ]
  },
  {
   "cell_type": "code",
   "execution_count": 8,
   "metadata": {},
   "outputs": [
    {
     "name": "stderr",
     "output_type": "stream",
     "text": [
      "/home/ubuntu/anaconda3/lib/python3.6/site-packages/matplotlib/font_manager.py:1297: UserWarning: findfont: Font family ['sans-serif'] not found. Falling back to DejaVu Sans\n",
      "  (prop.get_family(), self.defaultFamily[fontext]))\n"
     ]
    },
    {
     "data": {
      "image/png": "[encoded data removed]",
      "text/plain": [
       "<matplotlib.figure.Figure at 0x7fcf2afe1c50>"
      ]
     },
     "metadata": {},
     "output_type": "display_data"
    },
    {
     "data": {
      "image/png": "[encoded data removed]",
      "text/plain": [
       "<matplotlib.figure.Figure at 0x7fcf145dacc0>"
      ]
     },
     "metadata": {},
     "output_type": "display_data"
    },
    {
     "data": {
      "image/png": "[encoded data removed]",
      "text/plain": [
       "<matplotlib.figure.Figure at 0x7fcf144f99b0>"
      ]
     },
     "metadata": {},
     "output_type": "display_data"
    }
   ],
   "source": [
    "# Hacer unos violinplots\n",
    "sns.violinplot(x=\"sx\", y=\"sl\", data=df)\n",
    "plt.show()\n",
    "\n",
    "# Repetir para \"dg\" y \"rk\"\n",
    "sns.violinplot(x=\"dg\", y=\"sl\", data=df)\n",
    "plt.show()\n",
    "\n",
    "sns.violinplot(x=\"rk\", y=\"sl\", data=df)\n",
    "plt.show()"
   ]
  },
  {
   "cell_type": "code",
   "execution_count": 9,
   "metadata": {},
   "outputs": [
    {
     "name": "stdout",
     "output_type": "stream",
     "text": [
      "Index(['sx', 'rk', 'yr', 'dg', 'yd', 'sl', 'sx_female', 'sx_male',\n",
      "       'rk_assistant', 'rk_associate', 'rk_full', 'dg_doctorate',\n",
      "       'dg_masters'],\n",
      "      dtype='object')\n"
     ]
    },
    {
     "data": {
      "text/html": [
       "<div>\n",
       "<style>\n",
       "    .dataframe thead tr:only-child th {\n",
       "        text-align: right;\n",
       "    }\n",
       "\n",
       "    .dataframe thead th {\n",
       "        text-align: left;\n",
       "    }\n",
       "\n",
       "    .dataframe tbody tr th {\n",
       "        vertical-align: top;\n",
       "    }\n",
       "</style>\n",
       "<table border=\"1\" class=\"dataframe\">\n",
       "  <thead>\n",
       "    <tr style=\"text-align: right;\">\n",
       "      <th></th>\n",
       "      <th>sx</th>\n",
       "      <th>rk</th>\n",
       "      <th>yr</th>\n",
       "      <th>dg</th>\n",
       "      <th>yd</th>\n",
       "      <th>sl</th>\n",
       "      <th>sx_female</th>\n",
       "      <th>sx_male</th>\n",
       "      <th>rk_assistant</th>\n",
       "      <th>rk_associate</th>\n",
       "      <th>rk_full</th>\n",
       "      <th>dg_doctorate</th>\n",
       "      <th>dg_masters</th>\n",
       "    </tr>\n",
       "  </thead>\n",
       "  <tbody>\n",
       "    <tr>\n",
       "      <th>0</th>\n",
       "      <td>male</td>\n",
       "      <td>full</td>\n",
       "      <td>25</td>\n",
       "      <td>doctorate</td>\n",
       "      <td>35</td>\n",
       "      <td>36350</td>\n",
       "      <td>0</td>\n",
       "      <td>1</td>\n",
       "      <td>0</td>\n",
       "      <td>0</td>\n",
       "      <td>1</td>\n",
       "      <td>1</td>\n",
       "      <td>0</td>\n",
       "    </tr>\n",
       "    <tr>\n",
       "      <th>1</th>\n",
       "      <td>male</td>\n",
       "      <td>full</td>\n",
       "      <td>13</td>\n",
       "      <td>doctorate</td>\n",
       "      <td>22</td>\n",
       "      <td>35350</td>\n",
       "      <td>0</td>\n",
       "      <td>1</td>\n",
       "      <td>0</td>\n",
       "      <td>0</td>\n",
       "      <td>1</td>\n",
       "      <td>1</td>\n",
       "      <td>0</td>\n",
       "    </tr>\n",
       "    <tr>\n",
       "      <th>2</th>\n",
       "      <td>male</td>\n",
       "      <td>full</td>\n",
       "      <td>10</td>\n",
       "      <td>doctorate</td>\n",
       "      <td>23</td>\n",
       "      <td>28200</td>\n",
       "      <td>0</td>\n",
       "      <td>1</td>\n",
       "      <td>0</td>\n",
       "      <td>0</td>\n",
       "      <td>1</td>\n",
       "      <td>1</td>\n",
       "      <td>0</td>\n",
       "    </tr>\n",
       "    <tr>\n",
       "      <th>3</th>\n",
       "      <td>female</td>\n",
       "      <td>full</td>\n",
       "      <td>7</td>\n",
       "      <td>doctorate</td>\n",
       "      <td>27</td>\n",
       "      <td>26775</td>\n",
       "      <td>1</td>\n",
       "      <td>0</td>\n",
       "      <td>0</td>\n",
       "      <td>0</td>\n",
       "      <td>1</td>\n",
       "      <td>1</td>\n",
       "      <td>0</td>\n",
       "    </tr>\n",
       "    <tr>\n",
       "      <th>4</th>\n",
       "      <td>male</td>\n",
       "      <td>full</td>\n",
       "      <td>19</td>\n",
       "      <td>masters</td>\n",
       "      <td>30</td>\n",
       "      <td>33696</td>\n",
       "      <td>0</td>\n",
       "      <td>1</td>\n",
       "      <td>0</td>\n",
       "      <td>0</td>\n",
       "      <td>1</td>\n",
       "      <td>0</td>\n",
       "      <td>1</td>\n",
       "    </tr>\n",
       "  </tbody>\n",
       "</table>\n",
       "</div>"
      ],
      "text/plain": [
       "       sx    rk  yr         dg  yd     sl  sx_female  sx_male  rk_assistant  \\\n",
       "0    male  full  25  doctorate  35  36350          0        1             0   \n",
       "1    male  full  13  doctorate  22  35350          0        1             0   \n",
       "2    male  full  10  doctorate  23  28200          0        1             0   \n",
       "3  female  full   7  doctorate  27  26775          1        0             0   \n",
       "4    male  full  19    masters  30  33696          0        1             0   \n",
       "\n",
       "   rk_associate  rk_full  dg_doctorate  dg_masters  \n",
       "0             0        1             1           0  \n",
       "1             0        1             1           0  \n",
       "2             0        1             1           0  \n",
       "3             0        1             1           0  \n",
       "4             0        1             0           1  "
      ]
     },
     "execution_count": 9,
     "metadata": {},
     "output_type": "execute_result"
    }
   ],
   "source": [
    "# Crear variables \"dummy\"\n",
    "\n",
    "categories = [\"sx\", \"rk\", \"dg\"]\n",
    "for category in categories:\n",
    "    series = df[category]\n",
    "    dummies = pd.get_dummies(series, prefix=category)\n",
    "    df = pd.concat([df, dummies], axis=1)\n",
    "print (df.columns)\n",
    "df.head()"
   ]
  },
  {
   "cell_type": "code",
   "execution_count": 10,
   "metadata": {},
   "outputs": [
    {
     "name": "stdout",
     "output_type": "stream",
     "text": [
      "Muestra: 0.127854950899\n",
      "Todo el dataset: 0.366367562095\n",
      "Muestra con regularizacion: 0.12058888689\n",
      "Todo el dataset con regularizacion: 0.304385840726\n"
     ]
    }
   ],
   "source": [
    "# Este es un ejemplo para ayudarlos a arrancar.\n",
    "# Ajustamos un modelo a una pequeña fraccion de los datos\n",
    "\n",
    "random.seed(1)\n",
    "subset = df.sample(frac=0.1, replace=False)\n",
    "\n",
    "X = subset[[u'yr', u'yd']]\n",
    "y = subset[u'sl']\n",
    "\n",
    "lm = linear_model.LinearRegression()\n",
    "model = lm.fit(X, y)\n",
    "predictions = lm.predict(X)\n",
    "print (\"Muestra:\", lm.score(X, y))\n",
    "\n",
    "# Aplicamos el modelo al dataset completo\n",
    "\n",
    "X = df[[u'yr', u'yd']]\n",
    "y = df[u'sl']\n",
    "print (\"Todo el dataset:\", lm.score(X, y))\n",
    "\n",
    "# Repetimos con regularizacion\n",
    "\n",
    "X = subset[[u'yr', u'yd']]\n",
    "y = subset[u'sl']\n",
    "\n",
    "lm = linear_model.RidgeCV(alphas=[0.1, 1, 10])  # Definimos el rango de hiperparametros explicitamente\n",
    "model = lm.fit(X, y)\n",
    "predictions = lm.predict(X)\n",
    "print (\"Muestra con regularizacion:\", lm.score(X, y))\n",
    "\n",
    "# Aplicamos el modelo con regularización sobre todo el dataset\n",
    "\n",
    "X = df[[u'yr', u'yd']]\n",
    "y = df[u'sl']\n",
    "print (\"Todo el dataset con regularizacion:\", lm.score(X, y))\n",
    "\n",
    "# ¿Mejoraron los resultados?"
   ]
  },
  {
   "cell_type": "code",
   "execution_count": 15,
   "metadata": {},
   "outputs": [
    {
     "name": "stdout",
     "output_type": "stream",
     "text": [
      "Adjusted to MALE, predicting MALE: 0.88630543814\n",
      "Adjusted to MALE, predicting FEMALE: 0.69448811957\n"
     ]
    }
   ],
   "source": [
    "# Ahora probar de ajustar un modelo solo usando los hombres\n",
    "mask = df[\"sx\"] == \"male\"\n",
    "X = df[mask][[u'yr', u'yd',\n",
    "       u'rk_assistant', u'rk_associate', u'rk_full', u'dg_doctorate',\n",
    "       u'dg_masters']]\n",
    "y = df[mask][u'sl']\n",
    "\n",
    "## Ajustar el modelo lineal\n",
    "lm = linear_model.LinearRegression()\n",
    "model = lm.fit(X, y)\n",
    "predictions = lm.predict(X)\n",
    "\n",
    "\n",
    "## Visualizar el fit\n",
    "\n",
    "## Hacer un print del score del modelo\n",
    "print (\"Adjusted to MALE, predicting MALE:\", lm.score(X, y))\n",
    "\n",
    "# Aplicar este modelo ya ajustado sobre las mujeres y comparar el ajuste\n",
    "Xf = df[~mask][[u'yr', u'yd',\n",
    "       u'rk_assistant', u'rk_associate', u'rk_full', u'dg_doctorate',\n",
    "       u'dg_masters']]\n",
    "yf = df[~mask][u'sl']\n",
    "print (\"Adjusted to MALE, predicting FEMALE:\", lm.score(Xf, yf))"
   ]
  },
  {
   "cell_type": "code",
   "execution_count": 17,
   "metadata": {},
   "outputs": [
    {
     "name": "stdout",
     "output_type": "stream",
     "text": [
      "Adjusted to FEMALE, predicting FEMALE: 0.781837240731\n",
      "Adjusted to FEMALE, predicting MALE: 0.657523429275\n"
     ]
    }
   ],
   "source": [
    "# Invirtamos el orden. Ajusten el modelo a las mujeres\n",
    "lm = linear_model.LinearRegression()\n",
    "model = lm.fit(Xf, yf)\n",
    "print (\"Adjusted to FEMALE, predicting FEMALE:\", lm.score(Xf, yf))\n",
    "# Aplicar el modelo ajustado sobre los hombres\n",
    "print (\"Adjusted to FEMALE, predicting MALE:\", lm.score(X, y))"
   ]
  },
  {
   "cell_type": "code",
   "execution_count": 19,
   "metadata": {},
   "outputs": [
    {
     "name": "stdout",
     "output_type": "stream",
     "text": [
      "Adjusted to FEMALE, predicting MALE: 0.726774045766\n",
      "Adjusted to MALE, predicting FEMALE: 0.697333350848\n"
     ]
    }
   ],
   "source": [
    "# Ahora hacer lo mismo pero usando regularizacion (RidgeCV)\n",
    "rlmcv = linear_model.RidgeCV()\n",
    "\n",
    "# Ajustar a las mujeres y predecir sobre hombres\n",
    "ridge_cv_model = rlmcv.fit(Xf, yf)\n",
    "print (\"Adjusted to FEMALE, predicting MALE:\", ridge_cv_model.score(X, y))\n",
    "\n",
    "# Ajustar a los hombres y predecir sobre mujeres\n",
    "ridge_cv_model = rlmcv.fit(X, y)\n",
    "print (\"Adjusted to MALE, predicting FEMALE:\", ridge_cv_model.score(Xf, yf))"
   ]
  },
  {
   "cell_type": "markdown",
   "metadata": {
    "collapsed": true
   },
   "source": [
    "### Resultados\n",
    "\n",
    "¿Mejora los resultados la regularización?\n",
    "¿Tiene sentido ajustar sobre una muestra de un tipo (hombres o mujeres) y predecir sobre otra (el sexo opuesto)?\n",
    "\n",
    "Probemos ahora con la siguiente variable categórica, \"dg\" (título, _degree_ en inglés)."
   ]
  },
  {
   "cell_type": "code",
   "execution_count": 20,
   "metadata": {},
   "outputs": [
    {
     "name": "stdout",
     "output_type": "stream",
     "text": [
      "0.648329528193\n",
      "0.623830973771\n"
     ]
    }
   ],
   "source": [
    "# apliquemos esta mascara para ajustar un modelo usando solo a los que tienen titulo de doctorado\n",
    "mask = (df[\"dg\"] == \"doctorate\")\n",
    "\n",
    "Xd = df[mask][[u'yr', u'yd',\n",
    "       u'rk_assistant', u'rk_associate', u'rk_full', u'dg_doctorate',\n",
    "       u'dg_masters']]\n",
    "yd = df[mask][u'sl']\n",
    "\n",
    "Xnd = df[~mask][[u'yr', u'yd',\n",
    "       u'rk_assistant', u'rk_associate', u'rk_full', u'dg_doctorate',\n",
    "       u'dg_masters']]\n",
    "ynd = df[~mask][u'sl']\n",
    "\n",
    "## Ajustar el modelo sobre los que tienen doctorado\n",
    "model = lm.fit(Xd, yd)\n",
    "\n",
    "## Predecir sobre el resto\n",
    "print(model.score(Xnd, ynd))\n",
    "\n",
    "## Comparar ajustes\n",
    "\n",
    "## Repetir el proceso pero con regularización\n",
    "ridge_cv_model = rlmcv.fit(Xd, yd)\n",
    "print(ridge_cv_model.score(Xnd, ynd))"
   ]
  },
  {
   "cell_type": "markdown",
   "metadata": {},
   "source": [
    "### Resultados\n",
    "¿Mejoró el ajuste usando regularización?\n",
    "\n",
    "Ahora probemos con \"rk\" (ranking del docente). Para este caso, hay tres categorías."
   ]
  },
  {
   "cell_type": "code",
   "execution_count": null,
   "metadata": {
    "collapsed": true
   },
   "outputs": [],
   "source": [
    "# Apliquemos esta mascara para ajustar un modelo usando solo a los de ranking \"full\"\n",
    "mask = (df[\"rk\"] == \"full\") \n",
    "\n",
    "## Ajustar el modelo sobre esta poblacion\n",
    "\n",
    "## Predecir sobre el resto\n",
    "\n",
    "## Comparar ajustes\n",
    "\n",
    "## Repetir el proceso pero con regularización\n"
   ]
  },
  {
   "cell_type": "markdown",
   "metadata": {},
   "source": [
    "# Resultados\n",
    "\n",
    "¿Cómo resultó la regularización?"
   ]
  },
  {
   "cell_type": "code",
   "execution_count": null,
   "metadata": {
    "collapsed": true
   },
   "outputs": [],
   "source": []
  }
 ],
 "metadata": {
  "kernelspec": {
   "display_name": "Python 3",
   "language": "python",
   "name": "python3"
  },
  "language_info": {
   "codemirror_mode": {
    "name": "ipython",
    "version": 3
   },
   "file_extension": ".py",
   "mimetype": "text/x-python",
   "name": "python",
   "nbconvert_exporter": "python",
   "pygments_lexer": "ipython3",
   "version": "3.6.1"
  }
 },
 "nbformat": 4,
 "nbformat_minor": 1
}
