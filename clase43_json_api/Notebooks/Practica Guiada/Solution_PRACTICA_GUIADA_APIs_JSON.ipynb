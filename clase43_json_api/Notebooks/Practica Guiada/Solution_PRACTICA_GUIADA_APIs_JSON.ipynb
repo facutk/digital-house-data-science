{
 "cells": [
  {
   "cell_type": "markdown",
   "metadata": {
    "colab_type": "text",
    "id": "Yi8TjEqrCSuC"
   },
   "source": [
    "## Práctica Guiada: Accediendo una API desde Python\n",
    "\n",
    "El objetivo de esta práctica es acceder a la API de search de *MercadoLibre.com* desde Python usando el modulo [`requests`](https://api.mercadolibre.com/sites/MLA/search?q=iphone+6+16gb&condition=new&limit=10), tal como vimos en la clase de webscraping. Seguiremos los siguientes puntos: \n",
    "\n",
    "1. Imprimir el status code de la respuesta\n",
    "2. Imprimir todos los headers de la respuesta\n",
    "3. Convertir el json de la respuesta a un diccionario utilizando json.loads(...)\n",
    "4. Imprimir el diccionario obtenido\n",
    "5. Identificar cómo acceder a los items de la respuesta (los que entre otras cosas tienen el precio).\n",
    "6. Imprimir cuántos resultados hay.\n",
    "7. Convertir los resultados en un dataframe de pandas e imprimirlo.\n",
    "8. Calcular la media y el desvío estándar del precio de los resultados obtenidos."
   ]
  },
  {
   "cell_type": "code",
   "execution_count": null,
   "metadata": {
    "colab": {
     "autoexec": {
      "startup": false,
      "wait_interval": 0
     }
    },
    "colab_type": "code",
    "collapsed": true,
    "id": "dYbWIrX4CSuD"
   },
   "outputs": [],
   "source": [
    "# Accedemos a la API de search de MercadoLibre.com desde Python usando el modulo requests\n",
    "# https://api.mercadolibre.com/sites/MLA/search?q=iphone+6+16gb&condition=new&limit=10\n",
    "\n",
    "import requests\n",
    "import json\n",
    "import pandas as pd\n",
    "\n",
    "url = \"https://api.mercadolibre.com/sites/MLA/search?q=iphone+6+16gb&condition=new&limit=201\"\n",
    "response = requests.get(url)"
   ]
  },
  {
   "cell_type": "code",
   "execution_count": null,
   "metadata": {
    "colab": {
     "autoexec": {
      "startup": false,
      "wait_interval": 0
     },
     "output_extras": [
      {}
     ]
    },
    "colab_type": "code",
    "id": "brp_2rQxCSuG",
    "outputId": "63dbb281-9fd9-423a-ce65-b214125d8458"
   },
   "outputs": [],
   "source": [
    "# 1. Imprimir el status code de la respuesta\n",
    "\n",
    "print(\"Status Code:\", response.status_code)"
   ]
  },
  {
   "cell_type": "code",
   "execution_count": null,
   "metadata": {
    "colab": {
     "autoexec": {
      "startup": false,
      "wait_interval": 0
     },
     "output_extras": [
      {}
     ]
    },
    "colab_type": "code",
    "id": "8xwaG029CSuM",
    "outputId": "59113462-6678-44ab-ee6c-6f76a5dfb97e"
   },
   "outputs": [],
   "source": [
    "# 2. Imprimir todos los headers de la respuesta\n",
    "\n",
    "print(response.headers)"
   ]
  },
  {
   "cell_type": "code",
   "execution_count": null,
   "metadata": {
    "colab": {
     "autoexec": {
      "startup": false,
      "wait_interval": 0
     },
     "output_extras": [
      {}
     ]
    },
    "colab_type": "code",
    "id": "p0PuCIqzCSuQ",
    "outputId": "ada9a45b-2e8b-413e-9b5c-c88255dd9b6a"
   },
   "outputs": [],
   "source": [
    "# 3. Convertir el json de la respuesta a un diccionario utilizando json.loads(...)\n",
    "\n",
    "data = json.loads(response.text)\n",
    "\n",
    "\n",
    "# 4. Imprimir el diccionario obtenido\n",
    "\n",
    "print(json.dumps(data, indent=4))"
   ]
  },
  {
   "cell_type": "code",
   "execution_count": null,
   "metadata": {
    "colab": {
     "autoexec": {
      "startup": false,
      "wait_interval": 0
     },
     "output_extras": [
      {}
     ]
    },
    "colab_type": "code",
    "id": "b4tSX75OCSuT",
    "outputId": "5b8a8c77-8b5d-4ef2-d583-8a7abd4d5080"
   },
   "outputs": [],
   "source": [
    "# 5. Identificar cómo acceder a los items de la respuesta (los que entre otras cosas tienen el precio)\n",
    "\n",
    "results=data[\"results\"]\n",
    "\n",
    "\n",
    "# 6. Imprimir cuántos resultados hay\n",
    "\n",
    "print(len(results))"
   ]
  },
  {
   "cell_type": "code",
   "execution_count": null,
   "metadata": {
    "colab": {
     "autoexec": {
      "startup": false,
      "wait_interval": 0
     },
     "output_extras": [
      {}
     ]
    },
    "colab_type": "code",
    "id": "tSbTQ6nZCSuX",
    "outputId": "9186dec8-75fc-4927-93ce-c7403503b31e"
   },
   "outputs": [],
   "source": [
    "# 7. Convertir los resultados en un dataframe de pandas e imprimirlo\n",
    "\n",
    "df=pd.DataFrame(results)\n",
    "df.head()"
   ]
  },
  {
   "cell_type": "code",
   "execution_count": null,
   "metadata": {
    "colab": {
     "autoexec": {
      "startup": false,
      "wait_interval": 0
     },
     "output_extras": [
      {}
     ]
    },
    "colab_type": "code",
    "id": "yTjc227uCSuc",
    "outputId": "2434c14e-df61-4a0a-ebff-1be8a52fbd64"
   },
   "outputs": [],
   "source": [
    "# 8. Calcular la media y el desvío estándar del precio de los resultados obtenidos.\n",
    "\n",
    "print(\"Media: \", df[\"price\"].mean())\n",
    "print(\"Desvio: \", df[\"price\"].std())"
   ]
  }
 ],
 "metadata": {
  "colab": {
   "default_view": {},
   "name": "Solution_PRACTICA_GUIADA_APIs_JSON.ipynb",
   "provenance": [],
   "version": "0.3.2",
   "views": {}
  },
  "kernelspec": {
   "display_name": "Python 3",
   "language": "python",
   "name": "python3"
  },
  "language_info": {
   "codemirror_mode": {
    "name": "ipython",
    "version": 3
   },
   "file_extension": ".py",
   "mimetype": "text/x-python",
   "name": "python",
   "nbconvert_exporter": "python",
   "pygments_lexer": "ipython3",
   "version": "3.6.1"
  }
 },
 "nbformat": 4,
 "nbformat_minor": 1
}
