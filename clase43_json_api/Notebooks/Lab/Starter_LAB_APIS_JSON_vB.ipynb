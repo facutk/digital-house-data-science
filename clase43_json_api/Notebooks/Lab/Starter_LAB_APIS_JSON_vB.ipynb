{
 "cells": [
  {
   "cell_type": "markdown",
   "metadata": {},
   "source": [
    "# LAB: APIs"
   ]
  },
  {
   "cell_type": "markdown",
   "metadata": {},
   "source": [
    "## Introducción\n",
    "\n",
    "En este lab vamos a obtener datos usando APIs y con ellos resolver dos problemas:\n",
    "\n",
    "1. Construir un árbol de regresión que estime la calidad de un vino\n",
    "2. Analizar las 250 mejores películas de la IMDB\n",
    "\n",
    "Esto combina lo aprendido sobre los árboles y APIs.\n",
    "Comenzaremos utilizando [Sheetsu](https://sheetsu.com/your-apis), un servicio gratuito que le permite convertir cualquier hoja de cálculo en una API.\n",
    "Luego haremos un scraping de datos de [IMDB](http://www.imdb.com/) y utilizaremos los datos obtenidos para analizar las películas de mayor recaudación."
   ]
  },
  {
   "cell_type": "markdown",
   "metadata": {},
   "source": [
    "## Ejercicio\n",
    "\n",
    "### Requisitos\n",
    "\n",
    "1. Descargar datos desde Sheetsu\n",
    "- Enviar datos a Sheetsu\n",
    "- Preparación de los datos\n",
    "    - Buscar datos faltantes\n",
    "    - Hacer un análisis exploratorio\n",
    "- Entrenar un modelo y analizar\n",
    "- IMDB análisis exploratorio\n",
    "    1. Obtener las mejores películas de IMDB\n",
    "    - Obtener los datos de las mejores películas de OMDBAPI\n",
    "    - Obtener datos de recaudación\n",
    "    - Preparar los datos:\n",
    "        - Buscar datos faltantes\n",
    "        - Usar el tipo correcto de columnas\n",
    "    - Vectorizar el texto\n",
    "\n",
    "**Extra:**\n",
    "\n",
    "- ¿Qué relación hay entre los principales actores y la recaudación de películas?\n"
   ]
  },
  {
   "cell_type": "markdown",
   "metadata": {},
   "source": [
    "## Links Útiles\n",
    "\n",
    "- [IMDB](http://www.imdb.com/)\n",
    "- [OMDBAPI](http://www.omdbapi.com/)\n",
    "- [Sheetsu](https://sheetsu.com)"
   ]
  },
  {
   "cell_type": "markdown",
   "metadata": {},
   "source": [
    "## 1. Obtener datos desde Sheetsu\n",
    "\n",
    "[Sheetsu](https://sheetsu.com/) es un servicio en línea que le permite acceder a cualquier hoja de cálculo de Google con una API. Es una forma muy poderosa de compartir un conjunto de datos, así como crear un almacenamiento centralizado de datos, que es más sencillo de editar que una base de datos.\n",
    "\n",
    "Una planilla con datos de vino puede ser encontrada [aquí](https://docs.google.com/spreadsheets/d/1z2awwQ6CsjNA-DFgDAGrcqAfbwnCk4Qiwv92emlqfqk/).\n",
    "\n",
    "Y puede ser accedida mediante mediante la API de sheetsu [aquí](https://sheetsu.com/apis/v1.0/9afde676cb6b).\n",
    "Preguntas:\n",
    "\n",
    "1. Utilizar la librería `requests` para acceder al documento. Inspeccionar la respuesta. ¿Qué tipo de datos son?\n",
    "> Respuesta: Es un string JSON\n",
    "2. ¿Cuál es el código de respuesta?\n",
    "> 200\n",
    "3. Usar las librerías y funciones apropiadas para leer la respuesta en un Dataframe de pandas\n",
    "> Respuestas posibles: pd.read_json y json.loads + pd.Dataframe\n",
    "4. Una vez importados los datos en un dataframe, ¿cuál es el precio del vino en la 6ta línea?\n",
    "> 6"
   ]
  },
  {
   "cell_type": "code",
   "execution_count": 1,
   "metadata": {
    "collapsed": true
   },
   "outputs": [],
   "source": [
    "# Importar los siguientes módulos\n",
    "import json\n",
    "import urllib\n",
    "import pandas as pd\n",
    "import numpy as np\n",
    "import requests\n",
    "import json\n",
    "import re\n",
    "import matplotlib.pyplot as plt\n",
    "%matplotlib inline"
   ]
  },
  {
   "cell_type": "code",
   "execution_count": 2,
   "metadata": {
    "collapsed": true
   },
   "outputs": [],
   "source": [
    "api_base_url = 'https://sheetsu.com/apis/v1.0/9afde676cb6b'"
   ]
  },
  {
   "cell_type": "code",
   "execution_count": 3,
   "metadata": {
    "scrolled": true
   },
   "outputs": [
    {
     "name": "stdout",
     "output_type": "stream",
     "text": [
      "Tipo de datos de la respuesta: application/json;charset=UTF-8\n",
      "Código de respuesta: 200\n"
     ]
    }
   ],
   "source": [
    "# 1. Usar la librería `requests` para acceder al documento. Inspeccionar la respuesta. ¿Qué tipo de datos son?\n",
    "api_response = requests.get(api_base_url)\n",
    "print(\"Tipo de datos de la respuesta:\", api_response.headers[\"content-type\"])\n",
    "\n",
    "# 2. ¿Cual es el código de respuesta?\n",
    "print(\"Código de respuesta:\", api_response.status_code)"
   ]
  },
  {
   "cell_type": "code",
   "execution_count": 4,
   "metadata": {},
   "outputs": [
    {
     "data": {
      "text/html": [
       "<div>\n",
       "<style>\n",
       "    .dataframe thead tr:only-child th {\n",
       "        text-align: right;\n",
       "    }\n",
       "\n",
       "    .dataframe thead th {\n",
       "        text-align: left;\n",
       "    }\n",
       "\n",
       "    .dataframe tbody tr th {\n",
       "        vertical-align: top;\n",
       "    }\n",
       "</style>\n",
       "<table border=\"1\" class=\"dataframe\">\n",
       "  <thead>\n",
       "    <tr style=\"text-align: right;\">\n",
       "      <th></th>\n",
       "      <th>Color</th>\n",
       "      <th>Consumed In</th>\n",
       "      <th>Country</th>\n",
       "      <th>Grape</th>\n",
       "      <th>Name</th>\n",
       "      <th>Price</th>\n",
       "      <th>Region</th>\n",
       "      <th>Score</th>\n",
       "      <th>Vintage</th>\n",
       "      <th>Vinyard</th>\n",
       "    </tr>\n",
       "  </thead>\n",
       "  <tbody>\n",
       "    <tr>\n",
       "      <th>0</th>\n",
       "      <td>W</td>\n",
       "      <td>2015</td>\n",
       "      <td>Portugal</td>\n",
       "      <td></td>\n",
       "      <td></td>\n",
       "      <td></td>\n",
       "      <td>Portugal</td>\n",
       "      <td>4</td>\n",
       "      <td>2013</td>\n",
       "      <td>Vinho Verde</td>\n",
       "    </tr>\n",
       "    <tr>\n",
       "      <th>1</th>\n",
       "      <td>W</td>\n",
       "      <td>2015</td>\n",
       "      <td>France</td>\n",
       "      <td></td>\n",
       "      <td></td>\n",
       "      <td>17.8</td>\n",
       "      <td>France</td>\n",
       "      <td>3</td>\n",
       "      <td>2013</td>\n",
       "      <td>Peyruchet</td>\n",
       "    </tr>\n",
       "    <tr>\n",
       "      <th>2</th>\n",
       "      <td>W</td>\n",
       "      <td>2015</td>\n",
       "      <td>Oregon</td>\n",
       "      <td></td>\n",
       "      <td></td>\n",
       "      <td>20</td>\n",
       "      <td>Oregon</td>\n",
       "      <td>3</td>\n",
       "      <td>2013</td>\n",
       "      <td>Abacela</td>\n",
       "    </tr>\n",
       "    <tr>\n",
       "      <th>3</th>\n",
       "      <td>W</td>\n",
       "      <td>2015</td>\n",
       "      <td>Spain</td>\n",
       "      <td>chardonay</td>\n",
       "      <td></td>\n",
       "      <td>7</td>\n",
       "      <td>Spain</td>\n",
       "      <td>2.5</td>\n",
       "      <td>2012</td>\n",
       "      <td>Ochoa</td>\n",
       "    </tr>\n",
       "    <tr>\n",
       "      <th>4</th>\n",
       "      <td>R</td>\n",
       "      <td>2015</td>\n",
       "      <td>US</td>\n",
       "      <td>chiraz, cab</td>\n",
       "      <td>Spice Trader</td>\n",
       "      <td>6</td>\n",
       "      <td></td>\n",
       "      <td>3</td>\n",
       "      <td>2012</td>\n",
       "      <td>Heartland</td>\n",
       "    </tr>\n",
       "    <tr>\n",
       "      <th>5</th>\n",
       "      <td>R</td>\n",
       "      <td>2016</td>\n",
       "      <td>Argentina</td>\n",
       "      <td>malbec</td>\n",
       "      <td>Malbec Argentino</td>\n",
       "      <td>30</td>\n",
       "      <td>Mendoza</td>\n",
       "      <td>4.8</td>\n",
       "      <td>2010</td>\n",
       "      <td>Catena Zapata</td>\n",
       "    </tr>\n",
       "    <tr>\n",
       "      <th>6</th>\n",
       "      <td>R</td>\n",
       "      <td>2015</td>\n",
       "      <td>US</td>\n",
       "      <td></td>\n",
       "      <td>#14</td>\n",
       "      <td>21</td>\n",
       "      <td>Oregon</td>\n",
       "      <td>2.5</td>\n",
       "      <td>2013</td>\n",
       "      <td>Abacela</td>\n",
       "    </tr>\n",
       "    <tr>\n",
       "      <th>7</th>\n",
       "      <td>R</td>\n",
       "      <td>2015</td>\n",
       "      <td>France</td>\n",
       "      <td>merlot, cab</td>\n",
       "      <td></td>\n",
       "      <td>12</td>\n",
       "      <td>Bordeaux</td>\n",
       "      <td>3.5</td>\n",
       "      <td>2012</td>\n",
       "      <td>David Beaulieu</td>\n",
       "    </tr>\n",
       "    <tr>\n",
       "      <th>8</th>\n",
       "      <td>R</td>\n",
       "      <td>2015</td>\n",
       "      <td>France</td>\n",
       "      <td>merlot, cab</td>\n",
       "      <td></td>\n",
       "      <td>11.99</td>\n",
       "      <td>Medoc</td>\n",
       "      <td>3.5</td>\n",
       "      <td>2011</td>\n",
       "      <td>Chantemerle</td>\n",
       "    </tr>\n",
       "    <tr>\n",
       "      <th>9</th>\n",
       "      <td>R</td>\n",
       "      <td>2015</td>\n",
       "      <td>US</td>\n",
       "      <td>merlot</td>\n",
       "      <td></td>\n",
       "      <td>13</td>\n",
       "      <td>Washington</td>\n",
       "      <td>4</td>\n",
       "      <td>2011</td>\n",
       "      <td>Hyatt</td>\n",
       "    </tr>\n",
       "  </tbody>\n",
       "</table>\n",
       "</div>"
      ],
      "text/plain": [
       "  Color Consumed In    Country        Grape              Name  Price  \\\n",
       "0     W        2015   Portugal                                         \n",
       "1     W        2015     France                                  17.8   \n",
       "2     W        2015     Oregon                                    20   \n",
       "3     W        2015      Spain    chardonay                        7   \n",
       "4     R        2015         US  chiraz, cab      Spice Trader      6   \n",
       "5     R        2016  Argentina       malbec  Malbec Argentino     30   \n",
       "6     R        2015         US                            #14     21   \n",
       "7     R        2015     France  merlot, cab                       12   \n",
       "8     R        2015     France  merlot, cab                    11.99   \n",
       "9     R        2015         US       merlot                       13   \n",
       "\n",
       "       Region Score Vintage         Vinyard  \n",
       "0    Portugal     4    2013     Vinho Verde  \n",
       "1      France     3    2013       Peyruchet  \n",
       "2      Oregon     3    2013         Abacela  \n",
       "3       Spain   2.5    2012           Ochoa  \n",
       "4                 3    2012       Heartland  \n",
       "5     Mendoza   4.8    2010   Catena Zapata  \n",
       "6      Oregon   2.5    2013         Abacela  \n",
       "7    Bordeaux   3.5    2012  David Beaulieu  \n",
       "8       Medoc   3.5    2011     Chantemerle  \n",
       "9  Washington     4    2011           Hyatt  "
      ]
     },
     "execution_count": 4,
     "metadata": {},
     "output_type": "execute_result"
    }
   ],
   "source": [
    "#3. Usar las librerías y funciones apropiadas para leer la respuesta en un Dataframe de pandas\n",
    "reponse = json.loads(api_response.text)\n",
    "wine_df = pd.DataFrame(reponse)\n",
    "wine_df.head(10)"
   ]
  },
  {
   "cell_type": "code",
   "execution_count": 5,
   "metadata": {},
   "outputs": [
    {
     "data": {
      "text/html": [
       "<div>\n",
       "<style>\n",
       "    .dataframe thead tr:only-child th {\n",
       "        text-align: right;\n",
       "    }\n",
       "\n",
       "    .dataframe thead th {\n",
       "        text-align: left;\n",
       "    }\n",
       "\n",
       "    .dataframe tbody tr th {\n",
       "        vertical-align: top;\n",
       "    }\n",
       "</style>\n",
       "<table border=\"1\" class=\"dataframe\">\n",
       "  <thead>\n",
       "    <tr style=\"text-align: right;\">\n",
       "      <th></th>\n",
       "      <th>Color</th>\n",
       "      <th>Consumed In</th>\n",
       "      <th>Country</th>\n",
       "      <th>Grape</th>\n",
       "      <th>Name</th>\n",
       "      <th>Price</th>\n",
       "      <th>Region</th>\n",
       "      <th>Score</th>\n",
       "      <th>Vintage</th>\n",
       "      <th>Vinyard</th>\n",
       "    </tr>\n",
       "  </thead>\n",
       "  <tbody>\n",
       "    <tr>\n",
       "      <th>0</th>\n",
       "      <td>W</td>\n",
       "      <td>2015</td>\n",
       "      <td>Portugal</td>\n",
       "      <td></td>\n",
       "      <td></td>\n",
       "      <td></td>\n",
       "      <td>Portugal</td>\n",
       "      <td>4</td>\n",
       "      <td>2013</td>\n",
       "      <td>Vinho Verde</td>\n",
       "    </tr>\n",
       "    <tr>\n",
       "      <th>1</th>\n",
       "      <td>W</td>\n",
       "      <td>2015</td>\n",
       "      <td>France</td>\n",
       "      <td></td>\n",
       "      <td></td>\n",
       "      <td>17.8</td>\n",
       "      <td>France</td>\n",
       "      <td>3</td>\n",
       "      <td>2013</td>\n",
       "      <td>Peyruchet</td>\n",
       "    </tr>\n",
       "  </tbody>\n",
       "</table>\n",
       "</div>"
      ],
      "text/plain": [
       "  Color Consumed In   Country Grape Name Price    Region Score Vintage  \\\n",
       "0     W        2015  Portugal                   Portugal     4    2013   \n",
       "1     W        2015    France             17.8    France     3    2013   \n",
       "\n",
       "       Vinyard  \n",
       "0  Vinho Verde  \n",
       "1    Peyruchet  "
      ]
     },
     "execution_count": 5,
     "metadata": {},
     "output_type": "execute_result"
    }
   ],
   "source": [
    "#3. Otra posibilidad sería leerlo directamente con pandas\n",
    "wine_df = pd.read_json(api_response.text)\n",
    "wine_df.head(2)"
   ]
  },
  {
   "cell_type": "code",
   "execution_count": 6,
   "metadata": {},
   "outputs": [
    {
     "name": "stdout",
     "output_type": "stream",
     "text": [
      "30\n"
     ]
    }
   ],
   "source": [
    "#4. Una vez importados los datos en un dataframe. ¿Cuál es el precio del vino en la 6ta linea?\n",
    "print(wine_df.loc[5,'Price'])"
   ]
  },
  {
   "cell_type": "markdown",
   "metadata": {},
   "source": [
    "## 2. Enviar datos a Sheetsu\n",
    "Vimos como podemos leer datos, sería genial también poder escribir datos. Para eso haremos un _POST_.\n",
    "\n",
    "1. Usar el metodo post de `request` para agregar datos a la planilla:\n",
    "- ¿Cuál fue el status obtenido? ¿Cómo se puede comprobar que se hayan agregado los datos correctamente?\n",
    "> Respuesta: Enviar y volver a consultar, para verificar que se agregegaron al final\n",
    "- En este ejercicio, todos están agregando datos a la misma hoja de cálculo, ¿es un problema?, ¿cómo se podría mitigar?\n",
    "> Sería un problema que cualquiera pueda agregar datos a una hoja de cálculo, en cualquier orden y sin ninguna restricción. Se puede mitigar con permisos específicos.\n"
   ]
  },
  {
   "cell_type": "code",
   "execution_count": 7,
   "metadata": {
    "collapsed": true
   },
   "outputs": [],
   "source": [
    "post_data = {\n",
    "'Grape' : 'cabernet franc'\n",
    ", 'Name' : 'Angelica Zapata'\n",
    ", 'Color' : 'R'\n",
    ", 'Country' : 'AR'\n",
    ", 'Region' : 'Mendoza'\n",
    ", 'Vinyard' : 'Catena Zapata'\n",
    ", 'Consumed In' : '2017'\n",
    ", 'Vintage' : '2011'\n",
    ", 'Price' : '35'\n",
    "}"
   ]
  },
  {
   "cell_type": "code",
   "execution_count": 8,
   "metadata": {},
   "outputs": [
    {
     "name": "stdout",
     "output_type": "stream",
     "text": [
      "Código de respuesta: 201\n"
     ]
    }
   ],
   "source": [
    "ret=requests.post(api_base_url, data=post_data)\n",
    "print(\"Código de respuesta:\" , ret.status_code)"
   ]
  },
  {
   "cell_type": "code",
   "execution_count": 9,
   "metadata": {},
   "outputs": [
    {
     "data": {
      "text/html": [
       "<div>\n",
       "<style>\n",
       "    .dataframe thead tr:only-child th {\n",
       "        text-align: right;\n",
       "    }\n",
       "\n",
       "    .dataframe thead th {\n",
       "        text-align: left;\n",
       "    }\n",
       "\n",
       "    .dataframe tbody tr th {\n",
       "        vertical-align: top;\n",
       "    }\n",
       "</style>\n",
       "<table border=\"1\" class=\"dataframe\">\n",
       "  <thead>\n",
       "    <tr style=\"text-align: right;\">\n",
       "      <th></th>\n",
       "      <th>Color</th>\n",
       "      <th>Consumed In</th>\n",
       "      <th>Country</th>\n",
       "      <th>Grape</th>\n",
       "      <th>Name</th>\n",
       "      <th>Price</th>\n",
       "      <th>Region</th>\n",
       "      <th>Score</th>\n",
       "      <th>Vintage</th>\n",
       "      <th>Vinyard</th>\n",
       "    </tr>\n",
       "  </thead>\n",
       "  <tbody>\n",
       "    <tr>\n",
       "      <th>88</th>\n",
       "      <td>R</td>\n",
       "      <td>2017</td>\n",
       "      <td>AR</td>\n",
       "      <td>cabernet franc</td>\n",
       "      <td>Angelica Zapata</td>\n",
       "      <td>35</td>\n",
       "      <td>Mendoza</td>\n",
       "      <td></td>\n",
       "      <td>2011</td>\n",
       "      <td>Catena Zapata</td>\n",
       "    </tr>\n",
       "    <tr>\n",
       "      <th>89</th>\n",
       "      <td>R</td>\n",
       "      <td>2017</td>\n",
       "      <td>AR</td>\n",
       "      <td>cabernet franc</td>\n",
       "      <td>Angelica Zapata</td>\n",
       "      <td>35</td>\n",
       "      <td>Mendoza</td>\n",
       "      <td></td>\n",
       "      <td>2011</td>\n",
       "      <td>Catena Zapata</td>\n",
       "    </tr>\n",
       "    <tr>\n",
       "      <th>90</th>\n",
       "      <td>R</td>\n",
       "      <td>2017</td>\n",
       "      <td>AR</td>\n",
       "      <td>cabernet franc</td>\n",
       "      <td>Angelica Zapata</td>\n",
       "      <td>35</td>\n",
       "      <td>Mendoza</td>\n",
       "      <td></td>\n",
       "      <td>2011</td>\n",
       "      <td>Catena Zapata</td>\n",
       "    </tr>\n",
       "    <tr>\n",
       "      <th>91</th>\n",
       "      <td>R</td>\n",
       "      <td>2017</td>\n",
       "      <td>AR</td>\n",
       "      <td>cabernet franc</td>\n",
       "      <td>Angelica Zapata</td>\n",
       "      <td>35</td>\n",
       "      <td>Mendoza</td>\n",
       "      <td></td>\n",
       "      <td>2011</td>\n",
       "      <td>Catena Zapata</td>\n",
       "    </tr>\n",
       "    <tr>\n",
       "      <th>92</th>\n",
       "      <td>R</td>\n",
       "      <td>2017</td>\n",
       "      <td>AR</td>\n",
       "      <td>cabernet franc</td>\n",
       "      <td>Angelica Zapata</td>\n",
       "      <td>35</td>\n",
       "      <td>Mendoza</td>\n",
       "      <td></td>\n",
       "      <td>2011</td>\n",
       "      <td>Catena Zapata</td>\n",
       "    </tr>\n",
       "  </tbody>\n",
       "</table>\n",
       "</div>"
      ],
      "text/plain": [
       "   Color Consumed In Country           Grape             Name Price   Region  \\\n",
       "88     R        2017      AR  cabernet franc  Angelica Zapata    35  Mendoza   \n",
       "89     R        2017      AR  cabernet franc  Angelica Zapata    35  Mendoza   \n",
       "90     R        2017      AR  cabernet franc  Angelica Zapata    35  Mendoza   \n",
       "91     R        2017      AR  cabernet franc  Angelica Zapata    35  Mendoza   \n",
       "92     R        2017      AR  cabernet franc  Angelica Zapata    35  Mendoza   \n",
       "\n",
       "   Score Vintage        Vinyard  \n",
       "88          2011  Catena Zapata  \n",
       "89          2011  Catena Zapata  \n",
       "90          2011  Catena Zapata  \n",
       "91          2011  Catena Zapata  \n",
       "92          2011  Catena Zapata  "
      ]
     },
     "execution_count": 9,
     "metadata": {},
     "output_type": "execute_result"
    }
   ],
   "source": [
    "#Verificamos lo que incluimos\n",
    "vrfy_apiresp = requests.get(api_base_url)\n",
    "vrfy_df = pd.read_json(vrfy_apiresp.text)\n",
    "vrfy_df.tail()"
   ]
  },
  {
   "cell_type": "markdown",
   "metadata": {},
   "source": [
    "## 3. Preparación de los datos\n",
    "\n",
    "1. Buscar datos faltantes\n",
    "    - ¿Hay datos faltantes? ¿Qué se puede hacer?\n",
    "    - ¿Hay algún dato que pueda eliminar?\n",
    "    - ¿Los tipos de dato son apropiados?\n",
    "- Explorar los datos\n",
    "    - Probar usando describe, min, max, mean, var\n",
    "- Reducir el dataset a los primeros 29 registros"
   ]
  },
  {
   "cell_type": "code",
   "execution_count": 10,
   "metadata": {},
   "outputs": [
    {
     "data": {
      "text/plain": [
       "(  Color Consumed In   Country Grape Name Price    Region Score Vintage  \\\n",
       " 0     W        2015  Portugal                   Portugal     4    2013   \n",
       " \n",
       "        Vinyard  \n",
       " 0  Vinho Verde  , 92)"
      ]
     },
     "execution_count": 10,
     "metadata": {},
     "output_type": "execute_result"
    }
   ],
   "source": [
    "wine_df.head(1), len(wine_df)"
   ]
  },
  {
   "cell_type": "code",
   "execution_count": 11,
   "metadata": {
    "collapsed": true
   },
   "outputs": [],
   "source": [
    "wine_df = wine_df.replace('', np.nan)"
   ]
  },
  {
   "cell_type": "code",
   "execution_count": 12,
   "metadata": {},
   "outputs": [
    {
     "data": {
      "text/html": [
       "<div>\n",
       "<style>\n",
       "    .dataframe thead tr:only-child th {\n",
       "        text-align: right;\n",
       "    }\n",
       "\n",
       "    .dataframe thead th {\n",
       "        text-align: left;\n",
       "    }\n",
       "\n",
       "    .dataframe tbody tr th {\n",
       "        vertical-align: top;\n",
       "    }\n",
       "</style>\n",
       "<table border=\"1\" class=\"dataframe\">\n",
       "  <thead>\n",
       "    <tr style=\"text-align: right;\">\n",
       "      <th></th>\n",
       "      <th>Color</th>\n",
       "      <th>Consumed In</th>\n",
       "      <th>Country</th>\n",
       "      <th>Grape</th>\n",
       "      <th>Name</th>\n",
       "      <th>Price</th>\n",
       "      <th>Region</th>\n",
       "      <th>Score</th>\n",
       "      <th>Vintage</th>\n",
       "      <th>Vinyard</th>\n",
       "    </tr>\n",
       "  </thead>\n",
       "  <tbody>\n",
       "    <tr>\n",
       "      <th>0</th>\n",
       "      <td>W</td>\n",
       "      <td>2015</td>\n",
       "      <td>Portugal</td>\n",
       "      <td>NaN</td>\n",
       "      <td>NaN</td>\n",
       "      <td>NaN</td>\n",
       "      <td>Portugal</td>\n",
       "      <td>4</td>\n",
       "      <td>2013</td>\n",
       "      <td>Vinho Verde</td>\n",
       "    </tr>\n",
       "  </tbody>\n",
       "</table>\n",
       "</div>"
      ],
      "text/plain": [
       "  Color Consumed In   Country Grape Name Price    Region Score Vintage  \\\n",
       "0     W        2015  Portugal   NaN  NaN   NaN  Portugal     4    2013   \n",
       "\n",
       "       Vinyard  \n",
       "0  Vinho Verde  "
      ]
     },
     "execution_count": 12,
     "metadata": {},
     "output_type": "execute_result"
    }
   ],
   "source": [
    "wine_df.head(1)"
   ]
  },
  {
   "cell_type": "code",
   "execution_count": 13,
   "metadata": {},
   "outputs": [
    {
     "name": "stdout",
     "output_type": "stream",
     "text": [
      "<class 'pandas.core.frame.DataFrame'>\n",
      "Int64Index: 92 entries, 0 to 91\n",
      "Data columns (total 10 columns):\n",
      "Color          92 non-null object\n",
      "Consumed In    87 non-null object\n",
      "Country        90 non-null object\n",
      "Grape          81 non-null object\n",
      "Name           84 non-null object\n",
      "Price          81 non-null object\n",
      "Region         89 non-null object\n",
      "Score          28 non-null object\n",
      "Vintage        87 non-null object\n",
      "Vinyard        92 non-null object\n",
      "dtypes: object(10)\n",
      "memory usage: 10.4+ KB\n"
     ]
    }
   ],
   "source": [
    "wine_df.info()"
   ]
  },
  {
   "cell_type": "code",
   "execution_count": 14,
   "metadata": {},
   "outputs": [
    {
     "data": {
      "text/plain": [
       "Index(['Color', 'Consumed In', 'Country', 'Grape', 'Name', 'Price', 'Region',\n",
       "       'Score', 'Vintage', 'Vinyard'],\n",
       "      dtype='object')"
      ]
     },
     "execution_count": 14,
     "metadata": {},
     "output_type": "execute_result"
    }
   ],
   "source": [
    "wine_df.columns"
   ]
  },
  {
   "cell_type": "code",
   "execution_count": 15,
   "metadata": {
    "collapsed": true
   },
   "outputs": [],
   "source": [
    "#wine_df[['Score', 'Price']] = wine_df[['Score', 'Price']].astype(float)\n",
    "wine_df.loc[wine_df['Price']=='Emiliano', 'Price'] = np.nan\n",
    "wine_df[['Score', 'Price']] = wine_df[['Score', 'Price']].astype(float)"
   ]
  },
  {
   "cell_type": "code",
   "execution_count": 16,
   "metadata": {},
   "outputs": [
    {
     "data": {
      "text/html": [
       "<div>\n",
       "<style>\n",
       "    .dataframe thead tr:only-child th {\n",
       "        text-align: right;\n",
       "    }\n",
       "\n",
       "    .dataframe thead th {\n",
       "        text-align: left;\n",
       "    }\n",
       "\n",
       "    .dataframe tbody tr th {\n",
       "        vertical-align: top;\n",
       "    }\n",
       "</style>\n",
       "<table border=\"1\" class=\"dataframe\">\n",
       "  <thead>\n",
       "    <tr style=\"text-align: right;\">\n",
       "      <th></th>\n",
       "      <th>Price</th>\n",
       "      <th>Score</th>\n",
       "    </tr>\n",
       "  </thead>\n",
       "  <tbody>\n",
       "    <tr>\n",
       "      <th>count</th>\n",
       "      <td>80.000000</td>\n",
       "      <td>28.000000</td>\n",
       "    </tr>\n",
       "    <tr>\n",
       "      <th>mean</th>\n",
       "      <td>37.066125</td>\n",
       "      <td>3.385714</td>\n",
       "    </tr>\n",
       "    <tr>\n",
       "      <th>std</th>\n",
       "      <td>36.090961</td>\n",
       "      <td>0.625812</td>\n",
       "    </tr>\n",
       "    <tr>\n",
       "      <th>min</th>\n",
       "      <td>6.000000</td>\n",
       "      <td>2.000000</td>\n",
       "    </tr>\n",
       "    <tr>\n",
       "      <th>25%</th>\n",
       "      <td>21.750000</td>\n",
       "      <td>3.000000</td>\n",
       "    </tr>\n",
       "    <tr>\n",
       "      <th>50%</th>\n",
       "      <td>35.000000</td>\n",
       "      <td>3.500000</td>\n",
       "    </tr>\n",
       "    <tr>\n",
       "      <th>75%</th>\n",
       "      <td>35.000000</td>\n",
       "      <td>4.000000</td>\n",
       "    </tr>\n",
       "    <tr>\n",
       "      <th>max</th>\n",
       "      <td>235.000000</td>\n",
       "      <td>4.800000</td>\n",
       "    </tr>\n",
       "  </tbody>\n",
       "</table>\n",
       "</div>"
      ],
      "text/plain": [
       "            Price      Score\n",
       "count   80.000000  28.000000\n",
       "mean    37.066125   3.385714\n",
       "std     36.090961   0.625812\n",
       "min      6.000000   2.000000\n",
       "25%     21.750000   3.000000\n",
       "50%     35.000000   3.500000\n",
       "75%     35.000000   4.000000\n",
       "max    235.000000   4.800000"
      ]
     },
     "execution_count": 16,
     "metadata": {},
     "output_type": "execute_result"
    }
   ],
   "source": [
    "wine_df.describe()"
   ]
  },
  {
   "cell_type": "code",
   "execution_count": 17,
   "metadata": {},
   "outputs": [
    {
     "data": {
      "text/html": [
       "<div>\n",
       "<style>\n",
       "    .dataframe thead tr:only-child th {\n",
       "        text-align: right;\n",
       "    }\n",
       "\n",
       "    .dataframe thead th {\n",
       "        text-align: left;\n",
       "    }\n",
       "\n",
       "    .dataframe tbody tr th {\n",
       "        vertical-align: top;\n",
       "    }\n",
       "</style>\n",
       "<table border=\"1\" class=\"dataframe\">\n",
       "  <thead>\n",
       "    <tr style=\"text-align: right;\">\n",
       "      <th></th>\n",
       "      <th>Color</th>\n",
       "      <th>Consumed In</th>\n",
       "      <th>Country</th>\n",
       "      <th>Grape</th>\n",
       "      <th>Name</th>\n",
       "      <th>Price</th>\n",
       "      <th>Region</th>\n",
       "      <th>Score</th>\n",
       "      <th>Vintage</th>\n",
       "      <th>Vinyard</th>\n",
       "    </tr>\n",
       "  </thead>\n",
       "  <tbody>\n",
       "    <tr>\n",
       "      <th>0</th>\n",
       "      <td>W</td>\n",
       "      <td>2015</td>\n",
       "      <td>Portugal</td>\n",
       "      <td>NaN</td>\n",
       "      <td>NaN</td>\n",
       "      <td>NaN</td>\n",
       "      <td>Portugal</td>\n",
       "      <td>4.0</td>\n",
       "      <td>2013</td>\n",
       "      <td>Vinho Verde</td>\n",
       "    </tr>\n",
       "    <tr>\n",
       "      <th>1</th>\n",
       "      <td>W</td>\n",
       "      <td>2015</td>\n",
       "      <td>France</td>\n",
       "      <td>NaN</td>\n",
       "      <td>NaN</td>\n",
       "      <td>17.8</td>\n",
       "      <td>France</td>\n",
       "      <td>3.0</td>\n",
       "      <td>2013</td>\n",
       "      <td>Peyruchet</td>\n",
       "    </tr>\n",
       "    <tr>\n",
       "      <th>2</th>\n",
       "      <td>W</td>\n",
       "      <td>2015</td>\n",
       "      <td>Oregon</td>\n",
       "      <td>NaN</td>\n",
       "      <td>NaN</td>\n",
       "      <td>20.0</td>\n",
       "      <td>Oregon</td>\n",
       "      <td>3.0</td>\n",
       "      <td>2013</td>\n",
       "      <td>Abacela</td>\n",
       "    </tr>\n",
       "    <tr>\n",
       "      <th>3</th>\n",
       "      <td>W</td>\n",
       "      <td>2015</td>\n",
       "      <td>Spain</td>\n",
       "      <td>chardonay</td>\n",
       "      <td>NaN</td>\n",
       "      <td>7.0</td>\n",
       "      <td>Spain</td>\n",
       "      <td>2.5</td>\n",
       "      <td>2012</td>\n",
       "      <td>Ochoa</td>\n",
       "    </tr>\n",
       "    <tr>\n",
       "      <th>4</th>\n",
       "      <td>R</td>\n",
       "      <td>2015</td>\n",
       "      <td>US</td>\n",
       "      <td>chiraz, cab</td>\n",
       "      <td>Spice Trader</td>\n",
       "      <td>6.0</td>\n",
       "      <td>NaN</td>\n",
       "      <td>3.0</td>\n",
       "      <td>2012</td>\n",
       "      <td>Heartland</td>\n",
       "    </tr>\n",
       "  </tbody>\n",
       "</table>\n",
       "</div>"
      ],
      "text/plain": [
       "  Color Consumed In   Country        Grape          Name  Price    Region  \\\n",
       "0     W        2015  Portugal          NaN           NaN    NaN  Portugal   \n",
       "1     W        2015    France          NaN           NaN   17.8    France   \n",
       "2     W        2015    Oregon          NaN           NaN   20.0    Oregon   \n",
       "3     W        2015     Spain    chardonay           NaN    7.0     Spain   \n",
       "4     R        2015        US  chiraz, cab  Spice Trader    6.0       NaN   \n",
       "\n",
       "   Score Vintage      Vinyard  \n",
       "0    4.0    2013  Vinho Verde  \n",
       "1    3.0    2013    Peyruchet  \n",
       "2    3.0    2013      Abacela  \n",
       "3    2.5    2012        Ochoa  \n",
       "4    3.0    2012    Heartland  "
      ]
     },
     "execution_count": 17,
     "metadata": {},
     "output_type": "execute_result"
    }
   ],
   "source": [
    "wine_df.head()"
   ]
  },
  {
   "cell_type": "code",
   "execution_count": 18,
   "metadata": {
    "collapsed": true
   },
   "outputs": [],
   "source": [
    "wine_df=wine_df.head(29)"
   ]
  },
  {
   "cell_type": "markdown",
   "metadata": {},
   "source": [
    "## 4. IMDB\n",
    "\n",
    "A veces, una API no proporciona toda la información que nos gustaría obtener y tenemos que ser creativos.\n",
    "Aquí vamos a usar una combinación de scraping y llamadas API para investigar las calificaciones y ganancias brutas de películas famosas."
   ]
  },
  {
   "cell_type": "markdown",
   "metadata": {
    "collapsed": true
   },
   "source": [
    "## 4.a Obtener las mejores películas de IMDB\n",
    "\n",
    "La Internet Movie Database contiene datos sobre películas. Desafortunadamente no tiene una API pública.\n",
    "\n",
    "La página http://www.imdb.com/chart/top contiene la lista de las 250 mejores películas de todos los tiempos. Descargue la página usando `requests` y luego analice el html para obtener una lista de `movie_ids` para estas películas. Puede analizarlo con una expresión regular o utilizando una librería como `BeautifulSoup`.\n",
    "\n",
    "**Ayuda:** los movie_ids son de este tipo: `tt0068646`"
   ]
  },
  {
   "cell_type": "code",
   "execution_count": 19,
   "metadata": {
    "collapsed": true
   },
   "outputs": [],
   "source": [
    "def get_top_250():\n",
    "    response = requests.get('http://www.imdb.com/chart/top')\n",
    "    html = response.text\n",
    "    entries = re.findall(\"<a href.*?/title/(tt.*?)/\", html)\n",
    "    return list(set(entries))"
   ]
  },
  {
   "cell_type": "code",
   "execution_count": 20,
   "metadata": {
    "collapsed": true
   },
   "outputs": [],
   "source": [
    "entries = get_top_250()"
   ]
  },
  {
   "cell_type": "code",
   "execution_count": 21,
   "metadata": {},
   "outputs": [
    {
     "name": "stdout",
     "output_type": "stream",
     "text": [
      "250\n",
      "['tt0435761', 'tt0092067', 'tt1895587', 'tt0091763', 'tt0071853', 'tt0347149', 'tt0167404', 'tt0993846', 'tt0101414', 'tt0052618']\n"
     ]
    }
   ],
   "source": [
    "print(len(entries))\n",
    "print(entries[0:10])"
   ]
  },
  {
   "cell_type": "markdown",
   "metadata": {},
   "source": [
    "## 4.b Obtener los datos de las mejores películas de OMDBAPI\n",
    "\n",
    "Aunque IMDB no tiene una API pública, existe una API abierta en http://www.omdbapi.com.   \n",
    "Atencion: OMDBAPI ha dejado de ser publica, utilizar esta app de heroku la cual expone la misma firma:\n",
    "https://dsimdbapi.herokuapp.com/?i={imdbid} )\n",
    "\n",
    "Utilizar esta API para obtener información sobre cada una de las 250 películas que ha extraído en el paso anterior.\n",
    "1. Leer la documentación de omdbapi.com para saber cómo solicitar datos de película por id (recodar reemplazar www.omdbapi.com por dsimdbapi.herokuapp.com)\n",
    "- Definir una función que devuelva un objeto python con toda la información para un id dado\n",
    "- Iterar sobre todos los IDs y almacenar los resultados en una lista de tales objetos\n",
    "- Crear un Dataframe de pandas de la lista"
   ]
  },
  {
   "cell_type": "code",
   "execution_count": 22,
   "metadata": {
    "collapsed": true
   },
   "outputs": [],
   "source": [
    "def get_entry(entry):\n",
    "    \n",
    "    try:\n",
    "        res = requests.get('https://dsimdbapi.herokuapp.com/?i='+entry)\n",
    "        if res.status_code != 200:\n",
    "            print(entry, res.status_code)\n",
    "        else:\n",
    "            print('.'),\n",
    "        j = json.loads(res.text)\n",
    "    except ValueError:\n",
    "        j = None\n",
    "    except:\n",
    "        print(\"X\"),\n",
    "        j = None\n",
    "    return j"
   ]
  },
  {
   "cell_type": "code",
   "execution_count": null,
   "metadata": {
    "collapsed": true
   },
   "outputs": [],
   "source": []
  },
  {
   "cell_type": "code",
   "execution_count": null,
   "metadata": {
    "collapsed": true
   },
   "outputs": [],
   "source": []
  },
  {
   "cell_type": "code",
   "execution_count": null,
   "metadata": {
    "collapsed": true
   },
   "outputs": [],
   "source": []
  },
  {
   "cell_type": "code",
   "execution_count": null,
   "metadata": {
    "collapsed": true
   },
   "outputs": [],
   "source": []
  },
  {
   "cell_type": "markdown",
   "metadata": {},
   "source": [
    "## 4.c Obtener datos de recaudación\n",
    "\n",
    "La API de OMDB es útil, pero no proporciona información sobre la recaudación de la película.\n",
    "\n",
    "1. Escribir una función que recupere la recaudación de la página de la película en imdb.com\n",
    "- La función debe manejar la excepción de que la página no indique la recaudación\n",
    "- Recuperar la recaudación y almacenarla en un dataframe separado"
   ]
  },
  {
   "cell_type": "code",
   "execution_count": null,
   "metadata": {
    "collapsed": true
   },
   "outputs": [],
   "source": [
    "def get_gross(entry):\n",
    "    try:\n",
    "        response = requests.get('http://www.imdb.com/title/'+entry+\"/business?ref_=tt_dt_bus\")\n",
    "        html = response.text\n",
    "        gross_list = re.findall('Gross</h5>[^\\$]*\\$([0-9,.]*)', html)\n",
    "        gross = int(gross_list[0].replace(',', ''))\n",
    "        print('.'),\n",
    "        return gross\n",
    "    except Exception as ex:\n",
    "        print()\n",
    "        print(ex, entry)\n",
    "        return None"
   ]
  },
  {
   "cell_type": "code",
   "execution_count": null,
   "metadata": {
    "collapsed": true
   },
   "outputs": [],
   "source": []
  },
  {
   "cell_type": "code",
   "execution_count": null,
   "metadata": {
    "collapsed": true
   },
   "outputs": [],
   "source": []
  },
  {
   "cell_type": "markdown",
   "metadata": {},
   "source": [
    "## 4.d Preparación de datos\n",
    "\n",
    "Teniendo información de las películas e información de recaudación, limpiemos los dos conjuntos de datos.\n",
    "- Comprobar si hay valores nulos. Tener presente de que pueden parecer strings válidos.\n",
    "- Convertir las columnas a los formatos apropiados. En particular adaptar:\n",
    "    - Released\n",
    "    - Runtime\n",
    "    - year\n",
    "    - imdbRating\n",
    "    - imdbVotes\n",
    "- Combinar los datos de los dos conjuntos de datos en uno solo"
   ]
  },
  {
   "cell_type": "code",
   "execution_count": null,
   "metadata": {
    "collapsed": true
   },
   "outputs": [],
   "source": []
  },
  {
   "cell_type": "code",
   "execution_count": null,
   "metadata": {
    "collapsed": true
   },
   "outputs": [],
   "source": []
  },
  {
   "cell_type": "code",
   "execution_count": null,
   "metadata": {
    "collapsed": true
   },
   "outputs": [],
   "source": []
  },
  {
   "cell_type": "code",
   "execution_count": null,
   "metadata": {
    "collapsed": true
   },
   "outputs": [],
   "source": []
  },
  {
   "cell_type": "code",
   "execution_count": null,
   "metadata": {
    "collapsed": true
   },
   "outputs": [],
   "source": []
  },
  {
   "cell_type": "code",
   "execution_count": null,
   "metadata": {
    "collapsed": true
   },
   "outputs": [],
   "source": []
  },
  {
   "cell_type": "code",
   "execution_count": null,
   "metadata": {
    "collapsed": true
   },
   "outputs": [],
   "source": []
  },
  {
   "cell_type": "code",
   "execution_count": null,
   "metadata": {
    "collapsed": true
   },
   "outputs": [],
   "source": []
  },
  {
   "cell_type": "code",
   "execution_count": null,
   "metadata": {
    "collapsed": true
   },
   "outputs": [],
   "source": []
  },
  {
   "cell_type": "markdown",
   "metadata": {},
   "source": [
    "## 4.d Vectorización del texto\n",
    "\n",
    "Hay varias columnas en los datos que contienen una lista separada por comas de elementos, por ejemplo, la columna `Genre` y la columna `Actors`. \n",
    "\n",
    "- Transformar esas columnas en binarias usando el vectorizador de conteo de scikit learn.\n",
    "- Agregar estas columnas al dataframe combinado.\n",
    "\n",
    "**Ayuda:** Con el fin de obtener el nombre de los actores a la derecha, tendrá que modificar el `token_pattern` en el `CountVectorizer`."
   ]
  },
  {
   "cell_type": "code",
   "execution_count": null,
   "metadata": {
    "collapsed": true
   },
   "outputs": [],
   "source": [
    "from sklearn.feature_extraction.text import CountVectorizer"
   ]
  },
  {
   "cell_type": "code",
   "execution_count": null,
   "metadata": {
    "collapsed": true
   },
   "outputs": [],
   "source": [
    "cv = CountVectorizer()\n",
    "data = cv.fit_transform(df.Country).todense()\n",
    "columns = ['Country: '+c for c in cv.get_feature_names()]\n",
    "countrydf = pd.DataFrame(data, columns=columns)\n",
    "countrydf.head()"
   ]
  },
  {
   "cell_type": "code",
   "execution_count": null,
   "metadata": {
    "collapsed": true
   },
   "outputs": [],
   "source": [
    "df1 = pd.concat([df, countrydf], axis = 1)"
   ]
  },
  {
   "cell_type": "code",
   "execution_count": null,
   "metadata": {
    "collapsed": true,
    "scrolled": true
   },
   "outputs": [],
   "source": []
  },
  {
   "cell_type": "code",
   "execution_count": null,
   "metadata": {
    "collapsed": true
   },
   "outputs": [],
   "source": []
  },
  {
   "cell_type": "code",
   "execution_count": null,
   "metadata": {
    "collapsed": true
   },
   "outputs": [],
   "source": []
  },
  {
   "cell_type": "code",
   "execution_count": null,
   "metadata": {
    "collapsed": true
   },
   "outputs": [],
   "source": []
  },
  {
   "cell_type": "code",
   "execution_count": null,
   "metadata": {
    "collapsed": true
   },
   "outputs": [],
   "source": []
  },
  {
   "cell_type": "code",
   "execution_count": null,
   "metadata": {
    "collapsed": true
   },
   "outputs": [],
   "source": []
  },
  {
   "cell_type": "code",
   "execution_count": null,
   "metadata": {
    "collapsed": true
   },
   "outputs": [],
   "source": []
  },
  {
   "cell_type": "code",
   "execution_count": null,
   "metadata": {
    "collapsed": true
   },
   "outputs": [],
   "source": []
  },
  {
   "cell_type": "code",
   "execution_count": null,
   "metadata": {
    "collapsed": true
   },
   "outputs": [],
   "source": []
  },
  {
   "cell_type": "code",
   "execution_count": null,
   "metadata": {
    "collapsed": true
   },
   "outputs": [],
   "source": []
  },
  {
   "cell_type": "markdown",
   "metadata": {},
   "source": [
    "## 5. Entrenar un modelo y analizar\n",
    "\n",
    "Nos gustaría usar un árbol de regresión para predecir la calificación de las 250 películas de IMDB. Para ello, primero debemos seleccionar los atributos apropiados.\n",
    "\n",
    "- Establecer el objetivo como la columna `Score`, eliminar las filas sin `Score`\n",
    "- Usar pd.get_dummies para crear características dummy para todas las columnas de texto\n",
    "- Llenar los valores NaN en las columnas numéricas, utilizando un método apropiado\n",
    "- Entrenar a un Árbol de Regresión sobre `Score`, usando una división de entrenamiento-prueba:\n",
    "        X_train, X_test, y_train, y_test, = train_test_split(X, y, test_size=0.3, random_state=42)\n",
    "- Entrenar varios árboles de regresión usando `GridSearchCV` y tuneando los siguientes parámetros `max_leaf_nodes`, `min_samples_leaf` y `min_samples_split`\n",
    "- Graficar los valores de prueba, los valores predichos y los residuos\n",
    "- Calcular el error cuadrático medio\n",
    "- Discutir los hallazgos"
   ]
  },
  {
   "cell_type": "code",
   "execution_count": null,
   "metadata": {
    "collapsed": true
   },
   "outputs": [],
   "source": [
    "def search_nulls_in_cols(df):\n",
    "    for i in (df.columns):\n",
    "        n_nulls = sum(df[i].isnull())\n",
    "        if n_nulls > 0:\n",
    "            print(i,n_nulls)           \n",
    "\n",
    "search_nulls_in_cols(df1)"
   ]
  },
  {
   "cell_type": "code",
   "execution_count": null,
   "metadata": {
    "collapsed": true
   },
   "outputs": [],
   "source": [
    "df1['Gross'] = df1['Gross'].fillna(df['Gross'].mean())"
   ]
  },
  {
   "cell_type": "code",
   "execution_count": null,
   "metadata": {
    "collapsed": true
   },
   "outputs": [],
   "source": []
  },
  {
   "cell_type": "code",
   "execution_count": null,
   "metadata": {
    "collapsed": true
   },
   "outputs": [],
   "source": []
  },
  {
   "cell_type": "code",
   "execution_count": null,
   "metadata": {
    "collapsed": true
   },
   "outputs": [],
   "source": [
    "from sklearn.tree import DecisionTreeRegressor\n",
    "from sklearn.model_selection import train_test_split\n",
    "from sklearn.preprocessing import LabelEncoder\n",
    "from sklearn.pipeline import make_pipeline"
   ]
  },
  {
   "cell_type": "code",
   "execution_count": null,
   "metadata": {
    "collapsed": true
   },
   "outputs": [],
   "source": []
  },
  {
   "cell_type": "code",
   "execution_count": null,
   "metadata": {
    "collapsed": true,
    "scrolled": true
   },
   "outputs": [],
   "source": []
  },
  {
   "cell_type": "code",
   "execution_count": null,
   "metadata": {
    "collapsed": true
   },
   "outputs": [],
   "source": []
  },
  {
   "cell_type": "code",
   "execution_count": null,
   "metadata": {
    "collapsed": true
   },
   "outputs": [],
   "source": [
    "X_train, X_test, y_train, y_test, = train_test_split(X, y, test_size=0.3, random_state=42)"
   ]
  },
  {
   "cell_type": "code",
   "execution_count": null,
   "metadata": {
    "collapsed": true
   },
   "outputs": [],
   "source": [
    "X_train.head()"
   ]
  },
  {
   "cell_type": "code",
   "execution_count": null,
   "metadata": {
    "collapsed": true
   },
   "outputs": [],
   "source": []
  },
  {
   "cell_type": "code",
   "execution_count": null,
   "metadata": {
    "collapsed": true
   },
   "outputs": [],
   "source": []
  },
  {
   "cell_type": "code",
   "execution_count": null,
   "metadata": {
    "collapsed": true
   },
   "outputs": [],
   "source": []
  },
  {
   "cell_type": "code",
   "execution_count": null,
   "metadata": {
    "collapsed": true
   },
   "outputs": [],
   "source": []
  },
  {
   "cell_type": "code",
   "execution_count": null,
   "metadata": {
    "collapsed": true
   },
   "outputs": [],
   "source": [
    "from sklearn.model_selection import GridSearchCV\n",
    "\n",
    "PARAMETROS = {'max_leaf_nodes':range(2,50), 'min_samples_leaf':range(5,10),\n",
    "              'min_samples_split': range(2,20)}\n",
    "\n",
    "#s = np.random.randint(100) # DESCOMENTAR \n",
    "\n",
    "#Se hace la búsqueda con Grid Search\n",
    "model = DecisionTreeRegressor()\n",
    "gs = GridSearchCV(model, PARAMETROS, scoring='neg_mean_squared_error', verbose=1 , n_jobs=3)\n",
    "gs.fit(X, y)\n",
    "\n",
    "# Se muestran los mejores resultados\n",
    "print(gs.best_estimator_)\n",
    "print(gs.best_score_)\n",
    "print(np.sqrt(-gs.best_score_))"
   ]
  },
  {
   "cell_type": "markdown",
   "metadata": {},
   "source": [
    "Desde la terminal, tenemos que instalar lo siguiente:\n",
    "> sudo apt-get install python-pydot\n",
    "\n",
    "o lo siguiente:\n",
    "> pip install pydotplus"
   ]
  },
  {
   "cell_type": "code",
   "execution_count": null,
   "metadata": {
    "collapsed": true
   },
   "outputs": [],
   "source": [
    "from IPython.display import Image\n",
    "from sklearn.tree import export_graphviz\n",
    "import pydotplus"
   ]
  },
  {
   "cell_type": "code",
   "execution_count": null,
   "metadata": {
    "collapsed": true
   },
   "outputs": [],
   "source": [
    "# Se grafica el mejor arbol\n"
   ]
  },
  {
   "cell_type": "markdown",
   "metadata": {},
   "source": [
    "## Extra:\n",
    "\n",
    "1. ¿Cuáles son las 10 películas más taquilleras?\n",
    "- ¿Quiénes son los 10 actores que aparecen en la mayor cantidad de películas?\n"
   ]
  },
  {
   "cell_type": "code",
   "execution_count": null,
   "metadata": {
    "collapsed": true
   },
   "outputs": [],
   "source": []
  },
  {
   "cell_type": "code",
   "execution_count": null,
   "metadata": {
    "collapsed": true
   },
   "outputs": [],
   "source": []
  },
  {
   "cell_type": "code",
   "execution_count": null,
   "metadata": {
    "collapsed": true
   },
   "outputs": [],
   "source": []
  },
  {
   "cell_type": "code",
   "execution_count": null,
   "metadata": {
    "collapsed": true
   },
   "outputs": [],
   "source": []
  },
  {
   "cell_type": "code",
   "execution_count": null,
   "metadata": {
    "collapsed": true
   },
   "outputs": [],
   "source": []
  }
 ],
 "metadata": {
  "kernelspec": {
   "display_name": "Python 3",
   "language": "python",
   "name": "python3"
  },
  "language_info": {
   "codemirror_mode": {
    "name": "ipython",
    "version": 3
   },
   "file_extension": ".py",
   "mimetype": "text/x-python",
   "name": "python",
   "nbconvert_exporter": "python",
   "pygments_lexer": "ipython3",
   "version": "3.6.1"
  }
 },
 "nbformat": 4,
 "nbformat_minor": 1
}
