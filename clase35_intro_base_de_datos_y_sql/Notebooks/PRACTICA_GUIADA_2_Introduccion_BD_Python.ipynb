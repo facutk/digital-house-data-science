{
 "cells": [
  {
   "cell_type": "markdown",
   "metadata": {},
   "source": [
    "# Práctica Guiada 2: DataFrames y SQL"
   ]
  },
  {
   "cell_type": "markdown",
   "metadata": {},
   "source": [
    "## 2. Utilizar Pandas Dataframes en Python para manipular una Base de Datos SQLite\n",
    "\n",
    "#### 1. Importar packages de sqlite3 y pandas"
   ]
  },
  {
   "cell_type": "code",
   "execution_count": null,
   "metadata": {},
   "outputs": [],
   "source": [
    "import sqlite3\n",
    "import pandas as pd\n",
    "from pandas.io import sql"
   ]
  },
  {
   "cell_type": "markdown",
   "metadata": {},
   "source": [
    "#### 2. Conectarse a la Base de Datos (la misma o una nueva).\n"
   ]
  },
  {
   "cell_type": "code",
   "execution_count": null,
   "metadata": {},
   "outputs": [],
   "source": [
    "sqlite_db = 'test_db2.sqlite'\n",
    "conn = sqlite3.connect(sqlite_db)"
   ]
  },
  {
   "cell_type": "markdown",
   "metadata": {},
   "source": [
    "#### 3. Leer el CSV y guardarlo en una estructura Pandas. Mostrar su contenido."
   ]
  },
  {
   "cell_type": "code",
   "execution_count": null,
   "metadata": {},
   "outputs": [],
   "source": [
    "data = pd.read_csv('housing.csv', low_memory=False)\n",
    "data.head()"
   ]
  },
  {
   "cell_type": "markdown",
   "metadata": {},
   "source": [
    "#### 4. Almacenarlo en la Base de Datos, en una nueva tabla houses_pandas"
   ]
  },
  {
   "cell_type": "code",
   "execution_count": null,
   "metadata": {
    "collapsed": true
   },
   "outputs": [],
   "source": [
    "data.to_sql('houses_pandas', con=conn,\n",
    "            if_exists='replace', index=False)"
   ]
  },
  {
   "cell_type": "markdown",
   "metadata": {},
   "source": [
    "#### 5.Consultar el contenido de la tabla (e.g.: los primeros 10 registros) mediante el comando SELECT"
   ]
  },
  {
   "cell_type": "code",
   "execution_count": null,
   "metadata": {},
   "outputs": [],
   "source": [
    "# Mostrar directamente el resultado\n",
    "sql.read_sql('select * from houses_pandas limit 10', con=conn)\n",
    "\n",
    "# Alternativa: Guardar el resultado en una estructura Pandas para luego mostrarlo. En este caso sólo 5 registros\n",
    "# data2 = sql.read_sql('select * from houses_pandas limit 5', con=conn)\n",
    "# data2.head()"
   ]
  },
  {
   "cell_type": "markdown",
   "metadata": {},
   "source": [
    "### Practicar las consultas sobre la tabla houses_panda\n",
    "\n",
    "#### 1. Traer todos los campos de todos los registros."
   ]
  },
  {
   "cell_type": "code",
   "execution_count": null,
   "metadata": {},
   "outputs": [],
   "source": [
    "sql.read_sql('select * from houses_pandas', con=conn)"
   ]
  },
  {
   "cell_type": "markdown",
   "metadata": {},
   "source": [
    "#### 2. Mostrar los valores de los campos sqft y bdrms para todos los registros"
   ]
  },
  {
   "cell_type": "code",
   "execution_count": null,
   "metadata": {},
   "outputs": [],
   "source": [
    "sql.read_sql('select sqft, bdrms from houses_pandas', con=conn)"
   ]
  },
  {
   "cell_type": "markdown",
   "metadata": {},
   "source": [
    "#### 3. Mostrar dichos valores para casas de más de 50 años\n"
   ]
  },
  {
   "cell_type": "code",
   "execution_count": null,
   "metadata": {},
   "outputs": [],
   "source": [
    "sql.read_sql('select sqft, bdrms from houses_pandas where age > 50', con=conn)"
   ]
  },
  {
   "cell_type": "markdown",
   "metadata": {},
   "source": [
    "### Funciones de Agregación\n",
    "\n",
    "#### Permiten responder preguntas:\n",
    "\n",
    "#### 1. ¿Cuántas casas se vendieron en total?\n"
   ]
  },
  {
   "cell_type": "code",
   "execution_count": null,
   "metadata": {},
   "outputs": [],
   "source": [
    "sql.read_sql('select count(*) from houses_pandas', con=conn)"
   ]
  },
  {
   "cell_type": "markdown",
   "metadata": {},
   "source": [
    "#### 2. ¿Cuánto cuesta la casa más cara? ¿Y la más barata?\n"
   ]
  },
  {
   "cell_type": "code",
   "execution_count": null,
   "metadata": {},
   "outputs": [],
   "source": [
    "sql.read_sql('select min(price), max(price) from houses_pandas', con=conn)"
   ]
  },
  {
   "cell_type": "markdown",
   "metadata": {},
   "source": [
    "#### 3. ¿Cuál es la superficie promedio de las casas de 2 dormitorios?\n"
   ]
  },
  {
   "cell_type": "code",
   "execution_count": null,
   "metadata": {},
   "outputs": [],
   "source": [
    "sql.read_sql('select avg(sqft) from houses_pandas where bdrms = 2', con=conn)"
   ]
  }
 ],
 "metadata": {
  "kernelspec": {
   "display_name": "Python 3",
   "language": "python",
   "name": "python3"
  },
  "language_info": {
   "codemirror_mode": {
    "name": "ipython",
    "version": 3
   },
   "file_extension": ".py",
   "mimetype": "text/x-python",
   "name": "python",
   "nbconvert_exporter": "python",
   "pygments_lexer": "ipython3",
   "version": "3.6.1"
  }
 },
 "nbformat": 4,
 "nbformat_minor": 1
}
