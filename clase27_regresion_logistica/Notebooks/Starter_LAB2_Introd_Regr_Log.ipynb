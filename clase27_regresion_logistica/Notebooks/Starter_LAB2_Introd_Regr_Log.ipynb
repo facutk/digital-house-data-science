{
 "cells": [
  {
   "cell_type": "markdown",
   "metadata": {},
   "source": [
    "# LAB: Regresión Logística: Haciendo predicciones sobre datos de cáncer de mama"
   ]
  },
  {
   "cell_type": "markdown",
   "metadata": {},
   "source": [
    "## 1. Introducción\n",
    "\n",
    "Este dataset sobre cáncer de mama se obtuvo del Hospital de la Universidad de Wisconsin. Son datos producidos por el Dr. William Wolberg en la década del '90. Contiene información de estudios clínicos y celulares. El objetivo es predecir el carácter benigno ($class_t=0$) maligno ($class_t=1$) del cáncer en función de una serie de predictores a nivel celular.\n",
    "\n",
    "\n",
    "* class_t es la variable target\n",
    "\n",
    "* el resto son variables con valores normalizados de 1 a 10\n",
    "\n",
    "\n",
    "[Aquí](https://archive.ics.uci.edu/ml/machine-learning-databases/breast-cancer-wisconsin/breast-cancer-wisconsin.names) pueden encontrar más información sobre el dataset.\n",
    "\n",
    "**Nota:** se eliminaron del dataset original 16 casos con valores perdidos en algunos campos."
   ]
  },
  {
   "cell_type": "code",
   "execution_count": 7,
   "metadata": {},
   "outputs": [
    {
     "name": "stdout",
     "output_type": "stream",
     "text": [
      "Populating the interactive namespace from numpy and matplotlib\n"
     ]
    }
   ],
   "source": [
    "### Importar los paquetes a usar\n",
    "%pylab inline\n",
    "import statsmodels.api as sm\n",
    "import pandas as pd\n",
    "import numpy as np\n",
    "import seaborn as sns\n",
    "from sklearn.linear_model import LogisticRegression\n",
    "from sklearn.metrics import accuracy_score, classification_report\n",
    "from sklearn.model_selection import train_test_split"
   ]
  },
  {
   "cell_type": "code",
   "execution_count": 8,
   "metadata": {},
   "outputs": [
    {
     "data": {
      "text/html": [
       "<div>\n",
       "<style>\n",
       "    .dataframe thead tr:only-child th {\n",
       "        text-align: right;\n",
       "    }\n",
       "\n",
       "    .dataframe thead th {\n",
       "        text-align: left;\n",
       "    }\n",
       "\n",
       "    .dataframe tbody tr th {\n",
       "        vertical-align: top;\n",
       "    }\n",
       "</style>\n",
       "<table border=\"1\" class=\"dataframe\">\n",
       "  <thead>\n",
       "    <tr style=\"text-align: right;\">\n",
       "      <th></th>\n",
       "      <th>ID</th>\n",
       "      <th>clump_Thickness</th>\n",
       "      <th>unif_cell_size</th>\n",
       "      <th>unif_cell_shape</th>\n",
       "      <th>adhesion</th>\n",
       "      <th>epith_cell_Size</th>\n",
       "      <th>bare_nuclei</th>\n",
       "      <th>bland_chromatin</th>\n",
       "      <th>norm_nucleoli</th>\n",
       "      <th>mitoses</th>\n",
       "      <th>class_t</th>\n",
       "    </tr>\n",
       "  </thead>\n",
       "  <tbody>\n",
       "    <tr>\n",
       "      <th>364</th>\n",
       "      <td>657753</td>\n",
       "      <td>3</td>\n",
       "      <td>1</td>\n",
       "      <td>1</td>\n",
       "      <td>4</td>\n",
       "      <td>3</td>\n",
       "      <td>1</td>\n",
       "      <td>2</td>\n",
       "      <td>2</td>\n",
       "      <td>1</td>\n",
       "      <td>2</td>\n",
       "    </tr>\n",
       "    <tr>\n",
       "      <th>632</th>\n",
       "      <td>1315807</td>\n",
       "      <td>5</td>\n",
       "      <td>10</td>\n",
       "      <td>10</td>\n",
       "      <td>10</td>\n",
       "      <td>10</td>\n",
       "      <td>2</td>\n",
       "      <td>10</td>\n",
       "      <td>10</td>\n",
       "      <td>10</td>\n",
       "      <td>4</td>\n",
       "    </tr>\n",
       "    <tr>\n",
       "      <th>197</th>\n",
       "      <td>1217051</td>\n",
       "      <td>5</td>\n",
       "      <td>1</td>\n",
       "      <td>1</td>\n",
       "      <td>1</td>\n",
       "      <td>2</td>\n",
       "      <td>1</td>\n",
       "      <td>3</td>\n",
       "      <td>1</td>\n",
       "      <td>1</td>\n",
       "      <td>2</td>\n",
       "    </tr>\n",
       "    <tr>\n",
       "      <th>491</th>\n",
       "      <td>1286943</td>\n",
       "      <td>8</td>\n",
       "      <td>10</td>\n",
       "      <td>10</td>\n",
       "      <td>10</td>\n",
       "      <td>7</td>\n",
       "      <td>5</td>\n",
       "      <td>4</td>\n",
       "      <td>8</td>\n",
       "      <td>7</td>\n",
       "      <td>4</td>\n",
       "    </tr>\n",
       "    <tr>\n",
       "      <th>615</th>\n",
       "      <td>1235807</td>\n",
       "      <td>5</td>\n",
       "      <td>1</td>\n",
       "      <td>1</td>\n",
       "      <td>1</td>\n",
       "      <td>2</td>\n",
       "      <td>1</td>\n",
       "      <td>2</td>\n",
       "      <td>1</td>\n",
       "      <td>1</td>\n",
       "      <td>2</td>\n",
       "    </tr>\n",
       "    <tr>\n",
       "      <th>132</th>\n",
       "      <td>1180831</td>\n",
       "      <td>3</td>\n",
       "      <td>1</td>\n",
       "      <td>1</td>\n",
       "      <td>1</td>\n",
       "      <td>3</td>\n",
       "      <td>1</td>\n",
       "      <td>2</td>\n",
       "      <td>1</td>\n",
       "      <td>1</td>\n",
       "      <td>2</td>\n",
       "    </tr>\n",
       "    <tr>\n",
       "      <th>160</th>\n",
       "      <td>1197993</td>\n",
       "      <td>5</td>\n",
       "      <td>6</td>\n",
       "      <td>7</td>\n",
       "      <td>8</td>\n",
       "      <td>8</td>\n",
       "      <td>10</td>\n",
       "      <td>3</td>\n",
       "      <td>10</td>\n",
       "      <td>3</td>\n",
       "      <td>4</td>\n",
       "    </tr>\n",
       "    <tr>\n",
       "      <th>174</th>\n",
       "      <td>1203096</td>\n",
       "      <td>1</td>\n",
       "      <td>1</td>\n",
       "      <td>1</td>\n",
       "      <td>1</td>\n",
       "      <td>1</td>\n",
       "      <td>1</td>\n",
       "      <td>3</td>\n",
       "      <td>1</td>\n",
       "      <td>1</td>\n",
       "      <td>2</td>\n",
       "    </tr>\n",
       "    <tr>\n",
       "      <th>123</th>\n",
       "      <td>1176406</td>\n",
       "      <td>1</td>\n",
       "      <td>1</td>\n",
       "      <td>1</td>\n",
       "      <td>1</td>\n",
       "      <td>2</td>\n",
       "      <td>1</td>\n",
       "      <td>2</td>\n",
       "      <td>1</td>\n",
       "      <td>1</td>\n",
       "      <td>2</td>\n",
       "    </tr>\n",
       "    <tr>\n",
       "      <th>455</th>\n",
       "      <td>1211594</td>\n",
       "      <td>3</td>\n",
       "      <td>1</td>\n",
       "      <td>1</td>\n",
       "      <td>1</td>\n",
       "      <td>1</td>\n",
       "      <td>1</td>\n",
       "      <td>2</td>\n",
       "      <td>1</td>\n",
       "      <td>1</td>\n",
       "      <td>2</td>\n",
       "    </tr>\n",
       "  </tbody>\n",
       "</table>\n",
       "</div>"
      ],
      "text/plain": [
       "          ID  clump_Thickness  unif_cell_size  unif_cell_shape  adhesion  \\\n",
       "364   657753                3               1                1         4   \n",
       "632  1315807                5              10               10        10   \n",
       "197  1217051                5               1                1         1   \n",
       "491  1286943                8              10               10        10   \n",
       "615  1235807                5               1                1         1   \n",
       "132  1180831                3               1                1         1   \n",
       "160  1197993                5               6                7         8   \n",
       "174  1203096                1               1                1         1   \n",
       "123  1176406                1               1                1         1   \n",
       "455  1211594                3               1                1         1   \n",
       "\n",
       "     epith_cell_Size  bare_nuclei  bland_chromatin   norm_nucleoli  mitoses  \\\n",
       "364                3            1                 2              2        1   \n",
       "632               10            2                10             10       10   \n",
       "197                2            1                 3              1        1   \n",
       "491                7            5                 4              8        7   \n",
       "615                2            1                 2              1        1   \n",
       "132                3            1                 2              1        1   \n",
       "160                8           10                 3             10        3   \n",
       "174                1            1                 3              1        1   \n",
       "123                2            1                 2              1        1   \n",
       "455                1            1                 2              1        1   \n",
       "\n",
       "     class_t  \n",
       "364        2  \n",
       "632        4  \n",
       "197        2  \n",
       "491        4  \n",
       "615        2  \n",
       "132        2  \n",
       "160        4  \n",
       "174        2  \n",
       "123        2  \n",
       "455        2  "
      ]
     },
     "execution_count": 8,
     "metadata": {},
     "output_type": "execute_result"
    }
   ],
   "source": [
    "### Importamos los datos\n",
    "\n",
    "df = pd.read_csv('../Data/breast-cancer.csv', header = None)\n",
    "df.columns = ['ID', 'clump_Thickness', 'unif_cell_size', 'unif_cell_shape', 'adhesion', 'epith_cell_Size', 'bare_nuclei',\n",
    "              'bland_chromatin ','norm_nucleoli', 'mitoses', 'class_t']\n",
    "df.sample(10)"
   ]
  },
  {
   "cell_type": "code",
   "execution_count": 9,
   "metadata": {
    "collapsed": true
   },
   "outputs": [],
   "source": [
    "df.class_t[df['class_t'] == 2] = 0\n",
    "df.class_t[df['class_t'] == 4] = 1"
   ]
  },
  {
   "cell_type": "markdown",
   "metadata": {},
   "source": [
    "## 2. Análisis Exploratorio de los Datos"
   ]
  },
  {
   "cell_type": "markdown",
   "metadata": {},
   "source": [
    "Realizar un análisis descriptivo y exploratorio de los datos."
   ]
  },
  {
   "cell_type": "code",
   "execution_count": 11,
   "metadata": {},
   "outputs": [],
   "source": [
    "df.drop('ID', axis=1, inplace=True)"
   ]
  },
  {
   "cell_type": "code",
   "execution_count": 12,
   "metadata": {},
   "outputs": [
    {
     "data": {
      "text/html": [
       "<div>\n",
       "<style>\n",
       "    .dataframe thead tr:only-child th {\n",
       "        text-align: right;\n",
       "    }\n",
       "\n",
       "    .dataframe thead th {\n",
       "        text-align: left;\n",
       "    }\n",
       "\n",
       "    .dataframe tbody tr th {\n",
       "        vertical-align: top;\n",
       "    }\n",
       "</style>\n",
       "<table border=\"1\" class=\"dataframe\">\n",
       "  <thead>\n",
       "    <tr style=\"text-align: right;\">\n",
       "      <th></th>\n",
       "      <th>clump_Thickness</th>\n",
       "      <th>unif_cell_size</th>\n",
       "      <th>unif_cell_shape</th>\n",
       "      <th>adhesion</th>\n",
       "      <th>epith_cell_Size</th>\n",
       "      <th>bare_nuclei</th>\n",
       "      <th>bland_chromatin</th>\n",
       "      <th>norm_nucleoli</th>\n",
       "      <th>mitoses</th>\n",
       "      <th>class_t</th>\n",
       "    </tr>\n",
       "  </thead>\n",
       "  <tbody>\n",
       "    <tr>\n",
       "      <th>74</th>\n",
       "      <td>1</td>\n",
       "      <td>1</td>\n",
       "      <td>4</td>\n",
       "      <td>1</td>\n",
       "      <td>2</td>\n",
       "      <td>1</td>\n",
       "      <td>2</td>\n",
       "      <td>1</td>\n",
       "      <td>1</td>\n",
       "      <td>0</td>\n",
       "    </tr>\n",
       "    <tr>\n",
       "      <th>84</th>\n",
       "      <td>3</td>\n",
       "      <td>3</td>\n",
       "      <td>6</td>\n",
       "      <td>4</td>\n",
       "      <td>5</td>\n",
       "      <td>8</td>\n",
       "      <td>4</td>\n",
       "      <td>4</td>\n",
       "      <td>1</td>\n",
       "      <td>1</td>\n",
       "    </tr>\n",
       "    <tr>\n",
       "      <th>375</th>\n",
       "      <td>5</td>\n",
       "      <td>1</td>\n",
       "      <td>1</td>\n",
       "      <td>1</td>\n",
       "      <td>3</td>\n",
       "      <td>2</td>\n",
       "      <td>2</td>\n",
       "      <td>2</td>\n",
       "      <td>1</td>\n",
       "      <td>0</td>\n",
       "    </tr>\n",
       "    <tr>\n",
       "      <th>676</th>\n",
       "      <td>3</td>\n",
       "      <td>1</td>\n",
       "      <td>1</td>\n",
       "      <td>1</td>\n",
       "      <td>2</td>\n",
       "      <td>1</td>\n",
       "      <td>1</td>\n",
       "      <td>1</td>\n",
       "      <td>1</td>\n",
       "      <td>0</td>\n",
       "    </tr>\n",
       "    <tr>\n",
       "      <th>513</th>\n",
       "      <td>6</td>\n",
       "      <td>1</td>\n",
       "      <td>3</td>\n",
       "      <td>2</td>\n",
       "      <td>2</td>\n",
       "      <td>1</td>\n",
       "      <td>1</td>\n",
       "      <td>1</td>\n",
       "      <td>1</td>\n",
       "      <td>0</td>\n",
       "    </tr>\n",
       "  </tbody>\n",
       "</table>\n",
       "</div>"
      ],
      "text/plain": [
       "     clump_Thickness  unif_cell_size  unif_cell_shape  adhesion  \\\n",
       "74                 1               1                4         1   \n",
       "84                 3               3                6         4   \n",
       "375                5               1                1         1   \n",
       "676                3               1                1         1   \n",
       "513                6               1                3         2   \n",
       "\n",
       "     epith_cell_Size  bare_nuclei  bland_chromatin   norm_nucleoli  mitoses  \\\n",
       "74                 2            1                 2              1        1   \n",
       "84                 5            8                 4              4        1   \n",
       "375                3            2                 2              2        1   \n",
       "676                2            1                 1              1        1   \n",
       "513                2            1                 1              1        1   \n",
       "\n",
       "     class_t  \n",
       "74         0  \n",
       "84         1  \n",
       "375        0  \n",
       "676        0  \n",
       "513        0  "
      ]
     },
     "execution_count": 12,
     "metadata": {},
     "output_type": "execute_result"
    }
   ],
   "source": [
    "df.sample(5)"
   ]
  },
  {
   "cell_type": "code",
   "execution_count": 18,
   "metadata": {},
   "outputs": [
    {
     "name": "stderr",
     "output_type": "stream",
     "text": [
      "/home/ubuntu/anaconda3/lib/python3.6/site-packages/matplotlib/font_manager.py:1297: UserWarning: findfont: Font family ['sans-serif'] not found. Falling back to DejaVu Sans\n",
      "  (prop.get_family(), self.defaultFamily[fontext]))\n"
     ]
    },
    {
     "data": {
      "text/plain": [
       "<matplotlib.axes._subplots.AxesSubplot at 0x7ff2e689e048>"
      ]
     },
     "execution_count": 18,
     "metadata": {},
     "output_type": "execute_result"
    },
    {
     "data": {
      "image/png": "[encoded data removed]",
      "text/plain": [
       "<matplotlib.figure.Figure at 0x7ff2e682c5c0>"
      ]
     },
     "metadata": {},
     "output_type": "display_data"
    }
   ],
   "source": [
    "sns.heatmap(df.corr(),annot=True)"
   ]
  },
  {
   "cell_type": "markdown",
   "metadata": {},
   "source": [
    "¿Qué variables están más correlacionadas entre sí y con la variable dependiente?"
   ]
  },
  {
   "cell_type": "code",
   "execution_count": null,
   "metadata": {
    "collapsed": true
   },
   "outputs": [],
   "source": []
  },
  {
   "cell_type": "markdown",
   "metadata": {},
   "source": [
    "## 3. Fiteando un modelo de regresión logística"
   ]
  },
  {
   "cell_type": "markdown",
   "metadata": {},
   "source": [
    "Dividimos el target y $X$"
   ]
  },
  {
   "cell_type": "code",
   "execution_count": 19,
   "metadata": {},
   "outputs": [
    {
     "data": {
      "text/plain": [
       "Index(['clump_Thickness', 'unif_cell_size', 'unif_cell_shape', 'adhesion',\n",
       "       'epith_cell_Size', 'bare_nuclei', 'bland_chromatin ', 'norm_nucleoli',\n",
       "       'mitoses', 'class_t'],\n",
       "      dtype='object')"
      ]
     },
     "execution_count": 19,
     "metadata": {},
     "output_type": "execute_result"
    }
   ],
   "source": [
    "df.columns"
   ]
  },
  {
   "cell_type": "code",
   "execution_count": 20,
   "metadata": {
    "collapsed": true
   },
   "outputs": [],
   "source": [
    "X = df[['clump_Thickness', 'unif_cell_size', 'unif_cell_shape', 'adhesion',\n",
    "       'epith_cell_Size', 'bare_nuclei', 'bland_chromatin ', 'norm_nucleoli',\n",
    "       'mitoses']]\n",
    "y = df['class_t']"
   ]
  },
  {
   "cell_type": "markdown",
   "metadata": {},
   "source": [
    "### 3.1 Usando `scikit-learn`"
   ]
  },
  {
   "cell_type": "markdown",
   "metadata": {},
   "source": [
    "Vamos a evaluar un modelo usando validación cruzada. La idea es estimar el test error usando validación cruzada en lugar de la partición clásica entre test y train.\n",
    "\n",
    "La idea es poder guardar mucha información de los modelos estimados.\n",
    "\n",
    "1. las predicicones de las k iteraciones que realicen\n",
    "2. los coeficientes de los k modelos estimados\n",
    "3. los scores de los k modelos estimados\n",
    "4. las matrices de confusión de los k modelos estimados\n",
    "\n",
    "**Hint:** traten de usar el iterador [`KFold`](http://scikit-learn.org/stable/modules/generated/sklearn.model_selection.KFold.html) del módulo `sklearn.model_selection`.\n",
    "\n",
    "- Lo que devuelve el método `KFold` es un array de índices con las $k$ particiones entre train y test.\n",
    "\n",
    "- Luego, pueden usar esos índices para hacer subsetting del dataframe"
   ]
  },
  {
   "cell_type": "code",
   "execution_count": 73,
   "metadata": {},
   "outputs": [
    {
     "data": {
      "text/html": [
       "<div>\n",
       "<style>\n",
       "    .dataframe thead tr:only-child th {\n",
       "        text-align: right;\n",
       "    }\n",
       "\n",
       "    .dataframe thead th {\n",
       "        text-align: left;\n",
       "    }\n",
       "\n",
       "    .dataframe tbody tr th {\n",
       "        vertical-align: top;\n",
       "    }\n",
       "</style>\n",
       "<table border=\"1\" class=\"dataframe\">\n",
       "  <thead>\n",
       "    <tr style=\"text-align: right;\">\n",
       "      <th></th>\n",
       "      <th>adhesion</th>\n",
       "      <th>bare_nuclei</th>\n",
       "      <th>bland_chromatin</th>\n",
       "      <th>clump_Thickness</th>\n",
       "      <th>epith_cell_Size</th>\n",
       "      <th>mitoses</th>\n",
       "      <th>norm_nucleoli</th>\n",
       "      <th>score</th>\n",
       "      <th>unif_cell_shape</th>\n",
       "      <th>unif_cell_size</th>\n",
       "    </tr>\n",
       "  </thead>\n",
       "  <tbody>\n",
       "    <tr>\n",
       "      <th>5</th>\n",
       "      <td>0.327143</td>\n",
       "      <td>0.373089</td>\n",
       "      <td>0.431825</td>\n",
       "      <td>0.515400</td>\n",
       "      <td>0.087032</td>\n",
       "      <td>0.522212</td>\n",
       "      <td>0.210371</td>\n",
       "      <td>1.000000</td>\n",
       "      <td>0.315679</td>\n",
       "      <td>0.002296</td>\n",
       "    </tr>\n",
       "    <tr>\n",
       "      <th>8</th>\n",
       "      <td>0.328669</td>\n",
       "      <td>0.370425</td>\n",
       "      <td>0.444116</td>\n",
       "      <td>0.546717</td>\n",
       "      <td>0.094016</td>\n",
       "      <td>0.506551</td>\n",
       "      <td>0.205072</td>\n",
       "      <td>1.000000</td>\n",
       "      <td>0.317423</td>\n",
       "      <td>-0.032023</td>\n",
       "    </tr>\n",
       "    <tr>\n",
       "      <th>9</th>\n",
       "      <td>0.316952</td>\n",
       "      <td>0.376895</td>\n",
       "      <td>0.404553</td>\n",
       "      <td>0.523425</td>\n",
       "      <td>0.125563</td>\n",
       "      <td>0.524805</td>\n",
       "      <td>0.201938</td>\n",
       "      <td>1.000000</td>\n",
       "      <td>0.348482</td>\n",
       "      <td>-0.042026</td>\n",
       "    </tr>\n",
       "    <tr>\n",
       "      <th>1</th>\n",
       "      <td>0.314250</td>\n",
       "      <td>0.352945</td>\n",
       "      <td>0.492618</td>\n",
       "      <td>0.575578</td>\n",
       "      <td>0.098414</td>\n",
       "      <td>0.473257</td>\n",
       "      <td>0.190981</td>\n",
       "      <td>0.985507</td>\n",
       "      <td>0.234983</td>\n",
       "      <td>0.052620</td>\n",
       "    </tr>\n",
       "    <tr>\n",
       "      <th>7</th>\n",
       "      <td>0.412672</td>\n",
       "      <td>0.390885</td>\n",
       "      <td>0.418779</td>\n",
       "      <td>0.561333</td>\n",
       "      <td>0.100570</td>\n",
       "      <td>0.529389</td>\n",
       "      <td>0.203029</td>\n",
       "      <td>0.985294</td>\n",
       "      <td>0.301793</td>\n",
       "      <td>-0.051007</td>\n",
       "    </tr>\n",
       "    <tr>\n",
       "      <th>2</th>\n",
       "      <td>0.417739</td>\n",
       "      <td>0.361120</td>\n",
       "      <td>0.614606</td>\n",
       "      <td>0.655643</td>\n",
       "      <td>0.037624</td>\n",
       "      <td>0.728801</td>\n",
       "      <td>0.356061</td>\n",
       "      <td>0.971014</td>\n",
       "      <td>0.236776</td>\n",
       "      <td>-0.077339</td>\n",
       "    </tr>\n",
       "    <tr>\n",
       "      <th>6</th>\n",
       "      <td>0.322056</td>\n",
       "      <td>0.385247</td>\n",
       "      <td>0.418613</td>\n",
       "      <td>0.478106</td>\n",
       "      <td>0.105686</td>\n",
       "      <td>0.509862</td>\n",
       "      <td>0.187042</td>\n",
       "      <td>0.970588</td>\n",
       "      <td>0.404113</td>\n",
       "      <td>0.039610</td>\n",
       "    </tr>\n",
       "    <tr>\n",
       "      <th>4</th>\n",
       "      <td>0.278924</td>\n",
       "      <td>0.391723</td>\n",
       "      <td>0.545130</td>\n",
       "      <td>0.513876</td>\n",
       "      <td>0.139565</td>\n",
       "      <td>0.395926</td>\n",
       "      <td>0.223788</td>\n",
       "      <td>0.941176</td>\n",
       "      <td>0.387514</td>\n",
       "      <td>-0.100560</td>\n",
       "    </tr>\n",
       "    <tr>\n",
       "      <th>3</th>\n",
       "      <td>0.343432</td>\n",
       "      <td>0.390713</td>\n",
       "      <td>0.389840</td>\n",
       "      <td>0.571235</td>\n",
       "      <td>0.109268</td>\n",
       "      <td>0.734551</td>\n",
       "      <td>0.245618</td>\n",
       "      <td>0.926471</td>\n",
       "      <td>0.414698</td>\n",
       "      <td>0.020843</td>\n",
       "    </tr>\n",
       "    <tr>\n",
       "      <th>0</th>\n",
       "      <td>0.278483</td>\n",
       "      <td>0.466452</td>\n",
       "      <td>0.358216</td>\n",
       "      <td>0.455988</td>\n",
       "      <td>0.055927</td>\n",
       "      <td>0.496904</td>\n",
       "      <td>0.148011</td>\n",
       "      <td>0.898551</td>\n",
       "      <td>0.285733</td>\n",
       "      <td>0.127412</td>\n",
       "    </tr>\n",
       "  </tbody>\n",
       "</table>\n",
       "</div>"
      ],
      "text/plain": [
       "   adhesion  bare_nuclei  bland_chromatin  clump_Thickness  epith_cell_Size  \\\n",
       "5  0.327143     0.373089         0.431825         0.515400         0.087032   \n",
       "8  0.328669     0.370425         0.444116         0.546717         0.094016   \n",
       "9  0.316952     0.376895         0.404553         0.523425         0.125563   \n",
       "1  0.314250     0.352945         0.492618         0.575578         0.098414   \n",
       "7  0.412672     0.390885         0.418779         0.561333         0.100570   \n",
       "2  0.417739     0.361120         0.614606         0.655643         0.037624   \n",
       "6  0.322056     0.385247         0.418613         0.478106         0.105686   \n",
       "4  0.278924     0.391723         0.545130         0.513876         0.139565   \n",
       "3  0.343432     0.390713         0.389840         0.571235         0.109268   \n",
       "0  0.278483     0.466452         0.358216         0.455988         0.055927   \n",
       "\n",
       "    mitoses  norm_nucleoli     score  unif_cell_shape  unif_cell_size  \n",
       "5  0.522212       0.210371  1.000000         0.315679        0.002296  \n",
       "8  0.506551       0.205072  1.000000         0.317423       -0.032023  \n",
       "9  0.524805       0.201938  1.000000         0.348482       -0.042026  \n",
       "1  0.473257       0.190981  0.985507         0.234983        0.052620  \n",
       "7  0.529389       0.203029  0.985294         0.301793       -0.051007  \n",
       "2  0.728801       0.356061  0.971014         0.236776       -0.077339  \n",
       "6  0.509862       0.187042  0.970588         0.404113        0.039610  \n",
       "4  0.395926       0.223788  0.941176         0.387514       -0.100560  \n",
       "3  0.734551       0.245618  0.926471         0.414698        0.020843  \n",
       "0  0.496904       0.148011  0.898551         0.285733        0.127412  "
      ]
     },
     "execution_count": 73,
     "metadata": {},
     "output_type": "execute_result"
    }
   ],
   "source": [
    "from sklearn.model_selection import KFold\n",
    "from sklearn.metrics import confusion_matrix\n",
    "\n",
    "kf = KFold(n_splits=10)\n",
    "kf.get_n_splits(X)\n",
    "\n",
    "C=1e10\n",
    "\n",
    "split_info = []\n",
    "\n",
    "for train_index, test_index in kf.split(X):\n",
    "    \n",
    "    X_train, X_test = X.iloc[train_index], X.iloc[test_index]\n",
    "    y_train, y_test = y[train_index], y[test_index]\n",
    "    \n",
    "    model = LogisticRegression(C=C)\n",
    "    model.fit(X_train, y_train)\n",
    " \n",
    "    predictions = model.predict(X_test)\n",
    "    coeficients = model.coef_\n",
    "    score = model.score(X_test, y_test)\n",
    "    cf_matrix = confusion_matrix(y_test, predictions)\n",
    "\n",
    "    current_split_info = {\n",
    "        # 'predictions': predictions,\n",
    "        'clump_Thickness': coeficients[0][0],\n",
    "        'unif_cell_size': coeficients[0][1],\n",
    "        'unif_cell_shape': coeficients[0][2],\n",
    "        'adhesion': coeficients[0][3],\n",
    "        'epith_cell_Size': coeficients[0][4],\n",
    "        'bare_nuclei': coeficients[0][5],\n",
    "        'bland_chromatin': coeficients[0][6],\n",
    "        'norm_nucleoli': coeficients[0][7],\n",
    "        'mitoses': coeficients[0][8],\n",
    "        'score': score\n",
    "        #'cf_matrix': cf_matrix\n",
    "    }\n",
    "    \n",
    "    split_info.append(current_split_info)\n",
    "    \n",
    "results = pd.DataFrame(split_info)\n",
    "results.sort_values('score', ascending=False)"
   ]
  },
  {
   "cell_type": "code",
   "execution_count": 67,
   "metadata": {},
   "outputs": [
    {
     "name": "stderr",
     "output_type": "stream",
     "text": [
      "/home/ubuntu/anaconda3/lib/python3.6/site-packages/matplotlib/font_manager.py:1297: UserWarning: findfont: Font family ['sans-serif'] not found. Falling back to DejaVu Sans\n",
      "  (prop.get_family(), self.defaultFamily[fontext]))\n"
     ]
    },
    {
     "data": {
      "text/plain": [
       "<matplotlib.axes._subplots.AxesSubplot at 0x7ff2e63e3c88>"
      ]
     },
     "execution_count": 67,
     "metadata": {},
     "output_type": "execute_result"
    },
    {
     "data": {
      "image/png": "[encoded data removed]",
      "text/plain": [
       "<matplotlib.figure.Figure at 0x7ff2e61e03c8>"
      ]
     },
     "metadata": {},
     "output_type": "display_data"
    }
   ],
   "source": [
    "sns.heatmap(results.loc[0,'cf_matrix'], annot=True)"
   ]
  },
  {
   "cell_type": "markdown",
   "metadata": {},
   "source": [
    "* ¿Cuál es la performance de este modelo?"
   ]
  },
  {
   "cell_type": "code",
   "execution_count": 68,
   "metadata": {},
   "outputs": [
    {
     "data": {
      "text/html": [
       "<div>\n",
       "<style>\n",
       "    .dataframe thead tr:only-child th {\n",
       "        text-align: right;\n",
       "    }\n",
       "\n",
       "    .dataframe thead th {\n",
       "        text-align: left;\n",
       "    }\n",
       "\n",
       "    .dataframe tbody tr th {\n",
       "        vertical-align: top;\n",
       "    }\n",
       "</style>\n",
       "<table border=\"1\" class=\"dataframe\">\n",
       "  <thead>\n",
       "    <tr style=\"text-align: right;\">\n",
       "      <th></th>\n",
       "      <th>score</th>\n",
       "    </tr>\n",
       "  </thead>\n",
       "  <tbody>\n",
       "    <tr>\n",
       "      <th>count</th>\n",
       "      <td>10.000000</td>\n",
       "    </tr>\n",
       "    <tr>\n",
       "      <th>mean</th>\n",
       "      <td>0.967860</td>\n",
       "    </tr>\n",
       "    <tr>\n",
       "      <th>std</th>\n",
       "      <td>0.034898</td>\n",
       "    </tr>\n",
       "    <tr>\n",
       "      <th>min</th>\n",
       "      <td>0.898551</td>\n",
       "    </tr>\n",
       "    <tr>\n",
       "      <th>25%</th>\n",
       "      <td>0.948529</td>\n",
       "    </tr>\n",
       "    <tr>\n",
       "      <th>50%</th>\n",
       "      <td>0.978154</td>\n",
       "    </tr>\n",
       "    <tr>\n",
       "      <th>75%</th>\n",
       "      <td>0.996377</td>\n",
       "    </tr>\n",
       "    <tr>\n",
       "      <th>max</th>\n",
       "      <td>1.000000</td>\n",
       "    </tr>\n",
       "  </tbody>\n",
       "</table>\n",
       "</div>"
      ],
      "text/plain": [
       "           score\n",
       "count  10.000000\n",
       "mean    0.967860\n",
       "std     0.034898\n",
       "min     0.898551\n",
       "25%     0.948529\n",
       "50%     0.978154\n",
       "75%     0.996377\n",
       "max     1.000000"
      ]
     },
     "execution_count": 68,
     "metadata": {},
     "output_type": "execute_result"
    }
   ],
   "source": [
    "# ? ask tincho\n",
    "results[['score']].describe()"
   ]
  },
  {
   "cell_type": "markdown",
   "metadata": {},
   "source": [
    "### 3.2 Usando  `statsmodels`"
   ]
  },
  {
   "cell_type": "markdown",
   "metadata": {
    "collapsed": true
   },
   "source": [
    "Hagamos, ahora, la partición tradicional entre train y test. Primero, agregamos el intercepto (porque `statsmodels` no lo agrega por default)."
   ]
  },
  {
   "cell_type": "code",
   "execution_count": null,
   "metadata": {
    "collapsed": true
   },
   "outputs": [],
   "source": []
  },
  {
   "cell_type": "markdown",
   "metadata": {},
   "source": [
    "Estimemos una regresión logística usando `statsmodels`."
   ]
  },
  {
   "cell_type": "code",
   "execution_count": null,
   "metadata": {
    "collapsed": true
   },
   "outputs": [],
   "source": []
  },
  {
   "cell_type": "markdown",
   "metadata": {},
   "source": [
    "Obtengamos la matriz de clasificación en el test set."
   ]
  },
  {
   "cell_type": "code",
   "execution_count": null,
   "metadata": {
    "collapsed": true
   },
   "outputs": [],
   "source": []
  },
  {
   "cell_type": "markdown",
   "metadata": {},
   "source": [
    "¿Cómo funciona el modelo en el test set?"
   ]
  },
  {
   "cell_type": "code",
   "execution_count": null,
   "metadata": {
    "collapsed": true
   },
   "outputs": [],
   "source": []
  },
  {
   "cell_type": "markdown",
   "metadata": {},
   "source": [
    "### 3.2 Usando (de nuevo) `sklearn`\n",
    "\n",
    "Repliquemos, ahora el ejercicio con `sklearn`. \n",
    "\n",
    "** ADVERTENCIA **\n",
    "\n",
    "Recuerden dropear la primera columna de `X_train` y `X_test` (porque agregamos un intercepto). Y, además, dado que `LogisticRegression` aplica un parámetro de regularización por defecto es importante setear el parámetro de la siguiente forma `C=1e10` (es decir, en valores altos)."
   ]
  },
  {
   "cell_type": "code",
   "execution_count": null,
   "metadata": {
    "collapsed": true
   },
   "outputs": [],
   "source": []
  },
  {
   "cell_type": "markdown",
   "metadata": {},
   "source": [
    "## 4. Análisis e interpretación"
   ]
  },
  {
   "cell_type": "markdown",
   "metadata": {},
   "source": [
    "* ¿Qué pueden decir de este modelo?\n",
    "* ¿Cómo funciona el ajuste del mismo?\n",
    "* ¿Cuáles son las principales variables predictoras del tipo de tumor?"
   ]
  },
  {
   "cell_type": "code",
   "execution_count": null,
   "metadata": {
    "collapsed": true
   },
   "outputs": [],
   "source": []
  },
  {
   "cell_type": "markdown",
   "metadata": {},
   "source": [
    "## 5. Comparación con KNN\n",
    "\n",
    "Con el mismo split entre train y test que generaron anteriormente, utilizar el conjunto de train para estimar un modelo de KNN con hiperparámetros óptimos y comparar la performance sobre datos no observados con respecto a la regresión logística. "
   ]
  },
  {
   "cell_type": "code",
   "execution_count": null,
   "metadata": {
    "collapsed": true
   },
   "outputs": [],
   "source": []
  }
 ],
 "metadata": {
  "kernelspec": {
   "display_name": "Python 3",
   "language": "python",
   "name": "python3"
  },
  "language_info": {
   "codemirror_mode": {
    "name": "ipython",
    "version": 3
   },
   "file_extension": ".py",
   "mimetype": "text/x-python",
   "name": "python",
   "nbconvert_exporter": "python",
   "pygments_lexer": "ipython3",
   "version": "3.6.1"
  }
 },
 "nbformat": 4,
 "nbformat_minor": 2
}
