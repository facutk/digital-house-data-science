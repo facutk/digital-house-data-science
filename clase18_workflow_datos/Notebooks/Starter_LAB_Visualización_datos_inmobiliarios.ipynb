{
 "cells": [
  {
   "cell_type": "markdown",
   "metadata": {},
   "source": [
    "# Importar librerias y cargar datos\n",
    "\n",
    "Un buen primer paso al encontrarme con un nuevo dataset, es hacer análisis exploratorio, comenzando con algunos gráficos.\n",
    "\n",
    "Vamos a analizar un dataset con datos inmobiliarios, específicamente precios de casas en los suburbios de Boston.\n",
    "\n",
    "En este link (https://archive.ics.uci.edu/ml/machine-learning-databases/housing/housing.names) podemos ver una descripción detallada del dataset.\n"
   ]
  },
  {
   "cell_type": "code",
   "execution_count": null,
   "metadata": {
    "collapsed": true
   },
   "outputs": [],
   "source": [
    "import pandas as pd\n",
    "import seaborn as sns\n",
    "%matplotlib inline"
   ]
  },
  {
   "cell_type": "code",
   "execution_count": null,
   "metadata": {},
   "outputs": [],
   "source": [
    "# Bajo los datos del repositorio público\n"
   ]
  },
  {
   "cell_type": "code",
   "execution_count": null,
   "metadata": {
    "collapsed": true
   },
   "outputs": [],
   "source": [
    "# los datos vienen sin header, lo agrego manualmente"
   ]
  },
  {
   "cell_type": "code",
   "execution_count": null,
   "metadata": {},
   "outputs": [],
   "source": [
    "# leo un csv y lo cargo en una variable\n",
    "\n",
    "# miro las primeras filas\n"
   ]
  },
  {
   "cell_type": "markdown",
   "metadata": {},
   "source": [
    "### Check pandas: Cuántas filas tiene el dataset?"
   ]
  },
  {
   "cell_type": "code",
   "execution_count": null,
   "metadata": {},
   "outputs": [],
   "source": [
    "# imprimo el numero de filas del dataset"
   ]
  },
  {
   "cell_type": "markdown",
   "metadata": {},
   "source": [
    "## Visualización del Dataset\n",
    "\n",
    "Existen muchas formas de hacer visualizaciones en python, usando `pandas`, `matplotlib`, o `seaborn` por ejemplo. \n",
    "\n",
    "Es interesante `seaborn` por su integración con pandas y su estilo mejorado.\n",
    "\n",
    "Primero usamos `pandas` para graficar la distribución de las variables numéricas del dataset."
   ]
  },
  {
   "cell_type": "markdown",
   "metadata": {},
   "source": [
    "#### Usemos pandas para hacer un grafico de dispersion de crimen (columna \"CRIM\") versus el valor de las casas (\"MEDV\")"
   ]
  },
  {
   "cell_type": "code",
   "execution_count": null,
   "metadata": {},
   "outputs": [],
   "source": [
    "data.plot(x='CRIM', y='MEDV', kind ='scatter')"
   ]
  },
  {
   "cell_type": "markdown",
   "metadata": {},
   "source": [
    "## Cómo haría este gráfico con matplotlib?"
   ]
  },
  {
   "cell_type": "code",
   "execution_count": null,
   "metadata": {},
   "outputs": [],
   "source": [
    "# importo la libreria\n",
    "from matplotlib import pyplot as plt\n",
    "\n",
    "# Plot using matplotlib\n"
   ]
  },
  {
   "cell_type": "markdown",
   "metadata": {},
   "source": [
    "### Ejercicio\n",
    "\n",
    "Ejericio 1: Usando `pandas` o `matplotlib` hacer otros graficos de dispersion e identificar variables que correlacionen con el precio."
   ]
  },
  {
   "cell_type": "markdown",
   "metadata": {},
   "source": [
    "### Pairplots de seaborn\n",
    "\n",
    "Ahora probarmos `seaborn` para hacer gráficos de dispersión de todos contra todos.\n",
    "\n",
    "Vemos la potencia de esta libreria para ver de un pantallazo las relaciones entre las variables numéricas."
   ]
  },
  {
   "cell_type": "code",
   "execution_count": null,
   "metadata": {},
   "outputs": [],
   "source": []
  },
  {
   "cell_type": "code",
   "execution_count": null,
   "metadata": {},
   "outputs": [],
   "source": []
  },
  {
   "cell_type": "code",
   "execution_count": null,
   "metadata": {},
   "outputs": [],
   "source": []
  },
  {
   "cell_type": "markdown",
   "metadata": {},
   "source": [
    "### Ejercicios extra\n",
    "\n",
    "Ejercicio 2: Mejorar los gráficos incluyendo las unidades en los labels.\n",
    "\n",
    "Ejercicio 3: Experimentar con otros parámetros para los pairplots de `seaborn`\n",
    "\n",
    "Ejercicio 4: Buscar correlaciones visualmente contra otra variable, diferente de 'MEDV' e intentar interpretar"
   ]
  },
  {
   "cell_type": "code",
   "execution_count": null,
   "metadata": {
    "collapsed": true
   },
   "outputs": [],
   "source": []
  }
 ],
 "metadata": {
  "kernelspec": {
   "display_name": "Python 3",
   "language": "python",
   "name": "python3"
  },
  "language_info": {
   "codemirror_mode": {
    "name": "ipython",
    "version": 3
   },
   "file_extension": ".py",
   "mimetype": "text/x-python",
   "name": "python",
   "nbconvert_exporter": "python",
   "pygments_lexer": "ipython3",
   "version": "3.6.1"
  }
 },
 "nbformat": 4,
 "nbformat_minor": 1
}
