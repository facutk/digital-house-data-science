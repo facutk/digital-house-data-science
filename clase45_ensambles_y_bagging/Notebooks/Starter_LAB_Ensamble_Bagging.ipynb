{
 "cells": [
  {
   "cell_type": "markdown",
   "metadata": {},
   "source": [
    "# LAB: Árboles de decisión y Bagging"
   ]
  },
  {
   "cell_type": "markdown",
   "metadata": {},
   "source": [
    "## Introducción\n",
    "\n",
    "En este lab compararemos el rendimiento de un clasificador de árbol de decisión simple con un clasificador de Bagging. Lo haremos en pocos datasets, empezando por los ofrecidos por Scikit Learn.\n",
    "\n",
    "Como ya hemos aprendido, el data science es un proceso iterativo. A menudo comenzamos con un modelo muy simple y luego tratamos de mejorar su rendimiento o encontrar mejores modelos para comparar con el inicial.\n",
    "\n",
    "Este es exactamente el proceso que seguiremos en este laboratorio. Comenzaremos con un modelo simple (Árbol de decisión) y luego compararemos su rendimiento con un modelo Ensamble más complejo.\n",
    "\n",
    "Usaremos dos datasets:\n",
    "\n",
    "- para clasificación utilizaremos el [dataset de Cáncer de mama](http://archive.ics.uci.edu/ml/datasets/Breast+Cancer+Wisconsin+(Diagnostic). Trataremos de diagnosticar un cáncer de mama a partir de pocas características del núcleo celular\n",
    "\n",
    "- para regressión utilizaremos el [dataset de Diabetes](http://web.stanford.edu/~hastie/Papers/LARS/LeastAngle_2002.pdf), donde trataremos de obtener una medida cuantitativa de la progresión de la enfermedad un año después de la línea de base de 10 variables basales."
   ]
  },
  {
   "cell_type": "markdown",
   "metadata": {},
   "source": [
    "## Ejercicio\n",
    "\n",
    "### Requisitos\n",
    "\n",
    "1. Usando el dataset de Cáncer de mama, inicializar un clasificador de árbol de decisión y utilizar cross_val_score para evaluar su rendimiento\n",
    "    - Compare el rendimiento con el clasificador de Bagging\n",
    "    - Usar pipelines y escalado para ver si el rendimiento mejora\n",
    "    - Explorar el espacio de parámetros con Grid Search\n",
    "- Usando el dataset de Diabetes, inicializar un Árbol de Regresión y compararlo con un Regresor de Bagging\n",
    "    - Comparación simple usando cross_val_score\n",
    "    - Explorar el espacio de parámetros con Grid Search\n",
    "\n",
    "**Extra:**\n",
    "\n",
    "- Repetir el análisis anterior para el dataset de IMDB"
   ]
  },
  {
   "cell_type": "markdown",
   "metadata": {},
   "source": [
    "## Recursos Adicionales\n",
    "\n",
    "- [Validación cruzada en el ejemplo de Diabetes](http://scikit-learn.org/stable/auto_examples/exercises/plot_cv_diabetes.html)\n",
    "- [paper del dataset de Diabetes](http://web.stanford.edu/~hastie/Papers/LARS/LeastAngle_2002.pdf)\n",
    "- [Clasificador Bagging](http://scikit-learn.org/stable/modules/generated/sklearn.ensemble.BaggingClassifier.html)\n",
    "- [Grid Search](http://scikit-learn.org/stable/modules/grid_search.html)"
   ]
  },
  {
   "cell_type": "markdown",
   "metadata": {},
   "source": [
    "## 1. Dataset de Cáncer de mama\n",
    "Comenzaremos la comparación con el dataset de cáncer de mama.\n",
    "Pueden leerlo directamente desde scikit-learn usando la función `load_breast_cancer`.\n",
    "\n",
    "### 1.a Comparación simple\n",
    "1. Leer los datos y crear X e y\n",
    "- Inicializar un árbol de clasificación y usar use cross_val_score para evaluar su rendimiento. Setear la validacion cruzada a 5-folds\n",
    "- Construir un clasificador de Bagging sobre un clasificador de árbol y usar cross_val_score para evaluar su rendimiento. Setear la validacion cruzada a 5-folds\n",
    "- ¿Qué resultado es mejor? ¿El resultado es significativamente diferente? ¿Cómo se puede interpretar eso?"
   ]
  },
  {
   "cell_type": "code",
   "execution_count": 1,
   "metadata": {
    "collapsed": true
   },
   "outputs": [],
   "source": [
    "import pandas as pd\n",
    "import numpy as np\n",
    "import matplotlib.pyplot as plt\n",
    "%matplotlib inline"
   ]
  },
  {
   "cell_type": "code",
   "execution_count": 5,
   "metadata": {},
   "outputs": [],
   "source": [
    "from sklearn.datasets import load_breast_cancer\n",
    "data = load_breast_cancer()\n",
    "X = data['data']\n",
    "y = data['target']"
   ]
  },
  {
   "cell_type": "code",
   "execution_count": 31,
   "metadata": {},
   "outputs": [
    {
     "name": "stdout",
     "output_type": "stream",
     "text": [
      "0.929715882627 0.022833714513\n"
     ]
    }
   ],
   "source": [
    "from sklearn.tree import DecisionTreeClassifier\n",
    "from sklearn.model_selection import KFold, cross_val_score\n",
    "\n",
    "dtr = DecisionTreeClassifier()\n",
    "folds = KFold(n_splits=5, shuffle=True, random_state=1)\n",
    "scores_dtr = cross_val_score(dtr, X, y, cv=folds, n_jobs=-1, scoring='accuracy')\n",
    "print(scores_dtr.mean(), scores_dtr.std())"
   ]
  },
  {
   "cell_type": "code",
   "execution_count": 32,
   "metadata": {
    "collapsed": true
   },
   "outputs": [],
   "source": [
    "from sklearn.ensemble import BaggingClassifier\n",
    "bgc = BaggingClassifier(DecisionTreeClassifier())"
   ]
  },
  {
   "cell_type": "code",
   "execution_count": 33,
   "metadata": {
    "collapsed": true
   },
   "outputs": [],
   "source": [
    "scores_bgc = cross_val_score(bgc, X, y, cv=folds, n_jobs=-1, scoring='accuracy')"
   ]
  },
  {
   "cell_type": "code",
   "execution_count": 34,
   "metadata": {},
   "outputs": [
    {
     "name": "stdout",
     "output_type": "stream",
     "text": [
      "0.942058686539 0.0274631215336\n"
     ]
    }
   ],
   "source": [
    "print(scores_bgc.mean(), scores_bgc.std())"
   ]
  },
  {
   "cell_type": "markdown",
   "metadata": {},
   "source": [
    "### 1.b Escalado con pipelines\n",
    "Como se puede ver, las características no están normalizadas. ¿Mejorará el resultado con normalización?\n",
    "\n",
    "1. Cree 2 pipelines, con un paso de pre-procesamiento de escalado y luego un árbol de decisión y un árbol de bagging.\n",
    "- ¿Qué resultado es mejor? ¿El resultado es significativamente diferente? ¿Cómo se puede interpretar eso?\n",
    "- ¿Los resultados son diferentes de los no escalados?"
   ]
  },
  {
   "cell_type": "code",
   "execution_count": 26,
   "metadata": {},
   "outputs": [],
   "source": [
    "from sklearn.preprocessing import scale"
   ]
  },
  {
   "cell_type": "code",
   "execution_count": 28,
   "metadata": {
    "collapsed": true
   },
   "outputs": [],
   "source": [
    "scaled_X = scale(X)"
   ]
  },
  {
   "cell_type": "code",
   "execution_count": 29,
   "metadata": {},
   "outputs": [
    {
     "name": "stdout",
     "output_type": "stream",
     "text": [
      "0.931501319671 0.0320034284393\n"
     ]
    }
   ],
   "source": [
    "dtr = DecisionTreeClassifier()\n",
    "folds = KFold(n_splits=5, shuffle=True, random_state=1)\n",
    "scores_dtr = cross_val_score(dtr, scaled_X, y, cv=folds, n_jobs=-1, scoring='accuracy')\n",
    "print(scores_dtr.mean(), scores_dtr.std())"
   ]
  },
  {
   "cell_type": "code",
   "execution_count": 30,
   "metadata": {},
   "outputs": [
    {
     "name": "stdout",
     "output_type": "stream",
     "text": [
      "0.940257723956 0.0202771272992\n"
     ]
    }
   ],
   "source": [
    "scores_bgc = cross_val_score(bgc, scaled_X, y, cv=folds, n_jobs=-1, scoring='accuracy')\n",
    "print(scores_bgc.mean(), scores_bgc.std())"
   ]
  },
  {
   "cell_type": "markdown",
   "metadata": {},
   "source": [
    "### 1.c Grid Search\n",
    "\n",
    "El Grid search es una excelente manera de mejorar el rendimiento de un clasificador. Vamos a explorar el espacio de parámetros de ambos modelos y ver si podemos mejorar su rendimiento.\n",
    "\n",
    "1. Inicializar un GridSearchCV con una validación cruzada de 5-fold para el árbol de decisión de clasificación\n",
    "- Buscar algunos valores de los parámetros para mejorar el resultado del clasificador\n",
    "- Utilizar todo el conjunto de datos X e y para la prueba\n",
    "- Comparar el best\\_score\\_ después de entrenarlo. ¿Es mejor que antes?\n",
    "- ¿Cómo se compara el resultado de la Grid Search del árbol de decisión con la del árbol de Bagging?\n",
    "- Inicializar un GridSearchCV con validación cruzada de 5-fold para el clasificador de árbol de Bagging\n",
    "- Repetir la búsqueda\n",
    "    - Tener en cuenta que hay que cambiar los nombres de los parámetros para el base_estimator\n",
    "    - Tener en cuenta que también hay parámetros adicionales para cambiar\n",
    "    - Tener en cuenta que puede terminar con un espacio de búsqueda muy grande y demandará mucho tiempo\n",
    "    - Utilizar el parámetro n_jobs para acelerar la búsqueda\n",
    "\n",
    "- ¿Mejora el resultado para el clasificador de Bagging?\n",
    "- ¿Qué resultado es mejor? ¿El resultado es significativamente diferente? ¿Cómo se puede interpretar esto?\n"
   ]
  },
  {
   "cell_type": "code",
   "execution_count": null,
   "metadata": {
    "collapsed": true
   },
   "outputs": [],
   "source": []
  },
  {
   "cell_type": "markdown",
   "metadata": {},
   "source": [
    "## 2 Diabetes y regresión\n",
    "\n",
    "Scikit Learn tiene un dataset de pacientes diabéticos obtenido de este estudio:\n",
    "\n",
    "http://www4.stat.ncsu.edu/~boos/var.select/diabetes.html\n",
    "http://web.stanford.edu/~hastie/Papers/LARS/LeastAngle_2002.pdf\n",
    "\n",
    "Se midieron 442 pacientes diabéticos en 10 variables basales: edad, sexo, índice de masa corporal, presión arterial media y seis mediciones del suero sanguíneo.\n",
    "\n",
    "El objetivo es una medida cuantitativa de la progresión de la enfermedad un año después de la línea de base.\n",
    "\n",
    "Repita la comparación anterior entre un DecisionTreeRegressor y una versión de Bagging del mismo."
   ]
  },
  {
   "cell_type": "markdown",
   "metadata": {},
   "source": [
    "### 2.a Comparación simple\n",
    "1. Leer los datos y crear X e y\n",
    "- Inicializar un Árbol de Regresión y utilizar cross_val_score para evaluar su rendimiento. Establecer la validación cruzada en 5-fold. ¿Qué medida de evaluación utilizará?\n",
    "- Construir un Árbol de Regresión con Bagging y usar cross_val_score para evaluar su rendimiento. Establecer la validación cruzada en 5-fold.\n",
    "- ¿Qué resultado es mejor? ¿El resultado es significativamente diferente? ¿Cómo se puede interpretar esto?\n"
   ]
  },
  {
   "cell_type": "code",
   "execution_count": null,
   "metadata": {
    "collapsed": true
   },
   "outputs": [],
   "source": []
  },
  {
   "cell_type": "markdown",
   "metadata": {},
   "source": [
    "### 2.b Grid Search\n",
    "\n",
    "Repetir el Grid search como arriba:\n",
    "\n",
    "1. Inicializar un GridSearchCV con 5-fold de validación cruzada para el árbol de Regresión\n",
    "- Buscar unos pocos valores de los parámetros para mejorar el resultado del regresor\n",
    "- Utilizar todo el set de datos X e y para la prueba\n",
    "- Comparar el best\\_score\\_ después de entrenarlo. ¿Es mejor que antes?\n",
    "- ¿Cómo se compara el resultado del Grid Search del árbol de decisión con la del árbol de Bagging?\n",
    "- Inicializar un GridSearchCV con validación cruzada de 5-fold para el árbol de Regresión de Bagging\n",
    "- Repetir la búsqueda\n",
    "\n",
    "    - Tener en cuenta que hay que cambiar los nombres de los parámetros para el base_estimator\n",
    "    - Tener en cuenta que también hay parámetros adicionales para probar\n",
    "    - Tener en cuenta que puede terminar con un espacio de búsqueda muy grande y demandará mucho tiempo\n",
    "    - Utilizar el parámetro n_jobs para acelerar la búsqueda\n",
    "\n",
    "- ¿Mejora el resultado para el Bagging de Regresión?\n",
    "- ¿Qué resultado es mejor? ¿El resultado es significativamente diferente? ¿Cómo se puede interpretar esto?\n"
   ]
  },
  {
   "cell_type": "code",
   "execution_count": null,
   "metadata": {
    "collapsed": true
   },
   "outputs": [],
   "source": []
  }
 ],
 "metadata": {
  "kernelspec": {
   "display_name": "Python 3",
   "language": "python",
   "name": "python3"
  },
  "language_info": {
   "codemirror_mode": {
    "name": "ipython",
    "version": 3
   },
   "file_extension": ".py",
   "mimetype": "text/x-python",
   "name": "python",
   "nbconvert_exporter": "python",
   "pygments_lexer": "ipython3",
   "version": "3.6.1"
  }
 },
 "nbformat": 4,
 "nbformat_minor": 1
}
