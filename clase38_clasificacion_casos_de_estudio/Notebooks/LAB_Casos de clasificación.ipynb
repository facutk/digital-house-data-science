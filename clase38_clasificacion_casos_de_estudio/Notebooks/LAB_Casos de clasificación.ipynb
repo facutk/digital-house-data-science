{
 "cells": [
  {
   "cell_type": "markdown",
   "metadata": {},
   "source": [
    "## LAB: Casos de clasificación\n",
    "\n",
    "Lo idea de este lab es que repliques un de los casos, agrupándote con algunos compañeros. Organicensé de tal forma que todos los casos queden cubiertos, los datos están en el campus!\n",
    "\n",
    "A modo de guía, pueden:\n",
    "\n",
    "* Identificar cuál es el propósito del estudio, cuál es la problemática o la dimensión que aborda.\n",
    "* ¿En qué datos se basa? ¿Es posible identificar la variable target facilmente? ¿Cuál es?\n",
    "* ¿Qué secuencia implementan para realizar el estudio?\n",
    "    * ¿Qué modelos implementa?\n",
    "    * ¿Cuál es el método de evaluación? ¿Define criterio de éxito asociado?\n",
    "    * ¿Qué harías distinto?"
   ]
  },
  {
   "cell_type": "code",
   "execution_count": 1,
   "metadata": {
    "collapsed": true
   },
   "outputs": [],
   "source": [
    "# Carga del dataset\n"
   ]
  },
  {
   "cell_type": "code",
   "execution_count": 2,
   "metadata": {
    "collapsed": true
   },
   "outputs": [],
   "source": [
    "# Análisis exploratorio de los datos\n"
   ]
  },
  {
   "cell_type": "code",
   "execution_count": 3,
   "metadata": {
    "collapsed": true
   },
   "outputs": [],
   "source": [
    "# Importa los recursos necesarios\n"
   ]
  },
  {
   "cell_type": "code",
   "execution_count": 7,
   "metadata": {
    "collapsed": true
   },
   "outputs": [],
   "source": [
    "# Si lo consideras necesario, incorpora herramientas de pre-processing y feature extraction\n"
   ]
  },
  {
   "cell_type": "code",
   "execution_count": 4,
   "metadata": {
    "collapsed": true
   },
   "outputs": [],
   "source": [
    "# Instancia los modelos\n"
   ]
  },
  {
   "cell_type": "code",
   "execution_count": 5,
   "metadata": {
    "collapsed": true
   },
   "outputs": [],
   "source": [
    "# Define un Grid, métodos de CV y/o de evaluación\n"
   ]
  },
  {
   "cell_type": "code",
   "execution_count": 6,
   "metadata": {
    "collapsed": true
   },
   "outputs": [],
   "source": [
    "# A partir del mejor modelo, testea resultados\n"
   ]
  },
  {
   "cell_type": "code",
   "execution_count": 8,
   "metadata": {
    "collapsed": true
   },
   "outputs": [],
   "source": [
    "# ¿Qué puedes añadir respecto del estudio original?\n"
   ]
  },
  {
   "cell_type": "code",
   "execution_count": null,
   "metadata": {
    "collapsed": true
   },
   "outputs": [],
   "source": []
  }
 ],
 "metadata": {
  "kernelspec": {
   "display_name": "Python 3",
   "language": "python",
   "name": "python3"
  },
  "language_info": {
   "codemirror_mode": {
    "name": "ipython",
    "version": 3
   },
   "file_extension": ".py",
   "mimetype": "text/x-python",
   "name": "python",
   "nbconvert_exporter": "python",
   "pygments_lexer": "ipython3",
   "version": "3.6.1"
  }
 },
 "nbformat": 4,
 "nbformat_minor": 2
}
