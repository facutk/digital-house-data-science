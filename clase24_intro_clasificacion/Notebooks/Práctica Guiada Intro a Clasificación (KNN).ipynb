{
 "cells": [
  {
   "cell_type": "markdown",
   "metadata": {},
   "source": [
    "# PRACTICA GUIADA: KNN\n",
    "\n",
    "## Introducción\n",
    "\n",
    "En esta práctica vamos utilizar a KNN para resolver un problema de clasificación.\n",
    "Vamos a realizar los siguientes pasos:\n",
    "\n",
    "1. Cargar el dataset\n",
    "2. Preparar la matriz de features y el vector de targets\n",
    "3. Elegir el valor óptimo para el hiperparámetro n_neighbours utilizando CROSS VALIDATION\n",
    "4. Repetir el proceso pero estandarizando la matriz de features para ver los efectos sobre el algoritmo \n",
    "5. Matriz de confusión"
   ]
  },
  {
   "cell_type": "markdown",
   "metadata": {},
   "source": [
    "## 1 - Importar el dataset\n",
    "\n",
    "El dataset market.csv contiene datos de las acciones que conforman el índice S & P 500 tomados de la web de Yahoo Finance entre los años 2000 y 2001.\n",
    "\n",
    "A continuación una descripción de las columnas:\n",
    "\n",
    "* **Lag1:** Percentage return for previous day\n",
    "* **Lag2:** Percentage return for 2 days previous\n",
    "* **Lag3:** Percentage return for 3 days previous\n",
    "* **Lag4:** Percentage return for 4 days previous\n",
    "* **Lag5:** Percentage return for 5 days previous\n",
    "* **Volume:** Volume of shares traded (number of daily shares traded in billions)\n",
    "* **Today:** Percentage return for today\n",
    "* **Direction:** A factor with levels Down and Up indicating whether the market had a positive or negative\n",
    "return on a given day\n"
   ]
  },
  {
   "cell_type": "code",
   "execution_count": 3,
   "metadata": {
    "collapsed": true
   },
   "outputs": [],
   "source": [
    "import pandas as pd\n",
    "import numpy as np"
   ]
  },
  {
   "cell_type": "code",
   "execution_count": 4,
   "metadata": {
    "collapsed": true
   },
   "outputs": [],
   "source": [
    "import pandas as pd\n",
    "from sklearn.model_selection import train_test_split\n",
    "from sklearn.neighbors import KNeighborsClassifier\n",
    "from sklearn.metrics import confusion_matrix"
   ]
  },
  {
   "cell_type": "code",
   "execution_count": 5,
   "metadata": {
    "collapsed": true
   },
   "outputs": [],
   "source": [
    "df = pd.read_csv('../Data/market.csv')"
   ]
  },
  {
   "cell_type": "code",
   "execution_count": 6,
   "metadata": {},
   "outputs": [
    {
     "data": {
      "text/html": [
       "<div>\n",
       "<style>\n",
       "    .dataframe thead tr:only-child th {\n",
       "        text-align: right;\n",
       "    }\n",
       "\n",
       "    .dataframe thead th {\n",
       "        text-align: left;\n",
       "    }\n",
       "\n",
       "    .dataframe tbody tr th {\n",
       "        vertical-align: top;\n",
       "    }\n",
       "</style>\n",
       "<table border=\"1\" class=\"dataframe\">\n",
       "  <thead>\n",
       "    <tr style=\"text-align: right;\">\n",
       "      <th></th>\n",
       "      <th>Lag1</th>\n",
       "      <th>Lag2</th>\n",
       "      <th>Lag3</th>\n",
       "      <th>Lag4</th>\n",
       "      <th>Lag5</th>\n",
       "      <th>Volume</th>\n",
       "      <th>Today</th>\n",
       "      <th>Direction</th>\n",
       "    </tr>\n",
       "  </thead>\n",
       "  <tbody>\n",
       "    <tr>\n",
       "      <th>310</th>\n",
       "      <td>1133.0</td>\n",
       "      <td>-666.0</td>\n",
       "      <td>228.0</td>\n",
       "      <td>-321.0</td>\n",
       "      <td>84.0</td>\n",
       "      <td>1.44790</td>\n",
       "      <td>-2369.0</td>\n",
       "      <td>Down</td>\n",
       "    </tr>\n",
       "    <tr>\n",
       "      <th>228</th>\n",
       "      <td>-1587.0</td>\n",
       "      <td>-753.0</td>\n",
       "      <td>-278.0</td>\n",
       "      <td>2232.0</td>\n",
       "      <td>1319.0</td>\n",
       "      <td>1.21870</td>\n",
       "      <td>-278.0</td>\n",
       "      <td>Down</td>\n",
       "    </tr>\n",
       "    <tr>\n",
       "      <th>370</th>\n",
       "      <td>3673.0</td>\n",
       "      <td>622.0</td>\n",
       "      <td>-2123.0</td>\n",
       "      <td>-2139.0</td>\n",
       "      <td>-83.0</td>\n",
       "      <td>0.69940</td>\n",
       "      <td>-1218.0</td>\n",
       "      <td>Down</td>\n",
       "    </tr>\n",
       "    <tr>\n",
       "      <th>1115</th>\n",
       "      <td>-71.0</td>\n",
       "      <td>495.0</td>\n",
       "      <td>363.0</td>\n",
       "      <td>222.0</td>\n",
       "      <td>257.0</td>\n",
       "      <td>1.71453</td>\n",
       "      <td>-205.0</td>\n",
       "      <td>Down</td>\n",
       "    </tr>\n",
       "    <tr>\n",
       "      <th>999</th>\n",
       "      <td>-812.0</td>\n",
       "      <td>-134.0</td>\n",
       "      <td>8.0</td>\n",
       "      <td>-7.0</td>\n",
       "      <td>715.0</td>\n",
       "      <td>1.51080</td>\n",
       "      <td>-1167.0</td>\n",
       "      <td>Down</td>\n",
       "    </tr>\n",
       "  </tbody>\n",
       "</table>\n",
       "</div>"
      ],
      "text/plain": [
       "        Lag1   Lag2    Lag3    Lag4    Lag5   Volume   Today Direction\n",
       "310   1133.0 -666.0   228.0  -321.0    84.0  1.44790 -2369.0      Down\n",
       "228  -1587.0 -753.0  -278.0  2232.0  1319.0  1.21870  -278.0      Down\n",
       "370   3673.0  622.0 -2123.0 -2139.0   -83.0  0.69940 -1218.0      Down\n",
       "1115   -71.0  495.0   363.0   222.0   257.0  1.71453  -205.0      Down\n",
       "999   -812.0 -134.0     8.0    -7.0   715.0  1.51080 -1167.0      Down"
      ]
     },
     "execution_count": 6,
     "metadata": {},
     "output_type": "execute_result"
    }
   ],
   "source": [
    "df.sample(5)"
   ]
  },
  {
   "cell_type": "markdown",
   "metadata": {},
   "source": [
    "## 2 - Construimos la matriz de features y el vector de targets"
   ]
  },
  {
   "cell_type": "code",
   "execution_count": 7,
   "metadata": {},
   "outputs": [
    {
     "data": {
      "text/plain": [
       "Index(['Lag1', 'Lag2', 'Lag3', 'Lag4', 'Lag5', 'Volume', 'Today', 'Direction'], dtype='object')"
      ]
     },
     "execution_count": 7,
     "metadata": {},
     "output_type": "execute_result"
    }
   ],
   "source": [
    "df.columns"
   ]
  },
  {
   "cell_type": "code",
   "execution_count": 8,
   "metadata": {
    "collapsed": true
   },
   "outputs": [],
   "source": [
    "# Construimos la matriz de features, subseteando el DataFrame para que no contenga la clase, Direction\n",
    "X = df[['Lag1', 'Lag2', 'Lag3', 'Lag4', 'Lag5']]"
   ]
  },
  {
   "cell_type": "code",
   "execution_count": null,
   "metadata": {
    "collapsed": true
   },
   "outputs": [],
   "source": []
  },
  {
   "cell_type": "markdown",
   "metadata": {},
   "source": [
    "#### Haciendo numérico el vector de targets\n",
    "El vector de targets vino codificado con los posibles valores de 'Up' o 'Down' pero recordemos que scikitlearn sólo acepta valores numéricos (aún si estos representan clases) por lo tanto siempre tenemos que darle una etiqueta numérica a las clases, ya sea que tomen dos posibles valores o más.\n",
    "Eso lo hacemos con la clase LabelEncoder()"
   ]
  },
  {
   "cell_type": "code",
   "execution_count": 9,
   "metadata": {},
   "outputs": [
    {
     "data": {
      "text/plain": [
       "array([1, 1, 0, ..., 1, 0, 0])"
      ]
     },
     "execution_count": 9,
     "metadata": {},
     "output_type": "execute_result"
    }
   ],
   "source": [
    "# Construimos el vector de targets\n",
    "from sklearn import preprocessing\n",
    "le = preprocessing.LabelEncoder()\n",
    "y =  le.fit_transform(df['Direction'])\n",
    "y"
   ]
  },
  {
   "cell_type": "markdown",
   "metadata": {},
   "source": [
    "## 3 - Evaluamos distintos valores para el hiperparámetro\n",
    "\n",
    "Ahora vamos a ejecutar el modelo KNeighborsClassifier probando distintos valores posibles para el hiperparámetro n_neighbors.\n"
   ]
  },
  {
   "cell_type": "code",
   "execution_count": 10,
   "metadata": {
    "collapsed": true
   },
   "outputs": [],
   "source": [
    "from sklearn.model_selection import cross_val_score\n",
    "\n",
    "# Voy a querer graficar los distintos valores del score de cross validation en función del hiperparámetro n_neighbors\n",
    "# Para esto voy a generar una lista de diccionarios que después se puede convertir fácilmente en DataFrame\n",
    "\n",
    "#Lista de Diccionarios\n",
    "scores_para_df = []\n",
    "\n",
    "# range(1,40,5) son los posibles valores de n_neighbors que quiero explorar. Son todos los enteros desde el 1\n",
    "# hasta el 40 en saltos de a 5. (Start,Stop,Step)\n",
    "for i in range(1,100,5):\n",
    "    # En cada iteración instanciamos el modelo con un hiperparámetro distinto\n",
    "    model = KNeighborsClassifier(n_neighbors=i)\n",
    "    \n",
    "    # cross_val_scores nos devuelve un array de 5 resultados, uno por cada partición que hizo automáticamente CV  \n",
    "    cv_scores = cross_val_score(model, X, y, cv=5)\n",
    "    \n",
    "    # Para cada valor de n_neighbours, creo un diccionario con el valor de n_neighbours y la media y el desvío de los scores.\n",
    "    dict_row_score = {'score_medio':np.mean(cv_scores),'score_std':np.std(cv_scores),'n_neighbours':i}\n",
    "    \n",
    "    # Guardo cada uno en la lista de diccionarios\n",
    "    scores_para_df.append(dict_row_score)"
   ]
  },
  {
   "cell_type": "code",
   "execution_count": 11,
   "metadata": {},
   "outputs": [
    {
     "data": {
      "text/plain": [
       "[{'n_neighbours': 1,\n",
       "  'score_medio': 0.50013108689739039,\n",
       "  'score_std': 0.047462879249597571},\n",
       " {'n_neighbours': 6,\n",
       "  'score_medio': 0.48403809340949461,\n",
       "  'score_std': 0.024568246196812721},\n",
       " {'n_neighbours': 11,\n",
       "  'score_medio': 0.50806073697179155,\n",
       "  'score_std': 0.031358576175147167},\n",
       " {'n_neighbours': 16,\n",
       "  'score_medio': 0.50086392422278758,\n",
       "  'score_std': 0.023810245433530986},\n",
       " {'n_neighbours': 21,\n",
       "  'score_medio': 0.51123845181522909,\n",
       "  'score_std': 0.025397268795112643},\n",
       " {'n_neighbours': 26,\n",
       "  'score_medio': 0.51047682682922935,\n",
       "  'score_std': 0.034266916752113206},\n",
       " {'n_neighbours': 31,\n",
       "  'score_medio': 0.50801603865661848,\n",
       "  'score_std': 0.023255001341725746},\n",
       " {'n_neighbours': 36,\n",
       "  'score_medio': 0.51764171586745389,\n",
       "  'score_std': 0.036007670799688286},\n",
       " {'n_neighbours': 41,\n",
       "  'score_medio': 0.53682917166674671,\n",
       "  'score_std': 0.018855286941630078},\n",
       " {'n_neighbours': 46,\n",
       "  'score_medio': 0.53920678410854583,\n",
       "  'score_std': 0.022334689287494016},\n",
       " {'n_neighbours': 51,\n",
       "  'score_medio': 0.54321642266276249,\n",
       "  'score_std': 0.030616983642426873},\n",
       " {'n_neighbours': 56,\n",
       "  'score_medio': 0.5272066049056785,\n",
       "  'score_std': 0.025795083612075196},\n",
       " {'n_neighbours': 61,\n",
       "  'score_medio': 0.52482259236147777,\n",
       "  'score_std': 0.031393319230471096},\n",
       " {'n_neighbours': 66,\n",
       "  'score_medio': 0.52240339205427289,\n",
       "  'score_std': 0.020190931467126139},\n",
       " {'n_neighbours': 71,\n",
       "  'score_medio': 0.51842254116065856,\n",
       "  'score_std': 0.021095855145147856},\n",
       " {'n_neighbours': 76,\n",
       "  'score_medio': 0.51041922590761446,\n",
       "  'score_std': 0.020102520820672064},\n",
       " {'n_neighbours': 81,\n",
       "  'score_medio': 0.50396157378518058,\n",
       "  'score_std': 0.017983667181672623},\n",
       " {'n_neighbours': 86,\n",
       "  'score_medio': 0.52157774044384708,\n",
       "  'score_std': 0.022571819032740029},\n",
       " {'n_neighbours': 91,\n",
       "  'score_medio': 0.53516517064273028,\n",
       "  'score_std': 0.016031318411980487},\n",
       " {'n_neighbours': 96,\n",
       "  'score_medio': 0.53600357125714004,\n",
       "  'score_std': 0.014317303779413775}]"
      ]
     },
     "execution_count": 11,
     "metadata": {},
     "output_type": "execute_result"
    }
   ],
   "source": [
    "scores_para_df"
   ]
  },
  {
   "cell_type": "code",
   "execution_count": 12,
   "metadata": {},
   "outputs": [
    {
     "data": {
      "text/html": [
       "<div>\n",
       "<style>\n",
       "    .dataframe thead tr:only-child th {\n",
       "        text-align: right;\n",
       "    }\n",
       "\n",
       "    .dataframe thead th {\n",
       "        text-align: left;\n",
       "    }\n",
       "\n",
       "    .dataframe tbody tr th {\n",
       "        vertical-align: top;\n",
       "    }\n",
       "</style>\n",
       "<table border=\"1\" class=\"dataframe\">\n",
       "  <thead>\n",
       "    <tr style=\"text-align: right;\">\n",
       "      <th></th>\n",
       "      <th>n_neighbours</th>\n",
       "      <th>score_medio</th>\n",
       "      <th>score_std</th>\n",
       "    </tr>\n",
       "  </thead>\n",
       "  <tbody>\n",
       "    <tr>\n",
       "      <th>3</th>\n",
       "      <td>16</td>\n",
       "      <td>0.500864</td>\n",
       "      <td>0.023810</td>\n",
       "    </tr>\n",
       "    <tr>\n",
       "      <th>5</th>\n",
       "      <td>26</td>\n",
       "      <td>0.510477</td>\n",
       "      <td>0.034267</td>\n",
       "    </tr>\n",
       "    <tr>\n",
       "      <th>4</th>\n",
       "      <td>21</td>\n",
       "      <td>0.511238</td>\n",
       "      <td>0.025397</td>\n",
       "    </tr>\n",
       "    <tr>\n",
       "      <th>16</th>\n",
       "      <td>81</td>\n",
       "      <td>0.503962</td>\n",
       "      <td>0.017984</td>\n",
       "    </tr>\n",
       "    <tr>\n",
       "      <th>0</th>\n",
       "      <td>1</td>\n",
       "      <td>0.500131</td>\n",
       "      <td>0.047463</td>\n",
       "    </tr>\n",
       "  </tbody>\n",
       "</table>\n",
       "</div>"
      ],
      "text/plain": [
       "    n_neighbours  score_medio  score_std\n",
       "3             16     0.500864   0.023810\n",
       "5             26     0.510477   0.034267\n",
       "4             21     0.511238   0.025397\n",
       "16            81     0.503962   0.017984\n",
       "0              1     0.500131   0.047463"
      ]
     },
     "execution_count": 12,
     "metadata": {},
     "output_type": "execute_result"
    }
   ],
   "source": [
    "# Creamos el DataFrame a partir de la lista de diccionarios\n",
    "df_scores = pd.DataFrame(scores_para_df)\n",
    "df_scores.sample(5)"
   ]
  },
  {
   "cell_type": "markdown",
   "metadata": {},
   "source": [
    "#### Graficando la búsqueda del mejor hiperparámetro\n",
    "\n",
    "El valor de scoring que utiliza por defecto KNeighborsClassifier es el accuracy:\n",
    "\n",
    "**\\# casos bien clasificados / # total.**\n",
    "\n",
    "Una vez que tenemos el DataFrame con la performance para cada valor del hiperparámetro hacemos un gráfico con los valores. Para darnos una idea de la dispersión vamos a graficar también las líneas que indican un desvío estándar por encima y por debajo de la media\n",
    "\n",
    "\n",
    "\n"
   ]
  },
  {
   "cell_type": "code",
   "execution_count": 13,
   "metadata": {
    "collapsed": true
   },
   "outputs": [],
   "source": [
    "df_scores['limite_inferior'] = df_scores['score_medio'] - df_scores['score_std']"
   ]
  },
  {
   "cell_type": "code",
   "execution_count": 14,
   "metadata": {
    "collapsed": true
   },
   "outputs": [],
   "source": [
    "df_scores['limite_superior'] = df_scores['score_medio'] + df_scores['score_std']"
   ]
  },
  {
   "cell_type": "code",
   "execution_count": 15,
   "metadata": {},
   "outputs": [
    {
     "data": {
      "text/html": [
       "<div>\n",
       "<style>\n",
       "    .dataframe thead tr:only-child th {\n",
       "        text-align: right;\n",
       "    }\n",
       "\n",
       "    .dataframe thead th {\n",
       "        text-align: left;\n",
       "    }\n",
       "\n",
       "    .dataframe tbody tr th {\n",
       "        vertical-align: top;\n",
       "    }\n",
       "</style>\n",
       "<table border=\"1\" class=\"dataframe\">\n",
       "  <thead>\n",
       "    <tr style=\"text-align: right;\">\n",
       "      <th></th>\n",
       "      <th>n_neighbours</th>\n",
       "      <th>score_medio</th>\n",
       "      <th>score_std</th>\n",
       "      <th>limite_inferior</th>\n",
       "      <th>limite_superior</th>\n",
       "    </tr>\n",
       "  </thead>\n",
       "  <tbody>\n",
       "    <tr>\n",
       "      <th>0</th>\n",
       "      <td>1</td>\n",
       "      <td>0.500131</td>\n",
       "      <td>0.047463</td>\n",
       "      <td>0.452668</td>\n",
       "      <td>0.547594</td>\n",
       "    </tr>\n",
       "    <tr>\n",
       "      <th>1</th>\n",
       "      <td>6</td>\n",
       "      <td>0.484038</td>\n",
       "      <td>0.024568</td>\n",
       "      <td>0.459470</td>\n",
       "      <td>0.508606</td>\n",
       "    </tr>\n",
       "    <tr>\n",
       "      <th>2</th>\n",
       "      <td>11</td>\n",
       "      <td>0.508061</td>\n",
       "      <td>0.031359</td>\n",
       "      <td>0.476702</td>\n",
       "      <td>0.539419</td>\n",
       "    </tr>\n",
       "    <tr>\n",
       "      <th>3</th>\n",
       "      <td>16</td>\n",
       "      <td>0.500864</td>\n",
       "      <td>0.023810</td>\n",
       "      <td>0.477054</td>\n",
       "      <td>0.524674</td>\n",
       "    </tr>\n",
       "    <tr>\n",
       "      <th>4</th>\n",
       "      <td>21</td>\n",
       "      <td>0.511238</td>\n",
       "      <td>0.025397</td>\n",
       "      <td>0.485841</td>\n",
       "      <td>0.536636</td>\n",
       "    </tr>\n",
       "  </tbody>\n",
       "</table>\n",
       "</div>"
      ],
      "text/plain": [
       "   n_neighbours  score_medio  score_std  limite_inferior  limite_superior\n",
       "0             1     0.500131   0.047463         0.452668         0.547594\n",
       "1             6     0.484038   0.024568         0.459470         0.508606\n",
       "2            11     0.508061   0.031359         0.476702         0.539419\n",
       "3            16     0.500864   0.023810         0.477054         0.524674\n",
       "4            21     0.511238   0.025397         0.485841         0.536636"
      ]
     },
     "execution_count": 15,
     "metadata": {},
     "output_type": "execute_result"
    }
   ],
   "source": [
    "df_scores.head()"
   ]
  },
  {
   "cell_type": "code",
   "execution_count": 16,
   "metadata": {},
   "outputs": [
    {
     "name": "stderr",
     "output_type": "stream",
     "text": [
      "/home/ubuntu/anaconda3/lib/python3.6/site-packages/matplotlib/font_manager.py:1297: UserWarning: findfont: Font family ['sans-serif'] not found. Falling back to DejaVu Sans\n",
      "  (prop.get_family(), self.defaultFamily[fontext]))\n"
     ]
    },
    {
     "data": {
      "image/png": "[encoded data removed]",
      "text/plain": [
       "<matplotlib.figure.Figure at 0x7f9457a66c50>"
      ]
     },
     "metadata": {},
     "output_type": "display_data"
    }
   ],
   "source": [
    "import matplotlib.pyplot as plt\n",
    "%matplotlib inline\n",
    "\n",
    "plt.plot(df_scores['n_neighbours'],df_scores['limite_inferior'],color='r')\n",
    "plt.plot(df_scores['n_neighbours'],df_scores['score_medio'],color='b')\n",
    "plt.plot(df_scores['n_neighbours'],df_scores['limite_superior'],color='r');"
   ]
  },
  {
   "cell_type": "markdown",
   "metadata": {},
   "source": [
    "## 4 - Estandarización de las variables\n",
    "\n",
    "Dijimos que KNN es un método de Machine Learning que se basa en medidas de distancia. Si bien 6 de nuestras 7 variables se encuentran en las mismas unidades, hay una de ellas que no, la variable Volume.\n",
    "\n",
    "Para darle mayor interpretabilidad matemática al proceso que estamos haciendo, lo correcto sería estandarizar las variables para deshacernos de las unidades físicas."
   ]
  },
  {
   "cell_type": "code",
   "execution_count": 17,
   "metadata": {
    "collapsed": true
   },
   "outputs": [],
   "source": [
    "# Utilizamos sklearn para estandarizar la matriz de Features\n",
    "from sklearn import preprocessing\n",
    "X = df[['Lag1', 'Lag2', 'Lag3', 'Lag4', 'Lag5']]\n",
    "X = preprocessing.scale(X, axis = 0)"
   ]
  },
  {
   "cell_type": "code",
   "execution_count": 18,
   "metadata": {},
   "outputs": [
    {
     "name": "stdout",
     "output_type": "stream",
     "text": [
      "media: 2.84217094304e-18\n",
      "desvio: 1.0\n"
     ]
    }
   ],
   "source": [
    "# Verificamos que las columnas tengan media 0 y desvío 1.\n",
    "print('media:',np.mean(X[:,1]))\n",
    "print('desvio:',np.std(X[:,1]))"
   ]
  },
  {
   "cell_type": "code",
   "execution_count": 19,
   "metadata": {
    "collapsed": true
   },
   "outputs": [],
   "source": [
    "# Calculamos nuevamente los scores de cross validation, pero esta vez sobre los features estandarizados\n",
    "from sklearn.model_selection import cross_val_score\n",
    "scores_para_df_standar = []\n",
    "for i in range(1,100,5):\n",
    "    model = KNeighborsClassifier(n_neighbors=i)\n",
    "    cv_scores = cross_val_score(model, X, y, cv=5)\n",
    "    dict_row_score = {'score_medio':np.mean(cv_scores),'score_std':np.std(cv_scores),'n_neighbours':i}\n",
    "    scores_para_df_standar.append(dict_row_score)"
   ]
  },
  {
   "cell_type": "code",
   "execution_count": 20,
   "metadata": {},
   "outputs": [
    {
     "data": {
      "text/html": [
       "<div>\n",
       "<style>\n",
       "    .dataframe thead tr:only-child th {\n",
       "        text-align: right;\n",
       "    }\n",
       "\n",
       "    .dataframe thead th {\n",
       "        text-align: left;\n",
       "    }\n",
       "\n",
       "    .dataframe tbody tr th {\n",
       "        vertical-align: top;\n",
       "    }\n",
       "</style>\n",
       "<table border=\"1\" class=\"dataframe\">\n",
       "  <thead>\n",
       "    <tr style=\"text-align: right;\">\n",
       "      <th></th>\n",
       "      <th>n_neighbours</th>\n",
       "      <th>score_medio</th>\n",
       "      <th>score_std</th>\n",
       "    </tr>\n",
       "  </thead>\n",
       "  <tbody>\n",
       "    <tr>\n",
       "      <th>0</th>\n",
       "      <td>1</td>\n",
       "      <td>0.500131</td>\n",
       "      <td>0.047463</td>\n",
       "    </tr>\n",
       "    <tr>\n",
       "      <th>1</th>\n",
       "      <td>6</td>\n",
       "      <td>0.482438</td>\n",
       "      <td>0.024114</td>\n",
       "    </tr>\n",
       "    <tr>\n",
       "      <th>2</th>\n",
       "      <td>11</td>\n",
       "      <td>0.509667</td>\n",
       "      <td>0.034981</td>\n",
       "    </tr>\n",
       "    <tr>\n",
       "      <th>3</th>\n",
       "      <td>16</td>\n",
       "      <td>0.500064</td>\n",
       "      <td>0.024804</td>\n",
       "    </tr>\n",
       "    <tr>\n",
       "      <th>4</th>\n",
       "      <td>21</td>\n",
       "      <td>0.509638</td>\n",
       "      <td>0.027123</td>\n",
       "    </tr>\n",
       "  </tbody>\n",
       "</table>\n",
       "</div>"
      ],
      "text/plain": [
       "   n_neighbours  score_medio  score_std\n",
       "0             1     0.500131   0.047463\n",
       "1             6     0.482438   0.024114\n",
       "2            11     0.509667   0.034981\n",
       "3            16     0.500064   0.024804\n",
       "4            21     0.509638   0.027123"
      ]
     },
     "execution_count": 20,
     "metadata": {},
     "output_type": "execute_result"
    }
   ],
   "source": [
    "df_scores_standar = pd.DataFrame(scores_para_df_standar)\n",
    "df_scores_standar.head()"
   ]
  },
  {
   "cell_type": "code",
   "execution_count": 21,
   "metadata": {
    "collapsed": true
   },
   "outputs": [],
   "source": [
    "# Armamos nuevamente los límites para graficar\n",
    "df_scores_standar['limite_superior'] = df_scores_standar['score_medio'] + df_scores_standar['score_std']\n",
    "df_scores_standar['limite_inferior'] = df_scores_standar['score_medio'] - df_scores_standar['score_std']"
   ]
  },
  {
   "cell_type": "code",
   "execution_count": 22,
   "metadata": {},
   "outputs": [
    {
     "name": "stderr",
     "output_type": "stream",
     "text": [
      "/home/ubuntu/anaconda3/lib/python3.6/site-packages/matplotlib/font_manager.py:1297: UserWarning: findfont: Font family ['sans-serif'] not found. Falling back to DejaVu Sans\n",
      "  (prop.get_family(), self.defaultFamily[fontext]))\n"
     ]
    },
    {
     "data": {
      "image/png": "[encoded data removed]",
      "text/plain": [
       "<matplotlib.figure.Figure at 0x7f9457a46da0>"
      ]
     },
     "metadata": {},
     "output_type": "display_data"
    }
   ],
   "source": [
    "# Buscamos gráficamente el valor ópitmo para n_neighbors\n",
    "import matplotlib.pyplot as plt\n",
    "%matplotlib inline\n",
    "\n",
    "plt.plot(df_scores_standar['n_neighbours'],df_scores_standar['limite_inferior'],color='r')\n",
    "plt.plot(df_scores_standar['n_neighbours'],df_scores_standar['score_medio'],color='b')\n",
    "plt.plot(df_scores_standar['n_neighbours'],df_scores_standar['limite_superior'],color='r');"
   ]
  },
  {
   "cell_type": "markdown",
   "metadata": {},
   "source": [
    "#### Evaluando los resultados\n",
    "\n",
    "En este caso observamos que la estandarización no genera ningún cambio significativo en los resultados del modelo\n",
    "¿Por qué observamos esto?\n",
    "Porque en este modelo todas las variables están expresadas en las mismas unidades, con lo cual no era necesario reescalar cada uno de los componentes para poder construir una matriz de distancias que tuviera sentido."
   ]
  },
  {
   "cell_type": "markdown",
   "metadata": {},
   "source": [
    "## 5 - Matriz de confusión\n",
    "\n",
    "Ahora que decidimos cuál es el mejor preprocesamiento y el mejor valor posible para los hiperparámetros podemos entrenar un modelo con estos criterios para obtener una matriz de confusión sobre datos no observados. \n",
    "\n",
    "### 5.1- Preprocesamos los datos\n",
    "(repetimos los pasos de arriba sólo para que el proceso completo sea más claro)"
   ]
  },
  {
   "cell_type": "code",
   "execution_count": 23,
   "metadata": {
    "collapsed": true
   },
   "outputs": [],
   "source": [
    "# Matriz de features\n",
    "X = df[['Lag1', 'Lag2', 'Lag3', 'Lag4', 'Lag5']]\n",
    "# X = preprocessing.scale(X, axis = 0)\n",
    "\n",
    "# Vector de targets\n",
    "le = preprocessing.LabelEncoder()\n",
    "y =  le.fit_transform(df['Direction'])"
   ]
  },
  {
   "cell_type": "markdown",
   "metadata": {},
   "source": [
    "### 5.2- Split train-test\n",
    "\n",
    "Ya sabiendo cuál es el mejor modelo, quiero obtener una matriz de confusión. Hacemos un nuevo split train-test porque siempre queremos evaluar dónde predice bien y dónde se equivoca el modelo **sobre datos no observados**"
   ]
  },
  {
   "cell_type": "code",
   "execution_count": 24,
   "metadata": {
    "collapsed": true
   },
   "outputs": [],
   "source": [
    "from sklearn.model_selection import train_test_split\n",
    "X_train, X_test, y_train, y_test = train_test_split(X,y)"
   ]
  },
  {
   "cell_type": "code",
   "execution_count": 25,
   "metadata": {},
   "outputs": [
    {
     "data": {
      "text/plain": [
       "KNeighborsClassifier(algorithm='auto', leaf_size=30, metric='minkowski',\n",
       "           metric_params=None, n_jobs=1, n_neighbors=98, p=2,\n",
       "           weights='uniform')"
      ]
     },
     "execution_count": 25,
     "metadata": {},
     "output_type": "execute_result"
    }
   ],
   "source": [
    "# Elegimos el modelo óptimo que nos había indicado cross validation\n",
    "model = KNeighborsClassifier(n_neighbors=98)\n",
    "# Lo ajustamos sobre datos de entrenamiento\n",
    "model.fit(X_train,y_train)"
   ]
  },
  {
   "cell_type": "code",
   "execution_count": 26,
   "metadata": {
    "collapsed": true
   },
   "outputs": [],
   "source": [
    "# Lo utilizamos para predecir en test\n",
    "y_pred = model.predict(X_test)"
   ]
  },
  {
   "cell_type": "code",
   "execution_count": 27,
   "metadata": {},
   "outputs": [
    {
     "data": {
      "text/plain": [
       "array([[ 42, 120],\n",
       "       [ 30, 121]])"
      ]
     },
     "execution_count": 27,
     "metadata": {},
     "output_type": "execute_result"
    }
   ],
   "source": [
    "# Elaboramos la matriz de confusión:\n",
    "from sklearn.metrics import confusion_matrix\n",
    "confusion_matrix(y_test, y_pred)"
   ]
  },
  {
   "cell_type": "code",
   "execution_count": 28,
   "metadata": {},
   "outputs": [
    {
     "name": "stderr",
     "output_type": "stream",
     "text": [
      "/home/ubuntu/anaconda3/lib/python3.6/site-packages/matplotlib/font_manager.py:1297: UserWarning: findfont: Font family ['sans-serif'] not found. Falling back to DejaVu Sans\n",
      "  (prop.get_family(), self.defaultFamily[fontext]))\n"
     ]
    },
    {
     "data": {
      "image/png": "[encoded data removed]",
      "text/plain": [
       "<matplotlib.figure.Figure at 0x7f945458f630>"
      ]
     },
     "metadata": {},
     "output_type": "display_data"
    }
   ],
   "source": [
    "import seaborn as sns\n",
    "sns.heatmap(confusion_matrix(y_test, y_pred), annot=True)\n",
    "\n",
    "plt.ylabel('Verdaderos')\n",
    "plt.xlabel('Predichos');"
   ]
  },
  {
   "cell_type": "code",
   "execution_count": 29,
   "metadata": {},
   "outputs": [
    {
     "data": {
      "text/plain": [
       "array(['Down', 'Up'], dtype=object)"
      ]
     },
     "execution_count": 29,
     "metadata": {},
     "output_type": "execute_result"
    }
   ],
   "source": [
    "# Recordemos los valores de las labeles que creamos con el metodo  LabelEncoder()\n",
    "le.classes_"
   ]
  },
  {
   "cell_type": "markdown",
   "metadata": {
    "collapsed": true
   },
   "source": [
    "Conclusión: No parece ser nada fácil predecir la evolución de las acciones en base a los features utilizados. El modelo tiene un sesgo hacia predecir que las acciones van a subir. "
   ]
  },
  {
   "cell_type": "code",
   "execution_count": null,
   "metadata": {
    "collapsed": true
   },
   "outputs": [],
   "source": []
  }
 ],
 "metadata": {
  "kernelspec": {
   "display_name": "Python 3",
   "language": "python",
   "name": "python3"
  },
  "language_info": {
   "codemirror_mode": {
    "name": "ipython",
    "version": 3
   },
   "file_extension": ".py",
   "mimetype": "text/x-python",
   "name": "python",
   "nbconvert_exporter": "python",
   "pygments_lexer": "ipython3",
   "version": "3.6.1"
  }
 },
 "nbformat": 4,
 "nbformat_minor": 2
}
