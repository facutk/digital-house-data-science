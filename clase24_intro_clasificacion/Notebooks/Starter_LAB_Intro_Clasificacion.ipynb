{
 "cells": [
  {
   "cell_type": "markdown",
   "metadata": {},
   "source": [
    "# LAB: KNN \n",
    "\n",
    "## 1. Introducción\n",
    "\n",
    "El objetivo de este LAB es clasificar si un determinado tipo de vino es de alta o baja calidad. Para eso usaremos un dataset que contiene un set amplio de features vinculados a diversas características del vino, tales como acidez, azúclar, densidad, ph, si es tinto, etc.\n",
    "\n",
    "Usaremos como target high_quality, una discretización de la variable quality.\n",
    "\n",
    "Para llevar a cabo esta tarea ,como input vamos a usar las features de cada vino."
   ]
  },
  {
   "cell_type": "code",
   "execution_count": 21,
   "metadata": {},
   "outputs": [
    {
     "data": {
      "text/html": [
       "<div>\n",
       "<style>\n",
       "    .dataframe thead tr:only-child th {\n",
       "        text-align: right;\n",
       "    }\n",
       "\n",
       "    .dataframe thead th {\n",
       "        text-align: left;\n",
       "    }\n",
       "\n",
       "    .dataframe tbody tr th {\n",
       "        vertical-align: top;\n",
       "    }\n",
       "</style>\n",
       "<table border=\"1\" class=\"dataframe\">\n",
       "  <thead>\n",
       "    <tr style=\"text-align: right;\">\n",
       "      <th></th>\n",
       "      <th>fixed_acidity</th>\n",
       "      <th>volatile_acidity</th>\n",
       "      <th>citric_acid</th>\n",
       "      <th>residual_sugar</th>\n",
       "      <th>chlorides</th>\n",
       "      <th>free_sulfur_dioxide</th>\n",
       "      <th>total_sulfur_dioxide</th>\n",
       "      <th>density</th>\n",
       "      <th>pH</th>\n",
       "      <th>sulphates</th>\n",
       "      <th>alcohol</th>\n",
       "      <th>quality</th>\n",
       "      <th>color</th>\n",
       "      <th>is_red</th>\n",
       "      <th>high_quality</th>\n",
       "    </tr>\n",
       "  </thead>\n",
       "  <tbody>\n",
       "    <tr>\n",
       "      <th>2916</th>\n",
       "      <td>7.0</td>\n",
       "      <td>0.150</td>\n",
       "      <td>0.34</td>\n",
       "      <td>1.4</td>\n",
       "      <td>0.039</td>\n",
       "      <td>21.0</td>\n",
       "      <td>177.0</td>\n",
       "      <td>0.99270</td>\n",
       "      <td>3.32</td>\n",
       "      <td>0.62</td>\n",
       "      <td>10.8</td>\n",
       "      <td>5</td>\n",
       "      <td>white</td>\n",
       "      <td>0.0</td>\n",
       "      <td>0.0</td>\n",
       "    </tr>\n",
       "    <tr>\n",
       "      <th>2280</th>\n",
       "      <td>6.8</td>\n",
       "      <td>0.340</td>\n",
       "      <td>0.69</td>\n",
       "      <td>1.3</td>\n",
       "      <td>0.058</td>\n",
       "      <td>12.0</td>\n",
       "      <td>171.0</td>\n",
       "      <td>0.99310</td>\n",
       "      <td>3.06</td>\n",
       "      <td>0.47</td>\n",
       "      <td>9.7</td>\n",
       "      <td>5</td>\n",
       "      <td>white</td>\n",
       "      <td>0.0</td>\n",
       "      <td>0.0</td>\n",
       "    </tr>\n",
       "    <tr>\n",
       "      <th>2382</th>\n",
       "      <td>8.1</td>\n",
       "      <td>0.170</td>\n",
       "      <td>0.44</td>\n",
       "      <td>14.1</td>\n",
       "      <td>0.053</td>\n",
       "      <td>43.0</td>\n",
       "      <td>145.0</td>\n",
       "      <td>1.00060</td>\n",
       "      <td>3.28</td>\n",
       "      <td>0.75</td>\n",
       "      <td>8.8</td>\n",
       "      <td>8</td>\n",
       "      <td>white</td>\n",
       "      <td>0.0</td>\n",
       "      <td>1.0</td>\n",
       "    </tr>\n",
       "    <tr>\n",
       "      <th>5619</th>\n",
       "      <td>6.4</td>\n",
       "      <td>0.370</td>\n",
       "      <td>0.12</td>\n",
       "      <td>5.9</td>\n",
       "      <td>0.056</td>\n",
       "      <td>6.0</td>\n",
       "      <td>91.0</td>\n",
       "      <td>0.99536</td>\n",
       "      <td>3.06</td>\n",
       "      <td>0.46</td>\n",
       "      <td>8.4</td>\n",
       "      <td>4</td>\n",
       "      <td>white</td>\n",
       "      <td>0.0</td>\n",
       "      <td>0.0</td>\n",
       "    </tr>\n",
       "    <tr>\n",
       "      <th>1207</th>\n",
       "      <td>9.9</td>\n",
       "      <td>0.720</td>\n",
       "      <td>0.55</td>\n",
       "      <td>1.7</td>\n",
       "      <td>0.136</td>\n",
       "      <td>24.0</td>\n",
       "      <td>52.0</td>\n",
       "      <td>0.99752</td>\n",
       "      <td>3.35</td>\n",
       "      <td>0.94</td>\n",
       "      <td>10.0</td>\n",
       "      <td>5</td>\n",
       "      <td>red</td>\n",
       "      <td>1.0</td>\n",
       "      <td>0.0</td>\n",
       "    </tr>\n",
       "    <tr>\n",
       "      <th>3089</th>\n",
       "      <td>5.6</td>\n",
       "      <td>0.185</td>\n",
       "      <td>0.49</td>\n",
       "      <td>1.1</td>\n",
       "      <td>0.030</td>\n",
       "      <td>28.0</td>\n",
       "      <td>117.0</td>\n",
       "      <td>0.99180</td>\n",
       "      <td>3.55</td>\n",
       "      <td>0.45</td>\n",
       "      <td>10.3</td>\n",
       "      <td>6</td>\n",
       "      <td>white</td>\n",
       "      <td>0.0</td>\n",
       "      <td>0.0</td>\n",
       "    </tr>\n",
       "    <tr>\n",
       "      <th>5100</th>\n",
       "      <td>6.7</td>\n",
       "      <td>0.240</td>\n",
       "      <td>0.36</td>\n",
       "      <td>8.4</td>\n",
       "      <td>0.042</td>\n",
       "      <td>42.0</td>\n",
       "      <td>123.0</td>\n",
       "      <td>0.99473</td>\n",
       "      <td>3.34</td>\n",
       "      <td>0.52</td>\n",
       "      <td>10.9</td>\n",
       "      <td>6</td>\n",
       "      <td>white</td>\n",
       "      <td>0.0</td>\n",
       "      <td>0.0</td>\n",
       "    </tr>\n",
       "    <tr>\n",
       "      <th>23</th>\n",
       "      <td>8.5</td>\n",
       "      <td>0.490</td>\n",
       "      <td>0.11</td>\n",
       "      <td>2.3</td>\n",
       "      <td>0.084</td>\n",
       "      <td>9.0</td>\n",
       "      <td>67.0</td>\n",
       "      <td>0.99680</td>\n",
       "      <td>3.17</td>\n",
       "      <td>0.53</td>\n",
       "      <td>9.4</td>\n",
       "      <td>5</td>\n",
       "      <td>red</td>\n",
       "      <td>1.0</td>\n",
       "      <td>0.0</td>\n",
       "    </tr>\n",
       "    <tr>\n",
       "      <th>1437</th>\n",
       "      <td>6.8</td>\n",
       "      <td>0.915</td>\n",
       "      <td>0.29</td>\n",
       "      <td>4.8</td>\n",
       "      <td>0.070</td>\n",
       "      <td>15.0</td>\n",
       "      <td>39.0</td>\n",
       "      <td>0.99577</td>\n",
       "      <td>3.53</td>\n",
       "      <td>0.54</td>\n",
       "      <td>11.1</td>\n",
       "      <td>5</td>\n",
       "      <td>red</td>\n",
       "      <td>1.0</td>\n",
       "      <td>0.0</td>\n",
       "    </tr>\n",
       "    <tr>\n",
       "      <th>746</th>\n",
       "      <td>8.2</td>\n",
       "      <td>0.340</td>\n",
       "      <td>0.38</td>\n",
       "      <td>2.5</td>\n",
       "      <td>0.080</td>\n",
       "      <td>12.0</td>\n",
       "      <td>57.0</td>\n",
       "      <td>0.99780</td>\n",
       "      <td>3.30</td>\n",
       "      <td>0.47</td>\n",
       "      <td>9.0</td>\n",
       "      <td>6</td>\n",
       "      <td>red</td>\n",
       "      <td>1.0</td>\n",
       "      <td>0.0</td>\n",
       "    </tr>\n",
       "  </tbody>\n",
       "</table>\n",
       "</div>"
      ],
      "text/plain": [
       "      fixed_acidity  volatile_acidity  citric_acid  residual_sugar  chlorides  \\\n",
       "2916            7.0             0.150         0.34             1.4      0.039   \n",
       "2280            6.8             0.340         0.69             1.3      0.058   \n",
       "2382            8.1             0.170         0.44            14.1      0.053   \n",
       "5619            6.4             0.370         0.12             5.9      0.056   \n",
       "1207            9.9             0.720         0.55             1.7      0.136   \n",
       "3089            5.6             0.185         0.49             1.1      0.030   \n",
       "5100            6.7             0.240         0.36             8.4      0.042   \n",
       "23              8.5             0.490         0.11             2.3      0.084   \n",
       "1437            6.8             0.915         0.29             4.8      0.070   \n",
       "746             8.2             0.340         0.38             2.5      0.080   \n",
       "\n",
       "      free_sulfur_dioxide  total_sulfur_dioxide  density    pH  sulphates  \\\n",
       "2916                 21.0                 177.0  0.99270  3.32       0.62   \n",
       "2280                 12.0                 171.0  0.99310  3.06       0.47   \n",
       "2382                 43.0                 145.0  1.00060  3.28       0.75   \n",
       "5619                  6.0                  91.0  0.99536  3.06       0.46   \n",
       "1207                 24.0                  52.0  0.99752  3.35       0.94   \n",
       "3089                 28.0                 117.0  0.99180  3.55       0.45   \n",
       "5100                 42.0                 123.0  0.99473  3.34       0.52   \n",
       "23                    9.0                  67.0  0.99680  3.17       0.53   \n",
       "1437                 15.0                  39.0  0.99577  3.53       0.54   \n",
       "746                  12.0                  57.0  0.99780  3.30       0.47   \n",
       "\n",
       "      alcohol  quality  color  is_red  high_quality  \n",
       "2916     10.8        5  white     0.0           0.0  \n",
       "2280      9.7        5  white     0.0           0.0  \n",
       "2382      8.8        8  white     0.0           1.0  \n",
       "5619      8.4        4  white     0.0           0.0  \n",
       "1207     10.0        5    red     1.0           0.0  \n",
       "3089     10.3        6  white     0.0           0.0  \n",
       "5100     10.9        6  white     0.0           0.0  \n",
       "23        9.4        5    red     1.0           0.0  \n",
       "1437     11.1        5    red     1.0           0.0  \n",
       "746       9.0        6    red     1.0           0.0  "
      ]
     },
     "execution_count": 21,
     "metadata": {},
     "output_type": "execute_result"
    }
   ],
   "source": [
    "import pandas as pd\n",
    "import seaborn as sns\n",
    "import numpy as np\n",
    "from sklearn.model_selection import cross_val_score\n",
    "from sklearn.neighbors import KNeighborsClassifier\n",
    "\n",
    "import matplotlib.pyplot as plt\n",
    "%matplotlib inline\n",
    "\n",
    "\n",
    "# Cargar el dataset (si el link está caído... buscar el dataset en el campus)\n",
    "\n",
    "df = pd.read_csv(\"../Data/wine.csv\")\n",
    "df.sample(10)"
   ]
  },
  {
   "cell_type": "code",
   "execution_count": 22,
   "metadata": {},
   "outputs": [
    {
     "data": {
      "text/plain": [
       "Index(['fixed_acidity', 'volatile_acidity', 'citric_acid', 'residual_sugar',\n",
       "       'chlorides', 'free_sulfur_dioxide', 'total_sulfur_dioxide', 'density',\n",
       "       'pH', 'sulphates', 'alcohol', 'quality', 'color', 'is_red',\n",
       "       'high_quality'],\n",
       "      dtype='object')"
      ]
     },
     "execution_count": 22,
     "metadata": {},
     "output_type": "execute_result"
    }
   ],
   "source": [
    "df.columns"
   ]
  },
  {
   "cell_type": "code",
   "execution_count": 23,
   "metadata": {
    "collapsed": true
   },
   "outputs": [],
   "source": [
    "y = df['high_quality']"
   ]
  },
  {
   "cell_type": "markdown",
   "metadata": {},
   "source": [
    "## 2. Preprocesamiento y limpieza del dataset"
   ]
  },
  {
   "cell_type": "markdown",
   "metadata": {},
   "source": [
    "* Limipiar las variables categóricas\n",
    "* Analizar las varianzas de las variables cuantitativas"
   ]
  },
  {
   "cell_type": "code",
   "execution_count": 25,
   "metadata": {
    "collapsed": true
   },
   "outputs": [],
   "source": [
    "X = df[['fixed_acidity', 'volatile_acidity', 'citric_acid', 'residual_sugar', 'chlorides', 'free_sulfur_dioxide', 'total_sulfur_dioxide', 'density','pH', 'sulphates', 'alcohol']]"
   ]
  },
  {
   "cell_type": "markdown",
   "metadata": {},
   "source": [
    "### 3.1 Realizar un modelo de K-Nearest Neighbors\n",
    "\n",
    "- Construir la matriz de features, subseteando el DataFrame para que no contenga la clase `high_quality` ni la clase `quality`\n",
    "- Construir la variable target: `high_quality`\n",
    "- Seleccionar los atribiutos que podrian ser los mejores para el modelo\n",
    "- Evaluar la accuracy del modelo mediante Cross-Validation\n",
    "- Experimentar con diferentes valores para el hiperparámetro K y evaluar la performance\n",
    "- ¿Qué pasaría si estandarizamos las variables? Probarlo...\n",
    "\n",
    "** Pista:** pueden tratar de generar una función que evalúe diferentes valores del hiperparámetro K."
   ]
  },
  {
   "cell_type": "code",
   "execution_count": 30,
   "metadata": {
    "collapsed": true
   },
   "outputs": [],
   "source": [
    "from sklearn.model_selection import cross_val_score\n",
    "\n",
    "# Voy a querer graficar los distintos valores del score de cross validation en función del hiperparámetro n_neighbors\n",
    "# Para esto voy a generar una lista de diccionarios que después se puede convertir fácilmente en DataFrame\n",
    "\n",
    "#Lista de Diccionarios\n",
    "scores_para_df = []\n",
    "\n",
    "# range(1,40,5) son los posibles valores de n_neighbors que quiero explorar. Son todos los enteros desde el 1\n",
    "# hasta el 40 en saltos de a 5. (Start,Stop,Step)\n",
    "for i in range(1,100,5):\n",
    "    # En cada iteración instanciamos el modelo con un hiperparámetro distinto\n",
    "    model = KNeighborsClassifier(n_neighbors=i)\n",
    "    \n",
    "    # cross_val_scores nos devuelve un array de 5 resultados, uno por cada partición que hizo automáticamente CV  \n",
    "    cv_scores = cross_val_score(model, X, y, cv=5)\n",
    "    \n",
    "    # Para cada valor de n_neighbours, creo un diccionario con el valor de n_neighbours y la media y el desvío de los scores.\n",
    "    dict_row_score = {'score_medio':np.mean(cv_scores),'score_std':np.std(cv_scores),'n_neighbours':i}\n",
    "    \n",
    "    # Guardo cada uno en la lista de diccionarios\n",
    "    scores_para_df.append(dict_row_score)"
   ]
  },
  {
   "cell_type": "code",
   "execution_count": 31,
   "metadata": {
    "collapsed": true
   },
   "outputs": [],
   "source": [
    "df_scores = pd.DataFrame(scores_para_df)\n",
    "df_scores.sample(5)\n",
    "df_scores['limite_inferior'] = df_scores['score_medio'] - df_scores['score_std']\n",
    "df_scores['limite_superior'] = df_scores['score_medio'] + df_scores['score_std']"
   ]
  },
  {
   "cell_type": "code",
   "execution_count": 32,
   "metadata": {},
   "outputs": [
    {
     "data": {
      "text/html": [
       "<div>\n",
       "<style>\n",
       "    .dataframe thead tr:only-child th {\n",
       "        text-align: right;\n",
       "    }\n",
       "\n",
       "    .dataframe thead th {\n",
       "        text-align: left;\n",
       "    }\n",
       "\n",
       "    .dataframe tbody tr th {\n",
       "        vertical-align: top;\n",
       "    }\n",
       "</style>\n",
       "<table border=\"1\" class=\"dataframe\">\n",
       "  <thead>\n",
       "    <tr style=\"text-align: right;\">\n",
       "      <th></th>\n",
       "      <th>n_neighbours</th>\n",
       "      <th>score_medio</th>\n",
       "      <th>score_std</th>\n",
       "      <th>limite_inferior</th>\n",
       "      <th>limite_superior</th>\n",
       "    </tr>\n",
       "  </thead>\n",
       "  <tbody>\n",
       "    <tr>\n",
       "      <th>0</th>\n",
       "      <td>1</td>\n",
       "      <td>0.741256</td>\n",
       "      <td>0.028360</td>\n",
       "      <td>0.712897</td>\n",
       "      <td>0.769616</td>\n",
       "    </tr>\n",
       "    <tr>\n",
       "      <th>1</th>\n",
       "      <td>6</td>\n",
       "      <td>0.785590</td>\n",
       "      <td>0.014684</td>\n",
       "      <td>0.770907</td>\n",
       "      <td>0.800274</td>\n",
       "    </tr>\n",
       "    <tr>\n",
       "      <th>2</th>\n",
       "      <td>11</td>\n",
       "      <td>0.781895</td>\n",
       "      <td>0.014905</td>\n",
       "      <td>0.766990</td>\n",
       "      <td>0.796801</td>\n",
       "    </tr>\n",
       "    <tr>\n",
       "      <th>3</th>\n",
       "      <td>16</td>\n",
       "      <td>0.795134</td>\n",
       "      <td>0.007499</td>\n",
       "      <td>0.787635</td>\n",
       "      <td>0.802633</td>\n",
       "    </tr>\n",
       "    <tr>\n",
       "      <th>4</th>\n",
       "      <td>21</td>\n",
       "      <td>0.792516</td>\n",
       "      <td>0.014065</td>\n",
       "      <td>0.778451</td>\n",
       "      <td>0.806581</td>\n",
       "    </tr>\n",
       "  </tbody>\n",
       "</table>\n",
       "</div>"
      ],
      "text/plain": [
       "   n_neighbours  score_medio  score_std  limite_inferior  limite_superior\n",
       "0             1     0.741256   0.028360         0.712897         0.769616\n",
       "1             6     0.785590   0.014684         0.770907         0.800274\n",
       "2            11     0.781895   0.014905         0.766990         0.796801\n",
       "3            16     0.795134   0.007499         0.787635         0.802633\n",
       "4            21     0.792516   0.014065         0.778451         0.806581"
      ]
     },
     "execution_count": 32,
     "metadata": {},
     "output_type": "execute_result"
    }
   ],
   "source": [
    "df_scores.head()"
   ]
  },
  {
   "cell_type": "code",
   "execution_count": 33,
   "metadata": {},
   "outputs": [
    {
     "name": "stderr",
     "output_type": "stream",
     "text": [
      "/home/ubuntu/anaconda3/lib/python3.6/site-packages/matplotlib/font_manager.py:1297: UserWarning: findfont: Font family ['sans-serif'] not found. Falling back to DejaVu Sans\n",
      "  (prop.get_family(), self.defaultFamily[fontext]))\n"
     ]
    },
    {
     "data": {
      "image/png": "[encoded data removed]",
      "text/plain": [
       "<matplotlib.figure.Figure at 0x7f78e9861be0>"
      ]
     },
     "metadata": {},
     "output_type": "display_data"
    }
   ],
   "source": [
    "import matplotlib.pyplot as plt\n",
    "%matplotlib inline\n",
    "\n",
    "plt.plot(df_scores['n_neighbours'],df_scores['limite_inferior'],color='r')\n",
    "plt.plot(df_scores['n_neighbours'],df_scores['score_medio'],color='b')\n",
    "plt.plot(df_scores['n_neighbours'],df_scores['limite_superior'],color='r');"
   ]
  },
  {
   "cell_type": "code",
   "execution_count": 104,
   "metadata": {
    "collapsed": true
   },
   "outputs": [],
   "source": [
    "# Matriz de features\n",
    "from sklearn import preprocessing\n",
    "X = df[['fixed_acidity', 'volatile_acidity', 'citric_acid', 'residual_sugar', 'chlorides', 'free_sulfur_dioxide', 'total_sulfur_dioxide', 'density','pH', 'sulphates', 'alcohol']]\n",
    "X = preprocessing.scale(X, axis = 0)\n",
    "\n",
    "# Vector de targets\n",
    "y = df['high_quality']"
   ]
  },
  {
   "cell_type": "code",
   "execution_count": 105,
   "metadata": {},
   "outputs": [
    {
     "data": {
      "text/plain": [
       "6497"
      ]
     },
     "execution_count": 105,
     "metadata": {},
     "output_type": "execute_result"
    }
   ],
   "source": [
    "y.count()"
   ]
  },
  {
   "cell_type": "code",
   "execution_count": 106,
   "metadata": {
    "collapsed": true
   },
   "outputs": [],
   "source": [
    "from sklearn.model_selection import train_test_split\n",
    "X_train, X_test, y_train, y_test = train_test_split(X,y)"
   ]
  },
  {
   "cell_type": "code",
   "execution_count": 107,
   "metadata": {},
   "outputs": [
    {
     "data": {
      "text/plain": [
       "KNeighborsClassifier(algorithm='auto', leaf_size=30, metric='minkowski',\n",
       "           metric_params=None, n_jobs=1, n_neighbors=98, p=2,\n",
       "           weights='uniform')"
      ]
     },
     "execution_count": 107,
     "metadata": {},
     "output_type": "execute_result"
    }
   ],
   "source": [
    "# Elegimos el modelo óptimo que nos había indicado cross validation\n",
    "model = KNeighborsClassifier(n_neighbors=98)\n",
    "# Lo ajustamos sobre datos de entrenamiento\n",
    "model.fit(X_train,y_train)"
   ]
  },
  {
   "cell_type": "code",
   "execution_count": 108,
   "metadata": {
    "collapsed": true
   },
   "outputs": [],
   "source": [
    "# Lo utilizamos para predecir en test\n",
    "y_pred = model.predict(X_test)"
   ]
  },
  {
   "cell_type": "code",
   "execution_count": 109,
   "metadata": {},
   "outputs": [
    {
     "data": {
      "text/plain": [
       "120.0"
      ]
     },
     "execution_count": 109,
     "metadata": {},
     "output_type": "execute_result"
    }
   ],
   "source": [
    "y_pred.sum()"
   ]
  },
  {
   "cell_type": "code",
   "execution_count": 110,
   "metadata": {},
   "outputs": [
    {
     "data": {
      "text/plain": [
       "array([[1264,   30],\n",
       "       [ 241,   90]])"
      ]
     },
     "execution_count": 110,
     "metadata": {},
     "output_type": "execute_result"
    }
   ],
   "source": [
    "# Elaboramos la matriz de confusión:\n",
    "from sklearn.metrics import confusion_matrix\n",
    "confusion_matrix(y_test, y_pred)"
   ]
  },
  {
   "cell_type": "code",
   "execution_count": 112,
   "metadata": {},
   "outputs": [
    {
     "name": "stderr",
     "output_type": "stream",
     "text": [
      "/home/ubuntu/anaconda3/lib/python3.6/site-packages/matplotlib/font_manager.py:1297: UserWarning: findfont: Font family ['sans-serif'] not found. Falling back to DejaVu Sans\n",
      "  (prop.get_family(), self.defaultFamily[fontext]))\n"
     ]
    },
    {
     "data": {
      "image/png": "[encoded data removed]",
      "text/plain": [
       "<matplotlib.figure.Figure at 0x7f78e6277438>"
      ]
     },
     "metadata": {},
     "output_type": "display_data"
    }
   ],
   "source": [
    "import seaborn as sns\n",
    "sns.heatmap(confusion_matrix(y_test, y_pred))\n",
    "\n",
    "plt.ylabel('Verdaderos')\n",
    "plt.xlabel('Predichos');"
   ]
  },
  {
   "cell_type": "code",
   "execution_count": 111,
   "metadata": {},
   "outputs": [
    {
     "data": {
      "text/plain": [
       "0.83323076923076922"
      ]
     },
     "execution_count": 111,
     "metadata": {},
     "output_type": "execute_result"
    }
   ],
   "source": [
    "from sklearn.metrics import accuracy_score\n",
    "accuracy_score(y_test, y_pred, normalize=True)"
   ]
  },
  {
   "cell_type": "code",
   "execution_count": null,
   "metadata": {
    "collapsed": true
   },
   "outputs": [],
   "source": []
  }
 ],
 "metadata": {
  "kernelspec": {
   "display_name": "Python 3",
   "language": "python",
   "name": "python3"
  },
  "language_info": {
   "codemirror_mode": {
    "name": "ipython",
    "version": 3
   },
   "file_extension": ".py",
   "mimetype": "text/x-python",
   "name": "python",
   "nbconvert_exporter": "python",
   "pygments_lexer": "ipython3",
   "version": "3.6.1"
  }
 },
 "nbformat": 4,
 "nbformat_minor": 1
}
