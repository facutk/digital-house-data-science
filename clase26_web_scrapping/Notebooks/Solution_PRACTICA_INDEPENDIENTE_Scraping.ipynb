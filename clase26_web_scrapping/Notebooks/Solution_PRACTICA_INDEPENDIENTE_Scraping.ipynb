{
 "cells": [
  {
   "cell_type": "markdown",
   "metadata": {},
   "source": [
    "# PRACTICA INDEPENDIENTE: Scraping"
   ]
  },
  {
   "cell_type": "markdown",
   "metadata": {},
   "source": [
    "## Introducción\n",
    "\n",
    "El objetivo de esta práctica es entender el uso del comando `requests`. Para eso te pedimos que uses requests para descargar los pdfs de esta página:\n",
    "\n",
    "https://github.com/jdwittenauer/ipython-notebooks/tree/master/exercises/ML\n",
    "\n",
    "Puede ser útil (como de costumbre) pensar en encapsular el proceso en una función."
   ]
  },
  {
   "cell_type": "markdown",
   "metadata": {},
   "source": [
    "## Descargando archivos usando `requests` "
   ]
  },
  {
   "cell_type": "markdown",
   "metadata": {},
   "source": [
    "### Importa los paquetes a usar"
   ]
  },
  {
   "cell_type": "code",
   "execution_count": null,
   "metadata": {
    "collapsed": true
   },
   "outputs": [],
   "source": [
    "import requests as rq\n",
    "import re"
   ]
  },
  {
   "cell_type": "markdown",
   "metadata": {},
   "source": [
    "### Armá un script o una función para hacer la descarga del sitio"
   ]
  },
  {
   "cell_type": "code",
   "execution_count": null,
   "metadata": {
    "collapsed": true
   },
   "outputs": [],
   "source": [
    "def get_pdfs(url, path):\n",
    "    content = rq.get(url).text\n",
    "    pattern = r'\\/(.+?pdf)'\n",
    "    #cambio para descargar\n",
    "    urls = [r'https://github.com/' + re.sub(r'/blob/', r'/raw/', url_) for url_ in re.findall(pattern, content)]\n",
    "    for url_ in urls:\n",
    "        pdf = rq.get(url_).content\n",
    "        autor = url_.split('/')[3]\n",
    "        nombrePdf = url_.split('/')[-1]\n",
    "        file = '{} {}'.format(autor, nombrePdf)\n",
    "        print(file)\n",
    "        with open(file, 'wb') as out:\n",
    "            out.write(pdf)\n",
    "    return None"
   ]
  },
  {
   "cell_type": "code",
   "execution_count": null,
   "metadata": {},
   "outputs": [],
   "source": [
    "get_pdfs(url = r'https://github.com/jdwittenauer/ipython-notebooks/tree/master/exercises/ML', path = r'D:\\Matias\\PDFs Ciencia')"
   ]
  }
 ],
 "metadata": {
  "kernelspec": {
   "display_name": "Python 3",
   "language": "python",
   "name": "python3"
  },
  "language_info": {
   "codemirror_mode": {
    "name": "ipython",
    "version": 3
   },
   "file_extension": ".py",
   "mimetype": "text/x-python",
   "name": "python",
   "nbconvert_exporter": "python",
   "pygments_lexer": "ipython3",
   "version": "3.6.2"
  }
 },
 "nbformat": 4,
 "nbformat_minor": 2
}
