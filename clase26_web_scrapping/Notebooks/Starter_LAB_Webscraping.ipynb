{
 "cells": [
  {
   "cell_type": "markdown",
   "metadata": {},
   "source": [
    "# LAB: Webscraping"
   ]
  },
  {
   "cell_type": "markdown",
   "metadata": {},
   "source": [
    "## Introducción\n",
    "\n",
    "La idea de este LAB es poder fijar algunos conceptos vistos en la clase de webscraping. Para ello, utilizando las librerias vistas en clase, haremos un análisis comparativo básico entre algunas carácterísticas de cuentos de Borges y Cortazar."
   ]
  },
  {
   "cell_type": "markdown",
   "metadata": {},
   "source": [
    "Pasos a seguir:\n",
    "\n",
    "- Inspeccionar la página a consultar\n",
    "- Usar Requests para consultar la URL\n",
    "- Extraer los links relevantes para scrapear los cuentos\n",
    "- Almacenar los datos de manera conveniente\n",
    "- Utilizar los datos y Pandas para hacer alguna comparación entre los autores"
   ]
  },
  {
   "cell_type": "markdown",
   "metadata": {},
   "source": [
    "## Scrapeando datos\n",
    "\n",
    "***1. Importá requests, BeautifulSoup y re***"
   ]
  },
  {
   "cell_type": "code",
   "execution_count": 1,
   "metadata": {
    "collapsed": true
   },
   "outputs": [],
   "source": [
    "import requests\n",
    "from bs4 import BeautifulSoup\n",
    "import pandas as pd\n",
    "import re\n",
    "import time\n",
    "import numpy as np"
   ]
  },
  {
   "cell_type": "markdown",
   "metadata": {},
   "source": [
    "***2. Guardá las URLS en variables*** "
   ]
  },
  {
   "cell_type": "code",
   "execution_count": 2,
   "metadata": {
    "collapsed": true
   },
   "outputs": [],
   "source": [
    "url_cortazar = 'http://ciudadseva.com/autor/julio-cortazar/cuentos/'\n",
    "url_borges = 'http://ciudadseva.com/autor/jorge-luis-borges/cuentos/'"
   ]
  },
  {
   "cell_type": "markdown",
   "metadata": {},
   "source": [
    "***3. Hacé un pedido HTTP GET para descargar las páginas con los links*** \n",
    "***4. Usá regex para extraer los links a scrapear***\n",
    "***5. Usá BeautifulSoup para extraer los textos de esos links***\n",
    "\n",
    "Para ahorrar código considerá encapsularlo en una función!"
   ]
  },
  {
   "cell_type": "code",
   "execution_count": 3,
   "metadata": {},
   "outputs": [],
   "source": [
    "def get_cuento_by_url(url):\n",
    "    html_cuento = requests.get(url).text\n",
    "    soup_cuento = BeautifulSoup(html_cuento, 'html.parser')\n",
    "    text_cuento = soup_cuento.find('div',  {'class':'text-justify'})\n",
    "    return text_cuento.text\n",
    "\n",
    "def get_cuentos_by_author_url(url):\n",
    "    resp = requests.get(url)\n",
    "\n",
    "    html = resp.text\n",
    "    soup = BeautifulSoup(html, 'html.parser')\n",
    "    cuentos_ul = soup.find('ul', {'class':'list-stories'})\n",
    "    links = cuentos_ul.findAll('a')\n",
    "    \n",
    "    cuentos = []\n",
    "\n",
    "    for link in links:\n",
    "        cuento_text = get_cuento_by_url(link.get('href'))\n",
    "        cuentos.append({\n",
    "            'title': link.text.strip(),\n",
    "            'link': link.get('href'),\n",
    "            'cuento': cuento_text.strip()\n",
    "        })\n",
    "    \n",
    "    return cuentos\n",
    "\n",
    "def get_cuentos_by_author_url_as_DataFrame(url):\n",
    "    cuentos_dict = get_cuentos_by_author_url(url)\n",
    "    return pd.DataFrame(cuentos_dict)"
   ]
  },
  {
   "cell_type": "code",
   "execution_count": 4,
   "metadata": {},
   "outputs": [
    {
     "data": {
      "text/html": [
       "<div>\n",
       "<style>\n",
       "    .dataframe thead tr:only-child th {\n",
       "        text-align: right;\n",
       "    }\n",
       "\n",
       "    .dataframe thead th {\n",
       "        text-align: left;\n",
       "    }\n",
       "\n",
       "    .dataframe tbody tr th {\n",
       "        vertical-align: top;\n",
       "    }\n",
       "</style>\n",
       "<table border=\"1\" class=\"dataframe\">\n",
       "  <thead>\n",
       "    <tr style=\"text-align: right;\">\n",
       "      <th></th>\n",
       "      <th>cuento</th>\n",
       "      <th>link</th>\n",
       "      <th>title</th>\n",
       "    </tr>\n",
       "  </thead>\n",
       "  <tbody>\n",
       "    <tr>\n",
       "      <th>0</th>\n",
       "      <td>En el restaurante de los cronopios pasan estas...</td>\n",
       "      <td>http://ciudadseva.com/texto/almuerzos/</td>\n",
       "      <td>Almuerzos</td>\n",
       "    </tr>\n",
       "    <tr>\n",
       "      <th>1</th>\n",
       "      <td>Y después de hacer todo lo que hacen, se levan...</td>\n",
       "      <td>http://ciudadseva.com/texto/amor-77/</td>\n",
       "      <td>Amor 77</td>\n",
       "    </tr>\n",
       "    <tr>\n",
       "      <th>2</th>\n",
       "      <td>Hubo un tiempo en que yo pensaba mucho en los ...</td>\n",
       "      <td>http://ciudadseva.com/texto/axolotl/</td>\n",
       "      <td>Axolotl</td>\n",
       "    </tr>\n",
       "    <tr>\n",
       "      <th>3</th>\n",
       "      <td>Andrée, yo no quería venirme a vivir a su depa...</td>\n",
       "      <td>http://ciudadseva.com/texto/carta-a-una-senori...</td>\n",
       "      <td>Carta a una señorita en París</td>\n",
       "    </tr>\n",
       "    <tr>\n",
       "      <th>4</th>\n",
       "      <td>Nos gustaba la casa porque aparte de espaciosa...</td>\n",
       "      <td>http://ciudadseva.com/texto/casa-tomada/</td>\n",
       "      <td>Casa tomada</td>\n",
       "    </tr>\n",
       "  </tbody>\n",
       "</table>\n",
       "</div>"
      ],
      "text/plain": [
       "                                              cuento  \\\n",
       "0  En el restaurante de los cronopios pasan estas...   \n",
       "1  Y después de hacer todo lo que hacen, se levan...   \n",
       "2  Hubo un tiempo en que yo pensaba mucho en los ...   \n",
       "3  Andrée, yo no quería venirme a vivir a su depa...   \n",
       "4  Nos gustaba la casa porque aparte de espaciosa...   \n",
       "\n",
       "                                                link  \\\n",
       "0             http://ciudadseva.com/texto/almuerzos/   \n",
       "1               http://ciudadseva.com/texto/amor-77/   \n",
       "2               http://ciudadseva.com/texto/axolotl/   \n",
       "3  http://ciudadseva.com/texto/carta-a-una-senori...   \n",
       "4           http://ciudadseva.com/texto/casa-tomada/   \n",
       "\n",
       "                           title  \n",
       "0                      Almuerzos  \n",
       "1                        Amor 77  \n",
       "2                        Axolotl  \n",
       "3  Carta a una señorita en París  \n",
       "4                    Casa tomada  "
      ]
     },
     "execution_count": 4,
     "metadata": {},
     "output_type": "execute_result"
    }
   ],
   "source": [
    "df_cortazar = get_cuentos_by_author_url_as_DataFrame(url_cortazar)\n",
    "df_cortazar.head()"
   ]
  },
  {
   "cell_type": "code",
   "execution_count": 5,
   "metadata": {},
   "outputs": [
    {
     "data": {
      "text/html": [
       "<div>\n",
       "<style>\n",
       "    .dataframe thead tr:only-child th {\n",
       "        text-align: right;\n",
       "    }\n",
       "\n",
       "    .dataframe thead th {\n",
       "        text-align: left;\n",
       "    }\n",
       "\n",
       "    .dataframe tbody tr th {\n",
       "        vertical-align: top;\n",
       "    }\n",
       "</style>\n",
       "<table border=\"1\" class=\"dataframe\">\n",
       "  <thead>\n",
       "    <tr style=\"text-align: right;\">\n",
       "      <th></th>\n",
       "      <th>cuento</th>\n",
       "      <th>link</th>\n",
       "      <th>title</th>\n",
       "    </tr>\n",
       "  </thead>\n",
       "  <tbody>\n",
       "    <tr>\n",
       "      <th>0</th>\n",
       "      <td>Abel y Caín se encontraron después de la muert...</td>\n",
       "      <td>http://ciudadseva.com/texto/abel-y-cain-borges/</td>\n",
       "      <td>Abel y Caín</td>\n",
       "    </tr>\n",
       "    <tr>\n",
       "      <th>1</th>\n",
       "      <td>Era muy lindo, un pueblo laberíntico. A veces,...</td>\n",
       "      <td>http://ciudadseva.com/texto/adrogue/</td>\n",
       "      <td>Adrogué</td>\n",
       "    </tr>\n",
       "    <tr>\n",
       "      <th>2</th>\n",
       "      <td>¿Qué soñará el indescifrable futuro? Soñará qu...</td>\n",
       "      <td>http://ciudadseva.com/texto/alguien-sonara/</td>\n",
       "      <td>Alguien soñará</td>\n",
       "    </tr>\n",
       "    <tr>\n",
       "      <th>3</th>\n",
       "      <td>Los años le han dejado unas palabras en guaran...</td>\n",
       "      <td>http://ciudadseva.com/texto/andres-armoa/</td>\n",
       "      <td>Andrés Armoa</td>\n",
       "    </tr>\n",
       "    <tr>\n",
       "      <th>4</th>\n",
       "      <td>Cierro los ojos y veo una bandada de pájaros. ...</td>\n",
       "      <td>http://ciudadseva.com/texto/argumentum-ornitho...</td>\n",
       "      <td>Argumentum ornithologicum</td>\n",
       "    </tr>\n",
       "  </tbody>\n",
       "</table>\n",
       "</div>"
      ],
      "text/plain": [
       "                                              cuento  \\\n",
       "0  Abel y Caín se encontraron después de la muert...   \n",
       "1  Era muy lindo, un pueblo laberíntico. A veces,...   \n",
       "2  ¿Qué soñará el indescifrable futuro? Soñará qu...   \n",
       "3  Los años le han dejado unas palabras en guaran...   \n",
       "4  Cierro los ojos y veo una bandada de pájaros. ...   \n",
       "\n",
       "                                                link  \\\n",
       "0    http://ciudadseva.com/texto/abel-y-cain-borges/   \n",
       "1               http://ciudadseva.com/texto/adrogue/   \n",
       "2        http://ciudadseva.com/texto/alguien-sonara/   \n",
       "3          http://ciudadseva.com/texto/andres-armoa/   \n",
       "4  http://ciudadseva.com/texto/argumentum-ornitho...   \n",
       "\n",
       "                       title  \n",
       "0                Abel y Caín  \n",
       "1                    Adrogué  \n",
       "2             Alguien soñará  \n",
       "3               Andrés Armoa  \n",
       "4  Argumentum ornithologicum  "
      ]
     },
     "execution_count": 5,
     "metadata": {},
     "output_type": "execute_result"
    }
   ],
   "source": [
    "df_borges = get_cuentos_by_author_url_as_DataFrame(url_borges)\n",
    "df_borges.head()"
   ]
  },
  {
   "cell_type": "markdown",
   "metadata": {},
   "source": [
    "***6. Guardalos en .csv***"
   ]
  },
  {
   "cell_type": "code",
   "execution_count": 6,
   "metadata": {
    "collapsed": true
   },
   "outputs": [],
   "source": [
    "df_cortazar.to_csv('cortazar.csv')"
   ]
  },
  {
   "cell_type": "code",
   "execution_count": 7,
   "metadata": {
    "collapsed": true
   },
   "outputs": [],
   "source": [
    "df_borges.to_csv('borges.csv')"
   ]
  },
  {
   "cell_type": "markdown",
   "metadata": {},
   "source": [
    "***7. Cargalos a un dict o un DataFrame para hacer alguna comparación***"
   ]
  },
  {
   "cell_type": "code",
   "execution_count": null,
   "metadata": {
    "collapsed": true
   },
   "outputs": [],
   "source": []
  },
  {
   "cell_type": "markdown",
   "metadata": {},
   "source": [
    "## Bonus:\n",
    "    Usar time para dar al scraper un tiempo de espera tomado de una distibución uniforme de rango 3.\n",
    "    Usar CountVectorizer de sci-kit learn para analizar los cuentos.\n",
    "    "
   ]
  },
  {
   "cell_type": "code",
   "execution_count": 8,
   "metadata": {},
   "outputs": [
    {
     "data": {
      "text/plain": [
       "CountVectorizer(analyzer='word', binary=False, decode_error='strict',\n",
       "        dtype=<class 'numpy.int64'>, encoding='utf-8', input='content',\n",
       "        lowercase=True, max_df=1.0, max_features=None, min_df=1,\n",
       "        ngram_range=(1, 1), preprocessor=None, stop_words=None,\n",
       "        strip_accents=None, token_pattern='(?u)\\\\b\\\\w\\\\w+\\\\b',\n",
       "        tokenizer=None, vocabulary=None)"
      ]
     },
     "execution_count": 8,
     "metadata": {},
     "output_type": "execute_result"
    }
   ],
   "source": [
    "from sklearn.feature_extraction.text import CountVectorizer\n",
    "\n",
    "countv_bor = CountVectorizer()\n",
    "countv_cor = CountVectorizer()\n",
    "\n",
    "countv_bor.fit(df_borges)\n",
    "countv_cor.fit(df_cortazar)"
   ]
  },
  {
   "cell_type": "code",
   "execution_count": 10,
   "metadata": {},
   "outputs": [
    {
     "ename": "AttributeError",
     "evalue": "'CountVectorizer' object has no attribute 'toarray'",
     "output_type": "error",
     "traceback": [
      "\u001b[0;31m---------------------------------------------------------------------------\u001b[0m",
      "\u001b[0;31mAttributeError\u001b[0m                            Traceback (most recent call last)",
      "\u001b[0;32m<ipython-input-10-123bf0c40044>\u001b[0m in \u001b[0;36m<module>\u001b[0;34m()\u001b[0m\n\u001b[0;32m----> 1\u001b[0;31m \u001b[0mcountv_bor\u001b[0m\u001b[0;34m.\u001b[0m\u001b[0mtoarray\u001b[0m\u001b[0;34m(\u001b[0m\u001b[0;34m)\u001b[0m\u001b[0;34m\u001b[0m\u001b[0m\n\u001b[0m",
      "\u001b[0;31mAttributeError\u001b[0m: 'CountVectorizer' object has no attribute 'toarray'"
     ]
    }
   ],
   "source": [
    "countv_bor.toarray()"
   ]
  },
  {
   "cell_type": "code",
   "execution_count": null,
   "metadata": {
    "collapsed": true
   },
   "outputs": [],
   "source": []
  }
 ],
 "metadata": {
  "kernelspec": {
   "display_name": "Python 3",
   "language": "python",
   "name": "python3"
  },
  "language_info": {
   "codemirror_mode": {
    "name": "ipython",
    "version": 3
   },
   "file_extension": ".py",
   "mimetype": "text/x-python",
   "name": "python",
   "nbconvert_exporter": "python",
   "pygments_lexer": "ipython3",
   "version": "3.6.1"
  }
 },
 "nbformat": 4,
 "nbformat_minor": 1
}
