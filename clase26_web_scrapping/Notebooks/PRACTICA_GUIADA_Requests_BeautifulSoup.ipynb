{
 "cells": [
  {
   "cell_type": "markdown",
   "metadata": {},
   "source": [
    "## Práctica Guiada Requests y Beautiful Soup"
   ]
  },
  {
   "cell_type": "markdown",
   "metadata": {},
   "source": [
    "En esta Práctica Guiada usaremos BeautifulSoup para descargar la información de la primera división de fútbol de Argentina de la página de ESPN:\n",
    "\n",
    "    http://www.espn.com.ar/futbol/posiciones/_/liga/arg.\n",
    "\n",
    "Debemos descargarla, extraerla, ordenarla y guardarla en un csv y/o un DataFrame para su uso. \n",
    "Primero importamos las librerias que necesitaremos."
   ]
  },
  {
   "cell_type": "code",
   "execution_count": 1,
   "metadata": {
    "collapsed": true
   },
   "outputs": [],
   "source": [
    "import requests\n",
    "from bs4 import BeautifulSoup\n",
    "import pandas as pd\n",
    "\n",
    "#Con esto podemos echar un vistazo a código HTML directamente en la Notebook\n",
    "from IPython.display import HTML, display"
   ]
  },
  {
   "cell_type": "markdown",
   "metadata": {},
   "source": [
    "Para chequear que no hay problema scrapeando esta información, revisamos el archivo \"robots.txt\""
   ]
  },
  {
   "cell_type": "code",
   "execution_count": 2,
   "metadata": {
    "scrolled": false
   },
   "outputs": [
    {
     "name": "stdout",
     "output_type": "stream",
     "text": [
      "User-agent: *\r\n",
      "Disallow: *print?id\r\n",
      "Disallow: /format/\r\n",
      "Disallow: /nfl/format/player/design09/dropdown\r\n",
      "Disallow: /nba/format/player/design09/dropdown\r\n",
      "Disallow: /golf/deportes/format/player/design09/dropdown\r\n",
      "Disallow: /extra/mma/deportes/format/player/design09/dropdown\r\n",
      "Disallow: /extra/mma/format/player/design09/dropdown\r\n",
      "Disallow: /rpm/deportes/format/player/design09/dropdown\r\n",
      "Disallow: /golf/format/player/design09/dropdown\r\n",
      "Disallow: /mlb/format/player/design09/dropdown\r\n",
      "Disallow: /futbol/copamundial2010/\r\n",
      "Disallow: /members/v3_1/login\r\n",
      "Disallow: /insider/\r\n",
      "Disallow: /videohub/video/clip?id\r\n",
      "Disallow: /futbolint/noticias/\r\n",
      "Disallow: /futbolargentino/columnas/\r\n",
      "Disallow: /blogs/null\r\n",
      "Disallow: /personalization/v3_1/personalization\r\n",
      "Disallow: /futbol/equipo/null\r\n",
      "Disallow: /mundial2006/\r\n",
      "Disallow: /webslices/\r\n",
      "\r\n",
      "\n"
     ]
    }
   ],
   "source": [
    "robots = 'http://www.espn.com.ar/' + 'robots.txt'\n",
    "print(requests.get(robots).text)"
   ]
  },
  {
   "cell_type": "markdown",
   "metadata": {},
   "source": [
    "No aparece nuestra URL, entonces procedemos.\n",
    "\n",
    "Hacemos un requests \"GET\" a la URL con la tabla, y vemos el contenido de la respuesta en la Notebook"
   ]
  },
  {
   "cell_type": "code",
   "execution_count": 3,
   "metadata": {
    "collapsed": true
   },
   "outputs": [],
   "source": [
    "url = 'http://www.espn.com.ar/futbol/posiciones/_/liga/arg.1'\n",
    "resp = requests.get(url)"
   ]
  },
  {
   "cell_type": "code",
   "execution_count": 4,
   "metadata": {
    "scrolled": false
   },
   "outputs": [
    {
     "data": {
      "text/html": [
       "\n",
       "\t<!DOCTYPE html>\n",
       "\t<html class=\"no-icon-fonts\">\n",
       "\t<head>\n",
       "\t\t<meta http-equiv=\"content-type\" content=\"text/html; charset=UTF-8\" />\n",
       "<meta http-equiv=\"x-ua-compatible\" content=\"IE=edge,chrome=1\" />\n",
       "<meta name=\"viewport\" content=\"initial-scale=1.0, maximum-scale=1.0, user-scalable=no\">\n",
       "<link rel=\"canonical\" href=\"http://www.espn.com.ar/futbol/posiciones/_/liga/arg.1\" />\n",
       "<title>Posiciones de la Superliga Argentina</title>\n",
       "<meta name=\"description\">\n",
       "<meta name=\"news_keywords\" content=\"\" />\n",
       "<meta name=\"keywords\" content=\"\" />\n",
       "<meta property=\"fb:app_id\" content=\"116656161708917\" />\n",
       "<meta property=\"og:site_name\" content=\"ESPN.com.ar\" />\n",
       "<meta property=\"og:url\" content=\"http://www.espn.com.ar/futbol/posiciones/_/liga/arg.1\" />\n",
       "<meta property=\"og:title\" content=\"Posiciones de la Superliga Argentina\"/>\n",
       "<meta property=\"og:description\" content=\"Read more on ESPN\"/>\n",
       "<meta property=\"og:image\" content=\"http://a1.espncdn.com/combiner/i?img=%2Fi%2Fespn%2Fespn_logos%2Fespn_red.png\"/>\n",
       "<meta property=\"og:image:width\" content=\"1200\" />\n",
       "<meta property=\"og:image:height\" content=\"630\" />\n",
       "<meta property=\"og:type\" content=\"website\" />\n",
       "<meta name=\"twitter:site\" content=\"espn\" />\n",
       "<meta name=\"twitter:url\" content=\"http://www.espn.com.ar/futbol/posiciones/_/liga/arg.1\" />\n",
       "<meta name=\"twitter:title\" content=\"Posiciones de la Superliga Argentina\"/>\n",
       "<meta name=\"twitter:image\" content=\"http://a1.espncdn.com/combiner/i?img=%2Fi%2Fespn%2Fespn_logos%2Fespn_red.png\"/>\n",
       "<meta name=\"twitter:card\" content=\"summary\">\n",
       "<meta name=\"twitter:app:name:iphone\" content=\"ESPN\"/>\n",
       "<meta name=\"twitter:app:id:iphone\" content=\"317469184\"/>\n",
       "<meta name=\"twitter:app:name:googleplay\" content=\"ESPN\"/>\n",
       "<meta name=\"twitter:app:id:googleplay\" content=\"com.espn.score_center\"/>\n",
       "<meta name=\"title\" content=\"Posiciones de la Superliga Argentina\"/>\n",
       "<meta name=\"medium\" content=\"website\" />\n",
       "\n",
       "<!-- Indicate preferred brand name for Google to display -->\n",
       "<script type=\"application/ld+json\">\n",
       "\t{\n",
       "\t\t\"@context\": \"http://schema.org\",\n",
       "\t\t\"@type\":    \"WebSite\",\n",
       "\t\t\"name\":     \"ESPN\",\n",
       "\t\t\"url\":      \"http://www.espn.com.ar/\"\n",
       "\t}\n",
       "</script>\n",
       "<!--\n",
       "<PageMap>\n",
       "\t<DataObject type=\"document\">\n",
       "\t\t<Attribute name=\"title\">Posiciones de la Superliga Argentina</Attribute>\n",
       "\t</DataObject>\n",
       "\t<DataObject type=\"thumbnail\">\n",
       "\t\t<Attribute name=\"src\" value=\"http://a1.espncdn.com/combiner/i?img=%2Fi%2Fespn%2Fespn_logos%2Fespn_red.png\" />\n",
       "\t\t<Attribute name=\"width\" value=\"1200\" />\n",
       "\t\t<Attribute name=\"height\" value=\"630\" />\n",
       "\t</DataObject>\n",
       "</PageMap>\n",
       "-->\n",
       "<link rel=\"alternate\" hreflang=\"en-us\" href=\"http://www.espnfc.us/\" />\n",
       "<link rel=\"alternate\" hreflang=\"en-in\" href=\"http://www.espn.in/football/table/_/league/arg.1\" />\n",
       "<link rel=\"alternate\" hreflang=\"es-gt\" href=\"http://www.espn.com.ve/futbol/posiciones/_/liga/arg.1\" />\n",
       "<link rel=\"alternate\" hreflang=\"en\" href=\"http://www.espnfc.com/\" />\n",
       "<link rel=\"alternate\" hreflang=\"es-es\" href=\"http://espndeportes.espn.com/futbol/posiciones/_/liga/arg.1\" />\n",
       "<link rel=\"alternate\" hreflang=\"en-za\" href=\"http://kwese.espn.com/football/table/_/league/arg.1\" />\n",
       "<link rel=\"alternate\" hreflang=\"es-ve\" href=\"http://www.espn.com.ve/futbol/posiciones/_/liga/arg.1\" />\n",
       "<link rel=\"alternate\" hreflang=\"es-cr\" href=\"http://www.espn.com.ve/futbol/posiciones/_/liga/arg.1\" />\n",
       "<link rel=\"alternate\" hreflang=\"es-cl\" href=\"http://www.espn.cl/futbol/posiciones/_/liga/arg.1\" />\n",
       "<link rel=\"alternate\" hreflang=\"es-mx\" href=\"http://www.espn.com.mx/futbol/posiciones/_/liga/arg.1\" />\n",
       "<link rel=\"alternate\" hreflang=\"es\" href=\"http://espndeportes.espn.com/futbol/posiciones/_/liga/arg.1\" />\n",
       "<link rel=\"alternate\" hreflang=\"es-co\" href=\"http://www.espn.com.co/futbol/posiciones/_/liga/arg.1\" />\n",
       "<link rel=\"alternate\" hreflang=\"es-pe\" href=\"http://www.espn.com.ar/futbol/posiciones/_/liga/arg.1\" />\n",
       "<link rel=\"alternate\" hreflang=\"es-ar\" href=\"http://www.espn.com.ar/futbol/posiciones/_/liga/arg.1\" />\n",
       "<link rel=\"alternate\" hreflang=\"en-au\" href=\"http://www.espnfc.com.au/\" />\n",
       "<link rel=\"alternate\" hreflang=\"es-us\" href=\"http://espndeportes.espn.com/futbol/posiciones/_/liga/arg.1\" />\n",
       "<link rel=\"alternate\" hreflang=\"en-gb\" href=\"http://www.espn.co.uk/football/table/_/league/arg.1\" />\n",
       "<script type=\"text/javascript\">\n",
       ";(function(){\n",
       "function rc(a){for(var b=a+\"=\",c=document.cookie.split(\";\"),d=0;d<c.length;d++){for(var e=c[d];\" \"===e.charAt(0);)e=e.substring(1,e.length);if(0===e.indexOf(b))return e.substring(b.length,e.length)}return null}var _nr=!1,_nrCookie=rc(\"_nr\");null!==_nrCookie?\"1\"===_nrCookie&&(_nr=!0):Math.floor(100*Math.random())+1===13?(_nr=!0,document.cookie=\"_nr=1; path=/\"):(_nr=!1,document.cookie=\"_nr=0; path=/\"),_nr&&(window.NREUM||(NREUM={}),__nr_require=function(t,e,n){function r(n){if(!e[n]){var o=e[n]={exports:{}};t[n][0].call(o.exports,function(e){var o=t[n][1][e];return r(o||e)},o,o.exports)}return e[n].exports}if(\"function\"==typeof __nr_require)return __nr_require;for(var o=0;o<n.length;o++)r(n[o]);return r}({1:[function(t,e,n){function r(t){try{c.console&&console.log(t)}catch(e){}}var o,i=t(\"ee\"),a=t(19),c={};try{o=localStorage.getItem(\"__nr_flags\").split(\",\"),console&&\"function\"==typeof console.log&&(c.console=!0,o.indexOf(\"dev\")!==-1&&(c.dev=!0),o.indexOf(\"nr_dev\")!==-1&&(c.nrDev=!0))}catch(s){}c.nrDev&&i.on(\"internal-error\",function(t){r(t.stack)}),c.dev&&i.on(\"fn-err\",function(t,e,n){r(n.stack)}),c.dev&&(r(\"NR AGENT IN DEVELOPMENT MODE\"),r(\"flags: \"+a(c,function(t,e){return t}).join(\", \")))},{}],2:[function(t,e,n){function r(t,e,n,r,o){try{h?h-=1:i(\"err\",[o||new UncaughtException(t,e,n)])}catch(c){try{i(\"ierr\",[c,(new Date).getTime(),!0])}catch(s){}}return\"function\"==typeof f&&f.apply(this,a(arguments))}function UncaughtException(t,e,n){this.message=t||\"Uncaught error with no additional information\",this.sourceURL=e,this.line=n}function o(t){i(\"err\",[t,(new Date).getTime()])}var i=t(\"handle\"),a=t(20),c=t(\"ee\"),s=t(\"loader\"),f=window.onerror,u=!1,h=0;s.features.err=!0,t(1),window.onerror=r;try{throw new Error}catch(p){\"stack\"in p&&(t(12),t(11),\"addEventListener\"in window&&t(6),s.xhrWrappable&&t(13),u=!0)}c.on(\"fn-start\",function(t,e,n){u&&(h+=1)}),c.on(\"fn-err\",function(t,e,n){u&&(this.thrown=!0,o(n))}),c.on(\"fn-end\",function(){u&&!this.thrown&&h>0&&(h-=1)}),c.on(\"internal-error\",function(t){i(\"ierr\",[t,(new Date).getTime(),!0])})},{}],3:[function(t,e,n){t(\"loader\").features.ins=!0},{}],4:[function(t,e,n){function r(){N++,S=y.hash,this[u]=Date.now()}function o(){N--,y.hash!==S&&i(0,!0);var t=Date.now();this[l]=~~this[l]+t-this[u],this[h]=t}function i(t,e){x.emit(\"newURL\",[\"\"+y,e])}function a(t,e){t.on(e,function(){this[e]=Date.now()})}var c=\"-start\",s=\"-end\",f=\"-body\",u=\"fn\"+c,h=\"fn\"+s,p=\"cb\"+c,d=\"cb\"+s,l=\"jsTime\",m=\"fetch\",v=\"addEventListener\",w=window,y=w.location;if(w[v]){var g=t(9),b=t(10),x=t(8),E=t(6),T=t(12),O=t(7),P=t(13),R=t(\"ee\"),D=R.get(\"tracer\");t(14),t(\"loader\").features.spa=!0;var S,M=w[v],N=0;R.on(u,r),R.on(p,r),R.on(h,o),R.on(d,o),R.buffer([u,h,\"xhr-done\",\"xhr-resolved\"]),E.buffer([u]),T.buffer([\"setTimeout\"+s,\"clearTimeout\"+c,u]),P.buffer([u,\"new-xhr\",\"open-xhr\"+c]),O.buffer([m+c,m+\"-done\",m+f+c,m+f+s]),x.buffer([\"newURL\"]),g.buffer([u]),b.buffer([\"propagate\",p,d,\"executor-err\",\"resolve\"+c]),D.buffer([u,\"no-\"+u]),a(P,\"open-xhr\"+c),a(R,\"xhr-resolved\"),a(R,\"xhr-done\"),a(O,m+c),a(O,m+\"-done\"),x.on(\"pushState-end\",i),x.on(\"replaceState-end\",i),M(\"hashchange\",i,!0),M(\"load\",i,!0),M(\"popstate\",function(){i(0,N>1)},!0)}},{}],5:[function(t,e,n){function r(t){}if(window.performance&&window.performance.timing&&window.performance.getEntriesByType){var o=t(\"ee\"),i=t(\"handle\"),a=t(12),c=t(11),s=\"learResourceTimings\",f=\"addEventListener\",u=\"resourcetimingbufferfull\",h=\"bstResource\",p=\"resource\",d=\"-start\",l=\"-end\",m=\"fn\"+d,v=\"fn\"+l,w=\"bstTimer\",y=\"pushState\";t(\"loader\").features.stn=!0,t(8);var g=NREUM.o.EV;o.on(m,function(t,e){var n=t[0];n instanceof g&&(this.bstStart=Date.now())}),o.on(v,function(t,e){var n=t[0];n instanceof g&&i(\"bst\",[n,e,this.bstStart,Date.now()])}),a.on(m,function(t,e,n){this.bstStart=Date.now(),this.bstType=n}),a.on(v,function(t,e){i(w,[e,this.bstStart,Date.now(),this.bstType])}),c.on(m,function(){this.bstStart=Date.now()}),c.on(v,function(t,e){i(w,[e,this.bstStart,Date.now(),\"requestAnimationFrame\"])}),o.on(y+d,function(t){this.time=Date.now(),this.startPath=location.pathname+location.hash}),o.on(y+l,function(t){i(\"bstHist\",[location.pathname+location.hash,this.startPath,this.time])}),f in window.performance&&(window.performance[\"c\"+s]?window.performance[f](u,function(t){i(h,[window.performance.getEntriesByType(p)]),window.performance[\"c\"+s]()},!1):window.performance[f](\"webkit\"+u,function(t){i(h,[window.performance.getEntriesByType(p)]),window.performance[\"webkitC\"+s]()},!1)),document[f](\"scroll\",r,!1),document[f](\"keypress\",r,!1),document[f](\"click\",r,!1)}},{}],6:[function(t,e,n){function r(t){for(var e=t;e&&!e.hasOwnProperty(u);)e=Object.getPrototypeOf(e);e&&o(e)}function o(t){c.inPlace(t,[u,h],\"-\",i)}function i(t,e){return t[1]}var a=t(\"ee\").get(\"events\"),c=t(21)(a),s=t(\"gos\"),f=XMLHttpRequest,u=\"addEventListener\",h=\"removeEventListener\";e.exports=a,\"getPrototypeOf\"in Object?(r(document),r(window),r(f.prototype)):f.prototype.hasOwnProperty(u)&&(o(window),o(f.prototype)),a.on(u+\"-start\",function(t,e){if(t[1]){var n=t[1];if(\"function\"==typeof n){var r=s(n,\"nr@wrapped\",function(){return c(n,\"fn-\",null,n.name||\"anonymous\")});this.wrapped=t[1]=r}else\"function\"==typeof n.handleEvent&&c.inPlace(n,[\"handleEvent\"],\"fn-\")}}),a.on(h+\"-start\",function(t){var e=this.wrapped;e&&(t[1]=e)})},{}],7:[function(t,e,n){function r(t,e,n){var r=t[e];\"function\"==typeof r&&(t[e]=function(){var t=r.apply(this,arguments);return o.emit(n+\"start\",arguments,t),t.then(function(e){return o.emit(n+\"end\",[null,e],t),e},function(e){throw o.emit(n+\"end\",[e],t),e})})}var o=t(\"ee\").get(\"fetch\"),i=t(19);e.exports=o;var a=window,c=\"fetch-\",s=c+\"body-\",f=[\"arrayBuffer\",\"blob\",\"json\",\"text\",\"formData\"],u=a.Request,h=a.Response,p=a.fetch,d=\"prototype\";u&&h&&p&&(i(f,function(t,e){r(u[d],e,s),r(h[d],e,s)}),r(a,\"fetch\",c),o.on(c+\"end\",function(t,e){var n=this;e?e.clone().arrayBuffer().then(function(t){n.rxSize=t.byteLength,o.emit(c+\"done\",[null,e],n)}):o.emit(c+\"done\",[t],n)}))},{}],8:[function(t,e,n){var r=t(\"ee\").get(\"history\"),o=t(21)(r);e.exports=r,o.inPlace(window.history,[\"pushState\",\"replaceState\"],\"-\")},{}],9:[function(t,e,n){var r=t(\"ee\").get(\"mutation\"),o=t(21)(r),i=NREUM.o.MO;e.exports=r,i&&(window.MutationObserver=function(t){return this instanceof i?new i(o(t,\"fn-\")):i.apply(this,arguments)},MutationObserver.prototype=i.prototype)},{}],10:[function(t,e,n){function r(t){var e=a.context(),n=c(t,\"executor-\",e),r=new f(n);return a.context(r).getCtx=function(){return e},a.emit(\"new-promise\",[r,e],e),r}function o(t,e){return e}var i=t(21),a=t(\"ee\").get(\"promise\"),c=i(a),s=t(19),f=NREUM.o.PR;e.exports=a,f&&(window.Promise=r,[\"all\",\"race\"].forEach(function(t){var e=f[t];f[t]=function(n){function r(t){return function(){a.emit(\"propagate\",[null,!o],i),o=o||!t}}var o=!1;s(n,function(e,n){Promise.resolve(n).then(r(\"all\"===t),r(!1))});var i=e.apply(f,arguments),c=f.resolve(i);return c}}),[\"resolve\",\"reject\"].forEach(function(t){var e=f[t];f[t]=function(t){var n=e.apply(f,arguments);return t!==n&&a.emit(\"propagate\",[t,!0],n),n}}),f.prototype[\"catch\"]=function(t){return this.then(null,t)},f.prototype=Object.create(f.prototype,{constructor:{value:r}}),s(Object.getOwnPropertyNames(f),function(t,e){try{r[e]=f[e]}catch(n){}}),a.on(\"executor-start\",function(t){t[0]=c(t[0],\"resolve-\",this),t[1]=c(t[1],\"resolve-\",this)}),a.on(\"executor-err\",function(t,e,n){t[1](n)}),c.inPlace(f.prototype,[\"then\"],\"then-\",o),a.on(\"then-start\",function(t,e){this.promise=e,t[0]=c(t[0],\"cb-\",this),t[1]=c(t[1],\"cb-\",this)}),a.on(\"then-end\",function(t,e,n){this.nextPromise=n;var r=this.promise;a.emit(\"propagate\",[r,!0],n)}),a.on(\"cb-end\",function(t,e,n){a.emit(\"propagate\",[n,!0],this.nextPromise)}),a.on(\"propagate\",function(t,e,n){this.getCtx&&!e||(this.getCtx=function(){if(t instanceof Promise)var e=a.context(t);return e&&e.getCtx?e.getCtx():this})}),r.toString=function(){return\"\"+f})},{}],11:[function(t,e,n){var r=t(\"ee\").get(\"raf\"),o=t(21)(r),i=\"equestAnimationFrame\";e.exports=r,o.inPlace(window,[\"r\"+i,\"mozR\"+i,\"webkitR\"+i,\"msR\"+i],\"raf-\"),r.on(\"raf-start\",function(t){t[0]=o(t[0],\"fn-\")})},{}],12:[function(t,e,n){function r(t,e,n){t[0]=a(t[0],\"fn-\",null,n)}function o(t,e,n){this.method=n,this.timerDuration=\"number\"==typeof t[1]?t[1]:0,t[0]=a(t[0],\"fn-\",this,n)}var i=t(\"ee\").get(\"timer\"),a=t(21)(i),c=\"setTimeout\",s=\"setInterval\",f=\"clearTimeout\",u=\"-start\",h=\"-\";e.exports=i,a.inPlace(window,[c,\"setImmediate\"],c+h),a.inPlace(window,[s],s+h),a.inPlace(window,[f,\"clearImmediate\"],f+h),i.on(s+u,r),i.on(c+u,o)},{}],13:[function(t,e,n){function r(t,e){h.inPlace(e,[\"onreadystatechange\"],\"fn-\",c)}function o(){var t=this,e=u.context(t);t.readyState>3&&!e.resolved&&(e.resolved=!0,u.emit(\"xhr-resolved\",[],t)),h.inPlace(t,v,\"fn-\",c)}function i(t){w.push(t),l&&(g=-g,b.data=g)}function a(){for(var t=0;t<w.length;t++)r([],w[t]);w.length&&(w=[])}function c(t,e){return e}function s(t,e){for(var n in t)e[n]=t[n];return e}t(6);var f=t(\"ee\"),u=f.get(\"xhr\"),h=t(21)(u),p=NREUM.o,d=p.XHR,l=p.MO,m=\"readystatechange\",v=[\"onload\",\"onerror\",\"onabort\",\"onloadstart\",\"onloadend\",\"onprogress\",\"ontimeout\"],w=[];e.exports=u;var y=window.XMLHttpRequest=function(t){var e=new d(t);try{u.emit(\"new-xhr\",[e],e),e.addEventListener(m,o,!1)}catch(n){try{u.emit(\"internal-error\",[n])}catch(r){}}return e};if(s(d,y),y.prototype=d.prototype,h.inPlace(y.prototype,[\"open\",\"send\"],\"-xhr-\",c),u.on(\"send-xhr-start\",function(t,e){r(t,e),i(e)}),u.on(\"open-xhr-start\",r),l){var g=1,b=document.createTextNode(g);new l(a).observe(b,{characterData:!0})}else f.on(\"fn-end\",function(t){t[0]&&t[0].type===m||a()})},{}],14:[function(t,e,n){function r(t){var e=this.params,n=this.metrics;if(!this.ended){this.ended=!0;for(var r=0;r<h;r++)t.removeEventListener(u[r],this.listener,!1);if(!e.aborted){if(n.duration=(new Date).getTime()-this.startTime,4===t.readyState){e.status=t.status;var i=o(t,this.lastSize);if(i&&(n.rxSize=i),this.sameOrigin){var a=t.getResponseHeader(\"X-NewRelic-App-Data\");a&&(e.cat=a.split(\", \").pop())}}else e.status=0;n.cbTime=this.cbTime,f.emit(\"xhr-done\",[t],t),c(\"xhr\",[e,n,this.startTime])}}}function o(t,e){var n=t.responseType;if(\"json\"===n&&null!==e)return e;var r=\"arraybuffer\"===n||\"blob\"===n||\"json\"===n?t.response:t.responseText;return l(r)}function i(t,e){var n=s(e),r=t.params;r.host=n.hostname+\":\"+n.port,r.pathname=n.pathname,t.sameOrigin=n.sameOrigin}var a=t(\"loader\");if(a.xhrWrappable){var c=t(\"handle\"),s=t(15),f=t(\"ee\"),u=[\"load\",\"error\",\"abort\",\"timeout\"],h=u.length,p=t(\"id\"),d=t(18),l=t(17),m=window.XMLHttpRequest;a.features.xhr=!0,t(13),f.on(\"new-xhr\",function(t){var e=this;e.totalCbs=0,e.called=0,e.cbTime=0,e.end=r,e.ended=!1,e.xhrGuids={},e.lastSize=null,d&&(d>34||d<10)||window.opera||t.addEventListener(\"progress\",function(t){e.lastSize=t.loaded},!1)}),f.on(\"open-xhr-start\",function(t){this.params={method:t[0]},i(this,t[1]),this.metrics={}}),f.on(\"open-xhr-end\",function(t,e){\"loader_config\"in NREUM&&\"xpid\"in NREUM.loader_config&&this.sameOrigin&&e.setRequestHeader(\"X-NewRelic-ID\",NREUM.loader_config.xpid)}),f.on(\"send-xhr-start\",function(t,e){var n=this.metrics,r=t[0],o=this;if(n&&r){var i=l(r);i&&(n.txSize=i)}this.startTime=(new Date).getTime(),this.listener=function(t){try{\"abort\"===t.type&&(o.params.aborted=!0),(\"load\"!==t.type||o.called===o.totalCbs&&(o.onloadCalled||\"function\"!=typeof e.onload))&&o.end(e)}catch(n){try{f.emit(\"internal-error\",[n])}catch(r){}}};for(var a=0;a<h;a++)e.addEventListener(u[a],this.listener,!1)}),f.on(\"xhr-cb-time\",function(t,e,n){this.cbTime+=t,e?this.onloadCalled=!0:this.called+=1,this.called!==this.totalCbs||!this.onloadCalled&&\"function\"==typeof n.onload||this.end(n)}),f.on(\"xhr-load-added\",function(t,e){var n=\"\"+p(t)+!!e;this.xhrGuids&&!this.xhrGuids[n]&&(this.xhrGuids[n]=!0,this.totalCbs+=1)}),f.on(\"xhr-load-removed\",function(t,e){var n=\"\"+p(t)+!!e;this.xhrGuids&&this.xhrGuids[n]&&(delete this.xhrGuids[n],this.totalCbs-=1)}),f.on(\"addEventListener-end\",function(t,e){e instanceof m&&\"load\"===t[0]&&f.emit(\"xhr-load-added\",[t[1],t[2]],e)}),f.on(\"removeEventListener-end\",function(t,e){e instanceof m&&\"load\"===t[0]&&f.emit(\"xhr-load-removed\",[t[1],t[2]],e)}),f.on(\"fn-start\",function(t,e,n){e instanceof m&&(\"onload\"===n&&(this.onload=!0),(\"load\"===(t[0]&&t[0].type)||this.onload)&&(this.xhrCbStart=(new Date).getTime()))}),f.on(\"fn-end\",function(t,e){this.xhrCbStart&&f.emit(\"xhr-cb-time\",[(new Date).getTime()-this.xhrCbStart,this.onload,e],e)})}},{}],15:[function(t,e,n){e.exports=function(t){var e=document.createElement(\"a\"),n=window.location,r={};e.href=t,r.port=e.port;var o=e.href.split(\"://\");!r.port&&o[1]&&(r.port=o[1].split(\"/\")[0].split(\"@\").pop().split(\":\")[1]),r.port&&\"0\"!==r.port||(r.port=\"https\"===o[0]?\"443\":\"80\"),r.hostname=e.hostname||n.hostname,r.pathname=e.pathname,r.protocol=o[0],\"/\"!==r.pathname.charAt(0)&&(r.pathname=\"/\"+r.pathname);var i=!e.protocol||\":\"===e.protocol||e.protocol===n.protocol,a=e.hostname===document.domain&&e.port===n.port;return r.sameOrigin=i&&(!e.hostname||a),r}},{}],16:[function(t,e,n){function r(){}function o(t,e,n){return function(){return i(t,[(new Date).getTime()].concat(c(arguments)),e?null:this,n),e?void 0:this}}var i=t(\"handle\"),a=t(19),c=t(20),s=t(\"ee\").get(\"tracer\"),f=NREUM;\"undefined\"==typeof window.newrelic&&(newrelic=f);var u=[\"setPageViewName\",\"setCustomAttribute\",\"setErrorHandler\",\"finished\",\"addToTrace\",\"inlineHit\"],h=\"api-\",p=h+\"ixn-\";a(u,function(t,e){f[e]=o(h+e,!0,\"api\")}),f.addPageAction=o(h+\"addPageAction\",!0),e.exports=newrelic,f.interaction=function(){return(new r).get()};var d=r.prototype={createTracer:function(t,e){var n={},r=this,o=\"function\"==typeof e;return i(p+\"tracer\",[Date.now(),t,n],r),function(){if(s.emit((o?\"\":\"no-\")+\"fn-start\",[Date.now(),r,o],n),o)try{return e.apply(this,arguments)}finally{s.emit(\"fn-end\",[Date.now()],n)}}}};a(\"setName,setAttribute,save,ignore,onEnd,getContext,end,get\".split(\",\"),function(t,e){d[e]=o(p+e)}),newrelic.noticeError=function(t){\"string\"==typeof t&&(t=new Error(t)),i(\"err\",[t,(new Date).getTime()])}},{}],17:[function(t,e,n){e.exports=function(t){if(\"string\"==typeof t&&t.length)return t.length;if(\"object\"==typeof t){if(\"undefined\"!=typeof ArrayBuffer&&t instanceof ArrayBuffer&&t.byteLength)return t.byteLength;if(\"undefined\"!=typeof Blob&&t instanceof Blob&&t.size)return t.size;if(!(\"undefined\"!=typeof FormData&&t instanceof FormData))try{return JSON.stringify(t).length}catch(e){return}}}},{}],18:[function(t,e,n){var r=0,o=navigator.userAgent.match(/Firefox[\\/\\s](\\d+\\.\\d+)/);o&&(r=+o[1]),e.exports=r},{}],19:[function(t,e,n){function r(t,e){var n=[],r=\"\",i=0;for(r in t)o.call(t,r)&&(n[i]=e(r,t[r]),i+=1);return n}var o=Object.prototype.hasOwnProperty;e.exports=r},{}],20:[function(t,e,n){function r(t,e,n){e||(e=0),\"undefined\"==typeof n&&(n=t?t.length:0);for(var r=-1,o=n-e||0,i=Array(o<0?0:o);++r<o;)i[r]=t[e+r];return i}e.exports=r},{}],21:[function(t,e,n){function r(t){return!(t&&\"function\"==typeof t&&t.apply&&!t[a])}var o=t(\"ee\"),i=t(20),a=\"nr@original\",c=Object.prototype.hasOwnProperty,s=!1;e.exports=function(t){function e(t,e,n,o){function nrWrapper(){var r,a,c,s;try{a=this,r=i(arguments),c=\"function\"==typeof n?n(r,a):n||{}}catch(u){h([u,\"\",[r,a,o],c])}f(e+\"start\",[r,a,o],c);try{return s=t.apply(a,r)}catch(p){throw f(e+\"err\",[r,a,p],c),p}finally{f(e+\"end\",[r,a,s],c)}}return r(t)?t:(e||(e=\"\"),nrWrapper[a]=t,u(t,nrWrapper),nrWrapper)}function n(t,n,o,i){o||(o=\"\");var a,c,s,f=\"-\"===o.charAt(0);for(s=0;s<n.length;s++)c=n[s],a=t[c],r(a)||(t[c]=e(a,f?c+o:o,i,c))}function f(e,n,r){if(!s){s=!0;try{t.emit(e,n,r)}catch(o){h([o,e,n,r])}s=!1}}function u(t,e){if(Object.defineProperty&&Object.keys)try{var n=Object.keys(t);return n.forEach(function(n){Object.defineProperty(e,n,{get:function(){return t[n]},set:function(e){return t[n]=e,e}})}),e}catch(r){h([r])}for(var o in t)c.call(t,o)&&(e[o]=t[o]);return e}function h(e){try{t.emit(\"internal-error\",e)}catch(n){}}return t||(t=o),e.inPlace=n,e.flag=a,e}},{}],ee:[function(t,e,n){function r(){}function o(t){function e(t){return t&&t instanceof r?t:t?c(t,a,i):i()}function n(n,r,o){t&&t(n,r,o);for(var i=e(o),a=p(n),c=a.length,s=0;s<c;s++)a[s].apply(i,r);var u=f[v[n]];return u&&u.push([w,n,r,i]),i}function h(t,e){m[t]=p(t).concat(e)}function p(t){return m[t]||[]}function d(t){return u[t]=u[t]||o(n)}function l(t,e){s(t,function(t,n){e=e||\"feature\",v[n]=e,e in f||(f[e]=[])})}var m={},v={},w={on:h,emit:n,get:d,listeners:p,context:e,buffer:l};return w}function i(){return new r}var a=\"nr@context\",c=t(\"gos\"),s=t(19),f={},u={},h=e.exports=o();h.backlog=f},{}],gos:[function(t,e,n){function r(t,e,n){if(o.call(t,e))return t[e];var r=n();if(Object.defineProperty&&Object.keys)try{return Object.defineProperty(t,e,{value:r,writable:!0,enumerable:!1}),r}catch(i){}return t[e]=r,r}var o=Object.prototype.hasOwnProperty;e.exports=r},{}],handle:[function(t,e,n){function r(t,e,n,r){o.buffer([t],r),o.emit(t,e,n)}var o=t(\"ee\").get(\"handle\");e.exports=r,r.ee=o},{}],id:[function(t,e,n){function r(t){var e=typeof t;return!t||\"object\"!==e&&\"function\"!==e?-1:t===window?0:a(t,i,function(){return o++})}var o=1,i=\"nr@id\",a=t(\"gos\");e.exports=r},{}],loader:[function(t,e,n){function r(){if(!g++){var t=y.info=NREUM.info,e=u.getElementsByTagName(\"script\")[0];if(t&&t.licenseKey&&t.applicationID&&e){s(v,function(e,n){t[e]||(t[e]=n)});var n=\"https\"===m.split(\":\")[0]||t.sslForHttp;y.proto=n?\"https://\":\"http://\",c(\"mark\",[\"onload\",a()],null,\"api\");var r=u.createElement(\"script\");r.src=y.proto+t.agent,e.parentNode.insertBefore(r,e)}}}function o(){\"complete\"===u.readyState&&i()}function i(){c(\"mark\",[\"domContent\",a()],null,\"api\")}function a(){return(new Date).getTime()}var c=t(\"handle\"),s=t(19),f=window,u=f.document,h=\"addEventListener\",p=\"attachEvent\",d=f.XMLHttpRequest,l=d&&d.prototype;NREUM.o={ST:setTimeout,CT:clearTimeout,XHR:d,REQ:f.Request,EV:f.Event,PR:f.Promise,MO:f.MutationObserver},t(16);var m=\"\"+location,v={beacon:\"bam.nr-data.net\",errorBeacon:\"bam.nr-data.net\",agent:\"js-agent.newrelic.com/nr-spa-974.min.js\"},w=d&&l&&l[h]&&!/CriOS/.test(navigator.userAgent),y=e.exports={offset:a(),origin:m,features:{},xhrWrappable:w};u[h]?(u[h](\"DOMContentLoaded\",i,!1),f[h](\"load\",r,!1)):(u[p](\"onreadystatechange\",o),f[p](\"onload\",r)),c(\"mark\",[\"firstbyte\",a()],null,\"api\");var g=0},{}]},{},[\"loader\",2,14,5,3,4]),NREUM.info={beacon:\"bam.nr-data.net\",errorBeacon:\"bam.nr-data.net\",licenseKey:\"d1734eda45\",applicationID:\"3785502\",sa:1});\n",
       "})();\n",
       "</script><script src=\"http://cdn.espn.com/core/format/modules/head/i18n?edition-host=espn.com.ar&lang=es&region=ar&site=espn&site-type=full&type=ext&build=0.367.10.1\"></script>\n",
       "<link href='http://a.espncdn.com' rel='preconnect' crossorigin>\n",
       "<link href='http://a1.espncdn.com' rel='preconnect' crossorigin>\n",
       "<link href='http://a2.espncdn.com' rel='preconnect' crossorigin>\n",
       "<link href='http://a3.espncdn.com' rel='preconnect' crossorigin>\n",
       "<link href='http://a4.espncdn.com' rel='preconnect' crossorigin>\n",
       "<link href='http://tredir.go.com' rel='preconnect' crossorigin>\n",
       "<link href='https://cdn.registerdisney.go.com' rel='preconnect' crossorigin>\n",
       "<link href='http://fan.api.espn.com' rel='preconnect' crossorigin>\n",
       "<link href='http://cdn.espn.com' rel='preconnect' crossorigin>\n",
       "\n",
       "<link rel=\"mask-icon\" sizes=\"any\" href=\"http://a.espncdn.com/prod/assets/icons/E.svg\" color=\"#990000\">\n",
       "<link rel=\"shortcut icon\" href=\"http://a.espncdn.com/favicon.ico\" />\n",
       "<link rel=\"apple-touch-icon\" href=\"http://a.espncdn.com/wireless/mw5/r1/images/bookmark-icons/espn_icon-57x57.min.png\" />\n",
       "<link rel=\"apple-touch-icon-precomposed\" href=\"http://a.espncdn.com/wireless/mw5/r1/images/bookmark-icons/espn_icon-57x57.min.png\">\n",
       "<link rel=\"apple-touch-icon-precomposed\" sizes=\"72x72\" href=\"http://a.espncdn.com/wireless/mw5/r1/images/bookmark-icons/espn_icon-72x72.min.png\">\n",
       "<link rel=\"apple-touch-icon-precomposed\" sizes=\"114x114\" href=\"http://a.espncdn.com/wireless/mw5/r1/images/bookmark-icons/espn_icon-114x114.min.png\">\n",
       "<link rel=\"apple-touch-icon-precomposed\" sizes=\"152x152\" href=\"http://a.espncdn.com/wireless/mw5/r1/images/bookmark-icons/espn_icon-152x152.min.png\">\n",
       "<link id=\"font-link\" rel=\"stylesheet\" href=\"http://a.espncdn.com/redesign/fonts/base64-benton-woff.css\"><link rel=\"stylesheet\" href=\"http://a.espncdn.com/redesign/0.367.10/css/shell-desktop.css\" /><link rel=\"stylesheet\" href=\"http://a.espncdn.com/redesign/0.367.10/css/page.css\"><link class=\"page-type-include\" rel=\"stylesheet\" href=\"http://a.espncdn.com/redesign/0.367.10/css/standings.css\">\n",
       "\t\t<script src=\"http://a.espncdn.com/redesign/0.367.10/js/espn-head.js\"></script>\n",
       "\t    \n",
       "<script>\n",
       "\tvar espn = espn || {};\n",
       "\tespn.isOneSite = false;\n",
       "\tespn.build = \"0.367.10\";\n",
       "\tespn.siteType = \"full\";\n",
       "\t\n",
       "</script>\n",
       "<script src=\"http://a.espncdn.com/redesign/0.367.10/node_modules/espn-lazysizes/lazysizes.js\" async></script>\n",
       "\n",
       "\n",
       "\t<script>\n",
       "\t\twindow.googletag = window.googletag || {};\n",
       "\n",
       "\t\t(function () {\n",
       "\t\t\tespn = window.espn || {};\n",
       "\t\t\tespn.ads = espn.ads || {};\n",
       "\t\t\tespn.ads.config = {\"level\":\"espn.latam.ar/soccer/standings\",\"delayInPageAdSlots\":true,\"incontentPositions\":{\"defaults\":{\"favorites\":-1,\"news\":4,\"now\":4},\"index\":{\"top\":{\"favorites\":-1},\"nfl\":{}}},\"network\":\"6444\",\"refreshOnBreakpointChange\":true,\"amznAdConfig\":{\"espn-en\":10000,\"useAmznBids\":true},\"sizes\":{\"presby\":{\"mappings\":[{\"viewport\":[0,0],\"slot\":[[112,62]]}],\"defaultSize\":[112,62]},\"overlay\":{\"mappings\":[{\"viewport\":[0,0],\"slot\":[[0,0]]}],\"defaultSize\":[0,0]},\"wallpaper\":{\"mappings\":[{\"viewport\":[1280,0],\"slot\":[[1680,1050]]},{\"viewport\":[1024,0],\"slot\":[[1280,455]]},{\"viewport\":[0,0],\"slot\":[]}],\"defaultSize\":[1680,1050]},\"native\":{\"mappings\":[{\"viewport\":[0,0],\"slot\":[[1,4]]}],\"defaultSize\":[1,4]},\"incontentstrip\":{\"mappings\":[{\"viewport\":[1024,0],\"slot\":[298,50]},{\"viewport\":[0,0],\"slot\":[]}],\"defaultSize\":[298,50]},\"incontent2\":{\"mappings\":[{\"viewport\":[0,0],\"slot\":[[300,250]]}],\"defaultSize\":[300,250]},\"banner\":{\"mappings\":[{\"viewport\":[1280,0],\"slot\":[[1280,100]]},{\"viewport\":[1024,0],\"slot\":[[970,66],[970,250]]},{\"viewport\":[768,0],\"slot\":[[728,90]]},{\"viewport\":[320,0],\"slot\":[[320,50]]},{\"viewport\":[0,0],\"slot\":[[240,38]]}],\"defaultSize\":[970,66]},\"exclusions\":{\"mappings\":[{\"viewport\":[0,0],\"slot\":[[1,2]]}],\"defaultSize\":[1,2]},\"instream\":{\"mappings\":[{\"viewport\":[0,0],\"slot\":[[1,3]]}],\"defaultSize\":[1,3]},\"incontent\":{\"mappings\":[{\"viewport\":[1024,0],\"slot\":[[300,250],[300,600]]}],\"defaultSize\":[300,250]},\"midpage\":{\"mappings\":[{\"viewport\":[1280,0],\"slot\":[[700,400]]},{\"viewport\":[1024,0],\"slot\":[[440,330]]},{\"viewport\":[768,0],\"slot\":[[320,250]]},{\"viewport\":[0,0],\"slot\":[[320,250]]}],\"defaultSize\":[320,250]}},\"load\":{\"schedule\":{\"tablet\":\"window.load\",\"desktop\":\"window.load\",\"mobile\":\"window.load\"},\"frontpage\":{\"tablet\":\"init\",\"desktop\":\"init\",\"mobile\":\"window.load\"},\"defaults\":{\"tablet\":\"init\",\"desktop\":\"init\",\"mobile\":\"window.load\"},\"index\":{\"tablet\":\"window.load\",\"desktop\":\"window.load\",\"mobile\":\"window.load\"},\"scoreboard\":{\"tablet\":\"window.load\",\"desktop\":\"window.load\",\"mobile\":\"window.load\"},\"standings\":{\"tablet\":\"window.load\",\"desktop\":\"window.load\",\"mobile\":\"window.load\"},\"story\":{\"tablet\":\"window.load\",\"desktop\":\"window.load\",\"mobile\":\"window.load\"}},\"supportDynamicPageLoad\":true,\"selector\":\".ad-slot\",\"disabled\":\"false\",\"breakpoints\":{\"s\":[0,767],\"xl\":[1280],\"l\":[1024,1279],\"m\":[768,1023]},\"dynamicKeyValues\":{\"profile\":{\"key\":\"prof\"}},\"id\":12129264,\"kvps\":[{\"name\":\"ed\",\"value\":\"ar\"},{\"name\":\"sp\",\"value\":\"soccer\"},{\"name\":\"league\",\"value\":\"arg1\"},{\"name\":\"lang\",\"value\":\"es\"},{\"name\":\"pgtyp\",\"value\":\"standings\"}],\"base\":\"espn.latam.ar\"};\n",
       "\t\t\tgoogletag.cmd = googletag.cmd || [];\n",
       "\n",
       "\t\t\tvar espnAdsConfig = espn.ads.config;\n",
       "\n",
       "\t\t\tespn.ads.loadGPT = function () {\n",
       "\t\t\t\tvar gads = document.createElement('script');\n",
       "\t\t\t\tgads.async = true;\n",
       "\t\t\t\tgads.type = 'text/javascript';\n",
       "\t\t\t\tgads.src = 'https://www.googletagservices.com/tag/js/gpt.js';\n",
       "\t\t\t\tvar node = document.getElementsByTagName('script')[0];\n",
       "\t\t\t\tnode.parentNode.insertBefore(gads, node);\n",
       "\t\t\t\tdelete espn.ads.loadGPT;\n",
       "\t\t\t}\n",
       "\n",
       "\t\t\tif (espn.siteType === 'data-lite') {\n",
       "\t\t\t\t/**\n",
       "\t\t\t\t * Load ad library after our deferred files. Event subscription must\n",
       "\t\t\t\t * occur on window.load to ensure pub/sub availability.\n",
       "\t\t\t\t */\n",
       "\n",
       "\t\t\t\t// Ad calls will be made when ad library inits (after window.load).\n",
       "\t\t\t\tvar liteAdLoadConfigs = {\n",
       "\t\t\t\t\tdesktop: 'init',\n",
       "\t\t\t\t\tmobile: 'init',\n",
       "\t\t\t\t\ttablet: 'init'\n",
       "\t\t\t\t};\n",
       "\n",
       "\t\t\t\tespnAdsConfig.load = espnAdsConfig.load || {};\n",
       "\t\t\t\tespnAdsConfig.load.defaults = liteAdLoadConfigs\n",
       "\t\t\t\tespnAdsConfig.load.frontpage = liteAdLoadConfigs;\n",
       "\t\t\t\tespnAdsConfig.load.index = liteAdLoadConfigs;\n",
       "\t\t\t\tespnAdsConfig.load.story = liteAdLoadConfigs;\n",
       "\t\t\t} else {\n",
       "\t\t\t\tespn.ads.loadGPT();\n",
       "\t\t\t}\n",
       "\n",
       "\t\t\tif (espnAdsConfig.amznAdConfig && espnAdsConfig.amznAdConfig.useAmznBids) {\n",
       "\t\t\t\t\n",
       "\n",
       "\t\t\t\t// Load Amazon a9 header bidding script asynchronously.\n",
       "\t\t\t\t!function(a9,a,p,s,t,A,g){if(a[a9])return;function q(c,r){a[a9]._Q.push([c,r])}a[a9]={init:function(){q('i',arguments)},fetchBids:function()\n",
       "\t\t\t\t{q('f',arguments)},_Q:[]};A=p.createElement(s);A.async=!0;A.src=t;g=p.getElementsByTagName(s)[0];g.parentNode.insertBefore(A,g)}\n",
       "\t\t\t\t('apstag',window,document,'script','//c.amazon-adsystem.com/aax2/apstag.js');\n",
       "\t\t\t}\n",
       "\t\t\t\n",
       "\t\t\tespn.ads.configPre = JSON.parse(JSON.stringify(espnAdsConfig));\n",
       "\t\t})();\n",
       "\t</script>\n",
       "\n",
       "\n",
       "<script type=\"text/javascript\">\n",
       "\tif( typeof s_omni === \"undefined\" ) window.s_account = window.setReportSuite( \"wdgespdeportes\" );\n",
       "</script>\n",
       "\n",
       "\n",
       "\n",
       "<script>\n",
       "\t// Picture element HTML shim|v it for old IE (pairs with Picturefill.js)\n",
       "\tdocument.createElement(\"picture\");\n",
       "</script>\n",
       "\n",
       "\t</head>\n",
       "\n",
       "\t<body class=\"standings desktop  prod  \" data-pagetype=\"standings\" data-sport=\"soccer\" data-customstylesheet=\"null\" data-lang=\"es\" data-edition=\"es-ar\" data-app=\"\">\n",
       "\t\t<div class=\"ad-slot ad-slot-exclusions\" data-slot-type=\"exclusions\" data-slot-kvps=\"pos=exclusions\" data-category-exclusion=\"true\"></div><div class=\"ad-slot ad-slot-overlay\" data-slot-type=\"overlay\" data-slot-kvps=\"pos=outofpage\" data-out-of-page=\"true\"></div><div class=\"ad-slot ad-slot-wallpaper\" data-slot-type=\"wallpaper\" data-exclude-bp=\"s,m\" data-slot-kvps=\"pos=wallpaper\" data-collapse-before-load=\"true\"></div>\n",
       "\t\t<!-- abtest data object global -->\n",
       "\t\t<script type=\"text/javascript\">\n",
       "\t\t\tvar abtestData = {};\n",
       "\t\t\t\n",
       "\t\t</script>\n",
       "\n",
       "\t\t\n",
       "\n",
       "\t\t<div id=\"fb-root\"></div>\n",
       "\n",
       "\n",
       "        <div id=\"global-viewport\" data-behavior=\"global_nav_condensed global_nav_full\"  class =\" interior secondary\">\n",
       "            \n",
       "<nav id=\"global-nav-mobile\" data-loadtype=\"server\"></nav>\n",
       "\n",
       "            <div class=\"menu-overlay-primary\"></div>\n",
       "\n",
       "\t\t\t<div id=\"header-wrapper\" data-behavior=\"global_header\" class=\"hidden-print\">\n",
       "\t\t\t\t\n",
       "\n",
       "<section id=\"global-scoreboard\" class=\"hide-fullbtn\">\n",
       "    <div class=\"wrap\">\n",
       "        <div class=\"scoreboard-content\">\n",
       "            \n",
       "            <div class=\"scoreboard-dropdown-wrapper scoreboard-menu\">\n",
       "                <!-- mobile dropdown -->\n",
       "                <div class=\"league-nav-wrapper league-nav-mobile mobile-dropdown\">\n",
       "                    <span class=\"mobile-arrow\"></span>\n",
       "                    <select id=\"league-nav\"></select>\n",
       "                </div>\n",
       "\n",
       "                <!-- desktop dropdown -->\n",
       "                <div class=\"dropdown-wrapper league-nav-desktop desktop-dropdown\" data-behavior=\"button_dropdown\">\n",
       "                    <button type=\"button\" class=\"button button-filter med dropdown-toggle current-league-name\"></button>\n",
       "                    <ul class=\"dropdown-menu league-nav med\"></ul>\n",
       "                </div>\n",
       "            </div>                 \n",
       "\n",
       "            <div class=\"scoreboard-dropdown-wrapper  conference-menu\">\n",
       "                <!-- mobile dropdown -->\n",
       "                <div class=\"conference-nav-wrapper mobile-dropdown\">\n",
       "                    <span class=\"mobile-arrow\"></span>\n",
       "                    <select id=\"conference-nav\"></select>\n",
       "                </div>\n",
       "\n",
       "                <!-- desktop dropdown -->\n",
       "                <div class=\"dropdown-wrapper desktop-dropdown\" data-behavior=\"button_dropdown\">\n",
       "                    <button type=\"button\" class=\"button button-filter med dropdown-toggle current-conference-name\"></button>\n",
       "                    <ul class=\"dropdown-menu conference-nav med\"></ul>\n",
       "                </div>\n",
       "            </div>\n",
       "\n",
       "            \n",
       "\n",
       "            <div class=\"scoreboard-dropdown-wrapper scores-date-pick\">\n",
       "                <div class=\"dropdown-wrapper\" data-behavior=\"button_dropdown\">\n",
       "                    <button type=\"button\" class=\"button button-filter dropdown-toggle med selected-date\"></button>\n",
       "                    <ul class=\"dropdown-menu date-nav med\"></ul>\n",
       "                </div>\n",
       "            </div>\n",
       "\n",
       "\n",
       "            \n",
       "\n",
       "                        \n",
       "\n",
       "            <div class=\"scoreboard-dropdown-wrapper secondary-nav-container hidden\"></div>\n",
       "\n",
       "            <div class=\"scores-prev controls inactive\">&lt;</div>\n",
       "            <div id=\"fullbtn\" class=\"view-full\"></div>\n",
       "            <div class=\"scores-next controls\">&gt;</div>\n",
       "            <div class=\"scores-carousel\">\n",
       "                <ul id=\"leagues\"></ul>\n",
       "            </div>\n",
       "        </div>\n",
       "    </div>\n",
       "</section>\n",
       "\t\t\t\t\n",
       "<header id=\"global-header\" class=\"espn-es-ar user-account-management has-search\">\n",
       "    <div class=\"menu-overlay-secondary\"></div>\n",
       "\n",
       "\t<div class=\"container\">\n",
       "\t\t<a id=\"global-nav-mobile-trigger\" href=\"#\" data-route=\"false\"><span>Menu</span></a><h1><a href=\"/\"  name=\"&lpos=sitenavdefault&lid=sitenav_main-logo\">ESPN</a></h1><ul class=\"tools\"><li class=\"search\">\n",
       "<a href=\"#\" class=\"icon-font-after icon-search-solid-after\" id=\"global-search-trigger\"></a>\n",
       "<div id=\"global-search\" class=\"global-search\">\n",
       "\t<input type=\"text\" class=\"search-box\" placeholder=\"Buscar Deportes, Equipos o Jugadores...\"><input type=\"submit\" class=\"btn-search\">\n",
       "</div></li><li class=\"user\" data-behavior=\"favorites_mgmt\"></li><li id=\"scores-link\"><a href=\"#\" id=\"global-scoreboard-trigger\" data-route=\"false\">Resultados</a></ul>\n",
       "<div class=\"alert-container tooltip\" data-behavior=\"edition_alert\">\n",
       "    <div class=\"grid-row\">\n",
       "        <div class=\"alert-column\">\n",
       "\n",
       "            <div class=\"icon-font-before icon-alert01-solid-before\">\n",
       "                <p>Has llegado a la edición de Argentina. Quedarse en el sitio actual o ir a edición preferida.</p>\n",
       "                <a href=\"#\" class=\"icon-font-after icon-close-solid-after\"></a>\n",
       "            </div>\n",
       "        </div>\n",
       "    </div>\n",
       "</div>\n",
       "\t</div>\n",
       "\t\n",
       "<nav id=\"global-nav\" data-loadtype=\"server\">\n",
       "<ul itemscope=\"\" itemtype=\"http://www.schema.org/SiteNavigationElement\">\n",
       "<li itemprop=\"name\"><a itemprop=\"url\" href=\"/futbol/\">Fútbol</a></li><li itemprop=\"name\"><a itemprop=\"url\" href=\"/rugby/\">Rugby</a></li><li itemprop=\"name\"><a itemprop=\"url\" href=\"/tenis/\">Tenis</a></li><li itemprop=\"name\"><a itemprop=\"url\" href=\"/basquetbol/\">Básquetbol</a></li><li itemprop=\"name\"><a itemprop=\"url\" href=\"/espn-run/\">ESPN Run</a></li><li itemprop=\"name\"><a itemprop=\"url\" href=\"/polo/\">Polo</a></li><li itemprop=\"name\"><a itemprop=\"url\" href=\"#\">&hellip;</a><div><ul class=\"split\"><li itemprop=\"name\"><a itemprop=\"url\" href=\"/deporte-motor/\">D.Motor</a></li><li itemprop=\"name\"><a itemprop=\"url\" href=\"/golf/\">Golf</a></li><li itemprop=\"name\"><a itemprop=\"url\" href=\"/boxeo/\">Boxeo</a></li><li itemprop=\"name\"><a itemprop=\"url\" href=\"/artes-marciales-mixtas/\">MMA</a></li><li itemprop=\"name\"><a itemprop=\"url\" href=\"/beisbol/\">Béisbol</a></li><li itemprop=\"name\"><a itemprop=\"url\" href=\"/futbol-americano/\">NFL</a></li><li itemprop=\"name\"><a itemprop=\"url\" href=\"http://www.espn.com.ar/nhl/deportes/resultados\">NHL</a></li><li itemprop=\"name\"><a itemprop=\"url\" href=\"/x-games/\">X Games</a></li><li itemprop=\"name\"><a itemprop=\"url\" href=\"/ciclismo/\">Ciclismo</a></li><li itemprop=\"name\"><a itemprop=\"url\" href=\"/olimpicos/\">Olímpicos</a></li><li itemprop=\"name\"><a itemprop=\"url\" href=\"/poker/\">Poker</a></li><li itemprop=\"name\"><a itemprop=\"url\" href=\"/esports/\">esports</a></li></ul></div></li><li class=\"pillar more-espn\"><a href=\"#\">More ESPN</a></li><li class=\"pillar tv\"><a href=\"http://guia.espn.com/\">TV</a></li></ul>\n",
       "\n",
       "</nav>\n",
       "\n",
       "\n",
       "\n",
       "\n",
       "\n",
       "\n",
       "<nav id=\"global-nav-secondary\" data-loadtype=\"tier-2-server\" >\n",
       "<div class=\"global-nav-container\">\n",
       "<div class=\"sportbrand\"><a href=\"http://www.espn.com.ar/futbol/\"><img src=\"http://a.espncdn.com/redesign/assets/img/logos/logo-deportes-fc.png\"></a></div><ul class=\"first-group\"><li class=\"sports\" itemprop=\"name\"><span class=\"positioning\"><a href=\"/futbol/\"><span class=\"brand-logo \"><img src=\"http://a.espncdn.com/combiner/i?img=%2Fredesign%2Fassets%2Fimg%2Ficons%2FESPN%2Dicon%2Dsoccer.png&w=80&h=80&scale=crop&cquality=40&location=origin\"></span><span class=\"link-text\">Fútbol</span><span class=\"link-text-short\">Fútbol</span></a></span></li><li class=\"sub\"><a href=\"/futbol/\"  data-mobile=\"false\"  data-breakpoints=\"desktop,desktop-lg\" ><span class=\"link-text\">Portada</span><span class=\"link-text-short\">Portada</span></a></li><li class=\"sub has-sub\"><a href=\"/futbol/nota/_/id/139798/ligas-y-competiciones\" ><span class=\"link-text\">Ligas</span><span class=\"link-text-short\">Ligas</span></a></li><li class=\"sub\"><a href=\"/futbol/resultados\" ><span class=\"link-text\">Resultados</span><span class=\"link-text-short\">Resultados</span></a></li><li class=\"sub\"><a href=\"/futbol/calendario\" ><span class=\"link-text\">Calendario</span><span class=\"link-text-short\">Calendario</span></a></li><li class=\"sub\"><a href=\"http://www.espn.com.ar/futbol/equipos/_/liga/arg.1/primera-division-de-argentina\" ><span class=\"link-text\">Clubes</span><span class=\"link-text-short\">Clubes</span></a></li><li class=\"sub\"><a href=\"/futbol/posiciones/_/liga/arg.1/primera-division-de-argentina\" ><span class=\"link-text\">Posiciones</span><span class=\"link-text-short\">Posiciones</span></a></li><li class=\"sub\"><a href=\"/futbol/nota/_/id/139798/ligas-y-competiciones\" ><span class=\"link-text\">Todos los torneos</span><span class=\"link-text-short\">Todos los torneos</span></a></li></ul>\n",
       "\t<script type=\"text/javascript\">\n",
       "\t\tvar espn = espn || {};\n",
       "\t\tespn.nav = espn.nav || {};\n",
       "\t\tespn.nav.navId = 2487587;\n",
       "\t\tespn.nav.isFallback = false;\n",
       "\n",
       "\t\t\n",
       "\t\t\n",
       "\n",
       "\t</script>\n",
       "</div>\n",
       "</nav>\n",
       "\n",
       "</header>\n",
       "\t\t\t</div>\n",
       "\n",
       "            <section id=\"pane-main\">\n",
       "\n",
       "                <div id=\"custom-nav\" data-id=\"standings\"></div>\n",
       "\n",
       "            \t<div class=\"ad-slot ad-slot-banner ad-wrapper\" data-slot-type=\"banner\" data-slot-kvps=\"pos=banner\"></div>\n",
       "\n",
       "                <section id=\"main-container\" class=\"page-container\">\n",
       "                    \n",
       "                    <div class=\"main-content layout-full\">\n",
       "                        <section class=\"col-a\"><header class=\"automated-header\"><h1>Posiciones de la Superliga Argentina - 2017-18</h1></header><div class=\"tab-content\"><div class=\"tab-pane active\"><div class=\"filters\"><div class=\"dropdown-wrapper\" data-behavior=\"button_dropdown\"><button type=\"button\" class=\"button-filter med dropdown-toggle\">Superliga Argentina</button><ul class=\"dropdown-menu med\" role=\"menu\"><li><a  name=\"&lpos=arg.1:standings:filter:league\" href=\"/futbol/posiciones/_/liga/arg.1\">Superliga Argentina</a></li><li><a  name=\"&lpos=arg.1:standings:filter:league\" href=\"/futbol/posiciones/_/liga/fifa.world.u20\">Copa Mundial Sub-20</a></li><li><a  name=\"&lpos=arg.1:standings:filter:league\" href=\"/futbol/posiciones/_/liga/conmebol.sudamericano_sub20\">Sudamericano Sub-20</a></li><li><a  name=\"&lpos=arg.1:standings:filter:league\" href=\"/futbol/posiciones/_/liga/conmebol.libertadores\">Copa Libertadores</a></li><li><a  name=\"&lpos=arg.1:standings:filter:league\" href=\"/futbol/posiciones/_/liga/fifa.world\">Copa Mundial</a></li><li><a  name=\"&lpos=arg.1:standings:filter:league\" href=\"/futbol/posiciones/_/liga/fifa.confederations\">Copa Confederaciones</a></li><li><a  name=\"&lpos=arg.1:standings:filter:league\" href=\"/futbol/posiciones/_/liga/conmebol.america\">Copa América</a></li><li><a  name=\"&lpos=arg.1:standings:filter:league\" href=\"/futbol/posiciones/_/liga/uefa.euro\">Eurocopa</a></li><li><a  name=\"&lpos=arg.1:standings:filter:league\" href=\"/futbol/posiciones/_/liga/fifa.worldq.conmebol\">Eliminatorias CONMEBOL</a></li><li><a  name=\"&lpos=arg.1:standings:filter:league\" href=\"/futbol/posiciones/_/liga/fifa.worldq.uefa\">Eliminatorias UEFA</a></li><li><a  name=\"&lpos=arg.1:standings:filter:league\" href=\"/futbol/posiciones/_/liga/uefa.champions\">UEFA Champions League</a></li><li><a  name=\"&lpos=arg.1:standings:filter:league\" href=\"/futbol/posiciones/_/liga/uefa.europa\">UEFA Europa League</a></li><li><a  name=\"&lpos=arg.1:standings:filter:league\" href=\"/futbol/posiciones/_/liga/esp.1\">Primera División de España</a></li><li><a  name=\"&lpos=arg.1:standings:filter:league\" href=\"/futbol/posiciones/_/liga/eng.1\">English Premier League</a></li><li><a  name=\"&lpos=arg.1:standings:filter:league\" href=\"/futbol/posiciones/_/liga/ita.1\">Serie A de Italia</a></li><li><a  name=\"&lpos=arg.1:standings:filter:league\" href=\"/futbol/posiciones/_/liga/ger.1\">Bundesliga de Alemania</a></li><li><a  name=\"&lpos=arg.1:standings:filter:league\" href=\"/futbol/posiciones/_/liga/fra.1\">Ligue 1 de Francia</a></li><li><a  name=\"&lpos=arg.1:standings:filter:league\" href=\"/futbol/posiciones/_/liga/arg.2\">Nacional B de Argentina</a></li><li><a  name=\"&lpos=arg.1:standings:filter:league\" href=\"/futbol/posiciones/_/liga/arg.3\">Primera División B de Argentina</a></li><li><a  name=\"&lpos=arg.1:standings:filter:league\" href=\"/futbol/posiciones/_/liga/arg.4\">Primera División C de Argentina</a></li><li><a  name=\"&lpos=arg.1:standings:filter:league\" href=\"/futbol/posiciones/_/liga/arg.5\">Primera División D de Argentina</a></li><li><a  name=\"&lpos=arg.1:standings:filter:league\" href=\"/futbol/posiciones/_/liga/caf.nations\">Copa Africana de Naciones</a></li><li><a  name=\"&lpos=arg.1:standings:filter:league\" href=\"/futbol/posiciones/_/liga/fifa.worldq.caf\">Eliminatoria Copa Mundial - CAF</a></li><li><a  name=\"&lpos=arg.1:standings:filter:league\" href=\"/futbol/posiciones/_/liga/fifa.worldq.ofc\">Eliminatoria Copa Mundial - OFC</a></li><li><a  name=\"&lpos=arg.1:standings:filter:league\" href=\"/futbol/posiciones/_/liga/fifa.worldq.afc\">Eliminatoria Copa Mundial - AFC</a></li><li><a  name=\"&lpos=arg.1:standings:filter:league\" href=\"/futbol/posiciones/_/liga/fifa.worldq.concacaf\">Eliminatorias CONCACAF</a></li><li><a  name=\"&lpos=arg.1:standings:filter:league\" href=\"/futbol/posiciones/_/liga/uefa.uefa\">Copa UEFA</a></li><li><a  name=\"&lpos=arg.1:standings:filter:league\" href=\"/futbol/posiciones/_/liga/uefa.euroq\">Eliminatorias Eurocopa</a></li><li><a  name=\"&lpos=arg.1:standings:filter:league\" href=\"/futbol/posiciones/_/liga/concacaf.champions\">CONCACAF Liga Campeones</a></li><li><a  name=\"&lpos=arg.1:standings:filter:league\" href=\"/futbol/posiciones/_/liga/concacaf.superliga\">SuperLiga</a></li><li><a  name=\"&lpos=arg.1:standings:filter:league\" href=\"/futbol/posiciones/_/liga/fifa.olympics\">Fútbol olímpico - Hombres</a></li><li><a  name=\"&lpos=arg.1:standings:filter:league\" href=\"/futbol/posiciones/_/liga/fifa.world.u17\">Copa Mundial Sub-17</a></li><li><a  name=\"&lpos=arg.1:standings:filter:league\" href=\"/futbol/posiciones/_/liga/concacaf.gold\">Copa Oro</a></li><li><a  name=\"&lpos=arg.1:standings:filter:league\" href=\"/futbol/posiciones/_/liga/concacaf.u23\">Torneo Sub-23 de la CONCACAF</a></li><li><a  name=\"&lpos=arg.1:standings:filter:league\" href=\"/futbol/posiciones/_/liga/caf.championship\">African Nations Championship</a></li><li><a  name=\"&lpos=arg.1:standings:filter:league\" href=\"/futbol/posiciones/_/liga/caf.nations_qual\">African Nations Cup Qualifying</a></li><li><a  name=\"&lpos=arg.1:standings:filter:league\" href=\"/futbol/posiciones/_/liga/chn.1\">Chinese Super League</a></li><li><a  name=\"&lpos=arg.1:standings:filter:league\" href=\"/futbol/posiciones/_/liga/rus.1\">Russian Premier League</a></li><li><a  name=\"&lpos=arg.1:standings:filter:league\" href=\"/futbol/posiciones/_/liga/por.1\">bwin Liga de Portugal</a></li><li><a  name=\"&lpos=arg.1:standings:filter:league\" href=\"/futbol/posiciones/_/liga/bra.1\">Futebol Brasileiro</a></li><li><a  name=\"&lpos=arg.1:standings:filter:league\" href=\"/futbol/posiciones/_/liga/bra.camp.carioca\">Campeonato Carioca</a></li><li><a  name=\"&lpos=arg.1:standings:filter:league\" href=\"/futbol/posiciones/_/liga/bra.camp.paulista\">Campenato Paulista</a></li><li><a  name=\"&lpos=arg.1:standings:filter:league\" href=\"/futbol/posiciones/_/liga/bra.camp.gaucho\">Campeonato Gaúcho 2007</a></li><li><a  name=\"&lpos=arg.1:standings:filter:league\" href=\"/futbol/posiciones/_/liga/bra.camp.mineiro\">Brazilian Campeonato Mineiro</a></li><li><a  name=\"&lpos=arg.1:standings:filter:league\" href=\"/futbol/posiciones/_/liga/bra.copa_do_nordeste\">Copa do Nordeste</a></li><li><a  name=\"&lpos=arg.1:standings:filter:league\" href=\"/futbol/posiciones/_/liga/mex.1\">Liga MX</a></li><li><a  name=\"&lpos=arg.1:standings:filter:league\" href=\"/futbol/posiciones/_/liga/mex.copa_mx\">Copa MX</a></li><li><a  name=\"&lpos=arg.1:standings:filter:league\" href=\"/futbol/posiciones/_/liga/usa.1\">Major League Soccer de EE.UU.</a></li><li><a  name=\"&lpos=arg.1:standings:filter:league\" href=\"/futbol/posiciones/_/liga/uru.1\">Primera División de Uruguay</a></li><li><a  name=\"&lpos=arg.1:standings:filter:league\" href=\"/futbol/posiciones/_/liga/par.1\">Primera División de Paraguay</a></li><li><a  name=\"&lpos=arg.1:standings:filter:league\" href=\"/futbol/posiciones/_/liga/per.1\">Primera Profesional de Perú</a></li><li><a  name=\"&lpos=arg.1:standings:filter:league\" href=\"/futbol/posiciones/_/liga/chi.1\">Primera División de Chile</a></li><li><a  name=\"&lpos=arg.1:standings:filter:league\" href=\"/futbol/posiciones/_/liga/col.1\">Liga Águila</a></li><li><a  name=\"&lpos=arg.1:standings:filter:league\" href=\"/futbol/posiciones/_/liga/col.copa\">Copa Águila</a></li><li><a  name=\"&lpos=arg.1:standings:filter:league\" href=\"/futbol/posiciones/_/liga/ecu.1\">Primera A de Ecuador</a></li><li><a  name=\"&lpos=arg.1:standings:filter:league\" href=\"/futbol/posiciones/_/liga/bol.1\">Liga Profesional Boliviana</a></li><li><a  name=\"&lpos=arg.1:standings:filter:league\" href=\"/futbol/posiciones/_/liga/ven.1\">Primera División de Venezuela</a></li><li><a  name=\"&lpos=arg.1:standings:filter:league\" href=\"/futbol/posiciones/_/liga/crc.1\">Primera División de Costa Rica</a></li><li><a  name=\"&lpos=arg.1:standings:filter:league\" href=\"/futbol/posiciones/_/liga/slv.1\">Primera División de El Salvador</a></li><li><a  name=\"&lpos=arg.1:standings:filter:league\" href=\"/futbol/posiciones/_/liga/gua.1\">Liga Nacional de Guatemala</a></li><li><a  name=\"&lpos=arg.1:standings:filter:league\" href=\"/futbol/posiciones/_/liga/hon.1\">Primera División de Honduras</a></li><li><a  name=\"&lpos=arg.1:standings:filter:league\" href=\"/futbol/posiciones/_/liga/ned.1\">Eredivisie de Holanda</a></li><li><a  name=\"&lpos=arg.1:standings:filter:league\" href=\"/futbol/posiciones/_/liga/tur.1\">Super Lig de Turquía</a></li><li><a  name=\"&lpos=arg.1:standings:filter:league\" href=\"/futbol/posiciones/_/liga/gre.1\">Super League de Grecia</a></li><li><a  name=\"&lpos=arg.1:standings:filter:league\" href=\"/futbol/posiciones/_/liga/sui.1\">Super League de Suiza</a></li><li><a  name=\"&lpos=arg.1:standings:filter:league\" href=\"/futbol/posiciones/_/liga/aus.1\">A-League de Australia</a></li><li><a  name=\"&lpos=arg.1:standings:filter:league\" href=\"/futbol/posiciones/_/liga/ind.1\">Indian Super League</a></li><li><a  name=\"&lpos=arg.1:standings:filter:league\" href=\"/futbol/posiciones/_/liga/jpn.1\">J League de Japón</a></li><li><a  name=\"&lpos=arg.1:standings:filter:league\" href=\"/futbol/posiciones/_/liga/mys.1\">Malaysian Super League</a></li><li><a  name=\"&lpos=arg.1:standings:filter:league\" href=\"/futbol/posiciones/_/liga/afc.champions\">Champions League de la AFC</a></li><li><a  name=\"&lpos=arg.1:standings:filter:league\" href=\"/futbol/posiciones/_/liga/afc.cup\">Copa de Naciones de Asia</a></li><li><a  name=\"&lpos=arg.1:standings:filter:league\" href=\"/futbol/posiciones/_/liga/afc.cupq\">Eliminatorias Copa de Naciones de Asia</a></li><li><a  name=\"&lpos=arg.1:standings:filter:league\" href=\"/futbol/posiciones/_/liga/fifa.wwc\">Copa Mundial del Fútbol Femenino</a></li><li><a  name=\"&lpos=arg.1:standings:filter:league\" href=\"/futbol/posiciones/_/liga/fifa.w.olympics\">Fútbol olímpico - Mujeres</a></li><li><a  name=\"&lpos=arg.1:standings:filter:league\" href=\"/futbol/posiciones/_/liga/panam.m\">Juegos Panamericanos – Hombres</a></li><li><a  name=\"&lpos=arg.1:standings:filter:league\" href=\"/futbol/posiciones/_/liga/panam.w\">Juegos Panamericanos – Mujeres</a></li><li><a  name=\"&lpos=arg.1:standings:filter:league\" href=\"/futbol/posiciones/_/liga/uefa.euro_u21\">Campeonato Europeo Sub-21</a></li><li><a  name=\"&lpos=arg.1:standings:filter:league\" href=\"/futbol/posiciones/_/liga/uefa.euro.u19\">Campeonato Europeo Sub-19</a></li><li><a  name=\"&lpos=arg.1:standings:filter:league\" href=\"/futbol/posiciones/_/liga/chi.2\">Segunda División de Chile</a></li><li><a  name=\"&lpos=arg.1:standings:filter:league\" href=\"/futbol/posiciones/_/liga/col.2\">Primera B Colombia</a></li><li><a  name=\"&lpos=arg.1:standings:filter:league\" href=\"/futbol/posiciones/_/liga/per.2\">Segunda División de Perú</a></li><li><a  name=\"&lpos=arg.1:standings:filter:league\" href=\"/futbol/posiciones/_/liga/ecu.2\">Ecuador Serie B</a></li><li><a  name=\"&lpos=arg.1:standings:filter:league\" href=\"/futbol/posiciones/_/liga/par.2\">Segunda División de Paraguay</a></li><li><a  name=\"&lpos=arg.1:standings:filter:league\" href=\"/futbol/posiciones/_/liga/uru.2\">Segunda División de Uruguay</a></li><li><a  name=\"&lpos=arg.1:standings:filter:league\" href=\"/futbol/posiciones/_/liga/bra.2\">Brasileirao B</a></li><li><a  name=\"&lpos=arg.1:standings:filter:league\" href=\"/futbol/posiciones/_/liga/mex.2\">Ascenso MX</a></li><li><a  name=\"&lpos=arg.1:standings:filter:league\" href=\"/futbol/posiciones/_/liga/esp.2\">Segunda División de España</a></li><li><a  name=\"&lpos=arg.1:standings:filter:league\" href=\"/futbol/posiciones/_/liga/eng.2\">División 1 de Inglaterra</a></li><li><a  name=\"&lpos=arg.1:standings:filter:league\" href=\"/futbol/posiciones/_/liga/ita.2\">Serie B de Italia</a></li><li><a  name=\"&lpos=arg.1:standings:filter:league\" href=\"/futbol/posiciones/_/liga/ger.2\">2. Bundesliga de Alemania</a></li><li><a  name=\"&lpos=arg.1:standings:filter:league\" href=\"/futbol/posiciones/_/liga/fra.2\">Ligue 2 de Francia</a></li><li><a  name=\"&lpos=arg.1:standings:filter:league\" href=\"/futbol/posiciones/_/liga/ned.2\">Eerste Divisie de Holanda</a></li><li><a  name=\"&lpos=arg.1:standings:filter:league\" href=\"/futbol/posiciones/_/liga/sco.1\">Premier League de Escocia</a></li><li><a  name=\"&lpos=arg.1:standings:filter:league\" href=\"/futbol/posiciones/_/liga/sco.2\">División 1 de Escocia</a></li><li><a  name=\"&lpos=arg.1:standings:filter:league\" href=\"/futbol/posiciones/_/liga/uefa.carling\">Carling Nations Cup</a></li><li><a  name=\"&lpos=arg.1:standings:filter:league\" href=\"/futbol/posiciones/_/liga/uefa.weuro\">Women's European Championship</a></li></ul></div><div class=\"dropdown-wrapper hoverable width-auto display-desktop\" data-behavior=\"button_dropdown\"><button type=\"button\" class=\"button-filter med dropdown-toggle\">2017-18</button><ul class=\"dropdown-menu med\" role=\"menu\"><li><a  name=\"&lpos=arg.1:standings:filter:year\" href=\"/futbol/posiciones/_/liga/arg.1\">2017-18</a></li><li><a  name=\"&lpos=arg.1:standings:filter:year\" href=\"/futbol/posiciones/_/liga/arg.1/season/2016\">2016-17</a></li><li><a  name=\"&lpos=arg.1:standings:filter:year\" href=\"/futbol/posiciones/_/liga/arg.1/season/2015\">2015</a></li><li><a  name=\"&lpos=arg.1:standings:filter:year\" href=\"/futbol/posiciones/_/liga/arg.1/season/2014\">2014-15</a></li><li><a  name=\"&lpos=arg.1:standings:filter:year\" href=\"/futbol/posiciones/_/liga/arg.1/season/2013\">2013-14</a></li><li><a  name=\"&lpos=arg.1:standings:filter:year\" href=\"/futbol/posiciones/_/liga/arg.1/season/2012\">2012-13</a></li><li><a  name=\"&lpos=arg.1:standings:filter:year\" href=\"/futbol/posiciones/_/liga/arg.1/season/2011\">2011-12</a></li><li><a  name=\"&lpos=arg.1:standings:filter:year\" href=\"/futbol/posiciones/_/liga/arg.1/season/2010\">2010-11</a></li><li><a  name=\"&lpos=arg.1:standings:filter:year\" href=\"/futbol/posiciones/_/liga/arg.1/season/2009\">2009-10</a></li><li><a  name=\"&lpos=arg.1:standings:filter:year\" href=\"/futbol/posiciones/_/liga/arg.1/season/2008\">2008-09</a></li><li><a  name=\"&lpos=arg.1:standings:filter:year\" href=\"/futbol/posiciones/_/liga/arg.1/season/2007\">2007-08</a></li><li><a  name=\"&lpos=arg.1:standings:filter:year\" href=\"/futbol/posiciones/_/liga/arg.1/season/2006\">2006-07</a></li><li><a  name=\"&lpos=arg.1:standings:filter:year\" href=\"/futbol/posiciones/_/liga/arg.1/season/2005\">2005-06</a></li><li><a  name=\"&lpos=arg.1:standings:filter:year\" href=\"/futbol/posiciones/_/liga/arg.1/season/2004\">2004-05</a></li><li><a  name=\"&lpos=arg.1:standings:filter:year\" href=\"/futbol/posiciones/_/liga/arg.1/season/2003\">2003-04</a></li><li><a  name=\"&lpos=arg.1:standings:filter:year\" href=\"/futbol/posiciones/_/liga/arg.1/season/2002\">2002-03</a></li></ul></div></div><h2 class=\"table-caption\"><span class=\"long-caption\">Superliga Argentina</span></h2><div class=\"responsive-table-wrap\"><table cellspacing=\"0\" cellpadding=\"0\" data-text-contract=\"Contract table\" data-text-expand=\"Expand table\" data-fix-cols=\"1\" data-mobile-force-responsive=\"true\" data-behavior=\"responsive_table\"  data-set-cell-heights=\"false\" class=\"standings has-team-logos\"><col><colgroup><col><col><col><col><col><col></colgroup><colgroup><col></colgroup><colgroup><col></colgroup><thead class=\"standings-categories\"><th><span>2017/18 Superliga</span></th><th data-sortable=\"true\"><span class=\"tooltip\" data-tooltip=\"Partidos Jugados\"><a  name=\"&lpos=arg.1:standings:sort:número+de+partidos+jugados\" href=\"/futbol/posiciones/_/liga/arg.1/sort/gamesplayed\">PJ</a></span></th><th data-sortable=\"true\"><span class=\"tooltip\" data-tooltip=\"Partidos Ganados\"><a  name=\"&lpos=arg.1:standings:sort:el+número+de+partidos+ganados.\" href=\"/futbol/posiciones/_/liga/arg.1/sort/wins\">G</a></span></th><th data-sortable=\"true\"><span class=\"tooltip\" data-tooltip=\"Empatados\"><a  name=\"&lpos=arg.1:standings:sort:empate\" href=\"/futbol/posiciones/_/liga/arg.1/sort/ties\">E</a></span></th><th data-sortable=\"true\"><span class=\"tooltip\" data-tooltip=\"Perdidos\"><a  name=\"&lpos=arg.1:standings:sort:derrotas\" href=\"/futbol/posiciones/_/liga/arg.1/sort/losses\">P</a></span></th><th data-sortable=\"true\"><span class=\"tooltip\" data-tooltip=\"Goles a favor\"><a  name=\"&lpos=arg.1:standings:sort:goles+para\" href=\"/futbol/posiciones/_/liga/arg.1/sort/pointsfor\">GF</a></span></th><th data-sortable=\"true\"><span class=\"tooltip\" data-tooltip=\"Goles en contra\"><a  name=\"&lpos=arg.1:standings:sort:goles+contra\" href=\"/futbol/posiciones/_/liga/arg.1/sort/pointsagainst\">GC</a></span></th><th data-sortable=\"true\"><span class=\"tooltip\" data-tooltip=\"Diferencia de goles\"><a  name=\"&lpos=arg.1:standings:sort:diferencia+de+puntos\" href=\"/futbol/posiciones/_/liga/arg.1/sort/pointdifferential\">DIF</a></span></th><th data-sortable=\"true\"><span class=\"tooltip\" data-tooltip=\"Puntos\"><a  name=\"&lpos=arg.1:standings:sort:puntos\" href=\"/futbol/posiciones/_/liga/arg.1/sort/points\">PTS</a></span></th></thead><tr class=\" standings-row\"><td style=\"text-align:left;white-space:nowrap;\" class=\"team \"><span class=\"number\">1</span><a  name=\"&lpos=arg.1:standings:team\" href=\"/futbol/equipo/_/id/5/boca-juniors\"><span><img  class=\"team-logo\"  src=\"http://a1.espncdn.com/combiner/i?img=/i/teamlogos/soccer/500/5.png&h=50&scale=crop&w=50&location=origin\"></span></a><a  name=\"&lpos=arg.1:standings:team\" href=\"/futbol/equipo/_/id/5/boca-juniors\"><span><span class=\"team-names\">Boca Juniors</span><abbr title=\"Boca Juniors\">CABJ</abbr></span></a></td><td style=\"white-space:no-wrap;\" class=\"\">4</td><td style=\"white-space:no-wrap;\" class=\"\">4</td><td style=\"white-space:no-wrap;\" class=\"\">0</td><td style=\"white-space:no-wrap;\" class=\"\">0</td><td style=\"white-space:no-wrap;\" class=\"\">12</td><td style=\"white-space:no-wrap;\" class=\"\">1</td><td style=\"white-space:no-wrap;\" class=\" positive\">+11</td><td style=\"white-space:no-wrap;\" class=\"\">12</td></tr><tr class=\" standings-row\"><td style=\"text-align:left;white-space:nowrap;\" class=\"team \"><span class=\"number\">2</span><a  name=\"&lpos=arg.1:standings:team\" href=\"/futbol/equipo/_/id/20/union-de-santa-fe\"><span><img  class=\"team-logo\"  src=\"http://a1.espncdn.com/combiner/i?img=/i/teamlogos/soccer/500/20.png&h=50&scale=crop&w=50&location=origin\"></span></a><a  name=\"&lpos=arg.1:standings:team\" href=\"/futbol/equipo/_/id/20/union-de-santa-fe\"><span><span class=\"team-names\">Unión de Santa Fe</span><abbr title=\"Unión de Santa Fe\">USF</abbr></span></a></td><td style=\"white-space:no-wrap;\" class=\"\">5</td><td style=\"white-space:no-wrap;\" class=\"\">3</td><td style=\"white-space:no-wrap;\" class=\"\">2</td><td style=\"white-space:no-wrap;\" class=\"\">0</td><td style=\"white-space:no-wrap;\" class=\"\">7</td><td style=\"white-space:no-wrap;\" class=\"\">2</td><td style=\"white-space:no-wrap;\" class=\" positive\">+5</td><td style=\"white-space:no-wrap;\" class=\"\">11</td></tr><tr class=\" standings-row\"><td style=\"text-align:left;white-space:nowrap;\" class=\"team \"><span class=\"number\">3</span><a  name=\"&lpos=arg.1:standings:team\" href=\"/futbol/equipo/_/id/16/river-plate\"><span><img  class=\"team-logo\"  src=\"http://a1.espncdn.com/combiner/i?img=/i/teamlogos/soccer/500/16.png&h=50&scale=crop&w=50&location=origin\"></span></a><a  name=\"&lpos=arg.1:standings:team\" href=\"/futbol/equipo/_/id/16/river-plate\"><span><span class=\"team-names\">River Plate</span><abbr title=\"River Plate\">CARP</abbr></span></a></td><td style=\"white-space:no-wrap;\" class=\"\">4</td><td style=\"white-space:no-wrap;\" class=\"\">3</td><td style=\"white-space:no-wrap;\" class=\"\">1</td><td style=\"white-space:no-wrap;\" class=\"\">0</td><td style=\"white-space:no-wrap;\" class=\"\">8</td><td style=\"white-space:no-wrap;\" class=\"\">3</td><td style=\"white-space:no-wrap;\" class=\" positive\">+5</td><td style=\"white-space:no-wrap;\" class=\"\">10</td></tr><tr class=\" standings-row\"><td style=\"text-align:left;white-space:nowrap;\" class=\"team \"><span class=\"number\">4</span><a  name=\"&lpos=arg.1:standings:team\" href=\"/futbol/equipo/_/id/235/banfield\"><span><img  class=\"team-logo\"  src=\"http://a1.espncdn.com/combiner/i?img=/i/teamlogos/soccer/500/235.png&h=50&scale=crop&w=50&location=origin\"></span></a><a  name=\"&lpos=arg.1:standings:team\" href=\"/futbol/equipo/_/id/235/banfield\"><span><span class=\"team-names\">Banfield</span><abbr title=\"Banfield\">BAN</abbr></span></a></td><td style=\"white-space:no-wrap;\" class=\"\">4</td><td style=\"white-space:no-wrap;\" class=\"\">3</td><td style=\"white-space:no-wrap;\" class=\"\">0</td><td style=\"white-space:no-wrap;\" class=\"\">1</td><td style=\"white-space:no-wrap;\" class=\"\">8</td><td style=\"white-space:no-wrap;\" class=\"\">4</td><td style=\"white-space:no-wrap;\" class=\" positive\">+4</td><td style=\"white-space:no-wrap;\" class=\"\">9</td></tr><tr class=\" standings-row\"><td style=\"text-align:left;white-space:nowrap;\" class=\"team \"><span class=\"number\">5</span><a  name=\"&lpos=arg.1:standings:team\" href=\"/futbol/equipo/_/id/10374/patronato\"><span><img  class=\"team-logo\"  src=\"http://a1.espncdn.com/combiner/i?img=/i/teamlogos/soccer/500/10374.png&h=50&scale=crop&w=50&location=origin\"></span></a><a  name=\"&lpos=arg.1:standings:team\" href=\"/futbol/equipo/_/id/10374/patronato\"><span><span class=\"team-names\">Patronato</span><abbr title=\"Patronato\">CAP</abbr></span></a></td><td style=\"white-space:no-wrap;\" class=\"\">4</td><td style=\"white-space:no-wrap;\" class=\"\">3</td><td style=\"white-space:no-wrap;\" class=\"\">0</td><td style=\"white-space:no-wrap;\" class=\"\">1</td><td style=\"white-space:no-wrap;\" class=\"\">7</td><td style=\"white-space:no-wrap;\" class=\"\">5</td><td style=\"white-space:no-wrap;\" class=\" positive\">+2</td><td style=\"white-space:no-wrap;\" class=\"\">9</td></tr><tr class=\" standings-row\"><td style=\"text-align:left;white-space:nowrap;\" class=\"team \"><span class=\"number\">6</span><a  name=\"&lpos=arg.1:standings:team\" href=\"/futbol/equipo/_/id/7/colon-de-santa-fe\"><span><img  class=\"team-logo\"  src=\"http://a1.espncdn.com/combiner/i?img=/i/teamlogos/soccer/500/7.png&h=50&scale=crop&w=50&location=origin\"></span></a><a  name=\"&lpos=arg.1:standings:team\" href=\"/futbol/equipo/_/id/7/colon-de-santa-fe\"><span><span class=\"team-names\">Colón de Santa Fe</span><abbr title=\"Colón de Santa Fe\">COL</abbr></span></a></td><td style=\"white-space:no-wrap;\" class=\"\">4</td><td style=\"white-space:no-wrap;\" class=\"\">2</td><td style=\"white-space:no-wrap;\" class=\"\">2</td><td style=\"white-space:no-wrap;\" class=\"\">0</td><td style=\"white-space:no-wrap;\" class=\"\">5</td><td style=\"white-space:no-wrap;\" class=\"\">2</td><td style=\"white-space:no-wrap;\" class=\" positive\">+3</td><td style=\"white-space:no-wrap;\" class=\"\">8</td></tr><tr class=\" standings-row\"><td style=\"text-align:left;white-space:nowrap;\" class=\"team \"><span class=\"number\">7</span><a  name=\"&lpos=arg.1:standings:team\" href=\"/futbol/equipo/_/id/18/san-lorenzo\"><span><img  class=\"team-logo\"  src=\"http://a1.espncdn.com/combiner/i?img=/i/teamlogos/soccer/500/18.png&h=50&scale=crop&w=50&location=origin\"></span></a><a  name=\"&lpos=arg.1:standings:team\" href=\"/futbol/equipo/_/id/18/san-lorenzo\"><span><span class=\"team-names\">San Lorenzo</span><abbr title=\"San Lorenzo\">SL</abbr></span></a></td><td style=\"white-space:no-wrap;\" class=\"\">4</td><td style=\"white-space:no-wrap;\" class=\"\">2</td><td style=\"white-space:no-wrap;\" class=\"\">2</td><td style=\"white-space:no-wrap;\" class=\"\">0</td><td style=\"white-space:no-wrap;\" class=\"\">5</td><td style=\"white-space:no-wrap;\" class=\"\">2</td><td style=\"white-space:no-wrap;\" class=\" positive\">+3</td><td style=\"white-space:no-wrap;\" class=\"\">8</td></tr><tr class=\" standings-row\"><td style=\"text-align:left;white-space:nowrap;\" class=\"team \"><span class=\"number\">8</span><a  name=\"&lpos=arg.1:standings:team\" href=\"/futbol/equipo/_/id/10/huracan\"><span><img  class=\"team-logo\"  src=\"http://a1.espncdn.com/combiner/i?img=/i/teamlogos/soccer/500/10.png&h=50&scale=crop&w=50&location=origin\"></span></a><a  name=\"&lpos=arg.1:standings:team\" href=\"/futbol/equipo/_/id/10/huracan\"><span><span class=\"team-names\">Huracán</span><abbr title=\"Huracán\">HUR</abbr></span></a></td><td style=\"white-space:no-wrap;\" class=\"\">5</td><td style=\"white-space:no-wrap;\" class=\"\">2</td><td style=\"white-space:no-wrap;\" class=\"\">2</td><td style=\"white-space:no-wrap;\" class=\"\">1</td><td style=\"white-space:no-wrap;\" class=\"\">5</td><td style=\"white-space:no-wrap;\" class=\"\">4</td><td style=\"white-space:no-wrap;\" class=\" positive\">+1</td><td style=\"white-space:no-wrap;\" class=\"\">8</td></tr><tr class=\" standings-row\"><td style=\"text-align:left;white-space:nowrap;\" class=\"team \"><span class=\"number\">9</span><a  name=\"&lpos=arg.1:standings:team\" href=\"/futbol/equipo/_/id/4/belgrano-de-cordoba\"><span><img  class=\"team-logo\"  src=\"http://a1.espncdn.com/combiner/i?img=/i/teamlogos/soccer/500/4.png&h=50&scale=crop&w=50&location=origin\"></span></a><a  name=\"&lpos=arg.1:standings:team\" href=\"/futbol/equipo/_/id/4/belgrano-de-cordoba\"><span><span class=\"team-names\">Belgrano de Córdoba</span><abbr title=\"Belgrano de Córdoba\">BEL</abbr></span></a></td><td style=\"white-space:no-wrap;\" class=\"\">5</td><td style=\"white-space:no-wrap;\" class=\"\">2</td><td style=\"white-space:no-wrap;\" class=\"\">2</td><td style=\"white-space:no-wrap;\" class=\"\">1</td><td style=\"white-space:no-wrap;\" class=\"\">4</td><td style=\"white-space:no-wrap;\" class=\"\">3</td><td style=\"white-space:no-wrap;\" class=\" positive\">+1</td><td style=\"white-space:no-wrap;\" class=\"\">8</td></tr><tr class=\" standings-row\"><td style=\"text-align:left;white-space:nowrap;\" class=\"team \"><span class=\"number\">10</span><a  name=\"&lpos=arg.1:standings:team\" href=\"/futbol/equipo/_/id/19/talleres-de-cordoba\"><span><img  class=\"team-logo\"  src=\"http://a1.espncdn.com/combiner/i?img=/i/teamlogos/soccer/500/19.png&h=50&scale=crop&w=50&location=origin\"></span></a><a  name=\"&lpos=arg.1:standings:team\" href=\"/futbol/equipo/_/id/19/talleres-de-cordoba\"><span><span class=\"team-names\">Talleres de Córdoba</span><abbr title=\"Talleres de Córdoba\">TDC</abbr></span></a></td><td style=\"white-space:no-wrap;\" class=\"\">4</td><td style=\"white-space:no-wrap;\" class=\"\">2</td><td style=\"white-space:no-wrap;\" class=\"\">1</td><td style=\"white-space:no-wrap;\" class=\"\">1</td><td style=\"white-space:no-wrap;\" class=\"\">7</td><td style=\"white-space:no-wrap;\" class=\"\">4</td><td style=\"white-space:no-wrap;\" class=\" positive\">+3</td><td style=\"white-space:no-wrap;\" class=\"\">7</td></tr><tr class=\" standings-row\"><td style=\"text-align:left;white-space:nowrap;\" class=\"team \"><span class=\"number\">11</span><a  name=\"&lpos=arg.1:standings:team\" href=\"/futbol/equipo/_/id/21/velez-sarsfield\"><span><img  class=\"team-logo\"  src=\"http://a1.espncdn.com/combiner/i?img=/i/teamlogos/soccer/500/21.png&h=50&scale=crop&w=50&location=origin\"></span></a><a  name=\"&lpos=arg.1:standings:team\" href=\"/futbol/equipo/_/id/21/velez-sarsfield\"><span><span class=\"team-names\">Vélez Sarsfield</span><abbr title=\"Vélez Sarsfield\">VEL</abbr></span></a></td><td style=\"white-space:no-wrap;\" class=\"\">4</td><td style=\"white-space:no-wrap;\" class=\"\">2</td><td style=\"white-space:no-wrap;\" class=\"\">1</td><td style=\"white-space:no-wrap;\" class=\"\">1</td><td style=\"white-space:no-wrap;\" class=\"\">5</td><td style=\"white-space:no-wrap;\" class=\"\">4</td><td style=\"white-space:no-wrap;\" class=\" positive\">+1</td><td style=\"white-space:no-wrap;\" class=\"\">7</td></tr><tr class=\" standings-row\"><td style=\"text-align:left;white-space:nowrap;\" class=\"team \"><span class=\"number\">12</span><a  name=\"&lpos=arg.1:standings:team\" href=\"/futbol/equipo/_/id/6756/godoy-cruz-de-mendoza\"><span><img  class=\"team-logo\"  src=\"http://a1.espncdn.com/combiner/i?img=/i/teamlogos/soccer/500/6756.png&h=50&scale=crop&w=50&location=origin\"></span></a><a  name=\"&lpos=arg.1:standings:team\" href=\"/futbol/equipo/_/id/6756/godoy-cruz-de-mendoza\"><span><span class=\"team-names\">Godoy Cruz de Mendoza</span><abbr title=\"Godoy Cruz de Mendoza\">GCM</abbr></span></a></td><td style=\"white-space:no-wrap;\" class=\"\">4</td><td style=\"white-space:no-wrap;\" class=\"\">2</td><td style=\"white-space:no-wrap;\" class=\"\">0</td><td style=\"white-space:no-wrap;\" class=\"\">2</td><td style=\"white-space:no-wrap;\" class=\"\">5</td><td style=\"white-space:no-wrap;\" class=\"\">7</td><td style=\"white-space:no-wrap;\" class=\" negative\">-2</td><td style=\"white-space:no-wrap;\" class=\"\">6</td></tr><tr class=\" standings-row\"><td style=\"text-align:left;white-space:nowrap;\" class=\"team \"><span class=\"number\">13</span><a  name=\"&lpos=arg.1:standings:team\" href=\"/futbol/equipo/_/id/12/lanus\"><span><img  class=\"team-logo\"  src=\"http://a1.espncdn.com/combiner/i?img=/i/teamlogos/soccer/500/12.png&h=50&scale=crop&w=50&location=origin\"></span></a><a  name=\"&lpos=arg.1:standings:team\" href=\"/futbol/equipo/_/id/12/lanus\"><span><span class=\"team-names\">Lanús</span><abbr title=\"Lanús\">LAN</abbr></span></a></td><td style=\"white-space:no-wrap;\" class=\"\">4</td><td style=\"white-space:no-wrap;\" class=\"\">2</td><td style=\"white-space:no-wrap;\" class=\"\">0</td><td style=\"white-space:no-wrap;\" class=\"\">2</td><td style=\"white-space:no-wrap;\" class=\"\">4</td><td style=\"white-space:no-wrap;\" class=\"\">6</td><td style=\"white-space:no-wrap;\" class=\" negative\">-2</td><td style=\"white-space:no-wrap;\" class=\"\">6</td></tr><tr class=\" standings-row\"><td style=\"text-align:left;white-space:nowrap;\" class=\"team \"><span class=\"number\">14</span><a  name=\"&lpos=arg.1:standings:team\" href=\"/futbol/equipo/_/id/15/racing-club\"><span><img  class=\"team-logo\"  src=\"http://a1.espncdn.com/combiner/i?img=/i/teamlogos/soccer/500/15.png&h=50&scale=crop&w=50&location=origin\"></span></a><a  name=\"&lpos=arg.1:standings:team\" href=\"/futbol/equipo/_/id/15/racing-club\"><span><span class=\"team-names\">Racing Club</span><abbr title=\"Racing Club\">RAC</abbr></span></a></td><td style=\"white-space:no-wrap;\" class=\"\">4</td><td style=\"white-space:no-wrap;\" class=\"\">1</td><td style=\"white-space:no-wrap;\" class=\"\">2</td><td style=\"white-space:no-wrap;\" class=\"\">1</td><td style=\"white-space:no-wrap;\" class=\"\">5</td><td style=\"white-space:no-wrap;\" class=\"\">3</td><td style=\"white-space:no-wrap;\" class=\" positive\">+2</td><td style=\"white-space:no-wrap;\" class=\"\">5</td></tr><tr class=\" standings-row\"><td style=\"text-align:left;white-space:nowrap;\" class=\"team \"><span class=\"number\">15</span><a  name=\"&lpos=arg.1:standings:team\" href=\"/futbol/equipo/_/id/9785/atletico-tucuman\"><span><img  class=\"team-logo\"  src=\"http://a1.espncdn.com/combiner/i?img=/i/teamlogos/soccer/500/9785.png&h=50&scale=crop&w=50&location=origin\"></span></a><a  name=\"&lpos=arg.1:standings:team\" href=\"/futbol/equipo/_/id/9785/atletico-tucuman\"><span><span class=\"team-names\">Atlético Tucumán</span><abbr title=\"Atlético Tucumán\">TUC</abbr></span></a></td><td style=\"white-space:no-wrap;\" class=\"\">5</td><td style=\"white-space:no-wrap;\" class=\"\">1</td><td style=\"white-space:no-wrap;\" class=\"\">2</td><td style=\"white-space:no-wrap;\" class=\"\">2</td><td style=\"white-space:no-wrap;\" class=\"\">4</td><td style=\"white-space:no-wrap;\" class=\"\">6</td><td style=\"white-space:no-wrap;\" class=\" negative\">-2</td><td style=\"white-space:no-wrap;\" class=\"\">5</td></tr><tr class=\" standings-row\"><td style=\"text-align:left;white-space:nowrap;\" class=\"team \"><span class=\"number\">16</span><a  name=\"&lpos=arg.1:standings:team\" href=\"/futbol/equipo/_/id/8950/defensa-y-justicia\"><span><img  class=\"team-logo\"  src=\"http://a1.espncdn.com/combiner/i?img=/i/teamlogos/soccer/500/8950.png&h=50&scale=crop&w=50&location=origin\"></span></a><a  name=\"&lpos=arg.1:standings:team\" href=\"/futbol/equipo/_/id/8950/defensa-y-justicia\"><span><span class=\"team-names\">Defensa y Justicia</span><abbr title=\"Defensa y Justicia\">DYJ</abbr></span></a></td><td style=\"white-space:no-wrap;\" class=\"\">5</td><td style=\"white-space:no-wrap;\" class=\"\">1</td><td style=\"white-space:no-wrap;\" class=\"\">2</td><td style=\"white-space:no-wrap;\" class=\"\">2</td><td style=\"white-space:no-wrap;\" class=\"\">7</td><td style=\"white-space:no-wrap;\" class=\"\">10</td><td style=\"white-space:no-wrap;\" class=\" negative\">-3</td><td style=\"white-space:no-wrap;\" class=\"\">5</td></tr><tr class=\" standings-row\"><td style=\"text-align:left;white-space:nowrap;\" class=\"team \"><span class=\"number\">17</span><a  name=\"&lpos=arg.1:standings:team\" href=\"/futbol/equipo/_/id/11/independiente\"><span><img  class=\"team-logo\"  src=\"http://a1.espncdn.com/combiner/i?img=/i/teamlogos/soccer/500/11.png&h=50&scale=crop&w=50&location=origin\"></span></a><a  name=\"&lpos=arg.1:standings:team\" href=\"/futbol/equipo/_/id/11/independiente\"><span><span class=\"team-names\">Independiente</span><abbr title=\"Independiente\">IND</abbr></span></a></td><td style=\"white-space:no-wrap;\" class=\"\">4</td><td style=\"white-space:no-wrap;\" class=\"\">1</td><td style=\"white-space:no-wrap;\" class=\"\">1</td><td style=\"white-space:no-wrap;\" class=\"\">2</td><td style=\"white-space:no-wrap;\" class=\"\">4</td><td style=\"white-space:no-wrap;\" class=\"\">4</td><td style=\"white-space:no-wrap;\" class=\"\">0</td><td style=\"white-space:no-wrap;\" class=\"\">4</td></tr><tr class=\" standings-row\"><td style=\"text-align:left;white-space:nowrap;\" class=\"team \"><span class=\"number\">18</span><a  name=\"&lpos=arg.1:standings:team\" href=\"/futbol/equipo/_/id/14/newells-old-boys\"><span><img  class=\"team-logo\"  src=\"http://a1.espncdn.com/combiner/i?img=/i/teamlogos/soccer/500/14.png&h=50&scale=crop&w=50&location=origin\"></span></a><a  name=\"&lpos=arg.1:standings:team\" href=\"/futbol/equipo/_/id/14/newells-old-boys\"><span><span class=\"team-names\">Newell's Old Boys</span><abbr title=\"Newell's Old Boys\">NOB</abbr></span></a></td><td style=\"white-space:no-wrap;\" class=\"\">4</td><td style=\"white-space:no-wrap;\" class=\"\">1</td><td style=\"white-space:no-wrap;\" class=\"\">1</td><td style=\"white-space:no-wrap;\" class=\"\">2</td><td style=\"white-space:no-wrap;\" class=\"\">3</td><td style=\"white-space:no-wrap;\" class=\"\">3</td><td style=\"white-space:no-wrap;\" class=\"\">0</td><td style=\"white-space:no-wrap;\" class=\"\">4</td></tr><tr class=\" standings-row\"><td style=\"text-align:left;white-space:nowrap;\" class=\"team \"><span class=\"number\">19</span><a  name=\"&lpos=arg.1:standings:team\" href=\"/futbol/equipo/_/id/7845/san-martin-de-san-juan\"><span><img  class=\"team-logo\"  src=\"http://a1.espncdn.com/combiner/i?img=/i/teamlogos/soccer/500/7845.png&h=50&scale=crop&w=50&location=origin\"></span></a><a  name=\"&lpos=arg.1:standings:team\" href=\"/futbol/equipo/_/id/7845/san-martin-de-san-juan\"><span><span class=\"team-names\">San Martín de San Juan</span><abbr title=\"San Martín de San Juan\">SMSJ</abbr></span></a></td><td style=\"white-space:no-wrap;\" class=\"\">4</td><td style=\"white-space:no-wrap;\" class=\"\">1</td><td style=\"white-space:no-wrap;\" class=\"\">1</td><td style=\"white-space:no-wrap;\" class=\"\">2</td><td style=\"white-space:no-wrap;\" class=\"\">3</td><td style=\"white-space:no-wrap;\" class=\"\">4</td><td style=\"white-space:no-wrap;\" class=\" negative\">-1</td><td style=\"white-space:no-wrap;\" class=\"\">4</td></tr><tr class=\" standings-row\"><td style=\"text-align:left;white-space:nowrap;\" class=\"team \"><span class=\"number\">20</span><a  name=\"&lpos=arg.1:standings:team\" href=\"/futbol/equipo/_/id/9/gimnasia-la-plata\"><span><img  class=\"team-logo\"  src=\"http://a1.espncdn.com/combiner/i?img=/i/teamlogos/soccer/500/9.png&h=50&scale=crop&w=50&location=origin\"></span></a><a  name=\"&lpos=arg.1:standings:team\" href=\"/futbol/equipo/_/id/9/gimnasia-la-plata\"><span><span class=\"team-names\">Gimnasia La Plata</span><abbr title=\"Gimnasia La Plata\">GLP</abbr></span></a></td><td style=\"white-space:no-wrap;\" class=\"\">4</td><td style=\"white-space:no-wrap;\" class=\"\">1</td><td style=\"white-space:no-wrap;\" class=\"\">1</td><td style=\"white-space:no-wrap;\" class=\"\">2</td><td style=\"white-space:no-wrap;\" class=\"\">6</td><td style=\"white-space:no-wrap;\" class=\"\">8</td><td style=\"white-space:no-wrap;\" class=\" negative\">-2</td><td style=\"white-space:no-wrap;\" class=\"\">4</td></tr><tr class=\" standings-row\"><td style=\"text-align:left;white-space:nowrap;\" class=\"team \"><span class=\"number\">21</span><a  name=\"&lpos=arg.1:standings:team\" href=\"/futbol/equipo/_/id/8/estudiantes-la-plata\"><span><img  class=\"team-logo\"  src=\"http://a1.espncdn.com/combiner/i?img=/i/teamlogos/soccer/500/8.png&h=50&scale=crop&w=50&location=origin\"></span></a><a  name=\"&lpos=arg.1:standings:team\" href=\"/futbol/equipo/_/id/8/estudiantes-la-plata\"><span><span class=\"team-names\">Estudiantes La Plata</span><abbr title=\"Estudiantes La Plata\">EST</abbr></span></a></td><td style=\"white-space:no-wrap;\" class=\"\">4</td><td style=\"white-space:no-wrap;\" class=\"\">1</td><td style=\"white-space:no-wrap;\" class=\"\">1</td><td style=\"white-space:no-wrap;\" class=\"\">2</td><td style=\"white-space:no-wrap;\" class=\"\">3</td><td style=\"white-space:no-wrap;\" class=\"\">5</td><td style=\"white-space:no-wrap;\" class=\" negative\">-2</td><td style=\"white-space:no-wrap;\" class=\"\">4</td></tr><tr class=\" standings-row\"><td style=\"text-align:left;white-space:nowrap;\" class=\"team \"><span class=\"number\">22</span><a  name=\"&lpos=arg.1:standings:team\" href=\"/futbol/equipo/_/id/10162/temperley\"><span><img  class=\"team-logo\"  src=\"http://a1.espncdn.com/combiner/i?img=/i/teamlogos/soccer/500/10162.png&h=50&scale=crop&w=50&location=origin\"></span></a><a  name=\"&lpos=arg.1:standings:team\" href=\"/futbol/equipo/_/id/10162/temperley\"><span><span class=\"team-names\">Temperley</span><abbr title=\"Temperley\">TEMP</abbr></span></a></td><td style=\"white-space:no-wrap;\" class=\"\">4</td><td style=\"white-space:no-wrap;\" class=\"\">1</td><td style=\"white-space:no-wrap;\" class=\"\">1</td><td style=\"white-space:no-wrap;\" class=\"\">2</td><td style=\"white-space:no-wrap;\" class=\"\">3</td><td style=\"white-space:no-wrap;\" class=\"\">6</td><td style=\"white-space:no-wrap;\" class=\" negative\">-3</td><td style=\"white-space:no-wrap;\" class=\"\">4</td></tr><tr class=\" standings-row\"><td style=\"text-align:left;white-space:nowrap;\" class=\"team \"><span class=\"number\">23</span><a  name=\"&lpos=arg.1:standings:team\" href=\"/futbol/equipo/_/id/17/rosario-central\"><span><img  class=\"team-logo\"  src=\"http://a1.espncdn.com/combiner/i?img=/i/teamlogos/soccer/500/17.png&h=50&scale=crop&w=50&location=origin\"></span></a><a  name=\"&lpos=arg.1:standings:team\" href=\"/futbol/equipo/_/id/17/rosario-central\"><span><span class=\"team-names\">Rosario Central</span><abbr title=\"Rosario Central\">ROS</abbr></span></a></td><td style=\"white-space:no-wrap;\" class=\"\">4</td><td style=\"white-space:no-wrap;\" class=\"\">0</td><td style=\"white-space:no-wrap;\" class=\"\">3</td><td style=\"white-space:no-wrap;\" class=\"\">1</td><td style=\"white-space:no-wrap;\" class=\"\">2</td><td style=\"white-space:no-wrap;\" class=\"\">6</td><td style=\"white-space:no-wrap;\" class=\" negative\">-4</td><td style=\"white-space:no-wrap;\" class=\"\">3</td></tr><tr class=\" standings-row\"><td style=\"text-align:left;white-space:nowrap;\" class=\"team \"><span class=\"number\">24</span><a  name=\"&lpos=arg.1:standings:team\" href=\"/futbol/equipo/_/id/6/chacarita-juniors\"><span><img  class=\"team-logo\"  src=\"http://a1.espncdn.com/combiner/i?img=/i/teamlogos/soccer/500/6.png&h=50&scale=crop&w=50&location=origin\"></span></a><a  name=\"&lpos=arg.1:standings:team\" href=\"/futbol/equipo/_/id/6/chacarita-juniors\"><span><span class=\"team-names\">Chacarita Juniors</span><abbr title=\"Chacarita Juniors\">CHA</abbr></span></a></td><td style=\"white-space:no-wrap;\" class=\"\">3</td><td style=\"white-space:no-wrap;\" class=\"\">0</td><td style=\"white-space:no-wrap;\" class=\"\">2</td><td style=\"white-space:no-wrap;\" class=\"\">1</td><td style=\"white-space:no-wrap;\" class=\"\">2</td><td style=\"white-space:no-wrap;\" class=\"\">3</td><td style=\"white-space:no-wrap;\" class=\" negative\">-1</td><td style=\"white-space:no-wrap;\" class=\"\">2</td></tr><tr class=\" standings-row\"><td style=\"text-align:left;white-space:nowrap;\" class=\"team \"><span class=\"number\">25</span><a  name=\"&lpos=arg.1:standings:team\" href=\"/futbol/equipo/_/id/7767/tigre\"><span><img  class=\"team-logo\"  src=\"http://a1.espncdn.com/combiner/i?img=/i/teamlogos/soccer/500/7767.png&h=50&scale=crop&w=50&location=origin\"></span></a><a  name=\"&lpos=arg.1:standings:team\" href=\"/futbol/equipo/_/id/7767/tigre\"><span><span class=\"team-names\">Tigre</span><abbr title=\"Tigre\">TIG</abbr></span></a></td><td style=\"white-space:no-wrap;\" class=\"\">4</td><td style=\"white-space:no-wrap;\" class=\"\">0</td><td style=\"white-space:no-wrap;\" class=\"\">2</td><td style=\"white-space:no-wrap;\" class=\"\">2</td><td style=\"white-space:no-wrap;\" class=\"\">2</td><td style=\"white-space:no-wrap;\" class=\"\">7</td><td style=\"white-space:no-wrap;\" class=\" negative\">-5</td><td style=\"white-space:no-wrap;\" class=\"\">2</td></tr><tr class=\" standings-row\"><td style=\"text-align:left;white-space:nowrap;\" class=\"team \"><span class=\"number\">26</span><a  name=\"&lpos=arg.1:standings:team\" href=\"/futbol/equipo/_/id/3/argentinos-juniors\"><span><img  class=\"team-logo\"  src=\"http://a1.espncdn.com/combiner/i?img=/i/teamlogos/soccer/500/3.png&h=50&scale=crop&w=50&location=origin\"></span></a><a  name=\"&lpos=arg.1:standings:team\" href=\"/futbol/equipo/_/id/3/argentinos-juniors\"><span><span class=\"team-names\">Argentinos Juniors</span><abbr title=\"Argentinos Juniors\">ARGJ</abbr></span></a></td><td style=\"white-space:no-wrap;\" class=\"\">3</td><td style=\"white-space:no-wrap;\" class=\"\">0</td><td style=\"white-space:no-wrap;\" class=\"\">1</td><td style=\"white-space:no-wrap;\" class=\"\">2</td><td style=\"white-space:no-wrap;\" class=\"\">3</td><td style=\"white-space:no-wrap;\" class=\"\">5</td><td style=\"white-space:no-wrap;\" class=\" negative\">-2</td><td style=\"white-space:no-wrap;\" class=\"\">1</td></tr><tr class=\" standings-row\"><td style=\"text-align:left;white-space:nowrap;\" class=\"team \"><span class=\"number\">27</span><a  name=\"&lpos=arg.1:standings:team\" href=\"/futbol/equipo/_/id/2636/olimpo-de-bahia-blanca\"><span><img  class=\"team-logo\"  src=\"http://a1.espncdn.com/combiner/i?img=/i/teamlogos/soccer/500/2636.png&h=50&scale=crop&w=50&location=origin\"></span></a><a  name=\"&lpos=arg.1:standings:team\" href=\"/futbol/equipo/_/id/2636/olimpo-de-bahia-blanca\"><span><span class=\"team-names\">Olimpo de Bahía Blanca</span><abbr title=\"Olimpo de Bahía Blanca\">OBB</abbr></span></a></td><td style=\"white-space:no-wrap;\" class=\"\">5</td><td style=\"white-space:no-wrap;\" class=\"\">0</td><td style=\"white-space:no-wrap;\" class=\"\">1</td><td style=\"white-space:no-wrap;\" class=\"\">4</td><td style=\"white-space:no-wrap;\" class=\"\">1</td><td style=\"white-space:no-wrap;\" class=\"\">9</td><td style=\"white-space:no-wrap;\" class=\" negative\">-8</td><td style=\"white-space:no-wrap;\" class=\"\">1</td></tr><tr class=\" standings-row\"><td style=\"text-align:left;white-space:nowrap;\" class=\"team \"><span class=\"number\">28</span><a  name=\"&lpos=arg.1:standings:team\" href=\"/futbol/equipo/_/id/2635/arsenal-de-sarandi\"><span><img  class=\"team-logo\"  src=\"http://a1.espncdn.com/combiner/i?img=/i/teamlogos/soccer/500/2635.png&h=50&scale=crop&w=50&location=origin\"></span></a><a  name=\"&lpos=arg.1:standings:team\" href=\"/futbol/equipo/_/id/2635/arsenal-de-sarandi\"><span><span class=\"team-names\">Arsenal de Sarandí</span><abbr title=\"Arsenal de Sarandí\">ARS</abbr></span></a></td><td style=\"white-space:no-wrap;\" class=\"\">4</td><td style=\"white-space:no-wrap;\" class=\"\">0</td><td style=\"white-space:no-wrap;\" class=\"\">0</td><td style=\"white-space:no-wrap;\" class=\"\">4</td><td style=\"white-space:no-wrap;\" class=\"\">1</td><td style=\"white-space:no-wrap;\" class=\"\">5</td><td style=\"white-space:no-wrap;\" class=\" negative\">-4</td><td style=\"white-space:no-wrap;\" class=\"\">0</td></tr></table></div></div></div><footer class=\"sub-footer\"><div class=\"glossary\"><h3>Glosario</h3><ul><li><span>PJ: </span>Partidos Jugados</li><li><span>G: </span>Partidos Ganados</li><li><span>E: </span>Empatados</li><li><span>P: </span>Perdidos</li><li><span>GF: </span>Goles a favor</li><li><span>GC: </span>Goles en contra</li><li><span>DIF: </span>Diferencia de goles</li><li><span>PTS: </span>Puntos</li></ul></div><div class=\"ad-slot ad-slot-incontent\" data-slot-type=\"incontent\" data-slot-kvps=\"pos=incontent\"></div></footer></section>\n",
       "\t\t<script type=\"text/javascript\">\n",
       "\t\t\tvar espn = espn || {};\n",
       "\t\t\tespn.standings = {\n",
       "\t\t\t\tbaseUrl: \"/soccer/standings\",\n",
       "\t\t\t\tresetUrl: \"/soccer/standings\",\n",
       "\t\t\t\theader: \"Posiciones de la Superliga Argentina - 2017-18\",\n",
       "\t\t\t\tyear: 2017,\n",
       "\t\t\t\tmaxYear: 2017,\n",
       "\t\t\t\tminYear: 2002,\n",
       "\t\t\t\tseasonTypeName: \"Superliga 2017/2018\",\n",
       "\t\t\t\tseasonTypeAbbrev: \"2017/18 Superliga Argentina\",\n",
       "\t\t\t\tseasonTypes: {\"2016\":[{\"id\":\"2\",\"name\":\"Campeonato de 1ra. División 2016/2017\",\"abbreviation\":\"2016/17 Argentina Primera Division\"},{\"id\":\"1\",\"name\":\"Campeonato de 1ra. División 2016\",\"abbreviation\":\"Torneo Transicion\"}],\"2017\":[{\"id\":\"1\",\"name\":\"Superliga 2017/2018\",\"abbreviation\":\"2017/18 Superliga Argentina\"}],\"2002\":[{\"id\":\"2\",\"name\":\"Torneo Clausura 2003\",\"abbreviation\":\"Clausura 2003\"},{\"id\":\"1\",\"name\":\"Torneo Apertura 2002\",\"abbreviation\":\"Apertura 2002\"}],\"2003\":[{\"id\":\"2\",\"name\":\"Torneo Clausura 2004\",\"abbreviation\":\"Clausura 2004\"},{\"id\":\"1\",\"name\":\"Torneo Apertura 2003\",\"abbreviation\":\"Apertura 2003\"}],\"2004\":[{\"id\":\"2\",\"name\":\"Torneo Clausura 2005\",\"abbreviation\":\"Clausura 2005\"},{\"id\":\"1\",\"name\":\"Torneo Apertura 2004\",\"abbreviation\":\"Apertura 2004\"}],\"2005\":[{\"id\":\"2\",\"name\":\"Torneo Clausura 2006\",\"abbreviation\":\"Clausura 2006\"},{\"id\":\"1\",\"name\":\"Torneo Apertura 2005\",\"abbreviation\":\"Apertura 2005\"}],\"2006\":[{\"id\":\"2\",\"name\":\"Torneo Clausura 2007\",\"abbreviation\":\"Clausura 2007\"},{\"id\":\"1\",\"name\":\"Torneo Apertura 2006\",\"abbreviation\":\"Apertura 2006\"}],\"2007\":[{\"id\":\"2\",\"name\":\"Torneo Clausura 2008\",\"abbreviation\":\"Clausura 2008\"},{\"id\":\"1\",\"name\":\"Torneo Apertura 2007\",\"abbreviation\":\"Apertura 2007\"}],\"2008\":[{\"id\":\"3\",\"name\":\"Torneo Clausura 2009\",\"abbreviation\":\"Clausura 2009\"},{\"id\":\"1\",\"name\":\"Torneo Apertura 2008\",\"abbreviation\":\"Apertura 2008\"}],\"2009\":[{\"id\":\"3\",\"name\":\"Torneo Clausura 2010\",\"abbreviation\":\"Clausura 2010\"},{\"id\":\"1\",\"name\":\"Torneo Apertura 2009\",\"abbreviation\":\"Apertura 2009\"}],\"2010\":[{\"id\":\"3\",\"name\":\"Torneo Clausura 2011\",\"abbreviation\":\"Clausura 2011\"},{\"id\":\"1\",\"name\":\"Torneo Apertura 2010\",\"abbreviation\":\"Apertura 2010\"}],\"2011\":[{\"id\":\"3\",\"name\":\"Torneo Clausura 2012\",\"abbreviation\":\"Clausura 2012\"},{\"id\":\"1\",\"name\":\"Torneo Apertura 2011\",\"abbreviation\":\"Apertura 2011\"}],\"2012\":[{\"id\":\"3\",\"name\":\"Torneo Final 2013\",\"abbreviation\":\"Final 2013\"},{\"id\":\"1\",\"name\":\"Torneo Inicial 2012\",\"abbreviation\":\"Inicial 2012\"}],\"2013\":[{\"id\":\"3\",\"name\":\"Torneo Final 2014\",\"abbreviation\":\"Final 2014\"},{\"id\":\"1\",\"name\":\"Torneo Inicial 2013\",\"abbreviation\":\"Inicial 2013\"}],\"2014\":[{\"id\":\"1\",\"name\":\"Torneo de Primera División 2014\",\"abbreviation\":\"Torneo 2014\"}],\"2015\":[{\"id\":\"1\",\"name\":\"Campeonato de 1ra. División 2015\",\"abbreviation\":\"Campeonato 2015\"}]},\n",
       "\t\t\t\tsplitSeason: true,\n",
       "\t\t\t\tshiftSeasonForward: true,\n",
       "\t\t\t\tshowSeasonDropdown: true,\n",
       "\t\t\t\tcurrentView: \"null\"\n",
       "\t\t\t};\n",
       "\t\t</script>\n",
       "\t\t\n",
       "                        \n",
       "                    </div>\n",
       "\n",
       "                    \n",
       "\n",
       "                </section>\n",
       "               \n",
       "<div class=\"cookie-overlay\" data-behavior=\"cookie_consent\">\n",
       "\t\t<h1>Advertencia Uso de Cookies</h1>\n",
       "\t\t<p class=\"message\">Utilizamos cookies, flash cookies, web beacons y otras tecnologías de seguimiento propias y de terceros, para unir y/o recopilar información sobre usted. Si continua navegando, consideramos que acepta su uso. Usted puede restringirlas, bloquearlas o borrarlas, según corresponda, utilizando las opciones de su navegador; en la función de ‘Ayuda’ del mismo encontrará la información sobre cómo realizarlo.</p>\n",
       "\t\t<button class=\"button med stand-alone\">CONTINUAR</button>\n",
       "</div>\n",
       "\n",
       "            </section>\n",
       "        </div>\n",
       "\t\t\n",
       "<script>\n",
       "\tvar espn_ui = window.espn_ui || {};\n",
       "\tespn_ui.staticRef = \"http://a.espncdn.com/redesign/0.367.10\";\n",
       "\tespn_ui.imgRef = \"http://a.espncdn.com/redesign/assets/img/\";\n",
       "\tespn_ui.insertRef = \"http://a.espncdn.com\";\n",
       "\tespn_ui.deviceType = \"desktop\";\n",
       "\tespn_ui.pageShell = false;\n",
       "\tespn.api = {};\n",
       "\tespn.api.disasterURLs = {\n",
       "\t\t\"cdn.espn.com\":\"cdn.espn.com\",\n",
       "\t\t\"sports.core.api.espn.com\":\"sports.core.api.espn.com\",\n",
       "\t\t\"site.api.espn.com\":\"site.api.espn.com\",\n",
       "\t\t\"site.api.prod.espninfra.starwave.com\":\"site.api.prod.espninfra.starwave.com\",\n",
       "\t\t\"fan.core.api.espn.com\":\"fan.core.api.espn.com\",\n",
       "\t\t\"site.core.api.prod.espninfra.starwave.com\":\"site.core.api.prod.espninfra.starwave.com\",\n",
       "\t\t\"api.espn.com\":\"api.espn.com\",\n",
       "\t\t\"api-app.espn.com\":\"api-app.espn.com\",\n",
       "\t\t\"api.prod.espninfra.starwave.com\":\"api.prod.espninfra.starwave.com\"\n",
       "\t};\n",
       "\tespn_ui.webview = false;\n",
       "\tespn_ui.useNativeBridge = false;\n",
       "\tespn_ui.onefeed = false;\n",
       "\tespn_ui.abtests = {\"kahuna\":40,\"kplus\":41,\"kminus\":42,\"control\":52,\"carousel\":53,\"auddev1\":45,\"auddev2\":46,\"auddevcontrol\":47,\"headlinetester\":48,\"xlprofile\":49,\"largeprofile\":50,\"adtestcontrol\":51};\n",
       "\tespn_ui.isCurated = false;\n",
       "\t\n",
       "\tfunction setIsCurated () {\n",
       "\t\t$('#news-feed').attr('data-curated', espn_ui.isCurated);\n",
       "\t\t$(document).trigger('checkIfShouldAutoUpdate');\n",
       "\t\tespn_ui.checkIfShouldAutoUpdate = true;\n",
       "\t}\n",
       "\t\n",
       "\t//this is also set on ajax page loads in js/helpers/page.js\n",
       "\tif (document.readyState == 'complete') {\n",
       "\t\tsetIsCurated();\n",
       "\t} else {\n",
       "\t\twindow.onload = setIsCurated;\n",
       "\t}\n",
       "\t\n",
       "\t espn_ui.pubKey = 'espn-es-ar-soccer-index'; \n",
       "\n",
       "\tvar tcStatus = {\"tcTwoLocked\":true,\"tcLocked\":true,\"tcwLocked\":true,\"tcTwoOn\":false,\"tcwOn\":false,\"tcOn\":false};\n",
       "\n",
       "</script>\n",
       "\n",
       "<script src=\"http://a.espncdn.com/redesign/0.367.10/js/espn-critical.js\"></script>\n",
       "\n",
       "\n",
       "\t\t<script type='text/javascript'>\n",
       "\t\t\tvar espn = espn || {};\n",
       "\n",
       "\t\t\t// Build skeleton for namespace.\n",
       "\t\t\tespn.scoreboard = {\n",
       "\t\t\t\ttopics: {\n",
       "\t\t\t\t\tscoreboard: '',\n",
       "\t\t\t\t\tscoreboxes: []\n",
       "\t\t\t\t},\n",
       "\t\t\t\tmodels: {},\n",
       "\t\t\t\tviews: {},\n",
       "\t\t\t\tcollections: {},\n",
       "\t\t\t\ttimezoneOffset: 0,\n",
       "\t\t\t\tfavorites: {},\n",
       "\t\t\t\teditData: {},\n",
       "\t\t\t\tactiveLeague: 'ger.1',\n",
       "\t\t\t\thiddenLeague: 'null',\n",
       "\t\t\t\tsettings: {\n",
       "\t\t\t\t\tactiveLeagues: [{\"sportId\":0,\"displayName\":\"Lo Mejor\",\"league\":\"topEvents\",\"sortOrder\":0},{\"sportId\":720,\"top25Only\":true,\"displayName\":\"Bundesliga\",\"league\":\"ger.1\",\"sortOrder\":1,\"link\":{\"onclick\":\"\",\"href\":\"/futbol/resultados/_/liga/ger.1\",\"title\":\"Resultados &#187;\"},\"sport\":\"soccer\"},{\"sportId\":700,\"top25Only\":true,\"displayName\":\"Liga Premier\",\"league\":\"eng.1\",\"sortOrder\":6,\"link\":{\"onclick\":\"\",\"href\":\"/futbol/resultados\",\"title\":\"Resultados &#187;\"},\"sport\":\"soccer\"},{\"sportId\":710,\"top25Only\":true,\"displayName\":\"Ligue 1 Francia\",\"league\":\"fra.1\",\"sortOrder\":9,\"link\":{\"onclick\":\"\",\"href\":\"/futbol/resultados\",\"title\":\"Resultados &#187;\"},\"sport\":\"soccer\"},{\"sportId\":730,\"top25Only\":true,\"displayName\":\"Serie A\",\"league\":\"ita.1\",\"sortOrder\":10,\"link\":{\"onclick\":\"\",\"href\":\"/futbol/resultados/_/liga/ita.1\",\"title\":\"Resultados &#187;\"},\"sport\":\"soccer\"},{\"sportId\":745,\"top25Only\":true,\"displayName\":\"F. Argentino\",\"league\":\"arg.1\",\"sortOrder\":12,\"link\":{\"onclick\":\"\",\"href\":\"/futbol/resultados/_/liga/arg.1\",\"title\":\"Resultados &#187;\"},\"sport\":\"soccer\"},{\"sportId\":740,\"top25Only\":true,\"displayName\":\"La Liga\",\"league\":\"esp.1\",\"sortOrder\":12,\"link\":{\"onclick\":\"\",\"href\":\"/futbol/resultados/_/liga/esp.1\",\"title\":\"Resultados &#187;\"},\"sport\":\"soccer\"},{\"sportId\":3904,\"top25Only\":true,\"displayName\":\"Primera B\",\"league\":\"arg.3\",\"sortOrder\":13,\"link\":{\"onclick\":\"\",\"href\":\"/futbol/resultados\",\"title\":\"Resultados &#187;\"},\"sport\":\"soccer\"},{\"sportId\":3903,\"top25Only\":true,\"displayName\":\"B Nacional \",\"league\":\"arg.2\",\"sortOrder\":14,\"link\":{\"onclick\":\"\",\"href\":\"/futbol/resultados\",\"title\":\"Resultados &#187;\"},\"sport\":\"soccer\"},{\"sportId\":760,\"top25Only\":true,\"displayName\":\"F. Mexicano\",\"league\":\"mex.1\",\"sortOrder\":18,\"link\":{\"onclick\":\"\",\"href\":\"/futbol/resultados/_/liga/mex.1\",\"title\":\"Resultados &#187;\"},\"sport\":\"soccer\"},{\"sportId\":3934,\"top25Only\":true,\"displayName\":\"F. Paraguayo\",\"league\":\"par.1\",\"sortOrder\":19,\"link\":{\"onclick\":\"\",\"href\":\"http://espndeportes.espn.com/futbol/resultados\",\"title\":\"Resultados &#187;\"},\"sport\":\"soccer\"},{\"sportId\":3939,\"top25Only\":true,\"displayName\":\"F\\u00fatbol ruso\",\"league\":\"rus.1\",\"sortOrder\":20,\"link\":{\"onclick\":\"\",\"href\":\"/futbol/resultados\",\"title\":\"Resultados &#187;\"},\"sport\":\"soccer\"},{\"sportId\":715,\"top25Only\":true,\"displayName\":\"F. Portugal\",\"league\":\"por.1\",\"sortOrder\":21,\"link\":{\"onclick\":\"\",\"href\":\"/futbol/resultados/_/liga/por.1\",\"title\":\"Resultados &#187;\"},\"sport\":\"soccer\"},{\"sportId\":650,\"top25Only\":true,\"displayName\":\"Liga \\u00c1guila\",\"league\":\"col.1\",\"sortOrder\":22,\"link\":{\"onclick\":\"\",\"href\":\"/futbol/resultados\",\"title\":\"Resultados &#187;\"},\"sport\":\"soccer\"},{\"sportId\":630,\"top25Only\":true,\"displayName\":\"F. Brasile\\u00f1o\",\"league\":\"bra.1\",\"sortOrder\":23,\"link\":{\"onclick\":\"\",\"href\":\"/futbol/resultados\",\"title\":\"Resultados &#187;\"},\"sport\":\"soccer\"},{\"sportId\":680,\"top25Only\":true,\"displayName\":\"F. Uruguayo\",\"league\":\"uru.1\",\"sortOrder\":24,\"link\":{\"onclick\":\"\",\"href\":\"http://espndeportes.espn.com/futbol/resultados\",\"title\":\"Resultados &#187;\"},\"sport\":\"soccer\"},{\"sportId\":640,\"top25Only\":true,\"displayName\":\"F. Chileno\",\"league\":\"chi.1\",\"sortOrder\":25,\"link\":{\"onclick\":\"\",\"href\":\"http://espndeportes.espn.com/futbol/resultados\",\"title\":\"Resultados &#187;\"},\"sport\":\"soccer\"},{\"sportId\":770,\"top25Only\":true,\"displayName\":\"MLS\",\"league\":\"usa.1\",\"sortOrder\":26,\"link\":{\"onclick\":\"\",\"href\":\"/futbol/resultados/_/liga/usa.1\",\"title\":\"Resultados &#187;\"},\"sport\":\"soccer\"},{\"sportId\":851,\"top25Only\":true,\"displayName\":\"Tenis (H)\",\"league\":\"atp\",\"sortOrder\":27,\"link\":{\"onclick\":\"\",\"href\":\"/tenis/resultados\",\"title\":\"Resultados &#187;\"},\"sport\":\"tennis\"},{\"sportId\":900,\"top25Only\":true,\"displayName\":\"Tenis (M)\",\"league\":\"wta\",\"sortOrder\":28,\"link\":{\"onclick\":\"\",\"href\":\"/tenis/resultados\",\"title\":\"Resultados &#187;\"},\"sport\":\"tennis\"}],\n",
       "\t\t\t\t\tuseStatic: false,\n",
       "\t\t\t\t\tinitialTopic: 'event-soccer',\n",
       "\t\t\t\t\tversion: 2,\n",
       "\t\t\t\t\ttopEventsId: 2524475\n",
       "\t\t\t\t\t\n",
       "\t\t\t\t\t\n",
       "\t\t\t\t\t\n",
       "\t\t\t\t\t\n",
       "\t\t\t\t},\n",
       "\t\t\t\tdata: {\"sports\":[{\"uid\":\"s:600\",\"leagues\":[{\"uid\":\"s:600~l:720\",\"smartdates\":[\"2017-09-29T07:00Z\",\"2017-09-30T07:00Z\",\"2017-10-01T07:00Z\"],\"name\":\"Bundesliga de Alemania\",\"id\":\"720\",\"shortName\":\"Bundesliga de Alemania\",\"abbreviation\":\"ger.1\",\"slug\":\"ger.1\",\"events\":[{\"date\":\"2017-09-30T13:30:00Z\",\"broadcast\":\"\",\"timeValid\":true,\"link\":\"\",\"addedClock\":0,\"uid\":\"s:600~l:720~e:487196~c:487196\",\"competitors\":[{\"competitionIdPrevious\":\"487213\",\"color\":\"75ea00\",\"displayName\":\"VfL Wolfsburg\",\"type\":\"team\",\"abbreviation\":\"WLF\",\"competitionIdNext\":\"487195\",\"uid\":\"s:600~t:138\",\"homeAway\":\"home\",\"score\":\"1\",\"winner\":false,\"logoDark\":\"http://a.espncdn.com/i/teamlogos/soccer/500-dark/138.png\",\"form\":\"EEPEG\",\"record\":\"1-3-2\",\"name\":\"VfL Wolfsburg\",\"logo\":\"http://a.espncdn.com/i/teamlogos/soccer/500/138.png\",\"id\":\"138\"},{\"competitionIdPrevious\":\"487211\",\"color\":\"DA0308\",\"displayName\":\"Mainz\",\"type\":\"team\",\"abbreviation\":\"MNZ\",\"competitionIdNext\":\"487192\",\"uid\":\"s:600~t:2950\",\"homeAway\":\"away\",\"score\":\"0\",\"winner\":false,\"logoDark\":\"http://a.espncdn.com/i/teamlogos/soccer/500-dark/2950.png\",\"form\":\"GPPGP\",\"record\":\"2-0-4\",\"name\":\"Mainz\",\"logo\":\"http://a.espncdn.com/i/teamlogos/soccer/500/2950.png\",\"id\":\"2950\"}],\"appLinks\":[{\"rel\":[\"event\",\"app\",\"sportscenter\"],\"href\":\"sportscenter://x-callback-url/showGame?sportName=soccer&leagueAbbrev=ger.1&gameId=487196\"}],\"odds\":{\"underOdds\":0,\"awayTeamOdds\":{\"moneyLineOdds\":0,\"spreadReturn\":0,\"spreadOdds\":0,\"closeWinPercentage\":0,\"underdog\":true,\"team\":{\"id\":\"2950\",\"abbreviation\":\"MNZ\"},\"bigWinPercentage\":0,\"favorite\":false,\"moneyLine\":0,\"averageScore\":1,\"winPercentage\":0.359,\"moneyLineReturn\":0},\"away\":{\"moneyLine\":0},\"draw\":{\"moneyLine\":0},\"spread\":0,\"home\":{\"moneyLine\":0},\"overUnder\":2.5,\"provider\":{\"name\":\"bloomberg\",\"id\":\"1006\",\"priority\":0},\"details\":\"EVEN\",\"links\":[],\"drawOdds\":{\"moneyLine\":0,\"moneyLineReturn\":0},\"homeTeamOdds\":{\"moneyLineOdds\":0,\"spreadReturn\":0,\"spreadOdds\":0,\"closeWinPercentage\":0,\"underdog\":true,\"team\":{\"id\":\"138\",\"abbreviation\":\"WLF\"},\"bigWinPercentage\":0,\"favorite\":false,\"moneyLine\":0,\"averageScore\":1,\"winPercentage\":0.367,\"moneyLineReturn\":0},\"overOdds\":0},\"seasonTypeHasGroups\":false,\"season\":2017,\"links\":[{\"rel\":[\"event\",\"desktop\",\"live\"],\"href\":\"http://www.espn.com.ar/futbol/partido?juegoId=487196\",\"text\":\"En Vivo\"}],\"id\":\"487196\",\"group\":{\"groupId\":1,\"name\":\"2017/2018\",\"abbreviation\":\"2017/2018\",\"shortName\":\"2017/2018\"},\"summary\":\"66'\",\"seasonType\":1,\"competitionId\":\"487196\",\"period\":2,\"broadcasts\":[],\"clock\":\"66:00\",\"onWatch\":false,\"name\":\"Bundesliga de Alemania 2017/18\",\"location\":\"Volkswagen Arena\",\"fullStatus\":{\"period\":2,\"clock\":\"66:00\",\"type\":{\"description\":\"SECOND HALF\",\"id\":26,\"detail\":\"66'\",\"shortDetail\":\"66'\",\"state\":\"in\"},\"addedClock\":0},\"status\":\"in\"},{\"date\":\"2017-09-30T13:30:00Z\",\"broadcast\":\"\",\"timeValid\":true,\"link\":\"\",\"addedClock\":0,\"uid\":\"s:600~l:720~e:487200~c:487200\",\"competitors\":[{\"competitionIdPrevious\":\"487208\",\"color\":\"e62a2a\",\"displayName\":\"FC Augsburg\",\"type\":\"team\",\"abbreviation\":\"AUG\",\"competitionIdNext\":\"487190\",\"uid\":\"s:600~t:3841\",\"homeAway\":\"home\",\"score\":\"1\",\"winner\":false,\"logoDark\":\"http://a.espncdn.com/i/teamlogos/soccer/500-dark/3841.png\",\"form\":\"EGGGE\",\"record\":\"3-2-1\",\"name\":\"FC Augsburg\",\"logo\":\"http://a.espncdn.com/i/teamlogos/soccer/500/3841.png\",\"id\":\"3841\"},{\"competitionIdPrevious\":\"495314\",\"color\":\"ffff00\",\"displayName\":\"Borussia Dortmund\",\"type\":\"team\",\"abbreviation\":\"BVB\",\"competitionIdNext\":\"487193\",\"uid\":\"s:600~t:124\",\"homeAway\":\"away\",\"score\":\"2\",\"winner\":false,\"logoDark\":\"http://a.espncdn.com/i/teamlogos/soccer/500-dark/124.png\",\"form\":\"PGGGP\",\"record\":\"5-1-0\",\"name\":\"Borussia Dortmund\",\"logo\":\"http://a.espncdn.com/i/teamlogos/soccer/500/124.png\",\"id\":\"124\"}],\"appLinks\":[{\"rel\":[\"event\",\"app\",\"sportscenter\"],\"href\":\"sportscenter://x-callback-url/showGame?sportName=soccer&leagueAbbrev=ger.1&gameId=487200\"}],\"odds\":{\"underOdds\":0,\"awayTeamOdds\":{\"moneyLineOdds\":0,\"spreadReturn\":0,\"spreadOdds\":0,\"closeWinPercentage\":0,\"underdog\":true,\"team\":{\"id\":\"124\",\"abbreviation\":\"DOR\"},\"bigWinPercentage\":0,\"favorite\":false,\"moneyLine\":0,\"averageScore\":2,\"winPercentage\":0.66,\"moneyLineReturn\":0},\"away\":{\"moneyLine\":0},\"draw\":{\"moneyLine\":0},\"spread\":0,\"home\":{\"moneyLine\":0},\"overUnder\":2.5,\"provider\":{\"name\":\"bloomberg\",\"id\":\"1006\",\"priority\":0},\"details\":\"EVEN\",\"links\":[],\"drawOdds\":{\"moneyLine\":0,\"moneyLineReturn\":0},\"homeTeamOdds\":{\"moneyLineOdds\":0,\"spreadReturn\":0,\"spreadOdds\":0,\"closeWinPercentage\":0,\"underdog\":true,\"team\":{\"id\":\"3841\",\"abbreviation\":\"AUG\"},\"bigWinPercentage\":0,\"favorite\":false,\"moneyLine\":0,\"averageScore\":0,\"winPercentage\":0.151,\"moneyLineReturn\":0},\"overOdds\":0},\"seasonTypeHasGroups\":false,\"season\":2017,\"links\":[{\"rel\":[\"event\",\"desktop\",\"live\"],\"href\":\"http://www.espn.com.ar/futbol/partido?juegoId=487200\",\"text\":\"En Vivo\"}],\"id\":\"487200\",\"group\":{\"groupId\":1,\"name\":\"2017/2018\",\"abbreviation\":\"2017/2018\",\"shortName\":\"2017/2018\"},\"summary\":\"67'\",\"seasonType\":1,\"competitionId\":\"487200\",\"period\":2,\"broadcasts\":[],\"clock\":\"67:00\",\"onWatch\":false,\"name\":\"Bundesliga de Alemania 2017/18\",\"location\":\"WWK Arena\",\"fullStatus\":{\"period\":2,\"clock\":\"67:00\",\"type\":{\"description\":\"SECOND HALF\",\"id\":26,\"detail\":\"67'\",\"shortDetail\":\"67'\",\"state\":\"in\"},\"addedClock\":0},\"status\":\"in\"},{\"date\":\"2017-09-30T13:30:00Z\",\"broadcast\":\"\",\"timeValid\":true,\"link\":\"\",\"addedClock\":0,\"uid\":\"s:600~l:720~e:487201~c:487201\",\"competitors\":[{\"competitionIdPrevious\":\"487206\",\"color\":\"1a1a1a\",\"displayName\":\"Borussia Monchengladbach\",\"type\":\"team\",\"abbreviation\":\"MGB\",\"competitionIdNext\":\"487188\",\"uid\":\"s:600~t:268\",\"homeAway\":\"home\",\"score\":\"0\",\"winner\":false,\"logoDark\":\"http://a.espncdn.com/i/teamlogos/soccer/500-dark/268.png\",\"form\":\"PGEPE\",\"record\":\"2-2-2\",\"name\":\"Borussia Monchengladbach\",\"logo\":\"http://a.espncdn.com/i/teamlogos/soccer/500/268.png\",\"id\":\"268\"},{\"competitionIdPrevious\":\"487205\",\"color\":\"9f0000\",\"displayName\":\"Hannover 96\",\"type\":\"team\",\"abbreviation\":\"HAN\",\"competitionIdNext\":\"487189\",\"uid\":\"s:600~t:2428\",\"homeAway\":\"away\",\"score\":\"0\",\"winner\":false,\"logoDark\":\"http://a.espncdn.com/i/teamlogos/soccer/500-dark/2428.png\",\"form\":\"EEGEG\",\"record\":\"3-3-0\",\"name\":\"Hannover 96\",\"logo\":\"http://a.espncdn.com/i/teamlogos/soccer/500/2428.png\",\"id\":\"2428\"}],\"appLinks\":[{\"rel\":[\"event\",\"app\",\"sportscenter\"],\"href\":\"sportscenter://x-callback-url/showGame?sportName=soccer&leagueAbbrev=ger.1&gameId=487201\"}],\"odds\":{\"underOdds\":0,\"awayTeamOdds\":{\"moneyLineOdds\":0,\"spreadReturn\":0,\"spreadOdds\":0,\"closeWinPercentage\":0,\"underdog\":true,\"team\":{\"id\":\"2428\",\"abbreviation\":\"HAN\"},\"bigWinPercentage\":0,\"favorite\":false,\"moneyLine\":0,\"averageScore\":0,\"winPercentage\":0.167,\"moneyLineReturn\":0},\"away\":{\"moneyLine\":0},\"draw\":{\"moneyLine\":0},\"spread\":0,\"home\":{\"moneyLine\":0},\"overUnder\":2.5,\"provider\":{\"name\":\"bloomberg\",\"id\":\"1006\",\"priority\":0},\"details\":\"EVEN\",\"links\":[],\"drawOdds\":{\"moneyLine\":0,\"moneyLineReturn\":0},\"homeTeamOdds\":{\"moneyLineOdds\":0,\"spreadReturn\":0,\"spreadOdds\":0,\"closeWinPercentage\":0,\"underdog\":true,\"team\":{\"id\":\"268\",\"abbreviation\":\"MGB\"},\"bigWinPercentage\":0,\"favorite\":false,\"moneyLine\":0,\"averageScore\":1,\"winPercentage\":0.601,\"moneyLineReturn\":0},\"overOdds\":0},\"seasonTypeHasGroups\":false,\"season\":2017,\"links\":[{\"rel\":[\"event\",\"desktop\",\"live\"],\"href\":\"http://www.espn.com.ar/futbol/partido?juegoId=487201\",\"text\":\"En Vivo\"}],\"id\":\"487201\",\"group\":{\"groupId\":1,\"name\":\"2017/2018\",\"abbreviation\":\"2017/2018\",\"shortName\":\"2017/2018\"},\"summary\":\"58'\",\"seasonType\":1,\"competitionId\":\"487201\",\"period\":2,\"broadcasts\":[],\"clock\":\"58:00\",\"onWatch\":false,\"name\":\"Bundesliga de Alemania 2017/18\",\"location\":\"Borussia-Park\",\"fullStatus\":{\"period\":2,\"clock\":\"58:00\",\"type\":{\"description\":\"SECOND HALF\",\"id\":26,\"detail\":\"58'\",\"shortDetail\":\"58'\",\"state\":\"in\"},\"addedClock\":0},\"status\":\"in\"},{\"date\":\"2017-09-30T13:30:00Z\",\"broadcast\":\"\",\"timeValid\":true,\"link\":\"\",\"addedClock\":0,\"uid\":\"s:600~l:720~e:487203~c:487203\",\"competitors\":[{\"competitionIdPrevious\":\"487207\",\"color\":\"1a1a1a\",\"displayName\":\"Eintracht Frankfurt\",\"type\":\"team\",\"abbreviation\":\"FRA\",\"competitionIdNext\":\"487189\",\"uid\":\"s:600~t:125\",\"homeAway\":\"home\",\"score\":\"1\",\"winner\":false,\"logoDark\":\"http://a.espncdn.com/i/teamlogos/soccer/500-dark/125.png\",\"form\":\"PGPGP\",\"record\":\"2-1-3\",\"name\":\"Eintracht Frankfurt\",\"logo\":\"http://a.espncdn.com/i/teamlogos/soccer/500/125.png\",\"id\":\"125\"},{\"competitionIdPrevious\":\"487208\",\"color\":\"DA0308\",\"displayName\":\"VfB Stuttgart\",\"type\":\"team\",\"abbreviation\":\"STU\",\"competitionIdNext\":\"487187\",\"uid\":\"s:600~t:134\",\"homeAway\":\"away\",\"score\":\"1\",\"winner\":false,\"logoDark\":\"http://a.espncdn.com/i/teamlogos/soccer/500-dark/134.png\",\"form\":\"EPGPG\",\"record\":\"2-1-3\",\"name\":\"VfB Stuttgart\",\"logo\":\"http://a.espncdn.com/i/teamlogos/soccer/500/134.png\",\"id\":\"134\"}],\"appLinks\":[{\"rel\":[\"event\",\"app\",\"sportscenter\"],\"href\":\"sportscenter://x-callback-url/showGame?sportName=soccer&leagueAbbrev=ger.1&gameId=487203\"}],\"odds\":{\"underOdds\":0,\"awayTeamOdds\":{\"moneyLineOdds\":0,\"spreadReturn\":0,\"spreadOdds\":0,\"closeWinPercentage\":0,\"underdog\":true,\"team\":{\"id\":\"134\",\"abbreviation\":\"STU\"},\"bigWinPercentage\":0,\"favorite\":false,\"moneyLine\":0,\"averageScore\":0,\"winPercentage\":0.216,\"moneyLineReturn\":0},\"away\":{\"moneyLine\":0},\"draw\":{\"moneyLine\":0},\"spread\":0,\"home\":{\"moneyLine\":0},\"overUnder\":2.5,\"provider\":{\"name\":\"bloomberg\",\"id\":\"1006\",\"priority\":0},\"details\":\"EVEN\",\"links\":[],\"drawOdds\":{\"moneyLine\":0,\"moneyLineReturn\":0},\"homeTeamOdds\":{\"moneyLineOdds\":0,\"spreadReturn\":0,\"spreadOdds\":0,\"closeWinPercentage\":0,\"underdog\":true,\"team\":{\"id\":\"125\",\"abbreviation\":\"FRA\"},\"bigWinPercentage\":0,\"favorite\":false,\"moneyLine\":0,\"averageScore\":1,\"winPercentage\":0.508,\"moneyLineReturn\":0},\"overOdds\":0},\"seasonTypeHasGroups\":false,\"season\":2017,\"links\":[{\"rel\":[\"event\",\"desktop\",\"live\"],\"href\":\"http://www.espn.com.ar/futbol/partido?juegoId=487203\",\"text\":\"En Vivo\"}],\"id\":\"487203\",\"group\":{\"groupId\":1,\"name\":\"2017/2018\",\"abbreviation\":\"2017/2018\",\"shortName\":\"2017/2018\"},\"summary\":\"66'\",\"seasonType\":1,\"competitionId\":\"487203\",\"period\":2,\"broadcasts\":[],\"clock\":\"66:00\",\"onWatch\":false,\"name\":\"Bundesliga de Alemania 2017/18\",\"location\":\"Commerzbank-Arena\",\"fullStatus\":{\"period\":2,\"clock\":\"66:00\",\"type\":{\"description\":\"SECOND HALF\",\"id\":26,\"detail\":\"66'\",\"shortDetail\":\"66'\",\"state\":\"in\"},\"addedClock\":0},\"status\":\"in\"},{\"date\":\"2017-09-30T16:30:00Z\",\"broadcast\":\"\",\"timeValid\":true,\"link\":\"\",\"addedClock\":0,\"uid\":\"s:600~l:720~e:487204~c:487204\",\"competitors\":[{\"competitionIdPrevious\":\"487210\",\"color\":\"fafafc\",\"displayName\":\"Hamburg SV\",\"type\":\"team\",\"abbreviation\":\"HSV\",\"competitionIdNext\":\"487192\",\"uid\":\"s:600~t:127\",\"homeAway\":\"home\",\"score\":\"\",\"winner\":false,\"logoDark\":\"http://a.espncdn.com/i/teamlogos/soccer/500-dark/127.png\",\"form\":\"PPPPG\",\"record\":\"2-0-4\",\"name\":\"Hamburg SV\",\"logo\":\"http://a.espncdn.com/i/teamlogos/soccer/500/127.png\",\"id\":\"127\"},{\"competitionIdPrevious\":\"487212\",\"color\":\"288A00\",\"displayName\":\"Werder Bremen\",\"type\":\"team\",\"abbreviation\":\"BRE\",\"competitionIdNext\":\"487188\",\"uid\":\"s:600~t:137\",\"homeAway\":\"away\",\"score\":\"\",\"winner\":false,\"logoDark\":\"http://a.espncdn.com/i/teamlogos/soccer/500-dark/137.png\",\"form\":\"EEPEP\",\"record\":\"0-3-3\",\"name\":\"Werder Bremen\",\"logo\":\"http://a.espncdn.com/i/teamlogos/soccer/500/137.png\",\"id\":\"137\"}],\"appLinks\":[{\"rel\":[\"event\",\"app\",\"sportscenter\"],\"href\":\"sportscenter://x-callback-url/showGame?sportName=soccer&leagueAbbrev=ger.1&gameId=487204\"}],\"odds\":{\"underOdds\":0,\"awayTeamOdds\":{\"moneyLineOdds\":0,\"spreadReturn\":0,\"spreadOdds\":0,\"closeWinPercentage\":0,\"underdog\":true,\"team\":{\"id\":\"137\",\"abbreviation\":\"BRE\"},\"bigWinPercentage\":0,\"favorite\":false,\"moneyLine\":0,\"averageScore\":1,\"winPercentage\":0.377,\"moneyLineReturn\":0},\"away\":{\"moneyLine\":0},\"draw\":{\"moneyLine\":0},\"spread\":0,\"home\":{\"moneyLine\":0},\"overUnder\":2.5,\"provider\":{\"name\":\"bloomberg\",\"id\":\"1006\",\"priority\":0},\"details\":\"EVEN\",\"links\":[],\"drawOdds\":{\"moneyLine\":0,\"moneyLineReturn\":0},\"homeTeamOdds\":{\"moneyLineOdds\":0,\"spreadReturn\":0,\"spreadOdds\":0,\"closeWinPercentage\":0,\"underdog\":true,\"team\":{\"id\":\"127\",\"abbreviation\":\"HSV\"},\"bigWinPercentage\":0,\"favorite\":false,\"moneyLine\":0,\"averageScore\":1,\"winPercentage\":0.37,\"moneyLineReturn\":0},\"overOdds\":0},\"seasonTypeHasGroups\":false,\"season\":2017,\"links\":[{\"rel\":[\"event\",\"desktop\",\"summary\"],\"href\":\"http://www.espn.com.ar/futbol/partido?juegoId=487204\",\"text\":\"Resumen\"}],\"id\":\"487204\",\"group\":{\"groupId\":1,\"name\":\"2017/2018\",\"abbreviation\":\"2017/2018\",\"shortName\":\"2017/2018\"},\"summary\":\"2017-09-30T16:30:00Z\",\"seasonType\":1,\"competitionId\":\"487204\",\"period\":0,\"broadcasts\":[{\"callLetters\":\"BT Sport 2\",\"broadcasterId\":102,\"broadcastId\":102,\"name\":\"BT Sport 2\",\"typeId\":102,\"language\":{\"code\":\"en\",\"name\":\"English\",\"id\":1,\"abbreviation\":\"eng\"},\"type\":\"TV\",\"shortName\":\"BT Sport 2\",\"region\":\"gb\",\"lang\":\"en\",\"isNational\":true}],\"clock\":\"0:00\",\"onWatch\":false,\"name\":\"Bundesliga de Alemania 2017/18\",\"location\":\"HSH Nordbank Arena\",\"fullStatus\":{\"period\":0,\"clock\":\"0:00\",\"type\":{\"description\":\"SCHEDULED\",\"id\":1,\"detail\":\"2017-09-30T16:30:00Z\",\"shortDetail\":\"2017-09-30T16:30:00Z\",\"state\":\"pre\"},\"addedClock\":0},\"status\":\"pre\"}]}],\"name\":\"F\\u00fatbol\",\"id\":\"600\",\"slug\":\"soccer\"}]},\n",
       "\t\t\t\tqueue: []\n",
       "\t\t\t};\n",
       "\n",
       "\t\t\t\n",
       "\n",
       "\t\t</script>\n",
       "\n",
       "\t\t\n",
       "\t\t\t<script type='text/javascript'>jQuery.subscribe('espn.defer.end', function () { espn.scoreboard.init(); });</script>\n",
       "\t\t\n",
       "\t<script>\n",
       "\t(function() {\n",
       "\t\tfunction loadDefer() {\n",
       "\t\t\tvar deferScripts = [\n",
       "\t\t\t\t'http://a.espncdn.com/redesign/0.367.10/js/espn-defer.js',\n",
       "\t\t\t\t'http://a.espncdn.com/redesign/0.367.10/js/espn-defer-low.js'\n",
       "\t\t\t];\n",
       "\n",
       "\t\t\t$.when(deferScripts.map(function (script) {\n",
       "\t\t\t\tvar deferred = $.Deferred();\n",
       "\t\t\t\t$.getScriptCache(script, deferred.resolve);\n",
       "\t\t\t\treturn deferred;\n",
       "\t\t\t})).done(function () {\n",
       "\t\t\t\tif(espn.siteType === 'data-lite' && typeof espn.ads.loadGPT === 'function') {\n",
       "\t\t\t\t\tespn.ads.loadGPT();\n",
       "\t\t\t\t}\n",
       "\t\t\t});\n",
       "\t\t}\n",
       "\n",
       "\t\tif(window.espn.loadType === \"loadEnd\" && espn_ui.deviceType !== 'desktop') {\n",
       "\t\t\tvar race = [];\n",
       "\t\t\t$.when(function () {\n",
       "\t\t\t\tvar deferred = $.Deferred();\n",
       "\t\t\t\t$(window).load(deferred.resolve);\n",
       "\t\t\t\tif(espn.siteType !== 'data-lite') {\n",
       "\t\t\t\t\tsetTimeout( deferred.resolve, 5000 );\n",
       "\t\t\t\t}\n",
       "\t\t\t\treturn deferred;\n",
       "\t\t\t}()).then(loadDefer)\n",
       "\n",
       "\t\t}else{\n",
       "\t\t\tloadDefer();\n",
       "\t\t}\n",
       "\t\t\n",
       "\t})();\n",
       "\t</script>\n",
       "\n",
       "\t\n",
       "\n",
       "<script>espn_ui.Helpers.translate.init();</script>\n",
       "<script type=\"text/javascript\" src=\"http://a.espncdn.com/redesign/0.367.10/js/modules/standings/filter.js\"></script>\n",
       "\n",
       "\t\t\t<script type=\"text/javascript\">\n",
       "\t\t\t\tvar data = {\"omniture\":{\"espn3ContentType\":\"standings:espndeportes:soccer\",\"league\":\"arg.1\",\"countryRegion\":\"es-ar\",\"navMethod\":\"sitenav\",\"hier1\":\"soccer:standings\",\"section\":\"soccer\",\"pageName\":\"soccer:standings\",\"sections\":\"soccer:standings\",\"site\":\"espndeportes\",\"premium\":\"premium-no\",\"convrSport\":\"soccer\",\"pageURL\":\"www.espn.com.ar/soccer/standings\",\"lang\":\"es_ar\",\"contentType\":\"standings\",\"sport\":\"soccer\",\"account\":\"wdgespdeportes\",\"siteType\":\"full\",\"prop58\":\"isIndex=false\"},\"chartbeat\":{\"loadPubJS\":false,\"path\":\"/soccer/standings\",\"zone\":\"www.espn.com.ar.ar.soccer\",\"domain\":\"www.espn.com.ar\",\"loadVidJS\":true,\"title\":\"Posiciones de la Superliga Argentina\",\"sections\":\"soccer\",\"authors\":\"standings\"},\"nielsen\":{\"espnuk\":{\"apid\":\"P07264C85-15CD-4A80-8E56-B5BFA6D93296\",\"vc\":\"b01\"},\"general\":{\"ci\":\"us-600140\",\"assetid\":\"N/A\",\"segB\":\"N/A\",\"sfcode\":\"dcr\",\"segA\":\"N/A\",\"section\":\"N/A\",\"segC\":\"N/A\",\"apn\":\"espnCOM\"},\"espnza\":{\"apid\":\"P07264C85-15CD-4A80-8E56-B5BFA6D93296\",\"vc\":\"b01\"},\"espnau\":{\"apid\":\"P07264C85-15CD-4A80-8E56-B5BFA6D93296\",\"vc\":\"b01\"},\"espn\":{\"apid\":\"P07264C85-15CD-4A80-8E56-B5BFA6D93296\",\"vc\":\"b01\"},\"espnin\":{\"apid\":\"P07264C85-15CD-4A80-8E56-B5BFA6D93296\",\"vc\":\"b01\"},\"fantasy\":{\"apid\":\"P302B69D5-F1DD-4E7A-BF8D-3E60F0EB5E5A\",\"vc\":\"c07\"},\"watchespn\":{\"apid\":\"P07264C85-15CD-4A80-8E56-B5BFA6D93296\",\"vc\":\"b01\"},\"espndeportes\":{\"apid\":\"P890E2723-EDBC-4CCE-96BA-F35EA3E50650\",\"vc\":\"c02\"},\"espnfc\":{\"apid\":\"PE6995AAE-0C49-4372-B5E7-54C61BFE2AA5\",\"vc\":\"c03\"},\"cricinfo\":{\"apid\":\"PED8CDAC2-F114-41BE-8B98-AFA06FAEA06E\",\"vc\":\"c04\"}},\"ABTest\":{\"environment\":\"prod\",\"tScript\":\"http://a.espncdn.com/prod/scripts/analytics/target.20.r2.js\",\"oScript\":\"http://cdn.optimizely.com/js/310987714.js\",\"targetURLs\":[{\"regexp\":\"(/)\",\"site\":\"espndeportes.espn.com\",\"flag\":false},{\"regexp\":\"(/.*)\",\"site\":\"espn.com.mx\",\"flag\":true},{\"regexp\":\"(/.*)\",\"site\":\"espn.cl\",\"flag\":true},{\"regexp\":\"(/.*)\",\"site\":\"espn.com.ar\",\"flag\":true},{\"regexp\":\"(/.*)\",\"site\":\"espn.com.co\",\"flag\":true},{\"regexp\":\"(/.*)\",\"site\":\"espn.com.ve\",\"flag\":true}],\"domain\":\"www.espn.com.ar\",\"host\":\"espn.com.ar\",\"raw\":\"{\\\"fastcast\\\":{\\\"placements\\\":{\\\"/nba/index\\\":\\\"true\\\",\\\"^/.+$\\\":\\\"false\\\",\\\"/ncf/index\\\":\\\"true\\\"},\\\"enabled\\\":true,\\\"script\\\":\\\"http://a.espncdn.com/combiner/c?js=analytics/espn.fastcastTracking.4.js\\\"},\\\"optimizely\\\":{\\\"oldscript\\\":\\\"http://a.espncdn.com/sports/optimizely.js\\\",\\\"placements\\\":[{\\\"regexp\\\":\\\"(/)\\\",\\\"site\\\":\\\"espndeportes.espn.com\\\",\\\"flag\\\":true},{\\\"regexp\\\":\\\"(/.*)\\\",\\\"site\\\":\\\"espn.com.mx\\\",\\\"flag\\\":true},{\\\"regexp\\\":\\\"(/.*)\\\",\\\"site\\\":\\\"espn.cl\\\",\\\"flag\\\":true},{\\\"regexp\\\":\\\"(/.*)\\\",\\\"site\\\":\\\"espn.com.ar\\\",\\\"flag\\\":true},{\\\"regexp\\\":\\\"(/.*)\\\",\\\"site\\\":\\\"espn.com.co\\\",\\\"flag\\\":true},{\\\"regexp\\\":\\\"(/.*)\\\",\\\"site\\\":\\\"espn.com.ve\\\",\\\"flag\\\":true}],\\\"enabled\\\":true,\\\"script\\\":\\\"http://cdn.optimizely.com/js/310987714.js\\\"},\\\"target\\\":{\\\"placements\\\":[{\\\"regexp\\\":\\\"(/)\\\",\\\"site\\\":\\\"espndeportes.espn.com\\\",\\\"flag\\\":false},{\\\"regexp\\\":\\\"(/.*)\\\",\\\"site\\\":\\\"espn.com.mx\\\",\\\"flag\\\":true},{\\\"regexp\\\":\\\"(/.*)\\\",\\\"site\\\":\\\"espn.cl\\\",\\\"flag\\\":true},{\\\"regexp\\\":\\\"(/.*)\\\",\\\"site\\\":\\\"espn.com.ar\\\",\\\"flag\\\":true},{\\\"regexp\\\":\\\"(/.*)\\\",\\\"site\\\":\\\"espn.com.co\\\",\\\"flag\\\":true},{\\\"regexp\\\":\\\"(/.*)\\\",\\\"site\\\":\\\"espn.com.ve\\\",\\\"flag\\\":true}],\\\"enabled\\\":false,\\\"script\\\":\\\"http://a.espncdn.com/prod/scripts/analytics/target.20.r2.js\\\"}}\",\"optimizely\":true,\"target\":false,\"optimizelyURLs\":[{\"regexp\":\"(/)\",\"site\":\"espndeportes.espn.com\",\"flag\":true},{\"regexp\":\"(/.*)\",\"site\":\"espn.com.mx\",\"flag\":true},{\"regexp\":\"(/.*)\",\"site\":\"espn.cl\",\"flag\":true},{\"regexp\":\"(/.*)\",\"site\":\"espn.com.ar\",\"flag\":true},{\"regexp\":\"(/.*)\",\"site\":\"espn.com.co\",\"flag\":true},{\"regexp\":\"(/.*)\",\"site\":\"espn.com.ve\",\"flag\":true}]},\"isFeaturePhone\":false,\"device\":\"desktop\",\"cto\":false};\n",
       "\t\t\t\tvar espn = espn || {};\n",
       "\t\t\t\tespn.track = espn.track || {};\n",
       "\t\t\t\tespn.track.data = data;\n",
       "\t\t\t</script>\n",
       "\t\t\t\t\n",
       "\t<!-- SiteCatalyst code version: AppMeasurement 1.0 Copyright 1996-2013 Adobe, Inc. -->\n",
       "\t<script type=\"text/javascript\">\n",
       "\n",
       "\tif (typeof s_omni === 'undefined') {\n",
       "\t\tjQuery(function($){\n",
       "\t\t\t$.getScriptCache(\"http://a.espncdn.com/redesign/0.367.10/js/espn-analytics.js\", \t\t\t\tfunction() {\t\t\t\t\tvar deferEvent = \"user.parsed\",\t\t\t\t\ttrackInit = false;\n",
       "\t\t\t\t\tfunction initTrack(){\t\t\t\t\t\tif (!trackInit && espn.track && (typeof espn.track.init) === 'function') {\t\t\t\t\t\t\tespn.track.init(data);\t\t\t\t\t\t\ttrackInit = true;\t\t\t\t\t\t}\t\t\t\t\t}\t\t\t\t\t$.subscribe(deferEvent, initTrack);\t\t\t\t\tsetTimeout(initTrack, 5000);\t\t\t\t\tif(window.espn_ui.userParsed){\t\t\t\t\t\t$.publish('user.parsed');\t\t\t\t\t}\t\t\t\t}\t\t\t\t);\n",
       "\t\t});\n",
       "\t}\n",
       "\n",
       "\t</script>\n",
       "\n",
       "\t<!-- End SiteCatalyst code version: AppMeasurement 1.0 -->\n",
       "\t\t\t<!--BEGIN QUALTRICS SITE INTERCEPT-->\n",
       "\t\t\t<div id='SI_9EvK9r52GPmgW9v'><!--DO NOT REMOVE-CONTENTS PLACED HERE--></div>\n",
       "\t\t\t<!--END SITE INTERCEPT-->\n",
       "\t\t\n",
       "\t</body>\n",
       "</html>"
      ],
      "text/plain": [
       "<IPython.core.display.HTML object>"
      ]
     },
     "metadata": {},
     "output_type": "display_data"
    }
   ],
   "source": [
    "#Vemos el contenido renderizado\n",
    "display(HTML(resp.text))"
   ]
  },
  {
   "cell_type": "code",
   "execution_count": 6,
   "metadata": {
    "collapsed": true
   },
   "outputs": [],
   "source": [
    "soup = BeautifulSoup(resp.text, 'html.parser')"
   ]
  },
  {
   "cell_type": "markdown",
   "metadata": {},
   "source": [
    "Podemos acceder a \"tags\" directamente"
   ]
  },
  {
   "cell_type": "code",
   "execution_count": 7,
   "metadata": {},
   "outputs": [
    {
     "data": {
      "text/plain": [
       "<title>Posiciones de la Superliga Argentina</title>"
      ]
     },
     "execution_count": 7,
     "metadata": {},
     "output_type": "execute_result"
    }
   ],
   "source": [
    "soup.title"
   ]
  },
  {
   "cell_type": "markdown",
   "metadata": {},
   "source": [
    "Para trabajar con el contenido vamos a usar algunos de los siguientes métodos que tiene este objeto como:\n",
    "\n",
    "- .findAll()  /  .find_all\n",
    "- .find()\n",
    "- .get()\n",
    "- .get_text()"
   ]
  },
  {
   "cell_type": "code",
   "execution_count": 8,
   "metadata": {},
   "outputs": [
    {
     "data": {
      "text/plain": [
       "'http://www.espn.com.ar/futbol/posiciones/_/liga/arg.1'"
      ]
     },
     "execution_count": 8,
     "metadata": {},
     "output_type": "execute_result"
    }
   ],
   "source": [
    "soup.head.link.get('href')"
   ]
  },
  {
   "cell_type": "code",
   "execution_count": 9,
   "metadata": {
    "collapsed": true
   },
   "outputs": [],
   "source": [
    "#Podemos usar find() para encontrar la tabla\n",
    "\n",
    "raw_table = soup.find('table', {'class':'standings has-team-logos'})"
   ]
  },
  {
   "cell_type": "code",
   "execution_count": 10,
   "metadata": {},
   "outputs": [
    {
     "data": {
      "text/plain": [
       "bs4.element.Tag"
      ]
     },
     "execution_count": 10,
     "metadata": {},
     "output_type": "execute_result"
    }
   ],
   "source": [
    "type(raw_table)"
   ]
  },
  {
   "cell_type": "markdown",
   "metadata": {},
   "source": [
    "Esto nos devuelve un objeto \"Tag\" definido por la librería BeautifulSoup. Podemos ver sus atributos usando .attrs"
   ]
  },
  {
   "cell_type": "code",
   "execution_count": 11,
   "metadata": {},
   "outputs": [
    {
     "data": {
      "text/plain": [
       "{'cellpadding': '0',\n",
       " 'cellspacing': '0',\n",
       " 'class': ['standings', 'has-team-logos'],\n",
       " 'data-behavior': 'responsive_table',\n",
       " 'data-fix-cols': '1',\n",
       " 'data-mobile-force-responsive': 'true',\n",
       " 'data-set-cell-heights': 'false',\n",
       " 'data-text-contract': 'Contract table',\n",
       " 'data-text-expand': 'Expand table'}"
      ]
     },
     "execution_count": 11,
     "metadata": {},
     "output_type": "execute_result"
    }
   ],
   "source": [
    "raw_table.attrs"
   ]
  },
  {
   "cell_type": "markdown",
   "metadata": {},
   "source": [
    "Dentro del atributo \"children\" encontramos todos los descendientes de ese nodo. En el caso de nuestra tabla, los descendientes son tags \"tr\", que corresponden a cada fila. Existe otro atributo llamado \"descendants\", que a diferencia del primero es recursivo. En este caso solo necesitamos los nódos directamente próximos, así que usamos el primer método.\n",
    "\n",
    "Iteramos todas las filas y formamos una matriz con los datos, para luego cargarlos a un DataFrame."
   ]
  },
  {
   "cell_type": "code",
   "execution_count": 12,
   "metadata": {},
   "outputs": [
    {
     "data": {
      "text/plain": [
       "['',\n",
       " '',\n",
       " '',\n",
       " '',\n",
       " '2017/18 Superliga,PJ,G,E,P,GF,GC,DIF,PTS',\n",
       " '1,Boca Juniors,CABJ,4,4,0,0,12,1,+11,12',\n",
       " '2,Unión de Santa Fe,USF,5,3,2,0,7,2,+5,11',\n",
       " '3,River Plate,CARP,4,3,1,0,8,3,+5,10',\n",
       " '4,Banfield,BAN,4,3,0,1,8,4,+4,9',\n",
       " '5,Patronato,CAP,4,3,0,1,7,5,+2,9',\n",
       " '6,Colón de Santa Fe,COL,4,2,2,0,5,2,+3,8',\n",
       " '7,San Lorenzo,SL,4,2,2,0,5,2,+3,8',\n",
       " '8,Huracán,HUR,5,2,2,1,5,4,+1,8',\n",
       " '9,Belgrano de Córdoba,BEL,5,2,2,1,4,3,+1,8',\n",
       " '10,Talleres de Córdoba,TDC,4,2,1,1,7,4,+3,7',\n",
       " '11,Vélez Sarsfield,VEL,4,2,1,1,5,4,+1,7',\n",
       " '12,Godoy Cruz de Mendoza,GCM,4,2,0,2,5,7,-2,6',\n",
       " '13,Lanús,LAN,4,2,0,2,4,6,-2,6',\n",
       " '14,Racing Club,RAC,4,1,2,1,5,3,+2,5',\n",
       " '15,Atlético Tucumán,TUC,5,1,2,2,4,6,-2,5',\n",
       " '16,Defensa y Justicia,DYJ,5,1,2,2,7,10,-3,5',\n",
       " '17,Independiente,IND,4,1,1,2,4,4,0,4',\n",
       " \"18,Newell's Old Boys,NOB,4,1,1,2,3,3,0,4\",\n",
       " '19,San Martín de San Juan,SMSJ,4,1,1,2,3,4,-1,4',\n",
       " '20,Gimnasia La Plata,GLP,4,1,1,2,6,8,-2,4',\n",
       " '21,Estudiantes La Plata,EST,4,1,1,2,3,5,-2,4',\n",
       " '22,Temperley,TEMP,4,1,1,2,3,6,-3,4',\n",
       " '23,Rosario Central,ROS,4,0,3,1,2,6,-4,3',\n",
       " '24,Chacarita Juniors,CHA,3,0,2,1,2,3,-1,2',\n",
       " '25,Tigre,TIG,4,0,2,2,2,7,-5,2',\n",
       " '26,Argentinos Juniors,ARGJ,3,0,1,2,3,5,-2,1',\n",
       " '27,Olimpo de Bahía Blanca,OBB,5,0,1,4,1,9,-8,1',\n",
       " '28,Arsenal de Sarandí,ARS,4,0,0,4,1,5,-4,0']"
      ]
     },
     "execution_count": 12,
     "metadata": {},
     "output_type": "execute_result"
    }
   ],
   "source": [
    "rows = []\n",
    "for row in raw_table.children:\n",
    "    rows.append(row.get_text(separator= ','))\n",
    "rows"
   ]
  },
  {
   "cell_type": "code",
   "execution_count": 13,
   "metadata": {
    "collapsed": true
   },
   "outputs": [],
   "source": [
    "#Separamos las columnas, y desechamos las filas vacias\n",
    "table = [row.split(',') for row in rows if len(row) > 1]"
   ]
  },
  {
   "cell_type": "code",
   "execution_count": 14,
   "metadata": {},
   "outputs": [
    {
     "name": "stdout",
     "output_type": "stream",
     "text": [
      "['Index', 'Name', 'Abbr', 'PJ', 'G', 'E', 'P', 'GF', 'GC', 'DIF', 'PTS']\n",
      "['1', 'Boca Juniors', 'CABJ', '4', '4', '0', '0', '12', '1', '+11', '12']\n",
      "['2', 'Unión de Santa Fe', 'USF', '5', '3', '2', '0', '7', '2', '+5', '11']\n",
      "['3', 'River Plate', 'CARP', '4', '3', '1', '0', '8', '3', '+5', '10']\n",
      "['4', 'Banfield', 'BAN', '4', '3', '0', '1', '8', '4', '+4', '9']\n",
      "['5', 'Patronato', 'CAP', '4', '3', '0', '1', '7', '5', '+2', '9']\n",
      "['6', 'Colón de Santa Fe', 'COL', '4', '2', '2', '0', '5', '2', '+3', '8']\n",
      "['7', 'San Lorenzo', 'SL', '4', '2', '2', '0', '5', '2', '+3', '8']\n",
      "['8', 'Huracán', 'HUR', '5', '2', '2', '1', '5', '4', '+1', '8']\n",
      "['9', 'Belgrano de Córdoba', 'BEL', '5', '2', '2', '1', '4', '3', '+1', '8']\n",
      "['10', 'Talleres de Córdoba', 'TDC', '4', '2', '1', '1', '7', '4', '+3', '7']\n",
      "['11', 'Vélez Sarsfield', 'VEL', '4', '2', '1', '1', '5', '4', '+1', '7']\n",
      "['12', 'Godoy Cruz de Mendoza', 'GCM', '4', '2', '0', '2', '5', '7', '-2', '6']\n",
      "['13', 'Lanús', 'LAN', '4', '2', '0', '2', '4', '6', '-2', '6']\n",
      "['14', 'Racing Club', 'RAC', '4', '1', '2', '1', '5', '3', '+2', '5']\n",
      "['15', 'Atlético Tucumán', 'TUC', '5', '1', '2', '2', '4', '6', '-2', '5']\n",
      "['16', 'Defensa y Justicia', 'DYJ', '5', '1', '2', '2', '7', '10', '-3', '5']\n",
      "['17', 'Independiente', 'IND', '4', '1', '1', '2', '4', '4', '0', '4']\n",
      "['18', \"Newell's Old Boys\", 'NOB', '4', '1', '1', '2', '3', '3', '0', '4']\n",
      "['19', 'San Martín de San Juan', 'SMSJ', '4', '1', '1', '2', '3', '4', '-1', '4']\n",
      "['20', 'Gimnasia La Plata', 'GLP', '4', '1', '1', '2', '6', '8', '-2', '4']\n",
      "['21', 'Estudiantes La Plata', 'EST', '4', '1', '1', '2', '3', '5', '-2', '4']\n",
      "['22', 'Temperley', 'TEMP', '4', '1', '1', '2', '3', '6', '-3', '4']\n",
      "['23', 'Rosario Central', 'ROS', '4', '0', '3', '1', '2', '6', '-4', '3']\n",
      "['24', 'Chacarita Juniors', 'CHA', '3', '0', '2', '1', '2', '3', '-1', '2']\n",
      "['25', 'Tigre', 'TIG', '4', '0', '2', '2', '2', '7', '-5', '2']\n",
      "['26', 'Argentinos Juniors', 'ARGJ', '3', '0', '1', '2', '3', '5', '-2', '1']\n",
      "['27', 'Olimpo de Bahía Blanca', 'OBB', '5', '0', '1', '4', '1', '9', '-8', '1']\n",
      "['28', 'Arsenal de Sarandí', 'ARS', '4', '0', '0', '4', '1', '5', '-4', '0']\n"
     ]
    }
   ],
   "source": [
    "#Corregimos la tabla\n",
    "\n",
    "table[0] =  ['Index', 'Name', 'Abbr'] + table[0][1:]\n",
    "print(*table, sep = '\\n')"
   ]
  },
  {
   "cell_type": "markdown",
   "metadata": {},
   "source": [
    "Para guardar el archivo a un csv usando Python, usamos:"
   ]
  },
  {
   "cell_type": "code",
   "execution_count": 15,
   "metadata": {
    "collapsed": true
   },
   "outputs": [],
   "source": [
    "filename = 'tabla.csv'\n",
    "with open(filename, 'w') as out:\n",
    "    out.write('\\n'.join([','.join(row) for row in table]))"
   ]
  },
  {
   "cell_type": "code",
   "execution_count": 16,
   "metadata": {
    "collapsed": true
   },
   "outputs": [],
   "source": [
    "df = pd.DataFrame(table[1:], columns= table[0])"
   ]
  },
  {
   "cell_type": "code",
   "execution_count": 17,
   "metadata": {},
   "outputs": [
    {
     "data": {
      "text/plain": [
       "Index(['Index', 'Name', 'Abbr', 'PJ', 'G', 'E', 'P', 'GF', 'GC', 'DIF', 'PTS'], dtype='object')"
      ]
     },
     "execution_count": 17,
     "metadata": {},
     "output_type": "execute_result"
    }
   ],
   "source": [
    "df.columns"
   ]
  },
  {
   "cell_type": "code",
   "execution_count": 18,
   "metadata": {},
   "outputs": [
    {
     "data": {
      "text/html": [
       "<div>\n",
       "<style>\n",
       "    .dataframe thead tr:only-child th {\n",
       "        text-align: right;\n",
       "    }\n",
       "\n",
       "    .dataframe thead th {\n",
       "        text-align: left;\n",
       "    }\n",
       "\n",
       "    .dataframe tbody tr th {\n",
       "        vertical-align: top;\n",
       "    }\n",
       "</style>\n",
       "<table border=\"1\" class=\"dataframe\">\n",
       "  <thead>\n",
       "    <tr style=\"text-align: right;\">\n",
       "      <th></th>\n",
       "      <th>Name</th>\n",
       "      <th>Abbr</th>\n",
       "      <th>PJ</th>\n",
       "      <th>G</th>\n",
       "      <th>E</th>\n",
       "      <th>P</th>\n",
       "      <th>GF</th>\n",
       "      <th>GC</th>\n",
       "      <th>DIF</th>\n",
       "      <th>PTS</th>\n",
       "    </tr>\n",
       "    <tr>\n",
       "      <th>Index</th>\n",
       "      <th></th>\n",
       "      <th></th>\n",
       "      <th></th>\n",
       "      <th></th>\n",
       "      <th></th>\n",
       "      <th></th>\n",
       "      <th></th>\n",
       "      <th></th>\n",
       "      <th></th>\n",
       "      <th></th>\n",
       "    </tr>\n",
       "  </thead>\n",
       "  <tbody>\n",
       "    <tr>\n",
       "      <th>1</th>\n",
       "      <td>Boca Juniors</td>\n",
       "      <td>CABJ</td>\n",
       "      <td>4</td>\n",
       "      <td>4</td>\n",
       "      <td>0</td>\n",
       "      <td>0</td>\n",
       "      <td>12</td>\n",
       "      <td>1</td>\n",
       "      <td>+11</td>\n",
       "      <td>12</td>\n",
       "    </tr>\n",
       "    <tr>\n",
       "      <th>2</th>\n",
       "      <td>Unión de Santa Fe</td>\n",
       "      <td>USF</td>\n",
       "      <td>5</td>\n",
       "      <td>3</td>\n",
       "      <td>2</td>\n",
       "      <td>0</td>\n",
       "      <td>7</td>\n",
       "      <td>2</td>\n",
       "      <td>+5</td>\n",
       "      <td>11</td>\n",
       "    </tr>\n",
       "    <tr>\n",
       "      <th>3</th>\n",
       "      <td>River Plate</td>\n",
       "      <td>CARP</td>\n",
       "      <td>4</td>\n",
       "      <td>3</td>\n",
       "      <td>1</td>\n",
       "      <td>0</td>\n",
       "      <td>8</td>\n",
       "      <td>3</td>\n",
       "      <td>+5</td>\n",
       "      <td>10</td>\n",
       "    </tr>\n",
       "    <tr>\n",
       "      <th>4</th>\n",
       "      <td>Banfield</td>\n",
       "      <td>BAN</td>\n",
       "      <td>4</td>\n",
       "      <td>3</td>\n",
       "      <td>0</td>\n",
       "      <td>1</td>\n",
       "      <td>8</td>\n",
       "      <td>4</td>\n",
       "      <td>+4</td>\n",
       "      <td>9</td>\n",
       "    </tr>\n",
       "    <tr>\n",
       "      <th>5</th>\n",
       "      <td>Patronato</td>\n",
       "      <td>CAP</td>\n",
       "      <td>4</td>\n",
       "      <td>3</td>\n",
       "      <td>0</td>\n",
       "      <td>1</td>\n",
       "      <td>7</td>\n",
       "      <td>5</td>\n",
       "      <td>+2</td>\n",
       "      <td>9</td>\n",
       "    </tr>\n",
       "  </tbody>\n",
       "</table>\n",
       "</div>"
      ],
      "text/plain": [
       "                    Name  Abbr PJ  G  E  P  GF GC  DIF PTS\n",
       "Index                                                     \n",
       "1           Boca Juniors  CABJ  4  4  0  0  12  1  +11  12\n",
       "2      Unión de Santa Fe   USF  5  3  2  0   7  2   +5  11\n",
       "3            River Plate  CARP  4  3  1  0   8  3   +5  10\n",
       "4               Banfield   BAN  4  3  0  1   8  4   +4   9\n",
       "5              Patronato   CAP  4  3  0  1   7  5   +2   9"
      ]
     },
     "execution_count": 18,
     "metadata": {},
     "output_type": "execute_result"
    }
   ],
   "source": [
    "df.set_index('Index', inplace=True)\n",
    "df.head()"
   ]
  },
  {
   "cell_type": "markdown",
   "metadata": {},
   "source": [
    "Por último, podemos guardar el archivo usando pandas con:"
   ]
  },
  {
   "cell_type": "code",
   "execution_count": 19,
   "metadata": {
    "collapsed": true
   },
   "outputs": [],
   "source": [
    "filename = 'tabla.csv'\n",
    "df.to_csv(filename)"
   ]
  },
  {
   "cell_type": "code",
   "execution_count": null,
   "metadata": {
    "collapsed": true
   },
   "outputs": [],
   "source": []
  }
 ],
 "metadata": {
  "kernelspec": {
   "display_name": "Python 3",
   "language": "python",
   "name": "python3"
  },
  "language_info": {
   "codemirror_mode": {
    "name": "ipython",
    "version": 3
   },
   "file_extension": ".py",
   "mimetype": "text/x-python",
   "name": "python",
   "nbconvert_exporter": "python",
   "pygments_lexer": "ipython3",
   "version": "3.6.1"
  }
 },
 "nbformat": 4,
 "nbformat_minor": 2
}
