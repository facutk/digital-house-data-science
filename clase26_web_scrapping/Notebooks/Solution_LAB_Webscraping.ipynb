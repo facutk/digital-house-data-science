{
 "cells": [
  {
   "cell_type": "markdown",
   "metadata": {},
   "source": [
    "# LAB: Webscraping"
   ]
  },
  {
   "cell_type": "markdown",
   "metadata": {},
   "source": [
    "## Introducción\n",
    "\n",
    "La idea de este LAB es poder fijar algunos conceptos vistos en la clase de webscraping. Para ello, utilizando las librerias vistas en clase, haremos un análisis comparativo básico entre algunas carácterísticas de cuentos de Borges y Cortazar."
   ]
  },
  {
   "cell_type": "markdown",
   "metadata": {},
   "source": [
    "Pasos a seguir:\n",
    "\n",
    "- Inspeccionar la página a consultar\n",
    "- Usar Requests para consultar la URL\n",
    "- Extraer los links relevantes para scrapear los cuentos\n",
    "- Almacenar los datos de manera conveniente\n",
    "- Utilizar los datos y Pandas para hacer alguna comparación entre los autores"
   ]
  },
  {
   "cell_type": "markdown",
   "metadata": {},
   "source": [
    "## Scrapeando datos\n",
    "\n",
    "***1. Importá requests, BeautifulSoup y re***"
   ]
  },
  {
   "cell_type": "code",
   "execution_count": null,
   "metadata": {
    "collapsed": true
   },
   "outputs": [],
   "source": [
    "import requests\n",
    "from bs4 import BeautifulSoup\n",
    "import pandas as pd\n",
    "import re\n",
    "import time\n",
    "import numpy as np"
   ]
  },
  {
   "cell_type": "markdown",
   "metadata": {},
   "source": [
    "***2. Guardá las URLS en variables*** "
   ]
  },
  {
   "cell_type": "code",
   "execution_count": null,
   "metadata": {
    "collapsed": true
   },
   "outputs": [],
   "source": [
    "url_cortazar = 'http://ciudadseva.com/autor/julio-cortazar/cuentos/'\n",
    "url_borges = 'http://ciudadseva.com/autor/jorge-luis-borges/cuentos/'"
   ]
  },
  {
   "cell_type": "markdown",
   "metadata": {},
   "source": [
    "***3. Hacé un pedido HTTP GET para descargar las páginas con los links*** \n",
    "***4. Usá regex para extraer los links a scrapear***\n",
    "***5. Usá BeautifulSoup para extraer los textos de esos links***\n",
    "\n",
    "Para ahorrar código considerá encapsularlo en una función!"
   ]
  },
  {
   "cell_type": "code",
   "execution_count": null,
   "metadata": {
    "collapsed": true
   },
   "outputs": [],
   "source": [
    "def get_cuentos(url):\n",
    "    titulos = []\n",
    "    textos = []\n",
    "    \n",
    "    response = requests.get(url)\n",
    "\n",
    "    for s_url in re.findall('(http://ciudadseva.com/texto/.+?/)', response.text):   \n",
    "        cuento = requests.get(s_url)\n",
    "        soup = BeautifulSoup(cuento.content, 'html.parser')\n",
    "\n",
    "        for elem in soup.findAll(\"div\", { \"class\" : \"text-justify\" })[:2]:\n",
    "            cuento = elem.text\n",
    "            \n",
    "        titulos.append(s_url.split('/')[-2])\n",
    "        textos.append(cuento)\n",
    "        time.sleep(np.random.randint(1,4))\n",
    "        \n",
    "    return {k:v for k,v in zip(titulos, textos)}"
   ]
  },
  {
   "cell_type": "code",
   "execution_count": null,
   "metadata": {
    "collapsed": true
   },
   "outputs": [],
   "source": [
    "cuentos_bor = get_cuentos(url_borges)\n",
    "cuentos_cor = get_cuentos(url_cortazar)"
   ]
  },
  {
   "cell_type": "markdown",
   "metadata": {},
   "source": [
    "***6. Guardalos en .csv***"
   ]
  },
  {
   "cell_type": "code",
   "execution_count": null,
   "metadata": {
    "collapsed": true
   },
   "outputs": [],
   "source": [
    "df_cor = pd.DataFrame.from_dict(cuentos_cor, orient=\"index\")\n",
    "df_cor = pd.DataFrame.from_dict(cuentos_bor, orient=\"index\")\n",
    "\n",
    "df_cor.to_csv(\"df_cor.csv\")\n",
    "df_cor.to_csv(\"df_bor.csv\")\n"
   ]
  },
  {
   "cell_type": "markdown",
   "metadata": {},
   "source": [
    "***7. Cargalos a un dict o un DataFrame para hacer alguna comparación***"
   ]
  },
  {
   "cell_type": "code",
   "execution_count": null,
   "metadata": {
    "collapsed": true
   },
   "outputs": [],
   "source": [
    "df_cor = pd.DataFrame.from_dict(cuentos_cor, orient=\"index\")\n",
    "df_cor = pd.DataFrame.from_dict(cuentos_bor, orient=\"index\")\n"
   ]
  },
  {
   "cell_type": "markdown",
   "metadata": {},
   "source": [
    "## Bonus:\n",
    "    Usar time para dar al scraper un tiempo de espera tomado de una distibución uniforme de rango 3.\n",
    "    Usar CountVectorizer de sci-kit learn para analizar los cuentos.\n",
    "    "
   ]
  },
  {
   "cell_type": "code",
   "execution_count": null,
   "metadata": {
    "collapsed": true
   },
   "outputs": [],
   "source": [
    "from sklearn.feature_extraction.text import CountVectorizer\n",
    "\n",
    "countv_bor = CountVectorizer()\n",
    "countv_cor = CountVectorizer()\n",
    "\n",
    "countv_bor.fit(cuentos_bor)\n",
    "countv_cor.fit(cuentos_cor)\n",
    "\n",
    "df_bor = pd.DataFrame(countv_bor.transform(cuentos_bor).toarray(), columns= countv_bor.get_feature_names())\n",
    "df_cor = pd.DataFrame(countv_cor.transform(cuentos_cor).toarray(), columns= countv_cor.get_feature_names())"
   ]
  },
  {
   "cell_type": "code",
   "execution_count": null,
   "metadata": {
    "collapsed": true,
    "scrolled": true
   },
   "outputs": [],
   "source": [
    "df_bor.head()"
   ]
  },
  {
   "cell_type": "code",
   "execution_count": null,
   "metadata": {
    "collapsed": true,
    "scrolled": true
   },
   "outputs": [],
   "source": [
    "df_cor.head()"
   ]
  }
 ],
 "metadata": {
  "kernelspec": {
   "display_name": "Python 3",
   "language": "python",
   "name": "python3"
  },
  "language_info": {
   "codemirror_mode": {
    "name": "ipython",
    "version": 3
   },
   "file_extension": ".py",
   "mimetype": "text/x-python",
   "name": "python",
   "nbconvert_exporter": "python",
   "pygments_lexer": "ipython3",
   "version": "3.6.1"
  }
 },
 "nbformat": 4,
 "nbformat_minor": 1
}
