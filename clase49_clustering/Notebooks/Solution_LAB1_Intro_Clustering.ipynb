{
 "cells": [
  {
   "cell_type": "markdown",
   "metadata": {},
   "source": [
    "\n",
    "# LAB: Introducción al Clustering. K-Means Clustering \n",
    "\n",
    "\n",
    "# ![](https://encrypted-tbn0.gstatic.com/images?q=tbn:ANd9GcR_z4GT2bY3HmLtHlRmRVm1oygMgUUvz6o8ryX3vAMo65iIftAD) \n",
    "\n",
    "## Introducción\n",
    "\n",
    "A esta altura ya sabemos lo que es un proceso de Clusterización, como preparar los datos para realizarlo y como evaluar el análisis de K-Means. Ahora es el momento de poner a prueba nuestras habilidades. Para esta sesión de laboratorio vamos a completar un proceso completo de K-Means usando Python.\n",
    "\n",
    "Vamos a trabajar con el dataset de cáncer de pecho elaborado por la Universidad de Wisconsin (que ya habíamos usado previamente). Las features fueron calculadas de imágenes digitalizadas de tejido mamario. Describen características de los núcleos celulares en las imágenes.\n",
    "\n",
    "La idea va a ser encontrar grupos de tejidos similares en función de esas características.\n",
    "\n",
    "\n",
    "\n",
    "### Ejercicio\n",
    "\n",
    "### Requerimientos\n",
    "\n",
    "- Importar los datos\n",
    "- Realizar una proceso de K-Means para extraer información.\n",
    "    - Usar Scikit-Learn\n",
    "- Encontrar el \"Silhouette Score\" para elvaluar los cluster de análisis.\n",
    "- Encontrar el k óptimo\n",
    "- Encontrar los centroides. (Hint: Usar Scikit!)\n",
    "\n",
    "\n",
    "### Fuentes adicionales\n",
    "\n",
    "- Un link de [K-Means Documentation](http://scikit-learn.org/stable/modules/generated/sklearn.cluster.KMeans.html)\n",
    "- Sobre Silhouette Score [Silhouette Score Documentation](http://scikit-learn.org/stable/modules/generated/sklearn.metrics.silhouette_score.html)"
   ]
  },
  {
   "cell_type": "markdown",
   "metadata": {},
   "source": [
    "===================================================================================================================="
   ]
  },
  {
   "cell_type": "markdown",
   "metadata": {},
   "source": [
    "## _COMENCEMOS!!!!_\n",
    "\n",
    "### Sección I: Importar la Data"
   ]
  },
  {
   "cell_type": "markdown",
   "metadata": {},
   "source": [
    "Importar paquetes y leer el archivo"
   ]
  },
  {
   "cell_type": "code",
   "execution_count": null,
   "metadata": {
    "collapsed": true
   },
   "outputs": [],
   "source": [
    "%matplotlib inline\n",
    "import matplotlib\n",
    "matplotlib.style.use('ggplot')\n",
    "import matplotlib.pyplot as plt\n",
    "import seaborn as sns; sns.set()  # for plot styling\n",
    "import numpy as np\n",
    "from sklearn.cluster import KMeans"
   ]
  },
  {
   "cell_type": "code",
   "execution_count": null,
   "metadata": {
    "collapsed": true
   },
   "outputs": [],
   "source": [
    "from sklearn.datasets import load_breast_cancer\n",
    "df = load_breast_cancer()\n",
    "df.data.shape"
   ]
  },
  {
   "cell_type": "code",
   "execution_count": null,
   "metadata": {
    "collapsed": true
   },
   "outputs": [],
   "source": [
    "print(df.DESCR)"
   ]
  },
  {
   "cell_type": "markdown",
   "metadata": {},
   "source": [
    "### Sección II. Estimar clusters utilizando un k = 4"
   ]
  },
  {
   "cell_type": "code",
   "execution_count": null,
   "metadata": {
    "collapsed": true
   },
   "outputs": [],
   "source": [
    "kmeans = KMeans(n_clusters=4, random_state=0)\n",
    "clusters = kmeans.fit_predict(df.data)\n",
    "labels = kmeans.labels_\n",
    "centroids = kmeans.cluster_centers_"
   ]
  },
  {
   "cell_type": "markdown",
   "metadata": {},
   "source": [
    "### Sección II a. Hacer una inspección gráfica de algunos los datos"
   ]
  },
  {
   "cell_type": "code",
   "execution_count": null,
   "metadata": {
    "collapsed": true
   },
   "outputs": [],
   "source": [
    "plt.figure(figsize=(12, 12))\n",
    "\n",
    "ax1=plt.subplot(221)\n",
    "#puntos\n",
    "ax1.scatter(df.data[:, 0], df.data[:, 1], c=labels,alpha=0.5,s=30)\n",
    "ax1=plt.subplot(222)\n",
    "ax1.scatter(df.data[:, 0], df.data[:, 5], c=labels,alpha=0.5,s=30)\n",
    "ax1=plt.subplot(223)\n",
    "ax1.scatter(df.data[:, 0], df.data[:, 10], c=labels,alpha=0.5,s=30)\n",
    "ax1=plt.subplot(224)\n",
    "ax1.scatter(df.data[:, 0], df.data[:, 26], c=labels,alpha=0.5,s=30)"
   ]
  },
  {
   "cell_type": "markdown",
   "metadata": {},
   "source": [
    "### Sección II b. Realizar una evaluación interna de los clusters"
   ]
  },
  {
   "cell_type": "code",
   "execution_count": null,
   "metadata": {
    "collapsed": true
   },
   "outputs": [],
   "source": [
    "from sklearn.metrics import silhouette_score, calinski_harabaz_score\n",
    "silhouette_score(df.data, labels)"
   ]
  },
  {
   "cell_type": "code",
   "execution_count": null,
   "metadata": {
    "collapsed": true
   },
   "outputs": [],
   "source": [
    "calinski_harabaz_score(df.data, labels)  "
   ]
  },
  {
   "cell_type": "markdown",
   "metadata": {},
   "source": [
    "** BONUS: ** Investigar algunas otras métricas de evaluación en la [documentación de Scikit-Learn](http://scikit-learn.org/stable/modules/clustering.html#clustering-performance-evaluation). Calcularlas e interpretarlas."
   ]
  },
  {
   "cell_type": "code",
   "execution_count": null,
   "metadata": {
    "collapsed": true
   },
   "outputs": [],
   "source": []
  },
  {
   "cell_type": "markdown",
   "metadata": {},
   "source": [
    "### Sección III. Hallar el k óptimo"
   ]
  },
  {
   "cell_type": "code",
   "execution_count": null,
   "metadata": {
    "collapsed": true
   },
   "outputs": [],
   "source": [
    "evaluation = []\n",
    "for k in range(2,9):\n",
    "    kmeans = KMeans(n_clusters=k, random_state=0) #Como siempre, suele ser una buena práctica fijar la semilla\n",
    "    kmeans.fit(df.data)\n",
    "    labels = kmeans.labels_\n",
    "    centroids = kmeans.cluster_centers_\n",
    "    #predY = np.choose(labels, pd.Series(range(0,k+1)).astype(np.int64))\n",
    "    silhouette = silhouette_score(df.data, labels, metric='euclidean')\n",
    "    calinsky = calinski_harabaz_score(df.data, labels)      \n",
    "    evaluation = [k, silhouette, calinsky]\n",
    "    print(\"K= \", evaluation)"
   ]
  },
  {
   "cell_type": "markdown",
   "metadata": {},
   "source": [
    "### Sección IV. Teniendo en cuenta el número de clusters óptimo estimado en el punto anterior, ¿qué medida de validación externa podría utilizarse? Realizar las pruebas necesarias\n",
    "\n",
    "> Dado que se trata de un dataset que intenta clasificar muestras de tejido mamario en \"maligno\" y \"benigno\" una psoible medida de validación externa podría ser el target del dataset."
   ]
  },
  {
   "cell_type": "code",
   "execution_count": null,
   "metadata": {
    "collapsed": true
   },
   "outputs": [],
   "source": [
    "kmeans = KMeans(n_clusters=2, random_state=0) #Como siempre, suele ser una buena práctica fijar la semilla\n",
    "kmeans.fit(df.data)\n",
    "labels = kmeans.labels_\n",
    "centroids = kmeans.cluster_centers_"
   ]
  },
  {
   "cell_type": "code",
   "execution_count": null,
   "metadata": {
    "collapsed": true
   },
   "outputs": [],
   "source": [
    "plt.figure(figsize=(12, 12))\n",
    "\n",
    "ax1=plt.subplot(221)\n",
    "#puntos\n",
    "ax1.scatter(df.data[:, 0], df.data[:, 1], c=labels,alpha=0.5,s=30)\n",
    "ax1=plt.subplot(222)\n",
    "ax1.scatter(df.data[:, 0], df.data[:, 1], c=df.target,alpha=0.5,s=30)\n",
    "ax1=plt.subplot(223)\n",
    "ax1.scatter(df.data[:, 0], df.data[:, 10], c=labels,alpha=0.5,s=30)\n",
    "ax1=plt.subplot(224)\n",
    "ax1.scatter(df.data[:, 0], df.data[:, 10], c=df.target,alpha=0.5,s=30)"
   ]
  },
  {
   "cell_type": "markdown",
   "metadata": {},
   "source": [
    "Como puede verse, las etiquetas están \"invertidas\"... los 0's en el target corresponden a \"1\" en el clustering y viceversa. Procedemos a corregir este punto."
   ]
  },
  {
   "cell_type": "code",
   "execution_count": null,
   "metadata": {
    "collapsed": true
   },
   "outputs": [],
   "source": [
    "from sklearn.metrics import confusion_matrix, accuracy_score"
   ]
  },
  {
   "cell_type": "code",
   "execution_count": null,
   "metadata": {
    "collapsed": true
   },
   "outputs": [],
   "source": [
    "predY = np.choose(labels, [1, 0]).astype(np.int64)"
   ]
  },
  {
   "cell_type": "code",
   "execution_count": null,
   "metadata": {
    "collapsed": true
   },
   "outputs": [],
   "source": [
    "accuracy_score(df.target, predY)"
   ]
  },
  {
   "cell_type": "code",
   "execution_count": null,
   "metadata": {
    "collapsed": true
   },
   "outputs": [],
   "source": [
    "confusion_matrix(df.target, predY)"
   ]
  },
  {
   "cell_type": "code",
   "execution_count": null,
   "metadata": {
    "collapsed": true
   },
   "outputs": [],
   "source": []
  },
  {
   "cell_type": "code",
   "execution_count": null,
   "metadata": {
    "collapsed": true
   },
   "outputs": [],
   "source": []
  }
 ],
 "metadata": {
  "anaconda-cloud": {},
  "kernelspec": {
   "display_name": "Python 3",
   "language": "python",
   "name": "python3"
  },
  "language_info": {
   "codemirror_mode": {
    "name": "ipython",
    "version": 3
   },
   "file_extension": ".py",
   "mimetype": "text/x-python",
   "name": "python",
   "nbconvert_exporter": "python",
   "pygments_lexer": "ipython3",
   "version": "3.6.1"
  }
 },
 "nbformat": 4,
 "nbformat_minor": 1
}
